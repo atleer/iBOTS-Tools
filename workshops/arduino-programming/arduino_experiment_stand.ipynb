{
 "cells": [
  {
   "cell_type": "code",
   "execution_count": 1,
   "id": "d90ee79a",
   "metadata": {},
   "outputs": [
    {
     "name": "stdout",
     "output_type": "stream",
     "text": [
      "Overwriting auto display for cadquery Workplane and Shape\n",
      "\n",
      "Enabling jupyter_cadquery replay\n"
     ]
    }
   ],
   "source": [
    "import cadquery as cq\n",
    "from cadquery import exporters\n",
    "from jupyter_cadquery import (\n",
    "    versions,\n",
    "    show, PartGroup, Part, \n",
    "    get_viewer, close_viewer, get_viewers, close_viewers, open_viewer, set_defaults, get_defaults, open_viewer,\n",
    "    get_pick,\n",
    ")\n",
    "\n",
    "from jupyter_cadquery.replay import replay, enable_replay, disable_replay\n",
    "''\n",
    "enable_replay(False)\n",
    "\n",
    "set_defaults(\n",
    "    cad_width=640, \n",
    "    height=480, \n",
    ")"
   ]
  },
  {
   "cell_type": "code",
   "execution_count": null,
   "id": "171885ab",
   "metadata": {},
   "outputs": [],
   "source": []
  },
  {
   "cell_type": "code",
   "execution_count": null,
   "id": "60e462b6",
   "metadata": {},
   "outputs": [],
   "source": []
  },
  {
   "cell_type": "code",
   "execution_count": null,
   "id": "5d0d67fb",
   "metadata": {},
   "outputs": [],
   "source": []
  },
  {
   "cell_type": "code",
   "execution_count": 57,
   "id": "e62649ef",
   "metadata": {},
   "outputs": [
    {
     "data": {
      "application/vnd.jupyter.widget-view+json": {
       "model_id": "dfa84c8a9f3240efa8a328241e8ddc6e",
       "version_major": 2,
       "version_minor": 0
      },
      "text/plain": [
       "CadViewerWidget(anchor=None, cad_width=640, glass=False, height=480, pinning=False, theme='light', title=None,…"
      ]
     },
     "metadata": {},
     "output_type": "display_data"
    },
    {
     "data": {
      "text/html": [
       "<div></div>"
      ],
      "text/plain": [
       "<IPython.core.display.HTML object>"
      ]
     },
     "metadata": {},
     "output_type": "display_data"
    }
   ],
   "source": [
    "top_plane_width=20\n",
    "top_plane_length = 55\n",
    "base_width = 40\n",
    "a = (cq.Workplane('XY').\n",
    "    hLine(-3).\n",
    "    vLine(base_width).\n",
    "    hLine(70).\n",
    "    vLine(-top_plane_width).\n",
    "     hLine(-20)\n",
    "     .spline([(50-3,base_width-top_plane_width),\n",
    "              (45-3,base_width-top_plane_width),\n",
    "              (40-3,base_width-top_plane_width), (22,19), (-0,0)])\n",
    "     .close()\n",
    "    .extrude(top_plane_length*0.5)\n",
    "    )\n",
    "\n",
    "\n",
    "a=(a.faces('>Y').vertices('>Y and >X and >Z').workplane(centerOption=\"CenterOfBoundBox\")\n",
    " .moveTo(5,0)\n",
    "  .spline([(5,0),(25,-22),(40,-18), (70,0)])\n",
    " .lineTo(5,0)\n",
    "   .close()\n",
    "   .extrude(-50,'cut')\n",
    "   .mirror('XY', union=True)\n",
    "   \n",
    ")\n",
    "#top slot for plexiglas\n",
    "a=(a.faces('>X').workplane(centerOption=\"CenterOfBoundBox\")\n",
    "   .move(top_plane_length*.1/2,0)\n",
    "   .rect(top_plane_width,top_plane_length*0.9)\n",
    "   .extrude(-2, 'cut')\n",
    "  )\n",
    "a=(a.edges('(not |Z) and  (not|X) and (not |Y)').fillet(1.2)\n",
    "   .edges('|Z and <<Y').edges('>>X').fillet(1.2)\n",
    "# #    #.edges('|Y').edges('>>X[-2]').fillet(2)\n",
    "   )\n",
    "\n",
    "\n",
    "a"
   ]
  },
  {
   "cell_type": "code",
   "execution_count": 71,
   "id": "0032f614",
   "metadata": {},
   "outputs": [
    {
     "data": {
      "application/vnd.jupyter.widget-view+json": {
       "model_id": "42f41d9e042841e19af01ed626056b65",
       "version_major": 2,
       "version_minor": 0
      },
      "text/plain": [
       "CadViewerWidget(anchor=None, cad_width=640, glass=False, height=480, pinning=False, theme='light', title=None,…"
      ]
     },
     "metadata": {},
     "output_type": "display_data"
    },
    {
     "data": {
      "text/html": [
       "<div></div>"
      ],
      "text/plain": [
       "<IPython.core.display.HTML object>"
      ]
     },
     "metadata": {},
     "output_type": "display_data"
    }
   ],
   "source": [
    "top_plane_width=20\n",
    "top_plane_length = 55\n",
    "base_width = 40\n",
    "a = (cq.Workplane('XY').\n",
    "    hLine(-3).\n",
    "    vLine(base_width).\n",
    "    hLine(70).\n",
    "    vLine(-top_plane_width).\n",
    "     hLine(-20)\n",
    "     .spline([(50-3,base_width-top_plane_width),\n",
    "              (45-3,base_width-top_plane_width),\n",
    "              (40-3,base_width-top_plane_width), (22,19), (-0,0)])\n",
    "     .close()\n",
    "    .extrude(top_plane_length*0.5)\n",
    "    )\n",
    "\n",
    "\n",
    "a=(a.faces('>Y').vertices('>Y and >X and >Z').workplane(centerOption=\"CenterOfBoundBox\")\n",
    " .moveTo(5,0)\n",
    "  .spline([(5,0),(25,-22),(40,-18), (70,0)])\n",
    " .lineTo(5,0)\n",
    "   .close()\n",
    "   .extrude(-50,'cut')\n",
    "   .mirror('XY', union=True)\n",
    "   \n",
    ")\n",
    "\n",
    "\n",
    "#top slot for plexiglas\n",
    "a=(a.faces('>X').workplane(centerOption=\"CenterOfBoundBox\")\n",
    "   .move(top_plane_length*.1/2,0)\n",
    "   .rect(top_plane_width,top_plane_length*0.9)\n",
    "   .extrude(-2, 'cut')\n",
    "  )\n",
    "\n",
    "\n",
    "# a=(a.edges('(not |Z) and  (not|X) and (not |Y)').fillet(1.0)\n",
    "#    .edges('|Z and <<Y').edges('>>X').fillet(1.0)\n",
    "# # #    #.edges('|Y').edges('>>X[-2]').fillet(2)\n",
    "#    )\n",
    "a=(a.faces('>X').workplane(centerOption=\"CenterOfBoundBox\").hole(5,25))\n",
    "\n",
    "\n",
    "# add nut slot\n",
    "a=(a.faces('>Y').edges('>>X[3]').workplane(centerOption=\"CenterOfBoundBox\")\n",
    " .move(4,0)\n",
    " .tag(\"nutslot\")\n",
    " .rect(3.5,8, centered=[False, True])\n",
    " .extrude(-50,'cut')\n",
    ")\n",
    "\n",
    "a=a.workplaneFromTagged('nutslot').move(4,0).rect(3.5,8, centered=[False, True]).extrude(-6, combine=True)\n",
    "\n",
    "a=(a.faces('|Y').edges('<<Y[-2]').edges('>X').workplane()\n",
    "   .move(4,0)\n",
    "   .rect(3.5,8, centered=[False, True])\n",
    "   .extrude(5, combine=True)\n",
    "  )\n",
    "\n",
    "# a=(a.faces('<Y').edges('>>X[3]').workplane(centerOption=\"CenterOfBoundBox\")\n",
    "#  .move(4,0)\n",
    "#  .tag(\"nutslot\")\n",
    "#  .rect(3.5,7, centered=[False, True])\n",
    "#  .extrude(-50,combine=True)\n",
    "# )\n",
    "# a=(a.edges('(not |Z) and  (not|X) and (not |Y)').fillet(0.2)\n",
    "#    .edges('|Z and <<Y').edges('>>X').fillet(0.2)\n",
    "# # #    #.edges('|Y').edges('>>X[-2]').fillet(2)\n",
    "#    )\n",
    "a\n",
    "#exporters.export(a, 's.stl', tolerance=0.001, angularTolerance=0.05)"
   ]
  },
  {
   "cell_type": "code",
   "execution_count": 529,
   "id": "702abfcc",
   "metadata": {},
   "outputs": [],
   "source": [
    "tst=a.cut(cq.Workplane('XY').box(120,100,250, combine=True))\n",
    "\n",
    "\n",
    "tst= tst.faces('>Y').workplane().move(0,20).rect(40,20).extrude(-30, 'cut')\n",
    "\n",
    "tst= tst.faces('<Y').workplane().move(0,-20).rect(40,20).extrude(-30, 'cut')\n",
    "\n",
    "\n",
    "tst\n",
    "exporters.export(tst, 'tst.stl', tolerance=0.001, angularTolerance=0.05)"
   ]
  },
  {
   "cell_type": "code",
   "execution_count": null,
   "id": "757bc95d",
   "metadata": {},
   "outputs": [],
   "source": []
  },
  {
   "cell_type": "code",
   "execution_count": 360,
   "id": "cfba6af1",
   "metadata": {},
   "outputs": [
    {
     "data": {
      "application/vnd.jupyter.widget-view+json": {
       "model_id": "36ec9e1af8c44f8eada945ba7aabe490",
       "version_major": 2,
       "version_minor": 0
      },
      "text/plain": [
       "CadViewerWidget(anchor=None, cad_width=640, glass=False, height=480, pinning=False, theme='light', title=None,…"
      ]
     },
     "metadata": {},
     "output_type": "display_data"
    },
    {
     "data": {
      "text/html": [
       "<div></div>"
      ],
      "text/plain": [
       "<IPython.core.display.HTML object>"
      ]
     },
     "metadata": {},
     "output_type": "display_data"
    }
   ],
   "source": [
    "\n",
    "\n",
    "a=(a.faces('>X').workplane(centerOption=\"CenterOfBoundBox\")\n",
    "   .move(top_plane_length*.1/2,0)\n",
    "   .rect(top_plane_width,top_plane_length*0.9)\n",
    "   .extrude(-2, 'cut')\n",
    "  )\n",
    "\n",
    "#a=(a.faces('>X').workplane(centerOption=\"CenterOfBoundBox\").hole(5,25))\n",
    "\n",
    "a=(a.edges('(not |Z) and  (not|X) and (not |Y)').fillet(1.4)\n",
    "   .edges('|Z and <<Y').edges('>>X').fillet(1.4)\n",
    "# #    #.edges('|Y').edges('>>X[-2]').fillet(2)\n",
    "   )\n",
    "\n",
    "a#.edges('(not |Z) and  (not|X) and (not |Y)')"
   ]
  },
  {
   "cell_type": "code",
   "execution_count": 331,
   "id": "32e5348c",
   "metadata": {},
   "outputs": [
    {
     "data": {
      "text/plain": [
       "2.75"
      ]
     },
     "execution_count": 331,
     "metadata": {},
     "output_type": "execute_result"
    }
   ],
   "source": [
    "top_plane_length*.1/2"
   ]
  },
  {
   "cell_type": "code",
   "execution_count": null,
   "id": "a6cd5649",
   "metadata": {},
   "outputs": [],
   "source": []
  }
 ],
 "metadata": {
  "kernelspec": {
   "display_name": "Python 3 (ipykernel)",
   "language": "python",
   "name": "python3"
  },
  "language_info": {
   "codemirror_mode": {
    "name": "ipython",
    "version": 3
   },
   "file_extension": ".py",
   "mimetype": "text/x-python",
   "name": "python",
   "nbconvert_exporter": "python",
   "pygments_lexer": "ipython3",
   "version": "3.10.13"
  }
 },
 "nbformat": 4,
 "nbformat_minor": 5
}
