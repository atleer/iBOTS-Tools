{
 "cells": [
  {
   "cell_type": "markdown",
   "metadata": {},
   "source": [
    "# Session 4 - More Functions and Print Statements\n"
   ]
  },
  {
   "cell_type": "markdown",
   "metadata": {},
   "source": [
    "- print basics \n",
    "- formatted print strings \n",
    "- functions that return something: number from temperature sensor, formatted string  \n",
    "- "
   ]
  },
  {
   "cell_type": "markdown",
   "metadata": {},
   "source": [
    "## Learning Goals \n",
    "\n",
    "- A\n",
    "- B\n"
   ]
  },
  {
   "cell_type": "markdown",
   "metadata": {},
   "source": [
    "## Circuit\n",
    "\n",
    "For this session we will be using an analogue temperature sensor connected to pin A0 of the Arduino\n",
    "\n",
    "| Component    | Pin |\n",
    "| -------- | ------- |\n",
    "| Temperature Sensor Output    |  A0  |\n"
   ]
  },
  {
   "cell_type": "markdown",
   "metadata": {},
   "source": [
    "## Exercises \n",
    "\n",
    "\n",
    "#### Example Exercise\n",
    "\n",
    "The code below prints \"I'm alive!\" to the serial console when the Arduino is turned on. Write a program that prints \"I'm still alive!\" every 2 seconds\n",
    "\n",
    "```\n",
    "#include <Arduino.h>\n",
    "\n",
    "void setup() {\n",
    "  // open a serial connection with baud rate (bits per second) of 9600\n",
    "  Serial.begin(9600);\n",
    "\n",
    "  Serial.println(\"I'm alive!\");\n",
    "}\n",
    "\n",
    "void loop() {\n",
    "  \n",
    "}\n",
    "\n",
    "\n",
    "```"
   ]
  },
  {
   "cell_type": "raw",
   "metadata": {},
   "source": [
    "#include <Arduino.h>\n",
    "\n",
    "void setup() {\n",
    "  // open a serial connection with baud rate (bits per second) of 9600\n",
    "  Serial.begin(9600);\n",
    "\n",
    "  Serial.println(\"I'm alive!\");\n",
    "}\n",
    "\n",
    "void loop() {\n",
    "  Serial.println(\"I'm still alive!\");\n",
    "  delay(2000);\n",
    "}"
   ]
  },
  {
   "cell_type": "markdown",
   "metadata": {},
   "source": [
    "**Ex. 1** Write a program that prints the number of times the `loop` function has been called. Introduce a 2 second delay into your `loop` function to avoid printing too much."
   ]
  },
  {
   "cell_type": "raw",
   "metadata": {},
   "source": [
    "#include <Arduino.h>\n",
    "\n",
    "void setup() {\n",
    "  // open a serial connection with baud rate (bits per second) of 9600\n",
    "  Serial.begin(9600);\n",
    "\n",
    "  Serial.println(\"I'm alive!\");\n",
    "}\n",
    "\n",
    "int loopCounter = 0;\n",
    "void loop() {\n",
    "  Serial.println(loopCounter);\n",
    "  loopCounter++;\n",
    "  delay(2000);\n",
    "}"
   ]
  },
  {
   "cell_type": "markdown",
   "metadata": {},
   "source": [
    "**Ex. 2** Alter your code from the last exercise to use `Serial.print` instead of `Serial.println`. What is the difference? "
   ]
  },
  {
   "cell_type": "raw",
   "metadata": {},
   "source": [
    "#include <Arduino.h>\n",
    "\n",
    "void setup() {\n",
    "  // open a serial connection with baud rate (bits per second) of 9600\n",
    "  Serial.begin(9600);\n",
    "\n",
    "  Serial.print(\"I'm alive!\");\n",
    "}\n",
    "\n",
    "int loopCounter = 0;\n",
    "void loop() {\n",
    "  Serial.print(loopCounter);\n",
    "  loopCounter++;\n",
    "  delay(2000);\n",
    "}"
   ]
  },
  {
   "cell_type": "markdown",
   "metadata": {},
   "source": [
    "**Ex. 3** Well, that doesn't look so good. We can use escape sequences to format the output. After each `Serial.print`, add `Serial.print(\"\\t\")`. How does that change the output?"
   ]
  },
  {
   "cell_type": "raw",
   "metadata": {},
   "source": [
    "\n",
    "void setup() {\n",
    "  // open a serial connection with baud rate (bits per second) of 9600\n",
    "  Serial.begin(9600);\n",
    "\n",
    "  Serial.print(\"I'm alive!\");\n",
    "}\n",
    "\n",
    "int loopCounter = 0;\n",
    "void loop() {\n",
    "  Serial.print(loopCounter);\n",
    "  Serial.print(\"\\t\");\n",
    "  loopCounter++;\n",
    "  delay(2000);\n",
    "}"
   ]
  },
  {
   "cell_type": "markdown",
   "metadata": {},
   "source": [
    "**Ex.4** That's better! Let's explore more escape sequences. What happens when `\\n` is printed? "
   ]
  },
  {
   "cell_type": "raw",
   "metadata": {},
   "source": [
    "#include <Arduino.h>\n",
    "\n",
    "void setup() {\n",
    "  // open a serial connection with baud rate (bits per second) of 9600\n",
    "  Serial.begin(9600);\n",
    "\n",
    "  Serial.print(\"I'm alive!\");\n",
    "}\n",
    "\n",
    "int loopCounter = 0;\n",
    "void loop() {\n",
    "  Serial.print(loopCounter);\n",
    "  Serial.print(\"\\n\");\n",
    "  loopCounter++;\n",
    "  delay(2000);\n",
    "}"
   ]
  },
  {
   "cell_type": "markdown",
   "metadata": {},
   "source": [
    "**Ex. 5** What does `\\r` do?"
   ]
  },
  {
   "cell_type": "raw",
   "metadata": {},
   "source": [
    "#include <Arduino.h>\n",
    "\n",
    "void setup() {\n",
    "  // open a serial connection with baud rate (bits per second) of 9600\n",
    "  Serial.begin(9600);\n",
    "\n",
    "  Serial.print(\"I'm alive!\");\n",
    "}\n",
    "\n",
    "int loopCounter = 0;\n",
    "void loop() {\n",
    "  Serial.print(loopCounter);\n",
    "  Serial.print(\"\\r\");\n",
    "  loopCounter++;\n",
    "  delay(2000);\n",
    "}"
   ]
  },
  {
   "cell_type": "markdown",
   "metadata": {},
   "source": [
    "**Ex. 6** Use `Serial.print`, `Serial.println` and escape sequences to make your code's output as clear as possible. **Hint-** there are no right or wrong answers here; do whatever you think is best."
   ]
  },
  {
   "cell_type": "raw",
   "metadata": {},
   "source": [
    "#include <Arduino.h>\n",
    "\n",
    "void setup() {\n",
    "  // open a serial connection with baud rate (bits per second) of 9600\n",
    "  Serial.begin(9600);\n",
    "\n",
    "  Serial.println(\"I'm alive!\");\n",
    "}\n",
    "\n",
    "int loopCounter = 0;\n",
    "void loop() {\n",
    "  Serial.print(loopCounter);\n",
    "  Serial.print(\"\\r\");\n",
    "  loopCounter++;\n",
    "  delay(2000);\n",
    "}"
   ]
  },
  {
   "cell_type": "markdown",
   "metadata": {},
   "source": [
    "**Ex. 7** Write a program that prints the analogue signal from the temperature sensor. You can change the temperature while the simulation is running by clicking on the temperature sensor and dragging the slider that appears."
   ]
  },
  {
   "cell_type": "raw",
   "metadata": {},
   "source": [
    "\n",
    "void setup() {\n",
    "  // open a serial connection with baud rate (bits per second) of 9600\n",
    "  Serial.begin(9600);\n",
    "\n",
    "  Serial.println(\"I'm alive!\");\n",
    "}\n",
    "\n",
    "int loopCounter = 0;\n",
    "const int temperatureSensor = A0;\n",
    "void loop() {\n",
    "  int analogueValue = analogRead(temperatureSensor);\n",
    "\n",
    "  Serial.println(analogueValue);\n",
    "  loopCounter++;\n",
    "  delay(2000);\n",
    "}"
   ]
  },
  {
   "cell_type": "markdown",
   "metadata": {},
   "source": [
    "**Ex. 8** The analogue signal must be converted to degrees celcius with the following formula \n",
    "\n",
    "`TemperatureInCelsius = 1 / (log(1 / (1023. / analogueInput - 1)) / 3950.0 + 1.0 / 298.15) - 273.15`\n",
    "\n",
    "where `analogueInput` is the analogue signal. \n",
    "\n",
    "Convert the analogue signal to a temperature in celsius and print the result"
   ]
  },
  {
   "cell_type": "raw",
   "metadata": {},
   "source": [
    "#include <Arduino.h>\n",
    "\n",
    "void setup() {\n",
    "  // open a serial connection with baud rate (bits per second) of 9600\n",
    "  Serial.begin(9600);\n",
    "\n",
    "  Serial.println(\"I'm alive!\");\n",
    "}\n",
    "\n",
    "int loopCounter = 0;\n",
    "const int temperatureSensor = A0;\n",
    "void loop() {\n",
    "  int analogueValue = analogRead(temperatureSensor);\n",
    "  float celsius = 1 / (log(1 / (1023. / analogueValue - 1)) / 3950 + 1.0 / 298.15) - 273.15;\n",
    "  Serial.println(celsius);\n",
    "  loopCounter++;\n",
    "  delay(2000);\n",
    "}"
   ]
  },
  {
   "cell_type": "markdown",
   "metadata": {},
   "source": [
    "**Ex. 9** Complete the function below and use it to calculate the temperature from the sensor. \n",
    "\n",
    "```\n",
    "float convertToCelcius(int analogueOutput){\n",
    "   float celsius = _________________________________;\n",
    "\n",
    "   return ___________;\n",
    "}\n",
    "```"
   ]
  },
  {
   "cell_type": "raw",
   "metadata": {},
   "source": [
    "#include <Arduino.h>\n",
    "\n",
    "void setup() {\n",
    "  // open a serial connection with baud rate (bits per second) of 9600\n",
    "  Serial.begin(9600);\n",
    "\n",
    "  Serial.println(\"I'm alive!\");\n",
    "}\n",
    "\n",
    "float convertToCelcius(int analogueOutput){\n",
    "   float celsius =  1 / (log(1 / (1023. / analogueOutput - 1)) / 3950 + 1.0 / 298.15) - 273.15;\n",
    "\n",
    "   return celsius;\n",
    "}\n",
    "\n",
    "int loopCounter = 0;\n",
    "const int temperatureSensor = A0;\n",
    "void loop() {\n",
    "  int analogueValue = analogRead(temperatureSensor);\n",
    "  float celsius = convertToCelcius(analogueValue);\n",
    "  Serial.println(celsius);\n",
    "  loopCounter++;\n",
    "  delay(2000);\n",
    "}"
   ]
  },
  {
   "cell_type": "markdown",
   "metadata": {},
   "source": [
    "**Ex. 10** Print both the analogue output of the temperature sensor and the temperature in degrees celsius on one line. **Hint-** you can convert numbers to strings and add strings together like so `String(number) + \", \"` "
   ]
  },
  {
   "cell_type": "raw",
   "metadata": {},
   "source": [
    "#include <Arduino.h>\n",
    "\n",
    "void setup() {\n",
    "  // open a serial connection with baud rate (bits per second) of 9600\n",
    "  Serial.begin(9600);\n",
    "\n",
    "  Serial.println(\"I'm alive!\");\n",
    "}\n",
    "\n",
    "float convertToCelcius(int analogueOutput){\n",
    "   float celsius =  1 / (log(1 / (1023. / analogueOutput - 1)) / 3950 + 1.0 / 298.15) - 273.15;\n",
    "\n",
    "   return celsius;\n",
    "}\n",
    "\n",
    "int loopCounter = 0;\n",
    "const int temperatureSensor = A0;\n",
    "void loop() {\n",
    "  int analogueValue = analogRead(temperatureSensor);\n",
    "  float celsius = convertToCelcius(analogueValue);\n",
    "  Serial.println(String(celsius)+ \", \"+ String(analogueValue));\n",
    "  loopCounter++;\n",
    "  delay(2000);\n",
    "}"
   ]
  },
  {
   "cell_type": "markdown",
   "metadata": {},
   "source": [
    "**Ex. 11** Write a function that takes as inputs the temperature in celcius and the analogue output of the sensor and returns a string with the two numbers separated by a comma. Use this function to print the values."
   ]
  },
  {
   "cell_type": "raw",
   "metadata": {},
   "source": [
    "#include <Arduino.h>\n",
    "\n",
    "void setup() {\n",
    "  // open a serial connection with baud rate (bits per second) of 9600\n",
    "  Serial.begin(9600);\n",
    "\n",
    "  Serial.println(\"I'm alive!\");\n",
    "}\n",
    "\n",
    "float convertToCelcius(int analogueOutput){\n",
    "   float celsius =  1 / (log(1 / (1023. / analogueOutput - 1)) / 3950 + 1.0 / 298.15) - 273.15;\n",
    "\n",
    "   return celsius;\n",
    "}\n",
    "\n",
    "String formatValues(float temperature, int analogueOutput){\n",
    "  String formattedString = String(temperature) + \", \"+ String(analogueOutput);\n",
    "\n",
    "  return formattedString;\n",
    "}\n",
    "\n",
    "int loopCounter = 0;\n",
    "const int temperatureSensor = A0;\n",
    "void loop() {\n",
    "  int analogueValue = analogRead(temperatureSensor);\n",
    "  float celsius = convertToCelcius(analogueValue);\n",
    "  Serial.println(formatValues(celsius, analogueValue));\n",
    "  loopCounter++;\n",
    "  delay(2000);\n",
    "}"
   ]
  },
  {
   "cell_type": "markdown",
   "metadata": {},
   "source": [
    "**Ex. 12** Write another function that produces a JSON formatted string like so:\n",
    "\n",
    "`{ \"temperature:\" 23.99, \"analogue value:\" 523 }`\n",
    "\n",
    "and use this function to print JSON formatted strings. **Hint-** use `\\\" to put quotation marks inside a String`"
   ]
  },
  {
   "cell_type": "raw",
   "metadata": {},
   "source": [
    "#include <Arduino.h>\n",
    "\n",
    "void setup() {\n",
    "  // open a serial connection with baud rate (bits per second) of 9600\n",
    "  Serial.begin(9600);\n",
    "\n",
    "  Serial.println(\"I'm alive!\");\n",
    "}\n",
    "\n",
    "float convertToCelcius(int analogueOutput){\n",
    "   float celsius =  1 / (log(1 / (1023. / analogueOutput - 1)) / 3950 + 1.0 / 298.15) - 273.15;\n",
    "\n",
    "   return celsius;\n",
    "}\n",
    "\n",
    "\n",
    "String JSONformatValues(float temperature, int analogueOutput){\n",
    "  String JSONString = \"{ \\\"temperature:\\\" \" + String(temperature) + \", \\\"analogue value:\\\" \"+ String(analogueOutput) +\"}\";\n",
    "\n",
    "  return JSONString;\n",
    "}\n",
    "\n",
    "int loopCounter = 0;\n",
    "const int temperatureSensor = A0;\n",
    "void loop() {\n",
    "  int analogueValue = analogRead(temperatureSensor);\n",
    "  float celsius = convertToCelcius(analogueValue);\n",
    "  Serial.println(JSONformatValues(celsius, analogueValue));\n",
    "  loopCounter++;\n",
    "  delay(2000);\n",
    "}"
   ]
  },
  {
   "cell_type": "markdown",
   "metadata": {},
   "source": [
    "**Ex. 13**  Write a new function called `printTemperature` that:\n",
    "- reads the analogue value from the temperature sensor\n",
    "- converts the analogue value into degrees celcius\n",
    "- formats the values to a JSON string\n",
    "- prints the JSON string\n",
    "\n",
    "Call `printTemperature` from within your loop function like so: \n",
    "\n",
    "```\n",
    "void loop() {\n",
    "  printTemperature();\n",
    "}\n",
    "```\n",
    "\n",
    "**Hint-** think about what, if anything `printTemperature` returns and define the function accordingly"
   ]
  },
  {
   "cell_type": "raw",
   "metadata": {},
   "source": [
    "#include <Arduino.h>\n",
    "\n",
    "void setup() {\n",
    "  // open a serial connection with baud rate (bits per second) of 9600\n",
    "  Serial.begin(9600);\n",
    "\n",
    "  Serial.println(\"I'm alive!\");\n",
    "}\n",
    "\n",
    "float convertToCelcius(int analogueOutput){\n",
    "   float celsius =  1 / (log(1 / (1023. / analogueOutput - 1)) / 3950 + 1.0 / 298.15) - 273.15;\n",
    "\n",
    "   return celsius;\n",
    "}\n",
    "\n",
    "\n",
    "String JSONformatValues(float temperature, int analogueOutput){\n",
    "  String JSONString = \"{ \\\"temperature:\\\" \" + String(temperature) + \", \\\"analogue value:\\\" \"+ String(analogueOutput) +\"}\";\n",
    "\n",
    "  return JSONString;\n",
    "}\n",
    "\n",
    "\n",
    "void printTemperature(){\n",
    "  const int temperatureSensor = A0;\n",
    "  int analogueValue = analogRead(temperatureSensor);\n",
    "  float celsius = convertToCelcius(analogueValue);\n",
    "  Serial.println(JSONformatValues(celsius, analogueValue));\n",
    "  delay(2000);\n",
    "}\n",
    "\n",
    "void loop() {\n",
    "  printTemperature();\n",
    "}"
   ]
  }
 ],
 "metadata": {
  "kernelspec": {
   "display_name": "Python 3",
   "language": "python",
   "name": "python3"
  },
  "language_info": {
   "codemirror_mode": {
    "name": "ipython",
    "version": 3
   },
   "file_extension": ".py",
   "mimetype": "text/x-python",
   "name": "python",
   "nbconvert_exporter": "python",
   "pygments_lexer": "ipython3",
   "version": "3.8.8"
  }
 },
 "nbformat": 4,
 "nbformat_minor": 2
}
