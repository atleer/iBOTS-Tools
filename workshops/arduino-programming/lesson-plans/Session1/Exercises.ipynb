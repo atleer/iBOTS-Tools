{
 "cells": [
  {
   "cell_type": "markdown",
   "metadata": {},
   "source": [
    "## Session 1 - The Anatomy of Arduino Code in a Flash\n",
    "\n",
    "The simplest Arduino programm that you can write looks like this \n",
    "\n",
    "```\n",
    "#include <Arduino.h>\n",
    "\n",
    "void setup() {\n",
    "\n",
    "}\n",
    "\n",
    "void loop() {\n",
    "\n",
    "}\n",
    "```\n",
    "\n",
    "In this session we will understand how this structure works, as well as learn to save projects with Github.\n"
   ]
  },
  {
   "cell_type": "markdown",
   "metadata": {},
   "source": [
    "## Circuit\n",
    "\n",
    "For this session we will be using 3 LEDs connected to the Arduino like so\n",
    "\n",
    "| Component    | Pin |\n",
    "| -------- | ------- |\n",
    "| Red LED  |  3   |\n",
    "| Green LED |  4    |\n",
    "| Purple LED    |  5   |\n"
   ]
  },
  {
   "cell_type": "markdown",
   "metadata": {},
   "source": [
    "## Setup "
   ]
  },
  {
   "cell_type": "markdown",
   "metadata": {},
   "source": [
    "### Setting up a Github Repository\n",
    "  \n",
    "1) Make an empty folder that will be your new repository\n",
    "2) Open the new folder in VS code. File --> Open Folder\n",
    "3) Make a file called README.md and write a short description of your repository\n",
    "4) Go to source control menu in VS Code\n",
    "5) Press Initialise Repository Button then Publish Branch\n",
    "   \n",
    "  \n",
    "  \n",
    "   \n",
    "### Download Exercises from Github\n",
    "    \n",
    "Download the zipfile from Github repo: https://github.com/bearums/arduino-workshop.git\n",
    "    \n",
    "and unzip files into your new local repository"
   ]
  },
  {
   "cell_type": "markdown",
   "metadata": {},
   "source": [
    "### Make your first commit\n",
    "\n",
    "In Git lingo uploading your files to github is known as a commit. A commit is a tiny checkpoint in your work - it is good practice to make regular commits.\n",
    "\n",
    "Make your first commit by going to the source control pane on the left in VS code. \n",
    "\n",
    "Enter a commit message - this is a short note to yourself describing the changes you have made. Note that you *must* write something!\n",
    "\n",
    "Press the commit button, and lastly the sync changes button. This is what actually beams your changes up to Github.\n",
    "\n",
    "We will be using Git to track our progress during the workshop. \n",
    "\n",
    "Make sure to commit after every exercise you complete. \n"
   ]
  },
  {
   "cell_type": "markdown",
   "metadata": {},
   "source": [
    "## Exercises\n",
    "\n",
    "Arduino code has two basic blocks : setup and loop. They must be present in every Arduino program.\n",
    "\n",
    "In this section, we will discover what each of them does\n",
    "\n",
    "**Useful Code** \n",
    "\n",
    "| Code    | Description |\n",
    "| -------- | ------- |\n",
    "| pinMode(3, OUTPUT);  |  set pin 3 to be an output   |\n",
    "| digitalWrite(3, HIGH); |    apply a voltage to pin 3, ie. set it to high  |\n",
    "| digitalWrite(8, LOW);    |  apply no voltage to pin 8, ie. set it to low   |\n",
    "| delay(5000);    |   wait 5000ms or 5s   |\n",
    "\n"
   ]
  },
  {
   "cell_type": "markdown",
   "metadata": {},
   "source": [
    "### The Setup Block ###"
   ]
  },
  {
   "cell_type": "markdown",
   "metadata": {},
   "source": [
    "\n",
    "The code for the first simulation is below for your reference. Run the simulation to see what it does!"
   ]
  },
  {
   "cell_type": "raw",
   "metadata": {},
   "source": [
    "#include <Arduino.h>\n",
    "\n",
    "void setup() {\n",
    "  pinMode(3, OUTPUT); // set pin 3 as an output\n",
    "  digitalWrite(3, HIGH); // turn pin 3 to high\n",
    "}\n",
    "\n",
    "void loop() {\n",
    "\n",
    "}"
   ]
  },
  {
   "cell_type": "markdown",
   "metadata": {},
   "source": [
    "#### Example Exercise\n",
    "Change the code in Ex1/src/main.cpp to the following. What happens? \n",
    "\n",
    "Don't forget to make a git commit! As the commit message you can use the exercise number, or whatever makes sense to you."
   ]
  },
  {
   "cell_type": "raw",
   "metadata": {},
   "source": [
    "#include <Arduino.h>\n",
    "\n",
    "void setup() {\n",
    "  pinMode(4, OUTPUT); \n",
    "  digitalWrite(4, HIGH); \n",
    "}\n",
    "\n",
    "void loop() {\n",
    "\n",
    "}"
   ]
  },
  {
   "cell_type": "markdown",
   "metadata": {},
   "source": [
    "**Exercise 1**\n",
    "Alter your code to make the LED on pin 5 light up. You may write the code in the cell below for your reference, but remember to put it in Ex1/src/main.cpp to run it!"
   ]
  },
  {
   "cell_type": "raw",
   "metadata": {},
   "source": [
    "#include <Arduino.h>\n",
    "\n",
    "void setup() {\n",
    "  pinMode(5, OUTPUT); \n",
    "  digitalWrite(5, HIGH); \n",
    "}\n",
    "\n",
    "void loop() {\n",
    "\n",
    "}"
   ]
  },
  {
   "cell_type": "markdown",
   "metadata": {},
   "source": [
    "**Exercise 2**\n",
    "Make the LEDs on pins 3 and 4 light up"
   ]
  },
  {
   "cell_type": "raw",
   "metadata": {},
   "source": [
    "#include <Arduino.h>\n",
    "\n",
    "void setup() {\n",
    "  pinMode(4, OUTPUT); \n",
    "  digitalWrite(4, HIGH); \n",
    "  pinMode(5, OUTPUT); \n",
    "  digitalWrite(5, HIGH); \n",
    "}\n",
    "\n",
    "void loop() {\n",
    "\n",
    "}"
   ]
  },
  {
   "cell_type": "markdown",
   "metadata": {},
   "source": [
    "**Exercise 3**\n",
    "Edit the code below so that pin 5 is set to HIGH and then LOW. What happens? And how many times does it happen?"
   ]
  },
  {
   "cell_type": "raw",
   "metadata": {},
   "source": [
    "#include <Arduino.h>\n",
    "\n",
    "void setup() {\n",
    "  pinMode(_XXX_, OUTPUT); \n",
    "  digitalWrite(_XXX_, HIGH); \n",
    "  delay(2000); // pause for 2000ms ie. 2s\n",
    "  digitalWrite(_XXX_, LOW); \n",
    "}\n",
    "\n",
    "void loop() {\n",
    "\n",
    "}"
   ]
  },
  {
   "cell_type": "markdown",
   "metadata": {},
   "source": [
    "**Exercise 4**\n",
    "Alter the code below so that the LED on pin 3 flashes for 1s and then the LED on pin 4 flashes for 0.5s\n",
    "\n",
    "Did you remember to make a commit?"
   ]
  },
  {
   "cell_type": "raw",
   "metadata": {},
   "source": [
    "#include <Arduino.h>\n",
    "\n",
    "void setup() {\n",
    "  pinMode(_XXX_, OUTPUT); \n",
    "  digitalWrite(_XXX_, HIGH); \n",
    "  delay(_XXX_); \n",
    "  digitalWrite(_XXX_, LOW);\n",
    "\n",
    "  pinMode(_XXX_, OUTPUT); \n",
    "  digitalWrite(_XXX_, HIGH); \n",
    "  delay(_XXX_); \n",
    "  digitalWrite(_XXX_, LOW); \n",
    "}\n",
    "\n",
    "void loop() {\n",
    "\n",
    "}"
   ]
  },
  {
   "cell_type": "markdown",
   "metadata": {},
   "source": [
    " **Exercise 5**\n",
    "Write a program that turns on each LED for 1s in sequence, then lights all of them continuously."
   ]
  },
  {
   "cell_type": "raw",
   "metadata": {},
   "source": [
    "#include <Arduino.h>\n",
    "\n",
    "void setup() {\n",
    "  pinMode(3, OUTPUT); \n",
    "  pinMode(4, OUTPUT); \n",
    "  pinMode(5, OUTPUT); \n",
    "\n",
    "  digitalWrite(3, HIGH); \n",
    "  delay(1000);\n",
    "  digitalWrite(3, LOW); \n",
    "\n",
    "  digitalWrite(4, HIGH); \n",
    "  delay(1000);\n",
    "  digitalWrite(4, LOW); \n",
    "\n",
    "  digitalWrite(5, HIGH); \n",
    "  delay(1000);\n",
    "  digitalWrite(5, LOW); \n",
    "\n",
    "  digitalWrite(3, HIGH); \n",
    "  digitalWrite(4, HIGH); \n",
    "  digitalWrite(5, HIGH); \n",
    "}\n",
    "\n",
    "void loop() {\n",
    "\n",
    "}"
   ]
  },
  {
   "cell_type": "markdown",
   "metadata": {},
   "source": [
    "**Exercise 6**\n",
    "In Morse code the international distress signal \"SOS\" is made by three short signals followed by three long signals and finally three short signals.\n",
    "\n",
    "\n",
    "Write a program that flashes the SOS signal in morse code on one of the LEDs. \n",
    "\n",
    "**Hint** the code below produces one short flash on pin 3\n",
    "\n",
    "```\n",
    "digitalWrite(3, HIGH); \n",
    "delay(200);\n",
    "digitalWrite(3, LOW);\n",
    "delay(200);\n",
    "```"
   ]
  },
  {
   "cell_type": "raw",
   "metadata": {},
   "source": [
    "#include <Arduino.h>\n",
    "\n",
    "void setup() {\n",
    "  pinMode(3, OUTPUT); \n",
    "  \n",
    "\n",
    "  digitalWrite(3, HIGH); \n",
    "  delay(200);\n",
    "  digitalWrite(3, LOW);\n",
    "  delay(200);\n",
    "  digitalWrite(3, HIGH); \n",
    "  delay(200);\n",
    "  digitalWrite(3, LOW); \n",
    "  delay(200);\n",
    "  digitalWrite(3, HIGH); \n",
    "  delay(200);\n",
    "  digitalWrite(3, LOW); \n",
    "  delay(1000);\n",
    "\n",
    "  digitalWrite(3, HIGH); \n",
    "  delay(500);\n",
    "  digitalWrite(3, LOW);\n",
    "  delay(500);\n",
    "  digitalWrite(3, HIGH); \n",
    "  delay(500);\n",
    "  digitalWrite(3, LOW); \n",
    "  delay(500);\n",
    "  digitalWrite(3, HIGH); \n",
    "  delay(500);\n",
    "  digitalWrite(3, LOW); \n",
    "  delay(500);\n",
    "\n",
    "  digitalWrite(3, HIGH); \n",
    "  delay(200);\n",
    "  digitalWrite(3, LOW);\n",
    "  delay(200);\n",
    "  digitalWrite(3, HIGH); \n",
    "  delay(200);\n",
    "  digitalWrite(3, LOW); \n",
    "  delay(200);\n",
    "  digitalWrite(3, HIGH); \n",
    "  delay(200);\n",
    "  digitalWrite(3, LOW); \n",
    "}\n",
    "\n",
    "void loop() {\n",
    "\n",
    "}"
   ]
  },
  {
   "cell_type": "markdown",
   "metadata": {},
   "source": [
    "## The Loop Block ##\n",
    "\n",
    "The setup block excecutes once whenever the Arduino is turned on. It is used for defining parameters and performing any \"setup\" operations required to accomplish your task.\n",
    "\n",
    "Now let's look into the loop block."
   ]
  },
  {
   "cell_type": "markdown",
   "metadata": {},
   "source": [
    "**Exercise 7**\n",
    "Run the code below. What does it do?\n",
    "\n",
    "Be sure to make a commit!"
   ]
  },
  {
   "cell_type": "raw",
   "metadata": {},
   "source": [
    "#include <Arduino.h>\n",
    "\n",
    "void setup() {\n",
    "  pinMode(3, OUTPUT); \n",
    "}\n",
    "\n",
    "void loop() {\n",
    "  digitalWrite(3, HIGH); \n",
    "  delay(1000); // pause for 1000ms ie. 1s\n",
    "  digitalWrite(3, LOW); \n",
    "  delay(1000); // pause for 1000ms ie. 1s\n",
    "}"
   ]
  },
  {
   "cell_type": "markdown",
   "metadata": {},
   "source": [
    "**Exercise 8**\n",
    "Reduce both delay commands from 1000ms to 500ms and rerun the simulation. What happens?"
   ]
  },
  {
   "cell_type": "raw",
   "metadata": {},
   "source": [
    "#include <Arduino.h>\n",
    "\n",
    "void setup() {\n",
    "  pinMode(3, OUTPUT); \n",
    "}\n",
    "\n",
    "void loop() {\n",
    "  digitalWrite(3, HIGH); \n",
    "  delay(500); \n",
    "  digitalWrite(3, LOW); \n",
    "  delay(500); \n",
    "}"
   ]
  },
  {
   "cell_type": "markdown",
   "metadata": {},
   "source": [
    "**Exercise 9**\n",
    "Write a program that flashes the LED on pin 3 5 times per second"
   ]
  },
  {
   "cell_type": "raw",
   "metadata": {},
   "source": [
    "#include <Arduino.h>\n",
    "\n",
    "void setup() {\n",
    "  pinMode(3, OUTPUT); \n",
    "}\n",
    "\n",
    "void loop() {\n",
    "  digitalWrite(3, HIGH); \n",
    "  delay(100); \n",
    "  digitalWrite(3, LOW); \n",
    "  delay(100); \n",
    "}"
   ]
  },
  {
   "cell_type": "markdown",
   "metadata": {},
   "source": [
    "**Exercise 10**\n",
    "Write a program that flashes the LED on pin 4 5 times per second\n",
    "\n",
    "Don't forget to keep comitting regularly!"
   ]
  },
  {
   "cell_type": "raw",
   "metadata": {},
   "source": [
    "#include <Arduino.h>\n",
    "\n",
    "void setup() {\n",
    "  pinMode(4, OUTPUT); \n",
    "}\n",
    "\n",
    "void loop() {\n",
    "  digitalWrite(4, HIGH); \n",
    "  delay(100); \n",
    "  digitalWrite(4, LOW); \n",
    "  delay(100); \n",
    "}"
   ]
  },
  {
   "cell_type": "markdown",
   "metadata": {},
   "source": [
    "**Exercise 11**\n",
    "Make all three LEDs flash at once "
   ]
  },
  {
   "cell_type": "raw",
   "metadata": {},
   "source": [
    "#include <Arduino.h>\n",
    "\n",
    "void setup() {\n",
    "  pinMode(3, OUTPUT); \n",
    "  pinMode(4, OUTPUT); \n",
    "  pinMode(5, OUTPUT); \n",
    "}\n",
    "\n",
    "void loop() {\n",
    "  digitalWrite(3, HIGH); \n",
    "  digitalWrite(4, HIGH); \n",
    "  digitalWrite(5, HIGH); \n",
    "  delay(1000); // pause for 1000ms ie. 1s\n",
    "  digitalWrite(3, LOW); \n",
    "  digitalWrite(4, LOW); \n",
    "  digitalWrite(5, LOW); \n",
    "  delay(1000); // pause for 1000ms ie. 1s\n",
    "}"
   ]
  },
  {
   "cell_type": "markdown",
   "metadata": {},
   "source": [
    "**Exercise 12**\n",
    "Write a program that flashes the LEDs on pins 3 and 5 in an alternating fashion"
   ]
  },
  {
   "cell_type": "raw",
   "metadata": {},
   "source": [
    "#include <Arduino.h>\n",
    "\n",
    "void setup() {\n",
    "  pinMode(3, OUTPUT); \n",
    "  pinMode(5, OUTPUT); \n",
    "}\n",
    "\n",
    "void loop() {\n",
    "  digitalWrite(3, HIGH); \n",
    "  delay(1000); // pause for 1000ms ie. 1s\n",
    "  digitalWrite(3, LOW); \n",
    "  digitalWrite(5, HIGH); \n",
    "  delay(1000); // pause for 1000ms ie. 1s\n",
    "  digitalWrite(5, LOW); \n",
    "}"
   ]
  },
  {
   "cell_type": "markdown",
   "metadata": {},
   "source": [
    "**Exercise 13**\n",
    "Now flash the LEDs on pins 3 and 5 in an alternating fashion while keeping the other LED illuminated"
   ]
  },
  {
   "cell_type": "raw",
   "metadata": {},
   "source": [
    "#include <Arduino.h>\n",
    "\n",
    "void setup() {\n",
    "  pinMode(3, OUTPUT); \n",
    "  pinMode(4, OUTPUT); \n",
    "  pinMode(5, OUTPUT); \n",
    "\n",
    "  digitalWrite(4, HIGH); \n",
    "}\n",
    "\n",
    "void loop() {\n",
    "  digitalWrite(3, HIGH); \n",
    "  delay(1000); // pause for 1000ms ie. 1s\n",
    "  digitalWrite(3, LOW); \n",
    "  digitalWrite(5, HIGH); \n",
    "  delay(1000); // pause for 1000ms ie. 1s\n",
    "  digitalWrite(5, LOW); \n",
    "}"
   ]
  },
  {
   "cell_type": "markdown",
   "metadata": {},
   "source": [
    "**Exercise 14**\n",
    "Write a program that lights up the LED on pin 3 for 1s then turns on the LED on pin 4 for 2s then turns on the LED on pin 5 for 3s"
   ]
  },
  {
   "cell_type": "raw",
   "metadata": {},
   "source": [
    "#include <Arduino.h>\n",
    "\n",
    "void setup() {\n",
    "  pinMode(3, OUTPUT); \n",
    "  pinMode(4, OUTPUT); \n",
    "  pinMode(5, OUTPUT); \n",
    "\n",
    "}\n",
    "\n",
    "void loop() {\n",
    "  digitalWrite(3, HIGH); \n",
    "  delay(1000); \n",
    "  digitalWrite(3, LOW); \n",
    "\n",
    "  digitalWrite(4, HIGH); \n",
    "  delay(2000);\n",
    "  digitalWrite(4, LOW); \n",
    "\n",
    "  digitalWrite(5, HIGH); \n",
    "  delay(3000);\n",
    "  digitalWrite(5, LOW); \n",
    "}"
   ]
  }
 ],
 "metadata": {
  "kernelspec": {
   "display_name": "Python 3",
   "language": "python",
   "name": "python3"
  },
  "language_info": {
   "codemirror_mode": {
    "name": "ipython",
    "version": 3
   },
   "file_extension": ".py",
   "mimetype": "text/x-python",
   "name": "python",
   "nbconvert_exporter": "python",
   "pygments_lexer": "ipython3",
   "version": "3.8.8"
  }
 },
 "nbformat": 4,
 "nbformat_minor": 2
}
