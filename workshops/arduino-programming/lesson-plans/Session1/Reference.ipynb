{
 "cells": [
  {
   "cell_type": "markdown",
   "metadata": {},
   "source": [
    "# Flashing LEDs: Intro to the Arduino Library and Framework\n",
    "\n",
    "| Code | Description |\n",
    "| :-- | :-- |\n",
    "| `void setup(){}` | The function that is run **once** automatically when the device starts. |\n",
    "| `void loop(){}` |  The function that is run **constantly** automaticaly for the rest of time |\n",
    "| `#include <Arduino.h>` | Includes the Arduino functions for controlling the device. |\n",
    "| `delay(500)` | Pause the program for 500 milliseconds. |\n",
    "| `pinMode(1, OUTPUT)` |  Initializes pin number 1 in \"output\" mode (to control something outside) |\n",
    "| `pinMode(1, INPUT)` |  Initializes pin number 1 in \"output\" mode (to sense something outside) |\n",
    "| `digitalWrite(1, HIGH)` | Sets digital output pin 1 to HIGH (as opposed to LOW) |\n",
    "\n"
   ]
  }
 ],
 "metadata": {
  "kernelspec": {
   "display_name": "Python 3",
   "language": "python",
   "name": "python3"
  },
  "language_info": {
   "codemirror_mode": {
    "name": "ipython",
    "version": 3
   },
   "file_extension": ".py",
   "mimetype": "text/x-python",
   "name": "python",
   "nbconvert_exporter": "python",
   "pygments_lexer": "ipython3",
   "version": "3.8.8"
  }
 },
 "nbformat": 4,
 "nbformat_minor": 2
}
