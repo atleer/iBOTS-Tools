{
 "cells": [
  {
   "cell_type": "markdown",
   "metadata": {},
   "source": [
    "# Session 2 - What Would Happen If...?\n",
    "\n",
    "In this session we will learn to control the flow of programs with if statements, and to make code more adaptable by using variables.\n"
   ]
  },
  {
   "cell_type": "markdown",
   "metadata": {},
   "source": [
    "| Code | Description |\n",
    "| :-- | :-- |\n",
    "| `const int redLED = 3;` |  A never-changing value |\n",
    "| `bool isOn = true` | A logical value |\n",
    "| `pinMode(3, OUTPUT)` | Set pin 3 to OUTPUT mode |\n",
    "| `pinMode(3, INPUT)` | Set pin 3 to INPUT mode |\n",
    "| `pinMode(3, INPUT_PULLUP)` | Set pin 3 to INPUT_PULLUP mode (used for some circuits)|\n",
    "| `int pinState = digitalRead(3)` | Gets the state of digiatal pin 3 (either HIGH or LOW, same as 1 or 0) |\n",
    "| `delay(50)` | Pause the program for 50 milliseconds. |\n",
    "| `if (x == 3) {}` |  |\n",
    "| `if (x == 3) {} else  {}` |  |\n",
    "| `if (x == 3) {} else if {} else {}` |  |"
   ]
  }
 ],
 "metadata": {
  "kernelspec": {
   "display_name": "Python 3",
   "language": "python",
   "name": "python3"
  },
  "language_info": {
   "codemirror_mode": {
    "name": "ipython",
    "version": 3
   },
   "file_extension": ".py",
   "mimetype": "text/x-python",
   "name": "python",
   "nbconvert_exporter": "python",
   "pygments_lexer": "ipython3",
   "version": "3.8.8"
  }
 },
 "nbformat": 4,
 "nbformat_minor": 2
}
