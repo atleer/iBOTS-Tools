{
 "cells": [
  {
   "cell_type": "markdown",
   "metadata": {},
   "source": [
    "# Session 2 - What Would Happen If...?\n",
    "\n",
    "In this session we will learn to control the flow of programs with if statements, and to make code more adaptable by using variables.\n",
    "\n",
    "\n",
    "\n",
    "\n",
    "| Code    | Description |\n",
    "| -------- | ------- |\n",
    "| pinMode(3, OUTPUT);  |     |\n",
    "| digitalWrite(3, HIGH); |      |\n",
    "| digitalWrite(8, LOW);    |     |\n",
    "| delay(5000);    |      |\n",
    "\n"
   ]
  },
  {
   "cell_type": "markdown",
   "metadata": {},
   "source": [
    "# Circuit \n",
    "\n",
    "In this session we will be using 3 LEDs and 3 push buttons connected to the Arduino like so\n",
    "\n",
    "| Component    | Pin |\n",
    "| -------- | ------- |\n",
    "| Red LED  |  3   |\n",
    "| Green LED |  4    |\n",
    "| Purple LED    |  5   |\n",
    "| Green Push Button    |  9    |\n",
    "| Yellow Push Button    |  10    |\n",
    "| Red Push Button    |    11  |\n"
   ]
  },
  {
   "cell_type": "markdown",
   "metadata": {},
   "source": [
    "## Exercises\n",
    "\n",
    "Remember to make a Github commit after every exercise!\n",
    "\n",
    "**Useful Code** \n",
    "\n",
    "| Code    | Description |\n",
    "| -------- | ------- |\n",
    "| int bens_number = 33; | define an integer variable named \"bens_number\" and set it equal to 33   |\n",
    "| float someVar = 0.2;|    define a float (ie. decimal number) variable named \"someVar\" and set it equal to 0.2   |\n",
    " const int  myConstant = 4;|    define an integer which is always 4   |\n",
    "| bool isComponentAlive = false;    |  define a boolean (ie. true or false) variable named \"isComponentAlive\" and set it equal to false   |\n",
    "| bens_number = 31; |    assign the value of \"bens_number\" to 31  |\n",
    "| bens_number = bens_number +12 ; |    increment the value of \"bens_number\" by 12  |\n",
    "| bens_number++ ; |    increment the value of \"bens_number\" by 1 (equivalent to bens_number = bens_number +1;)  |\n",
    "\n",
    "\n"
   ]
  },
  {
   "cell_type": "markdown",
   "metadata": {},
   "source": [
    " ### Variables ###\n",
    "\n",
    " Variables allow us to store information. Every variable has a type, a name and a value.\n",
    "\n",
    " The power of variables lies in their ability to write adaptable and easily understandable code."
   ]
  },
  {
   "cell_type": "markdown",
   "metadata": {},
   "source": [
    "#### Example Exercise\n",
    "  \n",
    "The code below is in src/main.cpp. Change the value of the variable ```pin``` to 5. Run the code before and after the change to see the difference. \n",
    "\n",
    "```\n",
    "#include <Arduino.h>\n",
    "\n",
    "int pin = 4;\n",
    "void setup() {\n",
    "  pinMode(pin, OUTPUT); \n",
    "  digitalWrite(pin, HIGH); \n",
    "}\n",
    "\n",
    "void loop() {\n",
    "\n",
    "}\n",
    "```"
   ]
  },
  {
   "cell_type": "raw",
   "metadata": {},
   "source": [
    "#include <Arduino.h>\n",
    "\n",
    "int pin = 5;\n",
    "void setup() {\n",
    "  pinMode(pin, OUTPUT); \n",
    "  digitalWrite(pin, HIGH); \n",
    "}\n",
    "\n",
    "void loop() {\n",
    "\n",
    "}"
   ]
  },
  {
   "cell_type": "markdown",
   "metadata": {},
   "source": [
    "**Exercise 1**\n",
    "Define an integer variable called \"redLED\" and set its value to 3 in the code below. "
   ]
  },
  {
   "cell_type": "raw",
   "metadata": {},
   "source": [
    "#include <Arduino.h>\n",
    "\n",
    "int redLED = 3;\n",
    "void setup() {\n",
    "  pinMode(redLED, OUTPUT); \n",
    "  digitalWrite(redLED, HIGH); \n",
    "}\n",
    "\n",
    "void loop() {\n",
    "\n",
    "}"
   ]
  },
  {
   "cell_type": "markdown",
   "metadata": {},
   "source": [
    "**Exercise 2**\n",
    "Define a new integer variable called \"greenLED\" and set its value to 4. Use the new variable to turn on the green LED."
   ]
  },
  {
   "cell_type": "raw",
   "metadata": {},
   "source": [
    "#include <Arduino.h>\n",
    "\n",
    "int greenLED = 4;\n",
    "void setup() {\n",
    "  pinMode(greenLED, OUTPUT); \n",
    "  digitalWrite(greenLED, HIGH); \n",
    "}\n",
    "\n",
    "void loop() {\n",
    "\n",
    "}"
   ]
  },
  {
   "cell_type": "markdown",
   "metadata": {},
   "source": [
    "**Exercise 3**\n",
    "Fill in the blanks in the code below to make the red LED flash\n"
   ]
  },
  {
   "cell_type": "raw",
   "metadata": {},
   "source": [
    "#include <Arduino.h>\n",
    "\n",
    "int redLED = 3;\n",
    "int greenLED = 4;\n",
    "void setup() {\n",
    "  pinMode(_____, OUTPUT); \n",
    "  pinMode(greenLED, OUTPUT);\n",
    "}\n",
    "\n",
    "void loop() {\n",
    "  digitalWrite(____, HIGH); \n",
    "  delay(1000); // pause for 1000ms ie. 1s\n",
    "  digitalWrite(____, LOW); \n",
    "  delay(1000); // pause for 1000ms ie. 1s\n",
    "}"
   ]
  },
  {
   "cell_type": "markdown",
   "metadata": {},
   "source": [
    "Make the red and green LEDs flash together"
   ]
  },
  {
   "cell_type": "raw",
   "metadata": {},
   "source": [
    "#include <Arduino.h>\n",
    "\n",
    "int redLED = 3;\n",
    "int greenLED = 4;\n",
    "void setup() {\n",
    "  pinMode(redLED, OUTPUT); \n",
    "  pinMode(greenLED, OUTPUT);\n",
    "}\n",
    "\n",
    "void loop() {\n",
    "  digitalWrite(redLED, HIGH); \n",
    "  digitalWrite(greenLED, HIGH); \n",
    "  delay(1000); // pause for 1000ms ie. 1s\n",
    "  digitalWrite(redLED, LOW); \n",
    "  digitalWrite(greenLED, HIGH); \n",
    "  delay(1000); // pause for 1000ms ie. 1s\n",
    "}"
   ]
  },
  {
   "cell_type": "markdown",
   "metadata": {},
   "source": [
    "**Exercise 4**\n",
    "Make a variable named \"delay_time_ms\" to control the flash frequency and make the red LED flash once per second"
   ]
  },
  {
   "cell_type": "raw",
   "metadata": {},
   "source": [
    "#include <Arduino.h>\n",
    "\n",
    "int redLED = 3;\n",
    "int greenLED = 4;\n",
    "int delay_time_ms = 500;\n",
    "void setup() {\n",
    "  pinMode(redLED, OUTPUT); \n",
    "  pinMode(greenLED, OUTPUT);\n",
    "}\n",
    "\n",
    "void loop() {\n",
    "  digitalWrite(redLED, HIGH); \n",
    "  delay(delay_time_ms); \n",
    "  digitalWrite(redLED, LOW); \n",
    "  delay(delay_time_ms); \n",
    "}"
   ]
  },
  {
   "cell_type": "markdown",
   "metadata": {},
   "source": [
    "**Exercise 5**\n",
    "Variables can be varied! Increment the variable \"delay_time_ms\" by 200ms every time the loop block is excecuted. What happens?"
   ]
  },
  {
   "cell_type": "raw",
   "metadata": {},
   "source": [
    "#include <Arduino.h>\n",
    "\n",
    "int redLED = 3;\n",
    "int greenLED = 4;\n",
    "int delay_time_ms = 500;\n",
    "\n",
    "void setup() {\n",
    "  pinMode(redLED, OUTPUT); \n",
    "  pinMode(greenLED, OUTPUT);\n",
    "}\n",
    "\n",
    "void loop() {\n",
    "  digitalWrite(redLED, HIGH); \n",
    "  delay(delay_time_ms); \n",
    "  digitalWrite(redLED, LOW); \n",
    "  delay(delay_time_ms); \n",
    "  delay_time_ms=delay_time_ms+200;\n",
    "}"
   ]
  },
  {
   "cell_type": "markdown",
   "metadata": {},
   "source": [
    "**Exercise 6**\n",
    "Make a new variable called \"delay_time_s\" that allows you to set the delay time in seconds. Use this new variable to define the value of \"delay_time_ms\". Write a program with a delay time of 0.2 seconds. **Hint** Use the appropriate variable types"
   ]
  },
  {
   "cell_type": "raw",
   "metadata": {},
   "source": [
    "#include <Arduino.h>\n",
    "\n",
    "int redLED = 3;\n",
    "int greenLED = 4;\n",
    "float delay_time_s = 0.2;\n",
    "float delay_time_ms = delay_time_s*1000;\n",
    "\n",
    "void setup() {\n",
    "  pinMode(redLED, OUTPUT); \n",
    "  pinMode(greenLED, OUTPUT);\n",
    "}\n",
    "\n",
    "void loop() {\n",
    "  digitalWrite(redLED, HIGH); \n",
    "  delay(delay_time_ms); \n",
    "  digitalWrite(redLED, LOW); \n",
    "  delay(delay_time_ms); \n",
    "  delay_time_ms=delay_time_ms+200;\n",
    "}"
   ]
  },
  {
   "cell_type": "markdown",
   "metadata": {},
   "source": [
    "**Exercise 7**\n",
    "Manipulating the values if variables can be very useful, but sometimes there are variables that we really want to keep constant. Run the code below and see what it does"
   ]
  },
  {
   "cell_type": "raw",
   "metadata": {},
   "source": [
    "#include <Arduino.h>\n",
    "\n",
    "int redLED = 3;\n",
    "int greenLED = 4;\n",
    "int purpleLED = 5;\n",
    "int delay_time_s = 1;\n",
    "int delay_time_ms = delay_time_s*1000;\n",
    "\n",
    "void setup() {\n",
    "  pinMode(redLED, OUTPUT); \n",
    "  pinMode(greenLED, OUTPUT);\n",
    "  pinMode(purpleLED, OUTPUT);\n",
    "}\n",
    "\n",
    "void loop() {\n",
    "  digitalWrite(redLED, HIGH); \n",
    "  delay(delay_time_ms); \n",
    "  digitalWrite(redLED, LOW); \n",
    "  delay(delay_time_ms); \n",
    "  redLED++;\n",
    "}"
   ]
  },
  {
   "cell_type": "markdown",
   "metadata": {},
   "source": [
    "**Exercise 8**\n",
    "That's rather confusing! We think that we are flashing the red LED, but because the variable is being incremented, that is not the case. We can fix the values of variables by beginning their declaration with \"const\".\n",
    "\n",
    "Make the variable \"redLED\" constant and rerun the above code to see what happens"
   ]
  },
  {
   "cell_type": "raw",
   "metadata": {},
   "source": [
    "#include <Arduino.h>\n",
    "\n",
    "const int redLED = 3;\n",
    "int greenLED = 4;\n",
    "int purpleLED = 5;\n",
    "int delay_time_s = 1;\n",
    "int delay_time_ms = delay_time_s*1000;\n",
    "\n",
    "void setup() {\n",
    "  pinMode(redLED, OUTPUT); \n",
    "  pinMode(greenLED, OUTPUT);\n",
    "  pinMode(purpleLED, OUTPUT);\n",
    "}\n",
    "\n",
    "void loop() {\n",
    "  digitalWrite(redLED, HIGH); \n",
    "  delay(delay_time_ms); \n",
    "  digitalWrite(redLED, LOW); \n",
    "  delay(delay_time_ms); \n",
    "  redLED++;\n",
    "}"
   ]
  },
  {
   "cell_type": "markdown",
   "metadata": {},
   "source": [
    "**Exercise 9**\n",
    "Write a program that flashes each LED in turn by varying the value of the variable \"pinToFlash\" in the code below. **Hint** change \"pinToFlash\" from 3 to 4 to 5 cyclically : the modulo operator % can help you do this"
   ]
  },
  {
   "cell_type": "raw",
   "metadata": {},
   "source": [
    "// flash each LED alternately\n",
    "\n",
    "#include <Arduino.h>\n",
    "\n",
    "const int redLED = 3;\n",
    "const int greenLED = 4;\n",
    "const int purpleLED = 5;\n",
    "\n",
    "int delay_time_ms = 500;\n",
    "\n",
    "int pinToFlash = 3;\n",
    "void setup() {\n",
    "  pinMode(redLED, OUTPUT); \n",
    "  pinMode(greenLED, OUTPUT);\n",
    "  pinMode(purpleLED, OUTPUT);\n",
    "}\n",
    "\n",
    "void loop() {\n",
    "  \n",
    "  digitalWrite(pinToFlash, HIGH); \n",
    "  delay(delay_time_ms); \n",
    "  digitalWrite(pinToFlash, LOW); \n",
    "  delay(delay_time_ms); \n",
    "  \n",
    "  //change the value of pinToFlash here\n",
    "  //pinToFlash ++;\n",
    "  //pinToFlash =pinToFlash % 3 +3;\n",
    "  \n",
    "  }"
   ]
  },
  {
   "cell_type": "markdown",
   "metadata": {},
   "source": [
    "### If Statements ###"
   ]
  },
  {
   "cell_type": "markdown",
   "metadata": {},
   "source": []
  },
  {
   "cell_type": "markdown",
   "metadata": {},
   "source": []
  }
 ],
 "metadata": {
  "kernelspec": {
   "display_name": "Python 3",
   "language": "python",
   "name": "python3"
  },
  "language_info": {
   "codemirror_mode": {
    "name": "ipython",
    "version": 3
   },
   "file_extension": ".py",
   "mimetype": "text/x-python",
   "name": "python",
   "nbconvert_exporter": "python",
   "pygments_lexer": "ipython3",
   "version": "3.8.8"
  }
 },
 "nbformat": 4,
 "nbformat_minor": 2
}
