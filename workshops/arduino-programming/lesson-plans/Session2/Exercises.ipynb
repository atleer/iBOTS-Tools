{
 "cells": [
  {
   "cell_type": "markdown",
   "metadata": {},
   "source": [
    "## Session 2\n",
    "\n",
    "# Learning outcomes\n",
    "\n",
    "- Reverting to a previous version with Git\n",
    "- Variables\n",
    "- If statements\n",
    "\n",
    "\n",
    "| Code    | Description |\n",
    "| -------- | ------- |\n",
    "| pinMode(3, OUTPUT);  |     |\n",
    "| digitalWrite(3, HIGH); |      |\n",
    "| digitalWrite(8, LOW);    |     |\n",
    "| delay(5000);    |      |\n",
    "\n"
   ]
  },
  {
   "cell_type": "markdown",
   "metadata": {},
   "source": [
    "# Circuit \n",
    "\n",
    "In this session we will be using 3 LEDs and 3 push buttons connected to the Arduino like so\n",
    "\n",
    "| Component    | Pin |\n",
    "| -------- | ------- |\n",
    "| Red LED  |  3   |\n",
    "| Green LED |  4    |\n",
    "| Purple LED    |  5   |\n",
    "| Green Push Button    |  9    |\n",
    "| Yellow Push Button    |  10    |\n",
    "| Red Push Button    |    11  |\n"
   ]
  }
 ],
 "metadata": {
  "kernelspec": {
   "display_name": "Python 3",
   "language": "python",
   "name": "python3"
  },
  "language_info": {
   "codemirror_mode": {
    "name": "ipython",
    "version": 3
   },
   "file_extension": ".py",
   "mimetype": "text/x-python",
   "name": "python",
   "nbconvert_exporter": "python",
   "pygments_lexer": "ipython3",
   "version": "3.8.8"
  }
 },
 "nbformat": 4,
 "nbformat_minor": 2
}
