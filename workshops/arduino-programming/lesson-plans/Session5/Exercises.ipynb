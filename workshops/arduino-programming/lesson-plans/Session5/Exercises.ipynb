{
 "cells": [
  {
   "cell_type": "markdown",
   "metadata": {},
   "source": [
    "# Session 5 - \n"
   ]
  },
  {
   "cell_type": "markdown",
   "metadata": {},
   "source": [
    "## Learning Goals \n",
    "\n",
    "- For loops\n",
    "- Switch case program control\n"
   ]
  },
  {
   "cell_type": "markdown",
   "metadata": {},
   "source": [
    "## Circuit\n",
    "\n",
    "For this session we will be using the 7-segment display and temperature sensor connected to the given pins on the Arduino\n",
    "\n",
    "| Component    | Pin |\n",
    "| -------- | ------- |\n",
    "| Activator for first digit  |  2   |\n",
    "| Activator for second digit  |  3   |\n",
    "| Segment A  |  6   |\n",
    "| Segment B  |  7   |\n",
    "| Segment C  |  8   |\n",
    "| Segment D  |  9   |\n",
    "| Segment E  |  10   |\n",
    "| Segment F  |  11   |\n",
    "| Segment G  |  12   |\n",
    "| Temperature Sensor Output    |  A0  |\n",
    "\n",
    "Each segment of the 7-segment display has a letter from A-G as shown in the diagram below"
   ]
  },
  {
   "cell_type": "markdown",
   "metadata": {},
   "source": [
    "![image info](7seg.svg)"
   ]
  },
  {
   "cell_type": "markdown",
   "metadata": {},
   "source": [
    "When the pin connected to a segment is set to `LOW`, the segment lights up.\n",
    "\n",
    "When the pin connected to a segment is set to `HIGH`, the segment is turned off.\n"
   ]
  },
  {
   "cell_type": "markdown",
   "metadata": {},
   "source": [
    "## Setup\n",
    "\n"
   ]
  },
  {
   "cell_type": "markdown",
   "metadata": {},
   "source": [
    "## Exercises \n",
    "\n",
    "\n",
    "**Useful Code** \n",
    "\n",
    "| Code    | Description |\n",
    "| -------- | ------- |\n",
    "|for (int i=0; i< 10; i++){<br>  Serial.println(i);<br> }  |  For loop to print the numbers from 0 to 9   |\n",
    "| int arrayOfIntegers[] = {2,4,6,8}; |    define an array of integers  |\n",
    "| arrayOfIntegers[3];    |  access the 4th element in an array. NB. 0 is the first element   |\n",
    "\n",
    "\n",
    "\n"
   ]
  },
  {
   "cell_type": "markdown",
   "metadata": {},
   "source": [
    "#### Example Exercise\n",
    "\n",
    "The code below uses a for loop to set pins 2, 3, 6 and 7 as outputs. Rewrite the for loop to set pins 2,3 and pins 6-12 as outputs. Run your program to see what happens to the 7-segment display.\n",
    "\n",
    "```\n",
    "#include <Arduino.h>\n",
    "\n",
    "void setup() {\n",
    "  int segmentPins[] = {2,3,6,7}; // define pins to set as outputs\n",
    "  \n",
    "  for (int i = 0; i < 4; i++){ \n",
    "    pinMode(segmentPins[i], OUTPUT);\n",
    "  }\n",
    "\n",
    "  digitalWrite(2,HIGH); // set pin 2 as HIGH to turn on 1st digit\n",
    "\n",
    "}\n",
    "\n",
    "void loop() {\n",
    "\n",
    "}\n",
    "```"
   ]
  },
  {
   "cell_type": "raw",
   "metadata": {},
   "source": [
    "#include <Arduino.h>\n",
    "\n",
    "void setup() {\n",
    "  int segmentPins[] = {2,3,6,7,8,9,10,11,12}; // define pins to set as outputs\n",
    "  \n",
    "  for (int i = 0; i < 9; i++){ \n",
    "    pinMode(segmentPins[i], OUTPUT);\n",
    "  }\n",
    "\n",
    "  digitalWrite(2,HIGH); // set pin 2 as HIGH to turn on 1st digit\n",
    "\n",
    "}\n",
    "\n",
    "void loop() {\n",
    "\n",
    "}"
   ]
  },
  {
   "cell_type": "markdown",
   "metadata": {},
   "source": [
    "**Ex. 1** Add to your code another for loop that sets the pins 6-12 to HIGH. What does the first digit display?\n"
   ]
  },
  {
   "cell_type": "raw",
   "metadata": {},
   "source": [
    "#include <Arduino.h>\n",
    "\n",
    "void setup() {\n",
    "  int segmentPins[] = {2,3,6,7,8,9,10,11,12}; // define pins to set as outputs\n",
    "  \n",
    "  for (int i = 0; i < 9; i++){ \n",
    "    pinMode(segmentPins[i], OUTPUT);\n",
    "  }\n",
    "\n",
    "  digitalWrite(2,HIGH); // set pin 2 as HIGH to turn on 1st digit\n",
    "\n",
    "  for (int i = 2; i < 10; i++){ \n",
    "    digitalWrite(segmentPins[i], HIGH);\n",
    "  }\n",
    "}\n",
    "\n",
    "void loop() {\n",
    "\n",
    "}"
   ]
  },
  {
   "cell_type": "markdown",
   "metadata": {},
   "source": [
    "**Ex. 2** The number 1 is displayed by turning on the two segments on the right of the display (segments B and C). Use a for loop to show the number 1. **Hint-** you can define a new array `segmentsToLight` to loop over"
   ]
  },
  {
   "cell_type": "raw",
   "metadata": {},
   "source": [
    "#include <Arduino.h>\n",
    "\n",
    "void setup() {\n",
    "  int segmentPins[] = {2,3,6,7,8,9,10,11,12}; // define pins to set as outputs\n",
    "  \n",
    "  for (int i = 0; i < 9; i++){ \n",
    "    pinMode(segmentPins[i], OUTPUT);\n",
    "  }\n",
    "\n",
    "  digitalWrite(2,HIGH); // set pin 2 as HIGH to turn on 1st digit\n",
    "\n",
    "\n",
    "  //set all pins to high to clear display\n",
    "  for (int i = 2; i < 10; i++){ \n",
    "    digitalWrite(segmentPins[i], HIGH);\n",
    "  }\n",
    "\n",
    "\n",
    "  int segmentsToLight[] = {7,8};\n",
    "   for (int i = 0; i < 2; i++){ \n",
    "    digitalWrite(segmentsToLight[i], LOW); \n",
    "  }\n",
    "\n",
    "}\n",
    "\n",
    "void loop() {\n",
    "\n",
    "}"
   ]
  },
  {
   "cell_type": "markdown",
   "metadata": {},
   "source": [
    "**Ex. 3** Change your for loop from the previous exercise to display the number 3. **Hint-** you will need to illuminate the segments on pins 6,7,8,9 and 12."
   ]
  },
  {
   "cell_type": "raw",
   "metadata": {},
   "source": [
    "#include <Arduino.h>\n",
    "\n",
    "void setup() {\n",
    "  int segmentPins[] = {2,3,6,7,8,9,10,11,12}; // define pins to set as outputs\n",
    "  \n",
    "  for (int i = 0; i < 9; i++){ \n",
    "    pinMode(segmentPins[i], OUTPUT);\n",
    "  }\n",
    "\n",
    "  digitalWrite(2,HIGH); // set pin 2 as HIGH to turn on 1st digit\n",
    "\n",
    "\n",
    "  //set all pins to high to clear display\n",
    "  for (int i = 2; i < 10; i++){ \n",
    "    digitalWrite(segmentPins[i], HIGH);\n",
    "  }\n",
    "\n",
    "\n",
    "  int segmentsToLight[] = {6,7,8,9,12};\n",
    "   for (int i = 0; i < 5; i++){ \n",
    "    digitalWrite(segmentsToLight[i], LOW);\n",
    "  }\n",
    "\n",
    "}\n",
    "\n",
    "void loop() {\n",
    "\n",
    "}"
   ]
  },
  {
   "cell_type": "markdown",
   "metadata": {},
   "source": [
    "**Ex. 4** Complete the function `void display_4()` by writing code where there are question marks so that it displays the number 4\n",
    "\n",
    "```\n",
    "#include <Arduino.h>\n",
    "\n",
    "void setup() {\n",
    "  int allPins[] = {2,3,6,7,8,9,10,11,12}; // define pins to set as outputs\n",
    "  for (int i = 0; i < 9; i++){ \n",
    "    pinMode(allPins[i], OUTPUT);\n",
    "  }\n",
    "\n",
    "  digitalWrite(2,HIGH); // set pin 2 as HIGH to turn on 1st digit\n",
    "\n",
    "\n",
    "}\n",
    "\n",
    "void display_4(){\n",
    "  //set all pins to high to clear display\n",
    "  int segmentPins[] = {6,7,8,9,10,11,12};\n",
    "  for (int i =0; i < 7; i++){ \n",
    "    digitalWrite(segmentPins[i], HIGH);\n",
    "  }\n",
    "\n",
    "\n",
    "  int segmentsToLight[] = ???????????\n",
    "   for (int i = 0; i < ????; i++){ \n",
    "    ??????????????????????\n",
    "  }\n",
    "}\n",
    "\n",
    "void loop() {\n",
    "  display_4();\n",
    "}\n",
    "```"
   ]
  },
  {
   "cell_type": "raw",
   "metadata": {},
   "source": [
    "#include <Arduino.h>\n",
    "\n",
    "void setup() {\n",
    "  int allPins[] = {2,3,6,7,8,9,10,11,12}; // define pins to set as outputs\n",
    "  for (int i = 0; i < 9; i++){ \n",
    "    pinMode(allPins[i], OUTPUT);\n",
    "  }\n",
    "\n",
    "  digitalWrite(2,HIGH); // set pin 2 as HIGH to turn on 1st digit\n",
    "\n",
    "}\n",
    "\n",
    "void display_4(){\n",
    "    //set all pins to high to clear display\n",
    "  int segmentPins[] = {6,7,8,9,10,11,12};\n",
    "  for (int i =0; i < 7; i++){ \n",
    "    digitalWrite(segmentPins[i], HIGH);\n",
    "  }\n",
    "\n",
    "  int segmentsToLight[] = {7,8,11,12};\n",
    "   for (int i = 0; i < 4; i++){ \n",
    "    digitalWrite(segmentsToLight[i], LOW);\n",
    "  }\n",
    "}\n",
    "\n",
    "void loop() {\n",
    "  display_4();\n",
    "}"
   ]
  },
  {
   "cell_type": "markdown",
   "metadata": {},
   "source": [
    "**Ex. 5** Do you see where this is going? We're going to make functions that display each of the numbers from 0-9.  Write a function called `display_5` that shows the number 5 on the 7-segment display. In the loop block of your programm, display the 4 for one second then display 5 for one second.\n",
    "\n"
   ]
  },
  {
   "cell_type": "raw",
   "metadata": {},
   "source": [
    "#include <Arduino.h>\n",
    "\n",
    "void setup() {\n",
    "  int allPins[] = {2,3,6,7,8,9,10,11,12}; // define pins to set as outputs\n",
    "  for (int i = 0; i < 9; i++){ \n",
    "    pinMode(allPins[i], OUTPUT);\n",
    "  }\n",
    "\n",
    "  digitalWrite(2,HIGH); // set pin 2 as HIGH to turn on 1st digit\n",
    "\n",
    "}\n",
    "\n",
    "void display_4(){\n",
    "    //set all pins to high to clear display\n",
    "  int segmentPins[] = {6,7,8,9,10,11,12};\n",
    "  for (int i =0; i < 7; i++){ \n",
    "    digitalWrite(segmentPins[i], HIGH);\n",
    "  }\n",
    "\n",
    "  int segmentsToLight[] = {7,8,11,12};\n",
    "   for (int i = 0; i < 4; i++){ \n",
    "    digitalWrite(segmentsToLight[i], LOW);\n",
    "  }\n",
    "}\n",
    "\n",
    "void display_5(){\n",
    "    //set all pins to high to clear display\n",
    "  int segmentPins[] = {6,7,8,9,10,11,12};\n",
    "  for (int i =0; i < 7; i++){ \n",
    "    digitalWrite(segmentPins[i], HIGH);\n",
    "  }\n",
    "\n",
    "  int segmentsToLight[] = {6,8,9,11,12};\n",
    "   for (int i = 0; i < 5; i++){ \n",
    "    digitalWrite(segmentsToLight[i], LOW);\n",
    "  }\n",
    "}\n",
    "\n",
    "void loop() {\n",
    "  display_4();\n",
    "  delay(1000);\n",
    "  display_5();\n",
    "  delay(1000);\n",
    "}"
   ]
  },
  {
   "cell_type": "markdown",
   "metadata": {},
   "source": [
    "**Ex. 6** Our program is getting quite long - let's tidy it up by putting the functions that show a number into a separate file. \n",
    "\n",
    "Make a new file in the `src` directory called `4.h`. Put inside of this file your function `display_4()`. With an `#include` statement at the start of `main.cpp` you can use the function `display_4()`\n",
    "\n"
   ]
  },
  {
   "cell_type": "raw",
   "metadata": {},
   "source": [
    "#include <Arduino.h>\n",
    "#include <4.h>\n",
    "\n",
    "void setup() {\n",
    "  int allPins[] = {2,3,6,7,8,9,10,11,12}; // define pins to set as outputs\n",
    "  for (int i = 0; i < 9; i++){ \n",
    "    pinMode(allPins[i], OUTPUT);\n",
    "  }\n",
    "\n",
    "  digitalWrite(2,HIGH); // set pin 2 as HIGH to turn on 1st digit\n",
    "\n",
    "}\n",
    "\n",
    "\n",
    "\n",
    "void display_5(){\n",
    "    //set all pins to high to clear display\n",
    "  int segmentPins[] = {6,7,8,9,10,11,12};\n",
    "  for (int i =0; i < 7; i++){ \n",
    "    digitalWrite(segmentPins[i], HIGH);\n",
    "  }\n",
    "\n",
    "  int segmentsToLight[] = {6,8,9,11,12};\n",
    "   for (int i = 0; i < 5; i++){ \n",
    "    digitalWrite(segmentsToLight[i], LOW);\n",
    "  }\n",
    "}\n",
    "\n",
    "void loop() {\n",
    "  display_4();\n",
    "  delay(1000);\n",
    "  display_5();\n",
    "  delay(1000);\n",
    "}"
   ]
  },
  {
   "cell_type": "raw",
   "metadata": {},
   "source": []
  },
  {
   "cell_type": "markdown",
   "metadata": {},
   "source": []
  },
  {
   "cell_type": "raw",
   "metadata": {},
   "source": []
  },
  {
   "cell_type": "markdown",
   "metadata": {},
   "source": []
  },
  {
   "cell_type": "raw",
   "metadata": {},
   "source": []
  },
  {
   "cell_type": "markdown",
   "metadata": {},
   "source": []
  },
  {
   "cell_type": "raw",
   "metadata": {},
   "source": []
  }
 ],
 "metadata": {
  "kernelspec": {
   "display_name": "Python 3",
   "language": "python",
   "name": "python3"
  },
  "language_info": {
   "codemirror_mode": {
    "name": "ipython",
    "version": 3
   },
   "file_extension": ".py",
   "mimetype": "text/x-python",
   "name": "python",
   "nbconvert_exporter": "python",
   "pygments_lexer": "ipython3",
   "version": "3.8.8"
  }
 },
 "nbformat": 4,
 "nbformat_minor": 2
}
