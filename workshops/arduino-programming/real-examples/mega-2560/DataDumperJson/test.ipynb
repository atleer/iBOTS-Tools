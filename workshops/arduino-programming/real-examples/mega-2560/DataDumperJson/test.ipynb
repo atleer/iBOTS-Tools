{
 "cells": [
  {
   "cell_type": "code",
   "execution_count": 2,
   "metadata": {},
   "outputs": [],
   "source": [
    "string = \"\"\"[\n",
    "  {\n",
    "    \"loop number\": 16,\n",
    "    \"sensor value\": 667\n",
    "  },\n",
    "  {\n",
    "    \"loop number\": 17,\n",
    "    \"sensor value\": 667\n",
    "  },\n",
    "  {\n",
    "    \"loop number\": 18,\n",
    "    \"sensor value\": 666\n",
    "  },\n",
    "  {\n",
    "    \"loop number\": 19,\n",
    "    \"sensor value\": 667\n",
    "  },\n",
    "  {\n",
    "    \"loop number\": 20,\n",
    "    \"sensor value\": 667\n",
    "  }\n",
    "]\"\"\""
   ]
  },
  {
   "cell_type": "code",
   "execution_count": 3,
   "metadata": {},
   "outputs": [],
   "source": [
    "import json"
   ]
  },
  {
   "cell_type": "code",
   "execution_count": 4,
   "metadata": {},
   "outputs": [],
   "source": [
    "data= json.loads(string)"
   ]
  },
  {
   "cell_type": "code",
   "execution_count": 7,
   "metadata": {},
   "outputs": [
    {
     "data": {
      "text/plain": [
       "(16, 17, 18, 19, 20)"
      ]
     },
     "execution_count": 7,
     "metadata": {},
     "output_type": "execute_result"
    }
   ],
   "source": [
    "tuple([x['loop number'] for x in data])"
   ]
  },
  {
   "cell_type": "code",
   "execution_count": null,
   "metadata": {},
   "outputs": [],
   "source": []
  }
 ],
 "metadata": {
  "kernelspec": {
   "display_name": "base",
   "language": "python",
   "name": "python3"
  },
  "language_info": {
   "codemirror_mode": {
    "name": "ipython",
    "version": 3
   },
   "file_extension": ".py",
   "mimetype": "text/x-python",
   "name": "python",
   "nbconvert_exporter": "python",
   "pygments_lexer": "ipython3",
   "version": "3.11.5"
  }
 },
 "nbformat": 4,
 "nbformat_minor": 2
}
