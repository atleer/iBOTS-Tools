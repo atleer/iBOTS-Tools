{
 "cells": [
  {
   "cell_type": "markdown",
   "id": "cc427478",
   "metadata": {
    "editable": true,
    "slideshow": {
     "slide_type": ""
    },
    "tags": []
   },
   "source": [
    "# Getting the Computer to Do the Work: Code Blocks"
   ]
  },
  {
   "cell_type": "markdown",
   "id": "b9743395-5281-44c2-94d3-a08f8107ed0a",
   "metadata": {
    "editable": true,
    "slideshow": {
     "slide_type": ""
    },
    "tags": []
   },
   "source": [
    "## Functions\n",
    "\n",
    "Whether you're writing code in a data science notebook or in a text script file, eventually your code will get long enough that it becomes a challenge to keep it understandable and easy to find useful pieces to reuse in other projects.\n",
    "\n",
    "The most common way of organizing code is to break it into into smaller functions. To make a function, you need to tell the computer:\n",
    "\n",
    "  1. The function's name,\n",
    "  2. The inputs (a.k.a \"arguments\") that the function needs to do its work, and\n",
    "  3. The output (a.k.a. \"return value\") that the function will give to whatever code that calls it.\n",
    "\n",
    "```c\n",
    "int add2(int x, int y) {\n",
    "    int z = x + y;\n",
    "    return z;\n",
    "}\n",
    "\n",
    "int result = add2(3, 5);\n",
    "```\n",
    "\n"
   ]
  },
  {
   "cell_type": "markdown",
   "id": "ca626f71-d73b-426b-9b9f-186e7507ec11",
   "metadata": {
    "editable": true,
    "slideshow": {
     "slide_type": ""
    },
    "tags": []
   },
   "source": [
    "**Exercises**: Let's write and call some functions.  In each exercise, test out that your function behaves in the expected way."
   ]
  },
  {
   "cell_type": "markdown",
   "id": "7af0bc5b",
   "metadata": {},
   "source": [
    "**Example:** Make the `sub2()` function, which takes two integers and returns another integer.  Run the test lines that follow to confirm that the function works (if it says `true`, it worked!)."
   ]
  },
  {
   "cell_type": "code",
   "execution_count": 4,
   "id": "fe617ee1",
   "metadata": {
    "editable": true,
    "slideshow": {
     "slide_type": ""
    },
    "tags": [
     "exercise"
    ],
    "vscode": {
     "languageId": "plaintext"
    }
   },
   "outputs": [
    {
     "data": {
      "text/plain": [
       "true"
      ]
     },
     "execution_count": 4,
     "metadata": {},
     "output_type": "execute_result"
    }
   ],
   "source": [
    "int sub2(int x, int y) {\n",
    "    return x - y;\n",
    "}"
   ]
  },
  {
   "cell_type": "code",
   "execution_count": 5,
   "id": "2e0dd89d-b1b4-45ab-98cf-30596b1654af",
   "metadata": {
    "editable": true,
    "slideshow": {
     "slide_type": ""
    },
    "tags": []
   },
   "outputs": [
    {
     "data": {
      "text/plain": [
       "true"
      ]
     },
     "execution_count": 5,
     "metadata": {},
     "output_type": "execute_result"
    }
   ],
   "source": [
    "sub2(5, 3) == 2"
   ]
  },
  {
   "cell_type": "code",
   "execution_count": 6,
   "id": "2a4a5118-6f6a-4d7a-bb09-52b1dddfef74",
   "metadata": {},
   "outputs": [
    {
     "data": {
      "text/plain": [
       "true"
      ]
     },
     "execution_count": 6,
     "metadata": {},
     "output_type": "execute_result"
    }
   ],
   "source": [
    "sub2(7, 1) == 6"
   ]
  },
  {
   "cell_type": "markdown",
   "id": "1a87c4f0-b7ea-47a6-bb4f-9608ba63f53b",
   "metadata": {
    "editable": true,
    "slideshow": {
     "slide_type": ""
    },
    "tags": []
   },
   "source": [
    "Make the `div2` function, which takes two `double` decimal values and returns another double."
   ]
  },
  {
   "cell_type": "code",
   "execution_count": 18,
   "id": "154d60f0-6931-468d-aef9-b587038a78b7",
   "metadata": {
    "editable": true,
    "slideshow": {
     "slide_type": ""
    },
    "tags": [
     "exercise"
    ]
   },
   "outputs": [],
   "source": [
    "double div2(double x, double y) {\n",
    "    return x / y;\n",
    "}"
   ]
  },
  {
   "cell_type": "code",
   "execution_count": 9,
   "id": "d8676d2c-faf6-409b-8ed5-2716ca74d63f",
   "metadata": {
    "editable": true,
    "slideshow": {
     "slide_type": ""
    },
    "tags": []
   },
   "outputs": [
    {
     "data": {
      "text/plain": [
       "true"
      ]
     },
     "execution_count": 9,
     "metadata": {},
     "output_type": "execute_result"
    }
   ],
   "source": [
    "div2(4, 2) == 2"
   ]
  },
  {
   "cell_type": "code",
   "execution_count": 11,
   "id": "acec1c2d-f82d-4eb2-a372-1d4286ccd855",
   "metadata": {
    "editable": true,
    "slideshow": {
     "slide_type": ""
    },
    "tags": []
   },
   "outputs": [
    {
     "data": {
      "text/plain": [
       "true"
      ]
     },
     "execution_count": 11,
     "metadata": {},
     "output_type": "execute_result"
    }
   ],
   "source": [
    "div2(5, 2) == 2.5"
   ]
  },
  {
   "cell_type": "code",
   "execution_count": 12,
   "id": "5f50105a-b1f8-4b88-8329-ae2c7745cb9c",
   "metadata": {
    "editable": true,
    "slideshow": {
     "slide_type": ""
    },
    "tags": []
   },
   "outputs": [
    {
     "data": {
      "text/plain": [
       "true"
      ]
     },
     "execution_count": 12,
     "metadata": {},
     "output_type": "execute_result"
    }
   ],
   "source": [
    "div2(15, 3) == 5"
   ]
  },
  {
   "cell_type": "markdown",
   "id": "b84a8e17-7277-4920-9e41-9c7da3c4eaea",
   "metadata": {
    "editable": true,
    "slideshow": {
     "slide_type": ""
    },
    "tags": []
   },
   "source": [
    "It's possible for functions to access and modify variables defined outside them, but not inside other functions.  Let's try it out!"
   ]
  },
  {
   "cell_type": "markdown",
   "id": "8714653a-0629-4ca3-8c47-b9297a74debd",
   "metadata": {
    "editable": true,
    "slideshow": {
     "slide_type": ""
    },
    "tags": []
   },
   "source": [
    "Define the integer `x` and give it a value of 0:"
   ]
  },
  {
   "cell_type": "code",
   "execution_count": 43,
   "id": "07e13b7f-01d7-475c-860b-e4a13708c3e6",
   "metadata": {
    "editable": true,
    "slideshow": {
     "slide_type": ""
    },
    "tags": [
     "exercise"
    ]
   },
   "outputs": [],
   "source": [
    "int x = 0;"
   ]
  },
  {
   "cell_type": "markdown",
   "id": "65ba962f-b9b5-4a87-a33e-a5aa4d5deb79",
   "metadata": {
    "editable": true,
    "slideshow": {
     "slide_type": ""
    },
    "tags": []
   },
   "source": [
    "Create the function `inc()`, which takes no inputs and returns no outputs; all it does is increase the `x` variable by 1 every time it is called.  (Note: to say a function has no outputs, put `void` before its function name)."
   ]
  },
  {
   "cell_type": "code",
   "execution_count": 44,
   "id": "98e5a910-28ea-4474-84fc-0d070c125ab2",
   "metadata": {
    "editable": true,
    "slideshow": {
     "slide_type": ""
    },
    "tags": [
     "exercise"
    ]
   },
   "outputs": [],
   "source": [
    "void inc() {\n",
    "    x = x + 1;\n",
    "}"
   ]
  },
  {
   "cell_type": "markdown",
   "id": "948ed99a-35cd-4e15-a1fe-cac027d2816e",
   "metadata": {
    "editable": true,
    "slideshow": {
     "slide_type": ""
    },
    "tags": []
   },
   "source": [
    "Run the code below multiple times.  The value of `x` should change each time it is run:"
   ]
  },
  {
   "cell_type": "code",
   "execution_count": 48,
   "id": "568daf81-b5bf-4eaf-a903-96f9c8c673ba",
   "metadata": {
    "editable": true,
    "slideshow": {
     "slide_type": ""
    },
    "tags": []
   },
   "outputs": [
    {
     "data": {
      "text/plain": [
       "4"
      ]
     },
     "execution_count": 48,
     "metadata": {},
     "output_type": "execute_result"
    }
   ],
   "source": [
    "inc();\n",
    "x"
   ]
  },
  {
   "cell_type": "markdown",
   "id": "aa26c00f",
   "metadata": {
    "editable": true,
    "slideshow": {
     "slide_type": ""
    },
    "tags": []
   },
   "source": [
    "## Conditional Blocks: If-Else\n",
    "\n",
    "If-else blocks allow you to execute different code blocks, depending on some condition.  Using a combination of if, else if, and else, you can specify as many conditions as you like.  Note that only the first \"if\" is required.\n",
    "\n",
    "```c\n",
    "int x = 5;\n",
    "int y;\n",
    "if (x > 3) {\n",
    "    y = 1;    \n",
    "} else if (x > 6) {\n",
    "    y = 2;\n",
    "} else {\n",
    "    y = 3;\n",
    "}\n",
    "```\n"
   ]
  },
  {
   "cell_type": "markdown",
   "id": "7d23e7d8-1755-45d3-8562-48924b934f5b",
   "metadata": {
    "editable": true,
    "slideshow": {
     "slide_type": ""
    },
    "tags": []
   },
   "source": [
    "**Exercises**: Write the requested functions, using an `if-else` block to solve them."
   ]
  },
  {
   "cell_type": "markdown",
   "id": "6a0926c4-eb63-4506-8ccf-186add890c20",
   "metadata": {
    "editable": true,
    "slideshow": {
     "slide_type": ""
    },
    "tags": []
   },
   "source": [
    "**Example**: Write a function called `isAdult()`, that returns `true` if `age` is at least `18`, else set it to `false`."
   ]
  },
  {
   "cell_type": "code",
   "execution_count": 49,
   "id": "88da5f39-3354-4b78-a73f-5f5a448ebec8",
   "metadata": {
    "editable": true,
    "slideshow": {
     "slide_type": ""
    },
    "tags": []
   },
   "outputs": [],
   "source": [
    "bool isAdult(int age) {\n",
    "    if (age >= 18) {\n",
    "        return true;\n",
    "    } else {\n",
    "        return false;\n",
    "    }\n",
    "}"
   ]
  },
  {
   "cell_type": "code",
   "execution_count": 52,
   "id": "d9c11b2d-1814-4079-8a89-da5f73db3b0d",
   "metadata": {
    "editable": true,
    "slideshow": {
     "slide_type": ""
    },
    "tags": []
   },
   "outputs": [
    {
     "name": "stdout",
     "output_type": "stream",
     "text": [
      "Hi"
     ]
    },
    {
     "data": {
      "text/plain": [
       "2"
      ]
     },
     "execution_count": 52,
     "metadata": {},
     "output_type": "execute_result"
    }
   ],
   "source": [
    "printf(\"Hi\")"
   ]
  },
  {
   "cell_type": "markdown",
   "id": "3bfe71e5-17e0-4673-9008-620206a727fe",
   "metadata": {
    "editable": true,
    "slideshow": {
     "slide_type": ""
    },
    "tags": []
   },
   "source": [
    "Write a function `void greet(int hour)` that prints \"Good Morning!\" if the `hour` value is before 12, \"Good Afternoon!\" if the `hour` value is between 12 and 18, and \"Good Evening!\" if the `hour` value is greater than 18.\n",
    "\n",
    "  - `void` means that the function doesn't actually return something, it just prints it to the console.\n",
    "  - `printf(\"Hi\")` is helpful for printing strings."
   ]
  },
  {
   "cell_type": "code",
   "execution_count": 58,
   "id": "a4307ed6-114d-4703-9a41-8ac2c2052f85",
   "metadata": {
    "editable": true,
    "slideshow": {
     "slide_type": ""
    },
    "tags": [
     "exercise"
    ]
   },
   "outputs": [
    {
     "name": "stdout",
     "output_type": "stream",
     "text": [
      "Good Afternoon!"
     ]
    }
   ],
   "source": [
    "void greet(int hour) {\n",
    "    if (hour > 18) {\n",
    "        printf(\"Good Evening!\");\n",
    "    } else if (hour > 12) {\n",
    "        printf(\"Good Afternoon!\");\n",
    "    } else {\n",
    "        printf(\"Good Morning!\");\n",
    "    }\n",
    "}\n",
    "\n",
    "greet(15)"
   ]
  },
  {
   "cell_type": "code",
   "execution_count": null,
   "id": "e01e1745-3f8f-40b6-8038-f6d70c23a5a4",
   "metadata": {
    "editable": true,
    "slideshow": {
     "slide_type": ""
    },
    "tags": []
   },
   "outputs": [],
   "source": [
    "gre"
   ]
  },
  {
   "cell_type": "markdown",
   "id": "cc28f879-3e81-431c-badd-93d9c816b1a8",
   "metadata": {
    "editable": true,
    "slideshow": {
     "slide_type": ""
    },
    "tags": []
   },
   "source": [
    "## While Loops\n",
    "\n",
    "Computers can also be instructed to repeat running a block of code until some condition is no longer met.  One way of doing this is with a `while` loop, which looks a lot like an `if-else` block.   \n",
    "\n",
    "```c\n",
    "int x = 0;             // initialize a condition variable\n",
    "while (x < 5){         // the condition that should be met\n",
    "    x = x + 1;         // the variable changes as the code runs.\n",
    "    printf(\"%d\\n\", x);\n",
    "}\n",
    "```"
   ]
  },
  {
   "cell_type": "markdown",
   "id": "ba13a5e8-c88a-4e2a-bffc-ae65e1bfb0ad",
   "metadata": {
    "editable": true,
    "slideshow": {
     "slide_type": ""
    },
    "tags": []
   },
   "source": [
    "**Exercises**: Write the requested functions, using a `while` block to solve them."
   ]
  },
  {
   "cell_type": "markdown",
   "id": "7a0a6da0-72f6-488c-a1e6-61f496889b06",
   "metadata": {
    "editable": true,
    "slideshow": {
     "slide_type": ""
    },
    "tags": []
   },
   "source": [
    "**Example**: Write `int runningTotal(int n)`, adding up all the integers from 1 to `n`:"
   ]
  },
  {
   "cell_type": "code",
   "execution_count": 104,
   "id": "c2fa9701-d82a-4c8a-ba73-36bca7169f7a",
   "metadata": {
    "editable": true,
    "slideshow": {
     "slide_type": ""
    },
    "tags": []
   },
   "outputs": [],
   "source": [
    "int runningTotal(int n) {\n",
    "    int value = 0;\n",
    "    int total = 0;\n",
    "    while (value <= n) {\n",
    "        total = total + value;\n",
    "        value = value + 1;\n",
    "    }\n",
    "    return total;\n",
    "}"
   ]
  },
  {
   "cell_type": "code",
   "execution_count": 105,
   "id": "ffdbf9fd-90e8-458b-973d-fa83aa682b58",
   "metadata": {
    "editable": true,
    "slideshow": {
     "slide_type": ""
    },
    "tags": []
   },
   "outputs": [
    {
     "data": {
      "text/plain": [
       "15"
      ]
     },
     "execution_count": 105,
     "metadata": {},
     "output_type": "execute_result"
    }
   ],
   "source": [
    "runningTotal(5) // 1 + 2 + 3 + 4 + 5 == 15"
   ]
  },
  {
   "cell_type": "markdown",
   "id": "e608a71d-e327-4453-b8d2-3810916e1546",
   "metadata": {
    "editable": true,
    "slideshow": {
     "slide_type": ""
    },
    "tags": []
   },
   "source": [
    "Write `factorial(int n)`, multipying all the integers from 1 to `n`:"
   ]
  },
  {
   "cell_type": "code",
   "execution_count": 106,
   "id": "e2023fcb-9c6d-4e55-b136-e193bf3d8fbe",
   "metadata": {
    "editable": true,
    "slideshow": {
     "slide_type": ""
    },
    "tags": [
     "exercise"
    ]
   },
   "outputs": [],
   "source": [
    "int factorial(int n) {\n",
    "    int value = 1;\n",
    "    int total = 1;\n",
    "    while (value <= n) {\n",
    "        total = total * value;\n",
    "        value = value + 1;\n",
    "    }\n",
    "    return total;\n",
    "}"
   ]
  },
  {
   "cell_type": "markdown",
   "id": "b3ef41dc-ddf4-4c28-b083-97c70e7cb597",
   "metadata": {
    "editable": true,
    "slideshow": {
     "slide_type": ""
    },
    "tags": []
   },
   "source": [
    "Write `int sum(int *array, int size)`, which takes an array of integers and the number of elements in the array and returns the sum of all the elements of the array.\n",
    "\n",
    "  - **Note**: the asterisk `*` is used to denote a pointer, which we haven't discussed.  The short explanation here is that because C cannot take arrays directly as inputs, we just tell C where the start of the array is, and the extra info of size needs to be given to the function additionally.  "
   ]
  },
  {
   "cell_type": "code",
   "execution_count": 77,
   "id": "1952bed8-97ec-47b1-ab96-14bb77e9380d",
   "metadata": {
    "editable": true,
    "slideshow": {
     "slide_type": ""
    },
    "tags": [
     "exercise"
    ]
   },
   "outputs": [],
   "source": [
    "int sum(int *array, int size) {\n",
    "    int idx = 0;\n",
    "    int total = 0;\n",
    "    while (idx < size) {\n",
    "        int value = array[idx];\n",
    "        total = total + value;\n",
    "        idx = idx + 1;\n",
    "    }\n",
    "    return total;\n",
    "}"
   ]
  },
  {
   "cell_type": "code",
   "execution_count": 88,
   "id": "efc25e36-099c-4826-93b2-1f4238096dc2",
   "metadata": {
    "editable": true,
    "slideshow": {
     "slide_type": ""
    },
    "tags": [
     "exercise"
    ]
   },
   "outputs": [
    {
     "data": {
      "text/plain": [
       "6"
      ]
     },
     "execution_count": 88,
     "metadata": {},
     "output_type": "execute_result"
    }
   ],
   "source": [
    "int x[3] = {1, 2, 3};\n",
    "sum(x, 3)"
   ]
  },
  {
   "cell_type": "markdown",
   "id": "35823b56-4925-4fcf-8006-0f607f7a91d2",
   "metadata": {
    "editable": true,
    "slideshow": {
     "slide_type": ""
    },
    "tags": []
   },
   "source": [
    "## For Loops\n",
    "\n",
    "There is a shorter way to write the same kind of loop: a `for` loop, which contains all three aspects of the condition in the header:\n",
    "  1. The statement run before the start of the loop,\n",
    "  2. The statement run to check if the loop should continue,\n",
    "  3. The statement run at the end of each iteration of the loop.\n",
    "\n",
    "     \n",
    "```c\n",
    "for (int x = 0; x < 5; x = x + 1){ \n",
    "    printf(\"%d\\n\", x);\n",
    "}\n",
    "```"
   ]
  },
  {
   "cell_type": "code",
   "execution_count": null,
   "id": "cc171599-e59b-4501-af15-9859a3291e70",
   "metadata": {
    "editable": true,
    "slideshow": {
     "slide_type": ""
    },
    "tags": []
   },
   "outputs": [],
   "source": []
  },
  {
   "cell_type": "markdown",
   "id": "e4c9b28a-d9a1-4f82-a5d1-927b4bde7ccf",
   "metadata": {
    "editable": true,
    "slideshow": {
     "slide_type": ""
    },
    "tags": []
   },
   "source": [
    "**Exercises**: Write the requested functions, using a `for` block to solve them. (Note that they are the same as the `while` exercises, feel free to copy-paste and modify your previous solutions)."
   ]
  },
  {
   "cell_type": "markdown",
   "id": "35b98372-c486-4d1e-8c83-70ddbd122c3e",
   "metadata": {
    "editable": true,
    "slideshow": {
     "slide_type": ""
    },
    "tags": []
   },
   "source": [
    "**Example**: Write `int runningTotal(int n)`, adding up all the integers from 1 to `n`:"
   ]
  },
  {
   "cell_type": "code",
   "execution_count": 97,
   "id": "3dfbc4fa-4bbf-4b76-bc79-e5fdef9d0c43",
   "metadata": {
    "editable": true,
    "slideshow": {
     "slide_type": ""
    },
    "tags": []
   },
   "outputs": [],
   "source": [
    "int runningTotal(int n) {\n",
    "    int total = 0;\n",
    "    for (int value = 1; value <= n; value = value + 1) {\n",
    "        total = total + value;\n",
    "    }\n",
    "    return total;\n",
    "}"
   ]
  },
  {
   "cell_type": "code",
   "execution_count": 98,
   "id": "a93bdd19-f3f9-4bb7-9d43-c14f99a3d9cd",
   "metadata": {
    "editable": true,
    "slideshow": {
     "slide_type": ""
    },
    "tags": []
   },
   "outputs": [
    {
     "data": {
      "text/plain": [
       "15"
      ]
     },
     "execution_count": 98,
     "metadata": {},
     "output_type": "execute_result"
    }
   ],
   "source": [
    "runningTotal(5) // 1 + 2 + 3 + 4 + 5 == 15"
   ]
  },
  {
   "cell_type": "markdown",
   "id": "5a64b16d-0b95-4b64-ba26-528e5b151eee",
   "metadata": {
    "editable": true,
    "slideshow": {
     "slide_type": ""
    },
    "tags": []
   },
   "source": [
    "Write `factorial(int n)`, multipying all the integers from 1 to `n`:"
   ]
  },
  {
   "cell_type": "code",
   "execution_count": 101,
   "id": "91a70c1a-af93-402a-b830-f49c40641ae4",
   "metadata": {
    "editable": true,
    "slideshow": {
     "slide_type": ""
    },
    "tags": [
     "exercise"
    ]
   },
   "outputs": [],
   "source": [
    "int factorial(int n) {\n",
    "    int total = 1;\n",
    "    for (int value = 1; value <= n; value = value + 1) {\n",
    "        total = total * value;\n",
    "    }\n",
    "    return total;\n",
    "}"
   ]
  },
  {
   "cell_type": "markdown",
   "id": "08ff9afc-b4ee-4d67-90fd-efd53c2e7ebf",
   "metadata": {
    "editable": true,
    "slideshow": {
     "slide_type": ""
    },
    "tags": []
   },
   "source": [
    "Write `int sum(int *array, int size)`, which takes an array of integers and the number of elements in the array and returns the sum of all the elements of the array.\n",
    "\n",
    "  - **Note**: the asterisk `*` is used to denote a pointer, which we haven't discussed.  The short explanation here is that because C cannot take arrays directly as inputs, we just tell C where the start of the array is, and the extra info of size needs to be given to the function additionally.  "
   ]
  },
  {
   "cell_type": "code",
   "execution_count": 99,
   "id": "d3b0d84c-9dc0-4c6e-8afa-ae84c23b6784",
   "metadata": {
    "editable": true,
    "slideshow": {
     "slide_type": ""
    },
    "tags": [
     "exercise"
    ]
   },
   "outputs": [],
   "source": [
    "int sum(int *array, int size) {\n",
    "    int total = 0;\n",
    "    for (int idx = 0; idx < size; idx = idx + 1) {\n",
    "        int value = array[idx];\n",
    "        total = total + value;\n",
    "    }\n",
    "    return total;\n",
    "}"
   ]
  },
  {
   "cell_type": "code",
   "execution_count": 100,
   "id": "93af108e-2431-470d-b904-1ed8da1470aa",
   "metadata": {
    "editable": true,
    "slideshow": {
     "slide_type": ""
    },
    "tags": [
     "exercise"
    ]
   },
   "outputs": [
    {
     "data": {
      "text/plain": [
       "6"
      ]
     },
     "execution_count": 100,
     "metadata": {},
     "output_type": "execute_result"
    }
   ],
   "source": [
    "int x[3] = {1, 2, 3};\n",
    "sum(x, 3)"
   ]
  }
 ],
 "metadata": {
  "kernelspec": {
   "display_name": "C++17",
   "language": "C++17",
   "name": "xcpp17"
  },
  "language_info": {
   "codemirror_mode": "text/x-c++src",
   "file_extension": ".cpp",
   "mimetype": "text/x-c++src",
   "name": "c++",
   "version": "17"
  }
 },
 "nbformat": 4,
 "nbformat_minor": 5
}
