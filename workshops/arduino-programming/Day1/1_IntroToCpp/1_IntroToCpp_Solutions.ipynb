{
 "cells": [
  {
   "cell_type": "markdown",
   "id": "7c55c7f1-c77f-4746-b3f6-f04b611896a9",
   "metadata": {
    "editable": true,
    "slideshow": {
     "slide_type": ""
    },
    "tags": []
   },
   "source": [
    "# First Look at the Syntax of C"
   ]
  },
  {
   "cell_type": "markdown",
   "id": "23b2a5fb-ce00-41ea-a619-ad45c610ff28",
   "metadata": {},
   "source": [
    "## Basic Operations with C: Arithmetic and Logicals\n",
    "\n",
    "Most programming languages share a math-like syntax when doing basic calculator operations, and C and C++ (which builds extra features onto the C language) are no exception!  Of course, there can be some surprises when using a new tool.  \n",
    "\n",
    "| Code | Description |\n",
    "| :-- | :-- |\n",
    "| `1 + 2 * 3 / 5`  |  Arithmetic Operators |\n",
    "| `10 % 3`  | Remainder after Integer Division Operator  |\n",
    "| `(3 > 5) == (2 <= 5) != (6 >= 4)`  |  Comparison Operators |\n",
    "| `12` | `int` (integer) |\n",
    "| `12.0`  | `double` decimal value (needed for decimal math)|\n",
    "| `true` | `bool` logical value |\n",
    "\n"
   ]
  },
  {
   "cell_type": "markdown",
   "id": "51a45a41-2b1c-4f20-a5ec-bc27f06b0a2b",
   "metadata": {},
   "source": [
    "**Exercises**: Let's play around a bit with some math to get a feel for it.  In each exercise, fill in the requested code below.  If you're stuck, use the table above to find helpful code."
   ]
  },
  {
   "cell_type": "markdown",
   "id": "b1edc029-833e-4e4f-ab37-94689804dc39",
   "metadata": {},
   "source": [
    "**Example**: What is one plus one?"
   ]
  },
  {
   "cell_type": "code",
   "execution_count": 4,
   "id": "ba4626f6-bf12-4a4e-b2ff-6e29efa395ff",
   "metadata": {},
   "outputs": [
    {
     "data": {
      "text/plain": [
       "2"
      ]
     },
     "execution_count": 4,
     "metadata": {},
     "output_type": "execute_result"
    }
   ],
   "source": [
    "1 + 1"
   ]
  },
  {
   "cell_type": "markdown",
   "id": "02a11d50-d686-40b9-849a-40d3a9227230",
   "metadata": {},
   "source": [
    "What is three plus five?  "
   ]
  },
  {
   "cell_type": "code",
   "execution_count": 2,
   "id": "fb7ebdf4-3e99-4069-b447-d3dd343fd24e",
   "metadata": {
    "editable": true,
    "slideshow": {
     "slide_type": ""
    },
    "tags": [
     "exercise"
    ]
   },
   "outputs": [
    {
     "data": {
      "text/plain": [
       "8"
      ]
     },
     "execution_count": 2,
     "metadata": {},
     "output_type": "execute_result"
    }
   ],
   "source": [
    "3 + 5"
   ]
  },
  {
   "cell_type": "markdown",
   "id": "15820f2b-67ab-444b-b046-c21c35a4b6e7",
   "metadata": {},
   "source": [
    "What is six times eight?  "
   ]
  },
  {
   "cell_type": "code",
   "execution_count": 3,
   "id": "8acd214a-bced-40c8-9e25-f10a802a738f",
   "metadata": {
    "editable": true,
    "slideshow": {
     "slide_type": ""
    },
    "tags": [
     "exercise"
    ]
   },
   "outputs": [
    {
     "data": {
      "text/plain": [
       "48"
      ]
     },
     "execution_count": 3,
     "metadata": {},
     "output_type": "execute_result"
    }
   ],
   "source": [
    "6 * 8"
   ]
  },
  {
   "cell_type": "markdown",
   "id": "d54fe324-ad32-40eb-804e-52650c021387",
   "metadata": {},
   "source": [
    "What is 12 divided by 4?"
   ]
  },
  {
   "cell_type": "code",
   "execution_count": 6,
   "id": "36324a59-73d8-433d-a05f-9ed80dd223e7",
   "metadata": {
    "editable": true,
    "slideshow": {
     "slide_type": ""
    },
    "tags": [
     "exercise"
    ]
   },
   "outputs": [
    {
     "data": {
      "text/plain": [
       "3"
      ]
     },
     "execution_count": 6,
     "metadata": {},
     "output_type": "execute_result"
    }
   ],
   "source": [
    "12 / 4"
   ]
  },
  {
   "cell_type": "markdown",
   "id": "b43dc575-3eaf-4db8-8f59-0212ff7c8a49",
   "metadata": {},
   "source": [
    "What is 9 divided by 5?"
   ]
  },
  {
   "cell_type": "code",
   "execution_count": 5,
   "id": "1c1c7c8f-4106-4b0d-b940-5f706fd15a0d",
   "metadata": {
    "editable": true,
    "slideshow": {
     "slide_type": ""
    },
    "tags": [
     "exercise"
    ]
   },
   "outputs": [
    {
     "data": {
      "text/plain": [
       "1.8000000"
      ]
     },
     "execution_count": 5,
     "metadata": {},
     "output_type": "execute_result"
    }
   ],
   "source": [
    "9 / 5.0"
   ]
  },
  {
   "cell_type": "markdown",
   "id": "74eb27db-34fe-4d83-999c-17782636f35f",
   "metadata": {},
   "source": [
    "How many whole times does 20 go into 3?  (in other words, integer division 20 divided by 3)"
   ]
  },
  {
   "cell_type": "code",
   "execution_count": 7,
   "id": "c2222102-0689-42c7-b093-615dae7acb28",
   "metadata": {
    "editable": true,
    "slideshow": {
     "slide_type": ""
    },
    "tags": [
     "exercise"
    ]
   },
   "outputs": [
    {
     "data": {
      "text/plain": [
       "6"
      ]
     },
     "execution_count": 7,
     "metadata": {},
     "output_type": "execute_result"
    }
   ],
   "source": [
    "20 / 3"
   ]
  },
  {
   "cell_type": "markdown",
   "id": "932c94a4-912e-4a36-b284-cefa1e341d1d",
   "metadata": {},
   "source": [
    "What is the remainder after dividing 20 by 3?"
   ]
  },
  {
   "cell_type": "code",
   "execution_count": 1,
   "id": "6f4968fe-3166-460a-b3dd-26c5ae5c4fe9",
   "metadata": {
    "editable": true,
    "slideshow": {
     "slide_type": ""
    },
    "tags": [
     "exercise"
    ]
   },
   "outputs": [
    {
     "data": {
      "text/plain": [
       "2"
      ]
     },
     "execution_count": 1,
     "metadata": {},
     "output_type": "execute_result"
    }
   ],
   "source": [
    "20 % 3"
   ]
  },
  {
   "cell_type": "markdown",
   "id": "d1e4f74a-2901-4ac5-9aad-1db9ccc465e6",
   "metadata": {},
   "source": [
    "What is `4 + 5 * 2`?  Does C++ follow the right order of operations?"
   ]
  },
  {
   "cell_type": "code",
   "execution_count": 1,
   "id": "c36fd7e9-c81a-4a17-8aa5-fba0bacb83b5",
   "metadata": {
    "editable": true,
    "slideshow": {
     "slide_type": ""
    },
    "tags": [
     "exercise"
    ]
   },
   "outputs": [
    {
     "data": {
      "text/plain": [
       "14"
      ]
     },
     "execution_count": 1,
     "metadata": {},
     "output_type": "execute_result"
    }
   ],
   "source": [
    "4 + 5 * 2"
   ]
  },
  {
   "cell_type": "markdown",
   "id": "b769c667-b76b-4968-8019-6a0b8857cd5d",
   "metadata": {},
   "source": [
    "Is `0.1 + 0.2 - 0.3` equal to zero?"
   ]
  },
  {
   "cell_type": "code",
   "execution_count": 5,
   "id": "284c3f73-59f7-4d08-acb5-43f64ef6bc45",
   "metadata": {
    "editable": true,
    "slideshow": {
     "slide_type": ""
    },
    "tags": [
     "exercise"
    ]
   },
   "outputs": [
    {
     "data": {
      "text/plain": [
       "false"
      ]
     },
     "execution_count": 5,
     "metadata": {},
     "output_type": "execute_result"
    }
   ],
   "source": [
    "(0.1 + 0.2 - 0.3) == 0"
   ]
  },
  {
   "cell_type": "markdown",
   "id": "f2f058a8-16c5-4bc1-96d3-7bb1dc4fa3dc",
   "metadata": {},
   "source": [
    "Is `0.1f + 0.2f - 0.3f` equal to zero?"
   ]
  },
  {
   "cell_type": "code",
   "execution_count": 4,
   "id": "7eb83246-f0cd-4fe6-b581-6396ec3aeaf5",
   "metadata": {
    "editable": true,
    "slideshow": {
     "slide_type": ""
    },
    "tags": [
     "exercise"
    ]
   },
   "outputs": [
    {
     "data": {
      "text/plain": [
       "true"
      ]
     },
     "execution_count": 4,
     "metadata": {},
     "output_type": "execute_result"
    }
   ],
   "source": [
    "(0.1f + 0.2f - 0.3f) == 0"
   ]
  },
  {
   "cell_type": "markdown",
   "id": "2b5d5cde-989f-43cc-98e2-796db575eaf2",
   "metadata": {},
   "source": [
    "Is four times six greater than three times seven?"
   ]
  },
  {
   "cell_type": "code",
   "execution_count": 10,
   "id": "8895df91-fda6-4498-8aa1-2a79d9cea4ec",
   "metadata": {
    "editable": true,
    "slideshow": {
     "slide_type": ""
    },
    "tags": [
     "exercise"
    ]
   },
   "outputs": [
    {
     "data": {
      "text/plain": [
       "true"
      ]
     },
     "execution_count": 10,
     "metadata": {},
     "output_type": "execute_result"
    }
   ],
   "source": [
    "4 * 6 > 3 * 7"
   ]
  },
  {
   "cell_type": "markdown",
   "id": "f591e065-50d8-4a53-af06-152287513e71",
   "metadata": {},
   "source": [
    "Is `true` equal to `1` in C++?"
   ]
  },
  {
   "cell_type": "code",
   "execution_count": 6,
   "id": "cf48ee07-f4a8-410f-89bf-1f689c32e7f9",
   "metadata": {
    "editable": true,
    "slideshow": {
     "slide_type": ""
    },
    "tags": [
     "exercise"
    ]
   },
   "outputs": [
    {
     "data": {
      "text/plain": [
       "true"
      ]
     },
     "execution_count": 6,
     "metadata": {},
     "output_type": "execute_result"
    }
   ],
   "source": [
    "true == 1"
   ]
  },
  {
   "cell_type": "markdown",
   "id": "e37d8988-d8b8-4732-8297-ad392ffb8f56",
   "metadata": {},
   "source": [
    "Is `false` equal to `0` in C++?"
   ]
  },
  {
   "cell_type": "code",
   "execution_count": 7,
   "id": "e70ab3ce-fa52-4d3a-a097-835be50d1c73",
   "metadata": {
    "editable": true,
    "slideshow": {
     "slide_type": ""
    },
    "tags": [
     "exercise"
    ]
   },
   "outputs": [
    {
     "data": {
      "text/plain": [
       "true"
      ]
     },
     "execution_count": 7,
     "metadata": {},
     "output_type": "execute_result"
    }
   ],
   "source": [
    "false == 0"
   ]
  },
  {
   "cell_type": "markdown",
   "id": "af0ab52b-101f-4a88-a6d4-6020f575a973",
   "metadata": {},
   "source": [
    "## Coding with Static Types: Identifiers (a.k.a. \"Variables\")\n",
    "\n",
    "We didn't create any variables last time; that's because C and C++ require that the `type` of the identifier (the name of the variable) be specified.  \n",
    "This extra bit of code helps the compiler make the code extremely efficient, as it takes a lot of guesswork out of the equation.  \n",
    "It also gives the programmer a lot of creative freedom to decide how the computer should manage its resources, which is useful when you have lots of data to process (like in data analysis), or \n",
    "have little computing power to work with (like in Arduino microprocessors).\n",
    "\n",
    "| Code | Description |\n",
    "| :-- | :-- |\n",
    "| `int x;` | \"Make a new identifier called `x`, which references an integer in memory.\" |\n",
    "| `x = 42;` | \"Store 42 at where the (previously-created) identifier `x` is stored.\" |\n",
    "| `int x = 42;` | \"Make a new identifier called x, which references an integer in memory, **and** store 42 there.\" |\n",
    "| `short x = 10` |  |b"
   ]
  },
  {
   "cell_type": "markdown",
   "id": "7ad535ef-ab36-425b-9236-7a1b4552e413",
   "metadata": {},
   "source": [
    "**Exercises**:"
   ]
  },
  {
   "cell_type": "markdown",
   "id": "9bb13f22-0ac5-4867-8ce1-28d2ed9044b7",
   "metadata": {},
   "source": [
    "**Example**: Set `x` to the value `3`, and `y` to `x` plus `5`.  Encode both as `int`.  Print the value of y."
   ]
  },
  {
   "cell_type": "code",
   "execution_count": 1,
   "id": "4eb3d809-c6b9-461d-9d5a-1932d754226b",
   "metadata": {
    "editable": true,
    "slideshow": {
     "slide_type": ""
    },
    "tags": []
   },
   "outputs": [
    {
     "data": {
      "text/plain": [
       "8"
      ]
     },
     "execution_count": 1,
     "metadata": {},
     "output_type": "execute_result"
    }
   ],
   "source": [
    "int x = 3;\n",
    "int y = x + 5;\n",
    "y"
   ]
  },
  {
   "cell_type": "markdown",
   "id": "f7fedbee-f21e-473a-9e56-c42c1dcc5848",
   "metadata": {},
   "source": [
    "What if `y` was encoded as a `double`?  Would it change what was printed?"
   ]
  },
  {
   "cell_type": "code",
   "execution_count": 12,
   "id": "df53c53e-6d7e-4fba-ad39-5faff0a63f2d",
   "metadata": {
    "editable": true,
    "slideshow": {
     "slide_type": ""
    },
    "tags": [
     "exercise"
    ]
   },
   "outputs": [
    {
     "data": {
      "text/plain": [
       "8.0000000"
      ]
     },
     "execution_count": 12,
     "metadata": {},
     "output_type": "execute_result"
    }
   ],
   "source": [
    "int x = 3;\n",
    "double y = x + 5;\n",
    "y"
   ]
  },
  {
   "cell_type": "markdown",
   "id": "531cd6fe-b481-4494-91fa-ff920dcafb0e",
   "metadata": {},
   "source": [
    "What if `y` was encoded as a `float`?"
   ]
  },
  {
   "cell_type": "code",
   "execution_count": 13,
   "id": "b92e302a-1ad2-4084-b236-7a92c9aea341",
   "metadata": {
    "editable": true,
    "slideshow": {
     "slide_type": ""
    },
    "tags": [
     "exercise"
    ]
   },
   "outputs": [
    {
     "data": {
      "text/plain": [
       "8.00000f"
      ]
     },
     "execution_count": 13,
     "metadata": {},
     "output_type": "execute_result"
    }
   ],
   "source": [
    "int x = 3;\n",
    "float y = x + 5;\n",
    "y"
   ]
  },
  {
   "cell_type": "markdown",
   "id": "73bc1340-9649-41e4-885a-d7ca3d974f22",
   "metadata": {},
   "source": [
    "What if `y` was encoded as a `char`?"
   ]
  },
  {
   "cell_type": "code",
   "execution_count": 15,
   "id": "823ade09-a1b1-4c51-b9bd-cd98f5214fa5",
   "metadata": {
    "editable": true,
    "slideshow": {
     "slide_type": ""
    },
    "tags": [
     "exercise"
    ]
   },
   "outputs": [
    {
     "data": {
      "text/plain": [
       "'0x08'"
      ]
     },
     "execution_count": 15,
     "metadata": {},
     "output_type": "execute_result"
    }
   ],
   "source": [
    "int x = 3;\n",
    "char y = x + 5;\n",
    "y"
   ]
  },
  {
   "cell_type": "markdown",
   "id": "acbaae2b-3191-4bcc-b473-98683af386f5",
   "metadata": {},
   "source": [
    "Different types require different amounts of memory; the more memory a type uses, the greater the range of values it can store.  Reference the two tables at https://en.cppreference.com/w/cpp/language/types to create integers stored in different ways:"
   ]
  },
  {
   "cell_type": "markdown",
   "id": "c4871d6e-4065-4920-8de9-f6cba884c472",
   "metadata": {},
   "source": [
    "---"
   ]
  },
  {
   "cell_type": "markdown",
   "id": "c89b3b5e-2eba-496a-ab09-8fe5e534054e",
   "metadata": {},
   "source": [
    "**Example** Create `num`, an integer that takes up only 16 bits, and is `signed` (it can store both positive and negative numbers)."
   ]
  },
  {
   "cell_type": "code",
   "execution_count": 12,
   "id": "eb050768-4812-4898-9fd8-c34132ab48d9",
   "metadata": {},
   "outputs": [
    {
     "data": {
      "text/plain": [
       "0"
      ]
     },
     "execution_count": 12,
     "metadata": {},
     "output_type": "execute_result"
    }
   ],
   "source": [
    "short num;\n",
    "num"
   ]
  },
  {
   "cell_type": "markdown",
   "id": "ebfc4ddb-18fb-4119-97f8-90264e64a1d8",
   "metadata": {},
   "source": [
    "**Example**: Set the value of `num` to 1000 (without changing its type).  Does it store it properly?"
   ]
  },
  {
   "cell_type": "code",
   "execution_count": 8,
   "id": "91ae91de-aa7b-4ebe-a101-b315d7b2e034",
   "metadata": {},
   "outputs": [
    {
     "data": {
      "text/plain": [
       "1000"
      ]
     },
     "execution_count": 8,
     "metadata": {},
     "output_type": "execute_result"
    }
   ],
   "source": [
    "num = 1000;\n",
    "num"
   ]
  },
  {
   "cell_type": "markdown",
   "id": "b493bcad-a5f2-4952-9ed2-683f7b3843b8",
   "metadata": {},
   "source": [
    "Set the value of `num` to negative 1000.  Does it store it properly?"
   ]
  },
  {
   "cell_type": "code",
   "execution_count": 13,
   "id": "573d2ebe-b583-4eaa-91e4-ecf29c5a7853",
   "metadata": {
    "editable": true,
    "slideshow": {
     "slide_type": ""
    },
    "tags": [
     "exercise"
    ]
   },
   "outputs": [
    {
     "data": {
      "text/plain": [
       "-1000"
      ]
     },
     "execution_count": 13,
     "metadata": {},
     "output_type": "execute_result"
    }
   ],
   "source": [
    "num = -1000;\n",
    "num"
   ]
  },
  {
   "cell_type": "markdown",
   "id": "f73623c9-365d-4e8a-9e12-8acad328274f",
   "metadata": {},
   "source": [
    "Set the value of num to a million.  Does it store properly?"
   ]
  },
  {
   "cell_type": "code",
   "execution_count": 18,
   "id": "37efdb25-c1e5-42e8-a704-f93bc470870e",
   "metadata": {
    "editable": true,
    "slideshow": {
     "slide_type": ""
    },
    "tags": [
     "exercise"
    ]
   },
   "outputs": [
    {
     "name": "stderr",
     "output_type": "stream",
     "text": [
      "\u001b[1minput_line_39:2:8: \u001b[0m\u001b[0;1;35mwarning: \u001b[0m\u001b[1mimplicit conversion from 'int' to 'short' changes value from 1000000 to 16960 [-Wconstant-conversion]\u001b[0m\n",
      " num = 1000000;\n",
      "\u001b[0;1;32m     ~ ^~~~~~~\n",
      "\u001b[0m"
     ]
    },
    {
     "data": {
      "text/plain": [
       "16960"
      ]
     },
     "execution_count": 18,
     "metadata": {},
     "output_type": "execute_result"
    }
   ],
   "source": [
    "num = 1000000;\n",
    "num"
   ]
  },
  {
   "cell_type": "markdown",
   "id": "e336c8df-a934-455f-bb71-79e0f68285b9",
   "metadata": {},
   "source": [
    "Okay, now instead of explicitly setting the value to 1 milliion, this time simply add one million to `num`.  Does it store the number correctly?  What's different about what happens?"
   ]
  },
  {
   "cell_type": "code",
   "execution_count": 17,
   "id": "0ad6a7bc-a5ba-4f59-99cc-a19f1227dc91",
   "metadata": {
    "editable": true,
    "slideshow": {
     "slide_type": ""
    },
    "tags": [
     "exercise"
    ]
   },
   "outputs": [
    {
     "data": {
      "text/plain": [
       "2392"
      ]
     },
     "execution_count": 17,
     "metadata": {},
     "output_type": "execute_result"
    }
   ],
   "source": [
    "num = num + 100000;\n",
    "num"
   ]
  },
  {
   "cell_type": "markdown",
   "id": "a0b109f5-e7c4-4c18-839d-d3bc1912bbb1",
   "metadata": {},
   "source": [
    "---"
   ]
  },
  {
   "cell_type": "markdown",
   "id": "c51062c6-6441-444f-82b8-46cef7753ba6",
   "metadata": {},
   "source": [
    "Create `temp_k`, a temperature stored in Kelvin, which means there should never be negative values.  This time, let's store it using the most memory we can: something with at least 64 bits of memory.  (See the table here to find a good candidate: https://en.cppreference.com/w/cpp/language/types)"
   ]
  },
  {
   "cell_type": "code",
   "execution_count": 19,
   "id": "7beefa42-af2e-4da5-b1f8-e99e8f8aefaa",
   "metadata": {
    "editable": true,
    "slideshow": {
     "slide_type": ""
    },
    "tags": [
     "exercise"
    ]
   },
   "outputs": [
    {
     "data": {
      "text/plain": [
       "0"
      ]
     },
     "execution_count": 19,
     "metadata": {},
     "output_type": "execute_result"
    }
   ],
   "source": [
    "unsigned long long int temp_k;\n",
    "temp_k"
   ]
  },
  {
   "cell_type": "markdown",
   "id": "956a0af3-df8c-452d-92f7-2855ee146657",
   "metadata": {},
   "source": [
    "Set `temp_k` to the highest value you can without getting an error. "
   ]
  },
  {
   "cell_type": "code",
   "execution_count": 27,
   "id": "f85c815b-8ee8-403d-8ad6-9edb522f6418",
   "metadata": {
    "editable": true,
    "slideshow": {
     "slide_type": ""
    },
    "tags": [
     "exercise"
    ]
   },
   "outputs": [
    {
     "data": {
      "text/plain": [
       "999999999999999999"
      ]
     },
     "execution_count": 27,
     "metadata": {},
     "output_type": "execute_result"
    }
   ],
   "source": [
    "temp_k = 999999999999999999;\n",
    "temp_k"
   ]
  },
  {
   "cell_type": "markdown",
   "id": "e22be78c-3ce3-4e20-924a-11ee86d1ddf5",
   "metadata": {},
   "source": [
    "Check that `temp_k` is only for positive values, by trying to set `temp_k` to negative one. What value is temp_k?"
   ]
  },
  {
   "cell_type": "code",
   "execution_count": 29,
   "id": "d5af4fcb-7c88-420b-93c4-3a76ebed7c49",
   "metadata": {
    "editable": true,
    "slideshow": {
     "slide_type": ""
    },
    "tags": [
     "exercise"
    ]
   },
   "outputs": [
    {
     "data": {
      "text/plain": [
       "18446744073709551615"
      ]
     },
     "execution_count": 29,
     "metadata": {},
     "output_type": "execute_result"
    }
   ],
   "source": [
    "temp_k = -1;\n",
    "temp_k"
   ]
  },
  {
   "cell_type": "markdown",
   "id": "26cef76e-17e6-4ea2-b3d3-4dcd75aca2cd",
   "metadata": {},
   "source": [
    "Can we store text as an integer?  Try storing the string `\"hello!\"` in `temp_k`."
   ]
  },
  {
   "cell_type": "code",
   "execution_count": 37,
   "id": "6bd8971a-a014-45fa-b5e5-78dc7da02692",
   "metadata": {
    "editable": true,
    "slideshow": {
     "slide_type": ""
    },
    "tags": [
     "exercise"
    ]
   },
   "outputs": [
    {
     "name": "stderr",
     "output_type": "stream",
     "text": [
      "\u001b[1minput_line_73:2:11: \u001b[0m\u001b[0;1;31merror: \u001b[0m\u001b[1massigning to 'unsigned long long' from incompatible type 'const char [7]'\u001b[0m\n",
      " temp_k = \"Hello!\";\n",
      "\u001b[0;1;32m          ^~~~~~~~\n",
      "\u001b[0m"
     ]
    },
    {
     "ename": "Interpreter Error",
     "evalue": "",
     "output_type": "error",
     "traceback": [
      "Interpreter Error: "
     ]
    }
   ],
   "source": [
    "temp_k = \"Hello!\";\n",
    "temp_k"
   ]
  },
  {
   "cell_type": "markdown",
   "id": "fbc7e9c1-08ae-476b-af8c-54f980e26b6d",
   "metadata": {
    "editable": true,
    "slideshow": {
     "slide_type": ""
    },
    "tags": []
   },
   "source": [
    "---"
   ]
  },
  {
   "cell_type": "markdown",
   "id": "07622f28-badc-4d7c-bcc4-1e6c0877ac15",
   "metadata": {
    "editable": true,
    "slideshow": {
     "slide_type": ""
    },
    "tags": []
   },
   "source": [
    "Create `brightness`, an image pixel value that stores a value between 0-255. That's 256 values in total that the pixel could be set at.  Since 256 is $2^8$, let's store it in one of the integer types in (https://en.cppreference.com/w/cpp/language/types) only using 8 bits."
   ]
  },
  {
   "cell_type": "code",
   "execution_count": 40,
   "id": "84b50755-3eaa-4851-b063-eec047b9205f",
   "metadata": {
    "editable": true,
    "slideshow": {
     "slide_type": ""
    },
    "tags": []
   },
   "outputs": [
    {
     "data": {
      "text/plain": [
       "'0x00'"
      ]
     },
     "execution_count": 40,
     "metadata": {},
     "output_type": "execute_result"
    }
   ],
   "source": [
    "unsigned char brightness;\n",
    "brightness"
   ]
  },
  {
   "cell_type": "markdown",
   "id": "41b7c5a3-5118-4332-ad54-cd4e5e7f3736",
   "metadata": {},
   "source": [
    "Store the number 66 in `brightness`.  What's weird about how the number is printed?  (Note: the reason for this is because 8-bit integers are also used to store [ASCII text data](https://www.cs.cmu.edu/~pattis/15-1XX/common/handouts/ascii.html). To tell C++ that it can be \"elevated\" in its representation to a number, put a plus sign before the variable when printing it: (`e.g. +brightness`)."
   ]
  },
  {
   "cell_type": "code",
   "execution_count": 44,
   "id": "96ccfa08-179b-4450-9719-c846e5562f1b",
   "metadata": {
    "editable": true,
    "slideshow": {
     "slide_type": ""
    },
    "tags": [
     "exercise"
    ]
   },
   "outputs": [
    {
     "data": {
      "text/plain": [
       "66"
      ]
     },
     "execution_count": 44,
     "metadata": {},
     "output_type": "execute_result"
    }
   ],
   "source": [
    "brightness = 66;\n",
    "+brightness"
   ]
  },
  {
   "cell_type": "markdown",
   "id": "164000c4-947c-47ca-bed8-6a89128b352e",
   "metadata": {},
   "source": [
    "---"
   ]
  },
  {
   "cell_type": "markdown",
   "id": "1616600a-e490-4b9b-be42-e878dffb23cc",
   "metadata": {},
   "source": [
    "## Introduction to C++ Arrays\n",
    "\n",
    "\n",
    "| Code | Description |\n",
    "| :-- | :-- |\n",
    "| `char myString[10] = \"Hello\";` | Store the characters 'Hello' in a char array of fixed-length of 10. In C, this is essentially a String. |\n",
    "| `int myNums[5] = {1, 2, 3, 4, 5};` | Store the integers 1-5 in an array. |\n",
    "| `myNums[2] = 33;` | Put the value 33 in the third index of the `myNums` array. |"
   ]
  },
  {
   "cell_type": "markdown",
   "id": "444d63af-e3fd-4155-b246-5115715f42d2",
   "metadata": {},
   "source": [
    "**Example**: Put the numbers 10, 20, and 30 into an array of length 3 called `cc`.  How does it look when printed?"
   ]
  },
  {
   "cell_type": "code",
   "execution_count": 81,
   "id": "c8d7f14a-9df3-4043-b60e-18d5c49b89db",
   "metadata": {},
   "outputs": [
    {
     "data": {
      "text/plain": [
       "{ 10, 20, 30 }"
      ]
     },
     "execution_count": 81,
     "metadata": {},
     "output_type": "execute_result"
    }
   ],
   "source": [
    "int cc[3] = {10, 20, 30};\n",
    "cc"
   ]
  },
  {
   "cell_type": "markdown",
   "id": "639fce65-f200-41e8-bd38-20d54bde8a93",
   "metadata": {},
   "source": [
    "Put the numbers 1, 2, and 3 into an array of length 10 called `nums`. How does it look when printed?"
   ]
  },
  {
   "cell_type": "code",
   "execution_count": 84,
   "id": "2cc1a5a0-ea92-4038-a346-f53b53b3336d",
   "metadata": {
    "editable": true,
    "slideshow": {
     "slide_type": ""
    },
    "tags": [
     "exercise"
    ]
   },
   "outputs": [
    {
     "data": {
      "text/plain": [
       "{ 1, 2, 3, 0, 0, 0, 0, 0, 0, 0 }"
      ]
     },
     "execution_count": 84,
     "metadata": {},
     "output_type": "execute_result"
    }
   ],
   "source": [
    "int nums[10] = {1, 2, 3};\n",
    "cc"
   ]
  },
  {
   "cell_type": "markdown",
   "id": "343e5010-be0e-4900-95aa-2aa46c6d7900",
   "metadata": {},
   "source": [
    "Replace the fifth value in `nums` with 555.  Did it work?"
   ]
  },
  {
   "cell_type": "code",
   "execution_count": 111,
   "id": "7078caeb-37a0-434a-b1d9-bec174a61f96",
   "metadata": {
    "editable": true,
    "slideshow": {
     "slide_type": ""
    },
    "tags": [
     "exercise"
    ]
   },
   "outputs": [
    {
     "data": {
      "text/plain": [
       "{ 1, 2, 3, 0, 555, 0, 105, 0, 0, 0 }"
      ]
     },
     "execution_count": 111,
     "metadata": {},
     "output_type": "execute_result"
    }
   ],
   "source": [
    "nums[4] = 555;\n",
    "nums"
   ]
  },
  {
   "cell_type": "markdown",
   "id": "d0be0975-df11-4f88-a511-ce1c35d042da",
   "metadata": {
    "editable": true,
    "slideshow": {
     "slide_type": ""
    },
    "tags": []
   },
   "source": [
    "Put the character `'i'` in the 6th position in `nums`.  Did it work?"
   ]
  },
  {
   "cell_type": "code",
   "execution_count": 91,
   "id": "8aed1d53-99e8-41b9-9869-3067a22899bf",
   "metadata": {
    "editable": true,
    "slideshow": {
     "slide_type": ""
    },
    "tags": [
     "exercise"
    ]
   },
   "outputs": [
    {
     "data": {
      "text/plain": [
       "{ 1, 2, 3, 0, 555, 0, 105, 0, 0, 0 }"
      ]
     },
     "execution_count": 91,
     "metadata": {},
     "output_type": "execute_result"
    }
   ],
   "source": [
    "nums[6] = 'i';\n",
    "nums"
   ]
  },
  {
   "cell_type": "markdown",
   "id": "0bca32a1-2d19-4a12-a181-be153c06ce24",
   "metadata": {},
   "source": [
    "Make a new array called `small`, that contains only 8 boolean values.  Don't initialize it with any values.  What's the default?|"
   ]
  },
  {
   "cell_type": "code",
   "execution_count": 104,
   "id": "5c8381ab-a5e5-4d0b-8b56-d9f6379bf328",
   "metadata": {
    "editable": true,
    "slideshow": {
     "slide_type": ""
    },
    "tags": [
     "exercise"
    ]
   },
   "outputs": [
    {
     "data": {
      "text/plain": [
       "{ false, false, false, false, false, false, false, false }"
      ]
     },
     "execution_count": 104,
     "metadata": {},
     "output_type": "execute_result"
    }
   ],
   "source": [
    "bool small[8];\n",
    "small"
   ]
  },
  {
   "cell_type": "markdown",
   "id": "3f8ce0c7-5403-457b-bc11-844877679bf6",
   "metadata": {},
   "source": [
    "Use the `sizeof()` function.  How many big is the `small` array?"
   ]
  },
  {
   "cell_type": "code",
   "execution_count": 109,
   "id": "537af886-b85f-4b09-9961-2dc2d2353515",
   "metadata": {
    "editable": true,
    "slideshow": {
     "slide_type": ""
    },
    "tags": [
     "exercise"
    ]
   },
   "outputs": [
    {
     "data": {
      "text/plain": [
       "8"
      ]
     },
     "execution_count": 109,
     "metadata": {},
     "output_type": "execute_result"
    }
   ],
   "source": [
    "sizeof(small)"
   ]
  },
  {
   "cell_type": "markdown",
   "id": "cd6ceffa-af02-4498-be5a-4b4201e567e7",
   "metadata": {},
   "source": [
    "Use the `sizeof()` function. How big is the `nums` array?  Is this what was expected? What does this mean about what `sizeof()` is calculating?"
   ]
  },
  {
   "cell_type": "code",
   "execution_count": 113,
   "id": "2e840cb4-32d5-4ec6-8319-faade4975224",
   "metadata": {
    "editable": true,
    "slideshow": {
     "slide_type": ""
    },
    "tags": [
     "exercise"
    ]
   },
   "outputs": [
    {
     "data": {
      "text/plain": [
       "40"
      ]
     },
     "execution_count": 113,
     "metadata": {},
     "output_type": "execute_result"
    }
   ],
   "source": [
    "sizeof(nums)"
   ]
  },
  {
   "cell_type": "markdown",
   "id": "b8551419-7566-448f-af9f-47e2930abc4f",
   "metadata": {},
   "source": [
    "Make an array of integers called `birthday` that stores the year, month, and day of your birthday.  Make it have the smallest `sizeof()` measurement you can, while still storing the data correctly."
   ]
  },
  {
   "cell_type": "markdown",
   "id": "62a5d972-5b9d-488e-b042-03144f6fe068",
   "metadata": {},
   "source": [
    "Declare an array of `chars` called `myName` and initialize it with your name."
   ]
  },
  {
   "cell_type": "code",
   "execution_count": 24,
   "id": "57a4528f-b96e-455c-97f9-1340401a9d17",
   "metadata": {
    "editable": true,
    "slideshow": {
     "slide_type": ""
    },
    "tags": [
     "exercise"
    ]
   },
   "outputs": [
    {
     "data": {
      "text/plain": [
       "\"Nick\""
      ]
     },
     "execution_count": 24,
     "metadata": {},
     "output_type": "execute_result"
    }
   ],
   "source": [
    "char myName[5] = \"Nick\";\n",
    "myName"
   ]
  },
  {
   "cell_type": "markdown",
   "id": "31092ffb-ef01-45de-a86e-f513b081bc4f",
   "metadata": {},
   "source": [
    "Change the first character of the string to 'A'."
   ]
  },
  {
   "cell_type": "code",
   "execution_count": 116,
   "id": "c19c1a15-388a-45c6-acc9-ed5f53ecfb68",
   "metadata": {
    "editable": true,
    "slideshow": {
     "slide_type": ""
    },
    "tags": [
     "exercise"
    ]
   },
   "outputs": [
    {
     "data": {
      "text/plain": [
       "\"Aick\""
      ]
     },
     "execution_count": 116,
     "metadata": {},
     "output_type": "execute_result"
    }
   ],
   "source": [
    "myName[0] = 'A';\n",
    "myName"
   ]
  },
  {
   "cell_type": "markdown",
   "id": "728946aa-1e42-4687-b9e8-5d0892a237c2",
   "metadata": {},
   "source": [
    "Change the last character of the string to 'Z'"
   ]
  },
  {
   "cell_type": "code",
   "execution_count": 117,
   "id": "b1ac9af1-0180-476e-bc72-ce99b11a1cf3",
   "metadata": {
    "editable": true,
    "slideshow": {
     "slide_type": ""
    },
    "tags": [
     "exercise"
    ]
   },
   "outputs": [
    {
     "data": {
      "text/plain": [
       "\"AickZ\""
      ]
     },
     "execution_count": 117,
     "metadata": {},
     "output_type": "execute_result"
    }
   ],
   "source": [
    "myName[4] = 'Z';\n",
    "myName"
   ]
  },
  {
   "cell_type": "markdown",
   "id": "acf76fde-53f6-4cc3-ab91-fe8651efad45",
   "metadata": {},
   "source": [
    "Replace your name entirely with your last name. (Note that this doesn't work the same way as with numbers; the `strcpy(old, new)` function is useful for this)."
   ]
  },
  {
   "cell_type": "code",
   "execution_count": 28,
   "id": "45fdbabf-6104-4145-83e4-4dca0a70cb27",
   "metadata": {
    "editable": true,
    "slideshow": {
     "slide_type": ""
    },
    "tags": [
     "exercise"
    ]
   },
   "outputs": [
    {
     "data": {
      "text/plain": [
       "\"Josep\""
      ]
     },
     "execution_count": 28,
     "metadata": {},
     "output_type": "execute_result"
    }
   ],
   "source": [
    "strcpy(myName, \"Josephina\");\n",
    "myName"
   ]
  },
  {
   "attachments": {},
   "cell_type": "markdown",
   "id": "f674d296-844e-4abd-b818-bcd504388477",
   "metadata": {},
   "source": [
    "## Structures and Structure Arrays\n",
    "\n",
    "Great code is self-documented, and the simplest way to compress your data into small packets and make your code readable at the same time is the handy `struct`! \n",
    "\n",
    "| Code | Description |\n",
    "| :-- | :-- |\n",
    "| `struct MyStruct {int a; short b; unsigned char c;}` |  Creates a structure called `MyStruct` with three named variables |\n",
    "| `struct MyStruct x = {1, 2, 3}` | Puts data into the structure. |\n",
    "| `x.a` | Gets the data from the `a` variable in the structure |"
   ]
  },
  {
   "cell_type": "markdown",
   "id": "4f87caa2-75fb-411a-bb3f-5e36122b2372",
   "metadata": {},
   "source": [
    "**Exercises**"
   ]
  },
  {
   "cell_type": "markdown",
   "id": "17750596-9219-40ec-aced-1c2fda466fba",
   "metadata": {},
   "source": [
    "Make a `Birthday` struct containing the year, month, and day of a birthday."
   ]
  },
  {
   "cell_type": "code",
   "execution_count": 82,
   "id": "b87bbd71-cd02-4cf0-9bd6-8b52b575231c",
   "metadata": {
    "editable": true,
    "slideshow": {
     "slide_type": ""
    },
    "tags": [
     "exercise"
    ]
   },
   "outputs": [],
   "source": [
    "struct Birthday {int year; int month; int day;}\n",
    "Birthday"
   ]
  },
  {
   "cell_type": "markdown",
   "id": "7dbe3374-70e3-4196-a4ec-4a01fddf65d4",
   "metadata": {},
   "source": [
    "Store a birthday into a `Birthday` struct, called `bday`.  Note that printing this will be tricky, you'll get an error. "
   ]
  },
  {
   "cell_type": "code",
   "execution_count": 83,
   "id": "1aaf9051-f1b9-45b2-8c42-f859dc7c318f",
   "metadata": {
    "editable": true,
    "slideshow": {
     "slide_type": ""
    },
    "tags": [
     "exercise"
    ]
   },
   "outputs": [],
   "source": [
    "struct Birthday bday = {2022, 7, 23};"
   ]
  },
  {
   "cell_type": "markdown",
   "id": "0e6e5dfe-134f-4331-b662-44bd59dcb23e",
   "metadata": {},
   "source": [
    "Access the `month` field from `bday`.  Is it correct?"
   ]
  },
  {
   "cell_type": "code",
   "execution_count": 84,
   "id": "617986a6-d719-4038-8fc1-dbf34e97275a",
   "metadata": {
    "editable": true,
    "slideshow": {
     "slide_type": ""
    },
    "tags": [
     "exercise"
    ]
   },
   "outputs": [
    {
     "data": {
      "text/plain": [
       "7"
      ]
     },
     "execution_count": 84,
     "metadata": {},
     "output_type": "execute_result"
    }
   ],
   "source": [
    "+bday.month"
   ]
  },
  {
   "cell_type": "markdown",
   "id": "ee6fc05b-e99e-4007-854a-de40b78ad8b0",
   "metadata": {},
   "source": [
    "Access the `day` field from `bday1`. Is it correct?"
   ]
  },
  {
   "cell_type": "code",
   "execution_count": 85,
   "id": "d27915ab-7e13-4970-881a-0ccc39cf3953",
   "metadata": {
    "editable": true,
    "slideshow": {
     "slide_type": ""
    },
    "tags": [
     "exercise"
    ]
   },
   "outputs": [
    {
     "data": {
      "text/plain": [
       "23"
      ]
     },
     "execution_count": 85,
     "metadata": {},
     "output_type": "execute_result"
    }
   ],
   "source": [
    "+bday.day"
   ]
  },
  {
   "cell_type": "markdown",
   "id": "c038bf2b-975c-44b3-be80-2c75eebab627",
   "metadata": {},
   "source": [
    "How many bytes does `bday1` take up?  "
   ]
  },
  {
   "cell_type": "code",
   "execution_count": 86,
   "id": "552a9ad8-4e94-4b35-bb5f-464bcff5fe6d",
   "metadata": {
    "editable": true,
    "slideshow": {
     "slide_type": ""
    },
    "tags": [
     "exercise"
    ]
   },
   "outputs": [
    {
     "data": {
      "text/plain": [
       "12"
      ]
     },
     "execution_count": 86,
     "metadata": {},
     "output_type": "execute_result"
    }
   ],
   "source": [
    "sizeof(bday)"
   ]
  },
  {
   "cell_type": "markdown",
   "id": "6d35f111-8d0f-4616-b91c-667e07ac8f51",
   "metadata": {},
   "source": [
    "Make a the `Birthday2` struct so that it takes up as little possible space to store the information accurately.  Could you get it smaller than the array you used before?"
   ]
  },
  {
   "cell_type": "code",
   "execution_count": 2,
   "id": "169ddc38-cd96-43f2-b59b-d2cf5cf52fc3",
   "metadata": {
    "editable": true,
    "slideshow": {
     "slide_type": ""
    },
    "tags": [
     "exercise"
    ]
   },
   "outputs": [
    {
     "data": {
      "text/plain": [
       "4"
      ]
     },
     "execution_count": 2,
     "metadata": {},
     "output_type": "execute_result"
    }
   ],
   "source": [
    "struct Birthday2 {ushort year; unsigned char month; unsigned char day;};\n",
    "struct Birthday2 bday2 = {2022, 7, 23};\n",
    "sizeof(bday2)"
   ]
  },
  {
   "cell_type": "markdown",
   "id": "216ec114-096d-4ba2-83d0-0b28b59e9fa3",
   "metadata": {
    "editable": true,
    "slideshow": {
     "slide_type": ""
    },
    "tags": []
   },
   "source": [
    "Make an array of structs containing three birthdays, called `bdays`.  Fill the array with the three birthdays' data."
   ]
  },
  {
   "cell_type": "code",
   "execution_count": 4,
   "id": "435ba9aa-03aa-4dee-b5c3-11fb23c38106",
   "metadata": {
    "editable": true,
    "slideshow": {
     "slide_type": ""
    },
    "tags": [
     "exercise"
    ]
   },
   "outputs": [],
   "source": [
    "struct Birthday2 bdays[3];\n",
    "bdays[0] = {1988, 1, 15};\n",
    "bdays[1] = {2222, 3, 2};\n",
    "bdays[2] = {3333, 11, 12};"
   ]
  },
  {
   "cell_type": "markdown",
   "id": "680c4491-b209-41b3-b927-ddbf4606322f",
   "metadata": {},
   "source": [
    "Print the month of the first birthday in `bdays`:"
   ]
  },
  {
   "cell_type": "code",
   "execution_count": 97,
   "id": "93a17f55-fc8a-4685-a6c0-a5099c8c60f3",
   "metadata": {
    "editable": true,
    "slideshow": {
     "slide_type": ""
    },
    "tags": [
     "exercise"
    ]
   },
   "outputs": [
    {
     "data": {
      "text/plain": [
       "1"
      ]
     },
     "execution_count": 97,
     "metadata": {},
     "output_type": "execute_result"
    }
   ],
   "source": [
    "bdays[0].month"
   ]
  },
  {
   "cell_type": "markdown",
   "id": "7b501214-45f8-441a-b2ad-fd457073b6a7",
   "metadata": {},
   "source": [
    "Print the day of the second birthday in `bdays`"
   ]
  },
  {
   "cell_type": "code",
   "execution_count": 98,
   "id": "1ef3e500-12b2-428d-a15e-ac4ea7d5aa2d",
   "metadata": {
    "editable": true,
    "slideshow": {
     "slide_type": ""
    },
    "tags": [
     "exercise"
    ]
   },
   "outputs": [
    {
     "data": {
      "text/plain": [
       "2"
      ]
     },
     "execution_count": 98,
     "metadata": {},
     "output_type": "execute_result"
    }
   ],
   "source": [
    "bdays[1].day"
   ]
  },
  {
   "cell_type": "markdown",
   "id": "0503265c-0cc2-4ce8-987b-102da997dd00",
   "metadata": {},
   "source": [
    "Print the year of the third birthday in `bdays`"
   ]
  },
  {
   "cell_type": "code",
   "execution_count": 99,
   "id": "2ee6e936-17f2-4845-a0ec-c8da14456af2",
   "metadata": {
    "editable": true,
    "slideshow": {
     "slide_type": ""
    },
    "tags": [
     "exercise"
    ]
   },
   "outputs": [
    {
     "data": {
      "text/plain": [
       "3333"
      ]
     },
     "execution_count": 99,
     "metadata": {},
     "output_type": "execute_result"
    }
   ],
   "source": [
    "bdays[2].year"
   ]
  },
  {
   "cell_type": "markdown",
   "id": "efeaedf5-4e57-43e6-85ad-3ed4d352beda",
   "metadata": {},
   "source": [
    "How many bytes does `bdays` take up?"
   ]
  },
  {
   "cell_type": "code",
   "execution_count": 100,
   "id": "17bd3233-0ddc-4893-a2c3-b2b727c4b1f4",
   "metadata": {
    "editable": true,
    "slideshow": {
     "slide_type": ""
    },
    "tags": [
     "exercise"
    ]
   },
   "outputs": [
    {
     "data": {
      "text/plain": [
       "36"
      ]
     },
     "execution_count": 100,
     "metadata": {},
     "output_type": "execute_result"
    }
   ],
   "source": [
    "sizeof(bdays)"
   ]
  }
 ],
 "metadata": {
  "kernelspec": {
   "display_name": "C++17",
   "language": "C++17",
   "name": "xcpp17"
  },
  "language_info": {
   "codemirror_mode": "text/x-c++src",
   "file_extension": ".cpp",
   "mimetype": "text/x-c++src",
   "name": "c++",
   "version": "17"
  }
 },
 "nbformat": 4,
 "nbformat_minor": 5
}
