{
 "cells": [
  {
   "cell_type": "code",
   "execution_count": 1,
   "metadata": {},
   "outputs": [],
   "source": [
    "import numpy as np"
   ]
  },
  {
   "cell_type": "markdown",
   "metadata": {},
   "source": [
    "# Data Serialization: Converting Data Structures to a String of Bytes for Storage\n",
    "\n",
    "- File Size Calculations, understanding dtype and the array format\n",
    "- Thinking about the difference between memory formats and serialization formats\n"
   ]
  },
  {
   "cell_type": "markdown",
   "metadata": {},
   "source": [
    "# Text"
   ]
  },
  {
   "cell_type": "markdown",
   "metadata": {},
   "source": [
    "## Variable-Length Text\n",
    "\n",
    "| Code | Description | \n",
    "| :-- | :-- |\n",
    "| `x.tofile(fname, sep)` | |\n",
    "| `x.tofile(fname, sep, fmt)` | |\n",
    "| `np.fromfile(fname, sep, dtype)` | |\n",
    "\n",
    "  - Format Codes"
   ]
  },
  {
   "cell_type": "code",
   "execution_count": null,
   "metadata": {},
   "outputs": [],
   "source": []
  },
  {
   "cell_type": "markdown",
   "metadata": {},
   "source": [
    "## "
   ]
  },
  {
   "cell_type": "code",
   "execution_count": 3,
   "metadata": {},
   "outputs": [
    {
     "name": "stderr",
     "output_type": "stream",
     "text": [
      "A subdirectory or file data2 already exists.\n",
      "C:\\Users\\NickDG\\AppData\\Local\\Temp\\ipykernel_26880\\283737261.py:4: DeprecationWarning: string or file could not be read to its end due to unmatched data; this will raise a ValueError in the future.\n",
      "  np.fromfile(\"data/x5_1.dat\", sep=',', dtype=np.int32)\n"
     ]
    },
    {
     "data": {
      "text/plain": [
       "array([0])"
      ]
     },
     "execution_count": 3,
     "metadata": {},
     "output_type": "execute_result"
    }
   ],
   "source": [
    "%mkdir data2\n",
    "x = np.arange(10)\n",
    "x.tofile(\"data2/x5_1.dat\", sep=',', format=\"%2d\")\n",
    "np.fromfile(\"data/x5_1.dat\", sep=',', dtype=np.int32)\n"
   ]
  },
  {
   "cell_type": "markdown",
   "metadata": {},
   "source": [
    "# Binary Flat Files"
   ]
  },
  {
   "cell_type": "markdown",
   "metadata": {},
   "source": [
    "## Saving Single Arrays to Disk\n",
    "\n",
    "(Copy to Memory and Memory Mapping)\n",
    "\n",
    "| Code | Description | \n",
    "| :-- | :-- |\n",
    "| `x.tobytes()` |  |\n",
    "| `x.tofile(fname)` |  |\n",
    "| `np.fromfile(fname, dtype)` |  |\n",
    "| `np.fromfile(fname, dtype).reshape()` |  |\n",
    "| `x.tofile(fname)` |  |\n",
    "| `y = np.memmap(fname, dtype, shape)` |  |\n",
    "| `del y; import gc; gc.collect()` |  |\n",
    "\n",
    "- astype"
   ]
  },
  {
   "cell_type": "code",
   "execution_count": 17,
   "metadata": {},
   "outputs": [
    {
     "data": {
      "text/plain": [
       "array([0, 0, 0, 0, 1, 0, 0, 0], dtype=uint8)"
      ]
     },
     "execution_count": 17,
     "metadata": {},
     "output_type": "execute_result"
    }
   ],
   "source": [
    "x = np.arange(2)\n",
    "x.tofile(\"data2/x5_1.dat\")\n",
    "np.fromfile(\"data2/x5_1.dat\", dtype=np.int32)\n",
    "np.fromfile(\"data2/x5_1.dat\", dtype=np.uint8)"
   ]
  },
  {
   "cell_type": "code",
   "execution_count": 13,
   "metadata": {},
   "outputs": [
    {
     "data": {
      "text/plain": [
       "b'\\x00\\x00\\x00\\x00\\x01\\x00\\x00\\x00\\x02\\x00\\x00\\x00\\x03\\x00\\x00\\x00\\x04\\x00\\x00\\x00\\x05\\x00\\x00\\x00\\x06\\x00\\x00\\x00\\x07\\x00\\x00\\x00\\x08\\x00\\x00\\x00\\t\\x00\\x00\\x00'"
      ]
     },
     "execution_count": 13,
     "metadata": {},
     "output_type": "execute_result"
    }
   ],
   "source": [
    "x.tobytes()"
   ]
  },
  {
   "cell_type": "markdown",
   "metadata": {},
   "source": [
    "Multidimensional Arrays: need to store the shape"
   ]
  },
  {
   "cell_type": "code",
   "execution_count": 19,
   "metadata": {},
   "outputs": [
    {
     "data": {
      "text/plain": [
       "array([[ 0,  1,  2,  3],\n",
       "       [ 4,  5,  6,  7],\n",
       "       [ 8,  9, 10, 11]])"
      ]
     },
     "execution_count": 19,
     "metadata": {},
     "output_type": "execute_result"
    }
   ],
   "source": [
    "x = np.arange(12).reshape(3, 4)\n",
    "x.tofile(\"data2/x6.dat\")\n",
    "np.fromfile(\"data2/x6.dat\", dtype=np.int32).reshape(3, 4)"
   ]
  },
  {
   "cell_type": "code",
   "execution_count": null,
   "metadata": {},
   "outputs": [],
   "source": [
    "x = np.arange(12).reshape(3, 4)\n",
    "x.tofile(\"data2/xx3.npy\")\n"
   ]
  },
  {
   "cell_type": "code",
   "execution_count": null,
   "metadata": {},
   "outputs": [
    {
     "data": {
      "text/plain": [
       "memmap([[ 0,  1,  2,  3],\n",
       "        [ 4,  5,  6,  7],\n",
       "        [ 8,  9, 10, 11]])"
      ]
     },
     "metadata": {},
     "output_type": "display_data"
    }
   ],
   "source": [
    "y = np.memmap(\"data2/xx3.dat\", dtype=np.int32, shape=(3, 4))\n",
    "y\n"
   ]
  },
  {
   "cell_type": "code",
   "execution_count": 83,
   "metadata": {},
   "outputs": [],
   "source": [
    "del y"
   ]
  },
  {
   "cell_type": "markdown",
   "metadata": {},
   "source": [
    "## Self-Describing Binary Files with NPY: Putting the File Format Metadata into the File itself\n",
    "\n",
    "| Code | Description |\n",
    "| :-- | :-- |\n",
    "| `np.save()` | |\n",
    "| `np.load()` | |"
   ]
  },
  {
   "cell_type": "code",
   "execution_count": 26,
   "metadata": {},
   "outputs": [
    {
     "data": {
      "text/plain": [
       "array([[ 0,  1,  2,  3],\n",
       "       [ 4,  5,  6,  7],\n",
       "       [ 8,  9, 10, 11]])"
      ]
     },
     "execution_count": 26,
     "metadata": {},
     "output_type": "execute_result"
    }
   ],
   "source": [
    "np.save( \"data2/xx4.npy\", np.arange(12).reshape(3, 4))\n",
    "np.load(\"data2/xx4.npy\")"
   ]
  },
  {
   "cell_type": "markdown",
   "metadata": {},
   "source": [
    "## NPY and NPZ Files\n",
    "\n",
    "| Code | Description |\n",
    "| :-- | :-- |\n",
    "| `np.save(fname, x)` | Save to NPY file |\n",
    "| `np.savez(fname, **vars)` | Save to NPZ file |\n",
    "| `np.load(fname`) | Load from either NPY or NPZ file |"
   ]
  },
  {
   "cell_type": "markdown",
   "metadata": {},
   "source": [
    "## (extra) Self-Describing Binary Flat Files: Using the Filename to store Format Metadata\n",
    "\n",
    "| Code | Description |\n",
    "| :-- | :-- |\n",
    "| `a, b, *c = [1, 2, 3, 4, 5]` |  |\n",
    "| `str.split()` |  |\n",
    "| `np.array(x).astype(dtype)` |   |\n",
    "| `getattr(np, name)` |  |\n",
    "| `x.reshape()` |  |\n",
    "| `np.fromfile(fname, dtype).reshape(shape)`  |   |"
   ]
  },
  {
   "cell_type": "code",
   "execution_count": 39,
   "metadata": {},
   "outputs": [
    {
     "data": {
      "text/plain": [
       "array([[ 0,  1,  2,  3,  4],\n",
       "       [ 5,  6,  7,  8,  9],\n",
       "       [10, 11, 12, 13, 14],\n",
       "       [15, 16, 17, 18, 19]])"
      ]
     },
     "execution_count": 39,
     "metadata": {},
     "output_type": "execute_result"
    }
   ],
   "source": [
    "x = np.arange(20, dtype=np.int32).reshape(4, 5)\n",
    "fname = \"name_int32_4_5.dat\"\n",
    "x.tofile(fname)\n",
    "\n",
    "name, dtype, *shape = fname.split('.')[0].split('_')\n",
    "shape = np.array(shape).astype(int)\n",
    "np.fromfile(fname, dtype=getattr(np, dtype)).reshape(shape)"
   ]
  },
  {
   "cell_type": "markdown",
   "metadata": {},
   "source": [
    "## Inserting Metadata into Numpy Files\n",
    "\n",
    "  - Single-item arrays\n",
    "  - Problems with Pickling\n",
    "  - Pre-Serializing Data"
   ]
  },
  {
   "cell_type": "code",
   "execution_count": null,
   "metadata": {},
   "outputs": [],
   "source": [
    "mdata = {'author': 'Emma', 'age': 1.5}\n",
    "np.savez('data2/ee.npz', mdata=mdata)\n",
    "np.load('data2/ee.npz', allow_pickle=True)['mdata'].item()"
   ]
  },
  {
   "cell_type": "code",
   "execution_count": null,
   "metadata": {},
   "outputs": [
    {
     "data": {
      "text/plain": [
       "'Emma'"
      ]
     },
     "metadata": {},
     "output_type": "display_data"
    }
   ],
   "source": [
    "np.savez('data2/ee.npz', **mdata)\n",
    "dict(np.load('data2/ee.npz'))\n",
    "np.load('data2/ee.npz')['author'].item()"
   ]
  },
  {
   "cell_type": "code",
   "execution_count": null,
   "metadata": {},
   "outputs": [
    {
     "data": {
      "text/plain": [
       "{'author': 'Emma', 'age': 1.5}"
      ]
     },
     "metadata": {},
     "output_type": "display_data"
    }
   ],
   "source": [
    "import json\n",
    "np.savez('data2/ee2.npz', mdata=json.dumps(mdata))\n",
    "json.loads(np.load('data2/ee2.npz')['mdata'].item())"
   ]
  }
 ],
 "metadata": {
  "kernelspec": {
   "display_name": "duckdb",
   "language": "python",
   "name": "python3"
  },
  "language_info": {
   "codemirror_mode": {
    "name": "ipython",
    "version": 3
   },
   "file_extension": ".py",
   "mimetype": "text/x-python",
   "name": "python",
   "nbconvert_exporter": "python",
   "pygments_lexer": "ipython3",
   "version": "3.11.7"
  }
 },
 "nbformat": 4,
 "nbformat_minor": 2
}
