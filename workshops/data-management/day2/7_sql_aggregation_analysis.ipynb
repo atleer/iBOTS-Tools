{
 "cells": [
  {
   "cell_type": "code",
   "execution_count": null,
   "metadata": {},
   "outputs": [],
   "source": []
  },
  {
   "cell_type": "markdown",
   "metadata": {},
   "source": [
    "# Aggregating Data Using Statistical Functions in SQL\n",
    "\n"
   ]
  },
  {
   "cell_type": "markdown",
   "metadata": {},
   "source": [
    "## Transformations in SQL SELECT Statements\n",
    "\n",
    "Simple transformations and renaming operations can be done in-line in a query; DuckDB (and most SQL RDBMS flavors in general) support a wide variety of operations on a wide variety of date types.  \n",
    "\n",
    "Here, we'll look mainly at numeric and text data:\n",
    "\n",
    "| Code | Description |\n",
    "| :--- | :--- |\n",
    "| **`SELECT cos(x) FROM my_table`** | Get the cosine of the \"x\" column. |\n",
    "| **`SELECT cos(x) as cs FROM my_table`** | Get the cosine of the \"x\" column and rename it to \"cs\". |\n",
    "| **`SELECT cos(x) as cs, sin(x) as sc FROM my_table`** | Calculate the sine and cosine of x and make two columns out of them. |\n",
    "| **`SELECT round(x, 2), floor(x), ceil(x) from my_table`** | Round x to 2 decimal places, round it down, and round it up. |\n",
    "| **`SELECT x * 2, x + 2, x - 2, x / 2 FROM my_table`** | Do arithmetic on x. |\n",
    "| **`SELECT upper(t), lower(t), reverse(t) FROM my_table`** | Uppercase, lowercase, and reverse the text in the t column. |\n",
    "| **`SELECT left(t, 4), right(t, 4) FROM my_table`** | Extract the left-most 4 characters and right right-most 4 characters from t. |\n",
    "\n",
    "  - Numeric Function: https://duckdb.org/docs/sql/functions/numeric\n",
    "  - Text Functions: https://duckdb.org/docs/sql/functions/char\n",
    "  - Overview over all supported types: https://duckdb.org/docs/sql/functions/overview"
   ]
  },
  {
   "cell_type": "markdown",
   "metadata": {},
   "source": [
    "#### Download the Data\n",
    "\n",
    "For the next sections, we'll be exploring some data from a Steinmetz et al NeuroPixel experiment, processed here into JSON files for our tabular analysis, along with some other familiar file types.  Please run the code below to download the data.  It will take 5-10 minutes to download."
   ]
  },
  {
   "cell_type": "code",
   "execution_count": null,
   "metadata": {},
   "outputs": [],
   "source": [
    "# %pip install tqdm webdav4 requests fsspec"
   ]
  },
  {
   "cell_type": "code",
   "execution_count": 2,
   "metadata": {},
   "outputs": [
    {
     "name": "stderr",
     "output_type": "stream",
     "text": [
      "Downloading Data to data/stenmetz: 100%|██████████| 37/37 [01:32<00:00,  2.50s/it]\n"
     ]
    }
   ],
   "source": [
    "from tqdm import tqdm\n",
    "from pathlib import Path\n",
    "from webdav4.fsspec import WebdavFileSystem\n",
    "\n",
    "# https://uni-bonn.sciebo.de/s/oZql1bk0p1AvK0w\n",
    "fs = WebdavFileSystem(\"https://uni-bonn.sciebo.de/public.php/webdav\", auth=(\"oZql1bk0p1AvK0w\", \"\"))\n",
    "for name in tqdm(fs.ls(\"/\", detail=False), desc=\"Downloading Data to data/stenmetz\"):\n",
    "    if not Path(f\"data/steinmetz/{name}\").exists():\n",
    "        fs.download(name, f\"data/steinmetz/{name}\", recursive=True)"
   ]
  },
  {
   "cell_type": "markdown",
   "metadata": {},
   "source": [
    "**Exercises**: Transform the columns in various the Steinmetz dataset"
   ]
  },
  {
   "cell_type": "code",
   "execution_count": 3,
   "metadata": {},
   "outputs": [],
   "source": [
    "# %pip install duckdb pandas "
   ]
  },
  {
   "cell_type": "code",
   "execution_count": 4,
   "metadata": {},
   "outputs": [],
   "source": [
    "from duckdb import sql"
   ]
  },
  {
   "cell_type": "markdown",
   "metadata": {},
   "source": [
    "**Example**: Get the response time in milliseconds for all trials in the experiment."
   ]
  },
  {
   "cell_type": "code",
   "execution_count": 24,
   "metadata": {},
   "outputs": [
    {
     "data": {
      "text/html": [
       "<div>\n",
       "<style scoped>\n",
       "    .dataframe tbody tr th:only-of-type {\n",
       "        vertical-align: middle;\n",
       "    }\n",
       "\n",
       "    .dataframe tbody tr th {\n",
       "        vertical-align: top;\n",
       "    }\n",
       "\n",
       "    .dataframe thead th {\n",
       "        text-align: right;\n",
       "    }\n",
       "</style>\n",
       "<table border=\"1\" class=\"dataframe\">\n",
       "  <thead>\n",
       "    <tr style=\"text-align: right;\">\n",
       "      <th></th>\n",
       "      <th>resp_msecs</th>\n",
       "    </tr>\n",
       "  </thead>\n",
       "  <tbody>\n",
       "    <tr>\n",
       "      <th>0</th>\n",
       "      <td>1433.915727</td>\n",
       "    </tr>\n",
       "    <tr>\n",
       "      <th>1</th>\n",
       "      <td>2001.065710</td>\n",
       "    </tr>\n",
       "    <tr>\n",
       "      <th>2</th>\n",
       "      <td>1251.114625</td>\n",
       "    </tr>\n",
       "    <tr>\n",
       "      <th>3</th>\n",
       "      <td>1334.219182</td>\n",
       "    </tr>\n",
       "    <tr>\n",
       "      <th>4</th>\n",
       "      <td>683.367530</td>\n",
       "    </tr>\n",
       "    <tr>\n",
       "      <th>...</th>\n",
       "      <td>...</td>\n",
       "    </tr>\n",
       "    <tr>\n",
       "      <th>13612</th>\n",
       "      <td>NaN</td>\n",
       "    </tr>\n",
       "    <tr>\n",
       "      <th>13613</th>\n",
       "      <td>NaN</td>\n",
       "    </tr>\n",
       "    <tr>\n",
       "      <th>13614</th>\n",
       "      <td>NaN</td>\n",
       "    </tr>\n",
       "    <tr>\n",
       "      <th>13615</th>\n",
       "      <td>NaN</td>\n",
       "    </tr>\n",
       "    <tr>\n",
       "      <th>13616</th>\n",
       "      <td>NaN</td>\n",
       "    </tr>\n",
       "  </tbody>\n",
       "</table>\n",
       "<p>13617 rows × 1 columns</p>\n",
       "</div>"
      ],
      "text/plain": [
       "        resp_msecs\n",
       "0      1433.915727\n",
       "1      2001.065710\n",
       "2      1251.114625\n",
       "3      1334.219182\n",
       "4       683.367530\n",
       "...            ...\n",
       "13612          NaN\n",
       "13613          NaN\n",
       "13614          NaN\n",
       "13615          NaN\n",
       "13616          NaN\n",
       "\n",
       "[13617 rows x 1 columns]"
      ]
     },
     "execution_count": 24,
     "metadata": {},
     "output_type": "execute_result"
    }
   ],
   "source": [
    "query = \"\"\"\n",
    "SELECT                                    -- Select Specific Columns\n",
    "    response_time * 1000 as resp_msecs    -- Multiply the response time column by 1000 and rename it.\n",
    "FROM '**/trials.csv';                     -- Read all the CSV files into a table.\n",
    "\"\"\"\n",
    "sql(query).to_df()"
   ]
  },
  {
   "cell_type": "markdown",
   "metadata": {},
   "source": [
    "Get the feedback time in milliseconds for all trials in the experiment."
   ]
  },
  {
   "cell_type": "code",
   "execution_count": 25,
   "metadata": {},
   "outputs": [
    {
     "data": {
      "text/html": [
       "<div>\n",
       "<style scoped>\n",
       "    .dataframe tbody tr th:only-of-type {\n",
       "        vertical-align: middle;\n",
       "    }\n",
       "\n",
       "    .dataframe tbody tr th {\n",
       "        vertical-align: top;\n",
       "    }\n",
       "\n",
       "    .dataframe thead th {\n",
       "        text-align: right;\n",
       "    }\n",
       "</style>\n",
       "<table border=\"1\" class=\"dataframe\">\n",
       "  <thead>\n",
       "    <tr style=\"text-align: right;\">\n",
       "      <th></th>\n",
       "      <th>feedback_msecs</th>\n",
       "    </tr>\n",
       "  </thead>\n",
       "  <tbody>\n",
       "    <tr>\n",
       "      <th>0</th>\n",
       "      <td>1471.223129</td>\n",
       "    </tr>\n",
       "    <tr>\n",
       "      <th>1</th>\n",
       "      <td>2004.431558</td>\n",
       "    </tr>\n",
       "    <tr>\n",
       "      <th>2</th>\n",
       "      <td>1286.820215</td>\n",
       "    </tr>\n",
       "    <tr>\n",
       "      <th>3</th>\n",
       "      <td>1372.021561</td>\n",
       "    </tr>\n",
       "    <tr>\n",
       "      <th>4</th>\n",
       "      <td>718.411230</td>\n",
       "    </tr>\n",
       "    <tr>\n",
       "      <th>...</th>\n",
       "      <td>...</td>\n",
       "    </tr>\n",
       "    <tr>\n",
       "      <th>13612</th>\n",
       "      <td>NaN</td>\n",
       "    </tr>\n",
       "    <tr>\n",
       "      <th>13613</th>\n",
       "      <td>NaN</td>\n",
       "    </tr>\n",
       "    <tr>\n",
       "      <th>13614</th>\n",
       "      <td>NaN</td>\n",
       "    </tr>\n",
       "    <tr>\n",
       "      <th>13615</th>\n",
       "      <td>NaN</td>\n",
       "    </tr>\n",
       "    <tr>\n",
       "      <th>13616</th>\n",
       "      <td>NaN</td>\n",
       "    </tr>\n",
       "  </tbody>\n",
       "</table>\n",
       "<p>13617 rows × 1 columns</p>\n",
       "</div>"
      ],
      "text/plain": [
       "       feedback_msecs\n",
       "0         1471.223129\n",
       "1         2004.431558\n",
       "2         1286.820215\n",
       "3         1372.021561\n",
       "4          718.411230\n",
       "...               ...\n",
       "13612             NaN\n",
       "13613             NaN\n",
       "13614             NaN\n",
       "13615             NaN\n",
       "13616             NaN\n",
       "\n",
       "[13617 rows x 1 columns]"
      ]
     },
     "execution_count": 25,
     "metadata": {},
     "output_type": "execute_result"
    }
   ],
   "source": [
    "query = \"\"\"\n",
    "SELECT \n",
    "    feedback_time * 1000 as feedback_msecs \n",
    "FROM '**/trials.csv';\n",
    "\"\"\"\n",
    "sql(query).to_df()"
   ]
  },
  {
   "cell_type": "markdown",
   "metadata": {},
   "source": [
    "Get both the response time and feedback time in milliseconds for all trials in the experiment."
   ]
  },
  {
   "cell_type": "code",
   "execution_count": 26,
   "metadata": {},
   "outputs": [
    {
     "data": {
      "text/html": [
       "<div>\n",
       "<style scoped>\n",
       "    .dataframe tbody tr th:only-of-type {\n",
       "        vertical-align: middle;\n",
       "    }\n",
       "\n",
       "    .dataframe tbody tr th {\n",
       "        vertical-align: top;\n",
       "    }\n",
       "\n",
       "    .dataframe thead th {\n",
       "        text-align: right;\n",
       "    }\n",
       "</style>\n",
       "<table border=\"1\" class=\"dataframe\">\n",
       "  <thead>\n",
       "    <tr style=\"text-align: right;\">\n",
       "      <th></th>\n",
       "      <th>feedback_msecs</th>\n",
       "      <th>resp_msecs</th>\n",
       "    </tr>\n",
       "  </thead>\n",
       "  <tbody>\n",
       "    <tr>\n",
       "      <th>0</th>\n",
       "      <td>1471.223129</td>\n",
       "      <td>1433.915727</td>\n",
       "    </tr>\n",
       "    <tr>\n",
       "      <th>1</th>\n",
       "      <td>2004.431558</td>\n",
       "      <td>2001.065710</td>\n",
       "    </tr>\n",
       "    <tr>\n",
       "      <th>2</th>\n",
       "      <td>1286.820215</td>\n",
       "      <td>1251.114625</td>\n",
       "    </tr>\n",
       "    <tr>\n",
       "      <th>3</th>\n",
       "      <td>1372.021561</td>\n",
       "      <td>1334.219182</td>\n",
       "    </tr>\n",
       "    <tr>\n",
       "      <th>4</th>\n",
       "      <td>718.411230</td>\n",
       "      <td>683.367530</td>\n",
       "    </tr>\n",
       "    <tr>\n",
       "      <th>...</th>\n",
       "      <td>...</td>\n",
       "      <td>...</td>\n",
       "    </tr>\n",
       "    <tr>\n",
       "      <th>13612</th>\n",
       "      <td>NaN</td>\n",
       "      <td>NaN</td>\n",
       "    </tr>\n",
       "    <tr>\n",
       "      <th>13613</th>\n",
       "      <td>NaN</td>\n",
       "      <td>NaN</td>\n",
       "    </tr>\n",
       "    <tr>\n",
       "      <th>13614</th>\n",
       "      <td>NaN</td>\n",
       "      <td>NaN</td>\n",
       "    </tr>\n",
       "    <tr>\n",
       "      <th>13615</th>\n",
       "      <td>NaN</td>\n",
       "      <td>NaN</td>\n",
       "    </tr>\n",
       "    <tr>\n",
       "      <th>13616</th>\n",
       "      <td>NaN</td>\n",
       "      <td>NaN</td>\n",
       "    </tr>\n",
       "  </tbody>\n",
       "</table>\n",
       "<p>13617 rows × 2 columns</p>\n",
       "</div>"
      ],
      "text/plain": [
       "       feedback_msecs   resp_msecs\n",
       "0         1471.223129  1433.915727\n",
       "1         2004.431558  2001.065710\n",
       "2         1286.820215  1251.114625\n",
       "3         1372.021561  1334.219182\n",
       "4          718.411230   683.367530\n",
       "...               ...          ...\n",
       "13612             NaN          NaN\n",
       "13613             NaN          NaN\n",
       "13614             NaN          NaN\n",
       "13615             NaN          NaN\n",
       "13616             NaN          NaN\n",
       "\n",
       "[13617 rows x 2 columns]"
      ]
     },
     "execution_count": 26,
     "metadata": {},
     "output_type": "execute_result"
    }
   ],
   "source": [
    "query = \"\"\"\n",
    "SELECT \n",
    "    feedback_time * 1000 as feedback_msecs,\n",
    "    response_time * 1000 as resp_msecs,\n",
    "FROM '**/trials.csv';\n",
    "\"\"\"\n",
    "sql(query).to_df()"
   ]
  },
  {
   "cell_type": "markdown",
   "metadata": {},
   "source": [
    "Lowercase the mouse name in the all sessions"
   ]
  },
  {
   "cell_type": "code",
   "execution_count": 44,
   "metadata": {},
   "outputs": [
    {
     "data": {
      "text/html": [
       "<div>\n",
       "<style scoped>\n",
       "    .dataframe tbody tr th:only-of-type {\n",
       "        vertical-align: middle;\n",
       "    }\n",
       "\n",
       "    .dataframe tbody tr th {\n",
       "        vertical-align: top;\n",
       "    }\n",
       "\n",
       "    .dataframe thead th {\n",
       "        text-align: right;\n",
       "    }\n",
       "</style>\n",
       "<table border=\"1\" class=\"dataframe\">\n",
       "  <thead>\n",
       "    <tr style=\"text-align: right;\">\n",
       "      <th></th>\n",
       "      <th>mouse</th>\n",
       "      <th>session_date</th>\n",
       "      <th>stim_onset</th>\n",
       "      <th>bin_size</th>\n",
       "      <th>id</th>\n",
       "    </tr>\n",
       "  </thead>\n",
       "  <tbody>\n",
       "    <tr>\n",
       "      <th>0</th>\n",
       "      <td>muller</td>\n",
       "      <td>2017-01-07</td>\n",
       "      <td>0.5</td>\n",
       "      <td>0.01</td>\n",
       "      <td>b5b6</td>\n",
       "    </tr>\n",
       "    <tr>\n",
       "      <th>1</th>\n",
       "      <td>muller</td>\n",
       "      <td>2017-01-08</td>\n",
       "      <td>0.5</td>\n",
       "      <td>0.01</td>\n",
       "      <td>49bb</td>\n",
       "    </tr>\n",
       "    <tr>\n",
       "      <th>2</th>\n",
       "      <td>radnitz</td>\n",
       "      <td>2017-01-08</td>\n",
       "      <td>0.5</td>\n",
       "      <td>0.01</td>\n",
       "      <td>769e</td>\n",
       "    </tr>\n",
       "    <tr>\n",
       "      <th>3</th>\n",
       "      <td>muller</td>\n",
       "      <td>2017-01-09</td>\n",
       "      <td>0.5</td>\n",
       "      <td>0.01</td>\n",
       "      <td>31dc</td>\n",
       "    </tr>\n",
       "    <tr>\n",
       "      <th>4</th>\n",
       "      <td>radnitz</td>\n",
       "      <td>2017-01-09</td>\n",
       "      <td>0.5</td>\n",
       "      <td>0.01</td>\n",
       "      <td>99f4</td>\n",
       "    </tr>\n",
       "  </tbody>\n",
       "</table>\n",
       "</div>"
      ],
      "text/plain": [
       "     mouse session_date  stim_onset  bin_size    id\n",
       "0   muller   2017-01-07         0.5      0.01  b5b6\n",
       "1   muller   2017-01-08         0.5      0.01  49bb\n",
       "2  radnitz   2017-01-08         0.5      0.01  769e\n",
       "3   muller   2017-01-09         0.5      0.01  31dc\n",
       "4  radnitz   2017-01-09         0.5      0.01  99f4"
      ]
     },
     "execution_count": 44,
     "metadata": {},
     "output_type": "execute_result"
    }
   ],
   "source": [
    "query = \"\"\"\n",
    "SELECT\n",
    "    lower(mouse) as mouse,\n",
    "    * EXCLUDE (mouse),\n",
    "FROM '**/session.json';\n",
    "\"\"\"\n",
    "sql(query).to_df().head()"
   ]
  },
  {
   "cell_type": "markdown",
   "metadata": {},
   "source": [
    "In this experiment, the mouse's task is to compare the contrast levels of the left and right stimulus, and to decide which contrast is higher.  Use SQL to make a new `contrast_diff` column that subtracts `contrast_right` from `contrast_left`."
   ]
  },
  {
   "cell_type": "code",
   "execution_count": 48,
   "metadata": {},
   "outputs": [
    {
     "data": {
      "text/html": [
       "<div>\n",
       "<style scoped>\n",
       "    .dataframe tbody tr th:only-of-type {\n",
       "        vertical-align: middle;\n",
       "    }\n",
       "\n",
       "    .dataframe tbody tr th {\n",
       "        vertical-align: top;\n",
       "    }\n",
       "\n",
       "    .dataframe thead th {\n",
       "        text-align: right;\n",
       "    }\n",
       "</style>\n",
       "<table border=\"1\" class=\"dataframe\">\n",
       "  <thead>\n",
       "    <tr style=\"text-align: right;\">\n",
       "      <th></th>\n",
       "      <th>contrast_diff</th>\n",
       "    </tr>\n",
       "  </thead>\n",
       "  <tbody>\n",
       "    <tr>\n",
       "      <th>0</th>\n",
       "      <td>0</td>\n",
       "    </tr>\n",
       "    <tr>\n",
       "      <th>1</th>\n",
       "      <td>-100</td>\n",
       "    </tr>\n",
       "    <tr>\n",
       "      <th>2</th>\n",
       "      <td>-100</td>\n",
       "    </tr>\n",
       "    <tr>\n",
       "      <th>3</th>\n",
       "      <td>-100</td>\n",
       "    </tr>\n",
       "    <tr>\n",
       "      <th>4</th>\n",
       "      <td>0</td>\n",
       "    </tr>\n",
       "  </tbody>\n",
       "</table>\n",
       "</div>"
      ],
      "text/plain": [
       "   contrast_diff\n",
       "0              0\n",
       "1           -100\n",
       "2           -100\n",
       "3           -100\n",
       "4              0"
      ]
     },
     "execution_count": 48,
     "metadata": {},
     "output_type": "execute_result"
    }
   ],
   "source": [
    "query = \"\"\"\n",
    "SELECT\n",
    "    contrast_left - contrast_right AS contrast_diff\n",
    "FROM '**/trials.csv';\n",
    "\"\"\"\n",
    "sql(query).to_df().head()"
   ]
  },
  {
   "cell_type": "markdown",
   "metadata": {},
   "source": [
    "## Full-Table Aggregations\n",
    "\n",
    "We can also run some basic statistics in SQL, making it useful for some quick summaries of our data.  This works the same way as transformations.  Let's try it out!\n",
    "\n",
    "| Code | Description |\n",
    "| :-- | :-- |\n",
    "| **`SELECT count(*) FROM my_table`** | The number of rows in the table. |\n",
    "| **`SELECT count(colA) FROM my_table`** | The number of values in colA in the table (same as the number of rows in the whole table.) |\n",
    "| **`SELECT min(colA), max(colA) FROM my_table`** | The minimum and maximum values of colA |\n",
    "| **`SELECT avg(colA), median(colA) FROM my_table`** | The mean and median values of colA |\n",
    "| **`SELECT first(colA), last(colA) FROM my_table`** | The first and last values of colA (based on the ordering of the data) |"
   ]
  },
  {
   "cell_type": "markdown",
   "metadata": {},
   "source": [
    "**Example**: How many sessions were recorded in the study?"
   ]
  },
  {
   "cell_type": "code",
   "execution_count": 49,
   "metadata": {},
   "outputs": [
    {
     "data": {
      "text/plain": [
       "┌──────────────┐\n",
       "│ count_star() │\n",
       "│    int64     │\n",
       "├──────────────┤\n",
       "│           37 │\n",
       "└──────────────┘"
      ]
     },
     "execution_count": 49,
     "metadata": {},
     "output_type": "execute_result"
    }
   ],
   "source": [
    "sql('SELECT count(*) FROM \"data/steinmetz/**/session.json\"')"
   ]
  },
  {
   "cell_type": "markdown",
   "metadata": {},
   "source": [
    "How many total trials were done in the experiment, across all sessions?"
   ]
  },
  {
   "cell_type": "code",
   "execution_count": 50,
   "metadata": {},
   "outputs": [
    {
     "data": {
      "text/plain": [
       "┌──────────────┐\n",
       "│ count_star() │\n",
       "│    int64     │\n",
       "├──────────────┤\n",
       "│        13617 │\n",
       "└──────────────┘"
      ]
     },
     "execution_count": 50,
     "metadata": {},
     "output_type": "execute_result"
    }
   ],
   "source": [
    "sql('SELECT count(*) FROM \"data/steinmetz/*/trials.csv\"')"
   ]
  },
  {
   "cell_type": "markdown",
   "metadata": {},
   "source": [
    "How many total cells were recorded in this experiment?"
   ]
  },
  {
   "cell_type": "code",
   "execution_count": 51,
   "metadata": {},
   "outputs": [
    {
     "data": {
      "text/plain": [
       "┌──────────────┐\n",
       "│ count_star() │\n",
       "│    int64     │\n",
       "├──────────────┤\n",
       "│        32233 │\n",
       "└──────────────┘"
      ]
     },
     "execution_count": 51,
     "metadata": {},
     "output_type": "execute_result"
    }
   ],
   "source": [
    "sql(\n",
    "\"\"\"\n",
    "SELECT \n",
    "    count(*)\n",
    "FROM \n",
    "    'data/steinmetz/*/cells.parquet'\n",
    "\"\"\")"
   ]
  },
  {
   "cell_type": "markdown",
   "metadata": {},
   "source": [
    "How many total sessions were done by the mouse named \"Richards\"?"
   ]
  },
  {
   "cell_type": "code",
   "execution_count": 52,
   "metadata": {},
   "outputs": [
    {
     "data": {
      "text/plain": [
       "┌──────────────┐\n",
       "│ count_star() │\n",
       "│    int64     │\n",
       "├──────────────┤\n",
       "│            5 │\n",
       "└──────────────┘"
      ]
     },
     "execution_count": 52,
     "metadata": {},
     "output_type": "execute_result"
    }
   ],
   "source": [
    "sql(\n",
    "\"\"\"\n",
    "SELECT count(*) FROM  \"data/steinmetz/*/session.json\" WHERE mouse = 'Richards'\n",
    "\"\"\")"
   ]
  },
  {
   "cell_type": "markdown",
   "metadata": {},
   "source": [
    "How many cells were recorded in the hippocampus in this experiment?"
   ]
  },
  {
   "cell_type": "code",
   "execution_count": 53,
   "metadata": {},
   "outputs": [
    {
     "data": {
      "text/plain": [
       "┌──────────────┐\n",
       "│ count_star() │\n",
       "│    int64     │\n",
       "├──────────────┤\n",
       "│         3456 │\n",
       "└──────────────┘"
      ]
     },
     "execution_count": 53,
     "metadata": {},
     "output_type": "execute_result"
    }
   ],
   "source": [
    "sql(\n",
    "\"\"\"\n",
    "SELECT \n",
    "    count(*)\n",
    "FROM \n",
    "    'data/steinmetz/*/cells.parquet'\n",
    "WHERE brain_groups = 'hippocampus'\n",
    "\"\"\")"
   ]
  },
  {
   "cell_type": "markdown",
   "metadata": {},
   "source": [
    "What was the min and maximum values of the Left-Right CCF dimension recorded in the data (i.e. the most left coordinate and the most right coordinate)? "
   ]
  },
  {
   "cell_type": "code",
   "execution_count": 54,
   "metadata": {},
   "outputs": [
    {
     "data": {
      "text/plain": [
       "┌─────────────┬─────────────┐\n",
       "│ min(ccf_lr) │ max(ccf_lr) │\n",
       "│   double    │   double    │\n",
       "├─────────────┼─────────────┤\n",
       "│      1078.8 │      6346.6 │\n",
       "└─────────────┴─────────────┘"
      ]
     },
     "execution_count": 54,
     "metadata": {},
     "output_type": "execute_result"
    }
   ],
   "source": [
    "sql(\n",
    "\"\"\"\n",
    "SELECT\n",
    "    min(ccf_lr),\n",
    "    max(ccf_lr)\n",
    "FROM \n",
    "    \"data/steinmetz/*/cells.parquet\"\n",
    "\"\"\")"
   ]
  },
  {
   "cell_type": "markdown",
   "metadata": {},
   "source": [
    "What was the mean (i.e. \"average\") value for each of the CCF coordinates?"
   ]
  },
  {
   "cell_type": "code",
   "execution_count": 55,
   "metadata": {},
   "outputs": [
    {
     "data": {
      "text/plain": [
       "┌───────────────────┬───────────────────┬────────────────────┐\n",
       "│    avg(ccf_lr)    │    avg(ccf_ap)    │    avg(ccf_dv)     │\n",
       "│      double       │      double       │       double       │\n",
       "├───────────────────┼───────────────────┼────────────────────┤\n",
       "│ 4085.917862214787 │ 6645.750891532807 │ 2932.2004544450415 │\n",
       "└───────────────────┴───────────────────┴────────────────────┘"
      ]
     },
     "execution_count": 55,
     "metadata": {},
     "output_type": "execute_result"
    }
   ],
   "source": [
    "sql(\n",
    "\"\"\"\n",
    "SELECT\n",
    "    avg(ccf_lr),\n",
    "    avg(ccf_ap),\n",
    "    avg(ccf_dv)\n",
    "FROM \n",
    "    \"data/steinmetz/*/cells.parquet\"\n",
    "\"\"\")"
   ]
  },
  {
   "cell_type": "markdown",
   "metadata": {},
   "source": [
    "What was the mean (i.e. \"average\") value for each of the CCF coordinates in the thalamus?"
   ]
  },
  {
   "cell_type": "code",
   "execution_count": 56,
   "metadata": {},
   "outputs": [
    {
     "data": {
      "text/plain": [
       "┌─────────────────────┬────────────────────┬───────────────────┬──────────────────┐\n",
       "│ first(brain_groups) │    avg(ccf_lr)     │    avg(ccf_ap)    │   avg(ccf_dv)    │\n",
       "│       varchar       │       double       │      double       │      double      │\n",
       "├─────────────────────┼────────────────────┼───────────────────┼──────────────────┤\n",
       "│ thalamus            │ 3897.6813237557712 │ 7337.369557037797 │ 3314.59817000171 │\n",
       "└─────────────────────┴────────────────────┴───────────────────┴──────────────────┘"
      ]
     },
     "execution_count": 56,
     "metadata": {},
     "output_type": "execute_result"
    }
   ],
   "source": [
    "sql(\n",
    "\"\"\"\n",
    "SELECT\n",
    "    first(brain_groups),\n",
    "    avg(ccf_lr),\n",
    "    avg(ccf_ap),\n",
    "    avg(ccf_dv)\n",
    "FROM \n",
    "    \"data/steinmetz/*/cells.parquet\"\n",
    "WHERE brain_groups = 'thalamus'\n",
    "\"\"\")"
   ]
  },
  {
   "cell_type": "markdown",
   "metadata": {},
   "source": [
    "What was the average `response_type` (-1 is leftward wheel turn, +1 is rightward wheel turn, 0 is no wheel turn), where it was considered an \"Active Trial\" (i.e. when the mouse wasn't expected to just passively observe)?"
   ]
  },
  {
   "cell_type": "code",
   "execution_count": 57,
   "metadata": {},
   "outputs": [
    {
     "data": {
      "text/plain": [
       "┌──────────────────────┐\n",
       "│  avg(response_type)  │\n",
       "│        double        │\n",
       "├──────────────────────┤\n",
       "│ 0.002165618232443024 │\n",
       "└──────────────────────┘"
      ]
     },
     "execution_count": 57,
     "metadata": {},
     "output_type": "execute_result"
    }
   ],
   "source": [
    "sql(\n",
    "\"\"\"\n",
    "SELECT\n",
    "    avg(response_type)\n",
    "FROM \"**/trials.csv\"\n",
    "WHERE active_trials = true\n",
    "\"\"\"\n",
    ")"
   ]
  },
  {
   "cell_type": "markdown",
   "metadata": {},
   "source": [
    "## SQL GROUP BY for Groupwise Statistics\n",
    "\n",
    "| Code | Description |\n",
    "| :-- | :-- |\n",
    "| **`SELECT name, avg(value) FROM my_table GROUP BY name`** | Get the mean value for every unique value of name |\n",
    "| **`SELECT name, avg(value) FROM my_table GROUP BY ALL`** | Group the data by anything requested but not aggregated. |\n",
    "| **`SELECT name, avg(value) FROM my_table GROUP BY name ORDER BY name`** | ... and order the rows by the name column.  |\n",
    "| **`SELECT name, avg(value) FROM my_table GROUP BY name HAVING name LIKE \"G%\"`** | Only use groups where the name starts with \"G\" |"
   ]
  },
  {
   "cell_type": "markdown",
   "metadata": {},
   "source": [
    "**Exercises**"
   ]
  },
  {
   "cell_type": "markdown",
   "metadata": {},
   "source": [
    "**Example**: *For each contrast_left level*, what was the average `response_type` (-1 is leftward wheel turn, +1 is rightward wheel turn, 0 is no wheel turn), where it was considered an \"Active Trial\" (i.e. when the mouse wasn't expected to just passively observe)?"
   ]
  },
  {
   "cell_type": "code",
   "execution_count": 58,
   "metadata": {},
   "outputs": [
    {
     "data": {
      "text/plain": [
       "┌───────────────┬────────────────────┐\n",
       "│ contrast_left │ mean_response_type │\n",
       "│     int64     │       double       │\n",
       "├───────────────┼────────────────────┤\n",
       "│             0 │              -0.35 │\n",
       "│            25 │              -0.28 │\n",
       "│            50 │               0.41 │\n",
       "│           100 │               0.63 │\n",
       "└───────────────┴────────────────────┘"
      ]
     },
     "execution_count": 58,
     "metadata": {},
     "output_type": "execute_result"
    }
   ],
   "source": [
    "sql(\n",
    "\"\"\"\n",
    "SELECT\n",
    "    contrast_left,\n",
    "    round(avg(response_type), 2) AS mean_response_type\n",
    "FROM \"**/trials.csv\"\n",
    "WHERE active_trials = true\n",
    "GROUP BY contrast_left\n",
    "ORDER BY contrast_left\n",
    "\"\"\"\n",
    ")"
   ]
  },
  {
   "cell_type": "markdown",
   "metadata": {},
   "source": [
    "*For each contrast_right level*, what was the average `response_type` (-1 is leftward wheel turn, +1 is rightward wheel turn, 0 is no wheel turn), where it was considered an \"Active Trial\" (i.e. when the mouse wasn't expected to just passively observe)?"
   ]
  },
  {
   "cell_type": "code",
   "execution_count": 59,
   "metadata": {},
   "outputs": [
    {
     "data": {
      "text/plain": [
       "┌────────────────┬────────────────────┐\n",
       "│ contrast_right │ mean_response_type │\n",
       "│     int64      │       double       │\n",
       "├────────────────┼────────────────────┤\n",
       "│              0 │               0.27 │\n",
       "│             25 │               0.26 │\n",
       "│             50 │               -0.3 │\n",
       "│            100 │              -0.58 │\n",
       "└────────────────┴────────────────────┘"
      ]
     },
     "execution_count": 59,
     "metadata": {},
     "output_type": "execute_result"
    }
   ],
   "source": [
    "sql(\n",
    "\"\"\"\n",
    "SELECT\n",
    "    contrast_right,\n",
    "    round(avg(response_type), 2) AS mean_response_type\n",
    "FROM \"**/trials.csv\"\n",
    "WHERE active_trials = true\n",
    "GROUP BY contrast_right\n",
    "ORDER BY contrast_right\n",
    "\"\"\"\n",
    ")"
   ]
  },
  {
   "cell_type": "markdown",
   "metadata": {},
   "source": [
    "*For each combination of contrast_left and contrast_right level*, what was the average `response_type` (-1 is leftward wheel turn, +1 is rightward wheel turn, 0 is no wheel turn), where it was considered an \"Active Trial\" (i.e. when the mouse wasn't expected to just passively observe)?"
   ]
  },
  {
   "cell_type": "code",
   "execution_count": 60,
   "metadata": {},
   "outputs": [
    {
     "data": {
      "text/plain": [
       "┌───────────────┬────────────────┬────────────────────┐\n",
       "│ contrast_left │ contrast_right │ mean_response_type │\n",
       "│     int64     │     int64      │       double       │\n",
       "├───────────────┼────────────────┼────────────────────┤\n",
       "│             0 │              0 │              -0.07 │\n",
       "│             0 │             25 │              -0.65 │\n",
       "│             0 │             50 │              -0.77 │\n",
       "│             0 │            100 │              -0.75 │\n",
       "│            25 │              0 │               0.56 │\n",
       "│            25 │             25 │              -0.04 │\n",
       "│            25 │             50 │              -0.46 │\n",
       "│            25 │            100 │               -0.7 │\n",
       "│            50 │              0 │                0.8 │\n",
       "│            50 │             25 │               0.44 │\n",
       "│            50 │             50 │               0.12 │\n",
       "│            50 │            100 │              -0.36 │\n",
       "│           100 │              0 │               0.74 │\n",
       "│           100 │             25 │               0.65 │\n",
       "│           100 │             50 │               0.55 │\n",
       "│           100 │            100 │               0.22 │\n",
       "├───────────────┴────────────────┴────────────────────┤\n",
       "│ 16 rows                                   3 columns │\n",
       "└─────────────────────────────────────────────────────┘"
      ]
     },
     "execution_count": 60,
     "metadata": {},
     "output_type": "execute_result"
    }
   ],
   "source": [
    "sql(\n",
    "\"\"\"\n",
    "SELECT\n",
    "    contrast_left,\n",
    "    contrast_right,\n",
    "    round(avg(response_type), 2) AS mean_response_type\n",
    "FROM \"**/trials.csv\"\n",
    "WHERE active_trials = true\n",
    "GROUP BY contrast_left, contrast_right\n",
    "ORDER BY contrast_left, contrast_right\n",
    "\"\"\"\n",
    ")"
   ]
  },
  {
   "cell_type": "markdown",
   "metadata": {},
   "source": [
    "For each brain group, how many cells were recorded?"
   ]
  },
  {
   "cell_type": "code",
   "execution_count": 61,
   "metadata": {},
   "outputs": [
    {
     "data": {
      "text/plain": [
       "┌───────────────────┬───────────┐\n",
       "│   brain_groups    │ num_cells │\n",
       "│      varchar      │   int64   │\n",
       "├───────────────────┼───────────┤\n",
       "│ non-visual cortex │      7771 │\n",
       "│ thalamus          │      5847 │\n",
       "│ cortical subplate │       605 │\n",
       "│ root              │      4203 │\n",
       "│ visual cortex     │      2971 │\n",
       "│ midbrain          │      4139 │\n",
       "│ basal ganglia     │      3060 │\n",
       "│ hippocampus       │      3456 │\n",
       "│ TT                │       181 │\n",
       "└───────────────────┴───────────┘"
      ]
     },
     "execution_count": 61,
     "metadata": {},
     "output_type": "execute_result"
    }
   ],
   "source": [
    "sql(\n",
    "\"\"\"\n",
    "SELECT\n",
    "    brain_groups,\n",
    "    count(*) AS num_cells,\n",
    "FROM \"**/cells.parquet\"\n",
    "GROUP BY brain_groups\n",
    "\"\"\"\n",
    ")"
   ]
  },
  {
   "cell_type": "markdown",
   "metadata": {},
   "source": [
    "## Joining Multiple Tables: JOIN\n",
    "\n",
    "| Code | Description |\n",
    "| :-- | :-- |\n",
    "**`FROM \"a.csv\" a`** | Give a variable name `a` to a table loaded from \"a.csv\" |\n",
    "| **`FROM \"a.csv\" a JOIN \"b.csv\" b ON a.id = b.a_id`** | A two-way join, matching the \"id\" column in table a with the \"a_id\" column in table b. |\n",
    "| **`FROM \"a.csv\" a JOIN \"b.csv\" b ON a.id = b.a_id JOIN \"c.csv\" c ON a.id = c.a_id`** | A three-way join. |\n",
    "\n",
    "\n",
    "Docs around Join: https://duckdb.org/docs/sql/query_syntax/from"
   ]
  },
  {
   "cell_type": "markdown",
   "metadata": {},
   "source": [
    "**Example**: Join the sessions and trials tables on the session ids, and show the resulting column names:"
   ]
  },
  {
   "cell_type": "code",
   "execution_count": 81,
   "metadata": {},
   "outputs": [
    {
     "data": {
      "text/plain": [
       "┌────────────────┬─────────────┬─────────┬─────────┬─────────┬─────────┐\n",
       "│  column_name   │ column_type │  null   │   key   │ default │  extra  │\n",
       "│    varchar     │   varchar   │ varchar │ varchar │ varchar │ varchar │\n",
       "├────────────────┼─────────────┼─────────┼─────────┼─────────┼─────────┤\n",
       "│ session_date   │ DATE        │ YES     │ NULL    │ NULL    │ NULL    │\n",
       "│ mouse          │ VARCHAR     │ YES     │ NULL    │ NULL    │ NULL    │\n",
       "│ stim_onset     │ DOUBLE      │ YES     │ NULL    │ NULL    │ NULL    │\n",
       "│ bin_size       │ DOUBLE      │ YES     │ NULL    │ NULL    │ NULL    │\n",
       "│ id             │ VARCHAR     │ YES     │ NULL    │ NULL    │ NULL    │\n",
       "│ contrast_left  │ BIGINT      │ YES     │ NULL    │ NULL    │ NULL    │\n",
       "│ contrast_right │ BIGINT      │ YES     │ NULL    │ NULL    │ NULL    │\n",
       "│ gocue          │ DOUBLE      │ YES     │ NULL    │ NULL    │ NULL    │\n",
       "│ stim_onset     │ DOUBLE      │ YES     │ NULL    │ NULL    │ NULL    │\n",
       "│ feedback_type  │ DOUBLE      │ YES     │ NULL    │ NULL    │ NULL    │\n",
       "│ feedback_time  │ DOUBLE      │ YES     │ NULL    │ NULL    │ NULL    │\n",
       "│ response_type  │ DOUBLE      │ YES     │ NULL    │ NULL    │ NULL    │\n",
       "│ response_time  │ DOUBLE      │ YES     │ NULL    │ NULL    │ NULL    │\n",
       "│ reaction_type  │ DOUBLE      │ YES     │ NULL    │ NULL    │ NULL    │\n",
       "│ reaction_time  │ DOUBLE      │ YES     │ NULL    │ NULL    │ NULL    │\n",
       "│ prev_reward    │ DOUBLE      │ YES     │ NULL    │ NULL    │ NULL    │\n",
       "│ active_trials  │ BOOLEAN     │ YES     │ NULL    │ NULL    │ NULL    │\n",
       "│ session_id     │ VARCHAR     │ YES     │ NULL    │ NULL    │ NULL    │\n",
       "├────────────────┴─────────────┴─────────┴─────────┴─────────┴─────────┤\n",
       "│ 18 rows                                                    6 columns │\n",
       "└──────────────────────────────────────────────────────────────────────┘"
      ]
     },
     "execution_count": 81,
     "metadata": {},
     "output_type": "execute_result"
    }
   ],
   "source": [
    "query = \"\"\"\n",
    "DESCRIBE\n",
    "SELECT\n",
    "    *\n",
    "FROM \"**/session.json\" sessions\n",
    "JOIN \"**/trials.csv\" trials \n",
    "ON sessions.id = trials.session_id\n",
    "\"\"\"\n",
    "sql(query)"
   ]
  },
  {
   "cell_type": "markdown",
   "metadata": {},
   "source": [
    "**Example**: Join the sessions and cells tables on the session ids, and show the resulting column names:"
   ]
  },
  {
   "cell_type": "code",
   "execution_count": 76,
   "metadata": {},
   "outputs": [
    {
     "data": {
      "text/plain": [
       "┌────────────────┬─────────────┬─────────┬─────────┬─────────┬─────────┐\n",
       "│  column_name   │ column_type │  null   │   key   │ default │  extra  │\n",
       "│    varchar     │   varchar   │ varchar │ varchar │ varchar │ varchar │\n",
       "├────────────────┼─────────────┼─────────┼─────────┼─────────┼─────────┤\n",
       "│ session_date   │ DATE        │ YES     │ NULL    │ NULL    │ NULL    │\n",
       "│ mouse          │ VARCHAR     │ YES     │ NULL    │ NULL    │ NULL    │\n",
       "│ stim_onset     │ DOUBLE      │ YES     │ NULL    │ NULL    │ NULL    │\n",
       "│ bin_size       │ DOUBLE      │ YES     │ NULL    │ NULL    │ NULL    │\n",
       "│ id             │ VARCHAR     │ YES     │ NULL    │ NULL    │ NULL    │\n",
       "│ ccf_ap         │ DOUBLE      │ YES     │ NULL    │ NULL    │ NULL    │\n",
       "│ ccf_dv         │ DOUBLE      │ YES     │ NULL    │ NULL    │ NULL    │\n",
       "│ ccf_lr         │ DOUBLE      │ YES     │ NULL    │ NULL    │ NULL    │\n",
       "│ brain_area     │ VARCHAR     │ YES     │ NULL    │ NULL    │ NULL    │\n",
       "│ brain_groups   │ VARCHAR     │ YES     │ NULL    │ NULL    │ NULL    │\n",
       "│ trough_to_peak │ TINYINT     │ YES     │ NULL    │ NULL    │ NULL    │\n",
       "│ session_id     │ VARCHAR     │ YES     │ NULL    │ NULL    │ NULL    │\n",
       "│ cell           │ INTEGER     │ YES     │ NULL    │ NULL    │ NULL    │\n",
       "├────────────────┴─────────────┴─────────┴─────────┴─────────┴─────────┤\n",
       "│ 13 rows                                                    6 columns │\n",
       "└──────────────────────────────────────────────────────────────────────┘"
      ]
     },
     "execution_count": 76,
     "metadata": {},
     "output_type": "execute_result"
    }
   ],
   "source": [
    "query = \"\"\"\n",
    "DESCRIBE\n",
    "SELECT\n",
    "    *\n",
    "FROM \"**/session.json\" sessions\n",
    "JOIN \"**/cells.parquet\" cells \n",
    "ON sessions.id = cells.session_id\n",
    "\"\"\"\n",
    "sql(query)"
   ]
  },
  {
   "cell_type": "markdown",
   "metadata": {},
   "source": [
    "**Example**: Join the sessions,  trials, and cells tables on the session ids, and show the resulting column names:"
   ]
  },
  {
   "cell_type": "code",
   "execution_count": 82,
   "metadata": {},
   "outputs": [
    {
     "data": {
      "text/html": [
       "<div>\n",
       "<style scoped>\n",
       "    .dataframe tbody tr th:only-of-type {\n",
       "        vertical-align: middle;\n",
       "    }\n",
       "\n",
       "    .dataframe tbody tr th {\n",
       "        vertical-align: top;\n",
       "    }\n",
       "\n",
       "    .dataframe thead th {\n",
       "        text-align: right;\n",
       "    }\n",
       "</style>\n",
       "<table border=\"1\" class=\"dataframe\">\n",
       "  <thead>\n",
       "    <tr style=\"text-align: right;\">\n",
       "      <th></th>\n",
       "      <th>column_name</th>\n",
       "      <th>column_type</th>\n",
       "      <th>null</th>\n",
       "      <th>key</th>\n",
       "      <th>default</th>\n",
       "      <th>extra</th>\n",
       "    </tr>\n",
       "  </thead>\n",
       "  <tbody>\n",
       "    <tr>\n",
       "      <th>0</th>\n",
       "      <td>session_date</td>\n",
       "      <td>DATE</td>\n",
       "      <td>YES</td>\n",
       "      <td>None</td>\n",
       "      <td>None</td>\n",
       "      <td>None</td>\n",
       "    </tr>\n",
       "    <tr>\n",
       "      <th>1</th>\n",
       "      <td>mouse</td>\n",
       "      <td>VARCHAR</td>\n",
       "      <td>YES</td>\n",
       "      <td>None</td>\n",
       "      <td>None</td>\n",
       "      <td>None</td>\n",
       "    </tr>\n",
       "    <tr>\n",
       "      <th>2</th>\n",
       "      <td>stim_onset</td>\n",
       "      <td>DOUBLE</td>\n",
       "      <td>YES</td>\n",
       "      <td>None</td>\n",
       "      <td>None</td>\n",
       "      <td>None</td>\n",
       "    </tr>\n",
       "    <tr>\n",
       "      <th>3</th>\n",
       "      <td>bin_size</td>\n",
       "      <td>DOUBLE</td>\n",
       "      <td>YES</td>\n",
       "      <td>None</td>\n",
       "      <td>None</td>\n",
       "      <td>None</td>\n",
       "    </tr>\n",
       "    <tr>\n",
       "      <th>4</th>\n",
       "      <td>id</td>\n",
       "      <td>VARCHAR</td>\n",
       "      <td>YES</td>\n",
       "      <td>None</td>\n",
       "      <td>None</td>\n",
       "      <td>None</td>\n",
       "    </tr>\n",
       "    <tr>\n",
       "      <th>5</th>\n",
       "      <td>ccf_ap</td>\n",
       "      <td>DOUBLE</td>\n",
       "      <td>YES</td>\n",
       "      <td>None</td>\n",
       "      <td>None</td>\n",
       "      <td>None</td>\n",
       "    </tr>\n",
       "    <tr>\n",
       "      <th>6</th>\n",
       "      <td>ccf_dv</td>\n",
       "      <td>DOUBLE</td>\n",
       "      <td>YES</td>\n",
       "      <td>None</td>\n",
       "      <td>None</td>\n",
       "      <td>None</td>\n",
       "    </tr>\n",
       "    <tr>\n",
       "      <th>7</th>\n",
       "      <td>ccf_lr</td>\n",
       "      <td>DOUBLE</td>\n",
       "      <td>YES</td>\n",
       "      <td>None</td>\n",
       "      <td>None</td>\n",
       "      <td>None</td>\n",
       "    </tr>\n",
       "    <tr>\n",
       "      <th>8</th>\n",
       "      <td>brain_area</td>\n",
       "      <td>VARCHAR</td>\n",
       "      <td>YES</td>\n",
       "      <td>None</td>\n",
       "      <td>None</td>\n",
       "      <td>None</td>\n",
       "    </tr>\n",
       "    <tr>\n",
       "      <th>9</th>\n",
       "      <td>brain_groups</td>\n",
       "      <td>VARCHAR</td>\n",
       "      <td>YES</td>\n",
       "      <td>None</td>\n",
       "      <td>None</td>\n",
       "      <td>None</td>\n",
       "    </tr>\n",
       "    <tr>\n",
       "      <th>10</th>\n",
       "      <td>trough_to_peak</td>\n",
       "      <td>TINYINT</td>\n",
       "      <td>YES</td>\n",
       "      <td>None</td>\n",
       "      <td>None</td>\n",
       "      <td>None</td>\n",
       "    </tr>\n",
       "    <tr>\n",
       "      <th>11</th>\n",
       "      <td>session_id</td>\n",
       "      <td>VARCHAR</td>\n",
       "      <td>YES</td>\n",
       "      <td>None</td>\n",
       "      <td>None</td>\n",
       "      <td>None</td>\n",
       "    </tr>\n",
       "    <tr>\n",
       "      <th>12</th>\n",
       "      <td>cell</td>\n",
       "      <td>INTEGER</td>\n",
       "      <td>YES</td>\n",
       "      <td>None</td>\n",
       "      <td>None</td>\n",
       "      <td>None</td>\n",
       "    </tr>\n",
       "    <tr>\n",
       "      <th>13</th>\n",
       "      <td>contrast_left</td>\n",
       "      <td>BIGINT</td>\n",
       "      <td>YES</td>\n",
       "      <td>None</td>\n",
       "      <td>None</td>\n",
       "      <td>None</td>\n",
       "    </tr>\n",
       "    <tr>\n",
       "      <th>14</th>\n",
       "      <td>contrast_right</td>\n",
       "      <td>BIGINT</td>\n",
       "      <td>YES</td>\n",
       "      <td>None</td>\n",
       "      <td>None</td>\n",
       "      <td>None</td>\n",
       "    </tr>\n",
       "    <tr>\n",
       "      <th>15</th>\n",
       "      <td>gocue</td>\n",
       "      <td>DOUBLE</td>\n",
       "      <td>YES</td>\n",
       "      <td>None</td>\n",
       "      <td>None</td>\n",
       "      <td>None</td>\n",
       "    </tr>\n",
       "    <tr>\n",
       "      <th>16</th>\n",
       "      <td>stim_onset</td>\n",
       "      <td>DOUBLE</td>\n",
       "      <td>YES</td>\n",
       "      <td>None</td>\n",
       "      <td>None</td>\n",
       "      <td>None</td>\n",
       "    </tr>\n",
       "    <tr>\n",
       "      <th>17</th>\n",
       "      <td>feedback_type</td>\n",
       "      <td>DOUBLE</td>\n",
       "      <td>YES</td>\n",
       "      <td>None</td>\n",
       "      <td>None</td>\n",
       "      <td>None</td>\n",
       "    </tr>\n",
       "    <tr>\n",
       "      <th>18</th>\n",
       "      <td>feedback_time</td>\n",
       "      <td>DOUBLE</td>\n",
       "      <td>YES</td>\n",
       "      <td>None</td>\n",
       "      <td>None</td>\n",
       "      <td>None</td>\n",
       "    </tr>\n",
       "    <tr>\n",
       "      <th>19</th>\n",
       "      <td>response_type</td>\n",
       "      <td>DOUBLE</td>\n",
       "      <td>YES</td>\n",
       "      <td>None</td>\n",
       "      <td>None</td>\n",
       "      <td>None</td>\n",
       "    </tr>\n",
       "    <tr>\n",
       "      <th>20</th>\n",
       "      <td>response_time</td>\n",
       "      <td>DOUBLE</td>\n",
       "      <td>YES</td>\n",
       "      <td>None</td>\n",
       "      <td>None</td>\n",
       "      <td>None</td>\n",
       "    </tr>\n",
       "    <tr>\n",
       "      <th>21</th>\n",
       "      <td>reaction_type</td>\n",
       "      <td>DOUBLE</td>\n",
       "      <td>YES</td>\n",
       "      <td>None</td>\n",
       "      <td>None</td>\n",
       "      <td>None</td>\n",
       "    </tr>\n",
       "    <tr>\n",
       "      <th>22</th>\n",
       "      <td>reaction_time</td>\n",
       "      <td>DOUBLE</td>\n",
       "      <td>YES</td>\n",
       "      <td>None</td>\n",
       "      <td>None</td>\n",
       "      <td>None</td>\n",
       "    </tr>\n",
       "    <tr>\n",
       "      <th>23</th>\n",
       "      <td>prev_reward</td>\n",
       "      <td>DOUBLE</td>\n",
       "      <td>YES</td>\n",
       "      <td>None</td>\n",
       "      <td>None</td>\n",
       "      <td>None</td>\n",
       "    </tr>\n",
       "    <tr>\n",
       "      <th>24</th>\n",
       "      <td>active_trials</td>\n",
       "      <td>BOOLEAN</td>\n",
       "      <td>YES</td>\n",
       "      <td>None</td>\n",
       "      <td>None</td>\n",
       "      <td>None</td>\n",
       "    </tr>\n",
       "    <tr>\n",
       "      <th>25</th>\n",
       "      <td>session_id</td>\n",
       "      <td>VARCHAR</td>\n",
       "      <td>YES</td>\n",
       "      <td>None</td>\n",
       "      <td>None</td>\n",
       "      <td>None</td>\n",
       "    </tr>\n",
       "  </tbody>\n",
       "</table>\n",
       "</div>"
      ],
      "text/plain": [
       "       column_name column_type null   key default extra\n",
       "0     session_date        DATE  YES  None    None  None\n",
       "1            mouse     VARCHAR  YES  None    None  None\n",
       "2       stim_onset      DOUBLE  YES  None    None  None\n",
       "3         bin_size      DOUBLE  YES  None    None  None\n",
       "4               id     VARCHAR  YES  None    None  None\n",
       "5           ccf_ap      DOUBLE  YES  None    None  None\n",
       "6           ccf_dv      DOUBLE  YES  None    None  None\n",
       "7           ccf_lr      DOUBLE  YES  None    None  None\n",
       "8       brain_area     VARCHAR  YES  None    None  None\n",
       "9     brain_groups     VARCHAR  YES  None    None  None\n",
       "10  trough_to_peak     TINYINT  YES  None    None  None\n",
       "11      session_id     VARCHAR  YES  None    None  None\n",
       "12            cell     INTEGER  YES  None    None  None\n",
       "13   contrast_left      BIGINT  YES  None    None  None\n",
       "14  contrast_right      BIGINT  YES  None    None  None\n",
       "15           gocue      DOUBLE  YES  None    None  None\n",
       "16      stim_onset      DOUBLE  YES  None    None  None\n",
       "17   feedback_type      DOUBLE  YES  None    None  None\n",
       "18   feedback_time      DOUBLE  YES  None    None  None\n",
       "19   response_type      DOUBLE  YES  None    None  None\n",
       "20   response_time      DOUBLE  YES  None    None  None\n",
       "21   reaction_type      DOUBLE  YES  None    None  None\n",
       "22   reaction_time      DOUBLE  YES  None    None  None\n",
       "23     prev_reward      DOUBLE  YES  None    None  None\n",
       "24   active_trials     BOOLEAN  YES  None    None  None\n",
       "25      session_id     VARCHAR  YES  None    None  None"
      ]
     },
     "execution_count": 82,
     "metadata": {},
     "output_type": "execute_result"
    }
   ],
   "source": [
    "query = \"\"\"\n",
    "DESCRIBE\n",
    "SELECT\n",
    "    *\n",
    "FROM \"**/session.json\" sessions\n",
    "JOIN \"**/cells.parquet\" cells \n",
    "ON sessions.id = cells.session_id\n",
    "JOIN \"**/trials.csv\" trials\n",
    "ON sessions.id = trials.session_id\n",
    "\"\"\"\n",
    "sql(query).to_df()"
   ]
  },
  {
   "cell_type": "markdown",
   "metadata": {},
   "source": [
    "Load all of the trials from the \"Richards\" mouse."
   ]
  },
  {
   "cell_type": "code",
   "execution_count": null,
   "metadata": {},
   "outputs": [],
   "source": []
  },
  {
   "cell_type": "markdown",
   "metadata": {},
   "source": [
    "Get all of the cells from the \"Lederberg\" mouse."
   ]
  },
  {
   "cell_type": "code",
   "execution_count": null,
   "metadata": {},
   "outputs": [],
   "source": []
  },
  {
   "cell_type": "markdown",
   "metadata": {},
   "source": [
    "Get the average response time for each mouse, for each combination of contrast_left and contrast_right value, but only when there were active trials."
   ]
  },
  {
   "cell_type": "code",
   "execution_count": null,
   "metadata": {},
   "outputs": [],
   "source": []
  },
  {
   "cell_type": "markdown",
   "metadata": {},
   "source": [
    "## (Demos) Pivoting Tables and Nesting SQL Statements\n",
    "\n",
    "Analysis pipelines can get quite complex--there's a lot that we want from our data!  Below are some examples of analyses that uses nesting, pivoting, and exporting to Pandas to break down the analysis into multiple steps."
   ]
  },
  {
   "cell_type": "code",
   "execution_count": null,
   "metadata": {},
   "outputs": [],
   "source": [
    "# %pip install jinja2 matplotlib seaborn"
   ]
  },
  {
   "cell_type": "code",
   "execution_count": null,
   "metadata": {},
   "outputs": [
    {
     "data": {
      "text/html": [
       "<style type=\"text/css\">\n",
       "</style>\n",
       "<table id=\"T_73958\">\n",
       "  <thead>\n",
       "    <tr>\n",
       "      <th class=\"blank level0\" >&nbsp;</th>\n",
       "      <th id=\"T_73958_level0_col0\" class=\"col_heading level0 col0\" >0</th>\n",
       "      <th id=\"T_73958_level0_col1\" class=\"col_heading level0 col1\" >25</th>\n",
       "      <th id=\"T_73958_level0_col2\" class=\"col_heading level0 col2\" >50</th>\n",
       "      <th id=\"T_73958_level0_col3\" class=\"col_heading level0 col3\" >100</th>\n",
       "    </tr>\n",
       "    <tr>\n",
       "      <th class=\"index_name level0\" >contrast_right</th>\n",
       "      <th class=\"blank col0\" >&nbsp;</th>\n",
       "      <th class=\"blank col1\" >&nbsp;</th>\n",
       "      <th class=\"blank col2\" >&nbsp;</th>\n",
       "      <th class=\"blank col3\" >&nbsp;</th>\n",
       "    </tr>\n",
       "  </thead>\n",
       "  <tbody>\n",
       "    <tr>\n",
       "      <th id=\"T_73958_level0_row0\" class=\"row_heading level0 row0\" >0</th>\n",
       "      <td id=\"T_73958_row0_col0\" class=\"data row0 col0\" >-0.22</td>\n",
       "      <td id=\"T_73958_row0_col1\" class=\"data row0 col1\" >0.86</td>\n",
       "      <td id=\"T_73958_row0_col2\" class=\"data row0 col2\" >0.96</td>\n",
       "      <td id=\"T_73958_row0_col3\" class=\"data row0 col3\" >0.97</td>\n",
       "    </tr>\n",
       "    <tr>\n",
       "      <th id=\"T_73958_level0_row1\" class=\"row_heading level0 row1\" >50</th>\n",
       "      <td id=\"T_73958_row1_col0\" class=\"data row1 col0\" >-0.94</td>\n",
       "      <td id=\"T_73958_row1_col1\" class=\"data row1 col1\" >-0.54</td>\n",
       "      <td id=\"T_73958_row1_col2\" class=\"data row1 col2\" >0.14</td>\n",
       "      <td id=\"T_73958_row1_col3\" class=\"data row1 col3\" >0.63</td>\n",
       "    </tr>\n",
       "    <tr>\n",
       "      <th id=\"T_73958_level0_row2\" class=\"row_heading level0 row2\" >25</th>\n",
       "      <td id=\"T_73958_row2_col0\" class=\"data row2 col0\" >-0.87</td>\n",
       "      <td id=\"T_73958_row2_col1\" class=\"data row2 col1\" >-0.06</td>\n",
       "      <td id=\"T_73958_row2_col2\" class=\"data row2 col2\" >0.53</td>\n",
       "      <td id=\"T_73958_row2_col3\" class=\"data row2 col3\" >0.87</td>\n",
       "    </tr>\n",
       "    <tr>\n",
       "      <th id=\"T_73958_level0_row3\" class=\"row_heading level0 row3\" >100</th>\n",
       "      <td id=\"T_73958_row3_col0\" class=\"data row3 col0\" >-0.95</td>\n",
       "      <td id=\"T_73958_row3_col1\" class=\"data row3 col1\" >-0.86</td>\n",
       "      <td id=\"T_73958_row3_col2\" class=\"data row3 col2\" >-0.40</td>\n",
       "      <td id=\"T_73958_row3_col3\" class=\"data row3 col3\" >0.24</td>\n",
       "    </tr>\n",
       "  </tbody>\n",
       "</table>\n"
      ],
      "text/plain": [
       "<pandas.io.formats.style.Styler at 0x26f02ce4ad0>"
      ]
     },
     "metadata": {},
     "output_type": "display_data"
    }
   ],
   "source": [
    "duckdb.sql(\n",
    "\"\"\"\n",
    "SELECT \n",
    "    contrast_right, \n",
    "    \"0\", \"25\", \"50\", \"100\"\n",
    "FROM (\n",
    "    PIVOT (\n",
    "        SELECT\n",
    "            contrast_left,\n",
    "            contrast_right,\n",
    "            round(avg(response_type), 2) AS mean_response_type\n",
    "        FROM \"**/trials.csv\"\n",
    "        WHERE active_trials = true AND response_type <> 0\n",
    "        GROUP BY contrast_left, contrast_right\n",
    "        ORDER BY contrast_left, contrast_right\n",
    "    )\n",
    "    ON contrast_left\n",
    "    USING first(mean_response_type)\n",
    "    GROUP BY contrast_right\n",
    ")\n",
    "\"\"\"\n",
    ").to_df().set_index('contrast_right').style.format(\"{:.2f}\")"
   ]
  },
  {
   "cell_type": "code",
   "execution_count": null,
   "metadata": {},
   "outputs": [
    {
     "data": {
      "text/html": [
       "<style type=\"text/css\">\n",
       "</style>\n",
       "<table id=\"T_f1eb4\">\n",
       "  <thead>\n",
       "    <tr>\n",
       "      <th class=\"blank level0\" >&nbsp;</th>\n",
       "      <th id=\"T_f1eb4_level0_col0\" class=\"col_heading level0 col0\" >TT</th>\n",
       "      <th id=\"T_f1eb4_level0_col1\" class=\"col_heading level0 col1\" >basal ganglia</th>\n",
       "      <th id=\"T_f1eb4_level0_col2\" class=\"col_heading level0 col2\" >cortical subplate</th>\n",
       "      <th id=\"T_f1eb4_level0_col3\" class=\"col_heading level0 col3\" >hippocampus</th>\n",
       "      <th id=\"T_f1eb4_level0_col4\" class=\"col_heading level0 col4\" >midbrain</th>\n",
       "      <th id=\"T_f1eb4_level0_col5\" class=\"col_heading level0 col5\" >non-visual cortex</th>\n",
       "      <th id=\"T_f1eb4_level0_col6\" class=\"col_heading level0 col6\" >root</th>\n",
       "      <th id=\"T_f1eb4_level0_col7\" class=\"col_heading level0 col7\" >thalamus</th>\n",
       "      <th id=\"T_f1eb4_level0_col8\" class=\"col_heading level0 col8\" >visual cortex</th>\n",
       "    </tr>\n",
       "    <tr>\n",
       "      <th class=\"index_name level0\" >mouse</th>\n",
       "      <th class=\"blank col0\" >&nbsp;</th>\n",
       "      <th class=\"blank col1\" >&nbsp;</th>\n",
       "      <th class=\"blank col2\" >&nbsp;</th>\n",
       "      <th class=\"blank col3\" >&nbsp;</th>\n",
       "      <th class=\"blank col4\" >&nbsp;</th>\n",
       "      <th class=\"blank col5\" >&nbsp;</th>\n",
       "      <th class=\"blank col6\" >&nbsp;</th>\n",
       "      <th class=\"blank col7\" >&nbsp;</th>\n",
       "      <th class=\"blank col8\" >&nbsp;</th>\n",
       "    </tr>\n",
       "  </thead>\n",
       "  <tbody>\n",
       "    <tr>\n",
       "      <th id=\"T_f1eb4_level0_row0\" class=\"row_heading level0 row0\" >Muller</th>\n",
       "      <td id=\"T_f1eb4_row0_col0\" class=\"data row0 col0\" >10</td>\n",
       "      <td id=\"T_f1eb4_row0_col1\" class=\"data row0 col1\" >92</td>\n",
       "      <td id=\"T_f1eb4_row0_col2\" class=\"data row0 col2\" ><NA></td>\n",
       "      <td id=\"T_f1eb4_row0_col3\" class=\"data row0 col3\" >459</td>\n",
       "      <td id=\"T_f1eb4_row0_col4\" class=\"data row0 col4\" >714</td>\n",
       "      <td id=\"T_f1eb4_row0_col5\" class=\"data row0 col5\" >408</td>\n",
       "      <td id=\"T_f1eb4_row0_col6\" class=\"data row0 col6\" >583</td>\n",
       "      <td id=\"T_f1eb4_row0_col7\" class=\"data row0 col7\" >366</td>\n",
       "      <td id=\"T_f1eb4_row0_col8\" class=\"data row0 col8\" >619</td>\n",
       "    </tr>\n",
       "    <tr>\n",
       "      <th id=\"T_f1eb4_level0_row1\" class=\"row_heading level0 row1\" >Hench</th>\n",
       "      <td id=\"T_f1eb4_row1_col0\" class=\"data row1 col0\" >137</td>\n",
       "      <td id=\"T_f1eb4_row1_col1\" class=\"data row1 col1\" >450</td>\n",
       "      <td id=\"T_f1eb4_row1_col2\" class=\"data row1 col2\" ><NA></td>\n",
       "      <td id=\"T_f1eb4_row1_col3\" class=\"data row1 col3\" >506</td>\n",
       "      <td id=\"T_f1eb4_row1_col4\" class=\"data row1 col4\" >389</td>\n",
       "      <td id=\"T_f1eb4_row1_col5\" class=\"data row1 col5\" >1019</td>\n",
       "      <td id=\"T_f1eb4_row1_col6\" class=\"data row1 col6\" >60</td>\n",
       "      <td id=\"T_f1eb4_row1_col7\" class=\"data row1 col7\" >819</td>\n",
       "      <td id=\"T_f1eb4_row1_col8\" class=\"data row1 col8\" >593</td>\n",
       "    </tr>\n",
       "    <tr>\n",
       "      <th id=\"T_f1eb4_level0_row2\" class=\"row_heading level0 row2\" >Theiler</th>\n",
       "      <td id=\"T_f1eb4_row2_col0\" class=\"data row2 col0\" ><NA></td>\n",
       "      <td id=\"T_f1eb4_row2_col1\" class=\"data row2 col1\" ><NA></td>\n",
       "      <td id=\"T_f1eb4_row2_col2\" class=\"data row2 col2\" ><NA></td>\n",
       "      <td id=\"T_f1eb4_row2_col3\" class=\"data row2 col3\" >209</td>\n",
       "      <td id=\"T_f1eb4_row2_col4\" class=\"data row2 col4\" ><NA></td>\n",
       "      <td id=\"T_f1eb4_row2_col5\" class=\"data row2 col5\" >497</td>\n",
       "      <td id=\"T_f1eb4_row2_col6\" class=\"data row2 col6\" >442</td>\n",
       "      <td id=\"T_f1eb4_row2_col7\" class=\"data row2 col7\" >59</td>\n",
       "      <td id=\"T_f1eb4_row2_col8\" class=\"data row2 col8\" >141</td>\n",
       "    </tr>\n",
       "    <tr>\n",
       "      <th id=\"T_f1eb4_level0_row3\" class=\"row_heading level0 row3\" >Lederberg</th>\n",
       "      <td id=\"T_f1eb4_row3_col0\" class=\"data row3 col0\" ><NA></td>\n",
       "      <td id=\"T_f1eb4_row3_col1\" class=\"data row3 col1\" >681</td>\n",
       "      <td id=\"T_f1eb4_row3_col2\" class=\"data row3 col2\" >173</td>\n",
       "      <td id=\"T_f1eb4_row3_col3\" class=\"data row3 col3\" >429</td>\n",
       "      <td id=\"T_f1eb4_row3_col4\" class=\"data row3 col4\" >787</td>\n",
       "      <td id=\"T_f1eb4_row3_col5\" class=\"data row3 col5\" >951</td>\n",
       "      <td id=\"T_f1eb4_row3_col6\" class=\"data row3 col6\" >816</td>\n",
       "      <td id=\"T_f1eb4_row3_col7\" class=\"data row3 col7\" >1250</td>\n",
       "      <td id=\"T_f1eb4_row3_col8\" class=\"data row3 col8\" >221</td>\n",
       "    </tr>\n",
       "    <tr>\n",
       "      <th id=\"T_f1eb4_level0_row4\" class=\"row_heading level0 row4\" >Richards</th>\n",
       "      <td id=\"T_f1eb4_row4_col0\" class=\"data row4 col0\" ><NA></td>\n",
       "      <td id=\"T_f1eb4_row4_col1\" class=\"data row4 col1\" >562</td>\n",
       "      <td id=\"T_f1eb4_row4_col2\" class=\"data row4 col2\" >195</td>\n",
       "      <td id=\"T_f1eb4_row4_col3\" class=\"data row4 col3\" >235</td>\n",
       "      <td id=\"T_f1eb4_row4_col4\" class=\"data row4 col4\" >344</td>\n",
       "      <td id=\"T_f1eb4_row4_col5\" class=\"data row4 col5\" >1387</td>\n",
       "      <td id=\"T_f1eb4_row4_col6\" class=\"data row4 col6\" >136</td>\n",
       "      <td id=\"T_f1eb4_row4_col7\" class=\"data row4 col7\" >957</td>\n",
       "      <td id=\"T_f1eb4_row4_col8\" class=\"data row4 col8\" >19</td>\n",
       "    </tr>\n",
       "    <tr>\n",
       "      <th id=\"T_f1eb4_level0_row5\" class=\"row_heading level0 row5\" >Tatum</th>\n",
       "      <td id=\"T_f1eb4_row5_col0\" class=\"data row5 col0\" ><NA></td>\n",
       "      <td id=\"T_f1eb4_row5_col1\" class=\"data row5 col1\" >351</td>\n",
       "      <td id=\"T_f1eb4_row5_col2\" class=\"data row5 col2\" >185</td>\n",
       "      <td id=\"T_f1eb4_row5_col3\" class=\"data row5 col3\" >329</td>\n",
       "      <td id=\"T_f1eb4_row5_col4\" class=\"data row5 col4\" >703</td>\n",
       "      <td id=\"T_f1eb4_row5_col5\" class=\"data row5 col5\" >757</td>\n",
       "      <td id=\"T_f1eb4_row5_col6\" class=\"data row5 col6\" >433</td>\n",
       "      <td id=\"T_f1eb4_row5_col7\" class=\"data row5 col7\" >372</td>\n",
       "      <td id=\"T_f1eb4_row5_col8\" class=\"data row5 col8\" >205</td>\n",
       "    </tr>\n",
       "    <tr>\n",
       "      <th id=\"T_f1eb4_level0_row6\" class=\"row_heading level0 row6\" >None</th>\n",
       "      <td id=\"T_f1eb4_row6_col0\" class=\"data row6 col0\" ><NA></td>\n",
       "      <td id=\"T_f1eb4_row6_col1\" class=\"data row6 col1\" ><NA></td>\n",
       "      <td id=\"T_f1eb4_row6_col2\" class=\"data row6 col2\" ><NA></td>\n",
       "      <td id=\"T_f1eb4_row6_col3\" class=\"data row6 col3\" >220</td>\n",
       "      <td id=\"T_f1eb4_row6_col4\" class=\"data row6 col4\" ><NA></td>\n",
       "      <td id=\"T_f1eb4_row6_col5\" class=\"data row6 col5\" >78</td>\n",
       "      <td id=\"T_f1eb4_row6_col6\" class=\"data row6 col6\" >100</td>\n",
       "      <td id=\"T_f1eb4_row6_col7\" class=\"data row6 col7\" >155</td>\n",
       "      <td id=\"T_f1eb4_row6_col8\" class=\"data row6 col8\" >145</td>\n",
       "    </tr>\n",
       "    <tr>\n",
       "      <th id=\"T_f1eb4_level0_row7\" class=\"row_heading level0 row7\" >Moniz</th>\n",
       "      <td id=\"T_f1eb4_row7_col0\" class=\"data row7 col0\" ><NA></td>\n",
       "      <td id=\"T_f1eb4_row7_col1\" class=\"data row7 col1\" ><NA></td>\n",
       "      <td id=\"T_f1eb4_row7_col2\" class=\"data row7 col2\" ><NA></td>\n",
       "      <td id=\"T_f1eb4_row7_col3\" class=\"data row7 col3\" >297</td>\n",
       "      <td id=\"T_f1eb4_row7_col4\" class=\"data row7 col4\" >185</td>\n",
       "      <td id=\"T_f1eb4_row7_col5\" class=\"data row7 col5\" >377</td>\n",
       "      <td id=\"T_f1eb4_row7_col6\" class=\"data row7 col6\" >44</td>\n",
       "      <td id=\"T_f1eb4_row7_col7\" class=\"data row7 col7\" >801</td>\n",
       "      <td id=\"T_f1eb4_row7_col8\" class=\"data row7 col8\" >379</td>\n",
       "    </tr>\n",
       "    <tr>\n",
       "      <th id=\"T_f1eb4_level0_row8\" class=\"row_heading level0 row8\" >Forssmann</th>\n",
       "      <td id=\"T_f1eb4_row8_col0\" class=\"data row8 col0\" ><NA></td>\n",
       "      <td id=\"T_f1eb4_row8_col1\" class=\"data row8 col1\" >494</td>\n",
       "      <td id=\"T_f1eb4_row8_col2\" class=\"data row8 col2\" >52</td>\n",
       "      <td id=\"T_f1eb4_row8_col3\" class=\"data row8 col3\" >661</td>\n",
       "      <td id=\"T_f1eb4_row8_col4\" class=\"data row8 col4\" ><NA></td>\n",
       "      <td id=\"T_f1eb4_row8_col5\" class=\"data row8 col5\" >1068</td>\n",
       "      <td id=\"T_f1eb4_row8_col6\" class=\"data row8 col6\" >1241</td>\n",
       "      <td id=\"T_f1eb4_row8_col7\" class=\"data row8 col7\" >864</td>\n",
       "      <td id=\"T_f1eb4_row8_col8\" class=\"data row8 col8\" >219</td>\n",
       "    </tr>\n",
       "    <tr>\n",
       "      <th id=\"T_f1eb4_level0_row9\" class=\"row_heading level0 row9\" >Radnitz</th>\n",
       "      <td id=\"T_f1eb4_row9_col0\" class=\"data row9 col0\" >34</td>\n",
       "      <td id=\"T_f1eb4_row9_col1\" class=\"data row9 col1\" >430</td>\n",
       "      <td id=\"T_f1eb4_row9_col2\" class=\"data row9 col2\" ><NA></td>\n",
       "      <td id=\"T_f1eb4_row9_col3\" class=\"data row9 col3\" >111</td>\n",
       "      <td id=\"T_f1eb4_row9_col4\" class=\"data row9 col4\" >1017</td>\n",
       "      <td id=\"T_f1eb4_row9_col5\" class=\"data row9 col5\" >1229</td>\n",
       "      <td id=\"T_f1eb4_row9_col6\" class=\"data row9 col6\" >348</td>\n",
       "      <td id=\"T_f1eb4_row9_col7\" class=\"data row9 col7\" >204</td>\n",
       "      <td id=\"T_f1eb4_row9_col8\" class=\"data row9 col8\" >430</td>\n",
       "    </tr>\n",
       "  </tbody>\n",
       "</table>\n"
      ],
      "text/plain": [
       "<pandas.io.formats.style.Styler at 0x26f00072350>"
      ]
     },
     "metadata": {},
     "output_type": "display_data"
    }
   ],
   "source": [
    "result = duckdb.sql(\n",
    "\"\"\"\n",
    "PIVOT (\n",
    "    SELECT\n",
    "        mouse,\n",
    "        session_id,\n",
    "        session_date,\n",
    "        brain_groups,\n",
    "        count(cell) as num_cells,\n",
    "    FROM \"**/cells.parquet\" cells\n",
    "    INNER JOIN \"**/session.json\" sessions ON cells.session_id = sessions.id\n",
    "    GROUP BY ALL\n",
    ")\n",
    "ON brain_groups\n",
    "USING sum(num_cells)\n",
    "GROUP BY mouse\n",
    "\"\"\"\n",
    ").to_df()\n",
    "result.set_index('mouse').convert_dtypes().style.format()"
   ]
  }
 ],
 "metadata": {
  "kernelspec": {
   "display_name": "dwshop2",
   "language": "python",
   "name": "python3"
  },
  "language_info": {
   "codemirror_mode": {
    "name": "ipython",
    "version": 3
   },
   "file_extension": ".py",
   "mimetype": "text/x-python",
   "name": "python",
   "nbconvert_exporter": "python",
   "pygments_lexer": "ipython3",
   "version": "3.11.7"
  }
 },
 "nbformat": 4,
 "nbformat_minor": 2
}
