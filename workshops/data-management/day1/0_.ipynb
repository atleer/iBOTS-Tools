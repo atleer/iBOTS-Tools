{
 "cells": [
  {
   "cell_type": "code",
   "execution_count": null,
   "metadata": {},
   "outputs": [],
   "source": []
  },
  {
   "cell_type": "markdown",
   "metadata": {},
   "source": [
    "# Parsing Metadata from Filenames: Working with Strings, Lists, and Dicts"
   ]
  },
  {
   "cell_type": "markdown",
   "metadata": {},
   "source": [
    "## Key-Value Mappings: Dictionaries"
   ]
  },
  {
   "cell_type": "markdown",
   "metadata": {},
   "source": [
    "| Code | Description |\n",
    "| :-- | :-- |\n",
    "| data = {} | Make an empty Dict | \n",
    "| data = {'a': 3, 'b': 5} | Make a Dict with two items: \"a\" and \"b\" |\n",
    "| data['a'] |  |\n",
    "| data['c'] = 7 |  |\n",
    "| list(data.keys()) |  |\n",
    "\n",
    "\n"
   ]
  },
  {
   "cell_type": "markdown",
   "metadata": {},
   "source": [
    "**Exercises**"
   ]
  },
  {
   "cell_type": "markdown",
   "metadata": {},
   "source": [
    "The `image` dict describes how researcher Tom's recording is formatted:"
   ]
  },
  {
   "cell_type": "code",
   "execution_count": null,
   "metadata": {},
   "outputs": [
    {
     "data": {
      "text/plain": [
       "{'height': 1920, 'width': 1080, 'format': 'RGB', 'order': 'F'}"
      ]
     },
     "metadata": {},
     "output_type": "display_data"
    }
   ],
   "source": [
    "image = {'height': 1920, 'width': 1080, 'format': 'RGB', 'order': 'F'}\n",
    "image"
   ]
  },
  {
   "cell_type": "markdown",
   "metadata": {},
   "source": [
    "Write the code to print out the width of the image, by accessing the `\"width\"` key:"
   ]
  },
  {
   "cell_type": "code",
   "execution_count": null,
   "metadata": {},
   "outputs": [
    {
     "data": {
      "text/plain": [
       "1080"
      ]
     },
     "metadata": {},
     "output_type": "display_data"
    }
   ],
   "source": [
    "image['width']"
   ]
  },
  {
   "cell_type": "markdown",
   "metadata": {},
   "source": [
    "What is the height of the image?"
   ]
  },
  {
   "cell_type": "code",
   "execution_count": null,
   "metadata": {},
   "outputs": [
    {
     "data": {
      "text/plain": [
       "1920"
      ]
     },
     "metadata": {},
     "output_type": "display_data"
    }
   ],
   "source": [
    "image['height']"
   ]
  },
  {
   "cell_type": "markdown",
   "metadata": {},
   "source": [
    "How are the pixel data in the image formatted?"
   ]
  },
  {
   "cell_type": "code",
   "execution_count": null,
   "metadata": {},
   "outputs": [
    {
     "data": {
      "text/plain": [
       "'RGB'"
      ]
     },
     "metadata": {},
     "output_type": "display_data"
    }
   ],
   "source": [
    "image['format']"
   ]
  },
  {
   "cell_type": "markdown",
   "metadata": {},
   "source": [
    "What happens if you use the same approach to find out which key has the value `1080`?  What does this tell you about how key-value maps like Dictionaries are designed for?"
   ]
  },
  {
   "cell_type": "code",
   "execution_count": null,
   "metadata": {},
   "outputs": [
    {
     "ename": "NameError",
     "evalue": "name 'image' is not defined",
     "output_type": "error",
     "traceback": [
      "\u001b[1;31m---------------------------------------------------------------------------\u001b[0m\n",
      "\u001b[1;31mNameError\u001b[0m                                 Traceback (most recent call last)\n",
      "Cell \u001b[1;32mIn[14], line 1\u001b[0m\n",
      "\u001b[1;32m----> 1\u001b[0m \u001b[43mimage\u001b[49m[\u001b[38;5;241m1080\u001b[39m]\n",
      "\n",
      "\u001b[1;31mNameError\u001b[0m: name 'image' is not defined"
     ]
    }
   ],
   "source": [
    "image[1080]"
   ]
  },
  {
   "cell_type": "markdown",
   "metadata": {},
   "source": [
    "Make a dictionary: Reorganize the code below: tell Python that the three variables below all belong together by putting them into a dictionary called `session`."
   ]
  },
  {
   "cell_type": "code",
   "execution_count": null,
   "metadata": {},
   "outputs": [
    {
     "data": {
      "text/plain": [
       "{'subject': 'Josie', 'date': '2023-07-23', 'group': 'control'}"
      ]
     },
     "metadata": {},
     "output_type": "display_data"
    }
   ],
   "source": [
    "subject = \"Josie\"\n",
    "date = \"2023-07-23\"\n",
    "group = \"control\"\n",
    "\n",
    "session = {'subject': subject, 'date': date, 'group': group}\n",
    "session"
   ]
  },
  {
   "cell_type": "markdown",
   "metadata": {},
   "source": [
    "Check that the dictionary is constructed properly by getting the subject from it. It should show \"Josie\""
   ]
  },
  {
   "cell_type": "code",
   "execution_count": null,
   "metadata": {},
   "outputs": [
    {
     "data": {
      "text/plain": [
       "'Josie'"
      ]
     },
     "metadata": {},
     "output_type": "display_data"
    }
   ],
   "source": [
    "session['subject']"
   ]
  },
  {
   "cell_type": "code",
   "execution_count": null,
   "metadata": {},
   "outputs": [
    {
     "data": {
      "text/plain": [
       "{'subject': 'Allan',\n",
       " 'experimenter': 'Barbie',\n",
       " 'time': '09:00',\n",
       " 'notes': 'Did a good job.'}"
      ]
     },
     "metadata": {},
     "output_type": "display_data"
    }
   ],
   "source": [
    "default_session = {'subject': 'Ken', 'experimenter': 'Barbie', 'time': '09:00', 'notes': 'Nothing new.'}\n",
    "today_vars = {'subject':  'Allan', 'notes': 'Did a good job.'}\n"
   ]
  },
  {
   "cell_type": "code",
   "execution_count": null,
   "metadata": {},
   "outputs": [
    {
     "data": {
      "text/plain": [
       "{'subject': 'Allan',\n",
       " 'experimenter': 'Barbie',\n",
       " 'time': '09:00',\n",
       " 'notes': 'Did a good job.'}"
      ]
     },
     "metadata": {},
     "output_type": "display_data"
    }
   ],
   "source": [
    "\n",
    "session1 = default_session | today_vars\n",
    "session1"
   ]
  },
  {
   "cell_type": "markdown",
   "metadata": {},
   "source": [
    "## Extracting Metadata from strings\n",
    "\n",
    "| Code | Description |\n",
    "| :--- | :--- |\n",
    "| **Indexing by Position (i.e. \"Slicing\" a String)** |   |\n",
    "| bonn = \"BonnKölnAachen\"[:4] |  |\n",
    "| köln = \"BonnKölnAachen\"[4:8] |  |\n",
    "| aach = \"BonnKölnAachen\"[8:] |  |"
   ]
  },
  {
   "cell_type": "markdown",
   "metadata": {},
   "source": [
    "**Exercises**"
   ]
  },
  {
   "cell_type": "markdown",
   "metadata": {},
   "source": [
    "This researcher had a rule for her filenames: she would store session metadata in **fixed-length** strings, with information always in the same order:\n",
    "  - **Subject Name**: 6 Characters\n",
    "  - **Date**: 8 Characters\n",
    "  - **Treatmet Group**: 7 Characters:\n",
    "  - **Session Number**: 5 Characters (\"sess\" and then the number)\n",
    "\n",
    "That way, when she later needed the information, she could extract it from the filename just by slicing it!"
   ]
  },
  {
   "cell_type": "markdown",
   "metadata": {},
   "source": [
    "What subject's data is in this file?"
   ]
  },
  {
   "cell_type": "code",
   "execution_count": null,
   "metadata": {},
   "outputs": [
    {
     "data": {
      "text/plain": [
       "'Arthur'"
      ]
     },
     "metadata": {},
     "output_type": "display_data"
    }
   ],
   "source": [
    "fname = \"Arthur20241008controlsess1.txt\"   # Filename convention: Subject, Date, Group, Session\n",
    "fname[:6]"
   ]
  },
  {
   "cell_type": "markdown",
   "metadata": {},
   "source": [
    "What group is this subject in?"
   ]
  },
  {
   "cell_type": "code",
   "execution_count": null,
   "metadata": {},
   "outputs": [
    {
     "data": {
      "text/plain": [
       "'control'"
      ]
     },
     "metadata": {},
     "output_type": "display_data"
    }
   ],
   "source": [
    "fname = \"Arthur20241008controlsess1.txt\"   # Filename convention: Subject, Date, Group, Session\n",
    "fname[14:21]"
   ]
  },
  {
   "cell_type": "markdown",
   "metadata": {},
   "source": [
    "What Session number was this?  Turn it from a string into an int with the `int()` function."
   ]
  },
  {
   "cell_type": "code",
   "execution_count": null,
   "metadata": {},
   "outputs": [],
   "source": [
    "fname = \"Arthur20241008controlsess1.txt\"   # Filename convention: Subject, Date, Group, Session\n",
    "fname[]"
   ]
  },
  {
   "cell_type": "markdown",
   "metadata": {},
   "source": [
    "Extract all four metadata variables from the following file and put them into their own variables (note that the subject has fewer than 6 characters in their name.  After slicing the data, you can replace the underscore characters with \"empty strings\" by using the `replace()` method on strings (e.g. `\"name__\".replace('_', '')`):"
   ]
  },
  {
   "cell_type": "code",
   "execution_count": null,
   "metadata": {},
   "outputs": [
    {
     "data": {
      "text/plain": [
       "('Joe', '20241009', 'experim', 1)"
      ]
     },
     "metadata": {},
     "output_type": "display_data"
    }
   ],
   "source": [
    "fname = \"Joe___20241009experimsess1.txt\"  # Filename convention: Subject, Date, Group, Session\n",
    "subject, date, group, sess = fname[:6].replace('_', ''), fname[6:14], fname[14:21], int(fname[25])\n",
    "subject, date, group, sess"
   ]
  },
  {
   "cell_type": "markdown",
   "metadata": {},
   "source": [
    "Make a dictionary with the keys \"Subject\", \"Date\", \"Group\", and \"SessionNum\" with the data from this filename:"
   ]
  },
  {
   "cell_type": "code",
   "execution_count": null,
   "metadata": {},
   "outputs": [
    {
     "data": {
      "text/plain": [
       "{'Subject': 'Arthur', 'Date': '20241008', 'Group': 'control', 'SessionNum': 1}"
      ]
     },
     "metadata": {},
     "output_type": "display_data"
    }
   ],
   "source": [
    "fname = \"Arthur20241008controlsess1.txt\"   # Filename convention: Subject, Date, Group, Session\n",
    "session = {\n",
    "    \"Subject\": fname[:6], \n",
    "    \"Date\": fname[6:14], \n",
    "    \"Group\": fname[14:21],\n",
    "    \"SessionNum\": int(fname[25]),\n",
    "}\n",
    "session"
   ]
  },
  {
   "cell_type": "markdown",
   "metadata": {},
   "source": [
    "Building a table of metadata usually has the following steps, which can be done in a loop:\n",
    "\n",
    "1. Extract data into a dictionary\n",
    "2. Append the dictionary into a list of dictionaries\n",
    "3. Change the list of dictionaries into a data frame (the table)\n",
    "\n",
    "**Example**: Fill in the missing data extraction code for the filenames below to make a session table.  Include the original filename in its own column, to make finding the file later simpler:"
   ]
  },
  {
   "cell_type": "code",
   "execution_count": null,
   "metadata": {},
   "outputs": [],
   "source": [
    "fnames = [\"a2.txt\", \"b3.txt\"]"
   ]
  },
  {
   "cell_type": "code",
   "execution_count": null,
   "metadata": {},
   "outputs": [
    {
     "data": {
      "text/html": [
       "<div>\n",
       "<style scoped>\n",
       "    .dataframe tbody tr th:only-of-type {\n",
       "        vertical-align: middle;\n",
       "    }\n",
       "\n",
       "    .dataframe tbody tr th {\n",
       "        vertical-align: top;\n",
       "    }\n",
       "\n",
       "    .dataframe thead th {\n",
       "        text-align: right;\n",
       "    }\n",
       "</style>\n",
       "<table border=\"1\" class=\"dataframe\">\n",
       "  <thead>\n",
       "    <tr style=\"text-align: right;\">\n",
       "      <th></th>\n",
       "      <th>Letter</th>\n",
       "      <th>Number</th>\n",
       "      <th>Filename</th>\n",
       "    </tr>\n",
       "  </thead>\n",
       "  <tbody>\n",
       "    <tr>\n",
       "      <th>0</th>\n",
       "      <td>a</td>\n",
       "      <td>2</td>\n",
       "      <td>a2.txt</td>\n",
       "    </tr>\n",
       "    <tr>\n",
       "      <th>1</th>\n",
       "      <td>b</td>\n",
       "      <td>3</td>\n",
       "      <td>b3.txt</td>\n",
       "    </tr>\n",
       "  </tbody>\n",
       "</table>\n",
       "</div>"
      ],
      "text/plain": [
       "  Letter  Number Filename\n",
       "0      a       2   a2.txt\n",
       "1      b       3   b3.txt"
      ]
     },
     "metadata": {},
     "output_type": "display_data"
    }
   ],
   "source": [
    "import pandas as pd\n",
    "\n",
    "all_sessions = []\n",
    "for fname in fnames:\n",
    "    session = {\n",
    "        \"Letter\": fname[0],\n",
    "        \"Number\": int(fname[1]),\n",
    "        \"Filename\": fname,\n",
    "    }\n",
    "    all_sessions.append(session)\n",
    "\n",
    "df = pd.DataFrame(all_sessions)\n",
    "df"
   ]
  },
  {
   "cell_type": "markdown",
   "metadata": {},
   "source": [
    "\n",
    "**Exercise**: Fill in the missing data extraction code for the filenames below to make a session table. Include the original filename in its own column, to make finding the file later simpler:\n"
   ]
  },
  {
   "cell_type": "code",
   "execution_count": null,
   "metadata": {},
   "outputs": [
    {
     "data": {
      "text/plain": [
       "['Arthur20241008controlsess1.txt',\n",
       " 'Joseph20241009controlsess1.txt',\n",
       " 'Arthur20241010treatmesess2.txt',\n",
       " 'Joseph20241011controlsess2.txt']"
      ]
     },
     "metadata": {},
     "output_type": "display_data"
    }
   ],
   "source": [
    "fnames = [\"Arthur20241008controlsess1.txt\", \"Joseph20241009controlsess1.txt\", \"Arthur20241010treatmesess2.txt\", \"Joseph20241011controlsess2.txt\"]\n",
    "fnames"
   ]
  },
  {
   "cell_type": "code",
   "execution_count": null,
   "metadata": {},
   "outputs": [
    {
     "data": {
      "text/html": [
       "<div>\n",
       "<style scoped>\n",
       "    .dataframe tbody tr th:only-of-type {\n",
       "        vertical-align: middle;\n",
       "    }\n",
       "\n",
       "    .dataframe tbody tr th {\n",
       "        vertical-align: top;\n",
       "    }\n",
       "\n",
       "    .dataframe thead th {\n",
       "        text-align: right;\n",
       "    }\n",
       "</style>\n",
       "<table border=\"1\" class=\"dataframe\">\n",
       "  <thead>\n",
       "    <tr style=\"text-align: right;\">\n",
       "      <th></th>\n",
       "      <th>Subject</th>\n",
       "      <th>Date</th>\n",
       "      <th>Group</th>\n",
       "      <th>SessionNum</th>\n",
       "      <th>Filename</th>\n",
       "    </tr>\n",
       "  </thead>\n",
       "  <tbody>\n",
       "    <tr>\n",
       "      <th>0</th>\n",
       "      <td>Arthur</td>\n",
       "      <td>20241008</td>\n",
       "      <td>control</td>\n",
       "      <td>1</td>\n",
       "      <td>Arthur20241008controlsess1.txt</td>\n",
       "    </tr>\n",
       "    <tr>\n",
       "      <th>1</th>\n",
       "      <td>Joseph</td>\n",
       "      <td>20241009</td>\n",
       "      <td>control</td>\n",
       "      <td>1</td>\n",
       "      <td>Joseph20241009controlsess1.txt</td>\n",
       "    </tr>\n",
       "    <tr>\n",
       "      <th>2</th>\n",
       "      <td>Arthur</td>\n",
       "      <td>20241010</td>\n",
       "      <td>treatme</td>\n",
       "      <td>2</td>\n",
       "      <td>Arthur20241010treatmesess2.txt</td>\n",
       "    </tr>\n",
       "    <tr>\n",
       "      <th>3</th>\n",
       "      <td>Joseph</td>\n",
       "      <td>20241011</td>\n",
       "      <td>control</td>\n",
       "      <td>2</td>\n",
       "      <td>Joseph20241011controlsess2.txt</td>\n",
       "    </tr>\n",
       "  </tbody>\n",
       "</table>\n",
       "</div>"
      ],
      "text/plain": [
       "  Subject      Date    Group  SessionNum                        Filename\n",
       "0  Arthur  20241008  control           1  Arthur20241008controlsess1.txt\n",
       "1  Joseph  20241009  control           1  Joseph20241009controlsess1.txt\n",
       "2  Arthur  20241010  treatme           2  Arthur20241010treatmesess2.txt\n",
       "3  Joseph  20241011  control           2  Joseph20241011controlsess2.txt"
      ]
     },
     "metadata": {},
     "output_type": "display_data"
    }
   ],
   "source": [
    "all_sessions = []\n",
    "for fname in fnames:\n",
    "    session = {\n",
    "        \"Subject\": fname[0:6],\n",
    "        \"Date\": fname[6:14],\n",
    "        \"Group\": fname[14:21],\n",
    "        \"SessionNum\": int(fname[25:26]),\n",
    "        'Filename': fname,\n",
    "    }\n",
    "    all_sessions.append(session)\n",
    "\n",
    "df = pd.DataFrame(all_sessions)\n",
    "df"
   ]
  }
 ],
 "metadata": {
  "language_info": {
   "name": "python"
  }
 },
 "nbformat": 4,
 "nbformat_minor": 2
}
