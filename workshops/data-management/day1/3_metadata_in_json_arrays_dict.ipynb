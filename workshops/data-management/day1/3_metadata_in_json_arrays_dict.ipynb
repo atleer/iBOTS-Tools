{
 "cells": [
  {
   "cell_type": "code",
   "execution_count": 87,
   "metadata": {},
   "outputs": [],
   "source": [
    "import json\n",
    "from pathlib import Path\n",
    "import pandas as pd"
   ]
  },
  {
   "cell_type": "markdown",
   "metadata": {},
   "source": [
    "# Storing Metadata in Machine-Readable Text Files: JSON as a Metadata format"
   ]
  },
  {
   "cell_type": "markdown",
   "metadata": {},
   "source": [
    "## Parsing JSON Data\n",
    "  - Understanding the JSON Format\n",
    "  - How to read (`loads()`)"
   ]
  },
  {
   "cell_type": "markdown",
   "metadata": {},
   "source": [
    "**Exercises**"
   ]
  },
  {
   "cell_type": "markdown",
   "metadata": {},
   "source": [
    "**Example**: Use the JSON-formatted text below to extract the subject name from the data:"
   ]
  },
  {
   "cell_type": "code",
   "execution_count": 5,
   "metadata": {},
   "outputs": [],
   "source": [
    "text = '{\"Session\": 35, \"Subject\": \"Samuel\", \"date\": \"2022-02-05\"}'"
   ]
  },
  {
   "cell_type": "code",
   "execution_count": 7,
   "metadata": {},
   "outputs": [
    {
     "data": {
      "text/plain": [
       "'Samuel'"
      ]
     },
     "execution_count": 7,
     "metadata": {},
     "output_type": "execute_result"
    }
   ],
   "source": [
    "data = json.loads(text)\n",
    "data['Subject']"
   ]
  },
  {
   "cell_type": "markdown",
   "metadata": {},
   "source": [
    "Use the JSON-formatted text below to extract the date from the data:"
   ]
  },
  {
   "cell_type": "code",
   "execution_count": 9,
   "metadata": {},
   "outputs": [],
   "source": [
    "text = '{\"Session\": 35, \"Subject\": \"Samuel\", \"Date\": \"2022-02-05\"}'"
   ]
  },
  {
   "cell_type": "code",
   "execution_count": 11,
   "metadata": {},
   "outputs": [
    {
     "data": {
      "text/plain": [
       "'2022-02-05'"
      ]
     },
     "execution_count": 11,
     "metadata": {},
     "output_type": "execute_result"
    }
   ],
   "source": [
    "data = json.loads(text)\n",
    "data['Date']"
   ]
  },
  {
   "cell_type": "markdown",
   "metadata": {},
   "source": [
    "Use the JSON-formatted text below to extract the image height from the data:"
   ]
  },
  {
   "cell_type": "code",
   "execution_count": 22,
   "metadata": {},
   "outputs": [],
   "source": [
    "text = \"\"\"\n",
    "{\n",
    "  \"Session\": 32366,\n",
    "  \"Date\": \"2023-09-12\",\n",
    "  \"TestSession\": false,\n",
    "  \"Image\": {\n",
    "    \"Width\": 720,\n",
    "    \"Height\": 1080,\n",
    "    \"Format\": \"RGB\"\n",
    "  }\n",
    "}\n",
    "\"\"\""
   ]
  },
  {
   "cell_type": "code",
   "execution_count": 23,
   "metadata": {},
   "outputs": [
    {
     "data": {
      "text/plain": [
       "1080"
      ]
     },
     "execution_count": 23,
     "metadata": {},
     "output_type": "execute_result"
    }
   ],
   "source": [
    "data = json.loads(text)\n",
    "data['Image']['Height']"
   ]
  },
  {
   "cell_type": "markdown",
   "metadata": {},
   "source": [
    "Use the JSON-formatted text below to count how many images are in the collected sequence (tip: use the `len()` function to count items in a collection):"
   ]
  },
  {
   "cell_type": "code",
   "execution_count": 17,
   "metadata": {},
   "outputs": [],
   "source": [
    "text = \"\"\"\n",
    "{\n",
    "  \"Date\": \"2023-08-30\",\n",
    "  \"Images\": [\"im001.tif\", \"im002.tif\", \"im003.tif\", \"im004.tif\"]\n",
    "}\n",
    "\"\"\""
   ]
  },
  {
   "cell_type": "code",
   "execution_count": 21,
   "metadata": {},
   "outputs": [
    {
     "data": {
      "text/plain": [
       "4"
      ]
     },
     "execution_count": 21,
     "metadata": {},
     "output_type": "execute_result"
    }
   ],
   "source": [
    "data = json.loads(text)\n",
    "len(data['Images'])"
   ]
  },
  {
   "cell_type": "markdown",
   "metadata": {},
   "source": [
    "---"
   ]
  },
  {
   "cell_type": "markdown",
   "metadata": {},
   "source": [
    "## Writing and Reading JSON Data from a File"
   ]
  },
  {
   "cell_type": "markdown",
   "metadata": {},
   "source": [
    "| Code | Description |\n",
    "| :-- | :-- |\n",
    "|    |   |"
   ]
  },
  {
   "cell_type": "markdown",
   "metadata": {},
   "source": [
    "**Exercises**"
   ]
  },
  {
   "cell_type": "markdown",
   "metadata": {},
   "source": [
    "Write the following data into a JSON-formatted text file called `session1.json`:"
   ]
  },
  {
   "cell_type": "code",
   "execution_count": 36,
   "metadata": {},
   "outputs": [],
   "source": [
    "data = {\"Subject\": \"Jenny\", \"DOB\": \"1971-06-14\"}"
   ]
  },
  {
   "cell_type": "code",
   "execution_count": 40,
   "metadata": {},
   "outputs": [
    {
     "data": {
      "text/plain": [
       "41"
      ]
     },
     "execution_count": 40,
     "metadata": {},
     "output_type": "execute_result"
    }
   ],
   "source": [
    "text = json.dumps(data)\n",
    "Path(\"session1.json\").write_text(text)\n"
   ]
  },
  {
   "cell_type": "markdown",
   "metadata": {},
   "source": [
    "Read `session1.json` back into Python and parse the text back into a dictionary to make sure it was written correctly:"
   ]
  },
  {
   "cell_type": "code",
   "execution_count": 41,
   "metadata": {},
   "outputs": [
    {
     "data": {
      "text/plain": [
       "{'Subject': 'Jenny', 'DOB': '1971-06-14'}"
      ]
     },
     "execution_count": 41,
     "metadata": {},
     "output_type": "execute_result"
    }
   ],
   "source": [
    "text = Path(\"session1.json\").read_text()\n",
    "data = json.loads(text)\n",
    "data"
   ]
  },
  {
   "cell_type": "markdown",
   "metadata": {},
   "source": [
    "Write the following data into a JSON-formatted text file called `session2.json`.  To make the file easier to read in a text editor, put each variable on its own indented line:"
   ]
  },
  {
   "cell_type": "code",
   "execution_count": 48,
   "metadata": {},
   "outputs": [
    {
     "data": {
      "text/plain": [
       "{'session_id': 12314,\n",
       " 'brain_region': 'V1',\n",
       " 'subject': 'mousey112',\n",
       " 'height': 1920,\n",
       " 'width': 1080,\n",
       " 'format': 'RGB',\n",
       " 'order': 'F',\n",
       " 'inverted': True}"
      ]
     },
     "execution_count": 48,
     "metadata": {},
     "output_type": "execute_result"
    }
   ],
   "source": [
    "data = {\"session_id\": 12314, 'brain_region': \"V1\", \"subject\": \"mousey112\", 'height': 1920, 'width': 1080, 'format': 'RGB', 'order': 'F', \"inverted\": True}\n",
    "data"
   ]
  },
  {
   "cell_type": "code",
   "execution_count": 49,
   "metadata": {},
   "outputs": [
    {
     "data": {
      "text/plain": [
       "173"
      ]
     },
     "execution_count": 49,
     "metadata": {},
     "output_type": "execute_result"
    }
   ],
   "source": [
    "text = json.dumps(data, indent=3)\n",
    "Path(\"session2.json\").write_text(text)\n"
   ]
  },
  {
   "cell_type": "markdown",
   "metadata": {},
   "source": [
    "Read `session2.json` back into Python and parse the text back into a dictionary to make sure it was written correctly:"
   ]
  },
  {
   "cell_type": "code",
   "execution_count": 1,
   "metadata": {},
   "outputs": [
    {
     "ename": "NameError",
     "evalue": "name 'Path' is not defined",
     "output_type": "error",
     "traceback": [
      "\u001b[1;31m---------------------------------------------------------------------------\u001b[0m",
      "\u001b[1;31mNameError\u001b[0m                                 Traceback (most recent call last)",
      "Cell \u001b[1;32mIn[1], line 1\u001b[0m\n\u001b[1;32m----> 1\u001b[0m text \u001b[38;5;241m=\u001b[39m \u001b[43mPath\u001b[49m(\u001b[38;5;124m\"\u001b[39m\u001b[38;5;124msession2.json\u001b[39m\u001b[38;5;124m\"\u001b[39m)\u001b[38;5;241m.\u001b[39mread_text()\n\u001b[0;32m      2\u001b[0m data \u001b[38;5;241m=\u001b[39m json\u001b[38;5;241m.\u001b[39mloads(text)\n\u001b[0;32m      3\u001b[0m data\n",
      "\u001b[1;31mNameError\u001b[0m: name 'Path' is not defined"
     ]
    }
   ],
   "source": [
    "text = Path(\"session2.json\").read_text()\n",
    "data = json.loads(text)\n",
    "data"
   ]
  },
  {
   "cell_type": "markdown",
   "metadata": {},
   "source": [
    "Run the following code to generate the `image_data` folder, which contains a session's image acquisition data parameters:"
   ]
  },
  {
   "cell_type": "code",
   "execution_count": 124,
   "metadata": {},
   "outputs": [],
   "source": [
    "import json, random\n",
    "from pathlib import Path\n",
    "\n",
    "random.seed(42)\n",
    "\n",
    "for _ in range(10):\n",
    "\n",
    "    # Generate random parameters\n",
    "    params = {\n",
    "        \"exposure_time\": random.choice([100, 200, 300]),  # milliseconds\n",
    "        \"laser_power\": random.choice([5, 10, 15]),  # milliwatts\n",
    "        \"num_frames\": random.randint(200, 400),\n",
    "        \"frame_rate\": random.choice([10, 20, 30]),  # Hz\n",
    "        \"region_of_interest\": random.choice([\"ROI1\", \"ROI2\", \"ROI3\"]),\n",
    "    }\n",
    "    if random.random() > 0.5:\n",
    "        params['start_time'] = random.randint(1, 5000)  # seconds\n",
    "\n",
    "    # Write the data to a json file\n",
    "    session_num = random.randint(1, 300)\n",
    "    experimenter = random.choice([\"Sophie\", \"Florian\"])\n",
    "    path = Path(f\"image_data/{experimenter}_{session_num}/session.json\")\n",
    "    path.parent.mkdir(parents=True, exist_ok=True)\n",
    "    json_text = json.dumps(params, indent=3)\n",
    "    path.write_text(json_text)\n"
   ]
  },
  {
   "cell_type": "markdown",
   "metadata": {},
   "source": [
    "Read and Parse the JSON-formatted data in session 72, to get the exposure time."
   ]
  },
  {
   "cell_type": "code",
   "execution_count": 119,
   "metadata": {},
   "outputs": [
    {
     "data": {
      "text/plain": [
       "300"
      ]
     },
     "execution_count": 119,
     "metadata": {},
     "output_type": "execute_result"
    }
   ],
   "source": [
    "data = json.loads(Path(\"image_data/Sophie_72/session.json\").read_text())\n",
    "data['exposure_time']"
   ]
  },
  {
   "cell_type": "markdown",
   "metadata": {},
   "source": [
    "Read and Parse the JSON-formatted data in session 177, to get the frame rate."
   ]
  },
  {
   "cell_type": "code",
   "execution_count": 118,
   "metadata": {},
   "outputs": [
    {
     "data": {
      "text/plain": [
       "10"
      ]
     },
     "execution_count": 118,
     "metadata": {},
     "output_type": "execute_result"
    }
   ],
   "source": [
    "data = json.loads(Path(\"image_data/Florian_177/session.json\").read_text())\n",
    "data['frame_rate']"
   ]
  },
  {
   "cell_type": "markdown",
   "metadata": {},
   "source": [
    "Use `list(Path().glob(pattern))` to list all the the JSON session files in the `image_data` folder (tip: use the wildcard \"*\" whereever there are variable parts in the filename)"
   ]
  },
  {
   "cell_type": "code",
   "execution_count": 112,
   "metadata": {},
   "outputs": [
    {
     "data": {
      "text/plain": [
       "[]"
      ]
     },
     "execution_count": 112,
     "metadata": {},
     "output_type": "execute_result"
    }
   ],
   "source": [
    "list(Path().glob(\"image_data/session_*/session.json\"))"
   ]
  },
  {
   "cell_type": "markdown",
   "metadata": {},
   "source": [
    "Read and parse all the `session.json` files and put them into a Pandas DataFrame. Here is a code template to help you get started:\n",
    "\n",
    "```python\n",
    "sessions = []\n",
    "for path in Path().glob(\"image_data/Sophie_16/session.json\"):\n",
    "    text = path.read_text()\n",
    "    session = {\"A\": 3}\n",
    "    sessions.append(session)\n",
    "\n",
    "df = pd.DataFrame(sessions)\n",
    "df\n",
    "```"
   ]
  },
  {
   "cell_type": "code",
   "execution_count": 120,
   "metadata": {},
   "outputs": [
    {
     "data": {
      "text/html": [
       "<div>\n",
       "<style scoped>\n",
       "    .dataframe tbody tr th:only-of-type {\n",
       "        vertical-align: middle;\n",
       "    }\n",
       "\n",
       "    .dataframe tbody tr th {\n",
       "        vertical-align: top;\n",
       "    }\n",
       "\n",
       "    .dataframe thead th {\n",
       "        text-align: right;\n",
       "    }\n",
       "</style>\n",
       "<table border=\"1\" class=\"dataframe\">\n",
       "  <thead>\n",
       "    <tr style=\"text-align: right;\">\n",
       "      <th></th>\n",
       "      <th>exposure_time</th>\n",
       "      <th>laser_power</th>\n",
       "      <th>num_frames</th>\n",
       "      <th>frame_rate</th>\n",
       "      <th>region_of_interest</th>\n",
       "      <th>start_time</th>\n",
       "    </tr>\n",
       "  </thead>\n",
       "  <tbody>\n",
       "    <tr>\n",
       "      <th>0</th>\n",
       "      <td>300</td>\n",
       "      <td>15</td>\n",
       "      <td>292</td>\n",
       "      <td>30</td>\n",
       "      <td>ROI1</td>\n",
       "      <td>376.0</td>\n",
       "    </tr>\n",
       "    <tr>\n",
       "      <th>1</th>\n",
       "      <td>100</td>\n",
       "      <td>10</td>\n",
       "      <td>226</td>\n",
       "      <td>10</td>\n",
       "      <td>ROI2</td>\n",
       "      <td>NaN</td>\n",
       "    </tr>\n",
       "    <tr>\n",
       "      <th>2</th>\n",
       "      <td>100</td>\n",
       "      <td>15</td>\n",
       "      <td>317</td>\n",
       "      <td>30</td>\n",
       "      <td>ROI1</td>\n",
       "      <td>3101.0</td>\n",
       "    </tr>\n",
       "    <tr>\n",
       "      <th>3</th>\n",
       "      <td>200</td>\n",
       "      <td>15</td>\n",
       "      <td>271</td>\n",
       "      <td>10</td>\n",
       "      <td>ROI1</td>\n",
       "      <td>2788.0</td>\n",
       "    </tr>\n",
       "    <tr>\n",
       "      <th>4</th>\n",
       "      <td>300</td>\n",
       "      <td>15</td>\n",
       "      <td>339</td>\n",
       "      <td>10</td>\n",
       "      <td>ROI3</td>\n",
       "      <td>NaN</td>\n",
       "    </tr>\n",
       "    <tr>\n",
       "      <th>5</th>\n",
       "      <td>100</td>\n",
       "      <td>10</td>\n",
       "      <td>297</td>\n",
       "      <td>20</td>\n",
       "      <td>ROI3</td>\n",
       "      <td>1800.0</td>\n",
       "    </tr>\n",
       "    <tr>\n",
       "      <th>6</th>\n",
       "      <td>100</td>\n",
       "      <td>5</td>\n",
       "      <td>225</td>\n",
       "      <td>20</td>\n",
       "      <td>ROI2</td>\n",
       "      <td>NaN</td>\n",
       "    </tr>\n",
       "    <tr>\n",
       "      <th>7</th>\n",
       "      <td>100</td>\n",
       "      <td>5</td>\n",
       "      <td>329</td>\n",
       "      <td>30</td>\n",
       "      <td>ROI1</td>\n",
       "      <td>4465.0</td>\n",
       "    </tr>\n",
       "    <tr>\n",
       "      <th>8</th>\n",
       "      <td>300</td>\n",
       "      <td>5</td>\n",
       "      <td>206</td>\n",
       "      <td>30</td>\n",
       "      <td>ROI2</td>\n",
       "      <td>NaN</td>\n",
       "    </tr>\n",
       "    <tr>\n",
       "      <th>9</th>\n",
       "      <td>200</td>\n",
       "      <td>10</td>\n",
       "      <td>253</td>\n",
       "      <td>30</td>\n",
       "      <td>ROI2</td>\n",
       "      <td>585.0</td>\n",
       "    </tr>\n",
       "  </tbody>\n",
       "</table>\n",
       "</div>"
      ],
      "text/plain": [
       "   exposure_time  laser_power  num_frames  frame_rate region_of_interest  \\\n",
       "0            300           15         292          30               ROI1   \n",
       "1            100           10         226          10               ROI2   \n",
       "2            100           15         317          30               ROI1   \n",
       "3            200           15         271          10               ROI1   \n",
       "4            300           15         339          10               ROI3   \n",
       "5            100           10         297          20               ROI3   \n",
       "6            100            5         225          20               ROI2   \n",
       "7            100            5         329          30               ROI1   \n",
       "8            300            5         206          30               ROI2   \n",
       "9            200           10         253          30               ROI2   \n",
       "\n",
       "   start_time  \n",
       "0       376.0  \n",
       "1         NaN  \n",
       "2      3101.0  \n",
       "3      2788.0  \n",
       "4         NaN  \n",
       "5      1800.0  \n",
       "6         NaN  \n",
       "7      4465.0  \n",
       "8         NaN  \n",
       "9       585.0  "
      ]
     },
     "execution_count": 120,
     "metadata": {},
     "output_type": "execute_result"
    }
   ],
   "source": [
    "sessions = []\n",
    "for path in Path().glob(\"image_data/*/session.json\"):\n",
    "    session = json.loads(path.read_text())\n",
    "    sessions.append(session)\n",
    "\n",
    "df = pd.DataFrame(sessions)\n",
    "df"
   ]
  },
  {
   "cell_type": "markdown",
   "metadata": {},
   "source": [
    "Read and parse all the `session.json` files and put them into a Pandas DataFrame. Include the experimenter name and the session ID from the parent folder's name (tip: `Path().parent.name`). "
   ]
  },
  {
   "cell_type": "code",
   "execution_count": 123,
   "metadata": {},
   "outputs": [
    {
     "data": {
      "text/html": [
       "<div>\n",
       "<style scoped>\n",
       "    .dataframe tbody tr th:only-of-type {\n",
       "        vertical-align: middle;\n",
       "    }\n",
       "\n",
       "    .dataframe tbody tr th {\n",
       "        vertical-align: top;\n",
       "    }\n",
       "\n",
       "    .dataframe thead th {\n",
       "        text-align: right;\n",
       "    }\n",
       "</style>\n",
       "<table border=\"1\" class=\"dataframe\">\n",
       "  <thead>\n",
       "    <tr style=\"text-align: right;\">\n",
       "      <th></th>\n",
       "      <th>session_id</th>\n",
       "      <th>experimenter</th>\n",
       "      <th>exposure_time</th>\n",
       "      <th>laser_power</th>\n",
       "      <th>num_frames</th>\n",
       "      <th>frame_rate</th>\n",
       "      <th>region_of_interest</th>\n",
       "      <th>start_time</th>\n",
       "    </tr>\n",
       "  </thead>\n",
       "  <tbody>\n",
       "    <tr>\n",
       "      <th>0</th>\n",
       "      <td>117</td>\n",
       "      <td>Florian</td>\n",
       "      <td>300</td>\n",
       "      <td>15</td>\n",
       "      <td>292</td>\n",
       "      <td>30</td>\n",
       "      <td>ROI1</td>\n",
       "      <td>376.0</td>\n",
       "    </tr>\n",
       "    <tr>\n",
       "      <th>1</th>\n",
       "      <td>177</td>\n",
       "      <td>Florian</td>\n",
       "      <td>100</td>\n",
       "      <td>10</td>\n",
       "      <td>226</td>\n",
       "      <td>10</td>\n",
       "      <td>ROI2</td>\n",
       "      <td>NaN</td>\n",
       "    </tr>\n",
       "    <tr>\n",
       "      <th>2</th>\n",
       "      <td>41</td>\n",
       "      <td>Florian</td>\n",
       "      <td>100</td>\n",
       "      <td>15</td>\n",
       "      <td>317</td>\n",
       "      <td>30</td>\n",
       "      <td>ROI1</td>\n",
       "      <td>3101.0</td>\n",
       "    </tr>\n",
       "    <tr>\n",
       "      <th>3</th>\n",
       "      <td>143</td>\n",
       "      <td>Sophie</td>\n",
       "      <td>200</td>\n",
       "      <td>15</td>\n",
       "      <td>271</td>\n",
       "      <td>10</td>\n",
       "      <td>ROI1</td>\n",
       "      <td>2788.0</td>\n",
       "    </tr>\n",
       "    <tr>\n",
       "      <th>4</th>\n",
       "      <td>16</td>\n",
       "      <td>Sophie</td>\n",
       "      <td>300</td>\n",
       "      <td>15</td>\n",
       "      <td>339</td>\n",
       "      <td>10</td>\n",
       "      <td>ROI3</td>\n",
       "      <td>NaN</td>\n",
       "    </tr>\n",
       "    <tr>\n",
       "      <th>5</th>\n",
       "      <td>167</td>\n",
       "      <td>Sophie</td>\n",
       "      <td>100</td>\n",
       "      <td>10</td>\n",
       "      <td>297</td>\n",
       "      <td>20</td>\n",
       "      <td>ROI3</td>\n",
       "      <td>1800.0</td>\n",
       "    </tr>\n",
       "    <tr>\n",
       "      <th>6</th>\n",
       "      <td>187</td>\n",
       "      <td>Sophie</td>\n",
       "      <td>100</td>\n",
       "      <td>5</td>\n",
       "      <td>225</td>\n",
       "      <td>20</td>\n",
       "      <td>ROI2</td>\n",
       "      <td>NaN</td>\n",
       "    </tr>\n",
       "    <tr>\n",
       "      <th>7</th>\n",
       "      <td>215</td>\n",
       "      <td>Sophie</td>\n",
       "      <td>100</td>\n",
       "      <td>5</td>\n",
       "      <td>329</td>\n",
       "      <td>30</td>\n",
       "      <td>ROI1</td>\n",
       "      <td>4465.0</td>\n",
       "    </tr>\n",
       "    <tr>\n",
       "      <th>8</th>\n",
       "      <td>72</td>\n",
       "      <td>Sophie</td>\n",
       "      <td>300</td>\n",
       "      <td>5</td>\n",
       "      <td>206</td>\n",
       "      <td>30</td>\n",
       "      <td>ROI2</td>\n",
       "      <td>NaN</td>\n",
       "    </tr>\n",
       "    <tr>\n",
       "      <th>9</th>\n",
       "      <td>88</td>\n",
       "      <td>Sophie</td>\n",
       "      <td>200</td>\n",
       "      <td>10</td>\n",
       "      <td>253</td>\n",
       "      <td>30</td>\n",
       "      <td>ROI2</td>\n",
       "      <td>585.0</td>\n",
       "    </tr>\n",
       "  </tbody>\n",
       "</table>\n",
       "</div>"
      ],
      "text/plain": [
       "  session_id experimenter  exposure_time  laser_power  num_frames  frame_rate  \\\n",
       "0        117      Florian            300           15         292          30   \n",
       "1        177      Florian            100           10         226          10   \n",
       "2         41      Florian            100           15         317          30   \n",
       "3        143       Sophie            200           15         271          10   \n",
       "4         16       Sophie            300           15         339          10   \n",
       "5        167       Sophie            100           10         297          20   \n",
       "6        187       Sophie            100            5         225          20   \n",
       "7        215       Sophie            100            5         329          30   \n",
       "8         72       Sophie            300            5         206          30   \n",
       "9         88       Sophie            200           10         253          30   \n",
       "\n",
       "  region_of_interest  start_time  \n",
       "0               ROI1       376.0  \n",
       "1               ROI2         NaN  \n",
       "2               ROI1      3101.0  \n",
       "3               ROI1      2788.0  \n",
       "4               ROI3         NaN  \n",
       "5               ROI3      1800.0  \n",
       "6               ROI2         NaN  \n",
       "7               ROI1      4465.0  \n",
       "8               ROI2         NaN  \n",
       "9               ROI2       585.0  "
      ]
     },
     "execution_count": 123,
     "metadata": {},
     "output_type": "execute_result"
    }
   ],
   "source": [
    "sessions = []\n",
    "for path in Path().glob(\"image_data/*/session.json\"):\n",
    "    session = {}\n",
    "    experimenter, session_id = path.parent.name.split('_')\n",
    "    session['session_id'] = session_id\n",
    "    session['experimenter'] = experimenter\n",
    "    session |= json.loads(path.read_text())\n",
    "    sessions.append(session)\n",
    "\n",
    "df = pd.DataFrame(sessions)\n",
    "df"
   ]
  }
 ],
 "metadata": {
  "kernelspec": {
   "display_name": "duckdb",
   "language": "python",
   "name": "python3"
  },
  "language_info": {
   "codemirror_mode": {
    "name": "ipython",
    "version": 3
   },
   "file_extension": ".py",
   "mimetype": "text/x-python",
   "name": "python",
   "nbconvert_exporter": "python",
   "pygments_lexer": "ipython3",
   "version": "3.11.7"
  }
 },
 "nbformat": 4,
 "nbformat_minor": 2
}
