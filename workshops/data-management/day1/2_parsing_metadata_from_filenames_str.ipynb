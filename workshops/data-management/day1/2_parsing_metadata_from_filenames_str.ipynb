{
 "cells": [
  {
   "cell_type": "code",
   "execution_count": 1,
   "metadata": {},
   "outputs": [],
   "source": [
    "import pandas as pd"
   ]
  },
  {
   "cell_type": "markdown",
   "metadata": {},
   "source": [
    "#### Technique: Variable-Length, Character-Seperated Strings (string splitting)\n",
    "\n",
    "This researcher wanted to use any-length strings for her data, so that names like \"Joe\" and \"Josephine\" could all be put in the filename more naturally.  So, her filename convention was this: \n",
    "\n",
    "`<Subject>_<Date>_<SessionCondition>_<SessionNum>.<FileExtension>`\n",
    "\n",
    "By settling on the underscore (\"_\") for the seperator for the variables (the dot \".\" is always used as a seperator for the file extension), the code for extracting those variables is quite simple and just involves \"splitting\" the string along those seperators.\n",
    "\n",
    "| Code | Description | \n",
    "| :-- | :-- |\n",
    "| **Indexing by Seperated Value** (i.e. \"Splitting and Indexing\" a String) |  |\n",
    "| values = \"hello_world\".split('_') |  |\n",
    "| hello = \"hello_world\".split('_')[0] |  |\n",
    "| world = \"hello world\".split(' ')[1] |  |\n",
    "| hello, world = \"hello world\".split(' ') |  |\n",
    "| basename, extension = \"filename.txt\".split('.') |  |\n",
    "| hello, *rest = \"hello dog cat bunny cow\".split(' ') |  |"
   ]
  },
  {
   "cell_type": "markdown",
   "metadata": {},
   "source": [
    "**Exercises**"
   ]
  },
  {
   "cell_type": "markdown",
   "metadata": {},
   "source": [
    "**Example**: The filename convention here is `<Subject>_<Date>_<Group>_<SessionNum>.<FileExtension>`.  Extract the date this filename into its own variables:"
   ]
  },
  {
   "cell_type": "code",
   "execution_count": 2,
   "metadata": {},
   "outputs": [
    {
     "data": {
      "text/plain": [
       "'20241008'"
      ]
     },
     "execution_count": 2,
     "metadata": {},
     "output_type": "execute_result"
    }
   ],
   "source": [
    "fname = \"Arthur_20241008_control_1.txt\"\n",
    "base, ext = fname.split('.')\n",
    "data = base.split('_')\n",
    "date = data[1]\n",
    "date"
   ]
  },
  {
   "cell_type": "markdown",
   "metadata": {},
   "source": [
    "Extract the Group from this filename into its own variables:"
   ]
  },
  {
   "cell_type": "code",
   "execution_count": 3,
   "metadata": {},
   "outputs": [
    {
     "data": {
      "text/plain": [
       "'control'"
      ]
     },
     "execution_count": 3,
     "metadata": {},
     "output_type": "execute_result"
    }
   ],
   "source": [
    "fname = \"Arthur_20241008_control_1.txt\"\n",
    "base, ext = fname.split('.')\n",
    "data = base.split('_')\n",
    "group = data[2]\n",
    "group"
   ]
  },
  {
   "cell_type": "markdown",
   "metadata": {},
   "source": [
    "Extract all the data from this filename into a dictionary:"
   ]
  },
  {
   "cell_type": "code",
   "execution_count": 4,
   "metadata": {},
   "outputs": [
    {
     "data": {
      "text/plain": [
       "{'Subject': 'Arthur',\n",
       " 'Date': '20241008',\n",
       " 'Group': 'control',\n",
       " 'SessionNum': '1'}"
      ]
     },
     "execution_count": 4,
     "metadata": {},
     "output_type": "execute_result"
    }
   ],
   "source": [
    "fname = \"Arthur_20241008_control_1.txt\"\n",
    "base, ext = fname.split('.')\n",
    "subject, date, session, num = base.split('_')\n",
    "data = {\"Subject\": subject, \"Date\": date, \"Group\": group, \"SessionNum\": num}\n",
    "data"
   ]
  },
  {
   "cell_type": "markdown",
   "metadata": {},
   "source": [
    "Use the filenames below to extract data into a session metadata table in a for-loop (feel free to copy-paste and adjust the solution from the previous section!) Include the original filename in its own column, to make finding the file later simpler:"
   ]
  },
  {
   "cell_type": "code",
   "execution_count": 5,
   "metadata": {},
   "outputs": [
    {
     "data": {
      "text/plain": [
       "['Arthur_20241008_control_1.txt',\n",
       " 'Josephine_20241009_control_1.txt',\n",
       " 'Arthur_20241010_treatment_2.txt',\n",
       " 'Joseph_20241011_control_2.txt']"
      ]
     },
     "execution_count": 5,
     "metadata": {},
     "output_type": "execute_result"
    }
   ],
   "source": [
    "fnames = [\"Arthur_20241008_control_1.txt\", \"Josephine_20241009_control_1.txt\", \"Arthur_20241010_treatment_2.txt\", \"Joseph_20241011_control_2.txt\"]\n",
    "fnames"
   ]
  },
  {
   "cell_type": "code",
   "execution_count": 6,
   "metadata": {},
   "outputs": [
    {
     "data": {
      "text/html": [
       "<div>\n",
       "<style scoped>\n",
       "    .dataframe tbody tr th:only-of-type {\n",
       "        vertical-align: middle;\n",
       "    }\n",
       "\n",
       "    .dataframe tbody tr th {\n",
       "        vertical-align: top;\n",
       "    }\n",
       "\n",
       "    .dataframe thead th {\n",
       "        text-align: right;\n",
       "    }\n",
       "</style>\n",
       "<table border=\"1\" class=\"dataframe\">\n",
       "  <thead>\n",
       "    <tr style=\"text-align: right;\">\n",
       "      <th></th>\n",
       "      <th>Subject</th>\n",
       "      <th>Date</th>\n",
       "      <th>Group</th>\n",
       "      <th>SessionNum</th>\n",
       "      <th>Filename</th>\n",
       "    </tr>\n",
       "  </thead>\n",
       "  <tbody>\n",
       "    <tr>\n",
       "      <th>0</th>\n",
       "      <td>Arthur</td>\n",
       "      <td>20241008</td>\n",
       "      <td>control</td>\n",
       "      <td>1</td>\n",
       "      <td>Arthur_20241008_control_1.txt</td>\n",
       "    </tr>\n",
       "    <tr>\n",
       "      <th>1</th>\n",
       "      <td>Josephine</td>\n",
       "      <td>20241009</td>\n",
       "      <td>control</td>\n",
       "      <td>1</td>\n",
       "      <td>Josephine_20241009_control_1.txt</td>\n",
       "    </tr>\n",
       "    <tr>\n",
       "      <th>2</th>\n",
       "      <td>Arthur</td>\n",
       "      <td>20241010</td>\n",
       "      <td>treatment</td>\n",
       "      <td>2</td>\n",
       "      <td>Arthur_20241010_treatment_2.txt</td>\n",
       "    </tr>\n",
       "    <tr>\n",
       "      <th>3</th>\n",
       "      <td>Joseph</td>\n",
       "      <td>20241011</td>\n",
       "      <td>control</td>\n",
       "      <td>2</td>\n",
       "      <td>Joseph_20241011_control_2.txt</td>\n",
       "    </tr>\n",
       "  </tbody>\n",
       "</table>\n",
       "</div>"
      ],
      "text/plain": [
       "     Subject      Date      Group  SessionNum  \\\n",
       "0     Arthur  20241008    control           1   \n",
       "1  Josephine  20241009    control           1   \n",
       "2     Arthur  20241010  treatment           2   \n",
       "3     Joseph  20241011    control           2   \n",
       "\n",
       "                           Filename  \n",
       "0     Arthur_20241008_control_1.txt  \n",
       "1  Josephine_20241009_control_1.txt  \n",
       "2   Arthur_20241010_treatment_2.txt  \n",
       "3     Joseph_20241011_control_2.txt  "
      ]
     },
     "execution_count": 6,
     "metadata": {},
     "output_type": "execute_result"
    }
   ],
   "source": [
    "all_sessions = []\n",
    "for fname in fnames:\n",
    "    base, ext = fname.split('.')\n",
    "    data = base.split('_')\n",
    "    session = {\n",
    "        \"Subject\": data[0],\n",
    "        \"Date\": data[1],\n",
    "        \"Group\": data[2],\n",
    "        \"SessionNum\": int(data[3]),\n",
    "        \"Filename\": fname,\n",
    "    }\n",
    "    all_sessions.append(session)\n",
    "\n",
    "df = pd.DataFrame(all_sessions)\n",
    "df"
   ]
  },
  {
   "cell_type": "markdown",
   "metadata": {},
   "source": [
    "## Self-Describing Metadata: Getting Key-Values Directly from a String\n",
    "\n",
    "### Searching the String for Patterns using index()\n",
    "\n",
    "Sometimes you want to find certain information in a string, by relying on their being specific text right before the data you want\n",
    "\n",
    "| Code | Description |\n",
    "| :-- | :-- |\n",
    "| idx = \"JoeSess1\".index(\"Sess\") |    |\n",
    "| sessNum = \"JoeSess1\"[idx+4 : idx+5] |  |\n"
   ]
  },
  {
   "cell_type": "markdown",
   "metadata": {},
   "source": [
    "The following Filenames have a different file naming convention:\n",
    "\n",
    "`<SessionID>_<BrainRegion>-d1=<ImageHeightInPixels>,d2=<ImageWidthInPixels>.<FileExtension>`"
   ]
  },
  {
   "cell_type": "markdown",
   "metadata": {},
   "source": [
    "Using the index to find the `d1=` section from this filename, extract the image height:"
   ]
  },
  {
   "cell_type": "code",
   "execution_count": 20,
   "metadata": {},
   "outputs": [
    {
     "data": {
      "text/plain": [
       "720"
      ]
     },
     "execution_count": 20,
     "metadata": {},
     "output_type": "execute_result"
    }
   ],
   "source": [
    "fname = \"242_CA1-d1=720,d2=1080.tif\"\n",
    "start_idx = fname.index(\"d1=\") + len(\"d1=\")\n",
    "end_idx = fname.index(\",\")\n",
    "height = int(fname[start_idx:end_idx])\n",
    "height"
   ]
  },
  {
   "cell_type": "markdown",
   "metadata": {},
   "source": [
    "Using the index to find the `d2=` section from this filename, extract the image width:"
   ]
  },
  {
   "cell_type": "code",
   "execution_count": 25,
   "metadata": {},
   "outputs": [
    {
     "data": {
      "text/plain": [
       "720"
      ]
     },
     "execution_count": 25,
     "metadata": {},
     "output_type": "execute_result"
    }
   ],
   "source": [
    "fname = \"2045_CA3-d1=1080,d2=720.tif\"\n",
    "start_idx = fname.index(\"d2=\") + len(\"d2=\")\n",
    "end_idx = fname.index(\".\")\n",
    "width = int(fname[start_idx:end_idx])\n",
    "width"
   ]
  },
  {
   "cell_type": "markdown",
   "metadata": {},
   "source": [
    "Using the index to find the `_` section from this filename, extract the brain region:"
   ]
  },
  {
   "cell_type": "code",
   "execution_count": 26,
   "metadata": {},
   "outputs": [
    {
     "data": {
      "text/plain": [
       "'DG'"
      ]
     },
     "execution_count": 26,
     "metadata": {},
     "output_type": "execute_result"
    }
   ],
   "source": [
    "fname = \"24_DG-d1=720,d2=720.tif\"\n",
    "start_idx = fname.index(\"_\") + len(\"_\")\n",
    "end_idx = fname.index('-')\n",
    "brain_region = fname[start_idx:end_idx]\n",
    "brain_region"
   ]
  },
  {
   "cell_type": "markdown",
   "metadata": {},
   "source": [
    "Extract all the data from the following filenames in a loop to build a session table. Include the original filename in its own column, to make finding the file later simpler:"
   ]
  },
  {
   "cell_type": "code",
   "execution_count": 46,
   "metadata": {},
   "outputs": [
    {
     "data": {
      "text/plain": [
       "['242_CA1-d1=720,d2=1080.tif',\n",
       " '2045_CA3-d1=1080,d2=720.tif',\n",
       " '24_DG-d1=720,d2=720.tif',\n",
       " '52313_CA1-d1=720,d2=720.tif',\n",
       " '4_DG-d1=1080,d2=1080.tif']"
      ]
     },
     "execution_count": 46,
     "metadata": {},
     "output_type": "execute_result"
    }
   ],
   "source": [
    "fnames = [\"242_CA1-d1=720,d2=1080.tif\", \"2045_CA3-d1=1080,d2=720.tif\", \"24_DG-d1=720,d2=720.tif\", \"52313_CA1-d1=720,d2=720.tif\", \"4_DG-d1=1080,d2=1080.tif\"]\n",
    "fnames"
   ]
  },
  {
   "cell_type": "code",
   "execution_count": 47,
   "metadata": {},
   "outputs": [
    {
     "data": {
      "text/html": [
       "<div>\n",
       "<style scoped>\n",
       "    .dataframe tbody tr th:only-of-type {\n",
       "        vertical-align: middle;\n",
       "    }\n",
       "\n",
       "    .dataframe tbody tr th {\n",
       "        vertical-align: top;\n",
       "    }\n",
       "\n",
       "    .dataframe thead th {\n",
       "        text-align: right;\n",
       "    }\n",
       "</style>\n",
       "<table border=\"1\" class=\"dataframe\">\n",
       "  <thead>\n",
       "    <tr style=\"text-align: right;\">\n",
       "      <th></th>\n",
       "      <th>SessionID</th>\n",
       "      <th>Height</th>\n",
       "      <th>Width</th>\n",
       "      <th>BrainRegion</th>\n",
       "      <th>Filename</th>\n",
       "    </tr>\n",
       "  </thead>\n",
       "  <tbody>\n",
       "    <tr>\n",
       "      <th>0</th>\n",
       "      <td>242</td>\n",
       "      <td>720</td>\n",
       "      <td>1080</td>\n",
       "      <td>CA1</td>\n",
       "      <td>242_CA1-d1=720,d2=1080.tif</td>\n",
       "    </tr>\n",
       "    <tr>\n",
       "      <th>1</th>\n",
       "      <td>2045</td>\n",
       "      <td>1080</td>\n",
       "      <td>720</td>\n",
       "      <td>CA3</td>\n",
       "      <td>2045_CA3-d1=1080,d2=720.tif</td>\n",
       "    </tr>\n",
       "    <tr>\n",
       "      <th>2</th>\n",
       "      <td>24</td>\n",
       "      <td>720</td>\n",
       "      <td>720</td>\n",
       "      <td>DG</td>\n",
       "      <td>24_DG-d1=720,d2=720.tif</td>\n",
       "    </tr>\n",
       "    <tr>\n",
       "      <th>3</th>\n",
       "      <td>52313</td>\n",
       "      <td>720</td>\n",
       "      <td>720</td>\n",
       "      <td>CA1</td>\n",
       "      <td>52313_CA1-d1=720,d2=720.tif</td>\n",
       "    </tr>\n",
       "    <tr>\n",
       "      <th>4</th>\n",
       "      <td>4</td>\n",
       "      <td>1080</td>\n",
       "      <td>1080</td>\n",
       "      <td>DG</td>\n",
       "      <td>4_DG-d1=1080,d2=1080.tif</td>\n",
       "    </tr>\n",
       "  </tbody>\n",
       "</table>\n",
       "</div>"
      ],
      "text/plain": [
       "  SessionID  Height  Width BrainRegion                     Filename\n",
       "0       242     720   1080         CA1   242_CA1-d1=720,d2=1080.tif\n",
       "1      2045    1080    720         CA3  2045_CA3-d1=1080,d2=720.tif\n",
       "2        24     720    720          DG      24_DG-d1=720,d2=720.tif\n",
       "3     52313     720    720         CA1  52313_CA1-d1=720,d2=720.tif\n",
       "4         4    1080   1080          DG     4_DG-d1=1080,d2=1080.tif"
      ]
     },
     "execution_count": 47,
     "metadata": {},
     "output_type": "execute_result"
    }
   ],
   "source": [
    "sessions = []\n",
    "\n",
    "for fname in fnames:\n",
    "\n",
    "    # Session ID\n",
    "    start_idx = 0\n",
    "    end_idx = fname.index('_')\n",
    "    session_id = fname[start_idx:end_idx]\n",
    "    \n",
    "    # Height\n",
    "    start_idx = fname.index(\"d1=\") + len(\"d1=\")\n",
    "    end_idx = fname.index(\",\")\n",
    "    height = int(fname[start_idx:end_idx])\n",
    "\n",
    "    # Width\n",
    "    start_idx = fname.index(\"d2=\") + len(\"d2=\")\n",
    "    end_idx = fname.index(\".\")\n",
    "    width = int(fname[start_idx:end_idx])\n",
    "\n",
    "    # Brain Region\n",
    "    start_idx = fname.index(\"_\") + len(\"_\")\n",
    "    end_idx = fname.index('-')\n",
    "    brain_region = fname[start_idx:end_idx]\n",
    "\n",
    "    session = {\"SessionID\": session_id, \"Height\": height, \"Width\": width, \"BrainRegion\": brain_region, \"Filename\": fname}\n",
    "    sessions.append(session)\n",
    "\n",
    "df = pd.DataFrame(sessions)\n",
    "df"
   ]
  },
  {
   "cell_type": "markdown",
   "metadata": {},
   "source": [
    "### Variable-Length Data on Variable Keys: Using a Double-Seperator to Store Keys Directly in the Filename"
   ]
  },
  {
   "cell_type": "markdown",
   "metadata": {},
   "source": [
    "**Example**: Extract all the data from the filename:"
   ]
  },
  {
   "cell_type": "code",
   "execution_count": 50,
   "metadata": {},
   "outputs": [
    {
     "data": {
      "text/plain": [
       "{'sess': '232', 'subj': 'Bill', 'grp': 'Control'}"
      ]
     },
     "execution_count": 50,
     "metadata": {},
     "output_type": "execute_result"
    }
   ],
   "source": [
    "fname = \"sess=232_subj=Bill_grp=Control.txt\"\n",
    "base, ext = fname.split('.')\n",
    "data = {}\n",
    "for item in base.split('_'):\n",
    "    key, value = item.split('=')\n",
    "    data[key] = value\n",
    "\n",
    "data"
   ]
  },
  {
   "cell_type": "markdown",
   "metadata": {},
   "source": [
    "Extract all the data from the filename"
   ]
  },
  {
   "cell_type": "code",
   "execution_count": 52,
   "metadata": {},
   "outputs": [
    {
     "data": {
      "text/plain": [
       "{'sessId': '11', 'height': '720', 'width': '1028', 'region': 'DG'}"
      ]
     },
     "execution_count": 52,
     "metadata": {},
     "output_type": "execute_result"
    }
   ],
   "source": [
    "fname = \"sessId-11_height-720_width-1028_region-DG.tif\"\n",
    "base, ext = fname.split('.')\n",
    "data = {}\n",
    "for item in base.split('_'):\n",
    "    key, value = item.split('-')\n",
    "    data[key] = value\n",
    "\n",
    "data"
   ]
  },
  {
   "cell_type": "markdown",
   "metadata": {},
   "source": [
    "Extract all the data from the following filenames in a loop to build a session table. Include the original filename in its own column, to make finding the file later simpler:"
   ]
  },
  {
   "cell_type": "code",
   "execution_count": 58,
   "metadata": {},
   "outputs": [
    {
     "data": {
      "text/plain": [
       "['sessId-11_height-720_width-1028_region-DG.tif',\n",
       " 'sessId-13_height-720_width-720.tif',\n",
       " 'height-720_width-1028_region-DG_sessId-110.tif',\n",
       " 'height-720_width-1028_region-DG_sessId-110_quality-bad.tif']"
      ]
     },
     "execution_count": 58,
     "metadata": {},
     "output_type": "execute_result"
    }
   ],
   "source": [
    "fnames = [\"sessId-11_height-720_width-1028_region-DG.tif\", \"sessId-13_height-720_width-720.tif\", \"height-720_width-1028_region-DG_sessId-110.tif\", \"height-720_width-1028_region-DG_sessId-110_quality-bad.tif\"]\n",
    "fnames"
   ]
  },
  {
   "cell_type": "code",
   "execution_count": 62,
   "metadata": {},
   "outputs": [
    {
     "data": {
      "text/html": [
       "<div>\n",
       "<style scoped>\n",
       "    .dataframe tbody tr th:only-of-type {\n",
       "        vertical-align: middle;\n",
       "    }\n",
       "\n",
       "    .dataframe tbody tr th {\n",
       "        vertical-align: top;\n",
       "    }\n",
       "\n",
       "    .dataframe thead th {\n",
       "        text-align: right;\n",
       "    }\n",
       "</style>\n",
       "<table border=\"1\" class=\"dataframe\">\n",
       "  <thead>\n",
       "    <tr style=\"text-align: right;\">\n",
       "      <th></th>\n",
       "      <th>filename</th>\n",
       "      <th>sessId</th>\n",
       "      <th>height</th>\n",
       "      <th>width</th>\n",
       "      <th>region</th>\n",
       "      <th>quality</th>\n",
       "    </tr>\n",
       "  </thead>\n",
       "  <tbody>\n",
       "    <tr>\n",
       "      <th>0</th>\n",
       "      <td>sessId-11_height-720_width-1028_region-DG.tif</td>\n",
       "      <td>11</td>\n",
       "      <td>720</td>\n",
       "      <td>1028</td>\n",
       "      <td>DG</td>\n",
       "      <td>NaN</td>\n",
       "    </tr>\n",
       "    <tr>\n",
       "      <th>1</th>\n",
       "      <td>sessId-13_height-720_width-720.tif</td>\n",
       "      <td>13</td>\n",
       "      <td>720</td>\n",
       "      <td>720</td>\n",
       "      <td>NaN</td>\n",
       "      <td>NaN</td>\n",
       "    </tr>\n",
       "    <tr>\n",
       "      <th>2</th>\n",
       "      <td>height-720_width-1028_region-DG_sessId-110.tif</td>\n",
       "      <td>110</td>\n",
       "      <td>720</td>\n",
       "      <td>1028</td>\n",
       "      <td>DG</td>\n",
       "      <td>NaN</td>\n",
       "    </tr>\n",
       "    <tr>\n",
       "      <th>3</th>\n",
       "      <td>height-720_width-1028_region-DG_sessId-110_qua...</td>\n",
       "      <td>110</td>\n",
       "      <td>720</td>\n",
       "      <td>1028</td>\n",
       "      <td>DG</td>\n",
       "      <td>bad</td>\n",
       "    </tr>\n",
       "  </tbody>\n",
       "</table>\n",
       "</div>"
      ],
      "text/plain": [
       "                                            filename sessId height width  \\\n",
       "0      sessId-11_height-720_width-1028_region-DG.tif     11    720  1028   \n",
       "1                 sessId-13_height-720_width-720.tif     13    720   720   \n",
       "2     height-720_width-1028_region-DG_sessId-110.tif    110    720  1028   \n",
       "3  height-720_width-1028_region-DG_sessId-110_qua...    110    720  1028   \n",
       "\n",
       "  region quality  \n",
       "0     DG     NaN  \n",
       "1    NaN     NaN  \n",
       "2     DG     NaN  \n",
       "3     DG     bad  "
      ]
     },
     "execution_count": 62,
     "metadata": {},
     "output_type": "execute_result"
    }
   ],
   "source": [
    "sessions = []\n",
    "\n",
    "for fname in fnames:\n",
    "    base, ext = fname.split('.')\n",
    "    session = {}\n",
    "    session[\"filename\"] = fname\n",
    "    for item in base.split('_'):\n",
    "        key, value = item.split('-')\n",
    "        session[key] = value\n",
    "    \n",
    "    sessions.append(session)\n",
    "\n",
    "df = pd.DataFrame(sessions)\n",
    "df"
   ]
  },
  {
   "cell_type": "markdown",
   "metadata": {},
   "source": [
    "#### (Extra Demo) Making Data Model Contracts Explicit With Schemas\n",
    "\n",
    "When working with this data, The file naming conventions we've looked at so far have all had some extra explanations (sometimes called a \"contract\" or a \"schema\") between the filename and code that analyzes it, in order to better-understand it.\n",
    "\n",
    "Python provides some tools for making schemas explicit, as a data model.  Here, we'll look at the built-in Named Tuple feature:\n"
   ]
  },
  {
   "cell_type": "code",
   "execution_count": 7,
   "metadata": {},
   "outputs": [
    {
     "data": {
      "text/plain": [
       "MetadataModel(subject='Arthur', date='20241008', group='control', sess_num='1')"
      ]
     },
     "execution_count": 7,
     "metadata": {},
     "output_type": "execute_result"
    }
   ],
   "source": [
    "from collections import namedtuple\n",
    "\n",
    "MetadataModel = namedtuple(\"MetadataModel\", \"subject date group sess_num\")\n",
    "\n",
    "fname = \"Arthur_20241008_control_1.txt\"\n",
    "base, ext = fname.split('.')\n",
    "data_tuple = MetadataModel(*base.split('_'))\n",
    "data_tuple\n"
   ]
  },
  {
   "cell_type": "markdown",
   "metadata": {},
   "source": [
    "Named tuples can be converted to dictionaries using the `_asdict()` method."
   ]
  },
  {
   "cell_type": "code",
   "execution_count": 8,
   "metadata": {},
   "outputs": [
    {
     "data": {
      "text/plain": [
       "{'subject': 'Arthur', 'date': '20241008', 'group': 'control', 'sess_num': '1'}"
      ]
     },
     "execution_count": 8,
     "metadata": {},
     "output_type": "execute_result"
    }
   ],
   "source": [
    "data_dict = data_tuple._asdict()\n",
    "data_dict"
   ]
  },
  {
   "cell_type": "code",
   "execution_count": null,
   "metadata": {},
   "outputs": [],
   "source": []
  }
 ],
 "metadata": {
  "kernelspec": {
   "display_name": "duckdb",
   "language": "python",
   "name": "python3"
  },
  "language_info": {
   "codemirror_mode": {
    "name": "ipython",
    "version": 3
   },
   "file_extension": ".py",
   "mimetype": "text/x-python",
   "name": "python",
   "nbconvert_exporter": "python",
   "pygments_lexer": "ipython3",
   "version": "3.11.7"
  }
 },
 "nbformat": 4,
 "nbformat_minor": 2
}
