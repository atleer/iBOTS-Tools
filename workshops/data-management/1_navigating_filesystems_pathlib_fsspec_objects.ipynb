{
 "cells": [
  {
   "cell_type": "markdown",
   "metadata": {},
   "source": [
    "# Navigating the Filesystem"
   ]
  },
  {
   "cell_type": "markdown",
   "metadata": {},
   "source": [
    "Run the Following Code to Get the Data for this Notebook:"
   ]
  },
  {
   "cell_type": "code",
   "execution_count": 75,
   "metadata": {},
   "outputs": [],
   "source": [
    "from pathlib import Path\n",
    "paths = [\n",
    "    \"data/exp1/joey_2021-05-01_001/spikes.npy\", \n",
    "    \"data/exp1/joey_2021-05-02_001/spikes.npy\", \n",
    "    \"data/exp1/joey_2021-05-02_001/lfps.h5\", \n",
    "    \"data/exp1/phoebe_2021-05-02_001/spikes.npy\",\n",
    "    \"data/exp1/phoebe_2021-05-03_001/spikes.npy\", \n",
    "    \"data/exp1/phoebe_2021-05-03_001/lfps.h5\", \n",
    "    \"data/exp1/phoebe_2021-05-04_001/spikes.npy\",\n",
    "]\n",
    "\n",
    "for path in paths:\n",
    "    path = Path(path)\n",
    "    path.parent.mkdir(exist_ok=True, parents=True)\n",
    "    path.touch()"
   ]
  },
  {
   "cell_type": "markdown",
   "metadata": {},
   "source": [
    "## using the pathlib library (OOP)\n",
    "\n",
    "| Command | Purpose |\n",
    "| :-- | :-- |\n",
    "| `print()` | | \n",
    "| `os.listdir()` | |\n",
    "| `glob.glob('*.h5')` |  |\n",
    "| `os.getcwd()` | |\n",
    "| `os.makedirs()` | |\n",
    "| `os.removedirs()` | |\n",
    "| `os.remove()` | |\n"
   ]
  },
  {
   "cell_type": "code",
   "execution_count": 45,
   "metadata": {},
   "outputs": [],
   "source": [
    "from pathlib import Path"
   ]
  },
  {
   "cell_type": "markdown",
   "metadata": {},
   "source": [
    "What is the current working directory?"
   ]
  },
  {
   "cell_type": "code",
   "execution_count": 49,
   "metadata": {},
   "outputs": [
    {
     "data": {
      "text/plain": [
       "WindowsPath('c:/Users/NickDG/Projects/remoteDuckDB/draft3')"
      ]
     },
     "execution_count": 49,
     "metadata": {},
     "output_type": "execute_result"
    }
   ],
   "source": [
    "Path.cwd()"
   ]
  },
  {
   "cell_type": "code",
   "execution_count": 52,
   "metadata": {},
   "outputs": [
    {
     "data": {
      "text/plain": [
       "WindowsPath('C:/Users/NickDG/Projects/remoteDuckDB/draft3')"
      ]
     },
     "execution_count": 52,
     "metadata": {},
     "output_type": "execute_result"
    }
   ],
   "source": [
    "Path('.').resolve()"
   ]
  },
  {
   "cell_type": "code",
   "execution_count": 53,
   "metadata": {},
   "outputs": [
    {
     "data": {
      "text/plain": [
       "WindowsPath('C:/Users/NickDG/Projects/remoteDuckDB/draft3')"
      ]
     },
     "execution_count": 53,
     "metadata": {},
     "output_type": "execute_result"
    }
   ],
   "source": [
    "Path().resolve()"
   ]
  },
  {
   "cell_type": "markdown",
   "metadata": {},
   "source": [
    "What files and folders are inside the current working directory?"
   ]
  },
  {
   "cell_type": "code",
   "execution_count": 56,
   "metadata": {},
   "outputs": [
    {
     "data": {
      "text/plain": [
       "[WindowsPath('1_navigating_filesystems_os_fsspec_objects.ipynb'),\n",
       " WindowsPath('2_parsing_metadata_from_filenames_str_glob.ipynb'),\n",
       " WindowsPath('3_metadata_in_json_arrays_dict.ipynb'),\n",
       " WindowsPath('4_sql_across_json_files_with_duckdb_and_hive.ipynb'),\n",
       " WindowsPath('5_storing_arrays_flat_npy.ipynb'),\n",
       " WindowsPath('6_hdf5.ipynb'),\n",
       " WindowsPath('7_sql_schemas_sql_joins_with_duckdb.ipynb'),\n",
       " WindowsPath('8_pipelines_finalizing_data_into_parquet_files.ipynb'),\n",
       " WindowsPath('data')]"
      ]
     },
     "execution_count": 56,
     "metadata": {},
     "output_type": "execute_result"
    }
   ],
   "source": [
    "list(Path().iterdir())"
   ]
  },
  {
   "cell_type": "markdown",
   "metadata": {},
   "source": [
    "What Files and folders are inside the \"data\" directory?"
   ]
  },
  {
   "cell_type": "code",
   "execution_count": 57,
   "metadata": {},
   "outputs": [
    {
     "data": {
      "text/plain": [
       "[WindowsPath('data/exp1')]"
      ]
     },
     "execution_count": 57,
     "metadata": {},
     "output_type": "execute_result"
    }
   ],
   "source": [
    "list(Path(\"data\").iterdir())"
   ]
  },
  {
   "cell_type": "markdown",
   "metadata": {},
   "source": [
    "What Files and Folders are inside the \"exp1\" directory, inside the \"data\" directory?"
   ]
  },
  {
   "cell_type": "code",
   "execution_count": 58,
   "metadata": {},
   "outputs": [
    {
     "data": {
      "text/plain": [
       "[WindowsPath('data/exp1/joey_2021-05-01_001'),\n",
       " WindowsPath('data/exp1/joey_2021-05-02_001'),\n",
       " WindowsPath('data/exp1/phoebe_2021-05-02_001'),\n",
       " WindowsPath('data/exp1/phoebe_2021-05-03_001'),\n",
       " WindowsPath('data/exp1/phoebe_2021-05-04_001')]"
      ]
     },
     "execution_count": 58,
     "metadata": {},
     "output_type": "execute_result"
    }
   ],
   "source": [
    "list(Path(\"data/exp1\").iterdir())"
   ]
  },
  {
   "cell_type": "code",
   "execution_count": 59,
   "metadata": {},
   "outputs": [
    {
     "data": {
      "text/plain": [
       "[WindowsPath('data/exp1/joey_2021-05-01_001'),\n",
       " WindowsPath('data/exp1/joey_2021-05-02_001'),\n",
       " WindowsPath('data/exp1/phoebe_2021-05-02_001'),\n",
       " WindowsPath('data/exp1/phoebe_2021-05-03_001'),\n",
       " WindowsPath('data/exp1/phoebe_2021-05-04_001')]"
      ]
     },
     "execution_count": 59,
     "metadata": {},
     "output_type": "execute_result"
    }
   ],
   "source": [
    "list(Path().joinpath(\"data\").joinpath(\"exp1\").iterdir())"
   ]
  },
  {
   "cell_type": "markdown",
   "metadata": {},
   "source": [
    "What folders in exp1 start with the subject \"phoebe\" (Hint: use Path().glob())?"
   ]
  },
  {
   "cell_type": "code",
   "execution_count": 61,
   "metadata": {},
   "outputs": [
    {
     "data": {
      "text/plain": [
       "[WindowsPath('data/exp1/phoebe_2021-05-02_001'),\n",
       " WindowsPath('data/exp1/phoebe_2021-05-03_001'),\n",
       " WindowsPath('data/exp1/phoebe_2021-05-04_001')]"
      ]
     },
     "execution_count": 61,
     "metadata": {},
     "output_type": "execute_result"
    }
   ],
   "source": [
    "list(Path(\"data/exp1\").glob(\"phoebe*\"))"
   ]
  },
  {
   "cell_type": "markdown",
   "metadata": {},
   "source": [
    "What folders in exp1 start with the subject \"joey\"?"
   ]
  },
  {
   "cell_type": "code",
   "execution_count": 62,
   "metadata": {},
   "outputs": [
    {
     "data": {
      "text/plain": [
       "[WindowsPath('data/exp1/joey_2021-05-01_001'),\n",
       " WindowsPath('data/exp1/joey_2021-05-02_001')]"
      ]
     },
     "execution_count": 62,
     "metadata": {},
     "output_type": "execute_result"
    }
   ],
   "source": [
    "list(Path(\"data/exp1\").glob(\"joey*\"))"
   ]
  },
  {
   "cell_type": "markdown",
   "metadata": {},
   "source": [
    "What folders in exp1 were recorded on the 2nd of May (hint-glob on the date part of the filename)?"
   ]
  },
  {
   "cell_type": "code",
   "execution_count": 63,
   "metadata": {},
   "outputs": [
    {
     "data": {
      "text/plain": [
       "[WindowsPath('data/exp1/joey_2021-05-02_001'),\n",
       " WindowsPath('data/exp1/phoebe_2021-05-02_001')]"
      ]
     },
     "execution_count": 63,
     "metadata": {},
     "output_type": "execute_result"
    }
   ],
   "source": [
    "list(Path(\"data/exp1\").glob(\"*2021-05-02*\"))"
   ]
  },
  {
   "cell_type": "markdown",
   "metadata": {},
   "source": [
    "What files have the \".h5\" file extension (include all files in any subfolders of exp1)?"
   ]
  },
  {
   "cell_type": "code",
   "execution_count": 67,
   "metadata": {},
   "outputs": [
    {
     "data": {
      "text/plain": [
       "[WindowsPath('data/exp1/joey_2021-05-02_001/lfps.h5'),\n",
       " WindowsPath('data/exp1/phoebe_2021-05-03_001/lfps.h5')]"
      ]
     },
     "execution_count": 67,
     "metadata": {},
     "output_type": "execute_result"
    }
   ],
   "source": [
    "list(Path(\"data/exp1\").glob(\"**/*.h5\"))"
   ]
  },
  {
   "cell_type": "markdown",
   "metadata": {},
   "source": [
    "What files have the \".npy\" file extension (include all files in any subfolders of exp1)?"
   ]
  },
  {
   "cell_type": "code",
   "execution_count": 66,
   "metadata": {},
   "outputs": [
    {
     "data": {
      "text/plain": [
       "[WindowsPath('data/exp1/joey_2021-05-01_001/spikes.npy'),\n",
       " WindowsPath('data/exp1/joey_2021-05-02_001/spikes.npy'),\n",
       " WindowsPath('data/exp1/phoebe_2021-05-02_001/spikes.npy'),\n",
       " WindowsPath('data/exp1/phoebe_2021-05-03_001/spikes.npy'),\n",
       " WindowsPath('data/exp1/phoebe_2021-05-04_001/spikes.npy')]"
      ]
     },
     "execution_count": 66,
     "metadata": {},
     "output_type": "execute_result"
    }
   ],
   "source": [
    "list(Path(\"data/exp1\").glob(\"**/*.npy\"))"
   ]
  },
  {
   "cell_type": "markdown",
   "metadata": {},
   "source": [
    "Which of phoebe's files contain lfp data?"
   ]
  },
  {
   "cell_type": "code",
   "execution_count": 69,
   "metadata": {},
   "outputs": [
    {
     "data": {
      "text/plain": [
       "[WindowsPath('data/exp1/phoebe_2021-05-03_001/lfps.h5')]"
      ]
     },
     "execution_count": 69,
     "metadata": {},
     "output_type": "execute_result"
    }
   ],
   "source": [
    "list(Path(\"data/exp1\").glob(\"phoebe*/**/lfps*\"))"
   ]
  },
  {
   "cell_type": "markdown",
   "metadata": {},
   "source": [
    "## Accessing Remote File Systems using `fsspec`: \n",
    "\n",
    "| Command | Purpose |\n",
    "| :-- | :-- |\n",
    "|`fs.ls()` | | \n",
    "| `fs.glob('*.h5')` | |\n",
    "| `fs.makedirs()` | |\n",
    "| `fs.removedirs()` | |\n",
    "| `fs.rm()` |\n",
    "| `fs.read_text()`|  |\n",
    "| `fs.read_bytes()` |  |\n",
    "| `fs.download()`|  |\n"
   ]
  },
  {
   "cell_type": "markdown",
   "metadata": {},
   "source": [
    "### GitHub Repos as a Remote Filesystem"
   ]
  },
  {
   "cell_type": "code",
   "execution_count": 76,
   "metadata": {},
   "outputs": [],
   "source": [
    "import fsspec\n",
    "from fsspec.implementations.github import GithubFileSystem"
   ]
  },
  {
   "cell_type": "markdown",
   "metadata": {},
   "source": [
    "https://github.com/mwaskom/seaborn-data"
   ]
  },
  {
   "cell_type": "code",
   "execution_count": 82,
   "metadata": {},
   "outputs": [
    {
     "data": {
      "text/plain": [
       "['README.md',\n",
       " 'anagrams.csv',\n",
       " 'anscombe.csv',\n",
       " 'attention.csv',\n",
       " 'brain_networks.csv',\n",
       " 'car_crashes.csv',\n",
       " 'dataset_names.txt',\n",
       " 'diamonds.csv',\n",
       " 'dots.csv',\n",
       " 'dowjones.csv',\n",
       " 'exercise.csv',\n",
       " 'flights.csv',\n",
       " 'fmri.csv',\n",
       " 'geyser.csv',\n",
       " 'glue.csv',\n",
       " 'healthexp.csv',\n",
       " 'iris.csv',\n",
       " 'mpg.csv',\n",
       " 'penguins.csv',\n",
       " 'planets.csv',\n",
       " 'png',\n",
       " 'process',\n",
       " 'raw',\n",
       " 'seaice.csv',\n",
       " 'taxis.csv',\n",
       " 'tips.csv',\n",
       " 'titanic.csv']"
      ]
     },
     "execution_count": 82,
     "metadata": {},
     "output_type": "execute_result"
    }
   ],
   "source": [
    "fs = GithubFileSystem(org=\"mwaskom\", repo=\"seaborn-data\")\n",
    "fs.ls(\"/\")"
   ]
  },
  {
   "cell_type": "code",
   "execution_count": 84,
   "metadata": {},
   "outputs": [
    {
     "data": {
      "text/plain": [
       "['penguins.csv', 'planets.csv', 'png', 'process']"
      ]
     },
     "execution_count": 84,
     "metadata": {},
     "output_type": "execute_result"
    }
   ],
   "source": [
    "fs.glob(\"p*\")"
   ]
  },
  {
   "cell_type": "code",
   "execution_count": 85,
   "metadata": {},
   "outputs": [
    {
     "data": {
      "text/plain": [
       "['anagrams.csv',\n",
       " 'anscombe.csv',\n",
       " 'attention.csv',\n",
       " 'brain_networks.csv',\n",
       " 'car_crashes.csv',\n",
       " 'diamonds.csv',\n",
       " 'dots.csv',\n",
       " 'dowjones.csv',\n",
       " 'exercise.csv',\n",
       " 'flights.csv',\n",
       " 'fmri.csv',\n",
       " 'geyser.csv',\n",
       " 'glue.csv',\n",
       " 'healthexp.csv',\n",
       " 'iris.csv',\n",
       " 'mpg.csv',\n",
       " 'penguins.csv',\n",
       " 'planets.csv',\n",
       " 'seaice.csv',\n",
       " 'taxis.csv',\n",
       " 'tips.csv',\n",
       " 'titanic.csv']"
      ]
     },
     "execution_count": 85,
     "metadata": {},
     "output_type": "execute_result"
    }
   ],
   "source": [
    "fs.glob(\"*.csv\", )"
   ]
  },
  {
   "cell_type": "code",
   "execution_count": 86,
   "metadata": {},
   "outputs": [
    {
     "data": {
      "text/plain": [
       "['png/img1.png',\n",
       " 'png/img2.png',\n",
       " 'png/img3.png',\n",
       " 'png/img4.png',\n",
       " 'png/img5.png',\n",
       " 'png/img6.png']"
      ]
     },
     "execution_count": 86,
     "metadata": {},
     "output_type": "execute_result"
    }
   ],
   "source": [
    "fs.ls(\"png\")"
   ]
  },
  {
   "cell_type": "code",
   "execution_count": 91,
   "metadata": {},
   "outputs": [],
   "source": [
    "fs.download(\"png/*\", \"data/seaborn-images\")  # note: need glob (has to download files, apparantly)"
   ]
  },
  {
   "cell_type": "code",
   "execution_count": 99,
   "metadata": {},
   "outputs": [
    {
     "data": {
      "text/html": [
       "<div>\n",
       "<style scoped>\n",
       "    .dataframe tbody tr th:only-of-type {\n",
       "        vertical-align: middle;\n",
       "    }\n",
       "\n",
       "    .dataframe tbody tr th {\n",
       "        vertical-align: top;\n",
       "    }\n",
       "\n",
       "    .dataframe thead th {\n",
       "        text-align: right;\n",
       "    }\n",
       "</style>\n",
       "<table border=\"1\" class=\"dataframe\">\n",
       "  <thead>\n",
       "    <tr style=\"text-align: right;\">\n",
       "      <th></th>\n",
       "      <th>name</th>\n",
       "      <th>mode</th>\n",
       "      <th>type</th>\n",
       "      <th>size</th>\n",
       "      <th>sha</th>\n",
       "    </tr>\n",
       "  </thead>\n",
       "  <tbody>\n",
       "    <tr>\n",
       "      <th>0</th>\n",
       "      <td>README.md</td>\n",
       "      <td>100644</td>\n",
       "      <td>file</td>\n",
       "      <td>3101</td>\n",
       "      <td>453ab596a15d1f38f2514770783bda43d97ed755</td>\n",
       "    </tr>\n",
       "    <tr>\n",
       "      <th>1</th>\n",
       "      <td>anagrams.csv</td>\n",
       "      <td>100644</td>\n",
       "      <td>file</td>\n",
       "      <td>361</td>\n",
       "      <td>1d88d051b7fff295350bc2ed509b1946d41190b4</td>\n",
       "    </tr>\n",
       "    <tr>\n",
       "      <th>2</th>\n",
       "      <td>anscombe.csv</td>\n",
       "      <td>100644</td>\n",
       "      <td>file</td>\n",
       "      <td>556</td>\n",
       "      <td>62792b68fa5eed40eb75fe00e8daeaaf700f4f82</td>\n",
       "    </tr>\n",
       "    <tr>\n",
       "      <th>3</th>\n",
       "      <td>attention.csv</td>\n",
       "      <td>100644</td>\n",
       "      <td>file</td>\n",
       "      <td>1198</td>\n",
       "      <td>8d1f684e36f36aea05b10408c055eb4b30a3fcef</td>\n",
       "    </tr>\n",
       "    <tr>\n",
       "      <th>4</th>\n",
       "      <td>brain_networks.csv</td>\n",
       "      <td>100644</td>\n",
       "      <td>file</td>\n",
       "      <td>1075911</td>\n",
       "      <td>1ca1f474fa81aa8ee01654da5d6c9fd90c96fa27</td>\n",
       "    </tr>\n",
       "    <tr>\n",
       "      <th>5</th>\n",
       "      <td>car_crashes.csv</td>\n",
       "      <td>100644</td>\n",
       "      <td>file</td>\n",
       "      <td>3301</td>\n",
       "      <td>2248a441bfbbfb1d5c9fa7dbc9dae641c34829a1</td>\n",
       "    </tr>\n",
       "    <tr>\n",
       "      <th>6</th>\n",
       "      <td>dataset_names.txt</td>\n",
       "      <td>100644</td>\n",
       "      <td>file</td>\n",
       "      <td>174</td>\n",
       "      <td>2a27f085940eba05b41e87bbcc2d8c075c000831</td>\n",
       "    </tr>\n",
       "    <tr>\n",
       "      <th>7</th>\n",
       "      <td>diamonds.csv</td>\n",
       "      <td>100644</td>\n",
       "      <td>file</td>\n",
       "      <td>2772143</td>\n",
       "      <td>92259b40dbeea3165759a8f2cb576896612828ac</td>\n",
       "    </tr>\n",
       "    <tr>\n",
       "      <th>8</th>\n",
       "      <td>dots.csv</td>\n",
       "      <td>100644</td>\n",
       "      <td>file</td>\n",
       "      <td>25742</td>\n",
       "      <td>9b7eebf50146fd573b055b3b9f8d2caa57879723</td>\n",
       "    </tr>\n",
       "    <tr>\n",
       "      <th>9</th>\n",
       "      <td>dowjones.csv</td>\n",
       "      <td>100644</td>\n",
       "      <td>file</td>\n",
       "      <td>11349</td>\n",
       "      <td>8c35bf1355e823bd2aa119d2f4979c812e898df1</td>\n",
       "    </tr>\n",
       "    <tr>\n",
       "      <th>10</th>\n",
       "      <td>exercise.csv</td>\n",
       "      <td>100644</td>\n",
       "      <td>file</td>\n",
       "      <td>2735</td>\n",
       "      <td>28a6e946a50375555f67314f86d8d11aa2a4ff17</td>\n",
       "    </tr>\n",
       "    <tr>\n",
       "      <th>11</th>\n",
       "      <td>flights.csv</td>\n",
       "      <td>100644</td>\n",
       "      <td>file</td>\n",
       "      <td>2350</td>\n",
       "      <td>831265b40b19695dd9bd4f7c5bf4baa43c7b54b1</td>\n",
       "    </tr>\n",
       "    <tr>\n",
       "      <th>12</th>\n",
       "      <td>fmri.csv</td>\n",
       "      <td>100644</td>\n",
       "      <td>file</td>\n",
       "      <td>38329</td>\n",
       "      <td>5379a9f917d328baff09ff7140e396c44448eaba</td>\n",
       "    </tr>\n",
       "    <tr>\n",
       "      <th>13</th>\n",
       "      <td>geyser.csv</td>\n",
       "      <td>100644</td>\n",
       "      <td>file</td>\n",
       "      <td>4199</td>\n",
       "      <td>bc7cafc5cf0200b0c92eae896534770fa25bb9f1</td>\n",
       "    </tr>\n",
       "    <tr>\n",
       "      <th>14</th>\n",
       "      <td>glue.csv</td>\n",
       "      <td>100644</td>\n",
       "      <td>file</td>\n",
       "      <td>2054</td>\n",
       "      <td>af5c8c314c8906120ee626f47e830eef42e3745b</td>\n",
       "    </tr>\n",
       "    <tr>\n",
       "      <th>15</th>\n",
       "      <td>healthexp.csv</td>\n",
       "      <td>100644</td>\n",
       "      <td>file</td>\n",
       "      <td>7222</td>\n",
       "      <td>a0602d1b18e82fb3bb44ddc79c8d9b53458544d5</td>\n",
       "    </tr>\n",
       "    <tr>\n",
       "      <th>16</th>\n",
       "      <td>iris.csv</td>\n",
       "      <td>100644</td>\n",
       "      <td>file</td>\n",
       "      <td>3858</td>\n",
       "      <td>20bd6ee57729baea0cc8b05397cc34eb4af8b452</td>\n",
       "    </tr>\n",
       "    <tr>\n",
       "      <th>17</th>\n",
       "      <td>mpg.csv</td>\n",
       "      <td>100644</td>\n",
       "      <td>file</td>\n",
       "      <td>21222</td>\n",
       "      <td>4013b0f0d4ac5bfb40381819ad76f926962192f1</td>\n",
       "    </tr>\n",
       "    <tr>\n",
       "      <th>18</th>\n",
       "      <td>penguins.csv</td>\n",
       "      <td>100644</td>\n",
       "      <td>file</td>\n",
       "      <td>13478</td>\n",
       "      <td>51fd0fe50c4e01e6f42e54063925571c004ef25a</td>\n",
       "    </tr>\n",
       "    <tr>\n",
       "      <th>19</th>\n",
       "      <td>planets.csv</td>\n",
       "      <td>100644</td>\n",
       "      <td>file</td>\n",
       "      <td>36263</td>\n",
       "      <td>337318354770d42471fd5ee21acd3deb40956f7c</td>\n",
       "    </tr>\n",
       "    <tr>\n",
       "      <th>20</th>\n",
       "      <td>png</td>\n",
       "      <td>040000</td>\n",
       "      <td>directory</td>\n",
       "      <td>0</td>\n",
       "      <td>99744314ccef8679fedcf29c33934f30512fd183</td>\n",
       "    </tr>\n",
       "    <tr>\n",
       "      <th>21</th>\n",
       "      <td>process</td>\n",
       "      <td>040000</td>\n",
       "      <td>directory</td>\n",
       "      <td>0</td>\n",
       "      <td>0015761099c99537288210a92dcef24f34eadddf</td>\n",
       "    </tr>\n",
       "    <tr>\n",
       "      <th>22</th>\n",
       "      <td>raw</td>\n",
       "      <td>040000</td>\n",
       "      <td>directory</td>\n",
       "      <td>0</td>\n",
       "      <td>f2a72f6b359bc69099e4649eee56a5bb1a252a47</td>\n",
       "    </tr>\n",
       "    <tr>\n",
       "      <th>23</th>\n",
       "      <td>seaice.csv</td>\n",
       "      <td>100644</td>\n",
       "      <td>file</td>\n",
       "      <td>231046</td>\n",
       "      <td>d68e9028569c8afff3a19fa558a37f245ff92cb2</td>\n",
       "    </tr>\n",
       "    <tr>\n",
       "      <th>24</th>\n",
       "      <td>taxis.csv</td>\n",
       "      <td>100644</td>\n",
       "      <td>file</td>\n",
       "      <td>869349</td>\n",
       "      <td>ded045b462d361b8a0e5ddcdd6c3361cce4ddab4</td>\n",
       "    </tr>\n",
       "    <tr>\n",
       "      <th>25</th>\n",
       "      <td>tips.csv</td>\n",
       "      <td>100644</td>\n",
       "      <td>file</td>\n",
       "      <td>9729</td>\n",
       "      <td>1280a10886c1f858b29c1be1740619cdef3d6be1</td>\n",
       "    </tr>\n",
       "    <tr>\n",
       "      <th>26</th>\n",
       "      <td>titanic.csv</td>\n",
       "      <td>100644</td>\n",
       "      <td>file</td>\n",
       "      <td>57018</td>\n",
       "      <td>5ca531f5d70ce01e61bd7cf8b9f02b016dad4cd0</td>\n",
       "    </tr>\n",
       "  </tbody>\n",
       "</table>\n",
       "</div>"
      ],
      "text/plain": [
       "                  name    mode       type     size  \\\n",
       "0            README.md  100644       file     3101   \n",
       "1         anagrams.csv  100644       file      361   \n",
       "2         anscombe.csv  100644       file      556   \n",
       "3        attention.csv  100644       file     1198   \n",
       "4   brain_networks.csv  100644       file  1075911   \n",
       "5      car_crashes.csv  100644       file     3301   \n",
       "6    dataset_names.txt  100644       file      174   \n",
       "7         diamonds.csv  100644       file  2772143   \n",
       "8             dots.csv  100644       file    25742   \n",
       "9         dowjones.csv  100644       file    11349   \n",
       "10        exercise.csv  100644       file     2735   \n",
       "11         flights.csv  100644       file     2350   \n",
       "12            fmri.csv  100644       file    38329   \n",
       "13          geyser.csv  100644       file     4199   \n",
       "14            glue.csv  100644       file     2054   \n",
       "15       healthexp.csv  100644       file     7222   \n",
       "16            iris.csv  100644       file     3858   \n",
       "17             mpg.csv  100644       file    21222   \n",
       "18        penguins.csv  100644       file    13478   \n",
       "19         planets.csv  100644       file    36263   \n",
       "20                 png  040000  directory        0   \n",
       "21             process  040000  directory        0   \n",
       "22                 raw  040000  directory        0   \n",
       "23          seaice.csv  100644       file   231046   \n",
       "24           taxis.csv  100644       file   869349   \n",
       "25            tips.csv  100644       file     9729   \n",
       "26         titanic.csv  100644       file    57018   \n",
       "\n",
       "                                         sha  \n",
       "0   453ab596a15d1f38f2514770783bda43d97ed755  \n",
       "1   1d88d051b7fff295350bc2ed509b1946d41190b4  \n",
       "2   62792b68fa5eed40eb75fe00e8daeaaf700f4f82  \n",
       "3   8d1f684e36f36aea05b10408c055eb4b30a3fcef  \n",
       "4   1ca1f474fa81aa8ee01654da5d6c9fd90c96fa27  \n",
       "5   2248a441bfbbfb1d5c9fa7dbc9dae641c34829a1  \n",
       "6   2a27f085940eba05b41e87bbcc2d8c075c000831  \n",
       "7   92259b40dbeea3165759a8f2cb576896612828ac  \n",
       "8   9b7eebf50146fd573b055b3b9f8d2caa57879723  \n",
       "9   8c35bf1355e823bd2aa119d2f4979c812e898df1  \n",
       "10  28a6e946a50375555f67314f86d8d11aa2a4ff17  \n",
       "11  831265b40b19695dd9bd4f7c5bf4baa43c7b54b1  \n",
       "12  5379a9f917d328baff09ff7140e396c44448eaba  \n",
       "13  bc7cafc5cf0200b0c92eae896534770fa25bb9f1  \n",
       "14  af5c8c314c8906120ee626f47e830eef42e3745b  \n",
       "15  a0602d1b18e82fb3bb44ddc79c8d9b53458544d5  \n",
       "16  20bd6ee57729baea0cc8b05397cc34eb4af8b452  \n",
       "17  4013b0f0d4ac5bfb40381819ad76f926962192f1  \n",
       "18  51fd0fe50c4e01e6f42e54063925571c004ef25a  \n",
       "19  337318354770d42471fd5ee21acd3deb40956f7c  \n",
       "20  99744314ccef8679fedcf29c33934f30512fd183  \n",
       "21  0015761099c99537288210a92dcef24f34eadddf  \n",
       "22  f2a72f6b359bc69099e4649eee56a5bb1a252a47  \n",
       "23  d68e9028569c8afff3a19fa558a37f245ff92cb2  \n",
       "24  ded045b462d361b8a0e5ddcdd6c3361cce4ddab4  \n",
       "25  1280a10886c1f858b29c1be1740619cdef3d6be1  \n",
       "26  5ca531f5d70ce01e61bd7cf8b9f02b016dad4cd0  "
      ]
     },
     "execution_count": 99,
     "metadata": {},
     "output_type": "execute_result"
    }
   ],
   "source": [
    "import pandas as pd\n",
    "pd.DataFrame(fs.ls(\"/\", detail=True))"
   ]
  },
  {
   "cell_type": "code",
   "execution_count": 102,
   "metadata": {},
   "outputs": [
    {
     "name": "stdout",
     "output_type": "stream",
     "text": [
      "dataset\tx\ty\n",
      "I\t10.0\t8.04\n",
      "I\t8.0\t6.95\n",
      "I\t13.0\t7.58\n",
      "I\t9.0\t8.81\n",
      "I\t11.0\t8.33\n",
      "I\t14.0\t9.96\n",
      "I\t6.0\t7.24\n",
      "I\t4.0\t4.26\n",
      "I\t12.0\t10.84\n",
      "I\t7.0\t4.82\n",
      "I\t5.0\t5.68\n",
      "II\t10.0\t9.14\n",
      "II\t8.0\t8.14\n",
      "II\t13.0\t8.74\n",
      "II\t9.0\t8.77\n",
      "II\t11.0\t9.26\n",
      "II\t14.0\t8.1\n",
      "II\t6.0\t6.13\n",
      "II\t4.0\t3.1\n",
      "II\t12.0\t9.13\n",
      "II\t7.0\t7.26\n",
      "II\t5.0\t4.74\n",
      "III\t10.0\t7.46\n",
      "III\t8.0\t6.77\n",
      "III\t13.0\t12.74\n",
      "III\t9.0\t7.11\n",
      "III\t11.0\t7.81\n",
      "III\t14.0\t8.84\n",
      "III\t6.0\t6.08\n",
      "III\t4.0\t5.39\n",
      "III\t12.0\t8.15\n",
      "III\t7.0\t6.42\n",
      "III\t5.0\t5.73\n",
      "IV\t8.0\t6.58\n",
      "IV\t8.0\t5.76\n",
      "IV\t8.0\t7.71\n",
      "IV\t8.0\t8.84\n",
      "IV\t8.0\t8.47\n",
      "IV\t8.0\t7.04\n",
      "IV\t8.0\t5.25\n",
      "IV\t19.0\t12.5\n",
      "IV\t8.0\t5.56\n",
      "IV\t8.0\t7.91\n",
      "IV\t8.0\t6.89\n",
      "\n"
     ]
    }
   ],
   "source": [
    "\n",
    "print(fs.read_text(\"/anscombe.csv\").replace(',', '\\t'))"
   ]
  },
  {
   "cell_type": "markdown",
   "metadata": {},
   "source": [
    "https://github.com/DeepLabCut/DeepLabCut/tree/main/examples/openfield-Pranav-2018-10-30/labeled-data/m4s1"
   ]
  },
  {
   "cell_type": "code",
   "execution_count": 104,
   "metadata": {},
   "outputs": [
    {
     "data": {
      "text/plain": [
       "['.circleci',\n",
       " '.codespellrc',\n",
       " '.github',\n",
       " '.gitignore',\n",
       " 'AUTHORS',\n",
       " 'CODE_OF_CONDUCT.md',\n",
       " 'CONTRIBUTING.md',\n",
       " 'LICENSE',\n",
       " 'NOTICE.yml',\n",
       " 'README.md',\n",
       " '_config.yml',\n",
       " '_toc.yml',\n",
       " 'conda-environments',\n",
       " 'deeplabcut',\n",
       " 'dlc.py',\n",
       " 'docker',\n",
       " 'docs',\n",
       " 'examples',\n",
       " 'reinstall.sh',\n",
       " 'requirements.txt',\n",
       " 'setup.py',\n",
       " 'tests',\n",
       " 'testscript_cli.py',\n",
       " 'tools']"
      ]
     },
     "execution_count": 104,
     "metadata": {},
     "output_type": "execute_result"
    }
   ],
   "source": [
    "fs = GithubFileSystem(org=\"DeepLabCut\", repo=\"DeepLabCut\")\n",
    "fs.ls(\"/\")"
   ]
  },
  {
   "cell_type": "code",
   "execution_count": 121,
   "metadata": {},
   "outputs": [
    {
     "data": {
      "text/plain": [
       "['examples/openfield-Pranav-2018-10-30/config.yaml',\n",
       " 'examples/openfield-Pranav-2018-10-30/labeled-data',\n",
       " 'examples/openfield-Pranav-2018-10-30/videos']"
      ]
     },
     "execution_count": 121,
     "metadata": {},
     "output_type": "execute_result"
    }
   ],
   "source": [
    "fs.glob(\"examples/open*/*\")"
   ]
  },
  {
   "cell_type": "code",
   "execution_count": 122,
   "metadata": {},
   "outputs": [
    {
     "data": {
      "text/plain": [
       "['examples/openfield-Pranav-2018-10-30',\n",
       " 'examples/openfield-Pranav-2018-10-30/config.yaml',\n",
       " 'examples/openfield-Pranav-2018-10-30/labeled-data',\n",
       " 'examples/openfield-Pranav-2018-10-30/labeled-data/m4s1',\n",
       " 'examples/openfield-Pranav-2018-10-30/labeled-data/m4s1/CollectedData_Pranav.csv',\n",
       " 'examples/openfield-Pranav-2018-10-30/labeled-data/m4s1/CollectedData_Pranav.h5',\n",
       " 'examples/openfield-Pranav-2018-10-30/labeled-data/m4s1/img0000.png',\n",
       " 'examples/openfield-Pranav-2018-10-30/labeled-data/m4s1/img0001.png',\n",
       " 'examples/openfield-Pranav-2018-10-30/labeled-data/m4s1/img0002.png',\n",
       " 'examples/openfield-Pranav-2018-10-30/labeled-data/m4s1/img0003.png',\n",
       " 'examples/openfield-Pranav-2018-10-30/labeled-data/m4s1/img0004.png',\n",
       " 'examples/openfield-Pranav-2018-10-30/labeled-data/m4s1/img0005.png',\n",
       " 'examples/openfield-Pranav-2018-10-30/labeled-data/m4s1/img0006.png',\n",
       " 'examples/openfield-Pranav-2018-10-30/labeled-data/m4s1/img0007.png',\n",
       " 'examples/openfield-Pranav-2018-10-30/labeled-data/m4s1/img0008.png',\n",
       " 'examples/openfield-Pranav-2018-10-30/labeled-data/m4s1/img0009.png',\n",
       " 'examples/openfield-Pranav-2018-10-30/labeled-data/m4s1/img0010.png',\n",
       " 'examples/openfield-Pranav-2018-10-30/labeled-data/m4s1/img0011.png',\n",
       " 'examples/openfield-Pranav-2018-10-30/labeled-data/m4s1/img0012.png',\n",
       " 'examples/openfield-Pranav-2018-10-30/labeled-data/m4s1/img0013.png',\n",
       " 'examples/openfield-Pranav-2018-10-30/labeled-data/m4s1/img0014.png',\n",
       " 'examples/openfield-Pranav-2018-10-30/labeled-data/m4s1/img0015.png',\n",
       " 'examples/openfield-Pranav-2018-10-30/labeled-data/m4s1/img0016.png',\n",
       " 'examples/openfield-Pranav-2018-10-30/labeled-data/m4s1/img0017.png',\n",
       " 'examples/openfield-Pranav-2018-10-30/labeled-data/m4s1/img0018.png',\n",
       " 'examples/openfield-Pranav-2018-10-30/labeled-data/m4s1/img0019.png',\n",
       " 'examples/openfield-Pranav-2018-10-30/labeled-data/m4s1/img0020.png',\n",
       " 'examples/openfield-Pranav-2018-10-30/labeled-data/m4s1/img0021.png',\n",
       " 'examples/openfield-Pranav-2018-10-30/labeled-data/m4s1/img0022.png',\n",
       " 'examples/openfield-Pranav-2018-10-30/labeled-data/m4s1/img0023.png',\n",
       " 'examples/openfield-Pranav-2018-10-30/labeled-data/m4s1/img0024.png',\n",
       " 'examples/openfield-Pranav-2018-10-30/labeled-data/m4s1/img0025.png',\n",
       " 'examples/openfield-Pranav-2018-10-30/labeled-data/m4s1/img0026.png',\n",
       " 'examples/openfield-Pranav-2018-10-30/labeled-data/m4s1/img0027.png',\n",
       " 'examples/openfield-Pranav-2018-10-30/labeled-data/m4s1/img0028.png',\n",
       " 'examples/openfield-Pranav-2018-10-30/labeled-data/m4s1/img0029.png',\n",
       " 'examples/openfield-Pranav-2018-10-30/labeled-data/m4s1/img0030.png',\n",
       " 'examples/openfield-Pranav-2018-10-30/labeled-data/m4s1/img0031.png',\n",
       " 'examples/openfield-Pranav-2018-10-30/labeled-data/m4s1/img0032.png',\n",
       " 'examples/openfield-Pranav-2018-10-30/labeled-data/m4s1/img0033.png',\n",
       " 'examples/openfield-Pranav-2018-10-30/labeled-data/m4s1/img0034.png',\n",
       " 'examples/openfield-Pranav-2018-10-30/labeled-data/m4s1/img0035.png',\n",
       " 'examples/openfield-Pranav-2018-10-30/labeled-data/m4s1/img0036.png',\n",
       " 'examples/openfield-Pranav-2018-10-30/labeled-data/m4s1/img0037.png',\n",
       " 'examples/openfield-Pranav-2018-10-30/labeled-data/m4s1/img0038.png',\n",
       " 'examples/openfield-Pranav-2018-10-30/labeled-data/m4s1/img0039.png',\n",
       " 'examples/openfield-Pranav-2018-10-30/labeled-data/m4s1/img0040.png',\n",
       " 'examples/openfield-Pranav-2018-10-30/labeled-data/m4s1/img0041.png',\n",
       " 'examples/openfield-Pranav-2018-10-30/labeled-data/m4s1/img0042.png',\n",
       " 'examples/openfield-Pranav-2018-10-30/labeled-data/m4s1/img0043.png',\n",
       " 'examples/openfield-Pranav-2018-10-30/labeled-data/m4s1/img0044.png',\n",
       " 'examples/openfield-Pranav-2018-10-30/labeled-data/m4s1/img0045.png',\n",
       " 'examples/openfield-Pranav-2018-10-30/labeled-data/m4s1/img0046.png',\n",
       " 'examples/openfield-Pranav-2018-10-30/labeled-data/m4s1/img0047.png',\n",
       " 'examples/openfield-Pranav-2018-10-30/labeled-data/m4s1/img0048.png',\n",
       " 'examples/openfield-Pranav-2018-10-30/labeled-data/m4s1/img0049.png',\n",
       " 'examples/openfield-Pranav-2018-10-30/labeled-data/m4s1/img0050.png',\n",
       " 'examples/openfield-Pranav-2018-10-30/labeled-data/m4s1/img0051.png',\n",
       " 'examples/openfield-Pranav-2018-10-30/labeled-data/m4s1/img0052.png',\n",
       " 'examples/openfield-Pranav-2018-10-30/labeled-data/m4s1/img0053.png',\n",
       " 'examples/openfield-Pranav-2018-10-30/labeled-data/m4s1/img0054.png',\n",
       " 'examples/openfield-Pranav-2018-10-30/labeled-data/m4s1/img0055.png',\n",
       " 'examples/openfield-Pranav-2018-10-30/labeled-data/m4s1/img0056.png',\n",
       " 'examples/openfield-Pranav-2018-10-30/labeled-data/m4s1/img0057.png',\n",
       " 'examples/openfield-Pranav-2018-10-30/labeled-data/m4s1/img0058.png',\n",
       " 'examples/openfield-Pranav-2018-10-30/labeled-data/m4s1/img0059.png',\n",
       " 'examples/openfield-Pranav-2018-10-30/labeled-data/m4s1/img0060.png',\n",
       " 'examples/openfield-Pranav-2018-10-30/labeled-data/m4s1/img0061.png',\n",
       " 'examples/openfield-Pranav-2018-10-30/labeled-data/m4s1/img0062.png',\n",
       " 'examples/openfield-Pranav-2018-10-30/labeled-data/m4s1/img0063.png',\n",
       " 'examples/openfield-Pranav-2018-10-30/labeled-data/m4s1/img0064.png',\n",
       " 'examples/openfield-Pranav-2018-10-30/labeled-data/m4s1/img0065.png',\n",
       " 'examples/openfield-Pranav-2018-10-30/labeled-data/m4s1/img0066.png',\n",
       " 'examples/openfield-Pranav-2018-10-30/labeled-data/m4s1/img0067.png',\n",
       " 'examples/openfield-Pranav-2018-10-30/labeled-data/m4s1/img0068.png',\n",
       " 'examples/openfield-Pranav-2018-10-30/labeled-data/m4s1/img0069.png',\n",
       " 'examples/openfield-Pranav-2018-10-30/labeled-data/m4s1/img0070.png',\n",
       " 'examples/openfield-Pranav-2018-10-30/labeled-data/m4s1/img0071.png',\n",
       " 'examples/openfield-Pranav-2018-10-30/labeled-data/m4s1/img0072.png',\n",
       " 'examples/openfield-Pranav-2018-10-30/labeled-data/m4s1/img0073.png',\n",
       " 'examples/openfield-Pranav-2018-10-30/labeled-data/m4s1/img0074.png',\n",
       " 'examples/openfield-Pranav-2018-10-30/labeled-data/m4s1/img0075.png',\n",
       " 'examples/openfield-Pranav-2018-10-30/labeled-data/m4s1/img0076.png',\n",
       " 'examples/openfield-Pranav-2018-10-30/labeled-data/m4s1/img0077.png',\n",
       " 'examples/openfield-Pranav-2018-10-30/labeled-data/m4s1/img0078.png',\n",
       " 'examples/openfield-Pranav-2018-10-30/labeled-data/m4s1/img0079.png',\n",
       " 'examples/openfield-Pranav-2018-10-30/labeled-data/m4s1/img0080.png',\n",
       " 'examples/openfield-Pranav-2018-10-30/labeled-data/m4s1/img0081.png',\n",
       " 'examples/openfield-Pranav-2018-10-30/labeled-data/m4s1/img0082.png',\n",
       " 'examples/openfield-Pranav-2018-10-30/labeled-data/m4s1/img0083.png',\n",
       " 'examples/openfield-Pranav-2018-10-30/labeled-data/m4s1/img0084.png',\n",
       " 'examples/openfield-Pranav-2018-10-30/labeled-data/m4s1/img0085.png',\n",
       " 'examples/openfield-Pranav-2018-10-30/labeled-data/m4s1/img0086.png',\n",
       " 'examples/openfield-Pranav-2018-10-30/labeled-data/m4s1/img0087.png',\n",
       " 'examples/openfield-Pranav-2018-10-30/labeled-data/m4s1/img0088.png',\n",
       " 'examples/openfield-Pranav-2018-10-30/labeled-data/m4s1/img0089.png',\n",
       " 'examples/openfield-Pranav-2018-10-30/labeled-data/m4s1/img0090.png',\n",
       " 'examples/openfield-Pranav-2018-10-30/labeled-data/m4s1/img0091.png',\n",
       " 'examples/openfield-Pranav-2018-10-30/labeled-data/m4s1/img0092.png',\n",
       " 'examples/openfield-Pranav-2018-10-30/labeled-data/m4s1/img0093.png',\n",
       " 'examples/openfield-Pranav-2018-10-30/labeled-data/m4s1/img0094.png',\n",
       " 'examples/openfield-Pranav-2018-10-30/labeled-data/m4s1/img0095.png',\n",
       " 'examples/openfield-Pranav-2018-10-30/labeled-data/m4s1/img0096.png',\n",
       " 'examples/openfield-Pranav-2018-10-30/labeled-data/m4s1/img0097.png',\n",
       " 'examples/openfield-Pranav-2018-10-30/labeled-data/m4s1/img0098.png',\n",
       " 'examples/openfield-Pranav-2018-10-30/labeled-data/m4s1/img0099.png',\n",
       " 'examples/openfield-Pranav-2018-10-30/labeled-data/m4s1/img0100.png',\n",
       " 'examples/openfield-Pranav-2018-10-30/labeled-data/m4s1/img0101.png',\n",
       " 'examples/openfield-Pranav-2018-10-30/labeled-data/m4s1/img0102.png',\n",
       " 'examples/openfield-Pranav-2018-10-30/labeled-data/m4s1/img0103.png',\n",
       " 'examples/openfield-Pranav-2018-10-30/labeled-data/m4s1/img0104.png',\n",
       " 'examples/openfield-Pranav-2018-10-30/labeled-data/m4s1/img0105.png',\n",
       " 'examples/openfield-Pranav-2018-10-30/labeled-data/m4s1/img0106.png',\n",
       " 'examples/openfield-Pranav-2018-10-30/labeled-data/m4s1/img0107.png',\n",
       " 'examples/openfield-Pranav-2018-10-30/labeled-data/m4s1/img0108.png',\n",
       " 'examples/openfield-Pranav-2018-10-30/labeled-data/m4s1/img0109.png',\n",
       " 'examples/openfield-Pranav-2018-10-30/labeled-data/m4s1/img0110.png',\n",
       " 'examples/openfield-Pranav-2018-10-30/labeled-data/m4s1/img0111.png',\n",
       " 'examples/openfield-Pranav-2018-10-30/labeled-data/m4s1/img0112.png',\n",
       " 'examples/openfield-Pranav-2018-10-30/labeled-data/m4s1/img0113.png',\n",
       " 'examples/openfield-Pranav-2018-10-30/labeled-data/m4s1/img0114.png',\n",
       " 'examples/openfield-Pranav-2018-10-30/labeled-data/m4s1/img0115.png',\n",
       " 'examples/openfield-Pranav-2018-10-30/videos',\n",
       " 'examples/openfield-Pranav-2018-10-30/videos/m3v1mp4.mp4']"
      ]
     },
     "execution_count": 122,
     "metadata": {},
     "output_type": "execute_result"
    }
   ],
   "source": [
    "fs.glob(\"examples/open*/**\")"
   ]
  },
  {
   "cell_type": "code",
   "execution_count": 131,
   "metadata": {},
   "outputs": [],
   "source": [
    "paths = fs.glob(\"examples/open*/**/*.csv\")\n",
    "for path in paths:\n",
    "    fs.download(path, \"data/openfield-Pranav/data.csv\")\n"
   ]
  },
  {
   "cell_type": "code",
   "execution_count": 137,
   "metadata": {},
   "outputs": [],
   "source": [
    "fs.download(\"examples/open*/labeled-data\", \"deeplabcut/pranav/labeled-data\", recursive=True)\n"
   ]
  },
  {
   "cell_type": "code",
   "execution_count": 160,
   "metadata": {},
   "outputs": [],
   "source": [
    "fname = fs.glob(\"**/*.mp4\")\n",
    "for path in paths:\n",
    "    fs.download(path, f\"data/dlc-movies/{Path(path).name}\")\n"
   ]
  },
  {
   "cell_type": "markdown",
   "metadata": {},
   "source": [
    "### Sciebo/NextCloud/Owncloud Folders as a Remote Filesystem\n",
    "\n",
    "https://uni-koeln.sciebo.de/login\n",
    "https://uni-bonn.sciebo.de/login"
   ]
  },
  {
   "cell_type": "markdown",
   "metadata": {},
   "source": [
    "### Read-Only, Public Datasets"
   ]
  },
  {
   "cell_type": "code",
   "execution_count": 181,
   "metadata": {},
   "outputs": [
    {
     "data": {
      "text/plain": [
       "['README.md', 'data']"
      ]
     },
     "execution_count": 181,
     "metadata": {},
     "output_type": "execute_result"
    }
   ],
   "source": [
    "from webdav4.fsspec import WebdavFileSystem\n",
    "fs = WebdavFileSystem(\"https://uni-bonn.sciebo.de/public.php/webdav\", auth=(\"f81JqGZmEHXxMnB\", \"\"))\n",
    "fs.ls(\"/\", detail=False)"
   ]
  },
  {
   "cell_type": "code",
   "execution_count": 184,
   "metadata": {},
   "outputs": [
    {
     "data": {
      "text/plain": [
       "['data/final/steinmetz_all.csv',\n",
       " 'data/final/steinmetz_all.parquet',\n",
       " 'data/final/steinmetz_summer2017.csv',\n",
       " 'data/final/steinmetz_winter2016.csv',\n",
       " 'data/final/steinmetz_winter2017.csv']"
      ]
     },
     "execution_count": 184,
     "metadata": {},
     "output_type": "execute_result"
    }
   ],
   "source": [
    "fs.ls(\"data/final\", detail=False)"
   ]
  },
  {
   "cell_type": "code",
   "execution_count": 185,
   "metadata": {},
   "outputs": [
    {
     "data": {
      "text/html": [
       "<div>\n",
       "<style scoped>\n",
       "    .dataframe tbody tr th:only-of-type {\n",
       "        vertical-align: middle;\n",
       "    }\n",
       "\n",
       "    .dataframe tbody tr th {\n",
       "        vertical-align: top;\n",
       "    }\n",
       "\n",
       "    .dataframe thead th {\n",
       "        text-align: right;\n",
       "    }\n",
       "</style>\n",
       "<table border=\"1\" class=\"dataframe\">\n",
       "  <thead>\n",
       "    <tr style=\"text-align: right;\">\n",
       "      <th></th>\n",
       "      <th>name</th>\n",
       "      <th>href</th>\n",
       "      <th>size</th>\n",
       "      <th>created</th>\n",
       "      <th>modified</th>\n",
       "      <th>content_language</th>\n",
       "      <th>content_type</th>\n",
       "      <th>etag</th>\n",
       "      <th>type</th>\n",
       "      <th>display_name</th>\n",
       "    </tr>\n",
       "  </thead>\n",
       "  <tbody>\n",
       "    <tr>\n",
       "      <th>0</th>\n",
       "      <td>data/final/steinmetz_all.csv</td>\n",
       "      <td>/public.php/webdav/data/final/steinmetz_all.csv</td>\n",
       "      <td>1516397</td>\n",
       "      <td>None</td>\n",
       "      <td>2023-11-04 10:37:26+00:00</td>\n",
       "      <td>None</td>\n",
       "      <td>text/csv</td>\n",
       "      <td>\"fda778a3f363c84e97456b6281796e2a\"</td>\n",
       "      <td>file</td>\n",
       "      <td>None</td>\n",
       "    </tr>\n",
       "    <tr>\n",
       "      <th>1</th>\n",
       "      <td>data/final/steinmetz_all.parquet</td>\n",
       "      <td>/public.php/webdav/data/final/steinmetz_all.pa...</td>\n",
       "      <td>336680</td>\n",
       "      <td>None</td>\n",
       "      <td>2023-11-04 10:37:26+00:00</td>\n",
       "      <td>None</td>\n",
       "      <td>application/octet-stream</td>\n",
       "      <td>\"6b743aabf944ada12a16e5440c617d03\"</td>\n",
       "      <td>file</td>\n",
       "      <td>None</td>\n",
       "    </tr>\n",
       "    <tr>\n",
       "      <th>2</th>\n",
       "      <td>data/final/steinmetz_summer2017.csv</td>\n",
       "      <td>/public.php/webdav/data/final/steinmetz_summer...</td>\n",
       "      <td>276260</td>\n",
       "      <td>None</td>\n",
       "      <td>2023-11-02 07:24:58+00:00</td>\n",
       "      <td>None</td>\n",
       "      <td>text/csv</td>\n",
       "      <td>\"56aca35e51527b69684f2091dcfa9f60\"</td>\n",
       "      <td>file</td>\n",
       "      <td>None</td>\n",
       "    </tr>\n",
       "    <tr>\n",
       "      <th>3</th>\n",
       "      <td>data/final/steinmetz_winter2016.csv</td>\n",
       "      <td>/public.php/webdav/data/final/steinmetz_winter...</td>\n",
       "      <td>359392</td>\n",
       "      <td>None</td>\n",
       "      <td>2023-11-02 07:24:33+00:00</td>\n",
       "      <td>None</td>\n",
       "      <td>text/csv</td>\n",
       "      <td>\"eed2c5d3bafe07f97ebaf39a745b2472\"</td>\n",
       "      <td>file</td>\n",
       "      <td>None</td>\n",
       "    </tr>\n",
       "    <tr>\n",
       "      <th>4</th>\n",
       "      <td>data/final/steinmetz_winter2017.csv</td>\n",
       "      <td>/public.php/webdav/data/final/steinmetz_winter...</td>\n",
       "      <td>805706</td>\n",
       "      <td>None</td>\n",
       "      <td>2023-11-02 07:25:20+00:00</td>\n",
       "      <td>None</td>\n",
       "      <td>text/csv</td>\n",
       "      <td>\"a0550494a6ca3ed9aa40e73173b6514e\"</td>\n",
       "      <td>file</td>\n",
       "      <td>None</td>\n",
       "    </tr>\n",
       "  </tbody>\n",
       "</table>\n",
       "</div>"
      ],
      "text/plain": [
       "                                  name  \\\n",
       "0         data/final/steinmetz_all.csv   \n",
       "1     data/final/steinmetz_all.parquet   \n",
       "2  data/final/steinmetz_summer2017.csv   \n",
       "3  data/final/steinmetz_winter2016.csv   \n",
       "4  data/final/steinmetz_winter2017.csv   \n",
       "\n",
       "                                                href     size created  \\\n",
       "0    /public.php/webdav/data/final/steinmetz_all.csv  1516397    None   \n",
       "1  /public.php/webdav/data/final/steinmetz_all.pa...   336680    None   \n",
       "2  /public.php/webdav/data/final/steinmetz_summer...   276260    None   \n",
       "3  /public.php/webdav/data/final/steinmetz_winter...   359392    None   \n",
       "4  /public.php/webdav/data/final/steinmetz_winter...   805706    None   \n",
       "\n",
       "                   modified content_language              content_type  \\\n",
       "0 2023-11-04 10:37:26+00:00             None                  text/csv   \n",
       "1 2023-11-04 10:37:26+00:00             None  application/octet-stream   \n",
       "2 2023-11-02 07:24:58+00:00             None                  text/csv   \n",
       "3 2023-11-02 07:24:33+00:00             None                  text/csv   \n",
       "4 2023-11-02 07:25:20+00:00             None                  text/csv   \n",
       "\n",
       "                                 etag  type display_name  \n",
       "0  \"fda778a3f363c84e97456b6281796e2a\"  file         None  \n",
       "1  \"6b743aabf944ada12a16e5440c617d03\"  file         None  \n",
       "2  \"56aca35e51527b69684f2091dcfa9f60\"  file         None  \n",
       "3  \"eed2c5d3bafe07f97ebaf39a745b2472\"  file         None  \n",
       "4  \"a0550494a6ca3ed9aa40e73173b6514e\"  file         None  "
      ]
     },
     "execution_count": 185,
     "metadata": {},
     "output_type": "execute_result"
    }
   ],
   "source": [
    "pd.DataFrame(fs.ls(\"data/final\"))"
   ]
  },
  {
   "cell_type": "code",
   "execution_count": 182,
   "metadata": {},
   "outputs": [
    {
     "data": {
      "text/plain": [
       "['data/processed/steinmetz_2016-12-14_Cori.nc',\n",
       " 'data/processed/steinmetz_2016-12-17_Cori.nc',\n",
       " 'data/processed/steinmetz_2016-12-18_Cori.nc',\n",
       " 'data/processed/steinmetz_2017-01-07_Muller.nc',\n",
       " 'data/processed/steinmetz_2017-01-08_Muller.nc',\n",
       " 'data/processed/steinmetz_2017-01-08_Radnitz.nc',\n",
       " 'data/processed/steinmetz_2017-01-09_Muller.nc',\n",
       " 'data/processed/steinmetz_2017-01-09_Radnitz.nc',\n",
       " 'data/processed/steinmetz_2017-01-10_Radnitz.nc',\n",
       " 'data/processed/steinmetz_2017-01-11_Radnitz.nc',\n",
       " 'data/processed/steinmetz_2017-01-12_Radnitz.nc',\n",
       " 'data/processed/steinmetz_2017-05-15_Moniz.nc',\n",
       " 'data/processed/steinmetz_2017-05-16_Moniz.nc',\n",
       " 'data/processed/steinmetz_2017-05-18_Moniz.nc',\n",
       " 'data/processed/steinmetz_2017-06-15_Hench.nc',\n",
       " 'data/processed/steinmetz_2017-06-16_Hench.nc',\n",
       " 'data/processed/steinmetz_2017-06-17_Hench.nc',\n",
       " 'data/processed/steinmetz_2017-06-18_Hench.nc',\n",
       " 'data/processed/steinmetz_2017-10-11_Theiler.nc',\n",
       " 'data/processed/steinmetz_2017-10-29_Richards.nc',\n",
       " 'data/processed/steinmetz_2017-10-30_Richards.nc',\n",
       " 'data/processed/steinmetz_2017-10-31_Richards.nc',\n",
       " 'data/processed/steinmetz_2017-11-01_Forssmann.nc',\n",
       " 'data/processed/steinmetz_2017-11-01_Richards.nc',\n",
       " 'data/processed/steinmetz_2017-11-02_Forssmann.nc',\n",
       " 'data/processed/steinmetz_2017-11-02_Richards.nc',\n",
       " 'data/processed/steinmetz_2017-11-04_Forssmann.nc',\n",
       " 'data/processed/steinmetz_2017-11-05_Forssmann.nc',\n",
       " 'data/processed/steinmetz_2017-12-05_Lederberg.nc',\n",
       " 'data/processed/steinmetz_2017-12-05_Lederberg_active.nc',\n",
       " 'data/processed/steinmetz_2017-12-06_Lederberg.nc',\n",
       " 'data/processed/steinmetz_2017-12-06_Tatum.nc',\n",
       " 'data/processed/steinmetz_2017-12-07_Lederberg.nc',\n",
       " 'data/processed/steinmetz_2017-12-07_Tatum.nc',\n",
       " 'data/processed/steinmetz_2017-12-08_Lederberg.nc',\n",
       " 'data/processed/steinmetz_2017-12-08_Tatum.nc',\n",
       " 'data/processed/steinmetz_2017-12-09_Lederberg.nc',\n",
       " 'data/processed/steinmetz_2017-12-09_Tatum.nc',\n",
       " 'data/processed/steinmetz_2017-12-10_Lederberg.nc',\n",
       " 'data/processed/steinmetz_2017-12-11_Lederberg.nc']"
      ]
     },
     "execution_count": 182,
     "metadata": {},
     "output_type": "execute_result"
    }
   ],
   "source": [
    "fs.ls(\"data/processed\", detail=False)"
   ]
  },
  {
   "cell_type": "markdown",
   "metadata": {},
   "source": [
    "### Remote Filesystems that Require Authentication: Basic Secret Handling"
   ]
  },
  {
   "cell_type": "code",
   "execution_count": 193,
   "metadata": {},
   "outputs": [],
   "source": [
    "import os\n",
    "from webdav4.fsspec import WebdavFileSystem\n",
    "import fsspec  # webdav4 should be installed\n",
    "from dotenv import load_dotenv\n",
    "load_dotenv(override=True)\n",
    "env = os.environ\n"
   ]
  },
  {
   "cell_type": "markdown",
   "metadata": {},
   "source": [
    "**Exercises**\n",
    "\n",
    "Pick one person in your group to create a shared folder for the group to upload data to.  That person should: \n",
    "  - Using Sciebo in the web browser, create a new, empty folder in their Sciebo account.\n",
    "  - Create a new text file in that folder called \"README.txt\", and put a special message inside the file.\n",
    "  - **For each** team member to share the code with:\n",
    "    - Share the folder by creating a \"public link\", giving the \n",
    "        - name of the team member as the link's name, \n",
    "        - permission to download/view/upload/edit, \n",
    "        - a password, \n",
    "        - and set the link to expire in the near-ish future.\n",
    "    - Using the Zoom Chat, give each person the share link and the password.\n",
    "\n"
   ]
  },
  {
   "cell_type": "markdown",
   "metadata": {},
   "source": [
    "**Hiding the Secrets from the Source Code**\n",
    "\n",
    "It's important not to put the text of the username and password inside your code files; it makes it too easy for others to find (including robots), and makes it more difficult to share code with others.  Instead, we should put secrets it in a seperate file that we won't share with others; something that our code file can use.\n",
    "\n",
    "Here, we'll try out a standard approach that works in a wide variety of situations: make a `.env` (\"dot env\") file, which has all the environment variables we want to use.  Because it has a special extension, this file is easy to tell git to ignore, and many tools know how to work with it automatically.\n",
    "\n"
   ]
  },
  {
   "cell_type": "markdown",
   "metadata": {},
   "source": [
    "\n",
    "**Exercise** \n",
    "\n",
    "Make a file called `.env` and write the username and password into the file as variables like so:\n",
    "\n",
    "```dotenv\n",
    "URL=https://uni-bonn.sciebo.de/public.php/webdav  # or whatever the correct address is.\n",
    "USERNAME=f81JqGZmEHLxMnB                          # the last part of the share link (e.g. from https://uni-bonn.sciebo.de/s/f81JqGZmEHLxMnB)\n",
    "PASSWORD=mypassword                               # the password\n",
    "```\n",
    "\n",
    "To load the data into python, we can use the `python-dotenv` to create variables in the operating system from the file (called \"environment variables\"), and then use the `os.environ` dictionary to access those variables.  \n",
    "\n",
    "Run the code below to see if you can now access the variables:"
   ]
  },
  {
   "cell_type": "code",
   "execution_count": 199,
   "metadata": {},
   "outputs": [
    {
     "data": {
      "text/plain": [
       "'https://uni-bonn.sciebo.de/public.php/webdav'"
      ]
     },
     "execution_count": 199,
     "metadata": {},
     "output_type": "execute_result"
    }
   ],
   "source": [
    "# %pip install python-dotenv\n",
    "import os\n",
    "from dotenv import load_dotenv\n",
    "load_dotenv(override=True)\n",
    "env = os.environ\n",
    "env['URL']  # env['USERNAME] and env['PASSWORD'] should also work, if those variables are found."
   ]
  },
  {
   "cell_type": "markdown",
   "metadata": {},
   "source": [
    "**Exercise**\n",
    "\n",
    "Use the `env` variables to connect to the shared remote folder, and list all the files in that folder."
   ]
  },
  {
   "cell_type": "code",
   "execution_count": 203,
   "metadata": {},
   "outputs": [
    {
     "data": {
      "text/plain": [
       "['README.txt']"
      ]
     },
     "execution_count": 203,
     "metadata": {},
     "output_type": "execute_result"
    }
   ],
   "source": [
    "fs = fsspec.filesystem(\"webdav\", base_url=env['URL'], auth=(env['USERNAME'], env['PASSWORD']))\n",
    "fs.ls(\"/\", detail=False)"
   ]
  },
  {
   "cell_type": "markdown",
   "metadata": {},
   "source": [
    "Read the text in the README file.  What message is inside the file?"
   ]
  },
  {
   "cell_type": "code",
   "execution_count": 204,
   "metadata": {},
   "outputs": [
    {
     "data": {
      "text/plain": [
       "'hi!\\n'"
      ]
     },
     "execution_count": 204,
     "metadata": {},
     "output_type": "execute_result"
    }
   ],
   "source": [
    "fs.read_text(\"README.txt\")"
   ]
  },
  {
   "cell_type": "markdown",
   "metadata": {},
   "source": [
    "Write text to a file named \"\\<your_name\\>.txt\" (e.g. \"emma.txt\"), and put a hello message inside that file, and check that the file was created!"
   ]
  },
  {
   "cell_type": "code",
   "execution_count": 206,
   "metadata": {},
   "outputs": [
    {
     "data": {
      "text/plain": [
       "12"
      ]
     },
     "execution_count": 206,
     "metadata": {},
     "output_type": "execute_result"
    }
   ],
   "source": [
    "fs.write_text(\"nick.txt\", \"Hello, Nick.\")"
   ]
  },
  {
   "cell_type": "markdown",
   "metadata": {},
   "source": [
    "Create a folder named \"images\" and upload a picture of your favorite animal to the folder.  Check that it was uploaded properly."
   ]
  },
  {
   "cell_type": "code",
   "execution_count": 213,
   "metadata": {},
   "outputs": [
    {
     "data": {
      "text/plain": [
       "80086"
      ]
     },
     "execution_count": 213,
     "metadata": {},
     "output_type": "execute_result"
    }
   ],
   "source": [
    "# %pip install requests\n",
    "import requests\n",
    "r = requests.get(\"https://media.hornbach.de/hb/packshot/as.47485436.jpg\")\n",
    "Path(\"data/giraffe.jpg\").write_bytes(r.content)"
   ]
  },
  {
   "cell_type": "code",
   "execution_count": 219,
   "metadata": {},
   "outputs": [
    {
     "data": {
      "text/plain": [
       "[{'name': 'images/giraffe.jpg',\n",
       "  'href': '/public.php/webdav/images/giraffe.jpg',\n",
       "  'size': 80086,\n",
       "  'created': None,\n",
       "  'modified': datetime.datetime(2024, 2, 10, 13, 31, 2, tzinfo=datetime.timezone.utc),\n",
       "  'content_language': None,\n",
       "  'content_type': 'image/jpeg',\n",
       "  'etag': '\"42c602d0a8d12b07d4da8a1ee91d1ba0\"',\n",
       "  'type': 'file',\n",
       "  'display_name': None}]"
      ]
     },
     "execution_count": 219,
     "metadata": {},
     "output_type": "execute_result"
    }
   ],
   "source": [
    "fs.makedirs(\"images\", exist_ok=True)\n",
    "fs.upload(\"data/giraffe.jpg\", \"images/giraffe.jpg\")\n",
    "fs.ls(\"images\")"
   ]
  },
  {
   "cell_type": "markdown",
   "metadata": {},
   "source": [
    "What did the other people in your group upload?  Take a look, and download their favorite animal images!"
   ]
  },
  {
   "cell_type": "code",
   "execution_count": null,
   "metadata": {},
   "outputs": [],
   "source": []
  },
  {
   "cell_type": "markdown",
   "metadata": {},
   "source": [
    "## Mounting Remote Filesystems as a Network Drive\n",
    "\n",
    "In Windows, Mac, and Linux, you can mount a remote filesystem so you can browse it in your file explorer.  Let's try it with our shared folder!  This doesn't require any code; when mapping the drive, use the same url, username, and password as we did in the previous exercise."
   ]
  },
  {
   "cell_type": "markdown",
   "metadata": {},
   "source": [
    "## (Extra) Other Remote Filesystems\n",
    "\n",
    "The `fsspec` library supports a wide variety of filesystems, including \"SSH\" connections (like those used to access linux servers) and \"SFTP\" connections (like the one provided by the university of Bonn for extra file storage).  No matter where the data is, if you have permission to access it, you can use it!\n",
    "\n",
    "  - Uni-Bonn Data Storage Services:\n",
    "    - https://www.hrz.uni-bonn.de/de/services/datenablage-fileservices\n",
    "    - https://www.hrz.uni-bonn.de/en/all-services/data-storage-fileservices/research-data-infrastructure-fdi\n",
    "  - Uni-Köln Data Storage Services: \n",
    "    - https://fdm.uni-koeln.de/serviceangebot/servicekatalog-1"
   ]
  }
 ],
 "metadata": {
  "kernelspec": {
   "display_name": "duckdb",
   "language": "python",
   "name": "python3"
  },
  "language_info": {
   "codemirror_mode": {
    "name": "ipython",
    "version": 3
   },
   "file_extension": ".py",
   "mimetype": "text/x-python",
   "name": "python",
   "nbconvert_exporter": "python",
   "pygments_lexer": "ipython3",
   "version": "3.11.7"
  }
 },
 "nbformat": 4,
 "nbformat_minor": 2
}
