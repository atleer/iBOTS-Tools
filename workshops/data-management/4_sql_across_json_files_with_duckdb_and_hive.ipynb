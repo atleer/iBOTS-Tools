{
 "cells": [
  {
   "cell_type": "code",
   "execution_count": 1,
   "metadata": {},
   "outputs": [],
   "source": [
    "from webdav4.fsspec import WebdavFileSystem\n",
    "import duckdb"
   ]
  },
  {
   "cell_type": "markdown",
   "metadata": {},
   "source": [
    "## SQL With DuckDB"
   ]
  },
  {
   "cell_type": "markdown",
   "metadata": {},
   "source": [
    "#### Download the Data\n",
    "\n",
    "For this notebook, we'll be exploring some data from the Steinmetz et al 20XX study, processed here into JSON files for our tabular analysis, along with some other familiar file types.  Please run the code below to download the data."
   ]
  },
  {
   "cell_type": "code",
   "execution_count": 139,
   "metadata": {},
   "outputs": [],
   "source": [
    "# https://uni-bonn.sciebo.de/s/oZql1bk0p1AvK0w\n",
    "fs = WebdavFileSystem(\"https://uni-bonn.sciebo.de/public.php/webdav\", auth=(\"oZql1bk0p1AvK0w\", \"\"))\n",
    "fs.download(\"/\", \"data/steinmetz\", recursive=True)"
   ]
  },
  {
   "cell_type": "markdown",
   "metadata": {},
   "source": [
    "## Loading Data with DuckDB\n",
    "\n",
    "| Code | Description |\n",
    "| :-- | :-- |\n",
    "| `duckdb.sql('FROM \"path/to/file.json\"')` |  |\n",
    "| `duckdb.sql('FROM \"path/to/file.csv\"')` |  |\n",
    "| `duckdb.sql('FROM \"path/to/file.parquet\"')` |  |\n",
    "| `duckdb.sql('FROM read_json(\"path/to/file.json\", filename=true)')` |  |\n",
    "\n",
    "\n",
    "\n"
   ]
  },
  {
   "cell_type": "markdown",
   "metadata": {},
   "source": [
    "**Exercises**"
   ]
  },
  {
   "cell_type": "markdown",
   "metadata": {},
   "source": [
    "Use duckdb to read the `session.json` file from the session recorded on 2017-11-02.  What metadata fields were recorded on that day?"
   ]
  },
  {
   "cell_type": "code",
   "execution_count": 3,
   "metadata": {},
   "outputs": [
    {
     "data": {
      "text/plain": [
       "┌──────────────┬───────────┬────────────┬──────────┬─────────┐\n",
       "│ session_date │   mouse   │ stim_onset │ bin_size │   id    │\n",
       "│     date     │  varchar  │   double   │  double  │ varchar │\n",
       "├──────────────┼───────────┼────────────┼──────────┼─────────┤\n",
       "│ 2017-11-02   │ Forssmann │        0.5 │     0.01 │ dda4    │\n",
       "└──────────────┴───────────┴────────────┴──────────┴─────────┘"
      ]
     },
     "execution_count": 3,
     "metadata": {},
     "output_type": "execute_result"
    }
   ],
   "source": [
    "duckdb.sql('FROM \"data/steinmetz/steinmetz_2017-11-02_Forssmann/session.json\"')"
   ]
  },
  {
   "cell_type": "markdown",
   "metadata": {},
   "source": [
    "Use duckdb to read the 'trials.csv' file recorded on 2017-11-02.  What trial variables were recorded for that session?  (Note: if you cannot see all the columns, either add `\"DESCRIBE\"` to the front of the SQL statement, or you can convert the output to a Pandas DataFrame with `.to_df()`)"
   ]
  },
  {
   "cell_type": "code",
   "execution_count": 31,
   "metadata": {},
   "outputs": [
    {
     "data": {
      "text/plain": [
       "┌───────────────┬────────────────┬────────────────────┬───┬─────────────────────┬───────────────┬────────────┐\n",
       "│ contrast_left │ contrast_right │       gocue        │ … │     prev_reward     │ active_trials │ session_id │\n",
       "│     int64     │     int64      │       double       │   │       double        │    boolean    │  varchar   │\n",
       "├───────────────┼────────────────┼────────────────────┼───┼─────────────────────┼───────────────┼────────────┤\n",
       "│             0 │            100 │ 0.5821628508391683 │ … │               -10.0 │ true          │ dda4       │\n",
       "│             0 │              0 │ 0.4842213627248384 │ … │ -5.5394480599438225 │ true          │ dda4       │\n",
       "│            25 │             25 │ 0.6884175083797288 │ … │ -4.1964409490420564 │ true          │ dda4       │\n",
       "│             0 │              0 │  0.628083671326948 │ … │ -2.9373264076337335 │ true          │ dda4       │\n",
       "│             0 │              0 │ 0.7482593361695535 │ … │ -2.3423466082563067 │ true          │ dda4       │\n",
       "│            50 │            100 │ 0.6675373539758169 │ … │ -2.3311378492782495 │ true          │ dda4       │\n",
       "│             0 │             50 │ 0.4377230422981313 │ … │  -3.676216396562765 │ true          │ dda4       │\n",
       "│            50 │            100 │ 0.4432926165584945 │ … │ -2.3144187435304957 │ true          │ dda4       │\n",
       "│            50 │            100 │ 0.7434853638053198 │ … │  -2.359040658748256 │ true          │ dda4       │\n",
       "│            25 │            100 │ 0.4840074220028896 │ … │  -4.158454452485373 │ true          │ dda4       │\n",
       "│             · │              · │                 ·  │ · │                  ·  │  ·            │  ·         │\n",
       "│             · │              · │                 ·  │ · │                  ·  │  ·            │  ·         │\n",
       "│             · │              · │                 ·  │ · │                  ·  │  ·            │  ·         │\n",
       "│           100 │              0 │               NULL │ … │                NULL │ false         │ dda4       │\n",
       "│           100 │              0 │               NULL │ … │                NULL │ false         │ dda4       │\n",
       "│           100 │            100 │               NULL │ … │                NULL │ false         │ dda4       │\n",
       "│             0 │             25 │               NULL │ … │                NULL │ false         │ dda4       │\n",
       "│             0 │            100 │               NULL │ … │                NULL │ false         │ dda4       │\n",
       "│             0 │             50 │               NULL │ … │                NULL │ false         │ dda4       │\n",
       "│             0 │            100 │               NULL │ … │                NULL │ false         │ dda4       │\n",
       "│             0 │             50 │               NULL │ … │                NULL │ false         │ dda4       │\n",
       "│             0 │            100 │               NULL │ … │                NULL │ false         │ dda4       │\n",
       "│             0 │            100 │               NULL │ … │                NULL │ false         │ dda4       │\n",
       "├───────────────┴────────────────┴────────────────────┴───┴─────────────────────┴───────────────┴────────────┤\n",
       "│ 364 rows (20 shown)                                                                   13 columns (6 shown) │\n",
       "└────────────────────────────────────────────────────────────────────────────────────────────────────────────┘"
      ]
     },
     "execution_count": 31,
     "metadata": {},
     "output_type": "execute_result"
    }
   ],
   "source": [
    "duckdb.sql('FROM \"data/steinmetz/steinmetz_2017-11-02_Forssmann/trials.csv\"')"
   ]
  },
  {
   "cell_type": "markdown",
   "metadata": {},
   "source": [
    "Use duckdb to read **all** of the `session.json` files in the dataset."
   ]
  },
  {
   "cell_type": "code",
   "execution_count": 156,
   "metadata": {},
   "outputs": [
    {
     "data": {
      "text/plain": [
       "┌──────────────┬───────────┬────────────┬──────────┬─────────┐\n",
       "│ session_date │   mouse   │ stim_onset │ bin_size │   id    │\n",
       "│     date     │  varchar  │   double   │  double  │ varchar │\n",
       "├──────────────┼───────────┼────────────┼──────────┼─────────┤\n",
       "│ 2017-01-07   │ Muller    │        0.5 │     0.01 │ b5b6    │\n",
       "│ 2017-01-08   │ Muller    │        0.5 │     0.01 │ 49bb    │\n",
       "│ 2017-01-08   │ Radnitz   │        0.5 │     0.01 │ 769e    │\n",
       "│ 2017-01-09   │ Muller    │        0.5 │     0.01 │ 31dc    │\n",
       "│ 2017-01-09   │ Radnitz   │        0.5 │     0.01 │ 99f4    │\n",
       "│ 2017-01-10   │ Radnitz   │        0.5 │     0.01 │ a400    │\n",
       "│ 2017-01-11   │ Radnitz   │        0.5 │     0.01 │ 6207    │\n",
       "│ 2017-01-12   │ Radnitz   │        0.5 │     0.01 │ 3e6c    │\n",
       "│ 2017-05-15   │ Moniz     │        0.5 │     0.01 │ 40f7    │\n",
       "│ 2017-05-16   │ Moniz     │        0.5 │     0.01 │ 2474    │\n",
       "│     ·        │   ·       │         ·  │       ·  │  ·      │\n",
       "│     ·        │   ·       │         ·  │       ·  │  ·      │\n",
       "│     ·        │   ·       │         ·  │       ·  │  ·      │\n",
       "│ 2017-12-06   │ Lederberg │        0.5 │     0.01 │ 1e77    │\n",
       "│ 2017-12-06   │ Tatum     │        0.5 │     0.01 │ e7bd    │\n",
       "│ 2017-12-07   │ Lederberg │        0.5 │     0.01 │ e119    │\n",
       "│ 2017-12-07   │ Tatum     │        0.5 │     0.01 │ 2edb    │\n",
       "│ 2017-12-08   │ Lederberg │        0.5 │     0.01 │ 0080    │\n",
       "│ 2017-12-08   │ Tatum     │        0.5 │     0.01 │ 403f    │\n",
       "│ 2017-12-09   │ Lederberg │        0.5 │     0.01 │ 4363    │\n",
       "│ 2017-12-09   │ Tatum     │        0.5 │     0.01 │ 2115    │\n",
       "│ 2017-12-10   │ Lederberg │        0.5 │     0.01 │ df5e    │\n",
       "│ 2017-12-11   │ Lederberg │        0.5 │     0.01 │ ecb9    │\n",
       "├──────────────┴───────────┴────────────┴──────────┴─────────┤\n",
       "│ 37 rows (20 shown)                               5 columns │\n",
       "└────────────────────────────────────────────────────────────┘"
      ]
     },
     "execution_count": 156,
     "metadata": {},
     "output_type": "execute_result"
    }
   ],
   "source": [
    "duckdb.sql('FROM \"data/steinmetz/**/session.json\"')"
   ]
  },
  {
   "cell_type": "markdown",
   "metadata": {},
   "source": [
    "Use DuckDB to read all the `trials.csv` files in the dataset."
   ]
  },
  {
   "cell_type": "code",
   "execution_count": 94,
   "metadata": {},
   "outputs": [
    {
     "data": {
      "text/plain": [
       "┌────────────────┬─────────────┬─────────┬─────────┬─────────┬─────────┐\n",
       "│  column_name   │ column_type │  null   │   key   │ default │  extra  │\n",
       "│    varchar     │   varchar   │ varchar │ varchar │ varchar │ varchar │\n",
       "├────────────────┼─────────────┼─────────┼─────────┼─────────┼─────────┤\n",
       "│ contrast_left  │ BIGINT      │ YES     │ NULL    │ NULL    │ NULL    │\n",
       "│ contrast_right │ BIGINT      │ YES     │ NULL    │ NULL    │ NULL    │\n",
       "│ gocue          │ DOUBLE      │ YES     │ NULL    │ NULL    │ NULL    │\n",
       "│ stim_onset     │ DOUBLE      │ YES     │ NULL    │ NULL    │ NULL    │\n",
       "│ feedback_type  │ DOUBLE      │ YES     │ NULL    │ NULL    │ NULL    │\n",
       "│ feedback_time  │ DOUBLE      │ YES     │ NULL    │ NULL    │ NULL    │\n",
       "│ response_type  │ DOUBLE      │ YES     │ NULL    │ NULL    │ NULL    │\n",
       "│ response_time  │ DOUBLE      │ YES     │ NULL    │ NULL    │ NULL    │\n",
       "│ reaction_type  │ DOUBLE      │ YES     │ NULL    │ NULL    │ NULL    │\n",
       "│ reaction_time  │ DOUBLE      │ YES     │ NULL    │ NULL    │ NULL    │\n",
       "│ prev_reward    │ DOUBLE      │ YES     │ NULL    │ NULL    │ NULL    │\n",
       "│ active_trials  │ BOOLEAN     │ YES     │ NULL    │ NULL    │ NULL    │\n",
       "│ session_id     │ VARCHAR     │ YES     │ NULL    │ NULL    │ NULL    │\n",
       "├────────────────┴─────────────┴─────────┴─────────┴─────────┴─────────┤\n",
       "│ 13 rows                                                    6 columns │\n",
       "└──────────────────────────────────────────────────────────────────────┘"
      ]
     },
     "execution_count": 94,
     "metadata": {},
     "output_type": "execute_result"
    }
   ],
   "source": [
    "duckdb.sql('DESCRIBE FROM \"data/steinmetz/*/trials.csv\"')"
   ]
  },
  {
   "cell_type": "markdown",
   "metadata": {},
   "source": [
    "Use DuckDB to get all the cells that were recorded from in the dataset."
   ]
  },
  {
   "cell_type": "code",
   "execution_count": 95,
   "metadata": {},
   "outputs": [
    {
     "data": {
      "text/plain": [
       "┌────────────────┬─────────────┬─────────┬─────────┬─────────┬─────────┐\n",
       "│  column_name   │ column_type │  null   │   key   │ default │  extra  │\n",
       "│    varchar     │   varchar   │ varchar │ varchar │ varchar │ varchar │\n",
       "├────────────────┼─────────────┼─────────┼─────────┼─────────┼─────────┤\n",
       "│ ccf_ap         │ DOUBLE      │ YES     │ NULL    │ NULL    │ NULL    │\n",
       "│ ccf_dv         │ DOUBLE      │ YES     │ NULL    │ NULL    │ NULL    │\n",
       "│ ccf_lr         │ DOUBLE      │ YES     │ NULL    │ NULL    │ NULL    │\n",
       "│ brain_area     │ VARCHAR     │ YES     │ NULL    │ NULL    │ NULL    │\n",
       "│ brain_groups   │ VARCHAR     │ YES     │ NULL    │ NULL    │ NULL    │\n",
       "│ trough_to_peak │ TINYINT     │ YES     │ NULL    │ NULL    │ NULL    │\n",
       "│ session_id     │ VARCHAR     │ YES     │ NULL    │ NULL    │ NULL    │\n",
       "│ cell           │ INTEGER     │ YES     │ NULL    │ NULL    │ NULL    │\n",
       "└────────────────┴─────────────┴─────────┴─────────┴─────────┴─────────┘"
      ]
     },
     "execution_count": 95,
     "metadata": {},
     "output_type": "execute_result"
    }
   ],
   "source": [
    "duckdb.sql('DESCRIBE FROM \"data/steinmetz/*/cells.parquet\"')"
   ]
  },
  {
   "cell_type": "markdown",
   "metadata": {},
   "source": [
    "What variables were stored when recording lick behaviors?"
   ]
  },
  {
   "cell_type": "code",
   "execution_count": 96,
   "metadata": {},
   "outputs": [
    {
     "data": {
      "text/plain": [
       "┌─────────────┬─────────────┬─────────┬─────────┬─────────┬─────────┐\n",
       "│ column_name │ column_type │  null   │   key   │ default │  extra  │\n",
       "│   varchar   │   varchar   │ varchar │ varchar │ varchar │ varchar │\n",
       "├─────────────┼─────────────┼─────────┼─────────┼─────────┼─────────┤\n",
       "│ licks       │ TINYINT     │ YES     │ NULL    │ NULL    │ NULL    │\n",
       "│ session_id  │ VARCHAR     │ YES     │ NULL    │ NULL    │ NULL    │\n",
       "│ trial       │ INTEGER     │ YES     │ NULL    │ NULL    │ NULL    │\n",
       "│ time        │ DOUBLE      │ YES     │ NULL    │ NULL    │ NULL    │\n",
       "└─────────────┴─────────────┴─────────┴─────────┴─────────┴─────────┘"
      ]
     },
     "execution_count": 96,
     "metadata": {},
     "output_type": "execute_result"
    }
   ],
   "source": [
    "duckdb.sql('DESCRIBE FROM \"data/steinmetz/*/licks.parquet\"')"
   ]
  },
  {
   "cell_type": "markdown",
   "metadata": {},
   "source": [
    "## Filtering Data with SELECT, DISTINCT, WHERE, and LIMIT"
   ]
  },
  {
   "cell_type": "markdown",
   "metadata": {},
   "source": [
    "**Exercises**"
   ]
  },
  {
   "cell_type": "code",
   "execution_count": 113,
   "metadata": {},
   "outputs": [
    {
     "data": {
      "text/plain": [
       "┌───────────┐\n",
       "│   mouse   │\n",
       "│  varchar  │\n",
       "├───────────┤\n",
       "│ Hench     │\n",
       "│ Muller    │\n",
       "│ Moniz     │\n",
       "│ Forssmann │\n",
       "│ Radnitz   │\n",
       "│ Theiler   │\n",
       "│ Tatum     │\n",
       "│ Richards  │\n",
       "│ Lederberg │\n",
       "│ NULL      │\n",
       "├───────────┤\n",
       "│  10 rows  │\n",
       "└───────────┘"
      ]
     },
     "execution_count": 113,
     "metadata": {},
     "output_type": "execute_result"
    }
   ],
   "source": [
    "duckdb.sql(\n",
    "\"\"\"\n",
    "SELECT DISTINCT \n",
    "    mouse,\n",
    "FROM \n",
    "    \"data/steinmetz/*/session.json\"\n",
    "\"\"\")"
   ]
  },
  {
   "cell_type": "markdown",
   "metadata": {},
   "source": [
    "What unique (\"distinct\") contrast levels of the left stimulus were there in this experiment?  To make it easier to read, order the rows in the resulting table."
   ]
  },
  {
   "cell_type": "code",
   "execution_count": 124,
   "metadata": {},
   "outputs": [
    {
     "data": {
      "text/plain": [
       "┌───────────────┐\n",
       "│ contrast_left │\n",
       "│     int64     │\n",
       "├───────────────┤\n",
       "│            50 │\n",
       "│             0 │\n",
       "│           100 │\n",
       "│            25 │\n",
       "└───────────────┘"
      ]
     },
     "execution_count": 124,
     "metadata": {},
     "output_type": "execute_result"
    }
   ],
   "source": [
    "duckdb.sql(\n",
    "\"\"\"\n",
    "SELECT DISTINCT\n",
    "    contrast_left\n",
    "FROM \n",
    "    \"data/steinmetz/*/trials.csv\"\n",
    "\"\"\")"
   ]
  },
  {
   "cell_type": "markdown",
   "metadata": {},
   "source": [
    "What unique (\"distinct\") combinations of contrast levels between the left and right stimulus were there in this experiment?  To make it easier to read, order the rows in the resulting table."
   ]
  },
  {
   "cell_type": "code",
   "execution_count": 128,
   "metadata": {},
   "outputs": [
    {
     "data": {
      "text/plain": [
       "┌───────────────┬────────────────┐\n",
       "│ contrast_left │ contrast_right │\n",
       "│     int64     │     int64      │\n",
       "├───────────────┼────────────────┤\n",
       "│             0 │              0 │\n",
       "│             0 │             25 │\n",
       "│             0 │             50 │\n",
       "│             0 │            100 │\n",
       "│            25 │              0 │\n",
       "│            25 │             25 │\n",
       "│            25 │             50 │\n",
       "│            25 │            100 │\n",
       "│            50 │              0 │\n",
       "│            50 │             25 │\n",
       "│            50 │             50 │\n",
       "│            50 │            100 │\n",
       "│           100 │              0 │\n",
       "│           100 │             25 │\n",
       "│           100 │             50 │\n",
       "│           100 │            100 │\n",
       "├───────────────┴────────────────┤\n",
       "│ 16 rows              2 columns │\n",
       "└────────────────────────────────┘"
      ]
     },
     "execution_count": 128,
     "metadata": {},
     "output_type": "execute_result"
    }
   ],
   "source": [
    "duckdb.sql(\n",
    "\"\"\"\n",
    "SELECT DISTINCT\n",
    "    contrast_left,\n",
    "    contrast_right\n",
    "FROM \n",
    "    \"data/steinmetz/*/trials.csv\"\n",
    "ORDER BY contrast_left, contrast_right\n",
    "\"\"\")"
   ]
  },
  {
   "cell_type": "markdown",
   "metadata": {},
   "source": [
    "What were the different stimulus onset time settings used this experiment?"
   ]
  },
  {
   "cell_type": "code",
   "execution_count": 130,
   "metadata": {},
   "outputs": [
    {
     "data": {
      "text/plain": [
       "┌────────────┐\n",
       "│ stim_onset │\n",
       "│   double   │\n",
       "├────────────┤\n",
       "│        0.5 │\n",
       "└────────────┘"
      ]
     },
     "execution_count": 130,
     "metadata": {},
     "output_type": "execute_result"
    }
   ],
   "source": [
    "duckdb.sql(\n",
    "\"\"\"\n",
    "SELECT DISTINCT\n",
    "    stim_onset\n",
    "FROM \n",
    "    \"data/steinmetz/*/trials.csv\"\n",
    "\"\"\")"
   ]
  },
  {
   "cell_type": "markdown",
   "metadata": {},
   "source": [
    "Which general areas of the  brain (let's use \"brain_groups\" here) were the cells in this study recorded from?"
   ]
  },
  {
   "cell_type": "code",
   "execution_count": 137,
   "metadata": {},
   "outputs": [
    {
     "data": {
      "text/plain": [
       "┌───────────────────┐\n",
       "│   brain_groups    │\n",
       "│      varchar      │\n",
       "├───────────────────┤\n",
       "│ TT                │\n",
       "│ basal ganglia     │\n",
       "│ cortical subplate │\n",
       "│ hippocampus       │\n",
       "│ midbrain          │\n",
       "│ non-visual cortex │\n",
       "│ root              │\n",
       "│ thalamus          │\n",
       "│ visual cortex     │\n",
       "└───────────────────┘"
      ]
     },
     "execution_count": 137,
     "metadata": {},
     "output_type": "execute_result"
    }
   ],
   "source": [
    "duckdb.sql(\n",
    "\"\"\"\n",
    "SELECT DISTINCT\n",
    "    brain_groups\n",
    "FROM \n",
    "    \"data/steinmetz/*/cells.parquet\"\n",
    "ORDER BY brain_groups\n",
    "\"\"\")"
   ]
  },
  {
   "cell_type": "markdown",
   "metadata": {},
   "source": [
    "Which brain groups were associated with which smaller brain areas?"
   ]
  },
  {
   "cell_type": "code",
   "execution_count": 139,
   "metadata": {},
   "outputs": [
    {
     "data": {
      "text/plain": [
       "┌───────────────┬────────────┐\n",
       "│ brain_groups  │ brain_area │\n",
       "│    varchar    │  varchar   │\n",
       "├───────────────┼────────────┤\n",
       "│ TT            │ TT         │\n",
       "│ basal ganglia │ GPe        │\n",
       "│ basal ganglia │ CP         │\n",
       "│ basal ganglia │ LSc        │\n",
       "│ basal ganglia │ MS         │\n",
       "│ basal ganglia │ SI         │\n",
       "│ basal ganglia │ ACB        │\n",
       "│ basal ganglia │ SNr        │\n",
       "│ basal ganglia │ OT         │\n",
       "│ basal ganglia │ LSr        │\n",
       "│    ·          │ ·          │\n",
       "│    ·          │ ·          │\n",
       "│    ·          │ ·          │\n",
       "│ thalamus      │ MD         │\n",
       "│ thalamus      │ TH         │\n",
       "│ thalamus      │ LD         │\n",
       "│ thalamus      │ CL         │\n",
       "│ visual cortex │ VISa       │\n",
       "│ visual cortex │ VISam      │\n",
       "│ visual cortex │ VISp       │\n",
       "│ visual cortex │ VISpm      │\n",
       "│ visual cortex │ VISrl      │\n",
       "│ visual cortex │ VISl       │\n",
       "├───────────────┴────────────┤\n",
       "│     72 rows (20 shown)     │\n",
       "└────────────────────────────┘"
      ]
     },
     "execution_count": 139,
     "metadata": {},
     "output_type": "execute_result"
    }
   ],
   "source": [
    "duckdb.sql(\n",
    "\"\"\"\n",
    "SELECT DISTINCT\n",
    "    brain_groups,\n",
    "    brain_area\n",
    "FROM \n",
    "    \"data/steinmetz/*/cells.parquet\"\n",
    "ORDER BY brain_groups\n",
    "\"\"\")"
   ]
  },
  {
   "cell_type": "markdown",
   "metadata": {},
   "source": [
    "Let's say we're interested mainly in the thalamus.  Which areas of the thalamus were recorded from (i.e. \"get a table WHERE only the \"thalamus\" brain group is included.\") in this experiment?  (Tip: use single quotes `'` to reference text.)"
   ]
  },
  {
   "cell_type": "code",
   "execution_count": 143,
   "metadata": {},
   "outputs": [
    {
     "data": {
      "text/plain": [
       "┌──────────────┬────────────┐\n",
       "│ brain_groups │ brain_area │\n",
       "│   varchar    │  varchar   │\n",
       "├──────────────┼────────────┤\n",
       "│ thalamus     │ RT         │\n",
       "│ thalamus     │ VAL        │\n",
       "│ thalamus     │ SPF        │\n",
       "│ thalamus     │ PT         │\n",
       "│ thalamus     │ MG         │\n",
       "│ thalamus     │ LGd        │\n",
       "│ thalamus     │ VPL        │\n",
       "│ thalamus     │ VPM        │\n",
       "│ thalamus     │ PO         │\n",
       "│ thalamus     │ POL        │\n",
       "│ thalamus     │ CL         │\n",
       "│ thalamus     │ LH         │\n",
       "│ thalamus     │ LP         │\n",
       "│ thalamus     │ LD         │\n",
       "│ thalamus     │ TH         │\n",
       "│ thalamus     │ MD         │\n",
       "├──────────────┴────────────┤\n",
       "│ 16 rows         2 columns │\n",
       "└───────────────────────────┘"
      ]
     },
     "execution_count": 143,
     "metadata": {},
     "output_type": "execute_result"
    }
   ],
   "source": [
    "duckdb.sql(\n",
    "\"\"\"\n",
    "SELECT DISTINCT\n",
    "    brain_groups,\n",
    "    brain_area\n",
    "FROM \n",
    "    'data/steinmetz/*/cells.parquet'\n",
    "WHERE brain_groups = 'thalamus'\n",
    "ORDER BY brain_groups\n",
    "\"\"\")"
   ]
  },
  {
   "cell_type": "code",
   "execution_count": 145,
   "metadata": {},
   "outputs": [
    {
     "data": {
      "text/plain": [
       "┌─────────────┬─────────────┐\n",
       "│ min(ccf_lr) │ max(ccf_lr) │\n",
       "│   double    │   double    │\n",
       "├─────────────┼─────────────┤\n",
       "│      1078.8 │      6346.6 │\n",
       "└─────────────┴─────────────┘"
      ]
     },
     "execution_count": 145,
     "metadata": {},
     "output_type": "execute_result"
    }
   ],
   "source": [
    "duckdb.sql(\n",
    "\"\"\"\n",
    "SELECT\n",
    "    min(ccf_lr),\n",
    "    max(ccf_lr)\n",
    "FROM \n",
    "    \"data/steinmetz/*/cells.parquet\"\n",
    "\"\"\")"
   ]
  },
  {
   "cell_type": "markdown",
   "metadata": {},
   "source": [
    "How many sessions were recorded?"
   ]
  },
  {
   "cell_type": "code",
   "execution_count": 157,
   "metadata": {},
   "outputs": [
    {
     "data": {
      "text/plain": [
       "┌──────────────┐\n",
       "│ count_star() │\n",
       "│    int64     │\n",
       "├──────────────┤\n",
       "│           37 │\n",
       "└──────────────┘"
      ]
     },
     "execution_count": 157,
     "metadata": {},
     "output_type": "execute_result"
    }
   ],
   "source": [
    "duckdb.sql('SELECT count(*) FROM \"data/steinmetz/**/session.json\"')"
   ]
  },
  {
   "cell_type": "markdown",
   "metadata": {},
   "source": [
    "How many total trials were done in the experiment, across all sessions?"
   ]
  },
  {
   "cell_type": "code",
   "execution_count": 158,
   "metadata": {},
   "outputs": [
    {
     "data": {
      "text/plain": [
       "┌──────────────┐\n",
       "│ count_star() │\n",
       "│    int64     │\n",
       "├──────────────┤\n",
       "│        13617 │\n",
       "└──────────────┘"
      ]
     },
     "execution_count": 158,
     "metadata": {},
     "output_type": "execute_result"
    }
   ],
   "source": [
    "duckdb.sql('SELECT count(*) FROM \"data/steinmetz/*/trials.csv\"')"
   ]
  },
  {
   "cell_type": "markdown",
   "metadata": {},
   "source": [
    "How many total sessions were done by the mouse named \"Richards\"?"
   ]
  },
  {
   "cell_type": "code",
   "execution_count": 167,
   "metadata": {},
   "outputs": [
    {
     "data": {
      "text/plain": [
       "┌──────────────┐\n",
       "│ count_star() │\n",
       "│    int64     │\n",
       "├──────────────┤\n",
       "│            5 │\n",
       "└──────────────┘"
      ]
     },
     "execution_count": 167,
     "metadata": {},
     "output_type": "execute_result"
    }
   ],
   "source": [
    "duckdb.sql(\n",
    "\"\"\"\n",
    "SELECT count(*) FROM  \"data/steinmetz/*/session.json\" WHERE mouse = 'Richards'\n",
    "\"\"\")"
   ]
  },
  {
   "cell_type": "code",
   "execution_count": 154,
   "metadata": {},
   "outputs": [
    {
     "data": {
      "text/plain": [
       "┌──────────────┐\n",
       "│ count_star() │\n",
       "│    int64     │\n",
       "├──────────────┤\n",
       "│            1 │\n",
       "└──────────────┘"
      ]
     },
     "execution_count": 154,
     "metadata": {},
     "output_type": "execute_result"
    }
   ],
   "source": [
    "duckdb.sql('SELECT count(*) FROM \"data/steinmetz/steinmetz_2017-11-02_Forssmann/session.json\"')"
   ]
  },
  {
   "cell_type": "code",
   "execution_count": 112,
   "metadata": {},
   "outputs": [
    {
     "data": {
      "text/plain": [
       "┌────────────────┬─────────────┬─────────┬─────────┬─────────┬─────────┐\n",
       "│  column_name   │ column_type │  null   │   key   │ default │  extra  │\n",
       "│    varchar     │   varchar   │ varchar │ varchar │ varchar │ varchar │\n",
       "├────────────────┼─────────────┼─────────┼─────────┼─────────┼─────────┤\n",
       "│ contrast_left  │ BIGINT      │ YES     │ NULL    │ NULL    │ NULL    │\n",
       "│ contrast_right │ BIGINT      │ YES     │ NULL    │ NULL    │ NULL    │\n",
       "│ gocue          │ DOUBLE      │ YES     │ NULL    │ NULL    │ NULL    │\n",
       "│ stim_onset     │ DOUBLE      │ YES     │ NULL    │ NULL    │ NULL    │\n",
       "│ feedback_type  │ DOUBLE      │ YES     │ NULL    │ NULL    │ NULL    │\n",
       "│ feedback_time  │ DOUBLE      │ YES     │ NULL    │ NULL    │ NULL    │\n",
       "│ response_type  │ DOUBLE      │ YES     │ NULL    │ NULL    │ NULL    │\n",
       "│ response_time  │ DOUBLE      │ YES     │ NULL    │ NULL    │ NULL    │\n",
       "│ reaction_type  │ DOUBLE      │ YES     │ NULL    │ NULL    │ NULL    │\n",
       "│ reaction_time  │ DOUBLE      │ YES     │ NULL    │ NULL    │ NULL    │\n",
       "│ prev_reward    │ DOUBLE      │ YES     │ NULL    │ NULL    │ NULL    │\n",
       "│ active_trials  │ BOOLEAN     │ YES     │ NULL    │ NULL    │ NULL    │\n",
       "│ session_id     │ VARCHAR     │ YES     │ NULL    │ NULL    │ NULL    │\n",
       "├────────────────┴─────────────┴─────────┴─────────┴─────────┴─────────┤\n",
       "│ 13 rows                                                    6 columns │\n",
       "└──────────────────────────────────────────────────────────────────────┘"
      ]
     },
     "execution_count": 112,
     "metadata": {},
     "output_type": "execute_result"
    }
   ],
   "source": [
    "duckdb.sql('DESCRIBE FROM \"../data_processing/data7/**/trials.csv\"')"
   ]
  },
  {
   "cell_type": "code",
   "execution_count": 77,
   "metadata": {},
   "outputs": [
    {
     "data": {
      "text/plain": [
       "┌───────────────────┬──────────────┬──────────────────────────┐\n",
       "│   brain_groups    │ count_star() │ round(avg(num_cells), 1) │\n",
       "│      varchar      │    int64     │          double          │\n",
       "├───────────────────┼──────────────┼──────────────────────────┤\n",
       "│ basal ganglia     │           12 │                    169.0 │\n",
       "│ cortical subplate │            3 │                     82.3 │\n",
       "│ hippocampus       │           18 │                    149.9 │\n",
       "│ midbrain          │           11 │                    240.8 │\n",
       "│ non-visual cortex │           21 │                    288.7 │\n",
       "│ root              │           22 │                    134.3 │\n",
       "│ thalamus          │           19 │                    222.4 │\n",
       "│ TT                │            4 │                     45.3 │\n",
       "│ visual cortex     │           17 │                    149.7 │\n",
       "└───────────────────┴──────────────┴──────────────────────────┘"
      ]
     },
     "execution_count": 77,
     "metadata": {},
     "output_type": "execute_result"
    }
   ],
   "source": [
    "duckdb.sql(\n",
    "\"\"\"\n",
    "SELECT\n",
    "    brain_groups,\n",
    "    count(*),\n",
    "    round(avg(num_cells), 1),\n",
    "FROM\n",
    "    (SELECT \n",
    "        brain_groups,\n",
    "        session_id,\n",
    "        count(*) AS num_cells\n",
    "    FROM \"../data_processing/data7/**/cells.parquet\"\n",
    "    GROUP BY (brain_groups, session_id)\n",
    "    )\n",
    "GROUP BY brain_groups\n",
    "ORDER BY lower(brain_groups)\n",
    "\"\"\")"
   ]
  },
  {
   "cell_type": "code",
   "execution_count": 72,
   "metadata": {},
   "outputs": [],
   "source": [
    "%load_ext sql"
   ]
  },
  {
   "cell_type": "code",
   "execution_count": 74,
   "metadata": {},
   "outputs": [
    {
     "data": {
      "text/html": [
       "<span style=\"None\">Connecting to &#x27;duckdb://&#x27;</span>"
      ],
      "text/plain": [
       "Connecting to 'duckdb://'"
      ]
     },
     "metadata": {},
     "output_type": "display_data"
    }
   ],
   "source": [
    "%sql duckdb://"
   ]
  },
  {
   "cell_type": "code",
   "execution_count": 174,
   "metadata": {},
   "outputs": [
    {
     "data": {
      "text/html": [
       "<style type=\"text/css\">\n",
       "</style>\n",
       "<table id=\"T_75db7\">\n",
       "  <thead>\n",
       "    <tr>\n",
       "      <th class=\"blank level0\" >&nbsp;</th>\n",
       "      <th id=\"T_75db7_level0_col0\" class=\"col_heading level0 col0\" >TT</th>\n",
       "      <th id=\"T_75db7_level0_col1\" class=\"col_heading level0 col1\" >basal ganglia</th>\n",
       "      <th id=\"T_75db7_level0_col2\" class=\"col_heading level0 col2\" >cortical subplate</th>\n",
       "      <th id=\"T_75db7_level0_col3\" class=\"col_heading level0 col3\" >hippocampus</th>\n",
       "      <th id=\"T_75db7_level0_col4\" class=\"col_heading level0 col4\" >midbrain</th>\n",
       "      <th id=\"T_75db7_level0_col5\" class=\"col_heading level0 col5\" >non-visual cortex</th>\n",
       "      <th id=\"T_75db7_level0_col6\" class=\"col_heading level0 col6\" >root</th>\n",
       "      <th id=\"T_75db7_level0_col7\" class=\"col_heading level0 col7\" >thalamus</th>\n",
       "      <th id=\"T_75db7_level0_col8\" class=\"col_heading level0 col8\" >visual cortex</th>\n",
       "    </tr>\n",
       "    <tr>\n",
       "      <th class=\"index_name level0\" >mouse</th>\n",
       "      <th class=\"blank col0\" >&nbsp;</th>\n",
       "      <th class=\"blank col1\" >&nbsp;</th>\n",
       "      <th class=\"blank col2\" >&nbsp;</th>\n",
       "      <th class=\"blank col3\" >&nbsp;</th>\n",
       "      <th class=\"blank col4\" >&nbsp;</th>\n",
       "      <th class=\"blank col5\" >&nbsp;</th>\n",
       "      <th class=\"blank col6\" >&nbsp;</th>\n",
       "      <th class=\"blank col7\" >&nbsp;</th>\n",
       "      <th class=\"blank col8\" >&nbsp;</th>\n",
       "    </tr>\n",
       "  </thead>\n",
       "  <tbody>\n",
       "    <tr>\n",
       "      <th id=\"T_75db7_level0_row0\" class=\"row_heading level0 row0\" >Hench</th>\n",
       "      <td id=\"T_75db7_row0_col0\" class=\"data row0 col0\" >137</td>\n",
       "      <td id=\"T_75db7_row0_col1\" class=\"data row0 col1\" >450</td>\n",
       "      <td id=\"T_75db7_row0_col2\" class=\"data row0 col2\" ><NA></td>\n",
       "      <td id=\"T_75db7_row0_col3\" class=\"data row0 col3\" >506</td>\n",
       "      <td id=\"T_75db7_row0_col4\" class=\"data row0 col4\" >389</td>\n",
       "      <td id=\"T_75db7_row0_col5\" class=\"data row0 col5\" >1019</td>\n",
       "      <td id=\"T_75db7_row0_col6\" class=\"data row0 col6\" >60</td>\n",
       "      <td id=\"T_75db7_row0_col7\" class=\"data row0 col7\" >819</td>\n",
       "      <td id=\"T_75db7_row0_col8\" class=\"data row0 col8\" >593</td>\n",
       "    </tr>\n",
       "    <tr>\n",
       "      <th id=\"T_75db7_level0_row1\" class=\"row_heading level0 row1\" >Muller</th>\n",
       "      <td id=\"T_75db7_row1_col0\" class=\"data row1 col0\" >10</td>\n",
       "      <td id=\"T_75db7_row1_col1\" class=\"data row1 col1\" >92</td>\n",
       "      <td id=\"T_75db7_row1_col2\" class=\"data row1 col2\" ><NA></td>\n",
       "      <td id=\"T_75db7_row1_col3\" class=\"data row1 col3\" >459</td>\n",
       "      <td id=\"T_75db7_row1_col4\" class=\"data row1 col4\" >714</td>\n",
       "      <td id=\"T_75db7_row1_col5\" class=\"data row1 col5\" >408</td>\n",
       "      <td id=\"T_75db7_row1_col6\" class=\"data row1 col6\" >583</td>\n",
       "      <td id=\"T_75db7_row1_col7\" class=\"data row1 col7\" >366</td>\n",
       "      <td id=\"T_75db7_row1_col8\" class=\"data row1 col8\" >619</td>\n",
       "    </tr>\n",
       "    <tr>\n",
       "      <th id=\"T_75db7_level0_row2\" class=\"row_heading level0 row2\" >Theiler</th>\n",
       "      <td id=\"T_75db7_row2_col0\" class=\"data row2 col0\" ><NA></td>\n",
       "      <td id=\"T_75db7_row2_col1\" class=\"data row2 col1\" ><NA></td>\n",
       "      <td id=\"T_75db7_row2_col2\" class=\"data row2 col2\" ><NA></td>\n",
       "      <td id=\"T_75db7_row2_col3\" class=\"data row2 col3\" >209</td>\n",
       "      <td id=\"T_75db7_row2_col4\" class=\"data row2 col4\" ><NA></td>\n",
       "      <td id=\"T_75db7_row2_col5\" class=\"data row2 col5\" >497</td>\n",
       "      <td id=\"T_75db7_row2_col6\" class=\"data row2 col6\" >442</td>\n",
       "      <td id=\"T_75db7_row2_col7\" class=\"data row2 col7\" >59</td>\n",
       "      <td id=\"T_75db7_row2_col8\" class=\"data row2 col8\" >141</td>\n",
       "    </tr>\n",
       "    <tr>\n",
       "      <th id=\"T_75db7_level0_row3\" class=\"row_heading level0 row3\" >Tatum</th>\n",
       "      <td id=\"T_75db7_row3_col0\" class=\"data row3 col0\" ><NA></td>\n",
       "      <td id=\"T_75db7_row3_col1\" class=\"data row3 col1\" >351</td>\n",
       "      <td id=\"T_75db7_row3_col2\" class=\"data row3 col2\" >185</td>\n",
       "      <td id=\"T_75db7_row3_col3\" class=\"data row3 col3\" >329</td>\n",
       "      <td id=\"T_75db7_row3_col4\" class=\"data row3 col4\" >703</td>\n",
       "      <td id=\"T_75db7_row3_col5\" class=\"data row3 col5\" >757</td>\n",
       "      <td id=\"T_75db7_row3_col6\" class=\"data row3 col6\" >433</td>\n",
       "      <td id=\"T_75db7_row3_col7\" class=\"data row3 col7\" >372</td>\n",
       "      <td id=\"T_75db7_row3_col8\" class=\"data row3 col8\" >205</td>\n",
       "    </tr>\n",
       "    <tr>\n",
       "      <th id=\"T_75db7_level0_row4\" class=\"row_heading level0 row4\" >Lederberg</th>\n",
       "      <td id=\"T_75db7_row4_col0\" class=\"data row4 col0\" ><NA></td>\n",
       "      <td id=\"T_75db7_row4_col1\" class=\"data row4 col1\" >681</td>\n",
       "      <td id=\"T_75db7_row4_col2\" class=\"data row4 col2\" >173</td>\n",
       "      <td id=\"T_75db7_row4_col3\" class=\"data row4 col3\" >429</td>\n",
       "      <td id=\"T_75db7_row4_col4\" class=\"data row4 col4\" >787</td>\n",
       "      <td id=\"T_75db7_row4_col5\" class=\"data row4 col5\" >951</td>\n",
       "      <td id=\"T_75db7_row4_col6\" class=\"data row4 col6\" >816</td>\n",
       "      <td id=\"T_75db7_row4_col7\" class=\"data row4 col7\" >1250</td>\n",
       "      <td id=\"T_75db7_row4_col8\" class=\"data row4 col8\" >221</td>\n",
       "    </tr>\n",
       "    <tr>\n",
       "      <th id=\"T_75db7_level0_row5\" class=\"row_heading level0 row5\" >Richards</th>\n",
       "      <td id=\"T_75db7_row5_col0\" class=\"data row5 col0\" ><NA></td>\n",
       "      <td id=\"T_75db7_row5_col1\" class=\"data row5 col1\" >562</td>\n",
       "      <td id=\"T_75db7_row5_col2\" class=\"data row5 col2\" >195</td>\n",
       "      <td id=\"T_75db7_row5_col3\" class=\"data row5 col3\" >235</td>\n",
       "      <td id=\"T_75db7_row5_col4\" class=\"data row5 col4\" >344</td>\n",
       "      <td id=\"T_75db7_row5_col5\" class=\"data row5 col5\" >1387</td>\n",
       "      <td id=\"T_75db7_row5_col6\" class=\"data row5 col6\" >136</td>\n",
       "      <td id=\"T_75db7_row5_col7\" class=\"data row5 col7\" >957</td>\n",
       "      <td id=\"T_75db7_row5_col8\" class=\"data row5 col8\" >19</td>\n",
       "    </tr>\n",
       "    <tr>\n",
       "      <th id=\"T_75db7_level0_row6\" class=\"row_heading level0 row6\" >None</th>\n",
       "      <td id=\"T_75db7_row6_col0\" class=\"data row6 col0\" ><NA></td>\n",
       "      <td id=\"T_75db7_row6_col1\" class=\"data row6 col1\" ><NA></td>\n",
       "      <td id=\"T_75db7_row6_col2\" class=\"data row6 col2\" ><NA></td>\n",
       "      <td id=\"T_75db7_row6_col3\" class=\"data row6 col3\" >220</td>\n",
       "      <td id=\"T_75db7_row6_col4\" class=\"data row6 col4\" ><NA></td>\n",
       "      <td id=\"T_75db7_row6_col5\" class=\"data row6 col5\" >78</td>\n",
       "      <td id=\"T_75db7_row6_col6\" class=\"data row6 col6\" >100</td>\n",
       "      <td id=\"T_75db7_row6_col7\" class=\"data row6 col7\" >155</td>\n",
       "      <td id=\"T_75db7_row6_col8\" class=\"data row6 col8\" >145</td>\n",
       "    </tr>\n",
       "    <tr>\n",
       "      <th id=\"T_75db7_level0_row7\" class=\"row_heading level0 row7\" >Forssmann</th>\n",
       "      <td id=\"T_75db7_row7_col0\" class=\"data row7 col0\" ><NA></td>\n",
       "      <td id=\"T_75db7_row7_col1\" class=\"data row7 col1\" >494</td>\n",
       "      <td id=\"T_75db7_row7_col2\" class=\"data row7 col2\" >52</td>\n",
       "      <td id=\"T_75db7_row7_col3\" class=\"data row7 col3\" >661</td>\n",
       "      <td id=\"T_75db7_row7_col4\" class=\"data row7 col4\" ><NA></td>\n",
       "      <td id=\"T_75db7_row7_col5\" class=\"data row7 col5\" >1068</td>\n",
       "      <td id=\"T_75db7_row7_col6\" class=\"data row7 col6\" >1241</td>\n",
       "      <td id=\"T_75db7_row7_col7\" class=\"data row7 col7\" >864</td>\n",
       "      <td id=\"T_75db7_row7_col8\" class=\"data row7 col8\" >219</td>\n",
       "    </tr>\n",
       "    <tr>\n",
       "      <th id=\"T_75db7_level0_row8\" class=\"row_heading level0 row8\" >Radnitz</th>\n",
       "      <td id=\"T_75db7_row8_col0\" class=\"data row8 col0\" >34</td>\n",
       "      <td id=\"T_75db7_row8_col1\" class=\"data row8 col1\" >430</td>\n",
       "      <td id=\"T_75db7_row8_col2\" class=\"data row8 col2\" ><NA></td>\n",
       "      <td id=\"T_75db7_row8_col3\" class=\"data row8 col3\" >111</td>\n",
       "      <td id=\"T_75db7_row8_col4\" class=\"data row8 col4\" >1017</td>\n",
       "      <td id=\"T_75db7_row8_col5\" class=\"data row8 col5\" >1229</td>\n",
       "      <td id=\"T_75db7_row8_col6\" class=\"data row8 col6\" >348</td>\n",
       "      <td id=\"T_75db7_row8_col7\" class=\"data row8 col7\" >204</td>\n",
       "      <td id=\"T_75db7_row8_col8\" class=\"data row8 col8\" >430</td>\n",
       "    </tr>\n",
       "    <tr>\n",
       "      <th id=\"T_75db7_level0_row9\" class=\"row_heading level0 row9\" >Moniz</th>\n",
       "      <td id=\"T_75db7_row9_col0\" class=\"data row9 col0\" ><NA></td>\n",
       "      <td id=\"T_75db7_row9_col1\" class=\"data row9 col1\" ><NA></td>\n",
       "      <td id=\"T_75db7_row9_col2\" class=\"data row9 col2\" ><NA></td>\n",
       "      <td id=\"T_75db7_row9_col3\" class=\"data row9 col3\" >297</td>\n",
       "      <td id=\"T_75db7_row9_col4\" class=\"data row9 col4\" >185</td>\n",
       "      <td id=\"T_75db7_row9_col5\" class=\"data row9 col5\" >377</td>\n",
       "      <td id=\"T_75db7_row9_col6\" class=\"data row9 col6\" >44</td>\n",
       "      <td id=\"T_75db7_row9_col7\" class=\"data row9 col7\" >801</td>\n",
       "      <td id=\"T_75db7_row9_col8\" class=\"data row9 col8\" >379</td>\n",
       "    </tr>\n",
       "  </tbody>\n",
       "</table>\n"
      ],
      "text/plain": [
       "<pandas.io.formats.style.Styler at 0x24051af3590>"
      ]
     },
     "execution_count": 174,
     "metadata": {},
     "output_type": "execute_result"
    }
   ],
   "source": [
    "result = duckdb.sql(\n",
    "\"\"\"\n",
    "PIVOT (\n",
    "    SELECT\n",
    "        mouse,\n",
    "        session_id,\n",
    "        session_date,\n",
    "        brain_groups,\n",
    "        count(cell) as num_cells,\n",
    "    FROM \"../data_processing/data7/**/cells.parquet\" cells\n",
    "    INNER JOIN \"../data_processing/data7/**/session.json\" sessions ON cells.session_id = sessions.id\n",
    "    GROUP BY ALL\n",
    "    )\n",
    "ON brain_groups\n",
    "USING sum(num_cells)\n",
    "GROUP BY mouse\n",
    "\"\"\"\n",
    ").to_df()\n",
    "result.set_index('mouse').convert_dtypes().style.format()"
   ]
  },
  {
   "cell_type": "markdown",
   "metadata": {},
   "source": [
    "**Exercises**"
   ]
  },
  {
   "cell_type": "markdown",
   "metadata": {},
   "source": [
    "## SQL with SQLite3"
   ]
  },
  {
   "cell_type": "code",
   "execution_count": 18,
   "metadata": {},
   "outputs": [
    {
     "data": {
      "text/html": [
       "<div>\n",
       "<style scoped>\n",
       "    .dataframe tbody tr th:only-of-type {\n",
       "        vertical-align: middle;\n",
       "    }\n",
       "\n",
       "    .dataframe tbody tr th {\n",
       "        vertical-align: top;\n",
       "    }\n",
       "\n",
       "    .dataframe thead th {\n",
       "        text-align: right;\n",
       "    }\n",
       "</style>\n",
       "<table border=\"1\" class=\"dataframe\">\n",
       "  <thead>\n",
       "    <tr style=\"text-align: right;\">\n",
       "      <th></th>\n",
       "      <th>exposure_time</th>\n",
       "      <th>laser_power</th>\n",
       "      <th>num_frames</th>\n",
       "      <th>frame_rate</th>\n",
       "      <th>region_of_interest</th>\n",
       "      <th>start_time</th>\n",
       "    </tr>\n",
       "  </thead>\n",
       "  <tbody>\n",
       "    <tr>\n",
       "      <th>0</th>\n",
       "      <td>300</td>\n",
       "      <td>15</td>\n",
       "      <td>292</td>\n",
       "      <td>30</td>\n",
       "      <td>ROI1</td>\n",
       "      <td>376.0</td>\n",
       "    </tr>\n",
       "    <tr>\n",
       "      <th>1</th>\n",
       "      <td>100</td>\n",
       "      <td>10</td>\n",
       "      <td>226</td>\n",
       "      <td>10</td>\n",
       "      <td>ROI2</td>\n",
       "      <td>NaN</td>\n",
       "    </tr>\n",
       "    <tr>\n",
       "      <th>2</th>\n",
       "      <td>100</td>\n",
       "      <td>15</td>\n",
       "      <td>317</td>\n",
       "      <td>30</td>\n",
       "      <td>ROI1</td>\n",
       "      <td>3101.0</td>\n",
       "    </tr>\n",
       "    <tr>\n",
       "      <th>3</th>\n",
       "      <td>200</td>\n",
       "      <td>15</td>\n",
       "      <td>271</td>\n",
       "      <td>10</td>\n",
       "      <td>ROI1</td>\n",
       "      <td>2788.0</td>\n",
       "    </tr>\n",
       "    <tr>\n",
       "      <th>4</th>\n",
       "      <td>100</td>\n",
       "      <td>10</td>\n",
       "      <td>297</td>\n",
       "      <td>20</td>\n",
       "      <td>ROI3</td>\n",
       "      <td>1800.0</td>\n",
       "    </tr>\n",
       "    <tr>\n",
       "      <th>5</th>\n",
       "      <td>300</td>\n",
       "      <td>15</td>\n",
       "      <td>339</td>\n",
       "      <td>10</td>\n",
       "      <td>ROI3</td>\n",
       "      <td>NaN</td>\n",
       "    </tr>\n",
       "    <tr>\n",
       "      <th>6</th>\n",
       "      <td>100</td>\n",
       "      <td>5</td>\n",
       "      <td>225</td>\n",
       "      <td>20</td>\n",
       "      <td>ROI2</td>\n",
       "      <td>NaN</td>\n",
       "    </tr>\n",
       "    <tr>\n",
       "      <th>7</th>\n",
       "      <td>100</td>\n",
       "      <td>5</td>\n",
       "      <td>329</td>\n",
       "      <td>30</td>\n",
       "      <td>ROI1</td>\n",
       "      <td>4465.0</td>\n",
       "    </tr>\n",
       "    <tr>\n",
       "      <th>8</th>\n",
       "      <td>300</td>\n",
       "      <td>5</td>\n",
       "      <td>206</td>\n",
       "      <td>30</td>\n",
       "      <td>ROI2</td>\n",
       "      <td>NaN</td>\n",
       "    </tr>\n",
       "    <tr>\n",
       "      <th>9</th>\n",
       "      <td>200</td>\n",
       "      <td>10</td>\n",
       "      <td>253</td>\n",
       "      <td>30</td>\n",
       "      <td>ROI2</td>\n",
       "      <td>585.0</td>\n",
       "    </tr>\n",
       "  </tbody>\n",
       "</table>\n",
       "</div>"
      ],
      "text/plain": [
       "   exposure_time  laser_power  num_frames  frame_rate region_of_interest  \\\n",
       "0            300           15         292          30               ROI1   \n",
       "1            100           10         226          10               ROI2   \n",
       "2            100           15         317          30               ROI1   \n",
       "3            200           15         271          10               ROI1   \n",
       "4            100           10         297          20               ROI3   \n",
       "5            300           15         339          10               ROI3   \n",
       "6            100            5         225          20               ROI2   \n",
       "7            100            5         329          30               ROI1   \n",
       "8            300            5         206          30               ROI2   \n",
       "9            200           10         253          30               ROI2   \n",
       "\n",
       "   start_time  \n",
       "0       376.0  \n",
       "1         NaN  \n",
       "2      3101.0  \n",
       "3      2788.0  \n",
       "4      1800.0  \n",
       "5         NaN  \n",
       "6         NaN  \n",
       "7      4465.0  \n",
       "8         NaN  \n",
       "9       585.0  "
      ]
     },
     "execution_count": 18,
     "metadata": {},
     "output_type": "execute_result"
    }
   ],
   "source": [
    "type(dd)\n",
    "dd.DataFrame()"
   ]
  },
  {
   "cell_type": "code",
   "execution_count": 16,
   "metadata": {},
   "outputs": [
    {
     "data": {
      "text/plain": [
       "┌─────────┬───────┐\n",
       "│  name   │  age  │\n",
       "│ varchar │ int64 │\n",
       "├─────────┼───────┤\n",
       "│ George  │    32 │\n",
       "└─────────┴───────┘"
      ]
     },
     "execution_count": 16,
     "metadata": {},
     "output_type": "execute_result"
    }
   ],
   "source": [
    "duckdb.sql('FROM \"webdav://data1.json\"')"
   ]
  },
  {
   "cell_type": "code",
   "execution_count": 17,
   "metadata": {},
   "outputs": [
    {
     "data": {
      "text/plain": [
       "┌─────────┬───────┐\n",
       "│  name   │  age  │\n",
       "│ varchar │ int64 │\n",
       "├─────────┼───────┤\n",
       "│ George  │    32 │\n",
       "│ Forrest │    50 │\n",
       "└─────────┴───────┘"
      ]
     },
     "execution_count": 17,
     "metadata": {},
     "output_type": "execute_result"
    }
   ],
   "source": [
    "duckdb.sql('FROM \"webdav://*.json\"')"
   ]
  },
  {
   "cell_type": "code",
   "execution_count": 28,
   "metadata": {},
   "outputs": [
    {
     "data": {
      "text/plain": [
       "['data1.json', 'data2.json']"
      ]
     },
     "execution_count": 28,
     "metadata": {},
     "output_type": "execute_result"
    }
   ],
   "source": [
    "fs.ls(\"/\", detail=False)"
   ]
  },
  {
   "cell_type": "code",
   "execution_count": 26,
   "metadata": {},
   "outputs": [
    {
     "data": {
      "text/plain": [
       "['data1.json', 'data2.json']"
      ]
     },
     "execution_count": 26,
     "metadata": {},
     "output_type": "execute_result"
    }
   ],
   "source": [
    "fs.glob(\"*.json\")"
   ]
  },
  {
   "cell_type": "code",
   "execution_count": 29,
   "metadata": {},
   "outputs": [
    {
     "data": {
      "text/plain": [
       "'{\"name\": \"George\", \"age\": 32}\\n'"
      ]
     },
     "execution_count": 29,
     "metadata": {},
     "output_type": "execute_result"
    }
   ],
   "source": [
    "fs.read_text(\"data1.json\")"
   ]
  },
  {
   "cell_type": "code",
   "execution_count": 34,
   "metadata": {},
   "outputs": [
    {
     "data": {
      "text/plain": [
       "['{\"name\": \"George\", \"age\": 32}\\n', '{\"name\": \"Forrest\", \"age\": 50}']"
      ]
     },
     "execution_count": 34,
     "metadata": {},
     "output_type": "execute_result"
    }
   ],
   "source": [
    "datas"
   ]
  },
  {
   "cell_type": "code",
   "execution_count": 40,
   "metadata": {},
   "outputs": [
    {
     "data": {
      "text/html": [
       "<div>\n",
       "<style scoped>\n",
       "    .dataframe tbody tr th:only-of-type {\n",
       "        vertical-align: middle;\n",
       "    }\n",
       "\n",
       "    .dataframe tbody tr th {\n",
       "        vertical-align: top;\n",
       "    }\n",
       "\n",
       "    .dataframe thead th {\n",
       "        text-align: right;\n",
       "    }\n",
       "</style>\n",
       "<table border=\"1\" class=\"dataframe\">\n",
       "  <thead>\n",
       "    <tr style=\"text-align: right;\">\n",
       "      <th></th>\n",
       "      <th>name</th>\n",
       "      <th>age</th>\n",
       "    </tr>\n",
       "  </thead>\n",
       "  <tbody>\n",
       "    <tr>\n",
       "      <th>0</th>\n",
       "      <td>George</td>\n",
       "      <td>32</td>\n",
       "    </tr>\n",
       "    <tr>\n",
       "      <th>1</th>\n",
       "      <td>Forrest</td>\n",
       "      <td>50</td>\n",
       "    </tr>\n",
       "  </tbody>\n",
       "</table>\n",
       "</div>"
      ],
      "text/plain": [
       "      name  age\n",
       "0   George   32\n",
       "1  Forrest   50"
      ]
     },
     "execution_count": 40,
     "metadata": {},
     "output_type": "execute_result"
    }
   ],
   "source": [
    "datas = [json.loads(fs.read_text(fname)) for fname in fs.glob(\"*.json\")]\n",
    "df = pd.DataFrame(datas)\n",
    "# duckdb.sql(\"FROM df\")\n",
    "df"
   ]
  },
  {
   "cell_type": "code",
   "execution_count": 9,
   "metadata": {},
   "outputs": [],
   "source": [
    "from webdav4.client import Client"
   ]
  },
  {
   "cell_type": "code",
   "execution_count": 10,
   "metadata": {},
   "outputs": [
    {
     "data": {
      "text/plain": [
       "<webdav4.client.Client at 0x1288712fb10>"
      ]
     },
     "execution_count": 10,
     "metadata": {},
     "output_type": "execute_result"
    }
   ],
   "source": [
    "client = Client(\"https://uni-bonn.sciebo.de/public.php/webdav\", auth=(\"Zg5pBvtfasoz9uB\", \"\"))\n",
    "client"
   ]
  },
  {
   "cell_type": "code",
   "execution_count": 7,
   "metadata": {},
   "outputs": [],
   "source": [
    "from webdav4.fsspec import WebdavFileSystem"
   ]
  },
  {
   "cell_type": "code",
   "execution_count": 11,
   "metadata": {},
   "outputs": [
    {
     "data": {
      "text/plain": [
       "<webdav4.fsspec.WebdavFileSystem at 0x1288711bbd0>"
      ]
     },
     "execution_count": 11,
     "metadata": {},
     "output_type": "execute_result"
    }
   ],
   "source": [
    "fs = WebdavFileSystem(\"https://uni-bonn.sciebo.de/public.php/webdav\", auth=(\"Zg5pBvtfasoz9uB\", \"\"))\n",
    "fs"
   ]
  },
  {
   "cell_type": "code",
   "execution_count": 16,
   "metadata": {},
   "outputs": [],
   "source": [
    "fs.download(\"/\", \"./webdav\", recursive=True)"
   ]
  },
  {
   "cell_type": "code",
   "execution_count": 17,
   "metadata": {},
   "outputs": [
    {
     "name": "stdout",
     "output_type": "stream",
     "text": [
      "\u001b[1;31mSignature:\u001b[0m \u001b[0mfs\u001b[0m\u001b[1;33m.\u001b[0m\u001b[0mdownload\u001b[0m\u001b[1;33m(\u001b[0m\u001b[0mrpath\u001b[0m\u001b[1;33m,\u001b[0m \u001b[0mlpath\u001b[0m\u001b[1;33m,\u001b[0m \u001b[0mrecursive\u001b[0m\u001b[1;33m=\u001b[0m\u001b[1;32mFalse\u001b[0m\u001b[1;33m,\u001b[0m \u001b[1;33m**\u001b[0m\u001b[0mkwargs\u001b[0m\u001b[1;33m)\u001b[0m\u001b[1;33m\u001b[0m\u001b[1;33m\u001b[0m\u001b[0m\n",
      "\u001b[1;31mDocstring:\u001b[0m Alias of `AbstractFileSystem.get`.\n",
      "\u001b[1;31mFile:\u001b[0m      c:\\users\\nickdg\\miniconda3\\envs\\duckdb\\lib\\site-packages\\fsspec\\spec.py\n",
      "\u001b[1;31mType:\u001b[0m      method"
     ]
    }
   ],
   "source": [
    "fs.download?"
   ]
  },
  {
   "cell_type": "code",
   "execution_count": 4,
   "metadata": {},
   "outputs": [],
   "source": [
    "# %pip install pyocclient"
   ]
  },
  {
   "cell_type": "code",
   "execution_count": 5,
   "metadata": {},
   "outputs": [],
   "source": [
    "import owncloud"
   ]
  },
  {
   "cell_type": "code",
   "execution_count": 6,
   "metadata": {},
   "outputs": [
    {
     "data": {
      "text/plain": [
       "[File(path=/data1.json,file_type=file,attributes={'{DAV:}getlastmodified': 'Wed, 14 Feb 2024 18:59:35 GMT', '{DAV:}getcontentlength': '30', '{DAV:}resourcetype': None, '{DAV:}getetag': '\"f4b12075861ac116b30978c1977a3648\"', '{DAV:}getcontenttype': 'application/json'}),\n",
       " File(path=/data2.json,file_type=file,attributes={'{DAV:}getlastmodified': 'Wed, 14 Feb 2024 19:03:18 GMT', '{DAV:}getcontentlength': '30', '{DAV:}resourcetype': None, '{DAV:}getetag': '\"e7516f9c3607841daea0b59ea93409cb\"', '{DAV:}getcontenttype': 'application/json'}),\n",
       " File(path=/fold/,file_type=dir,attributes={'{DAV:}getlastmodified': 'Thu, 15 Feb 2024 07:27:53 GMT', '{DAV:}resourcetype': None, '{DAV:}quota-used-bytes': '28', '{DAV:}quota-available-bytes': '8171673147', '{DAV:}getetag': '\"65cdbcf965e3a\"'}),\n",
       " File(path=/fold/data3.json,file_type=file,attributes={'{DAV:}getlastmodified': 'Thu, 15 Feb 2024 07:27:53 GMT', '{DAV:}getcontentlength': '28', '{DAV:}resourcetype': None, '{DAV:}getetag': '\"5213c97191d189de9e70c724a02b634d\"', '{DAV:}getcontenttype': 'application/json'})]"
      ]
     },
     "execution_count": 6,
     "metadata": {},
     "output_type": "execute_result"
    }
   ],
   "source": [
    "client = owncloud.Client.from_public_link(\"https://uni-bonn.sciebo.de/s/Zg5pBvtfasoz9uB\")\n",
    "objs = client.list(\"/\", depth=30)\n",
    "objs\n",
    "# , auth=(\"Zg5pBvtfasoz9uB\", \"\")))"
   ]
  },
  {
   "cell_type": "code",
   "execution_count": null,
   "metadata": {},
   "outputs": [],
   "source": []
  },
  {
   "cell_type": "code",
   "execution_count": 20,
   "metadata": {},
   "outputs": [
    {
     "data": {
      "text/plain": [
       "File(path=/data1.json,file_type=file,attributes={'{DAV:}getlastmodified': 'Wed, 14 Feb 2024 18:59:35 GMT', '{DAV:}getcontentlength': '30', '{DAV:}resourcetype': None, '{DAV:}getetag': '\"f4b12075861ac116b30978c1977a3648\"', '{DAV:}getcontenttype': 'application/json'})"
      ]
     },
     "execution_count": 20,
     "metadata": {},
     "output_type": "execute_result"
    }
   ],
   "source": [
    "obj = objs[0]\n",
    "obj"
   ]
  },
  {
   "cell_type": "code",
   "execution_count": 21,
   "metadata": {},
   "outputs": [
    {
     "data": {
      "text/plain": [
       "'file'"
      ]
     },
     "execution_count": 21,
     "metadata": {},
     "output_type": "execute_result"
    }
   ],
   "source": [
    "obj.file_type"
   ]
  },
  {
   "cell_type": "code",
   "execution_count": 22,
   "metadata": {},
   "outputs": [
    {
     "data": {
      "text/plain": [
       "'data1.json'"
      ]
     },
     "execution_count": 22,
     "metadata": {},
     "output_type": "execute_result"
    }
   ],
   "source": [
    "obj.name"
   ]
  },
  {
   "cell_type": "code",
   "execution_count": 23,
   "metadata": {},
   "outputs": [
    {
     "data": {
      "text/plain": [
       "'/'"
      ]
     },
     "execution_count": 23,
     "metadata": {},
     "output_type": "execute_result"
    }
   ],
   "source": [
    "obj.get_path()"
   ]
  },
  {
   "cell_type": "code",
   "execution_count": 24,
   "metadata": {},
   "outputs": [
    {
     "data": {
      "text/plain": [
       "{'{DAV:}getlastmodified': 'Wed, 14 Feb 2024 18:59:35 GMT',\n",
       " '{DAV:}getcontentlength': '30',\n",
       " '{DAV:}resourcetype': None,\n",
       " '{DAV:}getetag': '\"f4b12075861ac116b30978c1977a3648\"',\n",
       " '{DAV:}getcontenttype': 'application/json'}"
      ]
     },
     "execution_count": 24,
     "metadata": {},
     "output_type": "execute_result"
    }
   ],
   "source": [
    "obj.attributes"
   ]
  },
  {
   "cell_type": "code",
   "execution_count": 45,
   "metadata": {},
   "outputs": [
    {
     "data": {
      "text/plain": [
       "b'{\"name\": \"Bruno\", \"age\": 43}'"
      ]
     },
     "execution_count": 45,
     "metadata": {},
     "output_type": "execute_result"
    }
   ],
   "source": [
    "client.get_file_contents(obj)"
   ]
  },
  {
   "cell_type": "code",
   "execution_count": 32,
   "metadata": {},
   "outputs": [
    {
     "data": {
      "text/plain": [
       "'/data1.json'"
      ]
     },
     "execution_count": 32,
     "metadata": {},
     "output_type": "execute_result"
    }
   ],
   "source": [
    "obj.path"
   ]
  },
  {
   "cell_type": "code",
   "execution_count": 33,
   "metadata": {},
   "outputs": [
    {
     "data": {
      "text/plain": [
       "'file'"
      ]
     },
     "execution_count": 33,
     "metadata": {},
     "output_type": "execute_result"
    }
   ],
   "source": [
    "obj.file_type"
   ]
  },
  {
   "cell_type": "code",
   "execution_count": 47,
   "metadata": {},
   "outputs": [
    {
     "data": {
      "text/html": [
       "<div>\n",
       "<style scoped>\n",
       "    .dataframe tbody tr th:only-of-type {\n",
       "        vertical-align: middle;\n",
       "    }\n",
       "\n",
       "    .dataframe tbody tr th {\n",
       "        vertical-align: top;\n",
       "    }\n",
       "\n",
       "    .dataframe thead th {\n",
       "        text-align: right;\n",
       "    }\n",
       "</style>\n",
       "<table border=\"1\" class=\"dataframe\">\n",
       "  <thead>\n",
       "    <tr style=\"text-align: right;\">\n",
       "      <th></th>\n",
       "      <th>name</th>\n",
       "      <th>age</th>\n",
       "    </tr>\n",
       "  </thead>\n",
       "  <tbody>\n",
       "    <tr>\n",
       "      <th>0</th>\n",
       "      <td>George</td>\n",
       "      <td>32</td>\n",
       "    </tr>\n",
       "    <tr>\n",
       "      <th>1</th>\n",
       "      <td>Forrest</td>\n",
       "      <td>50</td>\n",
       "    </tr>\n",
       "    <tr>\n",
       "      <th>2</th>\n",
       "      <td>Bruno</td>\n",
       "      <td>43</td>\n",
       "    </tr>\n",
       "  </tbody>\n",
       "</table>\n",
       "</div>"
      ],
      "text/plain": [
       "      name  age\n",
       "0   George   32\n",
       "1  Forrest   50\n",
       "2    Bruno   43"
      ]
     },
     "execution_count": 47,
     "metadata": {},
     "output_type": "execute_result"
    }
   ],
   "source": [
    "datas = []\n",
    "for obj in client.list(\"/\", depth=30):\n",
    "    if obj.file_type == \"file\" and obj.path.endswith(\".json\"):\n",
    "        text = client.get_file_contents(obj)\n",
    "        data = json.loads(text)\n",
    "        datas.append(data)\n",
    "\n",
    "pd.DataFrame(datas)\n"
   ]
  },
  {
   "cell_type": "code",
   "execution_count": 38,
   "metadata": {},
   "outputs": [],
   "source": [
    "from duckdb import sql"
   ]
  },
  {
   "cell_type": "code",
   "execution_count": 39,
   "metadata": {},
   "outputs": [],
   "source": [
    "%load_ext sql"
   ]
  },
  {
   "cell_type": "markdown",
   "metadata": {},
   "source": [
    "## SQL FROM Statement to extract all data"
   ]
  },
  {
   "cell_type": "markdown",
   "metadata": {},
   "source": [
    "#### Glob patterns"
   ]
  },
  {
   "cell_type": "code",
   "execution_count": 3,
   "metadata": {},
   "outputs": [
    {
     "name": "stderr",
     "output_type": "stream",
     "text": [
      "UsageError: Cell magic `%%sql` not found.\n"
     ]
    }
   ],
   "source": [
    "%%sql"
   ]
  },
  {
   "cell_type": "markdown",
   "metadata": {},
   "source": [
    "#### Include Filenames"
   ]
  },
  {
   "cell_type": "code",
   "execution_count": 3,
   "metadata": {},
   "outputs": [
    {
     "data": {
      "text/plain": [
       "┌───────────┬───────┬────────────────┬──────────────────────────────┬───────────┐\n",
       "│  author   │  age  │      job       │           filename           │   sess    │\n",
       "│  varchar  │ int64 │    varchar     │           varchar            │  varchar  │\n",
       "├───────────┼───────┼────────────────┼──────────────────────────────┼───────────┤\n",
       "│ Sangeetha │ 30000 │ animal trainer │ data3\\sess=afternoon\\bb.json │ afternoon │\n",
       "│ Nick      │  1003 │ NULL           │ data3\\sess=morning\\aa.json   │ morning   │\n",
       "└───────────┴───────┴────────────────┴──────────────────────────────┴───────────┘"
      ]
     },
     "execution_count": 3,
     "metadata": {},
     "output_type": "execute_result"
    }
   ],
   "source": [
    "sql('FROM read_json_auto(\"data3/**/*.json\", filename=true, hive_partitioning=true)')"
   ]
  },
  {
   "cell_type": "markdown",
   "metadata": {},
   "source": [
    "## SQL SELECT to select and rename columns"
   ]
  },
  {
   "cell_type": "code",
   "execution_count": 24,
   "metadata": {},
   "outputs": [
    {
     "data": {
      "text/plain": [
       "┌───────────┬────────────────┐\n",
       "│  author   │      job       │\n",
       "│  varchar  │    varchar     │\n",
       "├───────────┼────────────────┤\n",
       "│ Sangeetha │ animal trainer │\n",
       "│ Nick      │ NULL           │\n",
       "└───────────┴────────────────┘"
      ]
     },
     "execution_count": 24,
     "metadata": {},
     "output_type": "execute_result"
    }
   ],
   "source": [
    "sql('SELECT author, job FROM \"data3/**/*.json\"')"
   ]
  },
  {
   "cell_type": "markdown",
   "metadata": {},
   "source": [
    "## SQL WHERE for Filtering"
   ]
  },
  {
   "cell_type": "code",
   "execution_count": 27,
   "metadata": {},
   "outputs": [
    {
     "data": {
      "text/plain": [
       "┌─────────┬───────┬─────────┬─────────┐\n",
       "│ author  │  age  │   job   │  sess   │\n",
       "│ varchar │ int64 │ varchar │ varchar │\n",
       "├─────────┼───────┼─────────┼─────────┤\n",
       "│ Nick    │  1003 │ NULL    │ morning │\n",
       "└─────────┴───────┴─────────┴─────────┘"
      ]
     },
     "execution_count": 27,
     "metadata": {},
     "output_type": "execute_result"
    }
   ],
   "source": [
    "sql(\"FROM 'data3/**/*.json' WHERE sess='morning'\")"
   ]
  },
  {
   "cell_type": "markdown",
   "metadata": {},
   "source": [
    "## SQL ORDER BY and LIMIT"
   ]
  },
  {
   "cell_type": "code",
   "execution_count": 30,
   "metadata": {},
   "outputs": [
    {
     "data": {
      "text/plain": [
       "┌───────────┬───────┬────────────────┬───────────┐\n",
       "│  author   │  age  │      job       │   sess    │\n",
       "│  varchar  │ int64 │    varchar     │  varchar  │\n",
       "├───────────┼───────┼────────────────┼───────────┤\n",
       "│ Sangeetha │ 30000 │ animal trainer │ afternoon │\n",
       "└───────────┴───────┴────────────────┴───────────┘"
      ]
     },
     "execution_count": 30,
     "metadata": {},
     "output_type": "execute_result"
    }
   ],
   "source": [
    "sql(\"FROM 'data3/**/*.json' LIMIT 1\")"
   ]
  },
  {
   "cell_type": "code",
   "execution_count": null,
   "metadata": {},
   "outputs": [],
   "source": []
  },
  {
   "cell_type": "code",
   "execution_count": 32,
   "metadata": {},
   "outputs": [
    {
     "data": {
      "text/plain": [
       "┌───────────┬───────┬────────────────┬───────────┐\n",
       "│  author   │  age  │      job       │   sess    │\n",
       "│  varchar  │ int64 │    varchar     │  varchar  │\n",
       "├───────────┼───────┼────────────────┼───────────┤\n",
       "│ Nick      │  1003 │ NULL           │ morning   │\n",
       "│ Sangeetha │ 30000 │ animal trainer │ afternoon │\n",
       "└───────────┴───────┴────────────────┴───────────┘"
      ]
     },
     "execution_count": 32,
     "metadata": {},
     "output_type": "execute_result"
    }
   ],
   "source": [
    "sql(\"FROM 'data3/**/*.json' ORDER BY age\")"
   ]
  },
  {
   "cell_type": "markdown",
   "metadata": {},
   "source": [
    "## (extra)  SQL GROUP BY for basic Session Reporting"
   ]
  },
  {
   "cell_type": "markdown",
   "metadata": {},
   "source": []
  },
  {
   "cell_type": "code",
   "execution_count": 3,
   "metadata": {},
   "outputs": [
    {
     "data": {
      "text/plain": [
       "┌───────────┬───────┬──────────┐\n",
       "│   sess    │ total │ max(age) │\n",
       "│  varchar  │ int64 │  int64   │\n",
       "├───────────┼───────┼──────────┤\n",
       "│ afternoon │     1 │    30000 │\n",
       "│ morning   │     1 │     1003 │\n",
       "└───────────┴───────┴──────────┘"
      ]
     },
     "execution_count": 3,
     "metadata": {},
     "output_type": "execute_result"
    }
   ],
   "source": [
    "sql(\"SELECT sess, count(*) as total, max(age) FROM 'data3/**/*.json' GROUP BY sess\")"
   ]
  },
  {
   "cell_type": "code",
   "execution_count": 5,
   "metadata": {},
   "outputs": [
    {
     "data": {
      "text/html": [
       "<div>\n",
       "<style scoped>\n",
       "    .dataframe tbody tr th:only-of-type {\n",
       "        vertical-align: middle;\n",
       "    }\n",
       "\n",
       "    .dataframe tbody tr th {\n",
       "        vertical-align: top;\n",
       "    }\n",
       "\n",
       "    .dataframe thead th {\n",
       "        text-align: right;\n",
       "    }\n",
       "</style>\n",
       "<table border=\"1\" class=\"dataframe\">\n",
       "  <thead>\n",
       "    <tr style=\"text-align: right;\">\n",
       "      <th></th>\n",
       "      <th>sess</th>\n",
       "      <th>total</th>\n",
       "      <th>max(age)</th>\n",
       "    </tr>\n",
       "  </thead>\n",
       "  <tbody>\n",
       "    <tr>\n",
       "      <th>0</th>\n",
       "      <td>afternoon</td>\n",
       "      <td>1</td>\n",
       "      <td>30000</td>\n",
       "    </tr>\n",
       "    <tr>\n",
       "      <th>1</th>\n",
       "      <td>morning</td>\n",
       "      <td>1</td>\n",
       "      <td>1003</td>\n",
       "    </tr>\n",
       "  </tbody>\n",
       "</table>\n",
       "</div>"
      ],
      "text/plain": [
       "        sess  total  max(age)\n",
       "0  afternoon      1     30000\n",
       "1    morning      1      1003"
      ]
     },
     "execution_count": 5,
     "metadata": {},
     "output_type": "execute_result"
    }
   ],
   "source": [
    "df = sql(\"SELECT sess, count(*) as total, max(age) FROM 'data3/**/*.json' GROUP BY sess\").to_df()\n",
    "df"
   ]
  },
  {
   "cell_type": "markdown",
   "metadata": {},
   "source": [
    "## Describing Data Location in Session Tabel"
   ]
  },
  {
   "cell_type": "code",
   "execution_count": 155,
   "metadata": {},
   "outputs": [
    {
     "data": {
      "text/plain": [
       "┌──────────────────────┬───────────┐\n",
       "│         path         │ spikefile │\n",
       "│       varchar        │  varchar  │\n",
       "├──────────────────────┼───────────┤\n",
       "│ data3\\sess=afternoon │ spikes.h5 │\n",
       "│ data3\\sess=morning   │ spikes.h5 │\n",
       "└──────────────────────┴───────────┘"
      ]
     },
     "execution_count": 155,
     "metadata": {},
     "output_type": "execute_result"
    }
   ],
   "source": [
    "sql(\n",
    "r\"\"\"\n",
    "SELECT \n",
    "    -- *, \n",
    "    -- strlen(filename), \n",
    "    parse_dirpath(filename, '/') as path,\n",
    "    'spikes.h5' as spikefile,\n",
    "    FROM read_json_auto('data3/**/*.json', filename=true)\n",
    "\"\"\")"
   ]
  },
  {
   "cell_type": "code",
   "execution_count": 193,
   "metadata": {},
   "outputs": [
    {
     "data": {
      "text/plain": [
       "┌──────────────┬───────────┬───────┬────────────────┬───────────┐\n",
       "│ session_path │  author   │  age  │      job       │     s     │\n",
       "│   varchar    │  varchar  │ int64 │    varchar     │  varchar  │\n",
       "├──────────────┼───────────┼───────┼────────────────┼───────────┤\n",
       "│ data4\\s1     │ Sangeetha │ 30000 │ animal trainer │ spikes.h5 │\n",
       "│ data4\\s2     │ Nick      │  1003 │ NULL           │ spikes.h5 │\n",
       "└──────────────┴───────────┴───────┴────────────────┴───────────┘"
      ]
     },
     "execution_count": 193,
     "metadata": {},
     "output_type": "execute_result"
    }
   ],
   "source": [
    "sql(\n",
    "\"\"\"\n",
    "SELECT\n",
    "  parse_dirpath(filename) AS session_path,\n",
    "  * EXCLUDE(filename),\n",
    "  'spikes.h5' as s,\n",
    "FROM read_json(\"data4/**/*.json\", filename=true)\n",
    "\"\"\"\n",
    ")"
   ]
  },
  {
   "cell_type": "markdown",
   "metadata": {},
   "source": [
    "## Pivoting Data"
   ]
  },
  {
   "cell_type": "code",
   "execution_count": 154,
   "metadata": {},
   "outputs": [
    {
     "data": {
      "text/html": [
       "<div>\n",
       "<style scoped>\n",
       "    .dataframe tbody tr th:only-of-type {\n",
       "        vertical-align: middle;\n",
       "    }\n",
       "\n",
       "    .dataframe tbody tr th {\n",
       "        vertical-align: top;\n",
       "    }\n",
       "\n",
       "    .dataframe thead th {\n",
       "        text-align: right;\n",
       "    }\n",
       "</style>\n",
       "<table border=\"1\" class=\"dataframe\">\n",
       "  <thead>\n",
       "    <tr style=\"text-align: right;\">\n",
       "      <th></th>\n",
       "      <th>path</th>\n",
       "      <th>session_id</th>\n",
       "      <th>behav.mov</th>\n",
       "      <th>session.json</th>\n",
       "      <th>spikes.h5</th>\n",
       "    </tr>\n",
       "  </thead>\n",
       "  <tbody>\n",
       "    <tr>\n",
       "      <th>0</th>\n",
       "      <td>data4\\s1</td>\n",
       "      <td>s1</td>\n",
       "      <td>0</td>\n",
       "      <td>1</td>\n",
       "      <td>1</td>\n",
       "    </tr>\n",
       "    <tr>\n",
       "      <th>1</th>\n",
       "      <td>data4\\s2</td>\n",
       "      <td>s2</td>\n",
       "      <td>1</td>\n",
       "      <td>1</td>\n",
       "      <td>1</td>\n",
       "    </tr>\n",
       "  </tbody>\n",
       "</table>\n",
       "</div>"
      ],
      "text/plain": [
       "       path session_id  behav.mov  session.json  spikes.h5\n",
       "0  data4\\s1         s1          0             1          1\n",
       "1  data4\\s2         s2          1             1          1"
      ]
     },
     "execution_count": 154,
     "metadata": {},
     "output_type": "execute_result"
    }
   ],
   "source": [
    "def get_file_table(path):\n",
    "    return sql(\n",
    "        f\"\"\"\n",
    "        PIVOT (\n",
    "            SELECT\n",
    "                parse_dirpath(file) as path,\n",
    "                parse_filename(path) as session_id,\n",
    "                parse_filename(file) as filename,\n",
    "            FROM glob('{path}/**')\n",
    "        )\n",
    "        ON filename;\n",
    "        \"\"\" \n",
    "    ).to_df()\n",
    "\n",
    "get_file_table(\"data4\")"
   ]
  },
  {
   "cell_type": "code",
   "execution_count": 114,
   "metadata": {},
   "outputs": [],
   "source": [
    "from pathlib import Path"
   ]
  },
  {
   "cell_type": "code",
   "execution_count": null,
   "metadata": {},
   "outputs": [],
   "source": []
  },
  {
   "cell_type": "code",
   "execution_count": 146,
   "metadata": {},
   "outputs": [
    {
     "data": {
      "text/html": [
       "<div>\n",
       "<style scoped>\n",
       "    .dataframe tbody tr th:only-of-type {\n",
       "        vertical-align: middle;\n",
       "    }\n",
       "\n",
       "    .dataframe tbody tr th {\n",
       "        vertical-align: top;\n",
       "    }\n",
       "\n",
       "    .dataframe thead th {\n",
       "        text-align: right;\n",
       "    }\n",
       "</style>\n",
       "<table border=\"1\" class=\"dataframe\">\n",
       "  <thead>\n",
       "    <tr style=\"text-align: right;\">\n",
       "      <th>file</th>\n",
       "      <th>session_id</th>\n",
       "      <th>path</th>\n",
       "      <th>behav.mov</th>\n",
       "      <th>session.json</th>\n",
       "      <th>spikes.h5</th>\n",
       "    </tr>\n",
       "  </thead>\n",
       "  <tbody>\n",
       "    <tr>\n",
       "      <th>0</th>\n",
       "      <td>s1</td>\n",
       "      <td>data4\\s1</td>\n",
       "      <td>0</td>\n",
       "      <td>1</td>\n",
       "      <td>1</td>\n",
       "    </tr>\n",
       "    <tr>\n",
       "      <th>1</th>\n",
       "      <td>s2</td>\n",
       "      <td>data4\\s2</td>\n",
       "      <td>1</td>\n",
       "      <td>1</td>\n",
       "      <td>1</td>\n",
       "    </tr>\n",
       "  </tbody>\n",
       "</table>\n",
       "</div>"
      ],
      "text/plain": [
       "file session_id      path  behav.mov  session.json  spikes.h5\n",
       "0            s1  data4\\s1          0             1          1\n",
       "1            s2  data4\\s2          1             1          1"
      ]
     },
     "execution_count": 146,
     "metadata": {},
     "output_type": "execute_result"
    }
   ],
   "source": [
    "import pandas as pd\n",
    "from glob import glob\n",
    "\n",
    "df = pd.DataFrame(data=glob(\"data4/**/*\"), columns=['file'])\n",
    "df['path'] = df['file'].apply(lambda x: Path(x).parent)\n",
    "df['file'] = df['file'].apply(lambda x: Path(x).name)\n",
    "df['session_id'] = df['path'].apply(lambda x: Path(x).name)\n",
    "df = df[['session_id', 'path', 'file']]\n",
    "\n",
    "pd.crosstab([df.session_id, df.path], df.file).reset_index()"
   ]
  },
  {
   "cell_type": "code",
   "execution_count": 72,
   "metadata": {},
   "outputs": [
    {
     "data": {
      "text/plain": [
       "┌──────────┬────────────┬──────────────┬───────────┐\n",
       "│   path   │ session_id │ session.json │ spikes.h5 │\n",
       "│ varchar  │  varchar   │   varchar    │  varchar  │\n",
       "├──────────┼────────────┼──────────────┼───────────┤\n",
       "│ data4\\s1 │ s1         │ session.json │ spikes.h5 │\n",
       "│ data4\\s2 │ s2         │ session.json │ spikes.h5 │\n",
       "└──────────┴────────────┴──────────────┴───────────┘"
      ]
     },
     "execution_count": 72,
     "metadata": {},
     "output_type": "execute_result"
    }
   ],
   "source": []
  }
 ],
 "metadata": {
  "kernelspec": {
   "display_name": "duckdb",
   "language": "python",
   "name": "python3"
  },
  "language_info": {
   "codemirror_mode": {
    "name": "ipython",
    "version": 3
   },
   "file_extension": ".py",
   "mimetype": "text/x-python",
   "name": "python",
   "nbconvert_exporter": "python",
   "pygments_lexer": "ipython3",
   "version": "3.11.7"
  }
 },
 "nbformat": 4,
 "nbformat_minor": 2
}
