{
 "cells": [
  {
   "cell_type": "markdown",
   "id": "6c52f3a3-0520-437d-bca1-0330ffbddab0",
   "metadata": {},
   "source": [
    "## Activity trace analyses"
   ]
  },
  {
   "cell_type": "markdown",
   "id": "a403b321-a5f6-415c-911a-7ed072991e67",
   "metadata": {},
   "source": [
    "pandas rolling and sampling"
   ]
  },
  {
   "cell_type": "code",
   "execution_count": null,
   "id": "029cd628-4452-43b2-b314-2476c5748178",
   "metadata": {},
   "outputs": [],
   "source": []
  },
  {
   "cell_type": "markdown",
   "id": "25c34753-763b-4548-8487-512b4b15387a",
   "metadata": {},
   "source": [
    "##### Compute the correlation between the activity of two neurons across all trials"
   ]
  },
  {
   "cell_type": "code",
   "execution_count": null,
   "id": "20be8d1a-1888-43ac-bee2-ed86c0b0bd7c",
   "metadata": {},
   "outputs": [],
   "source": []
  },
  {
   "cell_type": "markdown",
   "id": "da50bd98-5a46-420a-8971-14d6acccf609",
   "metadata": {},
   "source": [
    "##### Are the neurons more correlated with the neurons within the same area? Answer this question with a plot."
   ]
  },
  {
   "cell_type": "code",
   "execution_count": null,
   "id": "f3049c15-44b8-414e-830a-500de38e958b",
   "metadata": {},
   "outputs": [],
   "source": []
  }
 ],
 "metadata": {
  "kernelspec": {
   "display_name": "Python 3 (ipykernel)",
   "language": "python",
   "name": "python3"
  },
  "language_info": {
   "codemirror_mode": {
    "name": "ipython",
    "version": 3
   },
   "file_extension": ".py",
   "mimetype": "text/x-python",
   "name": "python",
   "nbconvert_exporter": "python",
   "pygments_lexer": "ipython3",
   "version": "3.10.9"
  }
 },
 "nbformat": 4,
 "nbformat_minor": 5
}
