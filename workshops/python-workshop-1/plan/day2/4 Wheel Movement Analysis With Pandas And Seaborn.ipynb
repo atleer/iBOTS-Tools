{
 "cells": [
  {
   "cell_type": "markdown",
   "id": "94c6bd63-85a5-4fbf-82d7-b045c1f69cde",
   "metadata": {},
   "source": [
    "# Wheel Moving Analysis with Pandas and Seaborn\n",
    "\n",
    "\n",
    "In this set of exercises we will analyse trial-level time series data using Pandas Dataframes and the seaborn plotting library. \n",
    "\n",
    "In the experiment, a mouse sits at a steering wheel and is able to freely turn the wheel (or not as they sometimes do). During a trial, the animal has a given amount of time in which to turn the wheel and the turning speed is recorded. Here, we will visualise and analyse this data.\n",
    "\n",
    "We will cover\n",
    "* Dataframe indexes and manipulation\n",
    "* Making lineplots\n",
    "* Data analysis with metrics\n",
    "* Reporting quantitative results with print statements"
   ]
  },
  {
   "cell_type": "code",
   "execution_count": null,
   "id": "6e0baf85-6fd4-4b1b-bbab-f45b062819b3",
   "metadata": {},
   "outputs": [],
   "source": [
    "import xarray as xr\n",
    "import pandas as pd\n",
    "import numpy as np\n",
    "import seaborn as sns\n",
    "import matplotlib.pyplot as plt\n",
    "from matplotlib.colors import LogNorm"
   ]
  },
  {
   "cell_type": "markdown",
   "id": "353b614e-8178-43ef-bbff-b38b213c8a8e",
   "metadata": {},
   "source": [
    "## Making Analysis Easy: Extracting Data from XArray Datasets into Pandas DataFrames\n",
    "\n",
    "We load the data from the experiment into an xarray Dataset. However this is not the only Python type than can hold the data. You will find different types better for working with different kinds of data. A real-world example is that a bottle is perfect for carrying water, but not ideal for carrying apples! The same is true for data, with different Python types having different properties and ways of working with them.  \n",
    "\n",
    "This section is focussed on moving data from one type to another. \n",
    "\n",
    "We will convert an xarray Dataset into a pandas DataFrame. Pandas DataFrames are powerful data structures that allow for smooth analysis of complex datasets. You can think of them like tables with rows and columns, but they can do much more than tables. Every DataFrame has an index which is used to access rows of the DataFrame. We will explore different indexing methods and see how to change between several types.\n",
    "\n",
    "\n",
    "**Libraries Used:**\n",
    "\n",
    "- **xarray:** \n",
    "  - `xr.load_dataset()`: Loads a dataset from a specified file path using the xarray library. It facilitates data manipulation and analysis of multi-dimensional arrays.\n",
    "  - `to_dataframe()`: Converts the loaded xarray dataset into a Pandas DataFrame for easier data manipulation and analysis.\n",
    " \n",
    "- **Pandas:**\n",
    "    - `df.reset_index()`: reset the index of a dataframe\n",
    "    - `df.set_index(new_index)`: set the index of a dataframe to `new_index`\n",
    "    - `df.unstack()`: changes one set of index labels into column labels\n",
    "    - `df.stack()`: stacks column labels into index labels\n",
    "\n",
    "\n",
    "**Example exercise**\n",
    "This is an example of how to convert an xarray Dataset to a pandas DataFrame, reset and change the indices and convert the dataframe to a wide format.\n",
    " \n",
    "```\n",
    "import xarray as xr # import packages\n",
    "import pandas as pd\n",
    "dataset = xr.load_dataset('datafile.nc') # load datafile into xarray Dataset\n",
    "df = dataset['data_column_name'].to_dataframe() # convert to a pandas DataFrame\n",
    "df_with_reset_index = df.reset_index() # reset index\n",
    "df_with_new_indices = df_with_reset_index.set_index(['index1', 'index2']) # set new indices\n",
    "df_wide = df_with_new_indices.unstack() # convert to wide format dataframe\n",
    "df_wide.stack().reset_index() # convert back to initial format, ie. undo unstack\n",
    "```"
   ]
  },
  {
   "cell_type": "code",
   "execution_count": null,
   "id": "d28747fb-cef8-4f98-9765-37067c0ed2d9",
   "metadata": {
    "scrolled": true
   },
   "outputs": [],
   "source": [
    "dataset = xr.load_dataset('/home/ben/ibots/workshop_data/steinmetz_mouse/convert_steinmetz_dataset/data/processed/neuropixels/steinmetz_2016-12-14_Cori.nc')\n",
    "dataset = dataset.where(dataset.active_trials==1 , drop=True)\n",
    "dataset"
   ]
  },
  {
   "cell_type": "markdown",
   "id": "a29b76f9-1f28-420f-acc9-84e9d8303b12",
   "metadata": {},
   "source": [
    "**Exercises**"
   ]
  },
  {
   "cell_type": "markdown",
   "id": "f75a1b5f-69fa-4438-8255-27bbc2ea847e",
   "metadata": {},
   "source": [
    "**Example**: What Python type is `dataset`?"
   ]
  },
  {
   "cell_type": "code",
   "execution_count": null,
   "id": "4979fd7e-7c28-448d-9214-4684a58c42be",
   "metadata": {},
   "outputs": [],
   "source": [
    "type(dataset)"
   ]
  },
  {
   "cell_type": "markdown",
   "id": "527367f5-6521-4ada-8a98-fbcf70ebb4bb",
   "metadata": {},
   "source": [
    "What Python type is `dataset['mouse']`?"
   ]
  },
  {
   "cell_type": "code",
   "execution_count": null,
   "id": "8eb0f931-87dc-4f93-a8e5-9c39294b71fa",
   "metadata": {},
   "outputs": [],
   "source": []
  },
  {
   "cell_type": "markdown",
   "id": "2bb88e55-7e53-497c-b1fb-5ca2a2578328",
   "metadata": {},
   "source": [
    "What Python type is `dataset.attrs`"
   ]
  },
  {
   "cell_type": "code",
   "execution_count": null,
   "id": "153a8c60-928d-4a9b-b44c-614aa5e8beb6",
   "metadata": {},
   "outputs": [],
   "source": []
  },
  {
   "cell_type": "markdown",
   "id": "01e1c898-dee8-45e4-a9d9-fb739317aae5",
   "metadata": {},
   "source": [
    "Let's access the the `response_time` data of `dataset` and name it `response_time_data` "
   ]
  },
  {
   "cell_type": "code",
   "execution_count": null,
   "id": "e3f54188-bf82-4d01-a1fd-a77a5585eaa2",
   "metadata": {},
   "outputs": [],
   "source": []
  },
  {
   "cell_type": "markdown",
   "id": "48dd4056-5233-4503-8c7b-22a5bb4c5403",
   "metadata": {},
   "source": [
    "`response_time_data` can be viewed by writing `response_time_data` on a single line like this"
   ]
  },
  {
   "cell_type": "code",
   "execution_count": null,
   "id": "60f71972-8b7e-41ca-909c-af5aa2db5541",
   "metadata": {},
   "outputs": [],
   "source": []
  },
  {
   "cell_type": "markdown",
   "id": "3c31e8ec-e342-4e9e-bfa9-258cc4c28b43",
   "metadata": {},
   "source": [
    "Let's convert the DataArray `response_time_data` into a pandas DataFrame with the `.to_dataframe()` method. \n",
    "\n",
    "Call the dataframe `response_time_data_df` and display it"
   ]
  },
  {
   "cell_type": "code",
   "execution_count": null,
   "id": "a6737d78-29b9-4363-9929-522f731897a5",
   "metadata": {},
   "outputs": [],
   "source": []
  },
  {
   "cell_type": "markdown",
   "id": "eb7a0028-f7e3-4fa7-acbc-3d1cadaf42e9",
   "metadata": {},
   "source": [
    "What is the type of `response_time_data_df`?"
   ]
  },
  {
   "cell_type": "code",
   "execution_count": null,
   "id": "0abfa19c-11f6-458d-ab84-5db581ef2c7f",
   "metadata": {},
   "outputs": [],
   "source": []
  },
  {
   "cell_type": "markdown",
   "id": "44e3030d-bdeb-4b12-b232-59714f726a1d",
   "metadata": {},
   "source": [
    "Create a DataFrame named `wheel_df` containing the `wheel` data from `dataset`"
   ]
  },
  {
   "cell_type": "code",
   "execution_count": null,
   "id": "42fad5ce-1525-4b35-bdd4-a6f8a96d1ca1",
   "metadata": {},
   "outputs": [],
   "source": []
  },
  {
   "cell_type": "markdown",
   "id": "2b80c359-23cb-4b73-89ef-1e196f396a64",
   "metadata": {},
   "source": [
    "A DataFrame index is a way of locating rows of data within the DataFrame. \n",
    "\n",
    "The index of dataframe `df` is accessed by `df.index`.\n",
    "\n",
    "What is the Python type of the index of `wheel_df`?"
   ]
  },
  {
   "cell_type": "code",
   "execution_count": null,
   "id": "c2063064-fc09-4df9-afad-bd5da76738c1",
   "metadata": {},
   "outputs": [],
   "source": []
  },
  {
   "cell_type": "markdown",
   "id": "30f05bc5-6b7f-48a7-a6da-f3fde7a251d9",
   "metadata": {},
   "source": [
    "Reset the index of `wheel_df` using `.reset_index()`. Name the result `wheel_df_reset_index` and display it.\n",
    "\n",
    "What are the differences between `wheel_df` and `wheel_df_reset_index`?"
   ]
  },
  {
   "cell_type": "code",
   "execution_count": null,
   "id": "9a5b390a-0007-49ea-bfa7-4c26871ffee2",
   "metadata": {},
   "outputs": [],
   "source": []
  },
  {
   "cell_type": "markdown",
   "id": "0c20fa79-19d7-4861-9e15-6a704906f710",
   "metadata": {},
   "source": [
    "What is the Python type of the index of `wheel_df_reset_index`?"
   ]
  },
  {
   "cell_type": "code",
   "execution_count": null,
   "id": "0edebc78-c552-4a19-8ccc-cb9e665631cf",
   "metadata": {},
   "outputs": [],
   "source": []
  },
  {
   "cell_type": "markdown",
   "id": "20e0242a-880b-40bb-a5f7-368a78945a87",
   "metadata": {},
   "source": [
    "We can choose the index of our DataFrame with the `.set_index(chosen_indices)` method. \n",
    "\n",
    "Set the index of `wheel_df_reset_index` to be `['time', 'trial']`"
   ]
  },
  {
   "cell_type": "code",
   "execution_count": null,
   "id": "7bfe6b22-4cb7-497d-8e51-76469c097c05",
   "metadata": {},
   "outputs": [],
   "source": []
  },
  {
   "cell_type": "markdown",
   "id": "2a295712-5578-4fa0-b3d8-e1187135a4a5",
   "metadata": {},
   "source": [
    "When we take only the column `wheel` of `wheel_df_reset_index.set_index(['time', 'trial'])`, we can perform an `.unstack()` operation. \n",
    "\n",
    "Do this, name the result to `wheel_df_wide` and display it"
   ]
  },
  {
   "cell_type": "code",
   "execution_count": null,
   "id": "add53a98-587d-413a-8d27-317cea2a92ad",
   "metadata": {},
   "outputs": [],
   "source": []
  },
  {
   "cell_type": "markdown",
   "id": "9d362108-a64e-4e21-a0c6-208ba2ba09db",
   "metadata": {},
   "source": [
    "Each cell of `wheel_df_wide` contains a single value, where the trial is given by the column and the time by the row. \n",
    "\n",
    "This is a different way of storing the data from `wheel_df`.\n",
    "\n",
    "Reverse this change by doing a `.stack()` operation and reseting the index."
   ]
  },
  {
   "cell_type": "code",
   "execution_count": null,
   "id": "3d93a359-5d21-48fa-aa4f-7e9949fd9136",
   "metadata": {},
   "outputs": [],
   "source": []
  },
  {
   "cell_type": "markdown",
   "id": "3ad73fe1-dcc9-4ea2-abfc-c90043e38e38",
   "metadata": {},
   "source": [
    "## Making Pictures from Data: Visualisation with seaborn\n",
    "\n",
    "A picture paints a thousand words - especially so when your language is data! \n",
    "\n",
    "In this section we will use the seaborn plotting library to make lineplots. Seaborn is a plotting library designed to work with pandas DataFrames. It produces informative and good-looking plots with a minimum of code.   \n",
    "\n",
    "The experimental data is split into trials, where a subject has a fixed amount of time to turn a steering wheel. The data contains the turning speed of the wheel. A positive turning speed means that the wheel is being moved to the right, while a negative speed tells us the wheel is being moved to the left. When the wheel is not being moved at all, the turning speed is zero.\n",
    "\n",
    "The `wheel` data in our files is the turning speed of the steering wheel throughout each trial. \n",
    "\n",
    "Let's visualise this data using line plots.\n",
    "\n",
    "**Libraries Used:**\n",
    "- **Pandas:**\n",
    "    - `df['column_name']`: accessing individual columns\n",
    "- **seaborn:**  \n",
    "  - `sns.lineplot(data)`: Plot a data as a line on the current axes.\n",
    "  - `sns.lineplot(data, label='my_label')` : Show a legend label associated with data\n",
    "  - `sns.lineplot(data, color='blue')` : Plot a line in blue\n",
    "  - `sns.lineplot(data, linestyle='dotted')`: Plot a dotted line\n",
    " \n",
    "\n",
    "**Example exercise**\n",
    "This is an example of how to select columns from a dataframe and plot that data with a legend.\n",
    " \n",
    "```\n",
    "import seaborn as sns # import the plotting library\n",
    "selected_data = df[['column1', 'column2']] # select columns from a dataframe\n",
    "sns.lineplot(selected_data, label=['column1','column2']) # make a line plot\n",
    "sns.lineplot(data, label='data_label', color='my_color', linestyle='linestyle') # plot another line with a chosen color (eg. black, blue, green, red, ...) and linestyle (options are 'solid', 'dotted', 'dashed', 'dashdot')\n",
    "```"
   ]
  },
  {
   "cell_type": "markdown",
   "id": "d2f29b8e-f62f-4565-b981-d0dcd1ac1e3d",
   "metadata": {},
   "source": [
    "Make a pandas dataframe with the wheel turning speed data"
   ]
  },
  {
   "cell_type": "code",
   "execution_count": null,
   "id": "8d14abfd-6667-4321-a7c1-f80e41fc3aa4",
   "metadata": {},
   "outputs": [],
   "source": []
  },
  {
   "cell_type": "markdown",
   "id": "2d45113c-b2af-43e5-a19d-283a4f27b121",
   "metadata": {},
   "source": [
    "**Exercises**"
   ]
  },
  {
   "cell_type": "markdown",
   "id": "b74392f1-aadc-4bed-9264-fd25921d1b67",
   "metadata": {},
   "source": [
    "Select the wheel speed data of a single trial and name it `selected_data`"
   ]
  },
  {
   "cell_type": "code",
   "execution_count": null,
   "id": "b66e758c-2bb3-4da9-9f7c-0519866b7ae0",
   "metadata": {},
   "outputs": [],
   "source": []
  },
  {
   "cell_type": "markdown",
   "id": "dfbb8c74-b137-4923-8175-52b187fac62e",
   "metadata": {},
   "source": [
    "Plot the wheel speed against time for the single selected trial. "
   ]
  },
  {
   "cell_type": "code",
   "execution_count": null,
   "id": "4f0942b9-99db-42a3-80ff-38d8a97528c5",
   "metadata": {},
   "outputs": [],
   "source": []
  },
  {
   "cell_type": "markdown",
   "id": "591d0d81-8f6e-4a4b-8a87-11c9b37eeb53",
   "metadata": {},
   "source": [
    "Plot wheel speed against time for 3 trials of your choice"
   ]
  },
  {
   "cell_type": "code",
   "execution_count": null,
   "id": "f65a06bb-088a-49d3-ba0f-b1feb615394f",
   "metadata": {},
   "outputs": [],
   "source": []
  },
  {
   "cell_type": "markdown",
   "id": "a6a97d34-73b7-4577-97d4-e635474b6e7d",
   "metadata": {},
   "source": [
    "Make a plot showing two trials of your choice where one trial is shown as a dotted line"
   ]
  },
  {
   "cell_type": "code",
   "execution_count": null,
   "id": "2153f6c1-f71f-4590-8475-8d3b2ed46f3f",
   "metadata": {},
   "outputs": [],
   "source": []
  },
  {
   "cell_type": "markdown",
   "id": "82bdc660-1d88-4915-978b-89435aac178a",
   "metadata": {},
   "source": [
    "Recreate the plot above, this time adding a legend to the plot"
   ]
  },
  {
   "cell_type": "code",
   "execution_count": null,
   "id": "36769cff-4204-4553-be4e-7edb477a461c",
   "metadata": {},
   "outputs": [],
   "source": []
  },
  {
   "cell_type": "markdown",
   "id": "80c00489-bb76-4e15-86ff-c0444ab08e1a",
   "metadata": {},
   "source": [
    "Plot three trials, where each trial has the same line color but a different linestyle"
   ]
  },
  {
   "cell_type": "code",
   "execution_count": null,
   "id": "b931b23b-171d-457e-b10d-d19aa86de110",
   "metadata": {},
   "outputs": [],
   "source": []
  },
  {
   "cell_type": "markdown",
   "id": "6732adba-cf1d-4308-b910-2ce1306e73fc",
   "metadata": {},
   "source": [
    "Plot three trials, where each trial has a different line color but the same linestyle"
   ]
  },
  {
   "cell_type": "code",
   "execution_count": null,
   "id": "327d17db-c651-44cc-b7e1-1696dae7a4ff",
   "metadata": {},
   "outputs": [],
   "source": []
  },
  {
   "cell_type": "markdown",
   "id": "b9e40f9b-13b1-497b-a1e8-730f64b5106c",
   "metadata": {},
   "source": [
    "Make a plot that shows the wheel speeds for all trials. Hint - pass the argument `legend=None` to `lineplot` to hide the legend."
   ]
  },
  {
   "cell_type": "code",
   "execution_count": null,
   "id": "88a9df11-5b17-492b-af17-6d79dbfe71ab",
   "metadata": {},
   "outputs": [],
   "source": []
  },
  {
   "cell_type": "markdown",
   "id": "7d0de983-39c5-434c-b5f0-9c0737084b72",
   "metadata": {},
   "source": [
    "Remake the above plot changing the opacity of the lines. Hint - pass the argument `alpha` to `lineplot`. `alpha` takes a value between 0 and 1. "
   ]
  },
  {
   "cell_type": "code",
   "execution_count": null,
   "id": "d0e19a8f-dce6-4d72-bb71-92fd8bb1910d",
   "metadata": {},
   "outputs": [],
   "source": []
  },
  {
   "cell_type": "markdown",
   "id": "81f7aeb3-081f-4564-9213-cc831aac411f",
   "metadata": {},
   "source": [
    "Experiment with the `alpha` value to find which best displays the lines"
   ]
  },
  {
   "cell_type": "code",
   "execution_count": null,
   "id": "e34251d4-7407-4c43-84ed-c028f5cf0f0d",
   "metadata": {},
   "outputs": [],
   "source": []
  },
  {
   "cell_type": "markdown",
   "id": "cff7f3e4-ed8a-4b7c-8640-4b2c493b54c3",
   "metadata": {},
   "source": [
    "**BONUS** This looks overplotted! Instead we can make a heatmap, which shows how many datapoints are in a region of the plot.\n",
    "\n",
    "Pandas and seaborn give us all the tools we need for this. The following cell plots a heatmap"
   ]
  },
  {
   "cell_type": "code",
   "execution_count": null,
   "id": "1a16bb7f-dda4-4b0d-9db4-ed6a0ff092fa",
   "metadata": {},
   "outputs": [],
   "source": []
  },
  {
   "cell_type": "markdown",
   "id": "6eec78bf-d383-4fba-8e27-f3b9b7032d23",
   "metadata": {},
   "source": [
    "What happens when you change the values of the time bins to be ten times wider?\n"
   ]
  },
  {
   "cell_type": "code",
   "execution_count": null,
   "id": "0f7cea48-a57f-4be1-aace-076b043a7107",
   "metadata": {},
   "outputs": [],
   "source": []
  },
  {
   "cell_type": "markdown",
   "id": "4ed9bc8e-528f-4721-b4b4-b3a6a6951760",
   "metadata": {},
   "source": [
    "## Describing Data with Metrics: Determining Turning Direction\n",
    "\n",
    "Data analysis is all about making sense of data. Metric statistics like averages help us to do this. Metrics can help us to minimise the amount of data that we need to think about - which is helpful when working with large datasets. For example if you are interested in the price of food in different supermarkets in your town, it might be overwhelming to look at the individual prices of every item. Instead you could look at the average price of all items.\n",
    "\n",
    "Metrics are also useful in classifying data. Working with the wheel speed data, a natural question is - which way does the subject turn the wheel? From the wheel speeds, we can answer this question using metrics!\n",
    "\n",
    "We can then filter our data based on our metrics. For example, we can look at only trials in which the wheel was turned to the left.\n",
    "\n",
    "\n",
    "**Libraries Used:**\n",
    "\n",
    "- **Pandas:**\n",
    "    - `df.mean()`: calculate the mean of a dataframe\n",
    "    - `df[df < 15]`: filtering based on a condition\n",
    "    - `len(df)` : count the number of rows in a dataframe\n",
    "\n",
    "\n",
    "\n",
    "**Example**\n",
    "This example shows how to calculate the mean of values in a dataframe and use index filtering to get the original data where the mean is less than 1.\n",
    "\n",
    "```\n",
    "mean_df = df.mean() # calcuate mean of dataframe\n",
    "mean_df_less_than_one = mean_df[mean_df < 1] # find rows where the mean is less than 1\n",
    "data_with_mean_less_than_one = df[mean_df_less_than_one.index] # get original data where mean is less than 1\n",
    "```\n"
   ]
  },
  {
   "cell_type": "code",
   "execution_count": null,
   "id": "156aef28-7845-45e0-a891-7d00e922d5d5",
   "metadata": {},
   "outputs": [],
   "source": [
    "wheel_df = dataset['wheel'].to_dataframe().reset_index().set_index(['time', 'trial'])['wheel'].unstack()"
   ]
  },
  {
   "cell_type": "markdown",
   "id": "123c02b4-6019-4b75-a198-c6828547db6e",
   "metadata": {},
   "source": [
    "**Exercises**"
   ]
  },
  {
   "cell_type": "markdown",
   "id": "deabb2e4-7b66-488d-b657-cf28e5adc3d3",
   "metadata": {},
   "source": [
    "Calculate the mean wheel speed for each trial from `ẁheel_df`. Name the result `mean_wheel_speeds`"
   ]
  },
  {
   "cell_type": "code",
   "execution_count": null,
   "id": "f164eafb-4cf0-4651-a715-fbf8a3674322",
   "metadata": {},
   "outputs": [],
   "source": []
  },
  {
   "cell_type": "markdown",
   "id": "a3d83a67-9fc4-4270-8d84-0b75cb03b668",
   "metadata": {},
   "source": [
    "We will use `mean_df` and `wheel_df` to get the wheel speeds where the mean speed was greater than 0.\n",
    "\n",
    "First, find the trial numbers where the mean wheel speed is greater than 0. Hint - the index of `mean_wheel_speeds` is is the trial number"
   ]
  },
  {
   "cell_type": "code",
   "execution_count": null,
   "id": "3f8d8184-5bcd-4510-ab1d-2dc04f44b9ee",
   "metadata": {},
   "outputs": [],
   "source": []
  },
  {
   "cell_type": "markdown",
   "id": "efb7b2b7-147b-4151-9cf9-064f7753d784",
   "metadata": {},
   "source": [
    "How many trials have a mean wheel speed greater than 0?"
   ]
  },
  {
   "cell_type": "code",
   "execution_count": null,
   "id": "13d94695-c391-4063-a74c-a546f34dc555",
   "metadata": {},
   "outputs": [],
   "source": []
  },
  {
   "cell_type": "markdown",
   "id": "7bd5d532-3b57-4be6-9d9e-6697a1da4777",
   "metadata": {},
   "source": [
    "Now get the wheel speeds for the trials found above and name the resulting dataframe `selected_data`"
   ]
  },
  {
   "cell_type": "code",
   "execution_count": null,
   "id": "87e36fd3-3e28-4b88-b2d3-0501c11d4f3d",
   "metadata": {},
   "outputs": [],
   "source": []
  },
  {
   "cell_type": "markdown",
   "id": "b53c6777-d158-426a-8261-f01f33a5cccf",
   "metadata": {},
   "source": [
    "Plot the wheen speeds of selected_data"
   ]
  },
  {
   "cell_type": "code",
   "execution_count": null,
   "id": "fb4de884-f044-4c97-83b8-2c6a7cbd1f5f",
   "metadata": {},
   "outputs": [],
   "source": []
  },
  {
   "cell_type": "markdown",
   "id": "71ec8903-2317-42c3-8465-8e6d782f156d",
   "metadata": {},
   "source": [
    "Find the number of trials where the mean wheel speed is less than 0."
   ]
  },
  {
   "cell_type": "code",
   "execution_count": null,
   "id": "37609cae-4fb4-401d-9e08-5c7e13194820",
   "metadata": {},
   "outputs": [],
   "source": []
  },
  {
   "cell_type": "markdown",
   "id": "2c63c1c4-f0c1-4b1b-9161-c84aa9ffc880",
   "metadata": {},
   "source": [
    "Find the number of trials where the mean wheel speed is 0."
   ]
  },
  {
   "cell_type": "code",
   "execution_count": null,
   "id": "8ca647e0-d3fd-4438-ab81-81e4128b300d",
   "metadata": {},
   "outputs": [],
   "source": []
  },
  {
   "cell_type": "markdown",
   "id": "49624390-e00d-480e-8d01-d3bddd019997",
   "metadata": {},
   "source": [
    "Let's try another approach. Instead we will find trials whose maximum wheel speed is greater than 10.\n",
    "Determine the maximum wheel speed for each trial. Call this `max_wheel_speeds`\n"
   ]
  },
  {
   "cell_type": "code",
   "execution_count": null,
   "id": "aae95def-24e8-48de-b9bd-192d1ae52f21",
   "metadata": {},
   "outputs": [],
   "source": []
  },
  {
   "cell_type": "markdown",
   "id": "aa6edd77-5a9f-4728-9977-d5823eb806e1",
   "metadata": {},
   "source": [
    "Find the trials whose maximum wheel speed is greater than 10"
   ]
  },
  {
   "cell_type": "code",
   "execution_count": null,
   "id": "5c9bc7c7-8288-435d-ba42-92aebd35bb64",
   "metadata": {},
   "outputs": [],
   "source": []
  },
  {
   "cell_type": "markdown",
   "id": "4dfa1172-6018-4da4-a1d7-acce97343ab4",
   "metadata": {},
   "source": [
    "How many trials have a maximum wheel speed greater than 10?"
   ]
  },
  {
   "cell_type": "code",
   "execution_count": null,
   "id": "bbb20eba-f7c6-466d-aecc-bf55e8aa4c32",
   "metadata": {},
   "outputs": [],
   "source": []
  },
  {
   "cell_type": "markdown",
   "id": "47d95382-9176-455a-97f9-f4f0dfa6a08a",
   "metadata": {},
   "source": [
    "How many trials are in the data in total?"
   ]
  },
  {
   "cell_type": "code",
   "execution_count": null,
   "id": "1d99c0be-e36c-493f-953f-bd024ceb1a25",
   "metadata": {},
   "outputs": [],
   "source": []
  },
  {
   "cell_type": "markdown",
   "id": "66351451-688f-4681-906b-ac3088506f63",
   "metadata": {},
   "source": [
    "## Letting Python Talk To Us With print Strings : Result Validation\n",
    "\n",
    "A useful feature of Python is being able to print text to the screen - infact it is a crucial feature of almost every programming language. \n",
    "In Python we can directly integrate our calculated results into print statements that are human readable and easily understandable. Instead of printing many seemingly random numbers, we can produce cleanly formatted sentences. \n",
    "\n",
    "We will use print statements to compare different metrics to determine the wheel turning direction.\n",
    "\n",
    "We have two metrics to determine the wheel turning direction:\n",
    "* when the mean wheel speed is greater than 0, assume the wheel was turned to the right\n",
    "* when the maximum turning speed is greater than 10, assume the wheel was turned to the right\n",
    "\n",
    "and the authors of the dataset also have their own method to determine which way the mouse turned the wheel. This information is in the `response_type` data. A `response_type` of 1 corresponds to a right turn, -1 to a left turn and 0 to no turning at all.\n",
    "\n",
    "\n",
    "Let's compare these different assessments of wheel turning direction with print statements.\n",
    "\n",
    "\n",
    "**Libraries Used:**\n",
    "\n",
    "- **Python:**\n",
    "    - `print(f'this is a formatted string with some {information}')`: print a formatted string to the console containing `information` from a Python variable\n",
    "\n",
    "- **Pandas:**\n",
    "    -  `df[df['column1'] == 8]` : filtering a multicolumn dataframe based on a condition\n",
    "    - `df['column2'].isin(values)`: find rows of dataframe where datapoints are contained in a list of values\n",
    "    - `df[(df['column2'] == 4) & (df['column1'] > 2)`] : filtering a dataframe based on multiple conditions\n",
    "    - `len(df)` : count the number of rows in a dataframe\n",
    "\n",
    " \n",
    "  **Example**\n",
    "\n",
    "A rows of a dataframe are selected based on two conditions - where `col_A` is 9 and where `col_B` is either 1,2 or 4. The number of rows selected is then printed using a print format string.\n",
    "\n",
    "```\n",
    "selected_df = df[(df['col_A'] == 9) & df['col_B'].isin([1,2,4]) # get the rows of a data frame where col_A is 9 and col_B is one of 1,2 or 4.\n",
    "print(f'the length of my filtered dataframe is {len(selected_df)}') # print the length of selected_df with a format string\n",
    "```\n",
    "  \n",
    " "
   ]
  },
  {
   "cell_type": "markdown",
   "id": "fc1efdf0-a5b8-4df5-b026-74592b47d39d",
   "metadata": {},
   "source": [
    "Get response types from Steinmetz data"
   ]
  },
  {
   "cell_type": "code",
   "execution_count": null,
   "id": "323cfd05-1b32-4a7b-9868-b80290c7a597",
   "metadata": {},
   "outputs": [],
   "source": []
  },
  {
   "cell_type": "markdown",
   "id": "da7317b1-b5b9-4a08-8caf-b96648fbb448",
   "metadata": {},
   "source": [
    "**Example exercise** \n",
    "\n",
    "```\n",
    "variable_A = 83\n",
    "print(f'the value of my variable is {\"XXXXXXXX\"}' \n",
    "```\n",
    "**Solution:**\n",
    "```\n",
    "variable_A = 83\n",
    "print(f'the value of my variable is {variable_A}' \n",
    "```"
   ]
  },
  {
   "cell_type": "markdown",
   "id": "826e0db8-126e-4dd4-98fe-338a351f324e",
   "metadata": {},
   "source": [
    "**Exercises**"
   ]
  },
  {
   "cell_type": "markdown",
   "id": "53ba324b-8134-4aaf-acee-6805d3ca6e49",
   "metadata": {},
   "source": [
    "Fill in the blank in the print statement below to print the number of trials where the mean speed is less than zero"
   ]
  },
  {
   "cell_type": "code",
   "execution_count": null,
   "id": "19ca1cd5-77eb-4981-b175-a115b2ba6866",
   "metadata": {},
   "outputs": [],
   "source": []
  },
  {
   "cell_type": "markdown",
   "id": "d9b71da6-662d-4d3d-babc-2592d49b4e41",
   "metadata": {},
   "source": [
    "Fill in the blank below"
   ]
  },
  {
   "cell_type": "code",
   "execution_count": null,
   "id": "342c680c-32e8-4140-a118-62cc0de88e46",
   "metadata": {},
   "outputs": [],
   "source": []
  },
  {
   "cell_type": "markdown",
   "id": "f71aa91d-1b6c-4fa2-8f8b-f545ca48e48f",
   "metadata": {},
   "source": [
    "Fill in the two blanks below with variables to print the number of trials with 0 mean speed and the total number of trials"
   ]
  },
  {
   "cell_type": "code",
   "execution_count": null,
   "id": "12c3d185-36cd-4a06-a97d-05c8b9693457",
   "metadata": {},
   "outputs": [],
   "source": []
  },
  {
   "cell_type": "markdown",
   "id": "4989ca92-a892-4833-9c36-de0db1970af3",
   "metadata": {},
   "source": [
    "print statements can also contain Python operations. Rewrite the above cell to display the percentage of trials with zero mean speed"
   ]
  },
  {
   "cell_type": "code",
   "execution_count": null,
   "id": "687fbb5f-be40-4778-8fee-d66ef866848b",
   "metadata": {},
   "outputs": [],
   "source": []
  },
  {
   "cell_type": "markdown",
   "id": "1bc956c1-43da-4bab-9e66-d8e877411723",
   "metadata": {},
   "source": [
    "Looks good! But do we really need all those decimal places? We can apply rounding to 4 decimal places by writing the print statement like so\n",
    "\n",
    "`print(f\"{my_variable:.4f}\"`\n",
    "\n",
    "Now display the percentage of trials with zero mean speed rounded to 3 decimal places"
   ]
  },
  {
   "cell_type": "code",
   "execution_count": null,
   "id": "41eed747-38fd-478d-a5b2-f640307cd859",
   "metadata": {},
   "outputs": [],
   "source": []
  },
  {
   "cell_type": "markdown",
   "id": "56e988ed-9d6f-4e38-b1e6-80abfd5c57fa",
   "metadata": {},
   "source": [
    "Now we will compare the turning direction of our predictions with those of the dataset authors, Steinmetz et. al.\n",
    "\n",
    "Find trials in `response_df` where `response_type` is 1 (that means wheel was turned to the right). Call this `steinmetz_trials`"
   ]
  },
  {
   "cell_type": "code",
   "execution_count": null,
   "id": "bd54846f-44aa-4590-aae0-f3a24a33d50f",
   "metadata": {},
   "outputs": [],
   "source": []
  },
  {
   "cell_type": "markdown",
   "id": "d4297f3c-9ca2-44c8-b5d4-8d10d6df8d0e",
   "metadata": {},
   "source": [
    "Get the rows of `mean_wheel_speeds` where `mean_wheel_speeds.index` is in `steinmetz_trials`. These are the mean wheel speeds of trials where the dataset authors recorded a right turn of the wheel"
   ]
  },
  {
   "cell_type": "code",
   "execution_count": null,
   "id": "bbfb0d70-62a4-4ae1-a4b3-c9e1a4cd6617",
   "metadata": {},
   "outputs": [],
   "source": []
  },
  {
   "cell_type": "markdown",
   "id": "64756deb-2f42-4793-9278-52603e72848d",
   "metadata": {},
   "source": [
    "Find trials where mean speed was positive and response recorded by Steinmetz was 1\n"
   ]
  },
  {
   "cell_type": "code",
   "execution_count": null,
   "id": "bb846f5c-aaca-40e7-b0e2-5ec09b7c3c98",
   "metadata": {},
   "outputs": [],
   "source": []
  },
  {
   "cell_type": "markdown",
   "id": "48587d3f-a945-4e1b-8964-011008968e62",
   "metadata": {},
   "source": [
    "Assess quantitatively the agreement between the recorded responses in the dataset and the response obtained from the mean speed. Fill in the blanks \"XXXXXXXXXXX\" with appropriate python code. "
   ]
  },
  {
   "cell_type": "code",
   "execution_count": null,
   "id": "c2cc6b8d-0d10-42ef-9905-f67cc6bcea2f",
   "metadata": {},
   "outputs": [],
   "source": [
    "print(f'number of trials with response_type==1: {\"XXXXXXXXXXXXXXXXXX\"}')\n",
    "print(f'number of trials with positive mean speed: {\"XXXXXXXXXXXXXXXXXX\"}')\n",
    "print(f'number of trials with positive mean speed and response_type==1: {\"XXXXXXXXXXXXXXXXXX\"}')"
   ]
  },
  {
   "cell_type": "markdown",
   "id": "51289f45-1cb6-47fe-b407-0a8e1aa4a196",
   "metadata": {},
   "source": [
    "Let's repeat the above analysis, but instead taking the criteria for right turning as being trials where the maximum wheel speed is greater than 10."
   ]
  },
  {
   "cell_type": "code",
   "execution_count": null,
   "id": "ea653bd8-3d30-45fd-84cd-4cd421175897",
   "metadata": {},
   "outputs": [],
   "source": []
  },
  {
   "cell_type": "markdown",
   "id": "3d6bce42-7fe6-4c2b-9500-4051fcb53537",
   "metadata": {},
   "source": [
    "Print the results as before"
   ]
  },
  {
   "cell_type": "code",
   "execution_count": null,
   "id": "b59ce9bc-8339-47e4-b99e-f6846a2a09af",
   "metadata": {},
   "outputs": [],
   "source": [
    "print(f'number of trials with response_type==1: {\"XXXXXXXXXXXXXXXXXX\"}')\n",
    "print(f'number of trials with max wheel speed greater than 10: {\"XXXXXXXXXXXXXXXXXX\"}')\n",
    "print(f'number of trials with max wheel speed greater than 10 and response_type==1: {\"XXXXXXXXXXXXXXXXXX\"}')"
   ]
  }
 ],
 "metadata": {
  "kernelspec": {
   "display_name": "Python 3 (ipykernel)",
   "language": "python",
   "name": "python3"
  },
  "language_info": {
   "codemirror_mode": {
    "name": "ipython",
    "version": 3
   },
   "file_extension": ".py",
   "mimetype": "text/x-python",
   "name": "python",
   "nbconvert_exporter": "python",
   "pygments_lexer": "ipython3",
   "version": "3.10.13"
  }
 },
 "nbformat": 4,
 "nbformat_minor": 5
}
