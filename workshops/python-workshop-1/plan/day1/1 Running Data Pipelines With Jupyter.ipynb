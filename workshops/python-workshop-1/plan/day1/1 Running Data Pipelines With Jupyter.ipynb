{
 "cells": [
  {
   "cell_type": "markdown",
   "metadata": {},
   "source": [
    "## Running Data Pipelines In a Jupyter Notebook\n",
    "\n",
    "A Jupyter Notebook be used for many things:\n",
    "  - Documentation (using Markdown Cells)\n",
    "  - Code (using Code Cells)\n",
    "  - Running Code in other files (using the `%run` command)\n",
    "  - Installing Python Packages (using the `%pip install` command)\n",
    "\n",
    "By combining them together, one can create a documented series of steps of how code should be run!"
   ]
  },
  {
   "cell_type": "markdown",
   "metadata": {},
   "source": [
    "Our course analysis focuses on a dataset provided by Nicholas Steinmetz and his colleagues out of his 2019 publication in Nature.  \n",
    "In this notebook, there's code for:\n",
    "  - Downloading the paper\n",
    "  - Downloading example videos\n",
    "  - Downloading the data provided by the authers\n",
    "  - Converting the data into easier-to=analyze formats for this course\n",
    "\n",
    "\n",
    "Each Step has two parts, each of which need to be run:\n",
    "  1. **Download the Dependencies**. Certain packages are needed for each step; to download and install them into your Python environment, run the cells with `%pip install` in them.\n",
    "  2. **Run the Code**.  Some of the cells have the code written directly here, while others run scripts found in other files.  Just run the cell and wait until \"Success!\" is printed below it to run!\n",
    "\n",
    "### Exercise: Run the Data Pipeline   \n",
    "\n",
    "Get a feel for running Jupyter notebooks, running each cell."
   ]
  },
  {
   "cell_type": "markdown",
   "metadata": {},
   "source": [
    "---\n",
    "\n",
    "### Step 1: Download The Nature Paper"
   ]
  },
  {
   "cell_type": "markdown",
   "metadata": {},
   "source": [
    "Nature Paper: https://www.nature.com/articles/s41586-019-1787-x"
   ]
  },
  {
   "cell_type": "code",
   "execution_count": null,
   "metadata": {},
   "outputs": [],
   "source": [
    "import os\n",
    "import urllib.request\n",
    "\n",
    "url = 'https://www.nature.com/articles/s41586-019-1787-x.pdf'\n",
    "filename = 'references/steinmetz2019.pdf'\n",
    "\n",
    "os.makedirs('references', exist_ok=True)\n",
    "urllib.request.urlretrieve(url, filename);\n",
    "print('Success!')"
   ]
  },
  {
   "cell_type": "markdown",
   "metadata": {},
   "source": [
    "---\n",
    "\n",
    "#### Step 2: Download the Trimmed Videos\n",
    "\n",
    "  - *Inputs From*: iBOTS-Hosted Sciebo Folder\n",
    "  - *Outputs To*: `vids/*.avi`"
   ]
  },
  {
   "cell_type": "markdown",
   "metadata": {},
   "source": [
    "##### Install Dependencies"
   ]
  },
  {
   "cell_type": "code",
   "execution_count": null,
   "metadata": {},
   "outputs": [],
   "source": [
    "%pip install requests tqdm"
   ]
  },
  {
   "cell_type": "markdown",
   "metadata": {},
   "source": [
    "##### Run Code"
   ]
  },
  {
   "cell_type": "code",
   "execution_count": null,
   "metadata": {},
   "outputs": [],
   "source": [
    "import os\n",
    "import requests\n",
    "from tqdm import tqdm\n",
    "\n",
    "def download_from_sciebo(public_url, to_filename, is_file = True):\n",
    "    \"\"\"\n",
    "    Downloads a file or folder from a shared URL on Sciebo\n",
    "    \"\"\"\n",
    "    r = requests.get(public_url + \"/download\", stream=True)\n",
    "    progress_bar = tqdm(desc=f\"Downloading {to_filename}\", unit='B', unit_scale=True, total=int(r.headers['Content-Length'])) if is_file else tqdm()\n",
    "    with open(to_filename, 'wb') as f:\n",
    "        for chunk in r.iter_content(chunk_size=8192):\n",
    "            f.write(chunk)\n",
    "            progress_bar.update(len(chunk))\n",
    "\n",
    "\n",
    "os.makedirs(\"vids\", exist_ok=True)\n",
    "download_from_sciebo(\"https://uni-bonn.sciebo.de/s/oMoBlis0VvAsblG\", \"vids/eyetracking_example_steinmetz2019.avi\")\n",
    "download_from_sciebo(\"https://uni-bonn.sciebo.de/s/fDY3V8JnZEOPnCR\", \"vids/mouse_wheel_example_steinmetz2019.avi\")\n",
    "print('Success!')"
   ]
  },
  {
   "cell_type": "markdown",
   "metadata": {},
   "source": [
    "--- \n",
    "\n",
    "### Step 3: Download the Steinmetz et al, 2019 Dataset\n",
    "\n",
    "From the [Neuromatch Academy Data Archive](https://osf.io/hygbm), hosted by the [Center for Open Science](https://osf.io/)\n",
    "\n",
    "  - *Input from*: The Internet\n",
    "  - *Output to*: `data/raw`"
   ]
  },
  {
   "cell_type": "markdown",
   "metadata": {},
   "source": [
    "##### Install Dependencies"
   ]
  },
  {
   "cell_type": "code",
   "execution_count": null,
   "metadata": {},
   "outputs": [],
   "source": [
    "%pip install requests tqdm"
   ]
  },
  {
   "cell_type": "markdown",
   "metadata": {},
   "source": [
    "##### Run the Script"
   ]
  },
  {
   "cell_type": "code",
   "execution_count": null,
   "metadata": {},
   "outputs": [],
   "source": [
    "%run scripts/1_download_data.py\n",
    "print('Success!')"
   ]
  },
  {
   "cell_type": "markdown",
   "metadata": {},
   "source": [
    "---\n",
    "\n",
    "### Step 4: Process the Data\n",
    "\n",
    "  - *Inputs from*: `raw/*`\n",
    "  - *Outputs to*: `processed/*.nc`\n"
   ]
  },
  {
   "cell_type": "markdown",
   "metadata": {},
   "source": [
    "##### Install Dependencies"
   ]
  },
  {
   "cell_type": "code",
   "execution_count": null,
   "metadata": {},
   "outputs": [],
   "source": [
    "%pip install numpy pandas tqdm xarray netCDF4 pyarrow"
   ]
  },
  {
   "cell_type": "markdown",
   "metadata": {},
   "source": [
    "##### Run the Script"
   ]
  },
  {
   "cell_type": "code",
   "execution_count": null,
   "metadata": {},
   "outputs": [],
   "source": [
    "%run scripts/2_convert_to_netcdf.py\n",
    "print('Success!')"
   ]
  },
  {
   "cell_type": "markdown",
   "metadata": {},
   "source": [
    "---\n",
    "\n",
    "### Step 5: Extract Tables for Today's Analysis\n",
    "\n",
    "  - *Inputs from*: `processed/*.nc`\n",
    "  - *Outputs to*: `final/*.csv`"
   ]
  },
  {
   "cell_type": "code",
   "execution_count": null,
   "metadata": {},
   "outputs": [],
   "source": [
    "%pip install pandas xarray"
   ]
  },
  {
   "cell_type": "code",
   "execution_count": 41,
   "metadata": {},
   "outputs": [],
   "source": [
    "%run scripts/3_extract_to_csv.py"
   ]
  }
 ],
 "metadata": {
  "kernelspec": {
   "display_name": "datascience1",
   "language": "python",
   "name": "python3"
  },
  "language_info": {
   "codemirror_mode": {
    "name": "ipython",
    "version": 3
   },
   "file_extension": ".py",
   "mimetype": "text/x-python",
   "name": "python",
   "nbconvert_exporter": "python",
   "pygments_lexer": "ipython3",
   "version": "3.11.4"
  }
 },
 "nbformat": 4,
 "nbformat_minor": 2
}
