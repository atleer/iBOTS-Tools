{
 "cells": [
  {
   "cell_type": "code",
   "execution_count": null,
   "metadata": {},
   "outputs": [],
   "source": [
    "import caiman as cm \n",
    "from caiman.motion_correction import MotionCorrect\n",
    "from caiman.source_extraction.cnmf.params import CNMFParams\n",
    "from caiman.motion_correction import compute_metrics_motion_correction\n",
    "import numpy as np\n",
    "import matplotlib.pyplot as plt\n",
    "import sciebo"
   ]
  },
  {
   "cell_type": "code",
   "execution_count": null,
   "metadata": {},
   "outputs": [],
   "source": [
    "sciebo.download_file_from_sciebo('https://uni-bonn.sciebo.de/s/RR7qj7tklW1rX25', 'data', 'Sue_2x_3000_40_-46.tif')"
   ]
  },
  {
   "cell_type": "markdown",
   "metadata": {},
   "source": [
    "We can evaluate the performance of motion correction using various metrics such as correlation of each frame with the mean, crispness of the summary image, and residual optical flow.\n",
    "\n",
    "**Correlation of Each Frame with Mean**\n",
    "\n",
    "This metric involves calculating the correlation between each registered frame and the mean (or average) image of the registered series. A higher correlation indicates that the frame is well-aligned with the overall dataset, suggesting effective registration. This measure assesses how consistent each frame is with the average image, which ideally represents the scene without temporal variations.\n",
    "\n",
    "\n",
    "**Crispness of Summary Image**\n",
    "\n",
    "Crispness refers to the sharpness or clarity of a summary image, which could be a mean or maximum intensity projection of the registered frames. Better-aligned images tend to produce sharper summary images. Larger the value, sharper is the motion corrected image.\n",
    "\n",
    "**Residual Optical Flow**\n",
    "\n",
    "Optical flow refers to the pattern of apparent motion of objects, surfaces, or edges in the data. Residual optical flow measures the motion that remains after motion correction has been applied, indicating misalignments or registration errors. Ideally, perfect registration would result in minimal or no residual optical flow, as all parts of the image would be perfectly aligned across frames. However, computing residual optical flow can be computationally intensive because it involves analyzing the motion between every pair of pixels in the aligned frames."
   ]
  },
  {
   "cell_type": "markdown",
   "metadata": {},
   "source": [
    "**Example** Let's compute quality metrics for the raw data which can be compared with motion corrected data."
   ]
  },
  {
   "cell_type": "code",
   "execution_count": null,
   "metadata": {},
   "outputs": [],
   "source": [
    "filename = \"data/Sue_2x_3000_40_-46.tif\"\n",
    "fnames = [filename]\n",
    "raw_data_2p = cm.load(filename)"
   ]
  },
  {
   "cell_type": "code",
   "execution_count": null,
   "metadata": {},
   "outputs": [],
   "source": [
    "final_size_x, final_size_y = raw_data_2p[0].shape\n",
    "resize_fact_flow = .2    \n",
    "\n",
    "_, correlations_orig, flows_orig, norms_orig, crispness_orig = compute_metrics_motion_correction(\n",
    "    fname=fnames[0], \n",
    "    final_size_x=final_size_x, \n",
    "    final_size_y=final_size_y, \n",
    "    swap_dim=False, \n",
    "    winsize=100, \n",
    "    play_flow=False, \n",
    "    resize_fact_flow=resize_fact_flow\n",
    "    )\n"
   ]
  },
  {
   "cell_type": "markdown",
   "metadata": {},
   "source": [
    "## Rigid Motion Correction\n",
    "\n",
    "Fill in the blanks below to do a rigid motion correction with border_nan set to 'copy'."
   ]
  },
  {
   "cell_type": "code",
   "execution_count": null,
   "metadata": {},
   "outputs": [],
   "source": [
    "filename = \"data/Sue_2x_3000_40_-46.tif\"\n",
    "fnames = [filename]\n",
    "raw_data_2p = cm.load(filename)\n",
    "mc_rigid = MotionCorrect(\n",
    "    fname = fnames,\n",
    "    pw_rigid = #ADD,\n",
    "    border_nan=#ADD\n",
    ")\n",
    "mc_rigid.motion_correct(save_movie=True)"
   ]
  },
  {
   "cell_type": "markdown",
   "metadata": {},
   "source": [
    "Compute quality metrics for the rigid motion corrected data."
   ]
  },
  {
   "cell_type": "code",
   "execution_count": null,
   "metadata": {},
   "outputs": [],
   "source": [
    "final_size_x, final_size_y = mc_rigid.total_template_rig.shape\n",
    "\n",
    "winsize = 100\n",
    "resize_fact_flow = .2    \n",
    "\n",
    "_, correlations_rig, flows_rig, _, crispness_rig = compute_metrics_motion_correction(\n",
    "    fname=mc_rigid.fname_tot_rig[0], \n",
    "    final_size_x=final_size_x, \n",
    "    final_size_y=final_size_y, \n",
    "    swap_dim=False, \n",
    "    winsize=100, \n",
    "    play_flow=False, \n",
    "    resize_fact_flow=resize_fact_flow\n",
    "    )\n"
   ]
  },
  {
   "cell_type": "markdown",
   "metadata": {},
   "source": [
    "Compare correlations of raw and rigid data. Fill in the blanks"
   ]
  },
  {
   "cell_type": "code",
   "execution_count": null,
   "metadata": {},
   "outputs": [],
   "source": [
    "plt.plot(correlations_orig, label='Correlations original')\n",
    "plt.plot(correlations_rig, label='Correlations rigid')\n",
    "plt.legend()"
   ]
  },
  {
   "cell_type": "markdown",
   "metadata": {},
   "source": [
    "Do a rigid with border_nan set to True. In this case, we will have to mind the border pixels which have nan values"
   ]
  },
  {
   "cell_type": "code",
   "execution_count": null,
   "metadata": {},
   "outputs": [],
   "source": [
    "filename = \"data/Sue_2x_3000_40_-46.tif\"\n",
    "fnames = [filename]\n",
    "raw_data_2p = cm.load(filename)\n",
    "mc_rigid_nan = MotionCorrect(\n",
    "    fname = fnames,\n",
    "    pw_rigid = #ADD,\n",
    "    border_nan=#ADD\n",
    ")\n",
    "mc_rigid_nan.motion_correct(save_movie=True)"
   ]
  },
  {
   "cell_type": "markdown",
   "metadata": {},
   "source": [
    "The only difference would be final_size_x and final_size_y to remove the pixels in the border that have nan"
   ]
  },
  {
   "cell_type": "code",
   "execution_count": null,
   "metadata": {},
   "outputs": [],
   "source": [
    "bord_px_rig = mc_rigid_nan.#ADD\n",
    "final_size_x, final_size_y = np.subtract(mc_rigid_nan.total_template_rig.shape, 2 * bord_px_rig) "
   ]
  },
  {
   "cell_type": "markdown",
   "metadata": {},
   "source": [
    "Compute quality metrics for the rigid motion corrected data (mc_rigid_nan)."
   ]
  },
  {
   "cell_type": "code",
   "execution_count": null,
   "metadata": {},
   "outputs": [],
   "source": []
  },
  {
   "cell_type": "markdown",
   "metadata": {},
   "source": [
    "Compare correlations of raw, rigid (copy), and rigid (nan). Fill in the blanks"
   ]
  },
  {
   "cell_type": "code",
   "execution_count": null,
   "metadata": {},
   "outputs": [],
   "source": []
  },
  {
   "cell_type": "code",
   "execution_count": null,
   "metadata": {},
   "outputs": [],
   "source": [
    "plt.plot(np.array(correlations_rig_nan)-np.array(correlations_rig), label='Residuals copy and nan')\n",
    "plt.legend()"
   ]
  },
  {
   "cell_type": "markdown",
   "metadata": {},
   "source": [
    "Let's see what the crispness indicate!"
   ]
  },
  {
   "cell_type": "code",
   "execution_count": null,
   "metadata": {},
   "outputs": [],
   "source": []
  },
  {
   "cell_type": "markdown",
   "metadata": {},
   "source": [
    "## Non-Rigid Motion Correction\n",
    "\n",
    "Create a Non-rigid MotionCorrect object mc_els where\n",
    "\n",
    "```python\n",
    "    max_shifts=(6, 6),\n",
    "    strides=(48, 48),\n",
    "    overlaps=(24, 24),\n",
    "    max_deviation_rigid=3,\n",
    "    shifts_opencv=True,\n",
    "    nonneg_movie=True,\n",
    "    border_nan='copy',\n",
    "\n",
    "```"
   ]
  },
  {
   "cell_type": "code",
   "execution_count": null,
   "metadata": {},
   "outputs": [],
   "source": [
    "mc_els = MotionCorrect(\n",
    "    fnames, \n",
    "    #ADD=#ADD,\n",
    "    #ADD=#ADD,\n",
    "    #ADD=#ADD,\n",
    "    #ADD=#ADD,\n",
    "    #ADD=#ADD,\n",
    "    #ADD=#ADD,\n",
    "    #ADD=#ADD,\n",
    "    pw_rigid=#ADD\n",
    ")\n",
    "mc_els.motion_correct(save_movie=True)"
   ]
  },
  {
   "cell_type": "markdown",
   "metadata": {},
   "source": [
    "Compute quality metrics for the non rigid motion corrected data (mc_els)."
   ]
  },
  {
   "cell_type": "code",
   "execution_count": null,
   "metadata": {},
   "outputs": [],
   "source": []
  },
  {
   "cell_type": "markdown",
   "metadata": {},
   "source": [
    "Compare correlations of raw and non-rigid data. Fill in the blanks"
   ]
  },
  {
   "cell_type": "code",
   "execution_count": null,
   "metadata": {},
   "outputs": [],
   "source": []
  },
  {
   "cell_type": "code",
   "execution_count": null,
   "metadata": {},
   "outputs": [],
   "source": [
    "plt.plot(np.array(correlations_els)-np.array(correlations_rig), label='Residuals non-rigid and rigid')\n",
    "plt.legend()"
   ]
  },
  {
   "cell_type": "markdown",
   "metadata": {},
   "source": [
    "What about the crispness?"
   ]
  },
  {
   "cell_type": "code",
   "execution_count": null,
   "metadata": {},
   "outputs": [],
   "source": []
  },
  {
   "cell_type": "markdown",
   "metadata": {},
   "source": [
    "Optical Flow (Taken from https://github.com/flatironinstitute/CaImAn/blob/main/demos/notebooks/demo_motion_correction.ipynb)"
   ]
  },
  {
   "cell_type": "code",
   "execution_count": null,
   "metadata": {},
   "outputs": [],
   "source": [
    "fls = [cm.paths.fname_derived_presuffix(mc.fname_tot_els[0], 'metrics', swapsuffix='npz'),\n",
    "       cm.paths.fname_derived_presuffix(mc.fname_tot_rig[0], 'metrics', swapsuffix='npz'),\n",
    "       cm.paths.fname_derived_presuffix(mc.fname[0],         'metrics', swapsuffix='npz'),\n",
    "      ]\n",
    "\n",
    "plt.figure(figsize = (20,10))\n",
    "for cnt, fl, metr in zip(range(len(fls)), fls, ['pw_rigid','rigid','raw']):\n",
    "    with np.load(fl) as ld:\n",
    "        print(ld.keys())\n",
    "        print(fl)\n",
    "        print(str(np.mean(ld['norms'])) + '+/-' + str(np.std(ld['norms'])) +\n",
    "              ' ; ' + str(ld['smoothness']) + ' ; ' + str(ld['smoothness_corr']))\n",
    "        \n",
    "        plt.subplot(len(fls), 3, 1 + 3 * cnt)\n",
    "        plt.ylabel(metr)\n",
    "        print(f\"Loading data with base {fl[:-12]}\")\n",
    "        try:\n",
    "            mean_img = np.mean(\n",
    "            cm.load(fl[:-12] + '.mmap'), 0)[12:-12, 12:-12]\n",
    "        except:\n",
    "            try:\n",
    "                mean_img = np.mean(\n",
    "                    cm.load(fl[:-12] + '.tif'), 0)[12:-12, 12:-12]\n",
    "            except:\n",
    "                mean_img = np.mean(\n",
    "                    cm.load(fl[:-12] + 'hdf5'), 0)[12:-12, 12:-12]\n",
    "                    \n",
    "        lq, hq = np.nanpercentile(mean_img, [.5, 99.5])\n",
    "        plt.imshow(mean_img, vmin=lq, vmax=hq)\n",
    "        plt.title('Mean')\n",
    "        plt.subplot(len(fls), 3, 3 * cnt + 2)\n",
    "        plt.imshow(ld['img_corr'], vmin=0, vmax=.35)\n",
    "        plt.title('Corr image')\n",
    "        plt.subplot(len(fls), 3, 3 * cnt + 3)\n",
    "        flows = ld['flows']\n",
    "        plt.imshow(np.mean(\n",
    "        np.sqrt(flows[:, :, :, 0]**2 + flows[:, :, :, 1]**2), 0), vmin=0, vmax=0.3)\n",
    "        plt.colorbar()\n",
    "        plt.title('Mean optical flow');"
   ]
  },
  {
   "cell_type": "markdown",
   "metadata": {},
   "source": [
    "**References**\n",
    "\n",
    "1. `data_endoscope.tif` 1-photon microendoscopic data from mouse dorsal striatum [Reference](https://elifesciences.org/articles/28728#s3).\n",
    "2. `Sue_2x_3000_40_-46.tif` (taken from CaImAn) dataset by Sue Koay and David Tank. 2-photon data from supragranular parietal cortex mouse during a virtual reality task.\n",
    "3. [Motion Correction: Watch video between 10 to 16 minutes](https://www.youtube.com/watch?v=5APzPRbzUIA)\n",
    "\n",
    "Notebook inspired from the caiman tutorial notebook: https://github.com/flatironinstitute/CaImAn/blob/main/demos/notebooks/demo_motion_correction.ipynb"
   ]
  }
 ],
 "metadata": {
  "kernelspec": {
   "display_name": "caiman",
   "language": "python",
   "name": "python3"
  },
  "language_info": {
   "codemirror_mode": {
    "name": "ipython",
    "version": 3
   },
   "file_extension": ".py",
   "mimetype": "text/x-python",
   "name": "python",
   "nbconvert_exporter": "python",
   "pygments_lexer": "ipython3",
   "version": "3.10.13"
  }
 },
 "nbformat": 4,
 "nbformat_minor": 2
}
