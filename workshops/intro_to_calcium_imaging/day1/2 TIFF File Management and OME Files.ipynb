{
 "cells": [
  {
   "cell_type": "code",
   "execution_count": null,
   "metadata": {},
   "outputs": [],
   "source": [
    "# %pip install numpy matplotlib tifffile lxml"
   ]
  },
  {
   "cell_type": "code",
   "execution_count": null,
   "metadata": {},
   "outputs": [],
   "source": [
    "import numpy as np\n",
    "import matplotlib.pyplot as plt\n",
    "from tifffile import TiffFile, imread, imwrite\n",
    "import json\n",
    "from pprint import pprint\n",
    "import xml.dom.minidom\n",
    "import sciebo"
   ]
  },
  {
   "cell_type": "markdown",
   "metadata": {},
   "source": [
    "Run the below cells to download datasets for the first two sections of the notebook\n",
    "\n",
    "This might take a while. In the meantime, feel free to read a bit about the datasets. We won't do any analysis here.\n",
    "\n",
    "1. `data_endoscope.tif` 1-photon microendoscopic data from mouse dorsal striatum [Reference](https://elifesciences.org/articles/28728#s3).\n",
    "2. `Sue_2x_3000_40_-46.tif` (taken from CaImAn) dataset by Sue Koay and David Tank. 2-photon data from supragranular parietal cortex mouse during a virtual reality task."
   ]
  },
  {
   "cell_type": "code",
   "execution_count": null,
   "metadata": {},
   "outputs": [],
   "source": [
    "sciebo.download_from_sciebo('https://uni-bonn.sciebo.de/s/aLuGqYoZRFgwhzF', 'data/data_endoscope.tif')\n",
    "sciebo.download_from_sciebo('https://uni-bonn.sciebo.de/s/RR7qj7tklW1rX25', 'data/Sue_2x_3000_40_-46.tif')"
   ]
  },
  {
   "cell_type": "markdown",
   "metadata": {},
   "source": [
    "## Reading TIFF File \n",
    "\n",
    "TIFF, which stands for Tagged Image File Format, is a flexible and adaptable file format for storing images and data within a single file. It can be used to store multiple frames as `pages`.\n",
    "\n",
    "| Method | Description |\n",
    "| ------ | ----------- |\n",
    "| `imread` | Reads TIFF files as NumPy arrays, suitable for straightforward image data. |\n",
    "| `TiffFile` | Provides more detailed control over reading TIFF files, including accessing metadata and handling complex file structures. |\n",
    "| `%%timeit` | Measures the execution time of code blocks, useful for performance optimization. |\n",
    "| `matplotlib` for plotting | Enables visualization of image data directly from the TIFF files, essential for data exploration and analysis. |\n",
    "\n",
    "**Example** Read `data_endoscope.tif`. How many frames does it have?"
   ]
  },
  {
   "cell_type": "code",
   "execution_count": null,
   "metadata": {},
   "outputs": [],
   "source": [
    "frames = imread('data/data_endoscope.tif')\n",
    "frames.shape"
   ]
  },
  {
   "cell_type": "markdown",
   "metadata": {},
   "source": [
    "Read `Sue_2x_3000_40_-46.tif`. How many frames does this data have?"
   ]
  },
  {
   "cell_type": "code",
   "execution_count": null,
   "metadata": {},
   "outputs": [],
   "source": []
  },
  {
   "cell_type": "markdown",
   "metadata": {},
   "source": [
    "Read `Sue_2x_3000_40_-46.tif`. How long does it take?\n",
    "\n",
    "Hint: Put `%%timeit` in the beginning of the cell"
   ]
  },
  {
   "cell_type": "code",
   "execution_count": null,
   "metadata": {},
   "outputs": [],
   "source": []
  },
  {
   "cell_type": "markdown",
   "metadata": {},
   "source": [
    "Read `Sue_2x_3000_40_-46.tif`. How long does it take to access the last frame?\n",
    "\n",
    "Hint: Put `%%timeit` in the beginning of the cell"
   ]
  },
  {
   "cell_type": "code",
   "execution_count": null,
   "metadata": {},
   "outputs": [],
   "source": []
  },
  {
   "cell_type": "markdown",
   "metadata": {},
   "source": [
    "**Example** Let's see the plots. Plot the first frame"
   ]
  },
  {
   "cell_type": "code",
   "execution_count": null,
   "metadata": {},
   "outputs": [],
   "source": [
    "plt.imshow(frames[0], cmap='gray')"
   ]
  },
  {
   "cell_type": "markdown",
   "metadata": {},
   "source": [
    "Plot the last frame"
   ]
  },
  {
   "cell_type": "code",
   "execution_count": null,
   "metadata": {},
   "outputs": [],
   "source": []
  },
  {
   "cell_type": "markdown",
   "metadata": {},
   "source": [
    "**Example** Read only the first 3 frames from `Sue_2x_3000_40_-46.tif`"
   ]
  },
  {
   "cell_type": "code",
   "execution_count": null,
   "metadata": {},
   "outputs": [],
   "source": [
    "frames = imread('data/Sue_2x_3000_40_-46.tif', key=(0, 1, 2))\n",
    "frames.shape"
   ]
  },
  {
   "cell_type": "markdown",
   "metadata": {},
   "source": [
    "Read only 1, 3, 5, 7, 9th frame from `Sue_2x_3000_40_-46.tif`"
   ]
  },
  {
   "cell_type": "code",
   "execution_count": null,
   "metadata": {},
   "outputs": [],
   "source": []
  },
  {
   "cell_type": "markdown",
   "metadata": {},
   "source": [
    "Read only first 100 frames from `Sue_2x_3000_40_-46.tif`\n",
    "\n",
    "Hint: use range(0, 100)"
   ]
  },
  {
   "cell_type": "code",
   "execution_count": null,
   "metadata": {},
   "outputs": [],
   "source": []
  },
  {
   "cell_type": "markdown",
   "metadata": {},
   "source": [
    "**Example** Read `data_endoscope.tif` with `TiffFile`?"
   ]
  },
  {
   "cell_type": "code",
   "execution_count": null,
   "metadata": {},
   "outputs": [],
   "source": [
    "f = TiffFile('data/data_endoscope.tif')\n",
    "frames = np.array([page.asarray() for page in f.pages])"
   ]
  },
  {
   "cell_type": "markdown",
   "metadata": {},
   "source": [
    "Read `Sue_2x_3000_40_-46.tif` with TiffFile"
   ]
  },
  {
   "cell_type": "code",
   "execution_count": null,
   "metadata": {},
   "outputs": [],
   "source": []
  },
  {
   "cell_type": "markdown",
   "metadata": {},
   "source": [
    "How long does it take to read `Sue_2x_3000_40_-46.tif` with TiffFile?"
   ]
  },
  {
   "cell_type": "code",
   "execution_count": null,
   "metadata": {},
   "outputs": [],
   "source": []
  },
  {
   "cell_type": "markdown",
   "metadata": {},
   "source": [
    "How long does it take to access only the last frame with TiffFile?"
   ]
  },
  {
   "cell_type": "code",
   "execution_count": null,
   "metadata": {},
   "outputs": [],
   "source": []
  },
  {
   "cell_type": "markdown",
   "metadata": {},
   "source": [
    "## Metadata handling and TIFF file writing \n",
    "\n",
    "This section focuses on metadata handling and writing TIFF files with custom metadata, for managing and documenting image datasets in research. The methods demonstrated include extracting metadata from TIFF files, writing TIFF files with specified photometric interpretations, and embedding custom JSON-formatted metadata into TIFF files. \n",
    "\n",
    "| Method | Description |\n",
    "| ------ | ----------- |\n",
    "| `TiffFile()` | Opens a TIFF file for reading, providing access to image data and metadata. |\n",
    "| `.pages[N].tags` | Accesses the tags (metadata) of the Nth page in the TIFF file. |\n",
    "| `imwrite()` | Writes image data to a TIFF file, with options for specifying photometric interpretation and embedding custom metadata. |\n",
    "| `json.dumps()` | Converts a Python dictionary into a JSON-formatted string suitable for embedding as metadata. |\n",
    "\n",
    "**Example** Read and print basic information about `data_endoscope.tif`"
   ]
  },
  {
   "cell_type": "code",
   "execution_count": null,
   "metadata": {},
   "outputs": [],
   "source": [
    "f = TiffFile('data/data_endoscope.tif')\n",
    "print(f)"
   ]
  },
  {
   "cell_type": "markdown",
   "metadata": {},
   "source": [
    "Read and print basic information about Sue_2x_3000_40_-46.tif"
   ]
  },
  {
   "cell_type": "code",
   "execution_count": null,
   "metadata": {},
   "outputs": [],
   "source": []
  },
  {
   "cell_type": "markdown",
   "metadata": {},
   "source": [
    "**Example** Print detailed information of first page of `data_endoscope.tif`"
   ]
  },
  {
   "cell_type": "code",
   "execution_count": null,
   "metadata": {},
   "outputs": [],
   "source": [
    "f = TiffFile('data/data_endoscope.tif')\n",
    "print(f.pages[0].tags)"
   ]
  },
  {
   "cell_type": "markdown",
   "metadata": {},
   "source": [
    "Print detailed information of 500th page of `data_endoscope.tif`. How is it same or different from that of the first page?"
   ]
  },
  {
   "cell_type": "code",
   "execution_count": null,
   "metadata": {},
   "outputs": [],
   "source": []
  },
  {
   "cell_type": "markdown",
   "metadata": {},
   "source": [
    "Print detailed information of 1000th page of `data_endoscope.tif`. How is it same or different from that of the other two pages?"
   ]
  },
  {
   "cell_type": "code",
   "execution_count": null,
   "metadata": {},
   "outputs": [],
   "source": []
  },
  {
   "cell_type": "markdown",
   "metadata": {},
   "source": [
    "**Example** Extract the value of 'ImageWidth' on 1000th page of `data_endoscope`"
   ]
  },
  {
   "cell_type": "code",
   "execution_count": null,
   "metadata": {},
   "outputs": [],
   "source": [
    "f = TiffFile('data/data_endoscope.tif')\n",
    "print(f.pages[999].tags['ImageWidth'].value)"
   ]
  },
  {
   "cell_type": "markdown",
   "metadata": {},
   "source": [
    "Extract the value of 'PhotometricInterpretation' on 1000th page of `data_endoscope`"
   ]
  },
  {
   "cell_type": "code",
   "execution_count": null,
   "metadata": {},
   "outputs": [],
   "source": []
  },
  {
   "cell_type": "markdown",
   "metadata": {},
   "source": [
    "Extract the value of 'ResolutionUnit' on 1000th page of `data_endoscope`"
   ]
  },
  {
   "cell_type": "code",
   "execution_count": null,
   "metadata": {},
   "outputs": [],
   "source": []
  },
  {
   "cell_type": "markdown",
   "metadata": {},
   "source": [
    "Let's practice writing TIFF files. Run the below cell to make three 100x100 frames/pages of random values"
   ]
  },
  {
   "cell_type": "code",
   "execution_count": null,
   "metadata": {},
   "outputs": [],
   "source": [
    "frame1 = np.random.rand(100, 100)  # Frame 1\n",
    "frame2 = np.random.rand(100, 100)  # Frame 2\n",
    "frame3 = np.random.rand(100, 100)  # Frame 3"
   ]
  },
  {
   "cell_type": "markdown",
   "metadata": {},
   "source": [
    "**Example** Write frame1, frame2, frame3 as three pages of output_file.tiff with `minisblack` photometric interpretation. Read the tags. What is 'minisblack' photometric interpretation?"
   ]
  },
  {
   "cell_type": "code",
   "execution_count": null,
   "metadata": {},
   "outputs": [],
   "source": [
    "tiff_path = 'output_file.tiff'\n",
    "imwrite(tiff_path, [frame1, frame2, frame3], photometric='minisblack')\n",
    "\n",
    "f = TiffFile('output_file.tiff')\n",
    "print(f.pages[-1].tags)"
   ]
  },
  {
   "cell_type": "markdown",
   "metadata": {},
   "source": [
    "Write frame1, frame2, frame3 as three pages of output_file.tiff with `rgb` photometric interpretation. Read the tags. What is 'rgb' photometric interpretation?"
   ]
  },
  {
   "cell_type": "code",
   "execution_count": null,
   "metadata": {},
   "outputs": [],
   "source": [
    "tiff_path = 'output_file.tiff'\n",
    "imwrite(tiff_path, [frame1, frame2, frame3], photometric='rgb')\n",
    "\n",
    "f = TiffFile('output_file.tiff')\n",
    "print(f.pages[-1].tags['PhotometricInterpretation'].value)"
   ]
  },
  {
   "cell_type": "markdown",
   "metadata": {},
   "source": [
    "**Example** Write `Experiment` as `Calcium Imaging` into metadata"
   ]
  },
  {
   "cell_type": "code",
   "execution_count": null,
   "metadata": {},
   "outputs": [],
   "source": [
    "metadata = {\n",
    "    'Experiment': 'Calcium Imaging',\n",
    "}\n",
    "metadata_json = json.dumps(metadata)\n",
    "tiff_path = 'output_file.tiff'\n",
    "imwrite(tiff_path, [frame1, frame2, frame3], description=metadata_json)\n",
    "\n",
    "f = TiffFile('output_file.tiff')\n",
    "print(f.pages[0].tags['ImageDescription'].value)"
   ]
  },
  {
   "cell_type": "markdown",
   "metadata": {},
   "source": [
    "Write `Experiment` as `Calcium Imaging` and `Date` to today's date into metadata"
   ]
  },
  {
   "cell_type": "code",
   "execution_count": null,
   "metadata": {},
   "outputs": [],
   "source": []
  },
  {
   "cell_type": "markdown",
   "metadata": {},
   "source": [
    "Write `Experiment` as `Calcium Imaging`, `Date` to today's date, and `Researcher` to your name into metadata"
   ]
  },
  {
   "cell_type": "code",
   "execution_count": null,
   "metadata": {},
   "outputs": [],
   "source": []
  },
  {
   "cell_type": "markdown",
   "metadata": {},
   "source": [
    "## OME data model and structure\n",
    "\n",
    "This section introduces the OME-TIFF format, a specialized version of TIFF for microscopy images, which includes extensive metadata in the OME-XML standard format. This metadata can describe the image dimensions, acquisition parameters, and much (much) more, making OME-TIFF an important format for scientific imaging.\n",
    "\n",
    "| Method | Description |\n",
    "| ------ | ----------- |\n",
    "| `TiffFile()` | Opens an OME-TIFF file for reading both image data and metadata. |\n",
    "| `ome_metadata` | Accesses the embedded OME-XML metadata from an OME-TIFF file. |\n",
    "| `xml.dom.minidom.parseString()` | Parses the OME-XML string and pretty-prints it, enhancing readability. |\n",
    "| `plt.imshow()` | Visualizes individual image frames, useful for inspecting the data. |\n",
    "| `FuncAnimation` | Creates an animation from a sequence of frames, ideal for visualizing changes over time or space in the dataset. |"
   ]
  },
  {
   "cell_type": "code",
   "execution_count": null,
   "metadata": {},
   "outputs": [],
   "source": [
    "sciebo.download_from_sciebo('https://uni-bonn.sciebo.de/s/IQzFzXXTosmY2MY', 'data/output.ome.tiff')\n",
    "sciebo.download_from_sciebo('https://uni-bonn.sciebo.de/s/QNOpF1JvRPM0qWm', 'data/multifile-Z1.ome.tiff')\n",
    "sciebo.download_from_sciebo('https://uni-bonn.sciebo.de/s/8sKghg9SGBttZW5', 'data/multifile-Z2.ome.tiff')\n",
    "sciebo.download_from_sciebo('https://uni-bonn.sciebo.de/s/6xtxbSysECFPrHy', 'data/multifile-Z3.ome.tiff')\n",
    "sciebo.download_from_sciebo('https://uni-bonn.sciebo.de/s/sxwwSUGmtQtSZ0l', 'data/multifile-Z4.ome.tiff')\n",
    "sciebo.download_from_sciebo('https://uni-bonn.sciebo.de/s/NRgPnsz3Pnhkv3r', 'data/multifile-Z5.ome.tiff')"
   ]
  },
  {
   "cell_type": "markdown",
   "metadata": {},
   "source": [
    "\n",
    "**Example** Read and print OME metadata from output_file.tiff. Is there any?"
   ]
  },
  {
   "cell_type": "code",
   "execution_count": null,
   "metadata": {},
   "outputs": [],
   "source": [
    "f = TiffFile('output_file.tiff')\n",
    "ome_metadata = f.ome_metadata\n",
    "print(ome_metadata)"
   ]
  },
  {
   "cell_type": "markdown",
   "metadata": {},
   "source": [
    "Read and print ome metadata of `output.ome.tiff`. Is it readable?"
   ]
  },
  {
   "cell_type": "code",
   "execution_count": null,
   "metadata": {},
   "outputs": [],
   "source": []
  },
  {
   "cell_type": "markdown",
   "metadata": {},
   "source": [
    "Let's make it more readable. Instead of `print` use `pprint` which means `pretty print`"
   ]
  },
  {
   "cell_type": "code",
   "execution_count": null,
   "metadata": {},
   "outputs": [],
   "source": []
  },
  {
   "cell_type": "markdown",
   "metadata": {},
   "source": [
    "Better. The format of the output is XML. XML, which stands for eXtensible Markup Language, is a markup language that defines a set of rules for encoding documents in a format that is both human-readable and machine-readable. \n",
    "\n",
    "**Example** Read ome metadata of output.ome.tiff and use inbuilt library `xml` to parse the string format to pretty xml. "
   ]
  },
  {
   "cell_type": "code",
   "execution_count": null,
   "metadata": {},
   "outputs": [],
   "source": [
    "f = TiffFile('data/output.ome.tiff')\n",
    "ome_metadata = f.ome_metadata\n",
    "dom = xml.dom.minidom.parseString(ome_metadata) \n",
    "pprint(dom.toprettyxml())"
   ]
  },
  {
   "cell_type": "markdown",
   "metadata": {},
   "source": [
    "Read ome metadata of multifile-Z1.ome.tiff and use inbuilt library `xml` to parse the string format to pretty xml "
   ]
  },
  {
   "cell_type": "code",
   "execution_count": null,
   "metadata": {},
   "outputs": [],
   "source": []
  },
  {
   "cell_type": "markdown",
   "metadata": {},
   "source": [
    "Let's download another ome file for a fun visualization exercise. Run the below cell.\n",
    "\n",
    "This might take a while, so feel free to read more about the dataset: https://downloads.openmicroscopy.org/images/OME-TIFF/2016-06/MitoCheck/"
   ]
  },
  {
   "cell_type": "code",
   "execution_count": null,
   "metadata": {},
   "outputs": [],
   "source": [
    "sciebo.download_from_sciebo('https://uni-bonn.sciebo.de/s/jui4quIkGdkENPb', 'data/00001_01.ome.tiff')"
   ]
  },
  {
   "cell_type": "markdown",
   "metadata": {},
   "source": [
    "Let's use `00001_01.ome.tiff` for the rest of the exercises. Read its metadata and pretty print in pretty xml.\n",
    "\n",
    "Looking through its data, what are the X, Y, and temporal dimensions?"
   ]
  },
  {
   "cell_type": "code",
   "execution_count": null,
   "metadata": {},
   "outputs": [],
   "source": []
  },
  {
   "cell_type": "markdown",
   "metadata": {},
   "source": [
    "Confirm the dimensions by checking shape of the image data"
   ]
  },
  {
   "cell_type": "code",
   "execution_count": null,
   "metadata": {},
   "outputs": [],
   "source": []
  },
  {
   "cell_type": "markdown",
   "metadata": {},
   "source": [
    "**Example** It's been a while since we visualized something! Let's see how the first frame looks like? What kind of data is this?"
   ]
  },
  {
   "cell_type": "code",
   "execution_count": null,
   "metadata": {},
   "outputs": [],
   "source": [
    "f = TiffFile('data/00001_01.ome.tiff')\n",
    "image_data = f.asarray()\n",
    "plt.imshow(image_data[0]);"
   ]
  },
  {
   "cell_type": "markdown",
   "metadata": {},
   "source": [
    "Let's see how the second frame looks like."
   ]
  },
  {
   "cell_type": "code",
   "execution_count": null,
   "metadata": {},
   "outputs": [],
   "source": []
  },
  {
   "cell_type": "markdown",
   "metadata": {},
   "source": [
    "Let's see how the last frame looks like."
   ]
  },
  {
   "cell_type": "code",
   "execution_count": null,
   "metadata": {},
   "outputs": [],
   "source": []
  },
  {
   "cell_type": "code",
   "execution_count": null,
   "metadata": {},
   "outputs": [],
   "source": [
    "from matplotlib.animation import FuncAnimation\n",
    "\n",
    "frames = image_data.copy()\n",
    "\n",
    "fig, ax = plt.subplots()\n",
    "frame = frames[0]  \n",
    "im = ax.imshow(frame, animated=True)\n",
    "\n",
    "def update(frame):\n",
    "    im.set_array(frame)\n",
    "    return [im]\n",
    "\n",
    "ani = FuncAnimation(fig, update, frames=frames, blit=True, interval=50);\n",
    "\n",
    "from IPython.display import HTML\n",
    "HTML(ani.to_jshtml())\n"
   ]
  },
  {
   "cell_type": "markdown",
   "metadata": {},
   "source": [
    "## Writing OME Data and metadata"
   ]
  },
  {
   "cell_type": "code",
   "execution_count": null,
   "metadata": {},
   "outputs": [],
   "source": [
    "frame1 = np.random.rand(100, 100)  # Frame 1"
   ]
  },
  {
   "cell_type": "markdown",
   "metadata": {},
   "source": [
    "Write extra metadata 'Experiment' as 'Calcium Imaging'"
   ]
  },
  {
   "cell_type": "code",
   "execution_count": null,
   "metadata": {},
   "outputs": [],
   "source": [
    "metadata = {\n",
    "    'Experiment': 'Calcium Imaging',\n",
    "}\n",
    "tiff_path = 'output.ome.tiff'\n",
    "imwrite(tiff_path, [frame1, frame2, frame3], metadata={'Description': str(metadata)})\n",
    "\n",
    "f = TiffFile('output.ome.tiff')\n",
    "ome_metadata = f.ome_metadata\n",
    "pprint(ome_metadata)"
   ]
  },
  {
   "cell_type": "markdown",
   "metadata": {},
   "source": [
    "## Open Exploration\n",
    "\n",
    "OME metadata is (usually) automatically generated by software used for data acquisition. Typically, the custom metadata is not added.\n",
    "\n",
    "Is there any other software that can help with tiff and ome-tiff metadata? YES!\n",
    "\n",
    "1. Download [ImageJ](https://imagej.net/ij/download.html). \n",
    "2. Download [Bioformatter plugin](https://downloads.openmicroscopy.org/bio-formats/7.2.0/artifacts/?C=M;O=D). The file you have to download `bioformats_package.jar`\n",
    "3. Place the `bioformats_package.jar` in the `plugins` folder of `ImageJ`\n",
    "\n",
    "**Use Bio-Format Importer from Plugins tab in ImageJ to import `00001_01.ome.tiff`. It might take a while to laod. Check `open xml`. Feel free to explore other options** \n",
    "\n",
    "\n",
    "For more information on how to open: [Small tutorial](https://docs.openmicroscopy.org/bio-formats/5.8.2/users/imagej/installing.html)\n",
    "\n"
   ]
  }
 ],
 "metadata": {
  "kernelspec": {
   "display_name": "caiman",
   "language": "python",
   "name": "python3"
  },
  "language_info": {
   "codemirror_mode": {
    "name": "ipython",
    "version": 3
   },
   "file_extension": ".py",
   "mimetype": "text/x-python",
   "name": "python",
   "nbconvert_exporter": "python",
   "pygments_lexer": "ipython3",
   "version": "3.10.8"
  }
 },
 "nbformat": 4,
 "nbformat_minor": 2
}
