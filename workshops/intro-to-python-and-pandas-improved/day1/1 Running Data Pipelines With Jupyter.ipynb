{
 "cells": [
  {
   "cell_type": "markdown",
   "metadata": {},
   "source": [
    "## Running Data Pipelines In a Jupyter Notebook\n",
    "\n",
    "A Jupyter Notebook is an open-source web application that allows you to create and share documents containing live code, equations, visualizations, and narrative text. It is useful for data cleaning and transformation, numerical simulation, statistical modeling, data visualization, machine learning, and much more, enabling interactive data science and scientific computing across over 40 programming languages. In this workshop we will be mostly using Jupyter Notebooks to write our Python code for data analyses and visualization.\n",
    "\n",
    "Here are some of the key usecases of Jupyter Notebooks:\n",
    "  - Documentation (using Markdown Cells)\n",
    "  - Code (using Code Cells)\n",
    "  - Running Code in other files (using the `%run` command)\n",
    "  - Installing Python Packages (using the `%pip install` command)\n",
    "\n",
    "By combining them together, one can create a documented series of steps explaining the analyses and/or how someone can run the code!"
   ]
  },
  {
   "cell_type": "markdown",
   "metadata": {},
   "source": [
    "### Data for this course\n",
    "\n",
    "The analyses in our course is focused on a dataset provided by Nicholas Steinmetz and his colleagues out of their 2019 publication in Nature ([Steinmetz et al, 2019](https://www.nature.com/articles/s41586-019-1787-x)).  \n",
    "\n",
    "In this notebook there are several steps containing code for:\n",
    "  - Downloading the paper\n",
    "  - Downloading example videos\n",
    "  - Downloading the data provided by the authors\n",
    "  - Converting the data into easier-to-analyze formats for this course\n",
    "\n",
    "\n",
    "Each Step has two parts, each of which need to be run:\n",
    "  1. **Download the Dependencies**. Some of the steps might need certain packages; to download and install them into your Python environment, run the cells with `%pip install` in them.\n",
    "  2. **Run the Code**.  Some of the cells have the code written directly here, while others run scripts found in other files.  Just run the cell and when the code is finished running you will see \"Success!\" printed below it!"
   ]
  },
  {
   "cell_type": "markdown",
   "metadata": {},
   "source": [
    "### Exercise: Run the Data Pipeline   \n",
    "\n",
    "Please run the code in the following sections to download the data and save it as a netcdf file (`.nc` extsion). **Note** that it is not necessary to understand the details of the code here, but rather to get a feel for using and running Jupyter notebooks. \n",
    "\n",
    "You can find some of the useful keyboard shortcuts for Jupyter Notebook in [this cheatsheet](jupyter_cheatsheet.md)."
   ]
  },
  {
   "cell_type": "markdown",
   "metadata": {},
   "source": [
    "---\n",
    "\n",
    "### Step 1: Download The Nature Paper"
   ]
  },
  {
   "cell_type": "markdown",
   "metadata": {},
   "source": [
    "Nature Paper: https://www.nature.com/articles/s41586-019-1787-x"
   ]
  },
  {
   "cell_type": "code",
   "execution_count": null,
   "metadata": {},
   "outputs": [],
   "source": [
    "import os\n",
    "import urllib.request\n",
    "\n",
    "url = 'https://www.nature.com/articles/s41586-019-1787-x.pdf'\n",
    "filename = 'references/steinmetz2019.pdf'\n",
    "\n",
    "os.makedirs('references', exist_ok=True)\n",
    "urllib.request.urlretrieve(url, filename);\n",
    "print('Success!')"
   ]
  },
  {
   "cell_type": "markdown",
   "metadata": {},
   "source": [
    "---\n",
    "\n",
    "#### Step 2: Download the Trimmed Videos\n",
    "\n",
    "  - *Inputs From*: iBOTS-Hosted Sciebo Folder\n",
    "  - *Outputs To*: `vids/*.avi`"
   ]
  },
  {
   "cell_type": "markdown",
   "metadata": {},
   "source": [
    "##### Install Dependencies"
   ]
  },
  {
   "cell_type": "code",
   "execution_count": null,
   "metadata": {},
   "outputs": [],
   "source": [
    "%pip install --upgrade requests tqdm"
   ]
  },
  {
   "cell_type": "markdown",
   "metadata": {},
   "source": [
    "##### Run Code"
   ]
  },
  {
   "cell_type": "code",
   "execution_count": null,
   "metadata": {},
   "outputs": [],
   "source": [
    "import os\n",
    "import requests\n",
    "from tqdm import tqdm\n",
    "\n",
    "def download_from_sciebo(public_url, to_filename, is_file = True):\n",
    "    \"\"\"\n",
    "    Downloads a file or folder from a shared URL on Sciebo\n",
    "    \"\"\"\n",
    "    r = requests.get(public_url + \"/download\", stream=True)\n",
    "    progress_bar = tqdm(desc=f\"Downloading {to_filename}\", unit='B', unit_scale=True, total=int(r.headers['Content-Length'])) if is_file else tqdm()\n",
    "    with open(to_filename, 'wb') as f:\n",
    "        for chunk in r.iter_content(chunk_size=8192):\n",
    "            f.write(chunk)\n",
    "            progress_bar.update(len(chunk))\n",
    "\n",
    "\n",
    "os.makedirs(\"vids\", exist_ok=True)\n",
    "download_from_sciebo(\"https://uni-bonn.sciebo.de/s/oMoBlis0VvAsblG\", \"vids/eyetracking_example_steinmetz2019.avi\")\n",
    "download_from_sciebo(\"https://uni-bonn.sciebo.de/s/fDY3V8JnZEOPnCR\", \"vids/mouse_wheel_example_steinmetz2019.avi\")\n",
    "print('Success!')"
   ]
  },
  {
   "cell_type": "markdown",
   "metadata": {},
   "source": [
    "--- \n",
    "\n",
    "### Step 3: Download the Steinmetz et al, 2019 Dataset\n",
    "\n",
    "From the [Neuromatch Academy Data Archive](https://osf.io/hygbm), hosted by the [Center for Open Science](https://osf.io/)\n",
    "\n",
    "  - *Input from*: The Internet\n",
    "  - *Output to*: `data/raw`"
   ]
  },
  {
   "cell_type": "markdown",
   "metadata": {},
   "source": [
    "##### Install Dependencies\n",
    "\n",
    "In Python you can make a single-line comment using the \"`#`\" symbol. For instance, the package installation in the cell below is commented out (since we already installed these packages in the last step)."
   ]
  },
  {
   "cell_type": "code",
   "execution_count": null,
   "metadata": {},
   "outputs": [],
   "source": [
    "# %pip install --upgrade requests tqdm"
   ]
  },
  {
   "cell_type": "markdown",
   "metadata": {},
   "source": [
    "##### Run Python script"
   ]
  },
  {
   "cell_type": "code",
   "execution_count": null,
   "metadata": {},
   "outputs": [],
   "source": [
    "%run scripts/1_download_data.py\n",
    "print('Success!')"
   ]
  },
  {
   "cell_type": "markdown",
   "metadata": {},
   "source": [
    "**This step takes around 10 minutes**: While the data is being downloaded feel free to watch [this video](https://youtu.be/WXn4-FpVaOo?si=JtCNyh6Xf102zOHg) from the Neuromatch academy in which Nicholas Steinmetz breifly explains the dataset. If you have doubts feel free to discuss them in your group!"
   ]
  },
  {
   "cell_type": "markdown",
   "metadata": {},
   "source": [
    "---\n",
    "\n",
    "### Step 4: Process the Data\n",
    "\n",
    "  - *Inputs from*: `data/raw/*`\n",
    "  - *Outputs to*: `data/processed/*.nc`\n"
   ]
  },
  {
   "cell_type": "markdown",
   "metadata": {},
   "source": [
    "##### Install Dependencies"
   ]
  },
  {
   "cell_type": "code",
   "execution_count": null,
   "metadata": {},
   "outputs": [],
   "source": [
    "%pip install --upgrade numpy pandas xarray netCDF4 pyarrow"
   ]
  },
  {
   "cell_type": "markdown",
   "metadata": {},
   "source": [
    "##### Run Python script"
   ]
  },
  {
   "cell_type": "code",
   "execution_count": null,
   "metadata": {},
   "outputs": [],
   "source": [
    "%run scripts/2_convert_to_netcdf.py\n",
    "print('Success!')"
   ]
  },
  {
   "cell_type": "markdown",
   "metadata": {},
   "source": [
    "---\n",
    "\n",
    "### Step 5: Extract Tables for Today's Analysis\n",
    "\n",
    "  - *Inputs from*: `data/processed/*.nc`\n",
    "  - *Outputs to*: `data/final/*.csv`"
   ]
  },
  {
   "cell_type": "markdown",
   "metadata": {},
   "source": [
    "##### Install Dependencies"
   ]
  },
  {
   "cell_type": "code",
   "execution_count": null,
   "metadata": {},
   "outputs": [],
   "source": [
    "# %pip install pandas xarray"
   ]
  },
  {
   "cell_type": "markdown",
   "metadata": {},
   "source": [
    "##### Run Python script"
   ]
  },
  {
   "cell_type": "code",
   "execution_count": null,
   "metadata": {},
   "outputs": [],
   "source": [
    "%run scripts/3_extract_to_csv.py"
   ]
  },
  {
   "cell_type": "markdown",
   "metadata": {},
   "source": [
    "---\n",
    "\n",
    "### Step 6: Explore VS Code's CSV extensions\n",
    "\n",
    "VS Code is a highly customizable Integrated Development Environment (IDE) and you can find many useful extensions from the extensions marketpalce. \n",
    "\n",
    "To explore the extensions, click on the Extensions icon on the left side bar (usually the 5th icon from the top) and you can simply type \"csv\" in the search box to see all the csv-related extensions available to be added to your VS Code. \n",
    "\n",
    "Feel free to explore some of these extensions (e.g. 🌈 Rainbow CSV) and see if they make it easier to view or interact with a CSV file."
   ]
  }
 ],
 "metadata": {
  "kernelspec": {
   "display_name": "datascience1",
   "language": "python",
   "name": "python3"
  },
  "language_info": {
   "codemirror_mode": {
    "name": "ipython",
    "version": 3
   },
   "file_extension": ".py",
   "mimetype": "text/x-python",
   "name": "python",
   "nbconvert_exporter": "python",
   "pygments_lexer": "ipython3",
   "version": "3.11.5"
  }
 },
 "nbformat": 4,
 "nbformat_minor": 2
}
