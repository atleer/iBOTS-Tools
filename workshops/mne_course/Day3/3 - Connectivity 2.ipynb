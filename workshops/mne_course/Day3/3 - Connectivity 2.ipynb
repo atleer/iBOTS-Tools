{
 "cells": [
  {
   "cell_type": "code",
   "execution_count": 2,
   "metadata": {},
   "outputs": [
    {
     "name": "stdout",
     "output_type": "stream",
     "text": [
      "Collecting mne_connectivity\n",
      "  Downloading mne_connectivity-0.6.0-py3-none-any.whl.metadata (10 kB)\n",
      "Requirement already satisfied: mne>=1.6 in c:\\users\\sangeetha\\anaconda3\\envs\\mne\\lib\\site-packages (from mne_connectivity) (1.6.1)\n",
      "Collecting netCDF4>=1.6.5 (from mne_connectivity)\n",
      "  Downloading netCDF4-1.6.5-cp311-cp311-win_amd64.whl.metadata (1.8 kB)\n",
      "Requirement already satisfied: numpy>=1.21 in c:\\users\\sangeetha\\anaconda3\\envs\\mne\\lib\\site-packages (from mne_connectivity) (1.26.4)\n",
      "Requirement already satisfied: pandas>=1.3.2 in c:\\users\\sangeetha\\anaconda3\\envs\\mne\\lib\\site-packages (from mne_connectivity) (2.2.0)\n",
      "Requirement already satisfied: scipy>=1.4.0 in c:\\users\\sangeetha\\anaconda3\\envs\\mne\\lib\\site-packages (from mne_connectivity) (1.12.0)\n",
      "Requirement already satisfied: tqdm in c:\\users\\sangeetha\\anaconda3\\envs\\mne\\lib\\site-packages (from mne_connectivity) (4.66.1)\n",
      "Collecting xarray>=2023.11.0 (from mne_connectivity)\n",
      "  Downloading xarray-2024.1.1-py3-none-any.whl.metadata (11 kB)\n",
      "Requirement already satisfied: matplotlib>=3.5.0 in c:\\users\\sangeetha\\anaconda3\\envs\\mne\\lib\\site-packages (from mne>=1.6->mne_connectivity) (3.8.2)\n",
      "Requirement already satisfied: pooch>=1.5 in c:\\users\\sangeetha\\anaconda3\\envs\\mne\\lib\\site-packages (from mne>=1.6->mne_connectivity) (1.8.0)\n",
      "Requirement already satisfied: decorator in c:\\users\\sangeetha\\anaconda3\\envs\\mne\\lib\\site-packages (from mne>=1.6->mne_connectivity) (5.1.1)\n",
      "Requirement already satisfied: packaging in c:\\users\\sangeetha\\anaconda3\\envs\\mne\\lib\\site-packages (from mne>=1.6->mne_connectivity) (23.2)\n",
      "Requirement already satisfied: jinja2 in c:\\users\\sangeetha\\anaconda3\\envs\\mne\\lib\\site-packages (from mne>=1.6->mne_connectivity) (3.1.3)\n",
      "Requirement already satisfied: lazy-loader>=0.3 in c:\\users\\sangeetha\\anaconda3\\envs\\mne\\lib\\site-packages (from mne>=1.6->mne_connectivity) (0.3)\n",
      "Collecting cftime (from netCDF4>=1.6.5->mne_connectivity)\n",
      "  Downloading cftime-1.6.3-cp311-cp311-win_amd64.whl.metadata (8.8 kB)\n",
      "Requirement already satisfied: certifi in c:\\users\\sangeetha\\anaconda3\\envs\\mne\\lib\\site-packages (from netCDF4>=1.6.5->mne_connectivity) (2024.2.2)\n",
      "Requirement already satisfied: python-dateutil>=2.8.2 in c:\\users\\sangeetha\\anaconda3\\envs\\mne\\lib\\site-packages (from pandas>=1.3.2->mne_connectivity) (2.8.2)\n",
      "Requirement already satisfied: pytz>=2020.1 in c:\\users\\sangeetha\\anaconda3\\envs\\mne\\lib\\site-packages (from pandas>=1.3.2->mne_connectivity) (2024.1)\n",
      "Requirement already satisfied: tzdata>=2022.7 in c:\\users\\sangeetha\\anaconda3\\envs\\mne\\lib\\site-packages (from pandas>=1.3.2->mne_connectivity) (2023.4)\n",
      "Requirement already satisfied: colorama in c:\\users\\sangeetha\\anaconda3\\envs\\mne\\lib\\site-packages (from tqdm->mne_connectivity) (0.4.6)\n",
      "Requirement already satisfied: contourpy>=1.0.1 in c:\\users\\sangeetha\\anaconda3\\envs\\mne\\lib\\site-packages (from matplotlib>=3.5.0->mne>=1.6->mne_connectivity) (1.2.0)\n",
      "Requirement already satisfied: cycler>=0.10 in c:\\users\\sangeetha\\anaconda3\\envs\\mne\\lib\\site-packages (from matplotlib>=3.5.0->mne>=1.6->mne_connectivity) (0.12.1)\n",
      "Requirement already satisfied: fonttools>=4.22.0 in c:\\users\\sangeetha\\anaconda3\\envs\\mne\\lib\\site-packages (from matplotlib>=3.5.0->mne>=1.6->mne_connectivity) (4.48.1)\n",
      "Requirement already satisfied: kiwisolver>=1.3.1 in c:\\users\\sangeetha\\anaconda3\\envs\\mne\\lib\\site-packages (from matplotlib>=3.5.0->mne>=1.6->mne_connectivity) (1.4.5)\n",
      "Requirement already satisfied: pillow>=8 in c:\\users\\sangeetha\\anaconda3\\envs\\mne\\lib\\site-packages (from matplotlib>=3.5.0->mne>=1.6->mne_connectivity) (10.2.0)\n",
      "Requirement already satisfied: pyparsing>=2.3.1 in c:\\users\\sangeetha\\anaconda3\\envs\\mne\\lib\\site-packages (from matplotlib>=3.5.0->mne>=1.6->mne_connectivity) (3.1.1)\n",
      "Requirement already satisfied: platformdirs>=2.5.0 in c:\\users\\sangeetha\\anaconda3\\envs\\mne\\lib\\site-packages (from pooch>=1.5->mne>=1.6->mne_connectivity) (4.2.0)\n",
      "Requirement already satisfied: requests>=2.19.0 in c:\\users\\sangeetha\\anaconda3\\envs\\mne\\lib\\site-packages (from pooch>=1.5->mne>=1.6->mne_connectivity) (2.31.0)\n",
      "Requirement already satisfied: six>=1.5 in c:\\users\\sangeetha\\anaconda3\\envs\\mne\\lib\\site-packages (from python-dateutil>=2.8.2->pandas>=1.3.2->mne_connectivity) (1.16.0)\n",
      "Requirement already satisfied: MarkupSafe>=2.0 in c:\\users\\sangeetha\\anaconda3\\envs\\mne\\lib\\site-packages (from jinja2->mne>=1.6->mne_connectivity) (2.1.5)\n",
      "Requirement already satisfied: charset-normalizer<4,>=2 in c:\\users\\sangeetha\\anaconda3\\envs\\mne\\lib\\site-packages (from requests>=2.19.0->pooch>=1.5->mne>=1.6->mne_connectivity) (3.3.2)\n",
      "Requirement already satisfied: idna<4,>=2.5 in c:\\users\\sangeetha\\anaconda3\\envs\\mne\\lib\\site-packages (from requests>=2.19.0->pooch>=1.5->mne>=1.6->mne_connectivity) (3.6)\n",
      "Requirement already satisfied: urllib3<3,>=1.21.1 in c:\\users\\sangeetha\\anaconda3\\envs\\mne\\lib\\site-packages (from requests>=2.19.0->pooch>=1.5->mne>=1.6->mne_connectivity) (2.2.0)\n",
      "Downloading mne_connectivity-0.6.0-py3-none-any.whl (107 kB)\n",
      "   ---------------------------------------- 0.0/107.2 kB ? eta -:--:--\n",
      "   -------------------------------------- - 102.4/107.2 kB 3.0 MB/s eta 0:00:01\n",
      "   ---------------------------------------- 107.2/107.2 kB 2.1 MB/s eta 0:00:00\n",
      "Downloading netCDF4-1.6.5-cp311-cp311-win_amd64.whl (6.6 MB)\n",
      "   ---------------------------------------- 0.0/6.6 MB ? eta -:--:--\n",
      "   - -------------------------------------- 0.3/6.6 MB 9.2 MB/s eta 0:00:01\n",
      "   ---- ----------------------------------- 0.8/6.6 MB 8.4 MB/s eta 0:00:01\n",
      "   ------- -------------------------------- 1.2/6.6 MB 8.5 MB/s eta 0:00:01\n",
      "   --------- ------------------------------ 1.6/6.6 MB 8.5 MB/s eta 0:00:01\n",
      "   ------------ --------------------------- 2.0/6.6 MB 8.5 MB/s eta 0:00:01\n",
      "   -------------- ------------------------- 2.4/6.6 MB 8.5 MB/s eta 0:00:01\n",
      "   ---------------- ----------------------- 2.8/6.6 MB 8.5 MB/s eta 0:00:01\n",
      "   ------------------- -------------------- 3.2/6.6 MB 8.5 MB/s eta 0:00:01\n",
      "   ------------------- -------------------- 3.3/6.6 MB 8.7 MB/s eta 0:00:01\n",
      "   ---------------------- ----------------- 3.7/6.6 MB 7.9 MB/s eta 0:00:01\n",
      "   ------------------------ --------------- 4.1/6.6 MB 7.8 MB/s eta 0:00:01\n",
      "   --------------------------- ------------ 4.5/6.6 MB 8.0 MB/s eta 0:00:01\n",
      "   ----------------------------- ---------- 5.0/6.6 MB 8.1 MB/s eta 0:00:01\n",
      "   ------------------------------- -------- 5.3/6.6 MB 8.2 MB/s eta 0:00:01\n",
      "   ---------------------------------- ----- 5.7/6.6 MB 8.1 MB/s eta 0:00:01\n",
      "   ------------------------------------ --- 6.1/6.6 MB 8.3 MB/s eta 0:00:01\n",
      "   ---------------------------------------  6.5/6.6 MB 8.4 MB/s eta 0:00:01\n",
      "   ---------------------------------------  6.6/6.6 MB 8.3 MB/s eta 0:00:01\n",
      "   ---------------------------------------- 6.6/6.6 MB 7.9 MB/s eta 0:00:00\n",
      "Downloading xarray-2024.1.1-py3-none-any.whl (1.1 MB)\n",
      "   ---------------------------------------- 0.0/1.1 MB ? eta -:--:--\n",
      "   --------------- ------------------------ 0.4/1.1 MB 8.7 MB/s eta 0:00:01\n",
      "   ------------------------------- -------- 0.8/1.1 MB 8.8 MB/s eta 0:00:01\n",
      "   ---------------------------------------- 1.1/1.1 MB 7.6 MB/s eta 0:00:00\n",
      "Downloading cftime-1.6.3-cp311-cp311-win_amd64.whl (188 kB)\n",
      "   ---------------------------------------- 0.0/188.2 kB ? eta -:--:--\n",
      "   --------------------------------------- 188.2/188.2 kB 11.1 MB/s eta 0:00:00\n",
      "Installing collected packages: cftime, netCDF4, xarray, mne_connectivity\n",
      "Successfully installed cftime-1.6.3 mne_connectivity-0.6.0 netCDF4-1.6.5 xarray-2024.1.1\n",
      "Note: you may need to restart the kernel to use updated packages.\n"
     ]
    },
    {
     "name": "stderr",
     "output_type": "stream",
     "text": [
      "WARNING: Skipping c:\\Users\\sangeetha\\anaconda3\\envs\\mne\\Lib\\site-packages\\vtk-9.2.6.egg-info due to invalid metadata entry 'name'\n",
      "WARNING: Skipping c:\\Users\\sangeetha\\anaconda3\\envs\\mne\\Lib\\site-packages\\vtk-9.2.6.egg-info due to invalid metadata entry 'name'\n",
      "WARNING: Skipping c:\\Users\\sangeetha\\anaconda3\\envs\\mne\\Lib\\site-packages\\vtk-9.2.6.egg-info due to invalid metadata entry 'name'\n"
     ]
    }
   ],
   "source": [
    "%pip install mne_connectivity"
   ]
  },
  {
   "cell_type": "code",
   "execution_count": 3,
   "metadata": {},
   "outputs": [],
   "source": [
    "%matplotlib inline\n",
    "\n",
    "import mne_connectivity\n",
    "import numpy as np\n",
    "\n",
    "from _helper_functions import simulate_connectivity, plot_connectivity"
   ]
  },
  {
   "cell_type": "markdown",
   "metadata": {},
   "source": [
    "## Multivariate frequency-resolved connectivity - the `mne-connectivity` package continued\n",
    "\n",
    "The connectivity methods covered so far have all been bivariate methods, i.e. connectivity from one signal to another signal.\n",
    "\n",
    "In contrast, multivariate connectivity methods can be used to compute connectivity between whole groups of signals simultaneously, bringing both practical and methodological benefits."
   ]
  },
  {
   "cell_type": "markdown",
   "metadata": {},
   "source": [
    "### Part 1 - Simulating connectivity\n",
    "\n",
    "As before, we will use the custom helper function `simulate_connectivity()` to generate signals which we can explore multivariate connectivity computations on."
   ]
  },
  {
   "cell_type": "markdown",
   "metadata": {},
   "source": [
    "**Exercises - Simulating connectivity**\n",
    "\n",
    "**Exercise:** Simulate 2 interacting channels in the frequency ranges: 5-10 Hz; 15-20 Hz; and 25-30 Hz.\n",
    "\n",
    "Do this in 3 separate function calls."
   ]
  },
  {
   "cell_type": "code",
   "execution_count": null,
   "metadata": {},
   "outputs": [],
   "source": [
    "##  CODE GOES HERE\n",
    "epochs_5_10 = simulate_connectivity(n_seeds=1, n_targets=1, freq_band=(5, 10))\n",
    "epochs_15_20 = simulate_connectivity(n_seeds=1, n_targets=1, freq_band=(15, 20))\n",
    "epochs_25_30 = simulate_connectivity(n_seeds=1, n_targets=1, freq_band=(25, 30))"
   ]
  },
  {
   "cell_type": "markdown",
   "metadata": {},
   "source": [
    "**Exercise:** Combine the 3 sets of `Epochs` into a single `Epochs` object using the [`add_channels()`](https://mne.tools/stable/generated/mne.Epochs.html#mne.Epochs.add_channels) method."
   ]
  },
  {
   "cell_type": "code",
   "execution_count": null,
   "metadata": {},
   "outputs": [],
   "source": [
    "## CODE GOES HERE\n",
    "epochs = epochs_5_10.copy().add_channels([epochs_15_20, epochs_25_30])"
   ]
  },
  {
   "cell_type": "markdown",
   "metadata": {},
   "source": [
    "**Exercise:** Verify that activity is present in the appropriate frequency ranges by computing the power spectra of the data."
   ]
  },
  {
   "cell_type": "code",
   "execution_count": null,
   "metadata": {},
   "outputs": [],
   "source": [
    "## CODE GOES HERE\n",
    "epochs.compute_psd().plot();"
   ]
  },
  {
   "cell_type": "markdown",
   "metadata": {},
   "source": [
    "### Part 2 - A recap of bivariate connectivity\n",
    "\n",
    "Again, we will use [`mne_connectivity.spectral_connectivity_epochs()`](https://mne.tools/mne-connectivity/stable/generated/mne_connectivity.spectral_connectivity_epochs.html#mne_connectivity.spectral_connectivity_epochs) to compute connectivity between the simulated signals.\n",
    "\n",
    "We first generate the results from a bivariate connectivity method to use as a comparison for the multivariate methods."
   ]
  },
  {
   "cell_type": "markdown",
   "metadata": {},
   "source": [
    "**Exercises - Bivariate connectivity**\n",
    "\n",
    "**Exercise:** Compute connectivity using the imaginary part of coherency (`imcoh` method).\n",
    "\n",
    "Specify the indices such that connectivity is only computed between the 3 sets of interacting channels."
   ]
  },
  {
   "cell_type": "code",
   "execution_count": 4,
   "metadata": {},
   "outputs": [
    {
     "name": "stdout",
     "output_type": "stream",
     "text": [
      "\u001b[1;31mSignature:\u001b[0m\n",
      "\u001b[0mmne_connectivity\u001b[0m\u001b[1;33m.\u001b[0m\u001b[0mspectral_connectivity_epochs\u001b[0m\u001b[1;33m(\u001b[0m\u001b[1;33m\n",
      "\u001b[0m    \u001b[0mdata\u001b[0m\u001b[1;33m,\u001b[0m\u001b[1;33m\n",
      "\u001b[0m    \u001b[0mnames\u001b[0m\u001b[1;33m=\u001b[0m\u001b[1;32mNone\u001b[0m\u001b[1;33m,\u001b[0m\u001b[1;33m\n",
      "\u001b[0m    \u001b[0mmethod\u001b[0m\u001b[1;33m=\u001b[0m\u001b[1;34m'coh'\u001b[0m\u001b[1;33m,\u001b[0m\u001b[1;33m\n",
      "\u001b[0m    \u001b[0mindices\u001b[0m\u001b[1;33m=\u001b[0m\u001b[1;32mNone\u001b[0m\u001b[1;33m,\u001b[0m\u001b[1;33m\n",
      "\u001b[0m    \u001b[0msfreq\u001b[0m\u001b[1;33m=\u001b[0m\u001b[1;32mNone\u001b[0m\u001b[1;33m,\u001b[0m\u001b[1;33m\n",
      "\u001b[0m    \u001b[0mmode\u001b[0m\u001b[1;33m=\u001b[0m\u001b[1;34m'multitaper'\u001b[0m\u001b[1;33m,\u001b[0m\u001b[1;33m\n",
      "\u001b[0m    \u001b[0mfmin\u001b[0m\u001b[1;33m=\u001b[0m\u001b[1;32mNone\u001b[0m\u001b[1;33m,\u001b[0m\u001b[1;33m\n",
      "\u001b[0m    \u001b[0mfmax\u001b[0m\u001b[1;33m=\u001b[0m\u001b[0minf\u001b[0m\u001b[1;33m,\u001b[0m\u001b[1;33m\n",
      "\u001b[0m    \u001b[0mfskip\u001b[0m\u001b[1;33m=\u001b[0m\u001b[1;36m0\u001b[0m\u001b[1;33m,\u001b[0m\u001b[1;33m\n",
      "\u001b[0m    \u001b[0mfaverage\u001b[0m\u001b[1;33m=\u001b[0m\u001b[1;32mFalse\u001b[0m\u001b[1;33m,\u001b[0m\u001b[1;33m\n",
      "\u001b[0m    \u001b[0mtmin\u001b[0m\u001b[1;33m=\u001b[0m\u001b[1;32mNone\u001b[0m\u001b[1;33m,\u001b[0m\u001b[1;33m\n",
      "\u001b[0m    \u001b[0mtmax\u001b[0m\u001b[1;33m=\u001b[0m\u001b[1;32mNone\u001b[0m\u001b[1;33m,\u001b[0m\u001b[1;33m\n",
      "\u001b[0m    \u001b[0mmt_bandwidth\u001b[0m\u001b[1;33m=\u001b[0m\u001b[1;32mNone\u001b[0m\u001b[1;33m,\u001b[0m\u001b[1;33m\n",
      "\u001b[0m    \u001b[0mmt_adaptive\u001b[0m\u001b[1;33m=\u001b[0m\u001b[1;32mFalse\u001b[0m\u001b[1;33m,\u001b[0m\u001b[1;33m\n",
      "\u001b[0m    \u001b[0mmt_low_bias\u001b[0m\u001b[1;33m=\u001b[0m\u001b[1;32mTrue\u001b[0m\u001b[1;33m,\u001b[0m\u001b[1;33m\n",
      "\u001b[0m    \u001b[0mcwt_freqs\u001b[0m\u001b[1;33m=\u001b[0m\u001b[1;32mNone\u001b[0m\u001b[1;33m,\u001b[0m\u001b[1;33m\n",
      "\u001b[0m    \u001b[0mcwt_n_cycles\u001b[0m\u001b[1;33m=\u001b[0m\u001b[1;36m7\u001b[0m\u001b[1;33m,\u001b[0m\u001b[1;33m\n",
      "\u001b[0m    \u001b[0mgc_n_lags\u001b[0m\u001b[1;33m=\u001b[0m\u001b[1;36m40\u001b[0m\u001b[1;33m,\u001b[0m\u001b[1;33m\n",
      "\u001b[0m    \u001b[0mrank\u001b[0m\u001b[1;33m=\u001b[0m\u001b[1;32mNone\u001b[0m\u001b[1;33m,\u001b[0m\u001b[1;33m\n",
      "\u001b[0m    \u001b[0mblock_size\u001b[0m\u001b[1;33m=\u001b[0m\u001b[1;36m1000\u001b[0m\u001b[1;33m,\u001b[0m\u001b[1;33m\n",
      "\u001b[0m    \u001b[0mn_jobs\u001b[0m\u001b[1;33m=\u001b[0m\u001b[1;36m1\u001b[0m\u001b[1;33m,\u001b[0m\u001b[1;33m\n",
      "\u001b[0m    \u001b[0mverbose\u001b[0m\u001b[1;33m=\u001b[0m\u001b[1;32mNone\u001b[0m\u001b[1;33m,\u001b[0m\u001b[1;33m\n",
      "\u001b[0m\u001b[1;33m)\u001b[0m\u001b[1;33m\u001b[0m\u001b[1;33m\u001b[0m\u001b[0m\n",
      "\u001b[1;31mDocstring:\u001b[0m\n",
      "Compute frequency- and time-frequency-domain connectivity measures.\n",
      "\n",
      "The connectivity method(s) are specified using the \"method\" parameter.\n",
      "All methods are based on estimates of the cross- and power spectral\n",
      "densities (CSD/PSD) Sxy and Sxx, Syy.\n",
      "\n",
      "Parameters\n",
      "----------\n",
      "data : array-like, shape=(n_epochs, n_signals, n_times) | Epochs\n",
      "    The data from which to compute connectivity. Note that it is also\n",
      "    possible to combine multiple signals by providing a list of tuples,\n",
      "    e.g., data = [(arr_0, stc_0), (arr_1, stc_1), (arr_2, stc_2)],\n",
      "    corresponds to 3 epochs, and arr_* could be an array with the same\n",
      "    number of time points as stc_*. The array-like object can also\n",
      "    be a list/generator of array, shape =(n_signals, n_times),\n",
      "    or a list/generator of SourceEstimate or VolSourceEstimate objects.\n",
      "\n",
      "names : list | np.ndarray | None\n",
      "    The names of the nodes of the dataset used to compute\n",
      "    connectivity. If 'None' (default), then names will be\n",
      "    a list of integers from 0 to ``n_nodes``. If a list\n",
      "    of names, then it must be equal in length to ``n_nodes``.\n",
      "method : str | list of str\n",
      "    Connectivity measure(s) to compute. These can be ``['coh', 'cohy',\n",
      "    'imcoh', 'mic', 'mim', 'plv', 'ciplv', 'ppc', 'pli', 'dpli', 'wpli',\n",
      "    'wpli2_debiased', 'gc', 'gc_tr']``. Multivariate methods (``['mic',\n",
      "    'mim', 'gc', 'gc_tr]``) cannot be called with the other methods.\n",
      "indices : tuple of array | None\n",
      "    Two arrays with indices of connections for which to compute\n",
      "    connectivity. If a bivariate method is called, each array for the seeds\n",
      "    and targets should contain the channel indices for each bivariate\n",
      "    connection. If a multivariate method is called, each array for the\n",
      "    seeds and targets should consist of nested arrays containing\n",
      "    the channel indices for each multivariate connection. If ``None``,\n",
      "    connections between all channels are computed, unless a Granger\n",
      "    causality method is called, in which case an error is raised.\n",
      "sfreq : float\n",
      "    The sampling frequency. Required if data is not\n",
      "    :class:`Epochs <mne.Epochs>`.\n",
      "mode : str\n",
      "    Spectrum estimation mode can be either: 'multitaper', 'fourier', or\n",
      "    'cwt_morlet'.\n",
      "fmin : float | tuple of float\n",
      "    The lower frequency of interest. Multiple bands are defined using\n",
      "    a tuple, e.g., (8., 20.) for two bands with 8Hz and 20Hz lower freq.\n",
      "fmax : float | tuple of float\n",
      "    The upper frequency of interest. Multiple bands are dedined using\n",
      "    a tuple, e.g. (13., 30.) for two band with 13Hz and 30Hz upper freq.\n",
      "fskip : int\n",
      "    Omit every \"(fskip + 1)-th\" frequency bin to decimate in frequency\n",
      "    domain.\n",
      "faverage : bool\n",
      "    Average connectivity scores for each frequency band. If True,\n",
      "    the output freqs will be a list with arrays of the frequencies\n",
      "    that were averaged.\n",
      "tmin : float | None\n",
      "    Time to start connectivity estimation. Note: when \"data\" is an array,\n",
      "    the first sample is assumed to be at time 0. For other types\n",
      "    (Epochs, etc.), the time information contained in the object is used\n",
      "    to compute the time indices.\n",
      "tmax : float | None\n",
      "    Time to end connectivity estimation. Note: when \"data\" is an array,\n",
      "    the first sample is assumed to be at time 0. For other types\n",
      "    (Epochs, etc.), the time information contained in the object is used\n",
      "    to compute the time indices.\n",
      "mt_bandwidth : float | None\n",
      "    The bandwidth of the multitaper windowing function in Hz.\n",
      "    Only used in 'multitaper' mode.\n",
      "mt_adaptive : bool\n",
      "    Use adaptive weights to combine the tapered spectra into PSD.\n",
      "    Only used in 'multitaper' mode.\n",
      "mt_low_bias : bool\n",
      "    Only use tapers with more than 90 percent spectral concentration\n",
      "    within bandwidth. Only used in 'multitaper' mode.\n",
      "cwt_freqs : array\n",
      "    Array of frequencies of interest. Only used in 'cwt_morlet' mode.\n",
      "cwt_n_cycles : float | array of float\n",
      "    Number of cycles. Fixed number or one per frequency. Only used in\n",
      "    'cwt_morlet' mode.\n",
      "gc_n_lags : int\n",
      "    Number of lags to use for the vector autoregressive model when\n",
      "    computing Granger causality. Higher values increase computational cost,\n",
      "    but reduce the degree of spectral smoothing in the results. Only used\n",
      "    if ``method`` contains any of ``['gc', 'gc_tr']``.\n",
      "rank : tuple of array | None\n",
      "    Two arrays with the rank to project the seed and target data to,\n",
      "    respectively, using singular value decomposition. If None, the rank of\n",
      "    the data is computed and projected to. Only used if ``method`` contains\n",
      "    any of ``['mic', 'mim', 'gc', 'gc_tr']``.\n",
      "block_size : int\n",
      "    How many connections to compute at once (higher numbers are faster\n",
      "    but require more memory).\n",
      "n_jobs : int\n",
      "    How many samples to process in parallel.\n",
      "\n",
      "verbose : bool, str, int, or None\n",
      "    If not None, override default verbose level (see :func:`mne.verbose`\n",
      "    for more info). If used, it should be passed as a\n",
      "    keyword-argument only.\n",
      "\n",
      "Returns\n",
      "-------\n",
      "con : array | list of array\n",
      "    Computed connectivity measure(s). Either an instance of\n",
      "    ``SpectralConnectivity`` or ``SpectroTemporalConnectivity``.\n",
      "    The shape of the connectivity result will be:\n",
      "\n",
      "    - ``(n_cons, n_freqs)`` for multitaper or fourier modes\n",
      "    - ``(n_cons, n_freqs, n_times)`` for cwt_morlet mode\n",
      "    - ``n_cons = n_signals ** 2`` for bivariate methods with\n",
      "      ``indices=None``\n",
      "    - ``n_cons = 1`` for multivariate methods with ``indices=None``\n",
      "    - ``n_cons = len(indices[0])`` for bivariate and multivariate methods\n",
      "      when indices is supplied.\n",
      "\n",
      "See Also\n",
      "--------\n",
      "mne_connectivity.spectral_connectivity_time\n",
      "mne_connectivity.SpectralConnectivity\n",
      "mne_connectivity.SpectroTemporalConnectivity\n",
      "\n",
      "Notes\n",
      "-----\n",
      "Please note that the interpretation of the measures in this function\n",
      "depends on the data and underlying assumptions and does not necessarily\n",
      "reflect a causal relationship between brain regions.\n",
      "\n",
      "These measures are not to be interpreted over time. Each Epoch passed into\n",
      "the dataset is interpreted as an independent sample of the same\n",
      "connectivity structure. Within each Epoch, it is assumed that the spectral\n",
      "measure is stationary. The spectral measures implemented in this function\n",
      "are computed across Epochs. **Thus, spectral measures computed with only\n",
      "one Epoch will result in errorful values and spectral measures computed\n",
      "with few Epochs will be unreliable.** Please see\n",
      "``spectral_connectivity_time`` for time-resolved connectivity estimation.\n",
      "\n",
      "The spectral densities can be estimated using a multitaper method with\n",
      "digital prolate spheroidal sequence (DPSS) windows, a discrete Fourier\n",
      "transform with Hanning windows, or a continuous wavelet transform using\n",
      "Morlet wavelets. The spectral estimation mode is specified using the\n",
      "\"mode\" parameter.\n",
      "\n",
      "By default, the connectivity between all signals is computed (only\n",
      "connections corresponding to the lower-triangular part of the connectivity\n",
      "matrix). If one is only interested in the connectivity between some\n",
      "signals, the \"indices\" parameter can be used. For example, to compute the\n",
      "connectivity between the signal with index 0 and signals \"2, 3, 4\" (a total\n",
      "of 3 connections) one can use the following::\n",
      "\n",
      "    indices = (np.array([0, 0, 0]),    # row indices\n",
      "               np.array([2, 3, 4]))    # col indices\n",
      "\n",
      "    con = spectral_connectivity_epochs(data, method='coh',\n",
      "                                       indices=indices, ...)\n",
      "\n",
      "In this case con.get_data().shape = (3, n_freqs). The connectivity scores\n",
      "are in the same order as defined indices.\n",
      "\n",
      "For multivariate methods, this is handled differently. If \"indices\" is\n",
      "None, connectivity between all signals will be computed and a single\n",
      "connectivity spectrum will be returned (this is not possible if a Granger\n",
      "causality method is called). If \"indices\" is specified, seed and target\n",
      "indices for each connection should be specified as nested array-likes. For\n",
      "example, to compute the connectivity between signals (0, 1) -> (2, 3) and\n",
      "(0, 1) -> (4, 5), indices should be specified as::\n",
      "\n",
      "    indices = (np.array([[0, 1], [0, 1]]),  # seeds\n",
      "               np.array([[2, 3], [4, 5]]))  # targets\n",
      "\n",
      "More information on working with multivariate indices and handling\n",
      "connections where the number of seeds and targets are not equal can be\n",
      "found in the :doc:`../auto_examples/handling_ragged_arrays` example.\n",
      "\n",
      "**Supported Connectivity Measures**\n",
      "\n",
      "The connectivity method(s) is specified using the \"method\" parameter. The\n",
      "following methods are supported (note: ``E[]`` denotes average over\n",
      "epochs). Multiple measures can be computed at once by using a list/tuple,\n",
      "e.g., ``['coh', 'pli']`` to compute coherence and PLI.\n",
      "\n",
      "    'coh' : Coherence given by::\n",
      "\n",
      "                 | E[Sxy] |\n",
      "        C = ---------------------\n",
      "            sqrt(E[Sxx] * E[Syy])\n",
      "\n",
      "    'cohy' : Coherency given by::\n",
      "\n",
      "                   E[Sxy]\n",
      "        C = ---------------------\n",
      "            sqrt(E[Sxx] * E[Syy])\n",
      "\n",
      "    'imcoh' : Imaginary coherence :footcite:`NolteEtAl2004` given by::\n",
      "\n",
      "                  Im(E[Sxy])\n",
      "        C = ----------------------\n",
      "            sqrt(E[Sxx] * E[Syy])\n",
      "\n",
      "    'mic' : Maximised Imaginary part of Coherency (MIC)\n",
      "    :footcite:`EwaldEtAl2012` given by:\n",
      "\n",
      "        :math:`MIC=\\Large{\\frac{\\boldsymbol{\\alpha}^T \\boldsymbol{E \\beta}}\n",
      "        {\\parallel\\boldsymbol{\\alpha}\\parallel \\parallel\\boldsymbol{\\beta}\n",
      "        \\parallel}}`\n",
      "\n",
      "        where: :math:`\\boldsymbol{E}` is the imaginary part of the\n",
      "        transformed cross-spectral density between seeds and targets; and\n",
      "        :math:`\\boldsymbol{\\alpha}` and :math:`\\boldsymbol{\\beta}` are\n",
      "        eigenvectors for the seeds and targets, such that\n",
      "        :math:`\\boldsymbol{\\alpha}^T \\boldsymbol{E \\beta}` maximises\n",
      "        connectivity between the seeds and targets.\n",
      "\n",
      "    'mim' : Multivariate Interaction Measure (MIM)\n",
      "    :footcite:`EwaldEtAl2012` given by:\n",
      "\n",
      "        :math:`MIM=tr(\\boldsymbol{EE}^T)`\n",
      "\n",
      "    'plv' : Phase-Locking Value (PLV) :footcite:`LachauxEtAl1999` given\n",
      "    by::\n",
      "\n",
      "        PLV = |E[Sxy/|Sxy|]|\n",
      "\n",
      "    'ciplv' : corrected imaginary PLV (ciPLV)\n",
      "    :footcite:`BrunaEtAl2018` given by::\n",
      "\n",
      "                         |E[Im(Sxy/|Sxy|)]|\n",
      "        ciPLV = ------------------------------------\n",
      "                 sqrt(1 - |E[real(Sxy/|Sxy|)]| ** 2)\n",
      "\n",
      "    'ppc' : Pairwise Phase Consistency (PPC), an unbiased estimator\n",
      "    of squared PLV :footcite:`VinckEtAl2010`.\n",
      "\n",
      "    'pli' : Phase Lag Index (PLI) :footcite:`StamEtAl2007` given by::\n",
      "\n",
      "        PLI = |E[sign(Im(Sxy))]|\n",
      "\n",
      "    'pli2_unbiased' : Unbiased estimator of squared PLI\n",
      "    :footcite:`VinckEtAl2011`.\n",
      "\n",
      "    'dpli' : Directed Phase Lag Index (DPLI) :footcite:`StamEtAl2012`\n",
      "    given by (where H is the Heaviside function)::\n",
      "\n",
      "        DPLI = E[H(Im(Sxy))]\n",
      "\n",
      "    'wpli' : Weighted Phase Lag Index (WPLI) :footcite:`VinckEtAl2011`\n",
      "    given by::\n",
      "\n",
      "                  |E[Im(Sxy)]|\n",
      "        WPLI = ------------------\n",
      "                  E[|Im(Sxy)|]\n",
      "\n",
      "    'wpli2_debiased' : Debiased estimator of squared WPLI\n",
      "    :footcite:`VinckEtAl2011`.\n",
      "\n",
      "    'gc' : State-space Granger Causality (GC) :footcite:`BarnettSeth2015`\n",
      "    given by:\n",
      "\n",
      "        :math:`GC = ln\\Large{(\\frac{\\lvert\\boldsymbol{S}_{tt}\\rvert}{\\lvert\n",
      "        \\boldsymbol{S}_{tt}-\\boldsymbol{H}_{ts}\\boldsymbol{\\Sigma}_{ss\n",
      "        \\lvert t}\\boldsymbol{H}_{ts}^*\\rvert}})`,\n",
      "\n",
      "        where: :math:`s` and :math:`t` represent the seeds and targets,\n",
      "        respectively; :math:`\\boldsymbol{H}` is the spectral transfer\n",
      "        function; :math:`\\boldsymbol{\\Sigma}` is the residuals matrix of\n",
      "        the autoregressive model; and :math:`\\boldsymbol{S}` is\n",
      "        :math:`\\boldsymbol{\\Sigma}` transformed by :math:`\\boldsymbol{H}`.\n",
      "\n",
      "    'gc_tr' : State-space GC on time-reversed signals\n",
      "    :footcite:`BarnettSeth2015,WinklerEtAl2016` given by the same equation\n",
      "    as for 'gc', but where the autocovariance sequence from which the\n",
      "    autoregressive model is produced is transposed to mimic the reversal of\n",
      "    the original signal in time.\n",
      "\n",
      "References\n",
      "----------\n",
      ".. footbibliography::\n",
      "\u001b[1;31mFile:\u001b[0m      c:\\users\\sangeetha\\anaconda3\\envs\\mne\\lib\\site-packages\\mne_connectivity\\spectral\\epochs.py\n",
      "\u001b[1;31mType:\u001b[0m      function"
     ]
    }
   ],
   "source": [
    " mne_connectivity.spectral_connectivity_epochs?"
   ]
  },
  {
   "cell_type": "code",
   "execution_count": null,
   "metadata": {},
   "outputs": [],
   "source": [
    "## CODE GOES HERE\n",
    "bivariate_connectivity = mne_connectivity.spectral_connectivity_epochs(\n",
    "    data=epochs, method=\"imcoh\", indices=([0, 2, 4], [1, 3, 5])\n",
    ")"
   ]
  },
  {
   "cell_type": "markdown",
   "metadata": {},
   "source": [
    "**Exercise:** Plot the connectivity results for each connection to verify the interaction is present.\n",
    "\n",
    "*Hint:* Results for the imaginary part of coherency can be positive and negative. For our purposes, you should take the absolute values of the results using NumPy's [`abs()`](https://numpy.org/doc/stable/reference/generated/numpy.absolute.html) function."
   ]
  },
  {
   "cell_type": "code",
   "execution_count": null,
   "metadata": {},
   "outputs": [],
   "source": [
    "## CODE GOES HERE\n",
    "for con_idx in range(len(bivariate_connectivity.indices[0])):\n",
    "    plot_connectivity(\n",
    "        np.abs(bivariate_connectivity.get_data()[con_idx]), bivariate_connectivity.freqs\n",
    "    )"
   ]
  },
  {
   "cell_type": "markdown",
   "metadata": {},
   "source": [
    "**Exercise:** Summarise the bivariate connectivity results by averaging across the 3 connections.\n",
    "\n",
    "*Hint:* Use NumPy's [`mean()`](https://numpy.org/doc/stable/reference/generated/numpy.mean.html) function, and don't forget to take the absolute values first!"
   ]
  },
  {
   "cell_type": "code",
   "execution_count": null,
   "metadata": {},
   "outputs": [],
   "source": [
    "## CODE GOES HERE\n",
    "average_connectivity = np.mean(np.abs(bivariate_connectivity.get_data()), axis=0)"
   ]
  },
  {
   "cell_type": "markdown",
   "metadata": {},
   "source": [
    "**Exercise:** Plot the average bivariate connectivity results using the custom `plot_connectivity()` helper function as before.\n",
    "\n",
    "What do you notice about the scale of the values? What is the reason for this?"
   ]
  },
  {
   "cell_type": "code",
   "execution_count": null,
   "metadata": {},
   "outputs": [],
   "source": [
    "## CODE GOES HERE\n",
    "plot_connectivity(average_connectivity, bivariate_connectivity.freqs)"
   ]
  },
  {
   "cell_type": "markdown",
   "metadata": {},
   "source": [
    "### Part 3 - Multivariate connectivity\n",
    "\n",
    "We will now examine connectivity for some multivariate methods, but before we do so, we need to consider the `indices` parameter again."
   ]
  },
  {
   "cell_type": "markdown",
   "metadata": {},
   "source": [
    "#### Indices for bivariate connectivity\n",
    "\n",
    "`indices` has the form `(seeds, targets)`, where the length of `seeds` and `targets` corresponds to the number of connections.\n",
    "\n",
    "For bivariate connectivity, `seeds` and `targets` are array-likes of integers, e.g.:\n",
    "- `seeds=[0, 2, 4]`\n",
    "- `targets=[1, 3, 5]`"
   ]
  },
  {
   "cell_type": "markdown",
   "metadata": {},
   "source": [
    "#### Indices for multivariate connectivity\n",
    "\n",
    "For multivariate connectivity on the other hand, since we are computing connectivity between multiple channels, we need a way to distinguish between the channels belonging to each connection.\n",
    "\n",
    "Accordingly, we nest the entries for each connection as array-likes within `seeds` and `targets`.\n",
    "\n",
    "E.g. computing a single multivariate connection between channels 0, 2, and 4 to channels 1, 3, and 5 would require:\n",
    "- `seeds=[[0, 2, 4]]`\n",
    "- `targets=[[1, 3, 5]]`.\n",
    "\n",
    "Note how the length of `seeds` and `targets` still corresponds to the number of connections (in this case, 1).\n",
    "\n",
    "<br>\n",
    "\n",
    "E.g. we could compute two multivariate connections with `seeds=[[0], [2, 4]]` and `targets=[[1, 3], [5]]`.\n",
    "\n",
    "Again, the lengths of `seeds` and `targets` correspond to the number of connections (2), but see how we specify the channels for each connections as a separate array-like.\n",
    "\n",
    "You may also notice that the number of channels can differ for each connection, making these multivariate methods very flexible.\n",
    "\n",
    "<br>\n",
    "\n",
    "More information on the `indices` parameter for multivariate connectivity can be found here: https://mne.tools/mne-connectivity/dev/auto_examples/handling_ragged_arrays.html#sphx-glr-auto-examples-handling-ragged-arrays-py"
   ]
  },
  {
   "cell_type": "markdown",
   "metadata": {},
   "source": [
    "The image below summarises how indices for bivariate and multivariate methods are handled in MNE-Connectivity:\n",
    "\n",
    "<img src=\"figures/connectivity_indices_cheat_sheet.png\" alt=\"Cheat sheet for bivariate and multivariate connectivity indices in MNE-Connectivity\" width=\"60%\" height=\"60%\">"
   ]
  },
  {
   "cell_type": "markdown",
   "metadata": {},
   "source": [
    "#### Multivariate connectivity methods\n",
    "\n",
    "Earlier we saw that MNE-Connectivity supports multiple bivariate connectivity methods.\n",
    "\n",
    "Several multivariate methods are also available:\n",
    "- maximised imaginary part of coherency - [`mic`](https://doi.org/10.1016/j.neuroimage.2011.11.084)\n",
    "- multivariate interaction measure - [`mim`](https://doi.org/10.1016/j.neuroimage.2011.11.084)\n",
    "- state-space Granger causality -[`gc`](https://doi.org/10.1103/PhysRevE.91.040101)\n",
    "- state-space Granger causality on time-reversed signals -[`gc_tr`](https://doi.org/10.1109/TSP.2016.2531628)\n",
    "\n",
    "Again, references and relevant equations are given in the [documentation](https://mne.tools/mne-connectivity/stable/generated/mne_connectivity.spectral_connectivity_epochs.html#mne_connectivity.spectral_connectivity_epochs).\n",
    "\n",
    "As for the various bivariate methods, the different multivariate methods enable an appropriate analysis of signals in various contexts.\n",
    "\n",
    "What is relevant to understand for now is that the maximised imaginary part of coherency (`mic` method) is a multivariate form of the imaginary part of coherency."
   ]
  },
  {
   "cell_type": "markdown",
   "metadata": {},
   "source": [
    "**Exercises - multivariate connectivity**\n",
    "\n",
    "**Exercise:** Compute connectivity using the maximised imaginary part of coherency (`mic` method).\n",
    "\n",
    "Do this for each interacting pair of channels separately (i.e. 3 connections in total)."
   ]
  },
  {
   "cell_type": "code",
   "execution_count": null,
   "metadata": {},
   "outputs": [],
   "source": [
    "## CODE GOES HERE\n",
    "multivariate_connectivity_separate = mne_connectivity.spectral_connectivity_epochs(\n",
    "    data=epochs, method=\"mic\", indices=([[0], [2], [4]], [[1], [3], [5]])\n",
    ")"
   ]
  },
  {
   "cell_type": "markdown",
   "metadata": {},
   "source": [
    "**Exercise:** Plot the results for each connection.\n",
    "\n",
    "How do the pair-wise results for the multivariate method compare to the pair-wise results for the bivariate method above?\n",
    "\n",
    "*Hint:* We want to take the absolute values of the results."
   ]
  },
  {
   "cell_type": "code",
   "execution_count": null,
   "metadata": {},
   "outputs": [],
   "source": [
    "## CODE GOES HERE\n",
    "for con_idx in range(len(multivariate_connectivity_separate.indices[0])):\n",
    "    plot_connectivity(\n",
    "        np.abs(multivariate_connectivity_separate.get_data()[con_idx]),\n",
    "        multivariate_connectivity_separate.freqs,\n",
    "    )"
   ]
  },
  {
   "cell_type": "markdown",
   "metadata": {},
   "source": [
    "**Exercise:** Compute connectivity between the same seed and target channels as before but in a single connection."
   ]
  },
  {
   "cell_type": "code",
   "execution_count": null,
   "metadata": {},
   "outputs": [],
   "source": [
    "## CODE GOES HERE\n",
    "multivariate_connectivity = mne_connectivity.spectral_connectivity_epochs(\n",
    "    data=epochs, method=\"mic\", indices=([[0, 2, 4]], [[1, 3, 5]])\n",
    ")"
   ]
  },
  {
   "cell_type": "markdown",
   "metadata": {},
   "source": [
    "**Exercise:** Plot the results for this single connection.\n",
    "\n",
    "How do the results for this single connection of the multivariate method compare to the single connection of the bivariate method which we obtained by averaging?"
   ]
  },
  {
   "cell_type": "code",
   "execution_count": null,
   "metadata": {},
   "outputs": [],
   "source": [
    "## CODE GOES HERE\n",
    "plot_connectivity(np.abs(multivariate_connectivity.get_data()[0]), multivariate_connectivity.freqs)"
   ]
  },
  {
   "cell_type": "markdown",
   "metadata": {},
   "source": [
    "### Part 4 - Directed connectivity\n",
    "\n",
    "So far, the focus has been on coherency-based measures of connectivity.\n",
    "\n",
    "Coherency-based measures can be very powerful, but they tell us nothing about the direction of the interaction between signals (i.e. they are undirected measures of connectivity).\n",
    "\n",
    "In contrast, directed measures of connectivity tell us how information is flowing between seeds and targets. Granger causality is one such directed connectivity method."
   ]
  },
  {
   "cell_type": "markdown",
   "metadata": {},
   "source": [
    "#### Granger causality\n",
    "\n",
    "When we created the signals, we simulated the information flow from the seeds to the targets.\n",
    "\n",
    "As such, we expect Granger causality to be high from `seeds -> targets`, but low from `targets -> seeds`."
   ]
  },
  {
   "cell_type": "markdown",
   "metadata": {},
   "source": [
    "**Exercises - Directed connectivity**\n",
    "\n",
    "**Exercise:** Compute Granger causality (`gc` method) from the seeds to the targets as a single connection and plot the results."
   ]
  },
  {
   "cell_type": "code",
   "execution_count": null,
   "metadata": {},
   "outputs": [],
   "source": [
    "## CODE GOES HERE\n",
    "gc_seeds_targets = mne_connectivity.spectral_connectivity_epochs(\n",
    "    data=epochs, method=\"gc\", indices=([[0, 2, 4]], [[1, 3, 5]])\n",
    ")\n",
    "plot_connectivity(gc_seeds_targets.get_data()[0], gc_seeds_targets.freqs)"
   ]
  },
  {
   "cell_type": "markdown",
   "metadata": {},
   "source": [
    "**Exercise:** Compute Granger causality from the targets to the seeds as a single connection and plot the results.\n",
    "\n",
    "Are the values of the results lower for `target -> seeds` than `seeds -> targets`?"
   ]
  },
  {
   "cell_type": "code",
   "execution_count": null,
   "metadata": {},
   "outputs": [],
   "source": [
    "## CODE GOES HERE\n",
    "gc_targets_seeds = mne_connectivity.spectral_connectivity_epochs(\n",
    "    data=epochs, method=\"gc\", indices=([[1, 3, 5]], [[0, 2, 4]])\n",
    ")\n",
    "plot_connectivity(gc_targets_seeds.get_data()[0], gc_targets_seeds.freqs)"
   ]
  },
  {
   "cell_type": "markdown",
   "metadata": {},
   "source": [
    "**Exercise:** Compute connectivity for both directions (i.e. `seeds -> targets` and `targets -> seeds`) in the same call to `spectral_connectivity_epochs()`.\n",
    "\n",
    "Plot the results to verify they match those when computed separately."
   ]
  },
  {
   "cell_type": "code",
   "execution_count": null,
   "metadata": {},
   "outputs": [],
   "source": [
    "## CODE GOES HERE\n",
    "gc = mne_connectivity.spectral_connectivity_epochs(\n",
    "    data=epochs, method=\"gc\", indices=([[0, 2, 4], [1, 3, 5]], [[1, 3, 5], [0, 2, 4]])\n",
    ")\n",
    "\n",
    "for con_idx in range(2):\n",
    "    plot_connectivity(gc.get_data()[con_idx], gc.freqs)"
   ]
  },
  {
   "cell_type": "markdown",
   "metadata": {},
   "source": [
    "#### Investigating bidirectional communication\n",
    "\n",
    "In neuroscience, we often study systems where information does not only flow in one direction, but reciprocally between brain regions.\n",
    "\n",
    "Accordingly, examining the **net** directionality of communication can be very useful in identifying the 'drivers' and 'recipients'.\n",
    "\n",
    "Net Granger causality can be easily computed by subtracting the results of each direction from one another:<br>\n",
    "`seeds -> targets` - `targets -> seeds`."
   ]
  },
  {
   "cell_type": "markdown",
   "metadata": {},
   "source": [
    "**Exercise:** Compute the net Granger scores from the results computed above, and plot the results.\n",
    "\n",
    "What does this tell us about which set of signals are the 'drivers' and which are the 'recipients'?"
   ]
  },
  {
   "cell_type": "code",
   "execution_count": null,
   "metadata": {},
   "outputs": [],
   "source": [
    "## CODE GOES HERE\n",
    "plot_connectivity(gc.get_data()[0] - gc.get_data()[1], gc_seeds_targets.freqs)"
   ]
  },
  {
   "cell_type": "markdown",
   "metadata": {},
   "source": [
    "**Exercise:** Check what happens if we flip the seeds and targets when computing the net Granger scores.\n",
    "\n",
    "Does this tell us the same thing?"
   ]
  },
  {
   "cell_type": "code",
   "execution_count": null,
   "metadata": {},
   "outputs": [],
   "source": [
    "## CODE GOES HERE\n",
    "plot_connectivity(gc.get_data()[1] - gc.get_data()[0], gc_seeds_targets.freqs)"
   ]
  },
  {
   "cell_type": "markdown",
   "metadata": {},
   "source": [
    "As you can see, MNE-Connectivity also supports multivariate methods for investigating connectivity in directed and undirected forms."
   ]
  },
  {
   "cell_type": "markdown",
   "metadata": {},
   "source": [
    "## Conclusion\n",
    "\n",
    "The examples above have been kept simple to demonstrate the basic principles of multivariate connectivity in MNE.\n",
    "\n",
    "The extensive benefits of multivariate connectivity methods are realised fully in scenarios involving a large number of channels with complex interactions, scenarios where data-driven approaches for extracting the relevant components of connectivity are extremely powerful.\n",
    "\n",
    "The multivariate methods are also supported by the alternative [`spectral_connectivity_time()`](https://mne.tools/mne-connectivity/stable/generated/mne_connectivity.spectral_connectivity_time.html#mne_connectivity.spectral_connectivity_time) function."
   ]
  },
  {
   "cell_type": "markdown",
   "metadata": {},
   "source": [
    "## Additional resources\n",
    "\n",
    "MNE tutorial on multivariate coherency: https://mne.tools/mne-connectivity/dev/auto_examples/mic_mim.html\n",
    "\n",
    "MNE tutorial on multivariate Granger causality: https://mne.tools/mne-connectivity/dev/auto_examples/granger_causality.html"
   ]
  }
 ],
 "metadata": {
  "kernelspec": {
   "display_name": "mne_course",
   "language": "python",
   "name": "python3"
  },
  "language_info": {
   "codemirror_mode": {
    "name": "ipython",
    "version": 3
   },
   "file_extension": ".py",
   "mimetype": "text/x-python",
   "name": "python",
   "nbconvert_exporter": "python",
   "pygments_lexer": "ipython3",
   "version": "3.11.7"
  }
 },
 "nbformat": 4,
 "nbformat_minor": 2
}
