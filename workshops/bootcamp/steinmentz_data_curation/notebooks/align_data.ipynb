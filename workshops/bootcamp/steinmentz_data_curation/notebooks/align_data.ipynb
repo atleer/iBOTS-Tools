{
 "cells": [
  {
   "cell_type": "code",
   "execution_count": 1,
   "metadata": {},
   "outputs": [],
   "source": [
    "import numpy as np\n",
    "import pandas as pd"
   ]
  },
  {
   "cell_type": "code",
   "execution_count": 2,
   "metadata": {},
   "outputs": [],
   "source": [
    "part0 = np.load('../data/raw/neuropixels/steinmetz_part0.npz', allow_pickle=True)['dat']\n",
    "part1 = np.load('../data/raw/neuropixels/steinmetz_part1.npz', allow_pickle=True)['dat']\n",
    "part2 = np.load('../data/raw/neuropixels/steinmetz_part2.npz', allow_pickle=True)['dat']\n",
    "len(part0), len(part1), len(part2)"
   ]
  },
  {
   "cell_type": "code",
   "execution_count": 10,
   "metadata": {},
   "outputs": [
    {
     "data": {
      "text/plain": [
       "39"
      ]
     },
     "execution_count": 10,
     "metadata": {},
     "output_type": "execute_result"
    }
   ],
   "source": [
    "wav = np.load('../data/raw/lfp/steinmetz_wav.npz', allow_pickle=True)['dat']\n",
    "len(wav)"
   ]
  },
  {
   "cell_type": "code",
   "execution_count": null,
   "metadata": {},
   "outputs": [],
   "source": []
  },
  {
   "cell_type": "code",
   "execution_count": 15,
   "metadata": {},
   "outputs": [
    {
     "data": {
      "text/plain": [
       "((734, 82, 3), (734, 3, 384))"
      ]
     },
     "execution_count": 15,
     "metadata": {},
     "output_type": "execute_result"
    }
   ],
   "source": [
    "wav[0]['waveform_w'].shape, wav[0]['waveform_u'].shape"
   ]
  },
  {
   "cell_type": "code",
   "execution_count": 25,
   "metadata": {},
   "outputs": [
    {
     "data": {
      "text/plain": [
       "([(0, '2016-12-14', 'Cori', 734, 734),\n",
       "  (0, '2016-12-17', 'Cori', 1070, 1070),\n",
       "  (0, '2016-12-18', 'Cori', 619, 619),\n",
       "  (0, '2017-11-01', 'Forssmann', 1769, 1769),\n",
       "  (0, '2017-11-02', 'Forssmann', 1077, 1077),\n",
       "  (0, '2017-11-04', 'Forssmann', 1169, 1169),\n",
       "  (0, '2017-11-05', 'Forssmann', 584, 584),\n",
       "  (0, '2017-06-15', 'Hench', 1156, 1156),\n",
       "  (0, '2017-06-16', 'Hench', 788, 788),\n",
       "  (0, '2017-06-17', 'Hench', 1172, 1172),\n",
       "  (0, '2017-06-18', 'Hench', 857, 857),\n",
       "  (0, '2017-12-05', 'Lederberg', 698, 698),\n",
       "  (0, '2017-12-06', 'Lederberg', 983, 983)],\n",
       " [(1, '2017-12-07', 'Lederberg', 756, 756),\n",
       "  (1, '2017-12-08', 'Lederberg', 743, 743),\n",
       "  (1, '2017-12-09', 'Lederberg', 474, 474),\n",
       "  (1, '2017-12-10', 'Lederberg', 565, 565),\n",
       "  (1, '2017-12-11', 'Lederberg', 1089, 1089),\n",
       "  (1, '2017-05-15', 'Moniz', 606, 606),\n",
       "  (1, '2017-05-16', 'Moniz', 899, 899),\n",
       "  (1, '2017-05-18', 'Moniz', 578, 578),\n",
       "  (1, '2017-01-07', 'Muller', 646, 646),\n",
       "  (1, '2017-01-08', 'Muller', 1268, 1268),\n",
       "  (1, '2017-01-09', 'Muller', 1337, 1337),\n",
       "  (1, '2017-01-08', 'Radnitz', 885, 885),\n",
       "  (1, '2017-01-09', 'Radnitz', 1056, 1056)],\n",
       " [(2, '2017-01-10', 'Radnitz', 563, 563),\n",
       "  (2, '2017-01-11', 'Radnitz', 549, 549),\n",
       "  (2, '2017-01-12', 'Radnitz', 750, 750),\n",
       "  (2, '2017-10-29', 'Richards', 942, 942),\n",
       "  (2, '2017-10-30', 'Richards', 977, 977),\n",
       "  (2, '2017-10-31', 'Richards', 522, 522),\n",
       "  (2, '2017-11-01', 'Richards', 613, 613),\n",
       "  (2, '2017-11-02', 'Richards', 781, 781),\n",
       "  (2, '2017-12-06', 'Tatum', 795, 795),\n",
       "  (2, '2017-12-07', 'Tatum', 680, 680),\n",
       "  (2, '2017-12-08', 'Tatum', 1055, 1055),\n",
       "  (2, '2017-12-09', 'Tatum', 805, 805),\n",
       "  (2, '2017-10-11', 'Theiler', 1348, 1348)])"
      ]
     },
     "execution_count": 25,
     "metadata": {},
     "output_type": "execute_result"
    }
   ],
   "source": [
    "iwave = iter(wav)\n",
    "m1 = [(0, d['date_exp'], d['mouse_name'], d['cellid_orig'].sum(), w['waveform_w'].shape[0]) for d, w in zip(part0, iwave)]\n",
    "m2 = [(1, d['date_exp'], d['mouse_name'], d['cellid_orig'].sum(), w['waveform_w'].shape[0]) for d, w in zip(part1, iwave)]\n",
    "m3 = [(2, d['date_exp'], d['mouse_name'], d['cellid_orig'].sum(), w['waveform_w'].shape[0]) for d, w in zip(part2, iwave)]\n",
    "m1, m2, m3"
   ]
  },
  {
   "cell_type": "code",
   "execution_count": 23,
   "metadata": {},
   "outputs": [
    {
     "ename": "ValueError",
     "evalue": "operands could not be broadcast together with shapes (734,82,3) (756,82,3) ",
     "output_type": "error",
     "traceback": [
      "\u001b[1;31m---------------------------------------------------------------------------\u001b[0m",
      "\u001b[1;31mValueError\u001b[0m                                Traceback (most recent call last)",
      "\u001b[1;32mc:\\Users\\delgr\\Projects\\iBOTS-Tools\\workshops\\bootcamp\\steinmentz_data_curation\\notebooks\\align_data.ipynb Cell 7\u001b[0m line \u001b[0;36m1\n\u001b[1;32m----> <a href='vscode-notebook-cell:/c%3A/Users/delgr/Projects/iBOTS-Tools/workshops/bootcamp/steinmentz_data_curation/notebooks/align_data.ipynb#W3sZmlsZQ%3D%3D?line=0'>1</a>\u001b[0m wav[\u001b[39m0\u001b[39;49m][\u001b[39m'\u001b[39;49m\u001b[39mwaveform_w\u001b[39;49m\u001b[39m'\u001b[39;49m] \u001b[39m==\u001b[39;49m wav[\u001b[39m13\u001b[39;49m][\u001b[39m'\u001b[39;49m\u001b[39mwaveform_w\u001b[39;49m\u001b[39m'\u001b[39;49m]\n",
      "\u001b[1;31mValueError\u001b[0m: operands could not be broadcast together with shapes (734,82,3) (756,82,3) "
     ]
    }
   ],
   "source": [
    "wav[0]['waveform_w'] == wav[13]['waveform_w']"
   ]
  }
 ],
 "metadata": {
  "kernelspec": {
   "display_name": "datascience1",
   "language": "python",
   "name": "python3"
  },
  "language_info": {
   "codemirror_mode": {
    "name": "ipython",
    "version": 3
   },
   "file_extension": ".py",
   "mimetype": "text/x-python",
   "name": "python",
   "nbconvert_exporter": "python",
   "pygments_lexer": "ipython3",
   "version": "3.11.4"
  }
 },
 "nbformat": 4,
 "nbformat_minor": 2
}
