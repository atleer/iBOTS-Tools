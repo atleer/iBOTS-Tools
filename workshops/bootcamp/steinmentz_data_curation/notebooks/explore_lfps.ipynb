{
 "cells": [
  {
   "cell_type": "code",
   "execution_count": 1,
   "metadata": {},
   "outputs": [],
   "source": [
    "import numpy as np\n",
    "import xarray as xr"
   ]
  },
  {
   "cell_type": "markdown",
   "metadata": {},
   "source": [
    "partx.npz"
   ]
  },
  {
   "cell_type": "code",
   "execution_count": 76,
   "metadata": {},
   "outputs": [
    {
     "data": {
      "text/plain": [
       "dict_keys(['spks', 'wheel', 'pupil', 'response', 'response_time', 'bin_size', 'stim_onset', 'contrast_right', 'contrast_left', 'brain_area', 'feedback_time', 'feedback_type', 'gocue', 'mouse_name', 'date_exp', 'trough_to_peak', 'active_trials', 'contrast_left_passive', 'contrast_right_passive', 'spks_passive', 'pupil_passive', 'wheel_passive', 'prev_reward', 'ccf', 'ccf_axes', 'cellid_orig', 'reaction_time', 'face', 'face_passive', 'licks', 'licks_passive'])"
      ]
     },
     "execution_count": 76,
     "metadata": {},
     "output_type": "execute_result"
    }
   ],
   "source": [
    "aa = np.load('../data/raw/neuropixels/steinmetz_part0.npz', allow_pickle=True)['dat'][0]\n",
    "aa.keys()\n"
   ]
  },
  {
   "cell_type": "code",
   "execution_count": 90,
   "metadata": {},
   "outputs": [
    {
     "data": {
      "text/plain": [
       "('2016-12-14', 'Cori')"
      ]
     },
     "execution_count": 90,
     "metadata": {},
     "output_type": "execute_result"
    }
   ],
   "source": [
    "aa['date_exp'], aa['mouse_name']"
   ]
  },
  {
   "cell_type": "code",
   "execution_count": 78,
   "metadata": {},
   "outputs": [
    {
     "data": {
      "text/plain": [
       "((1085,), 734)"
      ]
     },
     "execution_count": 78,
     "metadata": {},
     "output_type": "execute_result"
    }
   ],
   "source": [
    "cell_id = aa['cellid_orig']\n",
    "cell_id.shape, cell_id.sum()"
   ]
  },
  {
   "cell_type": "code",
   "execution_count": 93,
   "metadata": {},
   "outputs": [
    {
     "data": {
      "text/plain": [
       "array([False,  True])"
      ]
     },
     "execution_count": 93,
     "metadata": {},
     "output_type": "execute_result"
    }
   ],
   "source": [
    "np.unique(cell_id)"
   ]
  },
  {
   "cell_type": "code",
   "execution_count": 86,
   "metadata": {},
   "outputs": [
    {
     "data": {
      "text/html": [
       "<div>\n",
       "<style scoped>\n",
       "    .dataframe tbody tr th:only-of-type {\n",
       "        vertical-align: middle;\n",
       "    }\n",
       "\n",
       "    .dataframe tbody tr th {\n",
       "        vertical-align: top;\n",
       "    }\n",
       "\n",
       "    .dataframe thead th {\n",
       "        text-align: right;\n",
       "    }\n",
       "</style>\n",
       "<table border=\"1\" class=\"dataframe\">\n",
       "  <thead>\n",
       "    <tr style=\"text-align: right;\">\n",
       "      <th></th>\n",
       "      <th>Trial</th>\n",
       "      <th>SpikeTime</th>\n",
       "    </tr>\n",
       "    <tr>\n",
       "      <th>Cell</th>\n",
       "      <th></th>\n",
       "      <th></th>\n",
       "    </tr>\n",
       "  </thead>\n",
       "  <tbody>\n",
       "    <tr>\n",
       "      <th>0</th>\n",
       "      <td>0</td>\n",
       "      <td>0.582053</td>\n",
       "    </tr>\n",
       "    <tr>\n",
       "      <th>0</th>\n",
       "      <td>0</td>\n",
       "      <td>0.823720</td>\n",
       "    </tr>\n",
       "    <tr>\n",
       "      <th>0</th>\n",
       "      <td>0</td>\n",
       "      <td>1.193487</td>\n",
       "    </tr>\n",
       "    <tr>\n",
       "      <th>0</th>\n",
       "      <td>0</td>\n",
       "      <td>1.469720</td>\n",
       "    </tr>\n",
       "    <tr>\n",
       "      <th>0</th>\n",
       "      <td>0</td>\n",
       "      <td>1.578720</td>\n",
       "    </tr>\n",
       "    <tr>\n",
       "      <th>...</th>\n",
       "      <td>...</td>\n",
       "      <td>...</td>\n",
       "    </tr>\n",
       "    <tr>\n",
       "      <th>1069</th>\n",
       "      <td>250</td>\n",
       "      <td>0.156016</td>\n",
       "    </tr>\n",
       "    <tr>\n",
       "      <th>1069</th>\n",
       "      <td>250</td>\n",
       "      <td>0.161983</td>\n",
       "    </tr>\n",
       "    <tr>\n",
       "      <th>1069</th>\n",
       "      <td>250</td>\n",
       "      <td>0.199949</td>\n",
       "    </tr>\n",
       "    <tr>\n",
       "      <th>1069</th>\n",
       "      <td>250</td>\n",
       "      <td>0.601881</td>\n",
       "    </tr>\n",
       "    <tr>\n",
       "      <th>1069</th>\n",
       "      <td>250</td>\n",
       "      <td>0.734780</td>\n",
       "    </tr>\n",
       "  </tbody>\n",
       "</table>\n",
       "<p>2015351 rows × 2 columns</p>\n",
       "</div>"
      ],
      "text/plain": [
       "      Trial  SpikeTime\n",
       "Cell                  \n",
       "0         0   0.582053\n",
       "0         0   0.823720\n",
       "0         0   1.193487\n",
       "0         0   1.469720\n",
       "0         0   1.578720\n",
       "...     ...        ...\n",
       "1069    250   0.156016\n",
       "1069    250   0.161983\n",
       "1069    250   0.199949\n",
       "1069    250   0.601881\n",
       "1069    250   0.734780\n",
       "\n",
       "[2015351 rows x 2 columns]"
      ]
     },
     "execution_count": 86,
     "metadata": {},
     "output_type": "execute_result"
    }
   ],
   "source": [
    "df.set_index('Cell').ilo"
   ]
  },
  {
   "cell_type": "code",
   "execution_count": 87,
   "metadata": {},
   "outputs": [
    {
     "data": {
      "text/plain": [
       "(1085,)"
      ]
     },
     "execution_count": 87,
     "metadata": {},
     "output_type": "execute_result"
    }
   ],
   "source": [
    "cell_id.shape"
   ]
  },
  {
   "cell_type": "markdown",
   "metadata": {},
   "source": [
    "lfp.npz"
   ]
  },
  {
   "cell_type": "code",
   "execution_count": 2,
   "metadata": {},
   "outputs": [
    {
     "data": {
      "text/plain": [
       "(39, dict_keys(['lfp', 'lfp_passive', 'brain_area_lfp']))"
      ]
     },
     "execution_count": 2,
     "metadata": {},
     "output_type": "execute_result"
    }
   ],
   "source": [
    "dat = np.load('../data/raw/lfp/steinmetz_lfp.npz', allow_pickle=True)['dat']\n",
    "dd = dat[0]\n",
    "len(dat), dd.keys()"
   ]
  },
  {
   "cell_type": "code",
   "execution_count": 3,
   "metadata": {},
   "outputs": [
    {
     "data": {
      "text/plain": [
       "((7, 364, 250), ['ACA', 'LS', 'MOs', 'CA3', 'DG', 'SUB', 'VISp'])"
      ]
     },
     "execution_count": 3,
     "metadata": {},
     "output_type": "execute_result"
    }
   ],
   "source": [
    "lfps = np.concatenate((dd['lfp'], dd['lfp_passive']), axis=1)\n",
    "lfps.shape, dd['brain_area_lfp']"
   ]
  },
  {
   "cell_type": "code",
   "execution_count": null,
   "metadata": {},
   "outputs": [],
   "source": []
  },
  {
   "cell_type": "markdown",
   "metadata": {},
   "source": [
    "### st.npz (a 2D array of lists...)"
   ]
  },
  {
   "cell_type": "code",
   "execution_count": 5,
   "metadata": {},
   "outputs": [
    {
     "data": {
      "text/plain": [
       "(39, dict_keys(['ss', 'ss_passive']))"
      ]
     },
     "execution_count": 5,
     "metadata": {},
     "output_type": "execute_result"
    }
   ],
   "source": [
    "dat = np.load('../data/raw/lfp/steinmetz_st.npz', allow_pickle=True)['dat']\n",
    "dd = dat[1]\n",
    "len(dat), dd.keys()"
   ]
  },
  {
   "cell_type": "code",
   "execution_count": 16,
   "metadata": {},
   "outputs": [
    {
     "data": {
      "text/plain": [
       "((1070, 251), dtype('O'), (1070, 150), dtype('O'))"
      ]
     },
     "execution_count": 16,
     "metadata": {},
     "output_type": "execute_result"
    }
   ],
   "source": [
    "dd['ss'].shape, dd['ss'].dtype, dd['ss_passive'].shape, dd['ss_passive'].dtype"
   ]
  },
  {
   "cell_type": "code",
   "execution_count": 22,
   "metadata": {},
   "outputs": [],
   "source": [
    "import pandas as pd"
   ]
  },
  {
   "cell_type": "code",
   "execution_count": 26,
   "metadata": {},
   "outputs": [
    {
     "data": {
      "text/html": [
       "<div>\n",
       "<style scoped>\n",
       "    .dataframe tbody tr th:only-of-type {\n",
       "        vertical-align: middle;\n",
       "    }\n",
       "\n",
       "    .dataframe tbody tr th {\n",
       "        vertical-align: top;\n",
       "    }\n",
       "\n",
       "    .dataframe thead th {\n",
       "        text-align: right;\n",
       "    }\n",
       "</style>\n",
       "<table border=\"1\" class=\"dataframe\">\n",
       "  <thead>\n",
       "    <tr style=\"text-align: right;\">\n",
       "      <th></th>\n",
       "      <th>Cell</th>\n",
       "      <th>Trial</th>\n",
       "      <th>SpikeTime</th>\n",
       "    </tr>\n",
       "  </thead>\n",
       "  <tbody>\n",
       "    <tr>\n",
       "      <th>787280</th>\n",
       "      <td>398</td>\n",
       "      <td>176</td>\n",
       "      <td>0.887535</td>\n",
       "    </tr>\n",
       "    <tr>\n",
       "      <th>576373</th>\n",
       "      <td>291</td>\n",
       "      <td>55</td>\n",
       "      <td>2.004822</td>\n",
       "    </tr>\n",
       "    <tr>\n",
       "      <th>657349</th>\n",
       "      <td>337</td>\n",
       "      <td>78</td>\n",
       "      <td>1.875254</td>\n",
       "    </tr>\n",
       "    <tr>\n",
       "      <th>1674443</th>\n",
       "      <td>903</td>\n",
       "      <td>42</td>\n",
       "      <td>0.910666</td>\n",
       "    </tr>\n",
       "    <tr>\n",
       "      <th>1653815</th>\n",
       "      <td>888</td>\n",
       "      <td>179</td>\n",
       "      <td>0.013966</td>\n",
       "    </tr>\n",
       "    <tr>\n",
       "      <th>1788352</th>\n",
       "      <td>974</td>\n",
       "      <td>102</td>\n",
       "      <td>0.554841</td>\n",
       "    </tr>\n",
       "    <tr>\n",
       "      <th>662261</th>\n",
       "      <td>338</td>\n",
       "      <td>87</td>\n",
       "      <td>0.402162</td>\n",
       "    </tr>\n",
       "    <tr>\n",
       "      <th>406174</th>\n",
       "      <td>192</td>\n",
       "      <td>149</td>\n",
       "      <td>0.585788</td>\n",
       "    </tr>\n",
       "    <tr>\n",
       "      <th>1123823</th>\n",
       "      <td>602</td>\n",
       "      <td>23</td>\n",
       "      <td>1.465023</td>\n",
       "    </tr>\n",
       "    <tr>\n",
       "      <th>1569336</th>\n",
       "      <td>858</td>\n",
       "      <td>238</td>\n",
       "      <td>2.014231</td>\n",
       "    </tr>\n",
       "  </tbody>\n",
       "</table>\n",
       "</div>"
      ],
      "text/plain": [
       "         Cell  Trial  SpikeTime\n",
       "787280    398    176   0.887535\n",
       "576373    291     55   2.004822\n",
       "657349    337     78   1.875254\n",
       "1674443   903     42   0.910666\n",
       "1653815   888    179   0.013966\n",
       "1788352   974    102   0.554841\n",
       "662261    338     87   0.402162\n",
       "406174    192    149   0.585788\n",
       "1123823   602     23   1.465023\n",
       "1569336   858    238   2.014231"
      ]
     },
     "execution_count": 26,
     "metadata": {},
     "output_type": "execute_result"
    }
   ],
   "source": [
    "rows = []\n",
    "\n",
    "# Loop through each element\n",
    "for neuron_id, neuron_data in enumerate(dd['ss']):\n",
    "    for trial_id, trial_data in enumerate(neuron_data):\n",
    "        for spike_time in trial_data:\n",
    "            rows.append([neuron_id, trial_id, spike_time])\n",
    "\n",
    "df = pd.DataFrame(rows, columns=['Cell', 'Trial', 'SpikeTime'])\n",
    "df.sample(10)"
   ]
  },
  {
   "cell_type": "code",
   "execution_count": 62,
   "metadata": {},
   "outputs": [
    {
     "name": "stdout",
     "output_type": "stream",
     "text": [
      "<class 'pandas.core.frame.DataFrame'>\n",
      "RangeIndex: 2015351 entries, 0 to 2015350\n",
      "Data columns (total 3 columns):\n",
      " #   Column     Dtype  \n",
      "---  ------     -----  \n",
      " 0   Cell       int64  \n",
      " 1   Trial      int64  \n",
      " 2   SpikeTime  float32\n",
      "dtypes: float32(1), int64(2)\n",
      "memory usage: 38.4 MB\n"
     ]
    }
   ],
   "source": [
    "df.info()"
   ]
  },
  {
   "cell_type": "code",
   "execution_count": 66,
   "metadata": {},
   "outputs": [
    {
     "name": "stdout",
     "output_type": "stream",
     "text": [
      "<class 'pandas.core.frame.DataFrame'>\n",
      "RangeIndex: 2015351 entries, 0 to 2015350\n",
      "Data columns (total 3 columns):\n",
      " #   Column     Dtype  \n",
      "---  ------     -----  \n",
      " 0   Cell       int64  \n",
      " 1   Trial      int64  \n",
      " 2   SpikeTime  float32\n",
      "dtypes: float32(1), int64(2)\n",
      "memory usage: 38.4 MB\n"
     ]
    }
   ],
   "source": [
    "df.info()"
   ]
  },
  {
   "cell_type": "code",
   "execution_count": 65,
   "metadata": {},
   "outputs": [
    {
     "name": "stdout",
     "output_type": "stream",
     "text": [
      "<class 'pandas.core.frame.DataFrame'>\n",
      "RangeIndex: 2015351 entries, 0 to 2015350\n",
      "Data columns (total 3 columns):\n",
      " #   Column     Dtype  \n",
      "---  ------     -----  \n",
      " 0   Cell       uint32 \n",
      " 1   Trial      uint32 \n",
      " 2   SpikeTime  float32\n",
      "dtypes: float32(1), uint32(2)\n",
      "memory usage: 23.1 MB\n"
     ]
    }
   ],
   "source": [
    "df.astype({'Cell': np.uint32, 'Trial': np.uint32}).info()"
   ]
  },
  {
   "cell_type": "code",
   "execution_count": 60,
   "metadata": {},
   "outputs": [
    {
     "data": {
      "text/plain": [
       "4294967296"
      ]
     },
     "execution_count": 60,
     "metadata": {},
     "output_type": "execute_result"
    }
   ],
   "source": [
    "2**32"
   ]
  },
  {
   "cell_type": "code",
   "execution_count": 58,
   "metadata": {},
   "outputs": [
    {
     "data": {
      "text/plain": [
       "Cell           int64\n",
       "Trial          int64\n",
       "SpikeTime    float32\n",
       "dtype: object"
      ]
     },
     "execution_count": 58,
     "metadata": {},
     "output_type": "execute_result"
    }
   ],
   "source": [
    "df.dtypes"
   ]
  },
  {
   "cell_type": "code",
   "execution_count": 39,
   "metadata": {},
   "outputs": [
    {
     "name": "stdout",
     "output_type": "stream",
     "text": [
      "<class 'pandas.core.frame.DataFrame'>\n",
      "MultiIndex: 2015351 entries, (0, 0) to (1069, 250)\n",
      "Data columns (total 1 columns):\n",
      " #   Column     Dtype  \n",
      "---  ------     -----  \n",
      " 0   SpikeTime  float32\n",
      "dtypes: float32(1)\n",
      "memory usage: 15.4 MB\n"
     ]
    }
   ],
   "source": [
    "df.set_index(['Cell', 'Trial']).info()"
   ]
  },
  {
   "cell_type": "code",
   "execution_count": 73,
   "metadata": {},
   "outputs": [
    {
     "data": {
      "text/plain": [
       "(1070, 251)"
      ]
     },
     "execution_count": 73,
     "metadata": {},
     "output_type": "execute_result"
    }
   ],
   "source": [
    "dd['ss'].shape"
   ]
  },
  {
   "cell_type": "code",
   "execution_count": 71,
   "metadata": {},
   "outputs": [
    {
     "ename": "ValueError",
     "evalue": "can only convert an array of size 1 to a Python scalar",
     "output_type": "error",
     "traceback": [
      "\u001b[1;31m---------------------------------------------------------------------------\u001b[0m",
      "\u001b[1;31mValueError\u001b[0m                                Traceback (most recent call last)",
      "File \u001b[1;32mc:\\Users\\delgr\\anaconda3\\envs\\datascience1\\Lib\\site-packages\\IPython\\core\\formatters.py:344\u001b[0m, in \u001b[0;36mBaseFormatter.__call__\u001b[1;34m(self, obj)\u001b[0m\n\u001b[0;32m    342\u001b[0m     method \u001b[39m=\u001b[39m get_real_method(obj, \u001b[39mself\u001b[39m\u001b[39m.\u001b[39mprint_method)\n\u001b[0;32m    343\u001b[0m     \u001b[39mif\u001b[39;00m method \u001b[39mis\u001b[39;00m \u001b[39mnot\u001b[39;00m \u001b[39mNone\u001b[39;00m:\n\u001b[1;32m--> 344\u001b[0m         \u001b[39mreturn\u001b[39;00m method()\n\u001b[0;32m    345\u001b[0m     \u001b[39mreturn\u001b[39;00m \u001b[39mNone\u001b[39;00m\n\u001b[0;32m    346\u001b[0m \u001b[39melse\u001b[39;00m:\n",
      "File \u001b[1;32mc:\\Users\\delgr\\anaconda3\\envs\\datascience1\\Lib\\site-packages\\xarray\\core\\common.py:173\u001b[0m, in \u001b[0;36mAbstractArray._repr_html_\u001b[1;34m(self)\u001b[0m\n\u001b[0;32m    171\u001b[0m \u001b[39mif\u001b[39;00m OPTIONS[\u001b[39m\"\u001b[39m\u001b[39mdisplay_style\u001b[39m\u001b[39m\"\u001b[39m] \u001b[39m==\u001b[39m \u001b[39m\"\u001b[39m\u001b[39mtext\u001b[39m\u001b[39m\"\u001b[39m:\n\u001b[0;32m    172\u001b[0m     \u001b[39mreturn\u001b[39;00m \u001b[39mf\u001b[39m\u001b[39m\"\u001b[39m\u001b[39m<pre>\u001b[39m\u001b[39m{\u001b[39;00mescape(\u001b[39mrepr\u001b[39m(\u001b[39mself\u001b[39m))\u001b[39m}\u001b[39;00m\u001b[39m</pre>\u001b[39m\u001b[39m\"\u001b[39m\n\u001b[1;32m--> 173\u001b[0m \u001b[39mreturn\u001b[39;00m formatting_html\u001b[39m.\u001b[39;49marray_repr(\u001b[39mself\u001b[39;49m)\n",
      "File \u001b[1;32mc:\\Users\\delgr\\anaconda3\\envs\\datascience1\\Lib\\site-packages\\xarray\\core\\formatting_html.py:315\u001b[0m, in \u001b[0;36marray_repr\u001b[1;34m(arr)\u001b[0m\n\u001b[0;32m    307\u001b[0m arr_name \u001b[39m=\u001b[39m \u001b[39mf\u001b[39m\u001b[39m\"\u001b[39m\u001b[39m'\u001b[39m\u001b[39m{\u001b[39;00marr\u001b[39m.\u001b[39mname\u001b[39m}\u001b[39;00m\u001b[39m'\u001b[39m\u001b[39m\"\u001b[39m \u001b[39mif\u001b[39;00m \u001b[39mgetattr\u001b[39m(arr, \u001b[39m\"\u001b[39m\u001b[39mname\u001b[39m\u001b[39m\"\u001b[39m, \u001b[39mNone\u001b[39;00m) \u001b[39melse\u001b[39;00m \u001b[39m\"\u001b[39m\u001b[39m\"\u001b[39m\n\u001b[0;32m    309\u001b[0m header_components \u001b[39m=\u001b[39m [\n\u001b[0;32m    310\u001b[0m     \u001b[39mf\u001b[39m\u001b[39m\"\u001b[39m\u001b[39m<div class=\u001b[39m\u001b[39m'\u001b[39m\u001b[39mxr-obj-type\u001b[39m\u001b[39m'\u001b[39m\u001b[39m>\u001b[39m\u001b[39m{\u001b[39;00mobj_type\u001b[39m}\u001b[39;00m\u001b[39m</div>\u001b[39m\u001b[39m\"\u001b[39m,\n\u001b[0;32m    311\u001b[0m     \u001b[39mf\u001b[39m\u001b[39m\"\u001b[39m\u001b[39m<div class=\u001b[39m\u001b[39m'\u001b[39m\u001b[39mxr-array-name\u001b[39m\u001b[39m'\u001b[39m\u001b[39m>\u001b[39m\u001b[39m{\u001b[39;00marr_name\u001b[39m}\u001b[39;00m\u001b[39m</div>\u001b[39m\u001b[39m\"\u001b[39m,\n\u001b[0;32m    312\u001b[0m     format_dims(dims, indexed_dims),\n\u001b[0;32m    313\u001b[0m ]\n\u001b[1;32m--> 315\u001b[0m sections \u001b[39m=\u001b[39m [array_section(arr)]\n\u001b[0;32m    317\u001b[0m \u001b[39mif\u001b[39;00m \u001b[39mhasattr\u001b[39m(arr, \u001b[39m\"\u001b[39m\u001b[39mcoords\u001b[39m\u001b[39m\"\u001b[39m):\n\u001b[0;32m    318\u001b[0m     sections\u001b[39m.\u001b[39mappend(coord_section(arr\u001b[39m.\u001b[39mcoords))\n",
      "File \u001b[1;32mc:\\Users\\delgr\\anaconda3\\envs\\datascience1\\Lib\\site-packages\\xarray\\core\\formatting_html.py:223\u001b[0m, in \u001b[0;36marray_section\u001b[1;34m(obj)\u001b[0m\n\u001b[0;32m    217\u001b[0m collapsed \u001b[39m=\u001b[39m (\n\u001b[0;32m    218\u001b[0m     \u001b[39m\"\u001b[39m\u001b[39mchecked\u001b[39m\u001b[39m\"\u001b[39m\n\u001b[0;32m    219\u001b[0m     \u001b[39mif\u001b[39;00m _get_boolean_with_default(\u001b[39m\"\u001b[39m\u001b[39mdisplay_expand_data\u001b[39m\u001b[39m\"\u001b[39m, default\u001b[39m=\u001b[39m\u001b[39mTrue\u001b[39;00m)\n\u001b[0;32m    220\u001b[0m     \u001b[39melse\u001b[39;00m \u001b[39m\"\u001b[39m\u001b[39m\"\u001b[39m\n\u001b[0;32m    221\u001b[0m )\n\u001b[0;32m    222\u001b[0m variable \u001b[39m=\u001b[39m \u001b[39mgetattr\u001b[39m(obj, \u001b[39m\"\u001b[39m\u001b[39mvariable\u001b[39m\u001b[39m\"\u001b[39m, obj)\n\u001b[1;32m--> 223\u001b[0m preview \u001b[39m=\u001b[39m escape(inline_variable_array_repr(variable, max_width\u001b[39m=\u001b[39;49m\u001b[39m70\u001b[39;49m))\n\u001b[0;32m    224\u001b[0m data_repr \u001b[39m=\u001b[39m short_data_repr_html(obj)\n\u001b[0;32m    225\u001b[0m data_icon \u001b[39m=\u001b[39m _icon(\u001b[39m\"\u001b[39m\u001b[39micon-database\u001b[39m\u001b[39m\"\u001b[39m)\n",
      "File \u001b[1;32mc:\\Users\\delgr\\anaconda3\\envs\\datascience1\\Lib\\site-packages\\xarray\\core\\formatting.py:299\u001b[0m, in \u001b[0;36minline_variable_array_repr\u001b[1;34m(var, max_width)\u001b[0m\n\u001b[0;32m    297\u001b[0m     \u001b[39mreturn\u001b[39;00m var\u001b[39m.\u001b[39m_data\u001b[39m.\u001b[39m_repr_inline_(max_width)\n\u001b[0;32m    298\u001b[0m \u001b[39mif\u001b[39;00m var\u001b[39m.\u001b[39m_in_memory:\n\u001b[1;32m--> 299\u001b[0m     \u001b[39mreturn\u001b[39;00m format_array_flat(var, max_width)\n\u001b[0;32m    300\u001b[0m dask_array_type \u001b[39m=\u001b[39m array_type(\u001b[39m\"\u001b[39m\u001b[39mdask\u001b[39m\u001b[39m\"\u001b[39m)\n\u001b[0;32m    301\u001b[0m \u001b[39mif\u001b[39;00m \u001b[39misinstance\u001b[39m(var\u001b[39m.\u001b[39m_data, dask_array_type):\n",
      "File \u001b[1;32mc:\\Users\\delgr\\anaconda3\\envs\\datascience1\\Lib\\site-packages\\xarray\\core\\formatting.py:216\u001b[0m, in \u001b[0;36mformat_array_flat\u001b[1;34m(array, max_width)\u001b[0m\n\u001b[0;32m    213\u001b[0m \u001b[39m# every item will take up at least two characters, but we always want to\u001b[39;00m\n\u001b[0;32m    214\u001b[0m \u001b[39m# print at least first and last items\u001b[39;00m\n\u001b[0;32m    215\u001b[0m max_possibly_relevant \u001b[39m=\u001b[39m \u001b[39mmin\u001b[39m(\u001b[39mmax\u001b[39m(array\u001b[39m.\u001b[39msize, \u001b[39m1\u001b[39m), \u001b[39mmax\u001b[39m(math\u001b[39m.\u001b[39mceil(max_width \u001b[39m/\u001b[39m \u001b[39m2.0\u001b[39m), \u001b[39m2\u001b[39m))\n\u001b[1;32m--> 216\u001b[0m relevant_front_items \u001b[39m=\u001b[39m format_items(\n\u001b[0;32m    217\u001b[0m     first_n_items(array, (max_possibly_relevant \u001b[39m+\u001b[39;49m \u001b[39m1\u001b[39;49m) \u001b[39m/\u001b[39;49m\u001b[39m/\u001b[39;49m \u001b[39m2\u001b[39;49m)\n\u001b[0;32m    218\u001b[0m )\n\u001b[0;32m    219\u001b[0m relevant_back_items \u001b[39m=\u001b[39m format_items(last_n_items(array, max_possibly_relevant \u001b[39m/\u001b[39m\u001b[39m/\u001b[39m \u001b[39m2\u001b[39m))\n\u001b[0;32m    220\u001b[0m \u001b[39m# interleave relevant front and back items:\u001b[39;00m\n\u001b[0;32m    221\u001b[0m \u001b[39m#     [a, b, c] and [y, z] -> [a, z, b, y, c]\u001b[39;00m\n",
      "File \u001b[1;32mc:\\Users\\delgr\\anaconda3\\envs\\datascience1\\Lib\\site-packages\\xarray\\core\\formatting.py:205\u001b[0m, in \u001b[0;36mformat_items\u001b[1;34m(x)\u001b[0m\n\u001b[0;32m    202\u001b[0m     \u001b[39melif\u001b[39;00m np\u001b[39m.\u001b[39mlogical_not(time_needed)\u001b[39m.\u001b[39mall():\n\u001b[0;32m    203\u001b[0m         timedelta_format \u001b[39m=\u001b[39m \u001b[39m\"\u001b[39m\u001b[39mdate\u001b[39m\u001b[39m\"\u001b[39m\n\u001b[1;32m--> 205\u001b[0m formatted \u001b[39m=\u001b[39m [format_item(xi, timedelta_format) \u001b[39mfor\u001b[39;49;00m xi \u001b[39min\u001b[39;49;00m x]\n\u001b[0;32m    206\u001b[0m \u001b[39mreturn\u001b[39;00m formatted\n",
      "File \u001b[1;32mc:\\Users\\delgr\\anaconda3\\envs\\datascience1\\Lib\\site-packages\\xarray\\core\\formatting.py:205\u001b[0m, in \u001b[0;36m<listcomp>\u001b[1;34m(.0)\u001b[0m\n\u001b[0;32m    202\u001b[0m     \u001b[39melif\u001b[39;00m np\u001b[39m.\u001b[39mlogical_not(time_needed)\u001b[39m.\u001b[39mall():\n\u001b[0;32m    203\u001b[0m         timedelta_format \u001b[39m=\u001b[39m \u001b[39m\"\u001b[39m\u001b[39mdate\u001b[39m\u001b[39m\"\u001b[39m\n\u001b[1;32m--> 205\u001b[0m formatted \u001b[39m=\u001b[39m [format_item(xi, timedelta_format) \u001b[39mfor\u001b[39;00m xi \u001b[39min\u001b[39;00m x]\n\u001b[0;32m    206\u001b[0m \u001b[39mreturn\u001b[39;00m formatted\n",
      "File \u001b[1;32mc:\\Users\\delgr\\anaconda3\\envs\\datascience1\\Lib\\site-packages\\xarray\\core\\formatting.py:186\u001b[0m, in \u001b[0;36mformat_item\u001b[1;34m(x, timedelta_format, quote_strings)\u001b[0m\n\u001b[0;32m    184\u001b[0m     \u001b[39mreturn\u001b[39;00m \u001b[39mrepr\u001b[39m(x) \u001b[39mif\u001b[39;00m quote_strings \u001b[39melse\u001b[39;00m x\n\u001b[0;32m    185\u001b[0m \u001b[39melif\u001b[39;00m \u001b[39mhasattr\u001b[39m(x, \u001b[39m\"\u001b[39m\u001b[39mdtype\u001b[39m\u001b[39m\"\u001b[39m) \u001b[39mand\u001b[39;00m np\u001b[39m.\u001b[39missubdtype(x\u001b[39m.\u001b[39mdtype, np\u001b[39m.\u001b[39mfloating):\n\u001b[1;32m--> 186\u001b[0m     \u001b[39mreturn\u001b[39;00m \u001b[39mf\u001b[39m\u001b[39m\"\u001b[39m\u001b[39m{\u001b[39;00mx\u001b[39m.\u001b[39;49mitem()\u001b[39m:\u001b[39;00m\u001b[39m.4\u001b[39m\u001b[39m}\u001b[39;00m\u001b[39m\"\u001b[39m\n\u001b[0;32m    187\u001b[0m \u001b[39melse\u001b[39;00m:\n\u001b[0;32m    188\u001b[0m     \u001b[39mreturn\u001b[39;00m \u001b[39mstr\u001b[39m(x)\n",
      "\u001b[1;31mValueError\u001b[0m: can only convert an array of size 1 to a Python scalar"
     ]
    },
    {
     "data": {
      "text/plain": [
       "<xarray.DataArray (dim_0: 1070, dim_1: 251)>\n",
       "array([[array([0.58205324, 0.8237199 , 1.1934866 , 1.4697199 , 1.57872   ,\n",
       "               1.6177199 , 1.9250866 , 1.9673532 , 2.3374865 , 2.3705866 ,\n",
       "               2.4395533 , 2.46452   ], dtype=float32)                    ,\n",
       "        array([1.2188604, 1.2337937, 1.3258604, 1.534927 , 1.868527 , 1.8926604,\n",
       "               2.068627 , 2.0853603, 2.2547936], dtype=float32)                 ,\n",
       "        array([0.38471276, 0.5493128 , 0.6497461 , 0.6944461 , 0.7444794 ,\n",
       "               0.89871275, 1.0920461 , 1.1577461 , 1.2860461 , 1.538246  ,\n",
       "               1.6479794 , 1.7653128 , 1.7861794 , 2.073946  , 2.134846  ],\n",
       "              dtype=float32)                                               ,\n",
       "        ...,\n",
       "        array([0.00409056, 0.21425723, 0.6319239 , 0.90255725, 1.1862905 ,\n",
       "               1.2066572 , 1.2716906 , 1.3581905 , 1.5131905 , 1.5439906 ,\n",
       "               2.0124905 , 2.0671573 , 2.2341573 ], dtype=float32)        ,\n",
       "        array([0.92536455, 0.9643979 , 1.029998  , 1.1226646 , 1.4184645 ,\n",
       "               1.7686312 , 2.0496979 , 2.2756646 ], dtype=float32)        ,\n",
       "        array([0.12734593, 0.29994595, 0.81467927, 2.145846  , 2.2272792 ],\n",
       "              dtype=float32)                                               ],\n",
       "       [array([0.6735866 , 0.70421994, 1.6154866 , 2.1093533 ], dtype=float32),\n",
       "        array([0.5989604], dtype=float32),\n",
       "        array([1.0422461], dtype=float32), ...,\n",
       "...\n",
       "               0.6522096 , 0.68044275, 0.68837607, 0.69137603, 0.7211426 ,\n",
       "               0.7376425 , 1.1821072 , 1.2880067 , 1.3713729 , 1.3849729 ,\n",
       "               1.3937062 , 1.6268718 ], dtype=float32)                    ,\n",
       "        array([1.111958 , 1.6175557, 1.987254 , 2.0149539], dtype=float32),\n",
       "        array([0.59346074, 0.59729403, 0.7341934 , 1.3846238 , 1.6890558 ,\n",
       "               1.6948224 , 1.7100557 , 1.7364223 , 1.7403222 , 1.7449889 ,\n",
       "               1.7503555 , 1.795622  , 1.9022548 ], dtype=float32)        ,\n",
       "        ...,\n",
       "        array([0.03843097, 0.05046425, 0.05736422, 0.06189753, 0.06659751,\n",
       "               0.07756413, 0.5796285 , 0.58682853, 0.59186184, 1.0375265 ,\n",
       "               1.0462264 , 1.0495265 , 1.059993  , 1.064193  , 1.078593  ,\n",
       "               1.1018596 , 1.1643926 , 1.2220923 , 1.2588255 , 1.2721255 ,\n",
       "               1.3009253 , 1.3050586 , 1.4007581 , 1.4053248 , 1.452158  ,\n",
       "               1.4879911 , 1.4988244 , 1.517391  , 2.0207887 , 2.026022  ],\n",
       "              dtype=float32)                                               ,\n",
       "        array([0.5847126, 0.5889793, 1.2217765, 1.2336097, 1.2505764, 1.2738429,\n",
       "               1.9592398, 1.9633064], dtype=float32)                            ,\n",
       "        array([0.14441621, 0.15601616, 0.16198279, 0.1999493 , 0.6018808 ,\n",
       "               0.7347802 ], dtype=float32)                                ]],\n",
       "      dtype=object)\n",
       "Dimensions without coordinates: dim_0, dim_1"
      ]
     },
     "execution_count": 71,
     "metadata": {},
     "output_type": "execute_result"
    }
   ],
   "source": [
    "xr.DataArray(dd['ss'], )"
   ]
  },
  {
   "cell_type": "code",
   "execution_count": 42,
   "metadata": {},
   "outputs": [
    {
     "data": {
      "text/html": [
       "<div><svg style=\"position: absolute; width: 0; height: 0; overflow: hidden\">\n",
       "<defs>\n",
       "<symbol id=\"icon-database\" viewBox=\"0 0 32 32\">\n",
       "<path d=\"M16 0c-8.837 0-16 2.239-16 5v4c0 2.761 7.163 5 16 5s16-2.239 16-5v-4c0-2.761-7.163-5-16-5z\"></path>\n",
       "<path d=\"M16 17c-8.837 0-16-2.239-16-5v6c0 2.761 7.163 5 16 5s16-2.239 16-5v-6c0 2.761-7.163 5-16 5z\"></path>\n",
       "<path d=\"M16 26c-8.837 0-16-2.239-16-5v6c0 2.761 7.163 5 16 5s16-2.239 16-5v-6c0 2.761-7.163 5-16 5z\"></path>\n",
       "</symbol>\n",
       "<symbol id=\"icon-file-text2\" viewBox=\"0 0 32 32\">\n",
       "<path d=\"M28.681 7.159c-0.694-0.947-1.662-2.053-2.724-3.116s-2.169-2.030-3.116-2.724c-1.612-1.182-2.393-1.319-2.841-1.319h-15.5c-1.378 0-2.5 1.121-2.5 2.5v27c0 1.378 1.122 2.5 2.5 2.5h23c1.378 0 2.5-1.122 2.5-2.5v-19.5c0-0.448-0.137-1.23-1.319-2.841zM24.543 5.457c0.959 0.959 1.712 1.825 2.268 2.543h-4.811v-4.811c0.718 0.556 1.584 1.309 2.543 2.268zM28 29.5c0 0.271-0.229 0.5-0.5 0.5h-23c-0.271 0-0.5-0.229-0.5-0.5v-27c0-0.271 0.229-0.5 0.5-0.5 0 0 15.499-0 15.5 0v7c0 0.552 0.448 1 1 1h7v19.5z\"></path>\n",
       "<path d=\"M23 26h-14c-0.552 0-1-0.448-1-1s0.448-1 1-1h14c0.552 0 1 0.448 1 1s-0.448 1-1 1z\"></path>\n",
       "<path d=\"M23 22h-14c-0.552 0-1-0.448-1-1s0.448-1 1-1h14c0.552 0 1 0.448 1 1s-0.448 1-1 1z\"></path>\n",
       "<path d=\"M23 18h-14c-0.552 0-1-0.448-1-1s0.448-1 1-1h14c0.552 0 1 0.448 1 1s-0.448 1-1 1z\"></path>\n",
       "</symbol>\n",
       "</defs>\n",
       "</svg>\n",
       "<style>/* CSS stylesheet for displaying xarray objects in jupyterlab.\n",
       " *\n",
       " */\n",
       "\n",
       ":root {\n",
       "  --xr-font-color0: var(--jp-content-font-color0, rgba(0, 0, 0, 1));\n",
       "  --xr-font-color2: var(--jp-content-font-color2, rgba(0, 0, 0, 0.54));\n",
       "  --xr-font-color3: var(--jp-content-font-color3, rgba(0, 0, 0, 0.38));\n",
       "  --xr-border-color: var(--jp-border-color2, #e0e0e0);\n",
       "  --xr-disabled-color: var(--jp-layout-color3, #bdbdbd);\n",
       "  --xr-background-color: var(--jp-layout-color0, white);\n",
       "  --xr-background-color-row-even: var(--jp-layout-color1, white);\n",
       "  --xr-background-color-row-odd: var(--jp-layout-color2, #eeeeee);\n",
       "}\n",
       "\n",
       "html[theme=dark],\n",
       "body[data-theme=dark],\n",
       "body.vscode-dark {\n",
       "  --xr-font-color0: rgba(255, 255, 255, 1);\n",
       "  --xr-font-color2: rgba(255, 255, 255, 0.54);\n",
       "  --xr-font-color3: rgba(255, 255, 255, 0.38);\n",
       "  --xr-border-color: #1F1F1F;\n",
       "  --xr-disabled-color: #515151;\n",
       "  --xr-background-color: #111111;\n",
       "  --xr-background-color-row-even: #111111;\n",
       "  --xr-background-color-row-odd: #313131;\n",
       "}\n",
       "\n",
       ".xr-wrap {\n",
       "  display: block !important;\n",
       "  min-width: 300px;\n",
       "  max-width: 700px;\n",
       "}\n",
       "\n",
       ".xr-text-repr-fallback {\n",
       "  /* fallback to plain text repr when CSS is not injected (untrusted notebook) */\n",
       "  display: none;\n",
       "}\n",
       "\n",
       ".xr-header {\n",
       "  padding-top: 6px;\n",
       "  padding-bottom: 6px;\n",
       "  margin-bottom: 4px;\n",
       "  border-bottom: solid 1px var(--xr-border-color);\n",
       "}\n",
       "\n",
       ".xr-header > div,\n",
       ".xr-header > ul {\n",
       "  display: inline;\n",
       "  margin-top: 0;\n",
       "  margin-bottom: 0;\n",
       "}\n",
       "\n",
       ".xr-obj-type,\n",
       ".xr-array-name {\n",
       "  margin-left: 2px;\n",
       "  margin-right: 10px;\n",
       "}\n",
       "\n",
       ".xr-obj-type {\n",
       "  color: var(--xr-font-color2);\n",
       "}\n",
       "\n",
       ".xr-sections {\n",
       "  padding-left: 0 !important;\n",
       "  display: grid;\n",
       "  grid-template-columns: 150px auto auto 1fr 20px 20px;\n",
       "}\n",
       "\n",
       ".xr-section-item {\n",
       "  display: contents;\n",
       "}\n",
       "\n",
       ".xr-section-item input {\n",
       "  display: none;\n",
       "}\n",
       "\n",
       ".xr-section-item input + label {\n",
       "  color: var(--xr-disabled-color);\n",
       "}\n",
       "\n",
       ".xr-section-item input:enabled + label {\n",
       "  cursor: pointer;\n",
       "  color: var(--xr-font-color2);\n",
       "}\n",
       "\n",
       ".xr-section-item input:enabled + label:hover {\n",
       "  color: var(--xr-font-color0);\n",
       "}\n",
       "\n",
       ".xr-section-summary {\n",
       "  grid-column: 1;\n",
       "  color: var(--xr-font-color2);\n",
       "  font-weight: 500;\n",
       "}\n",
       "\n",
       ".xr-section-summary > span {\n",
       "  display: inline-block;\n",
       "  padding-left: 0.5em;\n",
       "}\n",
       "\n",
       ".xr-section-summary-in:disabled + label {\n",
       "  color: var(--xr-font-color2);\n",
       "}\n",
       "\n",
       ".xr-section-summary-in + label:before {\n",
       "  display: inline-block;\n",
       "  content: '►';\n",
       "  font-size: 11px;\n",
       "  width: 15px;\n",
       "  text-align: center;\n",
       "}\n",
       "\n",
       ".xr-section-summary-in:disabled + label:before {\n",
       "  color: var(--xr-disabled-color);\n",
       "}\n",
       "\n",
       ".xr-section-summary-in:checked + label:before {\n",
       "  content: '▼';\n",
       "}\n",
       "\n",
       ".xr-section-summary-in:checked + label > span {\n",
       "  display: none;\n",
       "}\n",
       "\n",
       ".xr-section-summary,\n",
       ".xr-section-inline-details {\n",
       "  padding-top: 4px;\n",
       "  padding-bottom: 4px;\n",
       "}\n",
       "\n",
       ".xr-section-inline-details {\n",
       "  grid-column: 2 / -1;\n",
       "}\n",
       "\n",
       ".xr-section-details {\n",
       "  display: none;\n",
       "  grid-column: 1 / -1;\n",
       "  margin-bottom: 5px;\n",
       "}\n",
       "\n",
       ".xr-section-summary-in:checked ~ .xr-section-details {\n",
       "  display: contents;\n",
       "}\n",
       "\n",
       ".xr-array-wrap {\n",
       "  grid-column: 1 / -1;\n",
       "  display: grid;\n",
       "  grid-template-columns: 20px auto;\n",
       "}\n",
       "\n",
       ".xr-array-wrap > label {\n",
       "  grid-column: 1;\n",
       "  vertical-align: top;\n",
       "}\n",
       "\n",
       ".xr-preview {\n",
       "  color: var(--xr-font-color3);\n",
       "}\n",
       "\n",
       ".xr-array-preview,\n",
       ".xr-array-data {\n",
       "  padding: 0 5px !important;\n",
       "  grid-column: 2;\n",
       "}\n",
       "\n",
       ".xr-array-data,\n",
       ".xr-array-in:checked ~ .xr-array-preview {\n",
       "  display: none;\n",
       "}\n",
       "\n",
       ".xr-array-in:checked ~ .xr-array-data,\n",
       ".xr-array-preview {\n",
       "  display: inline-block;\n",
       "}\n",
       "\n",
       ".xr-dim-list {\n",
       "  display: inline-block !important;\n",
       "  list-style: none;\n",
       "  padding: 0 !important;\n",
       "  margin: 0;\n",
       "}\n",
       "\n",
       ".xr-dim-list li {\n",
       "  display: inline-block;\n",
       "  padding: 0;\n",
       "  margin: 0;\n",
       "}\n",
       "\n",
       ".xr-dim-list:before {\n",
       "  content: '(';\n",
       "}\n",
       "\n",
       ".xr-dim-list:after {\n",
       "  content: ')';\n",
       "}\n",
       "\n",
       ".xr-dim-list li:not(:last-child):after {\n",
       "  content: ',';\n",
       "  padding-right: 5px;\n",
       "}\n",
       "\n",
       ".xr-has-index {\n",
       "  font-weight: bold;\n",
       "}\n",
       "\n",
       ".xr-var-list,\n",
       ".xr-var-item {\n",
       "  display: contents;\n",
       "}\n",
       "\n",
       ".xr-var-item > div,\n",
       ".xr-var-item label,\n",
       ".xr-var-item > .xr-var-name span {\n",
       "  background-color: var(--xr-background-color-row-even);\n",
       "  margin-bottom: 0;\n",
       "}\n",
       "\n",
       ".xr-var-item > .xr-var-name:hover span {\n",
       "  padding-right: 5px;\n",
       "}\n",
       "\n",
       ".xr-var-list > li:nth-child(odd) > div,\n",
       ".xr-var-list > li:nth-child(odd) > label,\n",
       ".xr-var-list > li:nth-child(odd) > .xr-var-name span {\n",
       "  background-color: var(--xr-background-color-row-odd);\n",
       "}\n",
       "\n",
       ".xr-var-name {\n",
       "  grid-column: 1;\n",
       "}\n",
       "\n",
       ".xr-var-dims {\n",
       "  grid-column: 2;\n",
       "}\n",
       "\n",
       ".xr-var-dtype {\n",
       "  grid-column: 3;\n",
       "  text-align: right;\n",
       "  color: var(--xr-font-color2);\n",
       "}\n",
       "\n",
       ".xr-var-preview {\n",
       "  grid-column: 4;\n",
       "}\n",
       "\n",
       ".xr-index-preview {\n",
       "  grid-column: 2 / 5;\n",
       "  color: var(--xr-font-color2);\n",
       "}\n",
       "\n",
       ".xr-var-name,\n",
       ".xr-var-dims,\n",
       ".xr-var-dtype,\n",
       ".xr-preview,\n",
       ".xr-attrs dt {\n",
       "  white-space: nowrap;\n",
       "  overflow: hidden;\n",
       "  text-overflow: ellipsis;\n",
       "  padding-right: 10px;\n",
       "}\n",
       "\n",
       ".xr-var-name:hover,\n",
       ".xr-var-dims:hover,\n",
       ".xr-var-dtype:hover,\n",
       ".xr-attrs dt:hover {\n",
       "  overflow: visible;\n",
       "  width: auto;\n",
       "  z-index: 1;\n",
       "}\n",
       "\n",
       ".xr-var-attrs,\n",
       ".xr-var-data,\n",
       ".xr-index-data {\n",
       "  display: none;\n",
       "  background-color: var(--xr-background-color) !important;\n",
       "  padding-bottom: 5px !important;\n",
       "}\n",
       "\n",
       ".xr-var-attrs-in:checked ~ .xr-var-attrs,\n",
       ".xr-var-data-in:checked ~ .xr-var-data,\n",
       ".xr-index-data-in:checked ~ .xr-index-data {\n",
       "  display: block;\n",
       "}\n",
       "\n",
       ".xr-var-data > table {\n",
       "  float: right;\n",
       "}\n",
       "\n",
       ".xr-var-name span,\n",
       ".xr-var-data,\n",
       ".xr-index-name div,\n",
       ".xr-index-data,\n",
       ".xr-attrs {\n",
       "  padding-left: 25px !important;\n",
       "}\n",
       "\n",
       ".xr-attrs,\n",
       ".xr-var-attrs,\n",
       ".xr-var-data,\n",
       ".xr-index-data {\n",
       "  grid-column: 1 / -1;\n",
       "}\n",
       "\n",
       "dl.xr-attrs {\n",
       "  padding: 0;\n",
       "  margin: 0;\n",
       "  display: grid;\n",
       "  grid-template-columns: 125px auto;\n",
       "}\n",
       "\n",
       ".xr-attrs dt,\n",
       ".xr-attrs dd {\n",
       "  padding: 0;\n",
       "  margin: 0;\n",
       "  float: left;\n",
       "  padding-right: 10px;\n",
       "  width: auto;\n",
       "}\n",
       "\n",
       ".xr-attrs dt {\n",
       "  font-weight: normal;\n",
       "  grid-column: 1;\n",
       "}\n",
       "\n",
       ".xr-attrs dt:hover span {\n",
       "  display: inline-block;\n",
       "  background: var(--xr-background-color);\n",
       "  padding-right: 10px;\n",
       "}\n",
       "\n",
       ".xr-attrs dd {\n",
       "  grid-column: 2;\n",
       "  white-space: pre-wrap;\n",
       "  word-break: break-all;\n",
       "}\n",
       "\n",
       ".xr-icon-database,\n",
       ".xr-icon-file-text2,\n",
       ".xr-no-icon {\n",
       "  display: inline-block;\n",
       "  vertical-align: middle;\n",
       "  width: 1em;\n",
       "  height: 1.5em !important;\n",
       "  stroke-width: 0;\n",
       "  stroke: currentColor;\n",
       "  fill: currentColor;\n",
       "}\n",
       "</style><pre class='xr-text-repr-fallback'>&lt;xarray.Dataset&gt;\n",
       "Dimensions:    (level_0: 2015351, Cell: 1067, Trial: 251)\n",
       "Coordinates:\n",
       "  * level_0    (level_0) int64 0 1 2 3 4 ... 2015347 2015348 2015349 2015350\n",
       "  * Cell       (Cell) int64 0 1 2 3 4 5 6 ... 1063 1064 1065 1066 1067 1068 1069\n",
       "  * Trial      (Trial) int64 0 1 2 3 4 5 6 7 ... 243 244 245 246 247 248 249 250\n",
       "Data variables:\n",
       "    SpikeTime  (level_0, Cell, Trial) float32 &lt;COO: nnz=2015351, fill_value=nan&gt;</pre><div class='xr-wrap' style='display:none'><div class='xr-header'><div class='xr-obj-type'>xarray.Dataset</div></div><ul class='xr-sections'><li class='xr-section-item'><input id='section-2d308cea-ab41-408a-a27b-5223dc11e061' class='xr-section-summary-in' type='checkbox' disabled ><label for='section-2d308cea-ab41-408a-a27b-5223dc11e061' class='xr-section-summary'  title='Expand/collapse section'>Dimensions:</label><div class='xr-section-inline-details'><ul class='xr-dim-list'><li><span class='xr-has-index'>level_0</span>: 2015351</li><li><span class='xr-has-index'>Cell</span>: 1067</li><li><span class='xr-has-index'>Trial</span>: 251</li></ul></div><div class='xr-section-details'></div></li><li class='xr-section-item'><input id='section-93eed179-49af-4a74-85df-c88c0b117558' class='xr-section-summary-in' type='checkbox'  checked><label for='section-93eed179-49af-4a74-85df-c88c0b117558' class='xr-section-summary' >Coordinates: <span>(3)</span></label><div class='xr-section-inline-details'></div><div class='xr-section-details'><ul class='xr-var-list'><li class='xr-var-item'><div class='xr-var-name'><span class='xr-has-index'>level_0</span></div><div class='xr-var-dims'>(level_0)</div><div class='xr-var-dtype'>int64</div><div class='xr-var-preview xr-preview'>0 1 2 3 ... 2015348 2015349 2015350</div><input id='attrs-b98c64f2-a187-4d5c-bbd5-7ae5b31b89c7' class='xr-var-attrs-in' type='checkbox' disabled><label for='attrs-b98c64f2-a187-4d5c-bbd5-7ae5b31b89c7' title='Show/Hide attributes'><svg class='icon xr-icon-file-text2'><use xlink:href='#icon-file-text2'></use></svg></label><input id='data-24756a9d-c5af-40e7-abde-a220e27906da' class='xr-var-data-in' type='checkbox'><label for='data-24756a9d-c5af-40e7-abde-a220e27906da' title='Show/Hide data repr'><svg class='icon xr-icon-database'><use xlink:href='#icon-database'></use></svg></label><div class='xr-var-attrs'><dl class='xr-attrs'></dl></div><div class='xr-var-data'><pre>array([      0,       1,       2, ..., 2015348, 2015349, 2015350], dtype=int64)</pre></div></li><li class='xr-var-item'><div class='xr-var-name'><span class='xr-has-index'>Cell</span></div><div class='xr-var-dims'>(Cell)</div><div class='xr-var-dtype'>int64</div><div class='xr-var-preview xr-preview'>0 1 2 3 4 ... 1066 1067 1068 1069</div><input id='attrs-1412a03d-5f54-4ef6-af28-1794bd22dcf7' class='xr-var-attrs-in' type='checkbox' disabled><label for='attrs-1412a03d-5f54-4ef6-af28-1794bd22dcf7' title='Show/Hide attributes'><svg class='icon xr-icon-file-text2'><use xlink:href='#icon-file-text2'></use></svg></label><input id='data-eea2bb48-abd5-420d-b3ee-9e4344c7cf50' class='xr-var-data-in' type='checkbox'><label for='data-eea2bb48-abd5-420d-b3ee-9e4344c7cf50' title='Show/Hide data repr'><svg class='icon xr-icon-database'><use xlink:href='#icon-database'></use></svg></label><div class='xr-var-attrs'><dl class='xr-attrs'></dl></div><div class='xr-var-data'><pre>array([   0,    1,    2, ..., 1067, 1068, 1069], dtype=int64)</pre></div></li><li class='xr-var-item'><div class='xr-var-name'><span class='xr-has-index'>Trial</span></div><div class='xr-var-dims'>(Trial)</div><div class='xr-var-dtype'>int64</div><div class='xr-var-preview xr-preview'>0 1 2 3 4 5 ... 246 247 248 249 250</div><input id='attrs-c4a6aeb7-72af-4e18-a28c-d6fb2d17e94c' class='xr-var-attrs-in' type='checkbox' disabled><label for='attrs-c4a6aeb7-72af-4e18-a28c-d6fb2d17e94c' title='Show/Hide attributes'><svg class='icon xr-icon-file-text2'><use xlink:href='#icon-file-text2'></use></svg></label><input id='data-0a590178-4c52-427a-b0fc-8bd2fbafc461' class='xr-var-data-in' type='checkbox'><label for='data-0a590178-4c52-427a-b0fc-8bd2fbafc461' title='Show/Hide data repr'><svg class='icon xr-icon-database'><use xlink:href='#icon-database'></use></svg></label><div class='xr-var-attrs'><dl class='xr-attrs'></dl></div><div class='xr-var-data'><pre>array([  0,   1,   2, ..., 248, 249, 250], dtype=int64)</pre></div></li></ul></div></li><li class='xr-section-item'><input id='section-60b5acfa-49ba-4edf-82f1-9b0ebe64ecde' class='xr-section-summary-in' type='checkbox'  checked><label for='section-60b5acfa-49ba-4edf-82f1-9b0ebe64ecde' class='xr-section-summary' >Data variables: <span>(1)</span></label><div class='xr-section-inline-details'></div><div class='xr-section-details'><ul class='xr-var-list'><li class='xr-var-item'><div class='xr-var-name'><span>SpikeTime</span></div><div class='xr-var-dims'>(level_0, Cell, Trial)</div><div class='xr-var-dtype'>float32</div><div class='xr-var-preview xr-preview'>&lt;COO: nnz=2015351, fill_value=nan&gt;</div><input id='attrs-5afe0af0-c131-4c1b-b81d-a7d1d3884abe' class='xr-var-attrs-in' type='checkbox' disabled><label for='attrs-5afe0af0-c131-4c1b-b81d-a7d1d3884abe' title='Show/Hide attributes'><svg class='icon xr-icon-file-text2'><use xlink:href='#icon-file-text2'></use></svg></label><input id='data-809163e6-3336-48f6-a1a3-3db2674071fb' class='xr-var-data-in' type='checkbox'><label for='data-809163e6-3336-48f6-a1a3-3db2674071fb' title='Show/Hide data repr'><svg class='icon xr-icon-database'><use xlink:href='#icon-database'></use></svg></label><div class='xr-var-attrs'><dl class='xr-attrs'></dl></div><div class='xr-var-data'><table><tbody><tr><th style=\"text-align: left\">Format</th><td style=\"text-align: left\">coo</td></tr><tr><th style=\"text-align: left\">Data Type</th><td style=\"text-align: left\">float32</td></tr><tr><th style=\"text-align: left\">Shape</th><td style=\"text-align: left\">(2015351, 1067, 251)</td></tr><tr><th style=\"text-align: left\">nnz</th><td style=\"text-align: left\">2015351</td></tr><tr><th style=\"text-align: left\">Density</th><td style=\"text-align: left\">3.7338929194188567e-06</td></tr><tr><th style=\"text-align: left\">Read-only</th><td style=\"text-align: left\">True</td></tr><tr><th style=\"text-align: left\">Size</th><td style=\"text-align: left\">30.8M</td></tr><tr><th style=\"text-align: left\">Storage ratio</th><td style=\"text-align: left\">0.0</td></tr></tbody></table></div></li></ul></div></li><li class='xr-section-item'><input id='section-2a95b825-e153-4446-b3ce-8a50e716970b' class='xr-section-summary-in' type='checkbox'  ><label for='section-2a95b825-e153-4446-b3ce-8a50e716970b' class='xr-section-summary' >Indexes: <span>(3)</span></label><div class='xr-section-inline-details'></div><div class='xr-section-details'><ul class='xr-var-list'><li class='xr-var-item'><div class='xr-index-name'><div>level_0</div></div><div class='xr-index-preview'>PandasIndex</div><div></div><input id='index-900ca553-9ac8-4009-9185-109e30b4ad84' class='xr-index-data-in' type='checkbox'/><label for='index-900ca553-9ac8-4009-9185-109e30b4ad84' title='Show/Hide index repr'><svg class='icon xr-icon-database'><use xlink:href='#icon-database'></use></svg></label><div class='xr-index-data'><pre>PandasIndex(RangeIndex(start=0, stop=2015351, step=1, name=&#x27;level_0&#x27;))</pre></div></li><li class='xr-var-item'><div class='xr-index-name'><div>Cell</div></div><div class='xr-index-preview'>PandasIndex</div><div></div><input id='index-f371bf9c-1754-4523-acfb-2ba2a516501a' class='xr-index-data-in' type='checkbox'/><label for='index-f371bf9c-1754-4523-acfb-2ba2a516501a' title='Show/Hide index repr'><svg class='icon xr-icon-database'><use xlink:href='#icon-database'></use></svg></label><div class='xr-index-data'><pre>PandasIndex(Index([   0,    1,    2,    3,    4,    5,    6,    7,    8,    9,\n",
       "       ...\n",
       "       1060, 1061, 1062, 1063, 1064, 1065, 1066, 1067, 1068, 1069],\n",
       "      dtype=&#x27;int64&#x27;, name=&#x27;Cell&#x27;, length=1067))</pre></div></li><li class='xr-var-item'><div class='xr-index-name'><div>Trial</div></div><div class='xr-index-preview'>PandasIndex</div><div></div><input id='index-acb02c09-7e0f-464b-b0aa-16e8233a818f' class='xr-index-data-in' type='checkbox'/><label for='index-acb02c09-7e0f-464b-b0aa-16e8233a818f' title='Show/Hide index repr'><svg class='icon xr-icon-database'><use xlink:href='#icon-database'></use></svg></label><div class='xr-index-data'><pre>PandasIndex(Index([  0,   1,   2,   3,   4,   5,   6,   7,   8,   9,\n",
       "       ...\n",
       "       241, 242, 243, 244, 245, 246, 247, 248, 249, 250],\n",
       "      dtype=&#x27;int64&#x27;, name=&#x27;Trial&#x27;, length=251))</pre></div></li></ul></div></li><li class='xr-section-item'><input id='section-231eb91f-cf42-4a1c-a21e-df7503d6c559' class='xr-section-summary-in' type='checkbox' disabled ><label for='section-231eb91f-cf42-4a1c-a21e-df7503d6c559' class='xr-section-summary'  title='Expand/collapse section'>Attributes: <span>(0)</span></label><div class='xr-section-inline-details'></div><div class='xr-section-details'><dl class='xr-attrs'></dl></div></li></ul></div></div>"
      ],
      "text/plain": [
       "<xarray.Dataset>\n",
       "Dimensions:    (level_0: 2015351, Cell: 1067, Trial: 251)\n",
       "Coordinates:\n",
       "  * level_0    (level_0) int64 0 1 2 3 4 ... 2015347 2015348 2015349 2015350\n",
       "  * Cell       (Cell) int64 0 1 2 3 4 5 6 ... 1063 1064 1065 1066 1067 1068 1069\n",
       "  * Trial      (Trial) int64 0 1 2 3 4 5 6 7 ... 243 244 245 246 247 248 249 250\n",
       "Data variables:\n",
       "    SpikeTime  (level_0, Cell, Trial) float32 <COO: nnz=2015351, fill_value=nan>"
      ]
     },
     "execution_count": 42,
     "metadata": {},
     "output_type": "execute_result"
    }
   ],
   "source": [
    "ds = xr.Dataset.from_dataframe(df.set_index(['Cell', 'Trial'], append=True), sparse=True)\n",
    "ds"
   ]
  },
  {
   "cell_type": "code",
   "execution_count": 50,
   "metadata": {},
   "outputs": [
    {
     "ename": "AttributeError",
     "evalue": "'DataArray' object has no attribute 'todense'",
     "output_type": "error",
     "traceback": [
      "\u001b[1;31m---------------------------------------------------------------------------\u001b[0m",
      "\u001b[1;31mAttributeError\u001b[0m                            Traceback (most recent call last)",
      "\u001b[1;32mc:\\Users\\delgr\\Projects\\iBOTS-Tools\\workshops\\bootcamp\\steinmentz_data_curation\\notebooks\\explore_lfps.ipynb Cell 14\u001b[0m line \u001b[0;36m1\n\u001b[1;32m----> <a href='vscode-notebook-cell:/c%3A/Users/delgr/Projects/iBOTS-Tools/workshops/bootcamp/steinmentz_data_curation/notebooks/explore_lfps.ipynb#X30sZmlsZQ%3D%3D?line=0'>1</a>\u001b[0m ds[\u001b[39m'\u001b[39;49m\u001b[39mSpikeTime\u001b[39;49m\u001b[39m'\u001b[39;49m]\u001b[39m.\u001b[39;49mtodense\n",
      "File \u001b[1;32mc:\\Users\\delgr\\anaconda3\\envs\\datascience1\\Lib\\site-packages\\xarray\\core\\common.py:278\u001b[0m, in \u001b[0;36mAttrAccessMixin.__getattr__\u001b[1;34m(self, name)\u001b[0m\n\u001b[0;32m    276\u001b[0m         \u001b[39mwith\u001b[39;00m suppress(\u001b[39mKeyError\u001b[39;00m):\n\u001b[0;32m    277\u001b[0m             \u001b[39mreturn\u001b[39;00m source[name]\n\u001b[1;32m--> 278\u001b[0m \u001b[39mraise\u001b[39;00m \u001b[39mAttributeError\u001b[39;00m(\n\u001b[0;32m    279\u001b[0m     \u001b[39mf\u001b[39m\u001b[39m\"\u001b[39m\u001b[39m{\u001b[39;00m\u001b[39mtype\u001b[39m(\u001b[39mself\u001b[39m)\u001b[39m.\u001b[39m\u001b[39m__name__\u001b[39m\u001b[39m!r}\u001b[39;00m\u001b[39m object has no attribute \u001b[39m\u001b[39m{\u001b[39;00mname\u001b[39m!r}\u001b[39;00m\u001b[39m\"\u001b[39m\n\u001b[0;32m    280\u001b[0m )\n",
      "\u001b[1;31mAttributeError\u001b[0m: 'DataArray' object has no attribute 'todense'"
     ]
    }
   ],
   "source": [
    "ds['SpikeTime'].todense"
   ]
  },
  {
   "cell_type": "code",
   "execution_count": 57,
   "metadata": {},
   "outputs": [],
   "source": [
    "df.set_index(['Trial', 'Cell']).to_csv('st.csv')\n",
    "df.set_index(['Trial', 'Cell']).to_parquet('st.parquet')"
   ]
  },
  {
   "cell_type": "code",
   "execution_count": 29,
   "metadata": {},
   "outputs": [
    {
     "data": {
      "text/plain": [
       "((4, 401, 250), ['CA1', 'VISl', 'POST', 'VISpm'])"
      ]
     },
     "execution_count": 29,
     "metadata": {},
     "output_type": "execute_result"
    }
   ],
   "source": [
    "lfps = np.concatenate((dd['lfp'], dd['lfp_passive']), axis=1)\n",
    "lfps.shape, dd['brain_area_lfp']"
   ]
  },
  {
   "cell_type": "markdown",
   "metadata": {},
   "source": [
    "## wav.npz"
   ]
  },
  {
   "cell_type": "code",
   "execution_count": 94,
   "metadata": {},
   "outputs": [
    {
     "data": {
      "text/plain": [
       "(39, dict_keys(['waveform_w', 'waveform_u', 'trough_to_peak']))"
      ]
     },
     "execution_count": 94,
     "metadata": {},
     "output_type": "execute_result"
    }
   ],
   "source": [
    "dat = np.load('../data/raw/lfp/steinmetz_wav.npz', allow_pickle=True)['dat']\n",
    "dd = dat[0]\n",
    "len(dat), dd.keys()"
   ]
  },
  {
   "cell_type": "code",
   "execution_count": 35,
   "metadata": {},
   "outputs": [
    {
     "data": {
      "text/plain": [
       "((734, 82, 3), (734, 3, 384), (734,))"
      ]
     },
     "execution_count": 35,
     "metadata": {},
     "output_type": "execute_result"
    }
   ],
   "source": [
    "dd['waveform_w'].shape,  dd['waveform_u'].shape, dd['trough_to_peak'].shape"
   ]
  },
  {
   "cell_type": "code",
   "execution_count": 96,
   "metadata": {},
   "outputs": [
    {
     "data": {
      "text/plain": [
       "(734, 214, 250)"
      ]
     },
     "execution_count": 96,
     "metadata": {},
     "output_type": "execute_result"
    }
   ],
   "source": [
    "aa['spks'].shape"
   ]
  },
  {
   "cell_type": "code",
   "execution_count": 1,
   "metadata": {},
   "outputs": [
    {
     "ename": "NameError",
     "evalue": "name 'dd' is not defined",
     "output_type": "error",
     "traceback": [
      "\u001b[1;31m---------------------------------------------------------------------------\u001b[0m",
      "\u001b[1;31mNameError\u001b[0m                                 Traceback (most recent call last)",
      "\u001b[1;32mc:\\Users\\delgr\\Projects\\iBOTS-Tools\\workshops\\bootcamp\\steinmentz_data_curation\\notebooks\\explore_lfps.ipynb Cell 34\u001b[0m line \u001b[0;36m1\n\u001b[1;32m----> <a href='vscode-notebook-cell:/c%3A/Users/delgr/Projects/iBOTS-Tools/workshops/bootcamp/steinmentz_data_curation/notebooks/explore_lfps.ipynb#X53sZmlsZQ%3D%3D?line=0'>1</a>\u001b[0m dd\n",
      "\u001b[1;31mNameError\u001b[0m: name 'dd' is not defined"
     ]
    }
   ],
   "source": [
    "dd"
   ]
  }
 ],
 "metadata": {
  "kernelspec": {
   "display_name": "datascience1",
   "language": "python",
   "name": "python3"
  },
  "language_info": {
   "codemirror_mode": {
    "name": "ipython",
    "version": 3
   },
   "file_extension": ".py",
   "mimetype": "text/x-python",
   "name": "python",
   "nbconvert_exporter": "python",
   "pygments_lexer": "ipython3",
   "version": "3.11.4"
  }
 },
 "nbformat": 4,
 "nbformat_minor": 2
}
