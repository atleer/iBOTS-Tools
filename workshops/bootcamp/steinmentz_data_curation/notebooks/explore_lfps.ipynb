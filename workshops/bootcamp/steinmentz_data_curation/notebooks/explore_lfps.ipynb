{
 "cells": [
  {
   "cell_type": "code",
   "execution_count": 1,
   "metadata": {},
   "outputs": [],
   "source": [
    "import numpy as np\n",
    "import xarray as xr"
   ]
  },
  {
   "cell_type": "markdown",
   "metadata": {},
   "source": [
    "lfp.npz"
   ]
  },
  {
   "cell_type": "code",
   "execution_count": 25,
   "metadata": {},
   "outputs": [
    {
     "data": {
      "text/plain": [
       "(39, dict_keys(['lfp', 'lfp_passive', 'brain_area_lfp']))"
      ]
     },
     "execution_count": 25,
     "metadata": {},
     "output_type": "execute_result"
    }
   ],
   "source": [
    "dat = np.load('../data/raw/lfp/steinmetz_lfp.npz', allow_pickle=True)['dat']\n",
    "dd = dat[0]\n",
    "len(dat), dd.keys()"
   ]
  },
  {
   "cell_type": "code",
   "execution_count": 22,
   "metadata": {},
   "outputs": [
    {
     "data": {
      "text/plain": [
       "((7, 364, 250), ['ACA', 'LS', 'MOs', 'CA3', 'DG', 'SUB', 'VISp'])"
      ]
     },
     "execution_count": 22,
     "metadata": {},
     "output_type": "execute_result"
    }
   ],
   "source": [
    "lfps = np.concatenate((dd['lfp'], dd['lfp_passive']), axis=1)\n",
    "lfps.shape, dd['brain_area_lfp']"
   ]
  },
  {
   "cell_type": "markdown",
   "metadata": {},
   "source": [
    "### st.npz (why same data?)"
   ]
  },
  {
   "cell_type": "code",
   "execution_count": 28,
   "metadata": {},
   "outputs": [
    {
     "data": {
      "text/plain": [
       "(39, dict_keys(['lfp', 'lfp_passive', 'brain_area_lfp']))"
      ]
     },
     "execution_count": 28,
     "metadata": {},
     "output_type": "execute_result"
    }
   ],
   "source": [
    "dat = np.load('../data/raw/lfp/steinmetz_st.npz', allow_pickle=True)['dat']\n",
    "dd = dat[1]\n",
    "len(dat), dd.keys()"
   ]
  },
  {
   "cell_type": "code",
   "execution_count": 29,
   "metadata": {},
   "outputs": [
    {
     "data": {
      "text/plain": [
       "((4, 401, 250), ['CA1', 'VISl', 'POST', 'VISpm'])"
      ]
     },
     "execution_count": 29,
     "metadata": {},
     "output_type": "execute_result"
    }
   ],
   "source": [
    "lfps = np.concatenate((dd['lfp'], dd['lfp_passive']), axis=1)\n",
    "lfps.shape, dd['brain_area_lfp']"
   ]
  },
  {
   "cell_type": "markdown",
   "metadata": {},
   "source": [
    "## wav.npz"
   ]
  },
  {
   "cell_type": "code",
   "execution_count": 31,
   "metadata": {},
   "outputs": [
    {
     "data": {
      "text/plain": [
       "(39, dict_keys(['waveform_w', 'waveform_u', 'trough_to_peak']))"
      ]
     },
     "execution_count": 31,
     "metadata": {},
     "output_type": "execute_result"
    }
   ],
   "source": [
    "dat = np.load('../data/raw/lfp/steinmetz_wav.npz', allow_pickle=True)['dat']\n",
    "dd = dat[0]\n",
    "len(dat), dd.keys()"
   ]
  },
  {
   "cell_type": "code",
   "execution_count": 35,
   "metadata": {},
   "outputs": [
    {
     "data": {
      "text/plain": [
       "((734, 82, 3), (734, 3, 384), (734,))"
      ]
     },
     "execution_count": 35,
     "metadata": {},
     "output_type": "execute_result"
    }
   ],
   "source": [
    "dd['waveform_w'].shape,  dd['waveform_u'].shape, dd['trough_to_peak'].shape"
   ]
  }
 ],
 "metadata": {
  "kernelspec": {
   "display_name": "datascience1",
   "language": "python",
   "name": "python3"
  },
  "language_info": {
   "codemirror_mode": {
    "name": "ipython",
    "version": 3
   },
   "file_extension": ".py",
   "mimetype": "text/x-python",
   "name": "python",
   "nbconvert_exporter": "python",
   "pygments_lexer": "ipython3",
   "version": "3.11.4"
  }
 },
 "nbformat": 4,
 "nbformat_minor": 2
}
