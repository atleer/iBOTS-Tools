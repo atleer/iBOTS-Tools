{
 "cells": [
  {
   "cell_type": "code",
   "execution_count": 1,
   "metadata": {},
   "outputs": [],
   "source": [
    "import xarray as xr"
   ]
  },
  {
   "cell_type": "markdown",
   "metadata": {},
   "source": [
    "### Loading in NetCDF Files as XArray Datasets"
   ]
  },
  {
   "cell_type": "code",
   "execution_count": 2,
   "metadata": {},
   "outputs": [
    {
     "data": {
      "text/html": [
       "<div><svg style=\"position: absolute; width: 0; height: 0; overflow: hidden\">\n",
       "<defs>\n",
       "<symbol id=\"icon-database\" viewBox=\"0 0 32 32\">\n",
       "<path d=\"M16 0c-8.837 0-16 2.239-16 5v4c0 2.761 7.163 5 16 5s16-2.239 16-5v-4c0-2.761-7.163-5-16-5z\"></path>\n",
       "<path d=\"M16 17c-8.837 0-16-2.239-16-5v6c0 2.761 7.163 5 16 5s16-2.239 16-5v-6c0 2.761-7.163 5-16 5z\"></path>\n",
       "<path d=\"M16 26c-8.837 0-16-2.239-16-5v6c0 2.761 7.163 5 16 5s16-2.239 16-5v-6c0 2.761-7.163 5-16 5z\"></path>\n",
       "</symbol>\n",
       "<symbol id=\"icon-file-text2\" viewBox=\"0 0 32 32\">\n",
       "<path d=\"M28.681 7.159c-0.694-0.947-1.662-2.053-2.724-3.116s-2.169-2.030-3.116-2.724c-1.612-1.182-2.393-1.319-2.841-1.319h-15.5c-1.378 0-2.5 1.121-2.5 2.5v27c0 1.378 1.122 2.5 2.5 2.5h23c1.378 0 2.5-1.122 2.5-2.5v-19.5c0-0.448-0.137-1.23-1.319-2.841zM24.543 5.457c0.959 0.959 1.712 1.825 2.268 2.543h-4.811v-4.811c0.718 0.556 1.584 1.309 2.543 2.268zM28 29.5c0 0.271-0.229 0.5-0.5 0.5h-23c-0.271 0-0.5-0.229-0.5-0.5v-27c0-0.271 0.229-0.5 0.5-0.5 0 0 15.499-0 15.5 0v7c0 0.552 0.448 1 1 1h7v19.5z\"></path>\n",
       "<path d=\"M23 26h-14c-0.552 0-1-0.448-1-1s0.448-1 1-1h14c0.552 0 1 0.448 1 1s-0.448 1-1 1z\"></path>\n",
       "<path d=\"M23 22h-14c-0.552 0-1-0.448-1-1s0.448-1 1-1h14c0.552 0 1 0.448 1 1s-0.448 1-1 1z\"></path>\n",
       "<path d=\"M23 18h-14c-0.552 0-1-0.448-1-1s0.448-1 1-1h14c0.552 0 1 0.448 1 1s-0.448 1-1 1z\"></path>\n",
       "</symbol>\n",
       "</defs>\n",
       "</svg>\n",
       "<style>/* CSS stylesheet for displaying xarray objects in jupyterlab.\n",
       " *\n",
       " */\n",
       "\n",
       ":root {\n",
       "  --xr-font-color0: var(--jp-content-font-color0, rgba(0, 0, 0, 1));\n",
       "  --xr-font-color2: var(--jp-content-font-color2, rgba(0, 0, 0, 0.54));\n",
       "  --xr-font-color3: var(--jp-content-font-color3, rgba(0, 0, 0, 0.38));\n",
       "  --xr-border-color: var(--jp-border-color2, #e0e0e0);\n",
       "  --xr-disabled-color: var(--jp-layout-color3, #bdbdbd);\n",
       "  --xr-background-color: var(--jp-layout-color0, white);\n",
       "  --xr-background-color-row-even: var(--jp-layout-color1, white);\n",
       "  --xr-background-color-row-odd: var(--jp-layout-color2, #eeeeee);\n",
       "}\n",
       "\n",
       "html[theme=dark],\n",
       "body[data-theme=dark],\n",
       "body.vscode-dark {\n",
       "  --xr-font-color0: rgba(255, 255, 255, 1);\n",
       "  --xr-font-color2: rgba(255, 255, 255, 0.54);\n",
       "  --xr-font-color3: rgba(255, 255, 255, 0.38);\n",
       "  --xr-border-color: #1F1F1F;\n",
       "  --xr-disabled-color: #515151;\n",
       "  --xr-background-color: #111111;\n",
       "  --xr-background-color-row-even: #111111;\n",
       "  --xr-background-color-row-odd: #313131;\n",
       "}\n",
       "\n",
       ".xr-wrap {\n",
       "  display: block !important;\n",
       "  min-width: 300px;\n",
       "  max-width: 700px;\n",
       "}\n",
       "\n",
       ".xr-text-repr-fallback {\n",
       "  /* fallback to plain text repr when CSS is not injected (untrusted notebook) */\n",
       "  display: none;\n",
       "}\n",
       "\n",
       ".xr-header {\n",
       "  padding-top: 6px;\n",
       "  padding-bottom: 6px;\n",
       "  margin-bottom: 4px;\n",
       "  border-bottom: solid 1px var(--xr-border-color);\n",
       "}\n",
       "\n",
       ".xr-header > div,\n",
       ".xr-header > ul {\n",
       "  display: inline;\n",
       "  margin-top: 0;\n",
       "  margin-bottom: 0;\n",
       "}\n",
       "\n",
       ".xr-obj-type,\n",
       ".xr-array-name {\n",
       "  margin-left: 2px;\n",
       "  margin-right: 10px;\n",
       "}\n",
       "\n",
       ".xr-obj-type {\n",
       "  color: var(--xr-font-color2);\n",
       "}\n",
       "\n",
       ".xr-sections {\n",
       "  padding-left: 0 !important;\n",
       "  display: grid;\n",
       "  grid-template-columns: 150px auto auto 1fr 20px 20px;\n",
       "}\n",
       "\n",
       ".xr-section-item {\n",
       "  display: contents;\n",
       "}\n",
       "\n",
       ".xr-section-item input {\n",
       "  display: none;\n",
       "}\n",
       "\n",
       ".xr-section-item input + label {\n",
       "  color: var(--xr-disabled-color);\n",
       "}\n",
       "\n",
       ".xr-section-item input:enabled + label {\n",
       "  cursor: pointer;\n",
       "  color: var(--xr-font-color2);\n",
       "}\n",
       "\n",
       ".xr-section-item input:enabled + label:hover {\n",
       "  color: var(--xr-font-color0);\n",
       "}\n",
       "\n",
       ".xr-section-summary {\n",
       "  grid-column: 1;\n",
       "  color: var(--xr-font-color2);\n",
       "  font-weight: 500;\n",
       "}\n",
       "\n",
       ".xr-section-summary > span {\n",
       "  display: inline-block;\n",
       "  padding-left: 0.5em;\n",
       "}\n",
       "\n",
       ".xr-section-summary-in:disabled + label {\n",
       "  color: var(--xr-font-color2);\n",
       "}\n",
       "\n",
       ".xr-section-summary-in + label:before {\n",
       "  display: inline-block;\n",
       "  content: '►';\n",
       "  font-size: 11px;\n",
       "  width: 15px;\n",
       "  text-align: center;\n",
       "}\n",
       "\n",
       ".xr-section-summary-in:disabled + label:before {\n",
       "  color: var(--xr-disabled-color);\n",
       "}\n",
       "\n",
       ".xr-section-summary-in:checked + label:before {\n",
       "  content: '▼';\n",
       "}\n",
       "\n",
       ".xr-section-summary-in:checked + label > span {\n",
       "  display: none;\n",
       "}\n",
       "\n",
       ".xr-section-summary,\n",
       ".xr-section-inline-details {\n",
       "  padding-top: 4px;\n",
       "  padding-bottom: 4px;\n",
       "}\n",
       "\n",
       ".xr-section-inline-details {\n",
       "  grid-column: 2 / -1;\n",
       "}\n",
       "\n",
       ".xr-section-details {\n",
       "  display: none;\n",
       "  grid-column: 1 / -1;\n",
       "  margin-bottom: 5px;\n",
       "}\n",
       "\n",
       ".xr-section-summary-in:checked ~ .xr-section-details {\n",
       "  display: contents;\n",
       "}\n",
       "\n",
       ".xr-array-wrap {\n",
       "  grid-column: 1 / -1;\n",
       "  display: grid;\n",
       "  grid-template-columns: 20px auto;\n",
       "}\n",
       "\n",
       ".xr-array-wrap > label {\n",
       "  grid-column: 1;\n",
       "  vertical-align: top;\n",
       "}\n",
       "\n",
       ".xr-preview {\n",
       "  color: var(--xr-font-color3);\n",
       "}\n",
       "\n",
       ".xr-array-preview,\n",
       ".xr-array-data {\n",
       "  padding: 0 5px !important;\n",
       "  grid-column: 2;\n",
       "}\n",
       "\n",
       ".xr-array-data,\n",
       ".xr-array-in:checked ~ .xr-array-preview {\n",
       "  display: none;\n",
       "}\n",
       "\n",
       ".xr-array-in:checked ~ .xr-array-data,\n",
       ".xr-array-preview {\n",
       "  display: inline-block;\n",
       "}\n",
       "\n",
       ".xr-dim-list {\n",
       "  display: inline-block !important;\n",
       "  list-style: none;\n",
       "  padding: 0 !important;\n",
       "  margin: 0;\n",
       "}\n",
       "\n",
       ".xr-dim-list li {\n",
       "  display: inline-block;\n",
       "  padding: 0;\n",
       "  margin: 0;\n",
       "}\n",
       "\n",
       ".xr-dim-list:before {\n",
       "  content: '(';\n",
       "}\n",
       "\n",
       ".xr-dim-list:after {\n",
       "  content: ')';\n",
       "}\n",
       "\n",
       ".xr-dim-list li:not(:last-child):after {\n",
       "  content: ',';\n",
       "  padding-right: 5px;\n",
       "}\n",
       "\n",
       ".xr-has-index {\n",
       "  font-weight: bold;\n",
       "}\n",
       "\n",
       ".xr-var-list,\n",
       ".xr-var-item {\n",
       "  display: contents;\n",
       "}\n",
       "\n",
       ".xr-var-item > div,\n",
       ".xr-var-item label,\n",
       ".xr-var-item > .xr-var-name span {\n",
       "  background-color: var(--xr-background-color-row-even);\n",
       "  margin-bottom: 0;\n",
       "}\n",
       "\n",
       ".xr-var-item > .xr-var-name:hover span {\n",
       "  padding-right: 5px;\n",
       "}\n",
       "\n",
       ".xr-var-list > li:nth-child(odd) > div,\n",
       ".xr-var-list > li:nth-child(odd) > label,\n",
       ".xr-var-list > li:nth-child(odd) > .xr-var-name span {\n",
       "  background-color: var(--xr-background-color-row-odd);\n",
       "}\n",
       "\n",
       ".xr-var-name {\n",
       "  grid-column: 1;\n",
       "}\n",
       "\n",
       ".xr-var-dims {\n",
       "  grid-column: 2;\n",
       "}\n",
       "\n",
       ".xr-var-dtype {\n",
       "  grid-column: 3;\n",
       "  text-align: right;\n",
       "  color: var(--xr-font-color2);\n",
       "}\n",
       "\n",
       ".xr-var-preview {\n",
       "  grid-column: 4;\n",
       "}\n",
       "\n",
       ".xr-index-preview {\n",
       "  grid-column: 2 / 5;\n",
       "  color: var(--xr-font-color2);\n",
       "}\n",
       "\n",
       ".xr-var-name,\n",
       ".xr-var-dims,\n",
       ".xr-var-dtype,\n",
       ".xr-preview,\n",
       ".xr-attrs dt {\n",
       "  white-space: nowrap;\n",
       "  overflow: hidden;\n",
       "  text-overflow: ellipsis;\n",
       "  padding-right: 10px;\n",
       "}\n",
       "\n",
       ".xr-var-name:hover,\n",
       ".xr-var-dims:hover,\n",
       ".xr-var-dtype:hover,\n",
       ".xr-attrs dt:hover {\n",
       "  overflow: visible;\n",
       "  width: auto;\n",
       "  z-index: 1;\n",
       "}\n",
       "\n",
       ".xr-var-attrs,\n",
       ".xr-var-data,\n",
       ".xr-index-data {\n",
       "  display: none;\n",
       "  background-color: var(--xr-background-color) !important;\n",
       "  padding-bottom: 5px !important;\n",
       "}\n",
       "\n",
       ".xr-var-attrs-in:checked ~ .xr-var-attrs,\n",
       ".xr-var-data-in:checked ~ .xr-var-data,\n",
       ".xr-index-data-in:checked ~ .xr-index-data {\n",
       "  display: block;\n",
       "}\n",
       "\n",
       ".xr-var-data > table {\n",
       "  float: right;\n",
       "}\n",
       "\n",
       ".xr-var-name span,\n",
       ".xr-var-data,\n",
       ".xr-index-name div,\n",
       ".xr-index-data,\n",
       ".xr-attrs {\n",
       "  padding-left: 25px !important;\n",
       "}\n",
       "\n",
       ".xr-attrs,\n",
       ".xr-var-attrs,\n",
       ".xr-var-data,\n",
       ".xr-index-data {\n",
       "  grid-column: 1 / -1;\n",
       "}\n",
       "\n",
       "dl.xr-attrs {\n",
       "  padding: 0;\n",
       "  margin: 0;\n",
       "  display: grid;\n",
       "  grid-template-columns: 125px auto;\n",
       "}\n",
       "\n",
       ".xr-attrs dt,\n",
       ".xr-attrs dd {\n",
       "  padding: 0;\n",
       "  margin: 0;\n",
       "  float: left;\n",
       "  padding-right: 10px;\n",
       "  width: auto;\n",
       "}\n",
       "\n",
       ".xr-attrs dt {\n",
       "  font-weight: normal;\n",
       "  grid-column: 1;\n",
       "}\n",
       "\n",
       ".xr-attrs dt:hover span {\n",
       "  display: inline-block;\n",
       "  background: var(--xr-background-color);\n",
       "  padding-right: 10px;\n",
       "}\n",
       "\n",
       ".xr-attrs dd {\n",
       "  grid-column: 2;\n",
       "  white-space: pre-wrap;\n",
       "  word-break: break-all;\n",
       "}\n",
       "\n",
       ".xr-icon-database,\n",
       ".xr-icon-file-text2,\n",
       ".xr-no-icon {\n",
       "  display: inline-block;\n",
       "  vertical-align: middle;\n",
       "  width: 1em;\n",
       "  height: 1.5em !important;\n",
       "  stroke-width: 0;\n",
       "  stroke: currentColor;\n",
       "  fill: currentColor;\n",
       "}\n",
       "</style><pre class='xr-text-repr-fallback'>&lt;xarray.Dataset&gt;\n",
       "Dimensions:         (mouse: 1, session_date: 1, trial: 364, time: 250, cell: 734)\n",
       "Coordinates:\n",
       "  * mouse           (mouse) object &#x27;Cori&#x27;\n",
       "  * session_date    (session_date) object &#x27;2016-12-14&#x27;\n",
       "  * trial           (trial) int64 1 2 3 4 5 6 7 ... 358 359 360 361 362 363 364\n",
       "  * time            (time) float64 0.01 0.02 0.03 0.04 ... 2.47 2.48 2.49 2.5\n",
       "  * cell            (cell) int64 1 2 3 4 5 6 7 8 ... 728 729 730 731 732 733 734\n",
       "Data variables: (12/24)\n",
       "    contrast_left   (mouse, session_date, trial) int8 ...\n",
       "    contrast_right  (mouse, session_date, trial) int8 ...\n",
       "    gocue           (mouse, session_date, trial) float64 ...\n",
       "    stim_onset      (mouse, session_date, trial) float64 ...\n",
       "    feedback_type   (mouse, session_date, trial) float64 ...\n",
       "    feedback_time   (mouse, session_date, trial) float64 ...\n",
       "    ...              ...\n",
       "    spks            (mouse, session_date, cell, trial, time) int8 ...\n",
       "    trough_to_peak  (mouse, session_date, cell) int8 ...\n",
       "    ccf_ap          (mouse, session_date, cell) float64 ...\n",
       "    ccf_dv          (mouse, session_date, cell) float64 ...\n",
       "    ccf_lr          (mouse, session_date, cell) float64 ...\n",
       "    brain_area      (mouse, session_date, cell) object ...\n",
       "Attributes:\n",
       "    bin_size:    0.01\n",
       "    stim_onset:  0.5</pre><div class='xr-wrap' style='display:none'><div class='xr-header'><div class='xr-obj-type'>xarray.Dataset</div></div><ul class='xr-sections'><li class='xr-section-item'><input id='section-c97b3977-da3e-40ac-8d01-f9f5a2feedf0' class='xr-section-summary-in' type='checkbox' disabled ><label for='section-c97b3977-da3e-40ac-8d01-f9f5a2feedf0' class='xr-section-summary'  title='Expand/collapse section'>Dimensions:</label><div class='xr-section-inline-details'><ul class='xr-dim-list'><li><span class='xr-has-index'>mouse</span>: 1</li><li><span class='xr-has-index'>session_date</span>: 1</li><li><span class='xr-has-index'>trial</span>: 364</li><li><span class='xr-has-index'>time</span>: 250</li><li><span class='xr-has-index'>cell</span>: 734</li></ul></div><div class='xr-section-details'></div></li><li class='xr-section-item'><input id='section-b67845ae-a8e7-44fd-86ce-ba343b2f7e44' class='xr-section-summary-in' type='checkbox'  checked><label for='section-b67845ae-a8e7-44fd-86ce-ba343b2f7e44' class='xr-section-summary' >Coordinates: <span>(5)</span></label><div class='xr-section-inline-details'></div><div class='xr-section-details'><ul class='xr-var-list'><li class='xr-var-item'><div class='xr-var-name'><span class='xr-has-index'>mouse</span></div><div class='xr-var-dims'>(mouse)</div><div class='xr-var-dtype'>object</div><div class='xr-var-preview xr-preview'>&#x27;Cori&#x27;</div><input id='attrs-99cb549c-bb1f-436c-acd9-166a455c9f03' class='xr-var-attrs-in' type='checkbox' disabled><label for='attrs-99cb549c-bb1f-436c-acd9-166a455c9f03' title='Show/Hide attributes'><svg class='icon xr-icon-file-text2'><use xlink:href='#icon-file-text2'></use></svg></label><input id='data-33c1dcbc-da5e-408f-90fb-9f24c2e39e5e' class='xr-var-data-in' type='checkbox'><label for='data-33c1dcbc-da5e-408f-90fb-9f24c2e39e5e' title='Show/Hide data repr'><svg class='icon xr-icon-database'><use xlink:href='#icon-database'></use></svg></label><div class='xr-var-attrs'><dl class='xr-attrs'></dl></div><div class='xr-var-data'><pre>array([&#x27;Cori&#x27;], dtype=object)</pre></div></li><li class='xr-var-item'><div class='xr-var-name'><span class='xr-has-index'>session_date</span></div><div class='xr-var-dims'>(session_date)</div><div class='xr-var-dtype'>object</div><div class='xr-var-preview xr-preview'>&#x27;2016-12-14&#x27;</div><input id='attrs-e951e610-8e93-4dad-a7b7-f8526afa2df1' class='xr-var-attrs-in' type='checkbox' disabled><label for='attrs-e951e610-8e93-4dad-a7b7-f8526afa2df1' title='Show/Hide attributes'><svg class='icon xr-icon-file-text2'><use xlink:href='#icon-file-text2'></use></svg></label><input id='data-8879adfa-91bc-4513-8088-d5df5e65aaeb' class='xr-var-data-in' type='checkbox'><label for='data-8879adfa-91bc-4513-8088-d5df5e65aaeb' title='Show/Hide data repr'><svg class='icon xr-icon-database'><use xlink:href='#icon-database'></use></svg></label><div class='xr-var-attrs'><dl class='xr-attrs'></dl></div><div class='xr-var-data'><pre>array([&#x27;2016-12-14&#x27;], dtype=object)</pre></div></li><li class='xr-var-item'><div class='xr-var-name'><span class='xr-has-index'>trial</span></div><div class='xr-var-dims'>(trial)</div><div class='xr-var-dtype'>int64</div><div class='xr-var-preview xr-preview'>1 2 3 4 5 6 ... 360 361 362 363 364</div><input id='attrs-f98f2ca5-0672-4142-a643-b00bbd7af788' class='xr-var-attrs-in' type='checkbox' disabled><label for='attrs-f98f2ca5-0672-4142-a643-b00bbd7af788' title='Show/Hide attributes'><svg class='icon xr-icon-file-text2'><use xlink:href='#icon-file-text2'></use></svg></label><input id='data-65fa2b20-08e6-4e01-9804-057c1815108a' class='xr-var-data-in' type='checkbox'><label for='data-65fa2b20-08e6-4e01-9804-057c1815108a' title='Show/Hide data repr'><svg class='icon xr-icon-database'><use xlink:href='#icon-database'></use></svg></label><div class='xr-var-attrs'><dl class='xr-attrs'></dl></div><div class='xr-var-data'><pre>array([  1,   2,   3, ..., 362, 363, 364])</pre></div></li><li class='xr-var-item'><div class='xr-var-name'><span class='xr-has-index'>time</span></div><div class='xr-var-dims'>(time)</div><div class='xr-var-dtype'>float64</div><div class='xr-var-preview xr-preview'>0.01 0.02 0.03 ... 2.48 2.49 2.5</div><input id='attrs-0af65409-530c-459a-8a84-167d334b7b4c' class='xr-var-attrs-in' type='checkbox' disabled><label for='attrs-0af65409-530c-459a-8a84-167d334b7b4c' title='Show/Hide attributes'><svg class='icon xr-icon-file-text2'><use xlink:href='#icon-file-text2'></use></svg></label><input id='data-785e7e2c-2083-4bf1-8b9d-3935621c06c3' class='xr-var-data-in' type='checkbox'><label for='data-785e7e2c-2083-4bf1-8b9d-3935621c06c3' title='Show/Hide data repr'><svg class='icon xr-icon-database'><use xlink:href='#icon-database'></use></svg></label><div class='xr-var-attrs'><dl class='xr-attrs'></dl></div><div class='xr-var-data'><pre>array([0.01, 0.02, 0.03, ..., 2.48, 2.49, 2.5 ])</pre></div></li><li class='xr-var-item'><div class='xr-var-name'><span class='xr-has-index'>cell</span></div><div class='xr-var-dims'>(cell)</div><div class='xr-var-dtype'>int64</div><div class='xr-var-preview xr-preview'>1 2 3 4 5 6 ... 730 731 732 733 734</div><input id='attrs-871c094e-7907-494c-a781-bcf52c9e84d1' class='xr-var-attrs-in' type='checkbox' disabled><label for='attrs-871c094e-7907-494c-a781-bcf52c9e84d1' title='Show/Hide attributes'><svg class='icon xr-icon-file-text2'><use xlink:href='#icon-file-text2'></use></svg></label><input id='data-a678c822-bbff-4076-bbc8-c76de6aff384' class='xr-var-data-in' type='checkbox'><label for='data-a678c822-bbff-4076-bbc8-c76de6aff384' title='Show/Hide data repr'><svg class='icon xr-icon-database'><use xlink:href='#icon-database'></use></svg></label><div class='xr-var-attrs'><dl class='xr-attrs'></dl></div><div class='xr-var-data'><pre>array([  1,   2,   3, ..., 732, 733, 734])</pre></div></li></ul></div></li><li class='xr-section-item'><input id='section-bba88aca-3009-4453-9c37-257b45c9f460' class='xr-section-summary-in' type='checkbox'  ><label for='section-bba88aca-3009-4453-9c37-257b45c9f460' class='xr-section-summary' >Data variables: <span>(24)</span></label><div class='xr-section-inline-details'></div><div class='xr-section-details'><ul class='xr-var-list'><li class='xr-var-item'><div class='xr-var-name'><span>contrast_left</span></div><div class='xr-var-dims'>(mouse, session_date, trial)</div><div class='xr-var-dtype'>int8</div><div class='xr-var-preview xr-preview'>...</div><input id='attrs-3df7b254-ae1a-4d44-8cfd-7bae1d06b591' class='xr-var-attrs-in' type='checkbox' disabled><label for='attrs-3df7b254-ae1a-4d44-8cfd-7bae1d06b591' title='Show/Hide attributes'><svg class='icon xr-icon-file-text2'><use xlink:href='#icon-file-text2'></use></svg></label><input id='data-9a0c97f3-ea04-42d6-9108-56648c33cb83' class='xr-var-data-in' type='checkbox'><label for='data-9a0c97f3-ea04-42d6-9108-56648c33cb83' title='Show/Hide data repr'><svg class='icon xr-icon-database'><use xlink:href='#icon-database'></use></svg></label><div class='xr-var-attrs'><dl class='xr-attrs'></dl></div><div class='xr-var-data'><pre>[364 values with dtype=int8]</pre></div></li><li class='xr-var-item'><div class='xr-var-name'><span>contrast_right</span></div><div class='xr-var-dims'>(mouse, session_date, trial)</div><div class='xr-var-dtype'>int8</div><div class='xr-var-preview xr-preview'>...</div><input id='attrs-5c514d04-10a6-4df5-a64e-cd52d0408b7f' class='xr-var-attrs-in' type='checkbox' disabled><label for='attrs-5c514d04-10a6-4df5-a64e-cd52d0408b7f' title='Show/Hide attributes'><svg class='icon xr-icon-file-text2'><use xlink:href='#icon-file-text2'></use></svg></label><input id='data-b9fe6299-ab73-436b-a352-189c397e7481' class='xr-var-data-in' type='checkbox'><label for='data-b9fe6299-ab73-436b-a352-189c397e7481' title='Show/Hide data repr'><svg class='icon xr-icon-database'><use xlink:href='#icon-database'></use></svg></label><div class='xr-var-attrs'><dl class='xr-attrs'></dl></div><div class='xr-var-data'><pre>[364 values with dtype=int8]</pre></div></li><li class='xr-var-item'><div class='xr-var-name'><span>gocue</span></div><div class='xr-var-dims'>(mouse, session_date, trial)</div><div class='xr-var-dtype'>float64</div><div class='xr-var-preview xr-preview'>...</div><input id='attrs-7dff0c5a-f283-48fb-bbfc-c87b5b5835db' class='xr-var-attrs-in' type='checkbox' disabled><label for='attrs-7dff0c5a-f283-48fb-bbfc-c87b5b5835db' title='Show/Hide attributes'><svg class='icon xr-icon-file-text2'><use xlink:href='#icon-file-text2'></use></svg></label><input id='data-ea5c37b3-d0e0-47f4-b767-29895d78b74f' class='xr-var-data-in' type='checkbox'><label for='data-ea5c37b3-d0e0-47f4-b767-29895d78b74f' title='Show/Hide data repr'><svg class='icon xr-icon-database'><use xlink:href='#icon-database'></use></svg></label><div class='xr-var-attrs'><dl class='xr-attrs'></dl></div><div class='xr-var-data'><pre>[364 values with dtype=float64]</pre></div></li><li class='xr-var-item'><div class='xr-var-name'><span>stim_onset</span></div><div class='xr-var-dims'>(mouse, session_date, trial)</div><div class='xr-var-dtype'>float64</div><div class='xr-var-preview xr-preview'>...</div><input id='attrs-01a4d2fd-b32d-4c26-b1d4-46c330df8ed3' class='xr-var-attrs-in' type='checkbox' disabled><label for='attrs-01a4d2fd-b32d-4c26-b1d4-46c330df8ed3' title='Show/Hide attributes'><svg class='icon xr-icon-file-text2'><use xlink:href='#icon-file-text2'></use></svg></label><input id='data-da60d8fe-e741-41a5-a2cb-513d158de365' class='xr-var-data-in' type='checkbox'><label for='data-da60d8fe-e741-41a5-a2cb-513d158de365' title='Show/Hide data repr'><svg class='icon xr-icon-database'><use xlink:href='#icon-database'></use></svg></label><div class='xr-var-attrs'><dl class='xr-attrs'></dl></div><div class='xr-var-data'><pre>[364 values with dtype=float64]</pre></div></li><li class='xr-var-item'><div class='xr-var-name'><span>feedback_type</span></div><div class='xr-var-dims'>(mouse, session_date, trial)</div><div class='xr-var-dtype'>float64</div><div class='xr-var-preview xr-preview'>...</div><input id='attrs-878f264f-c234-4b17-acd4-8fc83cccc019' class='xr-var-attrs-in' type='checkbox' disabled><label for='attrs-878f264f-c234-4b17-acd4-8fc83cccc019' title='Show/Hide attributes'><svg class='icon xr-icon-file-text2'><use xlink:href='#icon-file-text2'></use></svg></label><input id='data-b92f0bac-3ad1-4435-9f37-e9635acd37c2' class='xr-var-data-in' type='checkbox'><label for='data-b92f0bac-3ad1-4435-9f37-e9635acd37c2' title='Show/Hide data repr'><svg class='icon xr-icon-database'><use xlink:href='#icon-database'></use></svg></label><div class='xr-var-attrs'><dl class='xr-attrs'></dl></div><div class='xr-var-data'><pre>[364 values with dtype=float64]</pre></div></li><li class='xr-var-item'><div class='xr-var-name'><span>feedback_time</span></div><div class='xr-var-dims'>(mouse, session_date, trial)</div><div class='xr-var-dtype'>float64</div><div class='xr-var-preview xr-preview'>...</div><input id='attrs-1c293d08-d1b8-474d-b7fc-0fa7e95703a6' class='xr-var-attrs-in' type='checkbox' disabled><label for='attrs-1c293d08-d1b8-474d-b7fc-0fa7e95703a6' title='Show/Hide attributes'><svg class='icon xr-icon-file-text2'><use xlink:href='#icon-file-text2'></use></svg></label><input id='data-a6a4b251-4d31-4498-aeef-0a91a245d8f8' class='xr-var-data-in' type='checkbox'><label for='data-a6a4b251-4d31-4498-aeef-0a91a245d8f8' title='Show/Hide data repr'><svg class='icon xr-icon-database'><use xlink:href='#icon-database'></use></svg></label><div class='xr-var-attrs'><dl class='xr-attrs'></dl></div><div class='xr-var-data'><pre>[364 values with dtype=float64]</pre></div></li><li class='xr-var-item'><div class='xr-var-name'><span>response_type</span></div><div class='xr-var-dims'>(mouse, session_date, trial)</div><div class='xr-var-dtype'>float64</div><div class='xr-var-preview xr-preview'>...</div><input id='attrs-80eeca7b-b122-4f6d-9520-6db131c1795c' class='xr-var-attrs-in' type='checkbox' disabled><label for='attrs-80eeca7b-b122-4f6d-9520-6db131c1795c' title='Show/Hide attributes'><svg class='icon xr-icon-file-text2'><use xlink:href='#icon-file-text2'></use></svg></label><input id='data-2bb7fbad-dd7f-4874-b02a-c8771e76e6b4' class='xr-var-data-in' type='checkbox'><label for='data-2bb7fbad-dd7f-4874-b02a-c8771e76e6b4' title='Show/Hide data repr'><svg class='icon xr-icon-database'><use xlink:href='#icon-database'></use></svg></label><div class='xr-var-attrs'><dl class='xr-attrs'></dl></div><div class='xr-var-data'><pre>[364 values with dtype=float64]</pre></div></li><li class='xr-var-item'><div class='xr-var-name'><span>response_time</span></div><div class='xr-var-dims'>(mouse, session_date, trial)</div><div class='xr-var-dtype'>float64</div><div class='xr-var-preview xr-preview'>...</div><input id='attrs-6c8002b4-5d35-4b28-b57f-6685de22db17' class='xr-var-attrs-in' type='checkbox' disabled><label for='attrs-6c8002b4-5d35-4b28-b57f-6685de22db17' title='Show/Hide attributes'><svg class='icon xr-icon-file-text2'><use xlink:href='#icon-file-text2'></use></svg></label><input id='data-e31e32e0-a0ae-4c9d-affd-b11f67c1633d' class='xr-var-data-in' type='checkbox'><label for='data-e31e32e0-a0ae-4c9d-affd-b11f67c1633d' title='Show/Hide data repr'><svg class='icon xr-icon-database'><use xlink:href='#icon-database'></use></svg></label><div class='xr-var-attrs'><dl class='xr-attrs'></dl></div><div class='xr-var-data'><pre>[364 values with dtype=float64]</pre></div></li><li class='xr-var-item'><div class='xr-var-name'><span>reaction_type</span></div><div class='xr-var-dims'>(mouse, session_date, trial)</div><div class='xr-var-dtype'>float64</div><div class='xr-var-preview xr-preview'>...</div><input id='attrs-ac352c40-1c50-417a-8b34-823a2651a655' class='xr-var-attrs-in' type='checkbox' disabled><label for='attrs-ac352c40-1c50-417a-8b34-823a2651a655' title='Show/Hide attributes'><svg class='icon xr-icon-file-text2'><use xlink:href='#icon-file-text2'></use></svg></label><input id='data-4557a18f-6e6b-4c7d-b8ba-bde7ebcfc5c7' class='xr-var-data-in' type='checkbox'><label for='data-4557a18f-6e6b-4c7d-b8ba-bde7ebcfc5c7' title='Show/Hide data repr'><svg class='icon xr-icon-database'><use xlink:href='#icon-database'></use></svg></label><div class='xr-var-attrs'><dl class='xr-attrs'></dl></div><div class='xr-var-data'><pre>[364 values with dtype=float64]</pre></div></li><li class='xr-var-item'><div class='xr-var-name'><span>reaction_time</span></div><div class='xr-var-dims'>(mouse, session_date, trial)</div><div class='xr-var-dtype'>float64</div><div class='xr-var-preview xr-preview'>...</div><input id='attrs-e5bb901e-6819-437b-b325-437227b595bc' class='xr-var-attrs-in' type='checkbox' disabled><label for='attrs-e5bb901e-6819-437b-b325-437227b595bc' title='Show/Hide attributes'><svg class='icon xr-icon-file-text2'><use xlink:href='#icon-file-text2'></use></svg></label><input id='data-fdc2e59e-f60b-4cb2-ba8a-d1d2bc80599a' class='xr-var-data-in' type='checkbox'><label for='data-fdc2e59e-f60b-4cb2-ba8a-d1d2bc80599a' title='Show/Hide data repr'><svg class='icon xr-icon-database'><use xlink:href='#icon-database'></use></svg></label><div class='xr-var-attrs'><dl class='xr-attrs'></dl></div><div class='xr-var-data'><pre>[364 values with dtype=float64]</pre></div></li><li class='xr-var-item'><div class='xr-var-name'><span>prev_reward</span></div><div class='xr-var-dims'>(mouse, session_date, trial)</div><div class='xr-var-dtype'>float64</div><div class='xr-var-preview xr-preview'>...</div><input id='attrs-099a269e-3af2-452b-9b78-e4cc5669a77f' class='xr-var-attrs-in' type='checkbox' disabled><label for='attrs-099a269e-3af2-452b-9b78-e4cc5669a77f' title='Show/Hide attributes'><svg class='icon xr-icon-file-text2'><use xlink:href='#icon-file-text2'></use></svg></label><input id='data-df7563ff-9d8f-4110-84b4-10623b0c1f3d' class='xr-var-data-in' type='checkbox'><label for='data-df7563ff-9d8f-4110-84b4-10623b0c1f3d' title='Show/Hide data repr'><svg class='icon xr-icon-database'><use xlink:href='#icon-database'></use></svg></label><div class='xr-var-attrs'><dl class='xr-attrs'></dl></div><div class='xr-var-data'><pre>[364 values with dtype=float64]</pre></div></li><li class='xr-var-item'><div class='xr-var-name'><span>active_trials</span></div><div class='xr-var-dims'>(mouse, session_date, trial)</div><div class='xr-var-dtype'>bool</div><div class='xr-var-preview xr-preview'>...</div><input id='attrs-d14716f7-68dc-4e1b-a3cf-0853510e0054' class='xr-var-attrs-in' type='checkbox' disabled><label for='attrs-d14716f7-68dc-4e1b-a3cf-0853510e0054' title='Show/Hide attributes'><svg class='icon xr-icon-file-text2'><use xlink:href='#icon-file-text2'></use></svg></label><input id='data-7353fb64-5a7e-403b-b0e8-c4c58b497bae' class='xr-var-data-in' type='checkbox'><label for='data-7353fb64-5a7e-403b-b0e8-c4c58b497bae' title='Show/Hide data repr'><svg class='icon xr-icon-database'><use xlink:href='#icon-database'></use></svg></label><div class='xr-var-attrs'><dl class='xr-attrs'></dl></div><div class='xr-var-data'><pre>[364 values with dtype=bool]</pre></div></li><li class='xr-var-item'><div class='xr-var-name'><span>wheel</span></div><div class='xr-var-dims'>(mouse, session_date, trial, time)</div><div class='xr-var-dtype'>int8</div><div class='xr-var-preview xr-preview'>...</div><input id='attrs-bb9bab43-ff2e-4ea3-966c-a24d78d7cbe3' class='xr-var-attrs-in' type='checkbox' disabled><label for='attrs-bb9bab43-ff2e-4ea3-966c-a24d78d7cbe3' title='Show/Hide attributes'><svg class='icon xr-icon-file-text2'><use xlink:href='#icon-file-text2'></use></svg></label><input id='data-b18f2f09-fa97-4a7e-8c9b-db7571a23cf4' class='xr-var-data-in' type='checkbox'><label for='data-b18f2f09-fa97-4a7e-8c9b-db7571a23cf4' title='Show/Hide data repr'><svg class='icon xr-icon-database'><use xlink:href='#icon-database'></use></svg></label><div class='xr-var-attrs'><dl class='xr-attrs'></dl></div><div class='xr-var-data'><pre>[91000 values with dtype=int8]</pre></div></li><li class='xr-var-item'><div class='xr-var-name'><span>licks</span></div><div class='xr-var-dims'>(mouse, session_date, trial, time)</div><div class='xr-var-dtype'>int8</div><div class='xr-var-preview xr-preview'>...</div><input id='attrs-1c64f7fe-5822-4eff-aa0c-32f916a00261' class='xr-var-attrs-in' type='checkbox' disabled><label for='attrs-1c64f7fe-5822-4eff-aa0c-32f916a00261' title='Show/Hide attributes'><svg class='icon xr-icon-file-text2'><use xlink:href='#icon-file-text2'></use></svg></label><input id='data-b5eb8ee2-3b15-491d-b21a-5fda4912720a' class='xr-var-data-in' type='checkbox'><label for='data-b5eb8ee2-3b15-491d-b21a-5fda4912720a' title='Show/Hide data repr'><svg class='icon xr-icon-database'><use xlink:href='#icon-database'></use></svg></label><div class='xr-var-attrs'><dl class='xr-attrs'></dl></div><div class='xr-var-data'><pre>[91000 values with dtype=int8]</pre></div></li><li class='xr-var-item'><div class='xr-var-name'><span>pupil_x</span></div><div class='xr-var-dims'>(mouse, session_date, trial, time)</div><div class='xr-var-dtype'>float64</div><div class='xr-var-preview xr-preview'>...</div><input id='attrs-9e3cc845-3404-4287-8f82-cc87d48970f3' class='xr-var-attrs-in' type='checkbox' disabled><label for='attrs-9e3cc845-3404-4287-8f82-cc87d48970f3' title='Show/Hide attributes'><svg class='icon xr-icon-file-text2'><use xlink:href='#icon-file-text2'></use></svg></label><input id='data-ad564516-21b1-474a-8486-104caeb56707' class='xr-var-data-in' type='checkbox'><label for='data-ad564516-21b1-474a-8486-104caeb56707' title='Show/Hide data repr'><svg class='icon xr-icon-database'><use xlink:href='#icon-database'></use></svg></label><div class='xr-var-attrs'><dl class='xr-attrs'></dl></div><div class='xr-var-data'><pre>[91000 values with dtype=float64]</pre></div></li><li class='xr-var-item'><div class='xr-var-name'><span>pupil_y</span></div><div class='xr-var-dims'>(mouse, session_date, trial, time)</div><div class='xr-var-dtype'>float64</div><div class='xr-var-preview xr-preview'>...</div><input id='attrs-6075a24f-5ff0-4135-a8f5-7f7cd2cc2799' class='xr-var-attrs-in' type='checkbox' disabled><label for='attrs-6075a24f-5ff0-4135-a8f5-7f7cd2cc2799' title='Show/Hide attributes'><svg class='icon xr-icon-file-text2'><use xlink:href='#icon-file-text2'></use></svg></label><input id='data-47324991-c777-4e0c-81f8-fd1f1a88edf6' class='xr-var-data-in' type='checkbox'><label for='data-47324991-c777-4e0c-81f8-fd1f1a88edf6' title='Show/Hide data repr'><svg class='icon xr-icon-database'><use xlink:href='#icon-database'></use></svg></label><div class='xr-var-attrs'><dl class='xr-attrs'></dl></div><div class='xr-var-data'><pre>[91000 values with dtype=float64]</pre></div></li><li class='xr-var-item'><div class='xr-var-name'><span>pupil_area</span></div><div class='xr-var-dims'>(mouse, session_date, trial, time)</div><div class='xr-var-dtype'>float64</div><div class='xr-var-preview xr-preview'>...</div><input id='attrs-7dba6e46-7b67-447b-821f-d497ea8e7432' class='xr-var-attrs-in' type='checkbox' disabled><label for='attrs-7dba6e46-7b67-447b-821f-d497ea8e7432' title='Show/Hide attributes'><svg class='icon xr-icon-file-text2'><use xlink:href='#icon-file-text2'></use></svg></label><input id='data-ef41dad2-02f4-43da-ad48-ef97b470d03e' class='xr-var-data-in' type='checkbox'><label for='data-ef41dad2-02f4-43da-ad48-ef97b470d03e' title='Show/Hide data repr'><svg class='icon xr-icon-database'><use xlink:href='#icon-database'></use></svg></label><div class='xr-var-attrs'><dl class='xr-attrs'></dl></div><div class='xr-var-data'><pre>[91000 values with dtype=float64]</pre></div></li><li class='xr-var-item'><div class='xr-var-name'><span>face</span></div><div class='xr-var-dims'>(mouse, session_date, trial, time)</div><div class='xr-var-dtype'>float64</div><div class='xr-var-preview xr-preview'>...</div><input id='attrs-1677a0aa-7e90-4b66-be35-0bab3181fca4' class='xr-var-attrs-in' type='checkbox' disabled><label for='attrs-1677a0aa-7e90-4b66-be35-0bab3181fca4' title='Show/Hide attributes'><svg class='icon xr-icon-file-text2'><use xlink:href='#icon-file-text2'></use></svg></label><input id='data-9a8ea5c0-0007-4613-b1ba-9c994f083596' class='xr-var-data-in' type='checkbox'><label for='data-9a8ea5c0-0007-4613-b1ba-9c994f083596' title='Show/Hide data repr'><svg class='icon xr-icon-database'><use xlink:href='#icon-database'></use></svg></label><div class='xr-var-attrs'><dl class='xr-attrs'></dl></div><div class='xr-var-data'><pre>[91000 values with dtype=float64]</pre></div></li><li class='xr-var-item'><div class='xr-var-name'><span>spks</span></div><div class='xr-var-dims'>(mouse, session_date, cell, trial, time)</div><div class='xr-var-dtype'>int8</div><div class='xr-var-preview xr-preview'>...</div><input id='attrs-40edc952-2d28-4842-adfa-5f5cfc9c08b0' class='xr-var-attrs-in' type='checkbox' disabled><label for='attrs-40edc952-2d28-4842-adfa-5f5cfc9c08b0' title='Show/Hide attributes'><svg class='icon xr-icon-file-text2'><use xlink:href='#icon-file-text2'></use></svg></label><input id='data-43236ff9-f114-442f-940a-9c8997064c44' class='xr-var-data-in' type='checkbox'><label for='data-43236ff9-f114-442f-940a-9c8997064c44' title='Show/Hide data repr'><svg class='icon xr-icon-database'><use xlink:href='#icon-database'></use></svg></label><div class='xr-var-attrs'><dl class='xr-attrs'></dl></div><div class='xr-var-data'><pre>[66794000 values with dtype=int8]</pre></div></li><li class='xr-var-item'><div class='xr-var-name'><span>trough_to_peak</span></div><div class='xr-var-dims'>(mouse, session_date, cell)</div><div class='xr-var-dtype'>int8</div><div class='xr-var-preview xr-preview'>...</div><input id='attrs-c7141317-bd62-4d37-9abb-5f33422c04e5' class='xr-var-attrs-in' type='checkbox' disabled><label for='attrs-c7141317-bd62-4d37-9abb-5f33422c04e5' title='Show/Hide attributes'><svg class='icon xr-icon-file-text2'><use xlink:href='#icon-file-text2'></use></svg></label><input id='data-8a12858c-e805-4c43-90ad-58733b2ae468' class='xr-var-data-in' type='checkbox'><label for='data-8a12858c-e805-4c43-90ad-58733b2ae468' title='Show/Hide data repr'><svg class='icon xr-icon-database'><use xlink:href='#icon-database'></use></svg></label><div class='xr-var-attrs'><dl class='xr-attrs'></dl></div><div class='xr-var-data'><pre>[734 values with dtype=int8]</pre></div></li><li class='xr-var-item'><div class='xr-var-name'><span>ccf_ap</span></div><div class='xr-var-dims'>(mouse, session_date, cell)</div><div class='xr-var-dtype'>float64</div><div class='xr-var-preview xr-preview'>...</div><input id='attrs-52405ca6-12ec-4dd9-bdd5-f0416351db62' class='xr-var-attrs-in' type='checkbox' disabled><label for='attrs-52405ca6-12ec-4dd9-bdd5-f0416351db62' title='Show/Hide attributes'><svg class='icon xr-icon-file-text2'><use xlink:href='#icon-file-text2'></use></svg></label><input id='data-a0535fcc-8892-4f8e-8543-86e9351d39d7' class='xr-var-data-in' type='checkbox'><label for='data-a0535fcc-8892-4f8e-8543-86e9351d39d7' title='Show/Hide data repr'><svg class='icon xr-icon-database'><use xlink:href='#icon-database'></use></svg></label><div class='xr-var-attrs'><dl class='xr-attrs'></dl></div><div class='xr-var-data'><pre>[734 values with dtype=float64]</pre></div></li><li class='xr-var-item'><div class='xr-var-name'><span>ccf_dv</span></div><div class='xr-var-dims'>(mouse, session_date, cell)</div><div class='xr-var-dtype'>float64</div><div class='xr-var-preview xr-preview'>...</div><input id='attrs-db34441c-c7a9-4f5e-bd62-39de838ca87d' class='xr-var-attrs-in' type='checkbox' disabled><label for='attrs-db34441c-c7a9-4f5e-bd62-39de838ca87d' title='Show/Hide attributes'><svg class='icon xr-icon-file-text2'><use xlink:href='#icon-file-text2'></use></svg></label><input id='data-968262ed-f6ef-41f6-ad2a-4c8deae1a294' class='xr-var-data-in' type='checkbox'><label for='data-968262ed-f6ef-41f6-ad2a-4c8deae1a294' title='Show/Hide data repr'><svg class='icon xr-icon-database'><use xlink:href='#icon-database'></use></svg></label><div class='xr-var-attrs'><dl class='xr-attrs'></dl></div><div class='xr-var-data'><pre>[734 values with dtype=float64]</pre></div></li><li class='xr-var-item'><div class='xr-var-name'><span>ccf_lr</span></div><div class='xr-var-dims'>(mouse, session_date, cell)</div><div class='xr-var-dtype'>float64</div><div class='xr-var-preview xr-preview'>...</div><input id='attrs-c7af2915-24ce-49e7-b391-40656da0abd3' class='xr-var-attrs-in' type='checkbox' disabled><label for='attrs-c7af2915-24ce-49e7-b391-40656da0abd3' title='Show/Hide attributes'><svg class='icon xr-icon-file-text2'><use xlink:href='#icon-file-text2'></use></svg></label><input id='data-560020d5-47a0-48de-884b-57eefc0583e7' class='xr-var-data-in' type='checkbox'><label for='data-560020d5-47a0-48de-884b-57eefc0583e7' title='Show/Hide data repr'><svg class='icon xr-icon-database'><use xlink:href='#icon-database'></use></svg></label><div class='xr-var-attrs'><dl class='xr-attrs'></dl></div><div class='xr-var-data'><pre>[734 values with dtype=float64]</pre></div></li><li class='xr-var-item'><div class='xr-var-name'><span>brain_area</span></div><div class='xr-var-dims'>(mouse, session_date, cell)</div><div class='xr-var-dtype'>object</div><div class='xr-var-preview xr-preview'>...</div><input id='attrs-416c639a-319c-4089-841a-57366b5f2c5d' class='xr-var-attrs-in' type='checkbox' disabled><label for='attrs-416c639a-319c-4089-841a-57366b5f2c5d' title='Show/Hide attributes'><svg class='icon xr-icon-file-text2'><use xlink:href='#icon-file-text2'></use></svg></label><input id='data-f417afe7-5bac-4df5-b2a4-2346596bf627' class='xr-var-data-in' type='checkbox'><label for='data-f417afe7-5bac-4df5-b2a4-2346596bf627' title='Show/Hide data repr'><svg class='icon xr-icon-database'><use xlink:href='#icon-database'></use></svg></label><div class='xr-var-attrs'><dl class='xr-attrs'></dl></div><div class='xr-var-data'><pre>[734 values with dtype=object]</pre></div></li></ul></div></li><li class='xr-section-item'><input id='section-bf7d1274-2375-4713-b7b7-249d3f1be58d' class='xr-section-summary-in' type='checkbox'  ><label for='section-bf7d1274-2375-4713-b7b7-249d3f1be58d' class='xr-section-summary' >Indexes: <span>(5)</span></label><div class='xr-section-inline-details'></div><div class='xr-section-details'><ul class='xr-var-list'><li class='xr-var-item'><div class='xr-index-name'><div>mouse</div></div><div class='xr-index-preview'>PandasIndex</div><div></div><input id='index-e57d1335-bde8-4ccf-9683-c681b055dbf5' class='xr-index-data-in' type='checkbox'/><label for='index-e57d1335-bde8-4ccf-9683-c681b055dbf5' title='Show/Hide index repr'><svg class='icon xr-icon-database'><use xlink:href='#icon-database'></use></svg></label><div class='xr-index-data'><pre>PandasIndex(Index([&#x27;Cori&#x27;], dtype=&#x27;object&#x27;, name=&#x27;mouse&#x27;))</pre></div></li><li class='xr-var-item'><div class='xr-index-name'><div>session_date</div></div><div class='xr-index-preview'>PandasIndex</div><div></div><input id='index-056d0401-4be6-4d27-a50f-dab578cf5d11' class='xr-index-data-in' type='checkbox'/><label for='index-056d0401-4be6-4d27-a50f-dab578cf5d11' title='Show/Hide index repr'><svg class='icon xr-icon-database'><use xlink:href='#icon-database'></use></svg></label><div class='xr-index-data'><pre>PandasIndex(Index([&#x27;2016-12-14&#x27;], dtype=&#x27;object&#x27;, name=&#x27;session_date&#x27;))</pre></div></li><li class='xr-var-item'><div class='xr-index-name'><div>trial</div></div><div class='xr-index-preview'>PandasIndex</div><div></div><input id='index-cdb8139d-3da9-481c-b20f-8c760d9f0574' class='xr-index-data-in' type='checkbox'/><label for='index-cdb8139d-3da9-481c-b20f-8c760d9f0574' title='Show/Hide index repr'><svg class='icon xr-icon-database'><use xlink:href='#icon-database'></use></svg></label><div class='xr-index-data'><pre>PandasIndex(Int64Index([  1,   2,   3,   4,   5,   6,   7,   8,   9,  10,\n",
       "            ...\n",
       "            355, 356, 357, 358, 359, 360, 361, 362, 363, 364],\n",
       "           dtype=&#x27;int64&#x27;, name=&#x27;trial&#x27;, length=364))</pre></div></li><li class='xr-var-item'><div class='xr-index-name'><div>time</div></div><div class='xr-index-preview'>PandasIndex</div><div></div><input id='index-3dbe7f8d-97e4-4d81-8864-491403339986' class='xr-index-data-in' type='checkbox'/><label for='index-3dbe7f8d-97e4-4d81-8864-491403339986' title='Show/Hide index repr'><svg class='icon xr-icon-database'><use xlink:href='#icon-database'></use></svg></label><div class='xr-index-data'><pre>PandasIndex(Float64Index([0.01, 0.02, 0.03, 0.04, 0.05, 0.06, 0.07, 0.08, 0.09,  0.1,\n",
       "              ...\n",
       "              2.41, 2.42, 2.43, 2.44, 2.45, 2.46, 2.47, 2.48, 2.49,  2.5],\n",
       "             dtype=&#x27;float64&#x27;, name=&#x27;time&#x27;, length=250))</pre></div></li><li class='xr-var-item'><div class='xr-index-name'><div>cell</div></div><div class='xr-index-preview'>PandasIndex</div><div></div><input id='index-eeaaf137-f120-436e-a99e-a4567cbe7bed' class='xr-index-data-in' type='checkbox'/><label for='index-eeaaf137-f120-436e-a99e-a4567cbe7bed' title='Show/Hide index repr'><svg class='icon xr-icon-database'><use xlink:href='#icon-database'></use></svg></label><div class='xr-index-data'><pre>PandasIndex(Int64Index([  1,   2,   3,   4,   5,   6,   7,   8,   9,  10,\n",
       "            ...\n",
       "            725, 726, 727, 728, 729, 730, 731, 732, 733, 734],\n",
       "           dtype=&#x27;int64&#x27;, name=&#x27;cell&#x27;, length=734))</pre></div></li></ul></div></li><li class='xr-section-item'><input id='section-c69cb021-a4d4-43af-b509-c9925955653b' class='xr-section-summary-in' type='checkbox'  checked><label for='section-c69cb021-a4d4-43af-b509-c9925955653b' class='xr-section-summary' >Attributes: <span>(2)</span></label><div class='xr-section-inline-details'></div><div class='xr-section-details'><dl class='xr-attrs'><dt><span>bin_size :</span></dt><dd>0.01</dd><dt><span>stim_onset :</span></dt><dd>0.5</dd></dl></div></li></ul></div></div>"
      ],
      "text/plain": [
       "<xarray.Dataset>\n",
       "Dimensions:         (mouse: 1, session_date: 1, trial: 364, time: 250, cell: 734)\n",
       "Coordinates:\n",
       "  * mouse           (mouse) object 'Cori'\n",
       "  * session_date    (session_date) object '2016-12-14'\n",
       "  * trial           (trial) int64 1 2 3 4 5 6 7 ... 358 359 360 361 362 363 364\n",
       "  * time            (time) float64 0.01 0.02 0.03 0.04 ... 2.47 2.48 2.49 2.5\n",
       "  * cell            (cell) int64 1 2 3 4 5 6 7 8 ... 728 729 730 731 732 733 734\n",
       "Data variables: (12/24)\n",
       "    contrast_left   (mouse, session_date, trial) int8 ...\n",
       "    contrast_right  (mouse, session_date, trial) int8 ...\n",
       "    gocue           (mouse, session_date, trial) float64 ...\n",
       "    stim_onset      (mouse, session_date, trial) float64 ...\n",
       "    feedback_type   (mouse, session_date, trial) float64 ...\n",
       "    feedback_time   (mouse, session_date, trial) float64 ...\n",
       "    ...              ...\n",
       "    spks            (mouse, session_date, cell, trial, time) int8 ...\n",
       "    trough_to_peak  (mouse, session_date, cell) int8 ...\n",
       "    ccf_ap          (mouse, session_date, cell) float64 ...\n",
       "    ccf_dv          (mouse, session_date, cell) float64 ...\n",
       "    ccf_lr          (mouse, session_date, cell) float64 ...\n",
       "    brain_area      (mouse, session_date, cell) object ...\n",
       "Attributes:\n",
       "    bin_size:    0.01\n",
       "    stim_onset:  0.5"
      ]
     },
     "execution_count": 2,
     "metadata": {},
     "output_type": "execute_result"
    }
   ],
   "source": [
    "dset = xr.open_dataset('../data/processed/steinmetz_2016-12-14_Cori.nc')\n",
    "dset"
   ]
  },
  {
   "cell_type": "markdown",
   "metadata": {},
   "source": [
    "### Selecting subsets of the data is straightforward"
   ]
  },
  {
   "cell_type": "code",
   "execution_count": 3,
   "metadata": {},
   "outputs": [
    {
     "data": {
      "text/html": [
       "<div><svg style=\"position: absolute; width: 0; height: 0; overflow: hidden\">\n",
       "<defs>\n",
       "<symbol id=\"icon-database\" viewBox=\"0 0 32 32\">\n",
       "<path d=\"M16 0c-8.837 0-16 2.239-16 5v4c0 2.761 7.163 5 16 5s16-2.239 16-5v-4c0-2.761-7.163-5-16-5z\"></path>\n",
       "<path d=\"M16 17c-8.837 0-16-2.239-16-5v6c0 2.761 7.163 5 16 5s16-2.239 16-5v-6c0 2.761-7.163 5-16 5z\"></path>\n",
       "<path d=\"M16 26c-8.837 0-16-2.239-16-5v6c0 2.761 7.163 5 16 5s16-2.239 16-5v-6c0 2.761-7.163 5-16 5z\"></path>\n",
       "</symbol>\n",
       "<symbol id=\"icon-file-text2\" viewBox=\"0 0 32 32\">\n",
       "<path d=\"M28.681 7.159c-0.694-0.947-1.662-2.053-2.724-3.116s-2.169-2.030-3.116-2.724c-1.612-1.182-2.393-1.319-2.841-1.319h-15.5c-1.378 0-2.5 1.121-2.5 2.5v27c0 1.378 1.122 2.5 2.5 2.5h23c1.378 0 2.5-1.122 2.5-2.5v-19.5c0-0.448-0.137-1.23-1.319-2.841zM24.543 5.457c0.959 0.959 1.712 1.825 2.268 2.543h-4.811v-4.811c0.718 0.556 1.584 1.309 2.543 2.268zM28 29.5c0 0.271-0.229 0.5-0.5 0.5h-23c-0.271 0-0.5-0.229-0.5-0.5v-27c0-0.271 0.229-0.5 0.5-0.5 0 0 15.499-0 15.5 0v7c0 0.552 0.448 1 1 1h7v19.5z\"></path>\n",
       "<path d=\"M23 26h-14c-0.552 0-1-0.448-1-1s0.448-1 1-1h14c0.552 0 1 0.448 1 1s-0.448 1-1 1z\"></path>\n",
       "<path d=\"M23 22h-14c-0.552 0-1-0.448-1-1s0.448-1 1-1h14c0.552 0 1 0.448 1 1s-0.448 1-1 1z\"></path>\n",
       "<path d=\"M23 18h-14c-0.552 0-1-0.448-1-1s0.448-1 1-1h14c0.552 0 1 0.448 1 1s-0.448 1-1 1z\"></path>\n",
       "</symbol>\n",
       "</defs>\n",
       "</svg>\n",
       "<style>/* CSS stylesheet for displaying xarray objects in jupyterlab.\n",
       " *\n",
       " */\n",
       "\n",
       ":root {\n",
       "  --xr-font-color0: var(--jp-content-font-color0, rgba(0, 0, 0, 1));\n",
       "  --xr-font-color2: var(--jp-content-font-color2, rgba(0, 0, 0, 0.54));\n",
       "  --xr-font-color3: var(--jp-content-font-color3, rgba(0, 0, 0, 0.38));\n",
       "  --xr-border-color: var(--jp-border-color2, #e0e0e0);\n",
       "  --xr-disabled-color: var(--jp-layout-color3, #bdbdbd);\n",
       "  --xr-background-color: var(--jp-layout-color0, white);\n",
       "  --xr-background-color-row-even: var(--jp-layout-color1, white);\n",
       "  --xr-background-color-row-odd: var(--jp-layout-color2, #eeeeee);\n",
       "}\n",
       "\n",
       "html[theme=dark],\n",
       "body[data-theme=dark],\n",
       "body.vscode-dark {\n",
       "  --xr-font-color0: rgba(255, 255, 255, 1);\n",
       "  --xr-font-color2: rgba(255, 255, 255, 0.54);\n",
       "  --xr-font-color3: rgba(255, 255, 255, 0.38);\n",
       "  --xr-border-color: #1F1F1F;\n",
       "  --xr-disabled-color: #515151;\n",
       "  --xr-background-color: #111111;\n",
       "  --xr-background-color-row-even: #111111;\n",
       "  --xr-background-color-row-odd: #313131;\n",
       "}\n",
       "\n",
       ".xr-wrap {\n",
       "  display: block !important;\n",
       "  min-width: 300px;\n",
       "  max-width: 700px;\n",
       "}\n",
       "\n",
       ".xr-text-repr-fallback {\n",
       "  /* fallback to plain text repr when CSS is not injected (untrusted notebook) */\n",
       "  display: none;\n",
       "}\n",
       "\n",
       ".xr-header {\n",
       "  padding-top: 6px;\n",
       "  padding-bottom: 6px;\n",
       "  margin-bottom: 4px;\n",
       "  border-bottom: solid 1px var(--xr-border-color);\n",
       "}\n",
       "\n",
       ".xr-header > div,\n",
       ".xr-header > ul {\n",
       "  display: inline;\n",
       "  margin-top: 0;\n",
       "  margin-bottom: 0;\n",
       "}\n",
       "\n",
       ".xr-obj-type,\n",
       ".xr-array-name {\n",
       "  margin-left: 2px;\n",
       "  margin-right: 10px;\n",
       "}\n",
       "\n",
       ".xr-obj-type {\n",
       "  color: var(--xr-font-color2);\n",
       "}\n",
       "\n",
       ".xr-sections {\n",
       "  padding-left: 0 !important;\n",
       "  display: grid;\n",
       "  grid-template-columns: 150px auto auto 1fr 20px 20px;\n",
       "}\n",
       "\n",
       ".xr-section-item {\n",
       "  display: contents;\n",
       "}\n",
       "\n",
       ".xr-section-item input {\n",
       "  display: none;\n",
       "}\n",
       "\n",
       ".xr-section-item input + label {\n",
       "  color: var(--xr-disabled-color);\n",
       "}\n",
       "\n",
       ".xr-section-item input:enabled + label {\n",
       "  cursor: pointer;\n",
       "  color: var(--xr-font-color2);\n",
       "}\n",
       "\n",
       ".xr-section-item input:enabled + label:hover {\n",
       "  color: var(--xr-font-color0);\n",
       "}\n",
       "\n",
       ".xr-section-summary {\n",
       "  grid-column: 1;\n",
       "  color: var(--xr-font-color2);\n",
       "  font-weight: 500;\n",
       "}\n",
       "\n",
       ".xr-section-summary > span {\n",
       "  display: inline-block;\n",
       "  padding-left: 0.5em;\n",
       "}\n",
       "\n",
       ".xr-section-summary-in:disabled + label {\n",
       "  color: var(--xr-font-color2);\n",
       "}\n",
       "\n",
       ".xr-section-summary-in + label:before {\n",
       "  display: inline-block;\n",
       "  content: '►';\n",
       "  font-size: 11px;\n",
       "  width: 15px;\n",
       "  text-align: center;\n",
       "}\n",
       "\n",
       ".xr-section-summary-in:disabled + label:before {\n",
       "  color: var(--xr-disabled-color);\n",
       "}\n",
       "\n",
       ".xr-section-summary-in:checked + label:before {\n",
       "  content: '▼';\n",
       "}\n",
       "\n",
       ".xr-section-summary-in:checked + label > span {\n",
       "  display: none;\n",
       "}\n",
       "\n",
       ".xr-section-summary,\n",
       ".xr-section-inline-details {\n",
       "  padding-top: 4px;\n",
       "  padding-bottom: 4px;\n",
       "}\n",
       "\n",
       ".xr-section-inline-details {\n",
       "  grid-column: 2 / -1;\n",
       "}\n",
       "\n",
       ".xr-section-details {\n",
       "  display: none;\n",
       "  grid-column: 1 / -1;\n",
       "  margin-bottom: 5px;\n",
       "}\n",
       "\n",
       ".xr-section-summary-in:checked ~ .xr-section-details {\n",
       "  display: contents;\n",
       "}\n",
       "\n",
       ".xr-array-wrap {\n",
       "  grid-column: 1 / -1;\n",
       "  display: grid;\n",
       "  grid-template-columns: 20px auto;\n",
       "}\n",
       "\n",
       ".xr-array-wrap > label {\n",
       "  grid-column: 1;\n",
       "  vertical-align: top;\n",
       "}\n",
       "\n",
       ".xr-preview {\n",
       "  color: var(--xr-font-color3);\n",
       "}\n",
       "\n",
       ".xr-array-preview,\n",
       ".xr-array-data {\n",
       "  padding: 0 5px !important;\n",
       "  grid-column: 2;\n",
       "}\n",
       "\n",
       ".xr-array-data,\n",
       ".xr-array-in:checked ~ .xr-array-preview {\n",
       "  display: none;\n",
       "}\n",
       "\n",
       ".xr-array-in:checked ~ .xr-array-data,\n",
       ".xr-array-preview {\n",
       "  display: inline-block;\n",
       "}\n",
       "\n",
       ".xr-dim-list {\n",
       "  display: inline-block !important;\n",
       "  list-style: none;\n",
       "  padding: 0 !important;\n",
       "  margin: 0;\n",
       "}\n",
       "\n",
       ".xr-dim-list li {\n",
       "  display: inline-block;\n",
       "  padding: 0;\n",
       "  margin: 0;\n",
       "}\n",
       "\n",
       ".xr-dim-list:before {\n",
       "  content: '(';\n",
       "}\n",
       "\n",
       ".xr-dim-list:after {\n",
       "  content: ')';\n",
       "}\n",
       "\n",
       ".xr-dim-list li:not(:last-child):after {\n",
       "  content: ',';\n",
       "  padding-right: 5px;\n",
       "}\n",
       "\n",
       ".xr-has-index {\n",
       "  font-weight: bold;\n",
       "}\n",
       "\n",
       ".xr-var-list,\n",
       ".xr-var-item {\n",
       "  display: contents;\n",
       "}\n",
       "\n",
       ".xr-var-item > div,\n",
       ".xr-var-item label,\n",
       ".xr-var-item > .xr-var-name span {\n",
       "  background-color: var(--xr-background-color-row-even);\n",
       "  margin-bottom: 0;\n",
       "}\n",
       "\n",
       ".xr-var-item > .xr-var-name:hover span {\n",
       "  padding-right: 5px;\n",
       "}\n",
       "\n",
       ".xr-var-list > li:nth-child(odd) > div,\n",
       ".xr-var-list > li:nth-child(odd) > label,\n",
       ".xr-var-list > li:nth-child(odd) > .xr-var-name span {\n",
       "  background-color: var(--xr-background-color-row-odd);\n",
       "}\n",
       "\n",
       ".xr-var-name {\n",
       "  grid-column: 1;\n",
       "}\n",
       "\n",
       ".xr-var-dims {\n",
       "  grid-column: 2;\n",
       "}\n",
       "\n",
       ".xr-var-dtype {\n",
       "  grid-column: 3;\n",
       "  text-align: right;\n",
       "  color: var(--xr-font-color2);\n",
       "}\n",
       "\n",
       ".xr-var-preview {\n",
       "  grid-column: 4;\n",
       "}\n",
       "\n",
       ".xr-index-preview {\n",
       "  grid-column: 2 / 5;\n",
       "  color: var(--xr-font-color2);\n",
       "}\n",
       "\n",
       ".xr-var-name,\n",
       ".xr-var-dims,\n",
       ".xr-var-dtype,\n",
       ".xr-preview,\n",
       ".xr-attrs dt {\n",
       "  white-space: nowrap;\n",
       "  overflow: hidden;\n",
       "  text-overflow: ellipsis;\n",
       "  padding-right: 10px;\n",
       "}\n",
       "\n",
       ".xr-var-name:hover,\n",
       ".xr-var-dims:hover,\n",
       ".xr-var-dtype:hover,\n",
       ".xr-attrs dt:hover {\n",
       "  overflow: visible;\n",
       "  width: auto;\n",
       "  z-index: 1;\n",
       "}\n",
       "\n",
       ".xr-var-attrs,\n",
       ".xr-var-data,\n",
       ".xr-index-data {\n",
       "  display: none;\n",
       "  background-color: var(--xr-background-color) !important;\n",
       "  padding-bottom: 5px !important;\n",
       "}\n",
       "\n",
       ".xr-var-attrs-in:checked ~ .xr-var-attrs,\n",
       ".xr-var-data-in:checked ~ .xr-var-data,\n",
       ".xr-index-data-in:checked ~ .xr-index-data {\n",
       "  display: block;\n",
       "}\n",
       "\n",
       ".xr-var-data > table {\n",
       "  float: right;\n",
       "}\n",
       "\n",
       ".xr-var-name span,\n",
       ".xr-var-data,\n",
       ".xr-index-name div,\n",
       ".xr-index-data,\n",
       ".xr-attrs {\n",
       "  padding-left: 25px !important;\n",
       "}\n",
       "\n",
       ".xr-attrs,\n",
       ".xr-var-attrs,\n",
       ".xr-var-data,\n",
       ".xr-index-data {\n",
       "  grid-column: 1 / -1;\n",
       "}\n",
       "\n",
       "dl.xr-attrs {\n",
       "  padding: 0;\n",
       "  margin: 0;\n",
       "  display: grid;\n",
       "  grid-template-columns: 125px auto;\n",
       "}\n",
       "\n",
       ".xr-attrs dt,\n",
       ".xr-attrs dd {\n",
       "  padding: 0;\n",
       "  margin: 0;\n",
       "  float: left;\n",
       "  padding-right: 10px;\n",
       "  width: auto;\n",
       "}\n",
       "\n",
       ".xr-attrs dt {\n",
       "  font-weight: normal;\n",
       "  grid-column: 1;\n",
       "}\n",
       "\n",
       ".xr-attrs dt:hover span {\n",
       "  display: inline-block;\n",
       "  background: var(--xr-background-color);\n",
       "  padding-right: 10px;\n",
       "}\n",
       "\n",
       ".xr-attrs dd {\n",
       "  grid-column: 2;\n",
       "  white-space: pre-wrap;\n",
       "  word-break: break-all;\n",
       "}\n",
       "\n",
       ".xr-icon-database,\n",
       ".xr-icon-file-text2,\n",
       ".xr-no-icon {\n",
       "  display: inline-block;\n",
       "  vertical-align: middle;\n",
       "  width: 1em;\n",
       "  height: 1.5em !important;\n",
       "  stroke-width: 0;\n",
       "  stroke: currentColor;\n",
       "  fill: currentColor;\n",
       "}\n",
       "</style><pre class='xr-text-repr-fallback'>&lt;xarray.Dataset&gt;\n",
       "Dimensions:         (mouse: 1, session_date: 1, time: 31)\n",
       "Coordinates:\n",
       "  * mouse           (mouse) object &#x27;Cori&#x27;\n",
       "  * session_date    (session_date) object &#x27;2016-12-14&#x27;\n",
       "    trial           int64 2\n",
       "  * time            (time) float64 0.2 0.21 0.22 0.23 ... 0.47 0.48 0.49 0.5\n",
       "    cell            int64 1\n",
       "Data variables: (12/24)\n",
       "    contrast_left   (mouse, session_date) int8 ...\n",
       "    contrast_right  (mouse, session_date) int8 ...\n",
       "    gocue           (mouse, session_date) float64 ...\n",
       "    stim_onset      (mouse, session_date) float64 ...\n",
       "    feedback_type   (mouse, session_date) float64 ...\n",
       "    feedback_time   (mouse, session_date) float64 ...\n",
       "    ...              ...\n",
       "    spks            (mouse, session_date, time) int8 ...\n",
       "    trough_to_peak  (mouse, session_date) int8 ...\n",
       "    ccf_ap          (mouse, session_date) float64 ...\n",
       "    ccf_dv          (mouse, session_date) float64 ...\n",
       "    ccf_lr          (mouse, session_date) float64 ...\n",
       "    brain_area      (mouse, session_date) object ...\n",
       "Attributes:\n",
       "    bin_size:    0.01\n",
       "    stim_onset:  0.5</pre><div class='xr-wrap' style='display:none'><div class='xr-header'><div class='xr-obj-type'>xarray.Dataset</div></div><ul class='xr-sections'><li class='xr-section-item'><input id='section-8036270e-a3d1-4fb0-8a4c-a2f880de0eb0' class='xr-section-summary-in' type='checkbox' disabled ><label for='section-8036270e-a3d1-4fb0-8a4c-a2f880de0eb0' class='xr-section-summary'  title='Expand/collapse section'>Dimensions:</label><div class='xr-section-inline-details'><ul class='xr-dim-list'><li><span class='xr-has-index'>mouse</span>: 1</li><li><span class='xr-has-index'>session_date</span>: 1</li><li><span class='xr-has-index'>time</span>: 31</li></ul></div><div class='xr-section-details'></div></li><li class='xr-section-item'><input id='section-068bcfdc-d62e-45fb-897f-d76bb456f596' class='xr-section-summary-in' type='checkbox'  checked><label for='section-068bcfdc-d62e-45fb-897f-d76bb456f596' class='xr-section-summary' >Coordinates: <span>(5)</span></label><div class='xr-section-inline-details'></div><div class='xr-section-details'><ul class='xr-var-list'><li class='xr-var-item'><div class='xr-var-name'><span class='xr-has-index'>mouse</span></div><div class='xr-var-dims'>(mouse)</div><div class='xr-var-dtype'>object</div><div class='xr-var-preview xr-preview'>&#x27;Cori&#x27;</div><input id='attrs-5918e35d-ab8c-4d22-9577-7bb0a9bdcb37' class='xr-var-attrs-in' type='checkbox' disabled><label for='attrs-5918e35d-ab8c-4d22-9577-7bb0a9bdcb37' title='Show/Hide attributes'><svg class='icon xr-icon-file-text2'><use xlink:href='#icon-file-text2'></use></svg></label><input id='data-326b5986-b92e-4038-bb96-0b69015d096d' class='xr-var-data-in' type='checkbox'><label for='data-326b5986-b92e-4038-bb96-0b69015d096d' title='Show/Hide data repr'><svg class='icon xr-icon-database'><use xlink:href='#icon-database'></use></svg></label><div class='xr-var-attrs'><dl class='xr-attrs'></dl></div><div class='xr-var-data'><pre>array([&#x27;Cori&#x27;], dtype=object)</pre></div></li><li class='xr-var-item'><div class='xr-var-name'><span class='xr-has-index'>session_date</span></div><div class='xr-var-dims'>(session_date)</div><div class='xr-var-dtype'>object</div><div class='xr-var-preview xr-preview'>&#x27;2016-12-14&#x27;</div><input id='attrs-f94ee518-f421-42b1-8587-060369b31278' class='xr-var-attrs-in' type='checkbox' disabled><label for='attrs-f94ee518-f421-42b1-8587-060369b31278' title='Show/Hide attributes'><svg class='icon xr-icon-file-text2'><use xlink:href='#icon-file-text2'></use></svg></label><input id='data-0c2e199f-c404-40bd-a099-9ae2c8cfd1dc' class='xr-var-data-in' type='checkbox'><label for='data-0c2e199f-c404-40bd-a099-9ae2c8cfd1dc' title='Show/Hide data repr'><svg class='icon xr-icon-database'><use xlink:href='#icon-database'></use></svg></label><div class='xr-var-attrs'><dl class='xr-attrs'></dl></div><div class='xr-var-data'><pre>array([&#x27;2016-12-14&#x27;], dtype=object)</pre></div></li><li class='xr-var-item'><div class='xr-var-name'><span>trial</span></div><div class='xr-var-dims'>()</div><div class='xr-var-dtype'>int64</div><div class='xr-var-preview xr-preview'>2</div><input id='attrs-23752063-cc7a-4ad6-b047-9da95318e6bc' class='xr-var-attrs-in' type='checkbox' disabled><label for='attrs-23752063-cc7a-4ad6-b047-9da95318e6bc' title='Show/Hide attributes'><svg class='icon xr-icon-file-text2'><use xlink:href='#icon-file-text2'></use></svg></label><input id='data-7f2e5690-48ad-45ab-98cd-9c5b29f2ef3c' class='xr-var-data-in' type='checkbox'><label for='data-7f2e5690-48ad-45ab-98cd-9c5b29f2ef3c' title='Show/Hide data repr'><svg class='icon xr-icon-database'><use xlink:href='#icon-database'></use></svg></label><div class='xr-var-attrs'><dl class='xr-attrs'></dl></div><div class='xr-var-data'><pre>array(2)</pre></div></li><li class='xr-var-item'><div class='xr-var-name'><span class='xr-has-index'>time</span></div><div class='xr-var-dims'>(time)</div><div class='xr-var-dtype'>float64</div><div class='xr-var-preview xr-preview'>0.2 0.21 0.22 ... 0.48 0.49 0.5</div><input id='attrs-c800958a-b594-499d-9bbe-6c09d850f01f' class='xr-var-attrs-in' type='checkbox' disabled><label for='attrs-c800958a-b594-499d-9bbe-6c09d850f01f' title='Show/Hide attributes'><svg class='icon xr-icon-file-text2'><use xlink:href='#icon-file-text2'></use></svg></label><input id='data-d924460a-ca28-45ef-bf4a-e378f193b67d' class='xr-var-data-in' type='checkbox'><label for='data-d924460a-ca28-45ef-bf4a-e378f193b67d' title='Show/Hide data repr'><svg class='icon xr-icon-database'><use xlink:href='#icon-database'></use></svg></label><div class='xr-var-attrs'><dl class='xr-attrs'></dl></div><div class='xr-var-data'><pre>array([0.2 , 0.21, 0.22, 0.23, 0.24, 0.25, 0.26, 0.27, 0.28, 0.29, 0.3 , 0.31,\n",
       "       0.32, 0.33, 0.34, 0.35, 0.36, 0.37, 0.38, 0.39, 0.4 , 0.41, 0.42, 0.43,\n",
       "       0.44, 0.45, 0.46, 0.47, 0.48, 0.49, 0.5 ])</pre></div></li><li class='xr-var-item'><div class='xr-var-name'><span>cell</span></div><div class='xr-var-dims'>()</div><div class='xr-var-dtype'>int64</div><div class='xr-var-preview xr-preview'>1</div><input id='attrs-2f167983-070b-4aed-8298-1f73b9c3f3d9' class='xr-var-attrs-in' type='checkbox' disabled><label for='attrs-2f167983-070b-4aed-8298-1f73b9c3f3d9' title='Show/Hide attributes'><svg class='icon xr-icon-file-text2'><use xlink:href='#icon-file-text2'></use></svg></label><input id='data-931257f0-ea8c-45cd-a423-be2085b8b30d' class='xr-var-data-in' type='checkbox'><label for='data-931257f0-ea8c-45cd-a423-be2085b8b30d' title='Show/Hide data repr'><svg class='icon xr-icon-database'><use xlink:href='#icon-database'></use></svg></label><div class='xr-var-attrs'><dl class='xr-attrs'></dl></div><div class='xr-var-data'><pre>array(1)</pre></div></li></ul></div></li><li class='xr-section-item'><input id='section-70027b29-28d0-4f8d-8063-e13346ed984d' class='xr-section-summary-in' type='checkbox'  ><label for='section-70027b29-28d0-4f8d-8063-e13346ed984d' class='xr-section-summary' >Data variables: <span>(24)</span></label><div class='xr-section-inline-details'></div><div class='xr-section-details'><ul class='xr-var-list'><li class='xr-var-item'><div class='xr-var-name'><span>contrast_left</span></div><div class='xr-var-dims'>(mouse, session_date)</div><div class='xr-var-dtype'>int8</div><div class='xr-var-preview xr-preview'>...</div><input id='attrs-82715225-bb00-406f-878c-d80498e8aacb' class='xr-var-attrs-in' type='checkbox' disabled><label for='attrs-82715225-bb00-406f-878c-d80498e8aacb' title='Show/Hide attributes'><svg class='icon xr-icon-file-text2'><use xlink:href='#icon-file-text2'></use></svg></label><input id='data-34ec8d24-e579-4ee5-a296-c47ae906cc9a' class='xr-var-data-in' type='checkbox'><label for='data-34ec8d24-e579-4ee5-a296-c47ae906cc9a' title='Show/Hide data repr'><svg class='icon xr-icon-database'><use xlink:href='#icon-database'></use></svg></label><div class='xr-var-attrs'><dl class='xr-attrs'></dl></div><div class='xr-var-data'><pre>[1 values with dtype=int8]</pre></div></li><li class='xr-var-item'><div class='xr-var-name'><span>contrast_right</span></div><div class='xr-var-dims'>(mouse, session_date)</div><div class='xr-var-dtype'>int8</div><div class='xr-var-preview xr-preview'>...</div><input id='attrs-b84490be-3f3d-4354-b5e8-21c955000324' class='xr-var-attrs-in' type='checkbox' disabled><label for='attrs-b84490be-3f3d-4354-b5e8-21c955000324' title='Show/Hide attributes'><svg class='icon xr-icon-file-text2'><use xlink:href='#icon-file-text2'></use></svg></label><input id='data-84b6542c-dc64-4127-affb-6f2a68d1524b' class='xr-var-data-in' type='checkbox'><label for='data-84b6542c-dc64-4127-affb-6f2a68d1524b' title='Show/Hide data repr'><svg class='icon xr-icon-database'><use xlink:href='#icon-database'></use></svg></label><div class='xr-var-attrs'><dl class='xr-attrs'></dl></div><div class='xr-var-data'><pre>[1 values with dtype=int8]</pre></div></li><li class='xr-var-item'><div class='xr-var-name'><span>gocue</span></div><div class='xr-var-dims'>(mouse, session_date)</div><div class='xr-var-dtype'>float64</div><div class='xr-var-preview xr-preview'>...</div><input id='attrs-c38b669c-9188-4dda-b273-1a1b80ab6d5a' class='xr-var-attrs-in' type='checkbox' disabled><label for='attrs-c38b669c-9188-4dda-b273-1a1b80ab6d5a' title='Show/Hide attributes'><svg class='icon xr-icon-file-text2'><use xlink:href='#icon-file-text2'></use></svg></label><input id='data-d1799ea0-7f0b-4dbf-9b7c-2941222a2523' class='xr-var-data-in' type='checkbox'><label for='data-d1799ea0-7f0b-4dbf-9b7c-2941222a2523' title='Show/Hide data repr'><svg class='icon xr-icon-database'><use xlink:href='#icon-database'></use></svg></label><div class='xr-var-attrs'><dl class='xr-attrs'></dl></div><div class='xr-var-data'><pre>[1 values with dtype=float64]</pre></div></li><li class='xr-var-item'><div class='xr-var-name'><span>stim_onset</span></div><div class='xr-var-dims'>(mouse, session_date)</div><div class='xr-var-dtype'>float64</div><div class='xr-var-preview xr-preview'>...</div><input id='attrs-e016f95e-489d-4bbc-bfb3-1a587ad3bfea' class='xr-var-attrs-in' type='checkbox' disabled><label for='attrs-e016f95e-489d-4bbc-bfb3-1a587ad3bfea' title='Show/Hide attributes'><svg class='icon xr-icon-file-text2'><use xlink:href='#icon-file-text2'></use></svg></label><input id='data-54fff9c8-1e9b-4e6f-ba26-318e4ee2f594' class='xr-var-data-in' type='checkbox'><label for='data-54fff9c8-1e9b-4e6f-ba26-318e4ee2f594' title='Show/Hide data repr'><svg class='icon xr-icon-database'><use xlink:href='#icon-database'></use></svg></label><div class='xr-var-attrs'><dl class='xr-attrs'></dl></div><div class='xr-var-data'><pre>[1 values with dtype=float64]</pre></div></li><li class='xr-var-item'><div class='xr-var-name'><span>feedback_type</span></div><div class='xr-var-dims'>(mouse, session_date)</div><div class='xr-var-dtype'>float64</div><div class='xr-var-preview xr-preview'>...</div><input id='attrs-09226b46-c09f-4f82-82f8-026fee1d4609' class='xr-var-attrs-in' type='checkbox' disabled><label for='attrs-09226b46-c09f-4f82-82f8-026fee1d4609' title='Show/Hide attributes'><svg class='icon xr-icon-file-text2'><use xlink:href='#icon-file-text2'></use></svg></label><input id='data-1f9a99e1-495d-4961-8a0a-c15ce07d71bd' class='xr-var-data-in' type='checkbox'><label for='data-1f9a99e1-495d-4961-8a0a-c15ce07d71bd' title='Show/Hide data repr'><svg class='icon xr-icon-database'><use xlink:href='#icon-database'></use></svg></label><div class='xr-var-attrs'><dl class='xr-attrs'></dl></div><div class='xr-var-data'><pre>[1 values with dtype=float64]</pre></div></li><li class='xr-var-item'><div class='xr-var-name'><span>feedback_time</span></div><div class='xr-var-dims'>(mouse, session_date)</div><div class='xr-var-dtype'>float64</div><div class='xr-var-preview xr-preview'>...</div><input id='attrs-772e43ab-bbac-436e-9f3e-5834c906d214' class='xr-var-attrs-in' type='checkbox' disabled><label for='attrs-772e43ab-bbac-436e-9f3e-5834c906d214' title='Show/Hide attributes'><svg class='icon xr-icon-file-text2'><use xlink:href='#icon-file-text2'></use></svg></label><input id='data-c0255861-41e2-444e-8e95-062d373a6953' class='xr-var-data-in' type='checkbox'><label for='data-c0255861-41e2-444e-8e95-062d373a6953' title='Show/Hide data repr'><svg class='icon xr-icon-database'><use xlink:href='#icon-database'></use></svg></label><div class='xr-var-attrs'><dl class='xr-attrs'></dl></div><div class='xr-var-data'><pre>[1 values with dtype=float64]</pre></div></li><li class='xr-var-item'><div class='xr-var-name'><span>response_type</span></div><div class='xr-var-dims'>(mouse, session_date)</div><div class='xr-var-dtype'>float64</div><div class='xr-var-preview xr-preview'>...</div><input id='attrs-caca4ef1-474f-4000-b4cf-9b220ba8f6af' class='xr-var-attrs-in' type='checkbox' disabled><label for='attrs-caca4ef1-474f-4000-b4cf-9b220ba8f6af' title='Show/Hide attributes'><svg class='icon xr-icon-file-text2'><use xlink:href='#icon-file-text2'></use></svg></label><input id='data-1a79237d-22f1-40b1-8083-91b226e42fc9' class='xr-var-data-in' type='checkbox'><label for='data-1a79237d-22f1-40b1-8083-91b226e42fc9' title='Show/Hide data repr'><svg class='icon xr-icon-database'><use xlink:href='#icon-database'></use></svg></label><div class='xr-var-attrs'><dl class='xr-attrs'></dl></div><div class='xr-var-data'><pre>[1 values with dtype=float64]</pre></div></li><li class='xr-var-item'><div class='xr-var-name'><span>response_time</span></div><div class='xr-var-dims'>(mouse, session_date)</div><div class='xr-var-dtype'>float64</div><div class='xr-var-preview xr-preview'>...</div><input id='attrs-2c6344f0-c150-4e3f-bfc1-876423fc1593' class='xr-var-attrs-in' type='checkbox' disabled><label for='attrs-2c6344f0-c150-4e3f-bfc1-876423fc1593' title='Show/Hide attributes'><svg class='icon xr-icon-file-text2'><use xlink:href='#icon-file-text2'></use></svg></label><input id='data-5f055975-bbae-4c26-b15a-ed2093b6f71e' class='xr-var-data-in' type='checkbox'><label for='data-5f055975-bbae-4c26-b15a-ed2093b6f71e' title='Show/Hide data repr'><svg class='icon xr-icon-database'><use xlink:href='#icon-database'></use></svg></label><div class='xr-var-attrs'><dl class='xr-attrs'></dl></div><div class='xr-var-data'><pre>[1 values with dtype=float64]</pre></div></li><li class='xr-var-item'><div class='xr-var-name'><span>reaction_type</span></div><div class='xr-var-dims'>(mouse, session_date)</div><div class='xr-var-dtype'>float64</div><div class='xr-var-preview xr-preview'>...</div><input id='attrs-2e396ee4-f9fe-4437-b596-5982d19222fb' class='xr-var-attrs-in' type='checkbox' disabled><label for='attrs-2e396ee4-f9fe-4437-b596-5982d19222fb' title='Show/Hide attributes'><svg class='icon xr-icon-file-text2'><use xlink:href='#icon-file-text2'></use></svg></label><input id='data-da26aa35-7e75-4a93-be00-e5f178147ee1' class='xr-var-data-in' type='checkbox'><label for='data-da26aa35-7e75-4a93-be00-e5f178147ee1' title='Show/Hide data repr'><svg class='icon xr-icon-database'><use xlink:href='#icon-database'></use></svg></label><div class='xr-var-attrs'><dl class='xr-attrs'></dl></div><div class='xr-var-data'><pre>[1 values with dtype=float64]</pre></div></li><li class='xr-var-item'><div class='xr-var-name'><span>reaction_time</span></div><div class='xr-var-dims'>(mouse, session_date)</div><div class='xr-var-dtype'>float64</div><div class='xr-var-preview xr-preview'>...</div><input id='attrs-ec7108c2-c59d-43e7-b43c-979625185c3b' class='xr-var-attrs-in' type='checkbox' disabled><label for='attrs-ec7108c2-c59d-43e7-b43c-979625185c3b' title='Show/Hide attributes'><svg class='icon xr-icon-file-text2'><use xlink:href='#icon-file-text2'></use></svg></label><input id='data-ec5f22cc-f7f4-43bd-81ba-a8cd01ba4396' class='xr-var-data-in' type='checkbox'><label for='data-ec5f22cc-f7f4-43bd-81ba-a8cd01ba4396' title='Show/Hide data repr'><svg class='icon xr-icon-database'><use xlink:href='#icon-database'></use></svg></label><div class='xr-var-attrs'><dl class='xr-attrs'></dl></div><div class='xr-var-data'><pre>[1 values with dtype=float64]</pre></div></li><li class='xr-var-item'><div class='xr-var-name'><span>prev_reward</span></div><div class='xr-var-dims'>(mouse, session_date)</div><div class='xr-var-dtype'>float64</div><div class='xr-var-preview xr-preview'>...</div><input id='attrs-0ac2a506-8ce6-4adb-8dd7-ba99d61b7a0b' class='xr-var-attrs-in' type='checkbox' disabled><label for='attrs-0ac2a506-8ce6-4adb-8dd7-ba99d61b7a0b' title='Show/Hide attributes'><svg class='icon xr-icon-file-text2'><use xlink:href='#icon-file-text2'></use></svg></label><input id='data-09f55ef9-b16e-4622-ad29-7741d0e03b59' class='xr-var-data-in' type='checkbox'><label for='data-09f55ef9-b16e-4622-ad29-7741d0e03b59' title='Show/Hide data repr'><svg class='icon xr-icon-database'><use xlink:href='#icon-database'></use></svg></label><div class='xr-var-attrs'><dl class='xr-attrs'></dl></div><div class='xr-var-data'><pre>[1 values with dtype=float64]</pre></div></li><li class='xr-var-item'><div class='xr-var-name'><span>active_trials</span></div><div class='xr-var-dims'>(mouse, session_date)</div><div class='xr-var-dtype'>bool</div><div class='xr-var-preview xr-preview'>...</div><input id='attrs-95a31e99-556c-42b3-b634-75363e6a3836' class='xr-var-attrs-in' type='checkbox' disabled><label for='attrs-95a31e99-556c-42b3-b634-75363e6a3836' title='Show/Hide attributes'><svg class='icon xr-icon-file-text2'><use xlink:href='#icon-file-text2'></use></svg></label><input id='data-2cc7ddaf-e53d-493a-8c52-5f6b8fa12072' class='xr-var-data-in' type='checkbox'><label for='data-2cc7ddaf-e53d-493a-8c52-5f6b8fa12072' title='Show/Hide data repr'><svg class='icon xr-icon-database'><use xlink:href='#icon-database'></use></svg></label><div class='xr-var-attrs'><dl class='xr-attrs'></dl></div><div class='xr-var-data'><pre>[1 values with dtype=bool]</pre></div></li><li class='xr-var-item'><div class='xr-var-name'><span>wheel</span></div><div class='xr-var-dims'>(mouse, session_date, time)</div><div class='xr-var-dtype'>int8</div><div class='xr-var-preview xr-preview'>...</div><input id='attrs-b0015dcd-7084-4429-be00-3d994b167222' class='xr-var-attrs-in' type='checkbox' disabled><label for='attrs-b0015dcd-7084-4429-be00-3d994b167222' title='Show/Hide attributes'><svg class='icon xr-icon-file-text2'><use xlink:href='#icon-file-text2'></use></svg></label><input id='data-e257bcd3-8031-4c75-94bd-28211571aa6a' class='xr-var-data-in' type='checkbox'><label for='data-e257bcd3-8031-4c75-94bd-28211571aa6a' title='Show/Hide data repr'><svg class='icon xr-icon-database'><use xlink:href='#icon-database'></use></svg></label><div class='xr-var-attrs'><dl class='xr-attrs'></dl></div><div class='xr-var-data'><pre>[31 values with dtype=int8]</pre></div></li><li class='xr-var-item'><div class='xr-var-name'><span>licks</span></div><div class='xr-var-dims'>(mouse, session_date, time)</div><div class='xr-var-dtype'>int8</div><div class='xr-var-preview xr-preview'>...</div><input id='attrs-8cfccda5-17af-4b88-b731-4d04f2f9cf89' class='xr-var-attrs-in' type='checkbox' disabled><label for='attrs-8cfccda5-17af-4b88-b731-4d04f2f9cf89' title='Show/Hide attributes'><svg class='icon xr-icon-file-text2'><use xlink:href='#icon-file-text2'></use></svg></label><input id='data-dd5dc686-330a-4b5e-8e60-8d4fb7ec6ee0' class='xr-var-data-in' type='checkbox'><label for='data-dd5dc686-330a-4b5e-8e60-8d4fb7ec6ee0' title='Show/Hide data repr'><svg class='icon xr-icon-database'><use xlink:href='#icon-database'></use></svg></label><div class='xr-var-attrs'><dl class='xr-attrs'></dl></div><div class='xr-var-data'><pre>[31 values with dtype=int8]</pre></div></li><li class='xr-var-item'><div class='xr-var-name'><span>pupil_x</span></div><div class='xr-var-dims'>(mouse, session_date, time)</div><div class='xr-var-dtype'>float64</div><div class='xr-var-preview xr-preview'>...</div><input id='attrs-495dfbcf-d552-4788-a9a8-16af4f097d92' class='xr-var-attrs-in' type='checkbox' disabled><label for='attrs-495dfbcf-d552-4788-a9a8-16af4f097d92' title='Show/Hide attributes'><svg class='icon xr-icon-file-text2'><use xlink:href='#icon-file-text2'></use></svg></label><input id='data-c2934c6e-ce54-4e55-970f-24683b536ee0' class='xr-var-data-in' type='checkbox'><label for='data-c2934c6e-ce54-4e55-970f-24683b536ee0' title='Show/Hide data repr'><svg class='icon xr-icon-database'><use xlink:href='#icon-database'></use></svg></label><div class='xr-var-attrs'><dl class='xr-attrs'></dl></div><div class='xr-var-data'><pre>[31 values with dtype=float64]</pre></div></li><li class='xr-var-item'><div class='xr-var-name'><span>pupil_y</span></div><div class='xr-var-dims'>(mouse, session_date, time)</div><div class='xr-var-dtype'>float64</div><div class='xr-var-preview xr-preview'>...</div><input id='attrs-8a002e83-87c6-43a7-83b1-e9829221e4b8' class='xr-var-attrs-in' type='checkbox' disabled><label for='attrs-8a002e83-87c6-43a7-83b1-e9829221e4b8' title='Show/Hide attributes'><svg class='icon xr-icon-file-text2'><use xlink:href='#icon-file-text2'></use></svg></label><input id='data-52686b71-3812-4b99-860f-665d3ea36ebb' class='xr-var-data-in' type='checkbox'><label for='data-52686b71-3812-4b99-860f-665d3ea36ebb' title='Show/Hide data repr'><svg class='icon xr-icon-database'><use xlink:href='#icon-database'></use></svg></label><div class='xr-var-attrs'><dl class='xr-attrs'></dl></div><div class='xr-var-data'><pre>[31 values with dtype=float64]</pre></div></li><li class='xr-var-item'><div class='xr-var-name'><span>pupil_area</span></div><div class='xr-var-dims'>(mouse, session_date, time)</div><div class='xr-var-dtype'>float64</div><div class='xr-var-preview xr-preview'>...</div><input id='attrs-a4dffe26-0381-48a7-aa12-57c558d75974' class='xr-var-attrs-in' type='checkbox' disabled><label for='attrs-a4dffe26-0381-48a7-aa12-57c558d75974' title='Show/Hide attributes'><svg class='icon xr-icon-file-text2'><use xlink:href='#icon-file-text2'></use></svg></label><input id='data-50109350-070a-4492-a4d2-311d29405fe4' class='xr-var-data-in' type='checkbox'><label for='data-50109350-070a-4492-a4d2-311d29405fe4' title='Show/Hide data repr'><svg class='icon xr-icon-database'><use xlink:href='#icon-database'></use></svg></label><div class='xr-var-attrs'><dl class='xr-attrs'></dl></div><div class='xr-var-data'><pre>[31 values with dtype=float64]</pre></div></li><li class='xr-var-item'><div class='xr-var-name'><span>face</span></div><div class='xr-var-dims'>(mouse, session_date, time)</div><div class='xr-var-dtype'>float64</div><div class='xr-var-preview xr-preview'>...</div><input id='attrs-5a30e392-b049-4e77-9607-96111642b01f' class='xr-var-attrs-in' type='checkbox' disabled><label for='attrs-5a30e392-b049-4e77-9607-96111642b01f' title='Show/Hide attributes'><svg class='icon xr-icon-file-text2'><use xlink:href='#icon-file-text2'></use></svg></label><input id='data-c058b7af-103c-4f71-ba5c-9e294e70032b' class='xr-var-data-in' type='checkbox'><label for='data-c058b7af-103c-4f71-ba5c-9e294e70032b' title='Show/Hide data repr'><svg class='icon xr-icon-database'><use xlink:href='#icon-database'></use></svg></label><div class='xr-var-attrs'><dl class='xr-attrs'></dl></div><div class='xr-var-data'><pre>[31 values with dtype=float64]</pre></div></li><li class='xr-var-item'><div class='xr-var-name'><span>spks</span></div><div class='xr-var-dims'>(mouse, session_date, time)</div><div class='xr-var-dtype'>int8</div><div class='xr-var-preview xr-preview'>...</div><input id='attrs-e83939e6-f235-4620-8a71-e8f4a6298d23' class='xr-var-attrs-in' type='checkbox' disabled><label for='attrs-e83939e6-f235-4620-8a71-e8f4a6298d23' title='Show/Hide attributes'><svg class='icon xr-icon-file-text2'><use xlink:href='#icon-file-text2'></use></svg></label><input id='data-e019c30a-d7ca-4e51-8465-5ea1c9c0084f' class='xr-var-data-in' type='checkbox'><label for='data-e019c30a-d7ca-4e51-8465-5ea1c9c0084f' title='Show/Hide data repr'><svg class='icon xr-icon-database'><use xlink:href='#icon-database'></use></svg></label><div class='xr-var-attrs'><dl class='xr-attrs'></dl></div><div class='xr-var-data'><pre>[31 values with dtype=int8]</pre></div></li><li class='xr-var-item'><div class='xr-var-name'><span>trough_to_peak</span></div><div class='xr-var-dims'>(mouse, session_date)</div><div class='xr-var-dtype'>int8</div><div class='xr-var-preview xr-preview'>...</div><input id='attrs-8df1f87c-d678-4344-984d-7ef185b5af6f' class='xr-var-attrs-in' type='checkbox' disabled><label for='attrs-8df1f87c-d678-4344-984d-7ef185b5af6f' title='Show/Hide attributes'><svg class='icon xr-icon-file-text2'><use xlink:href='#icon-file-text2'></use></svg></label><input id='data-4f455617-9861-4b48-91d2-c6b341ae5cf7' class='xr-var-data-in' type='checkbox'><label for='data-4f455617-9861-4b48-91d2-c6b341ae5cf7' title='Show/Hide data repr'><svg class='icon xr-icon-database'><use xlink:href='#icon-database'></use></svg></label><div class='xr-var-attrs'><dl class='xr-attrs'></dl></div><div class='xr-var-data'><pre>[1 values with dtype=int8]</pre></div></li><li class='xr-var-item'><div class='xr-var-name'><span>ccf_ap</span></div><div class='xr-var-dims'>(mouse, session_date)</div><div class='xr-var-dtype'>float64</div><div class='xr-var-preview xr-preview'>...</div><input id='attrs-33742139-b7be-4a52-b675-5d5b799afba0' class='xr-var-attrs-in' type='checkbox' disabled><label for='attrs-33742139-b7be-4a52-b675-5d5b799afba0' title='Show/Hide attributes'><svg class='icon xr-icon-file-text2'><use xlink:href='#icon-file-text2'></use></svg></label><input id='data-df108da6-d134-4eca-9744-e54c7e0f3a8e' class='xr-var-data-in' type='checkbox'><label for='data-df108da6-d134-4eca-9744-e54c7e0f3a8e' title='Show/Hide data repr'><svg class='icon xr-icon-database'><use xlink:href='#icon-database'></use></svg></label><div class='xr-var-attrs'><dl class='xr-attrs'></dl></div><div class='xr-var-data'><pre>[1 values with dtype=float64]</pre></div></li><li class='xr-var-item'><div class='xr-var-name'><span>ccf_dv</span></div><div class='xr-var-dims'>(mouse, session_date)</div><div class='xr-var-dtype'>float64</div><div class='xr-var-preview xr-preview'>...</div><input id='attrs-977edcec-61dd-434d-8560-d4c4aa2edd97' class='xr-var-attrs-in' type='checkbox' disabled><label for='attrs-977edcec-61dd-434d-8560-d4c4aa2edd97' title='Show/Hide attributes'><svg class='icon xr-icon-file-text2'><use xlink:href='#icon-file-text2'></use></svg></label><input id='data-96cc199a-e772-4e01-aa53-5528b43f6178' class='xr-var-data-in' type='checkbox'><label for='data-96cc199a-e772-4e01-aa53-5528b43f6178' title='Show/Hide data repr'><svg class='icon xr-icon-database'><use xlink:href='#icon-database'></use></svg></label><div class='xr-var-attrs'><dl class='xr-attrs'></dl></div><div class='xr-var-data'><pre>[1 values with dtype=float64]</pre></div></li><li class='xr-var-item'><div class='xr-var-name'><span>ccf_lr</span></div><div class='xr-var-dims'>(mouse, session_date)</div><div class='xr-var-dtype'>float64</div><div class='xr-var-preview xr-preview'>...</div><input id='attrs-6b64f100-cc6c-4486-aca7-21750cbb71af' class='xr-var-attrs-in' type='checkbox' disabled><label for='attrs-6b64f100-cc6c-4486-aca7-21750cbb71af' title='Show/Hide attributes'><svg class='icon xr-icon-file-text2'><use xlink:href='#icon-file-text2'></use></svg></label><input id='data-e5046037-cd4a-41e2-ab61-2830c2d7d5d1' class='xr-var-data-in' type='checkbox'><label for='data-e5046037-cd4a-41e2-ab61-2830c2d7d5d1' title='Show/Hide data repr'><svg class='icon xr-icon-database'><use xlink:href='#icon-database'></use></svg></label><div class='xr-var-attrs'><dl class='xr-attrs'></dl></div><div class='xr-var-data'><pre>[1 values with dtype=float64]</pre></div></li><li class='xr-var-item'><div class='xr-var-name'><span>brain_area</span></div><div class='xr-var-dims'>(mouse, session_date)</div><div class='xr-var-dtype'>object</div><div class='xr-var-preview xr-preview'>...</div><input id='attrs-fa2cfed0-4094-47f2-aaa1-f30fe32a24b7' class='xr-var-attrs-in' type='checkbox' disabled><label for='attrs-fa2cfed0-4094-47f2-aaa1-f30fe32a24b7' title='Show/Hide attributes'><svg class='icon xr-icon-file-text2'><use xlink:href='#icon-file-text2'></use></svg></label><input id='data-1b983522-00e1-4954-aac0-f1868717e95a' class='xr-var-data-in' type='checkbox'><label for='data-1b983522-00e1-4954-aac0-f1868717e95a' title='Show/Hide data repr'><svg class='icon xr-icon-database'><use xlink:href='#icon-database'></use></svg></label><div class='xr-var-attrs'><dl class='xr-attrs'></dl></div><div class='xr-var-data'><pre>[1 values with dtype=object]</pre></div></li></ul></div></li><li class='xr-section-item'><input id='section-b718bbed-f805-480b-9f6c-fb47a95b537c' class='xr-section-summary-in' type='checkbox'  ><label for='section-b718bbed-f805-480b-9f6c-fb47a95b537c' class='xr-section-summary' >Indexes: <span>(3)</span></label><div class='xr-section-inline-details'></div><div class='xr-section-details'><ul class='xr-var-list'><li class='xr-var-item'><div class='xr-index-name'><div>mouse</div></div><div class='xr-index-preview'>PandasIndex</div><div></div><input id='index-7198a2db-9617-4d8a-b526-6445b1735a7a' class='xr-index-data-in' type='checkbox'/><label for='index-7198a2db-9617-4d8a-b526-6445b1735a7a' title='Show/Hide index repr'><svg class='icon xr-icon-database'><use xlink:href='#icon-database'></use></svg></label><div class='xr-index-data'><pre>PandasIndex(Index([&#x27;Cori&#x27;], dtype=&#x27;object&#x27;, name=&#x27;mouse&#x27;))</pre></div></li><li class='xr-var-item'><div class='xr-index-name'><div>session_date</div></div><div class='xr-index-preview'>PandasIndex</div><div></div><input id='index-ba9b184a-336f-4332-b039-1c34a8e1eb2a' class='xr-index-data-in' type='checkbox'/><label for='index-ba9b184a-336f-4332-b039-1c34a8e1eb2a' title='Show/Hide index repr'><svg class='icon xr-icon-database'><use xlink:href='#icon-database'></use></svg></label><div class='xr-index-data'><pre>PandasIndex(Index([&#x27;2016-12-14&#x27;], dtype=&#x27;object&#x27;, name=&#x27;session_date&#x27;))</pre></div></li><li class='xr-var-item'><div class='xr-index-name'><div>time</div></div><div class='xr-index-preview'>PandasIndex</div><div></div><input id='index-413277f9-d66f-4126-9788-f1c364eda5ad' class='xr-index-data-in' type='checkbox'/><label for='index-413277f9-d66f-4126-9788-f1c364eda5ad' title='Show/Hide index repr'><svg class='icon xr-icon-database'><use xlink:href='#icon-database'></use></svg></label><div class='xr-index-data'><pre>PandasIndex(Float64Index([                0.2,                0.21,                0.22,\n",
       "                             0.23,                0.24,                0.25,\n",
       "                             0.26,                0.27,                0.28,\n",
       "                             0.29,                 0.3,                0.31,\n",
       "                             0.32,                0.33,                0.34,\n",
       "              0.35000000000000003,                0.36,                0.37,\n",
       "                             0.38,                0.39,                 0.4,\n",
       "              0.41000000000000003,                0.42,                0.43,\n",
       "                             0.44,                0.45,                0.46,\n",
       "              0.47000000000000003,                0.48,                0.49,\n",
       "                              0.5],\n",
       "             dtype=&#x27;float64&#x27;, name=&#x27;time&#x27;))</pre></div></li></ul></div></li><li class='xr-section-item'><input id='section-d697646b-1d95-4558-be22-2a9ac6e260cc' class='xr-section-summary-in' type='checkbox'  checked><label for='section-d697646b-1d95-4558-be22-2a9ac6e260cc' class='xr-section-summary' >Attributes: <span>(2)</span></label><div class='xr-section-inline-details'></div><div class='xr-section-details'><dl class='xr-attrs'><dt><span>bin_size :</span></dt><dd>0.01</dd><dt><span>stim_onset :</span></dt><dd>0.5</dd></dl></div></li></ul></div></div>"
      ],
      "text/plain": [
       "<xarray.Dataset>\n",
       "Dimensions:         (mouse: 1, session_date: 1, time: 31)\n",
       "Coordinates:\n",
       "  * mouse           (mouse) object 'Cori'\n",
       "  * session_date    (session_date) object '2016-12-14'\n",
       "    trial           int64 2\n",
       "  * time            (time) float64 0.2 0.21 0.22 0.23 ... 0.47 0.48 0.49 0.5\n",
       "    cell            int64 1\n",
       "Data variables: (12/24)\n",
       "    contrast_left   (mouse, session_date) int8 ...\n",
       "    contrast_right  (mouse, session_date) int8 ...\n",
       "    gocue           (mouse, session_date) float64 ...\n",
       "    stim_onset      (mouse, session_date) float64 ...\n",
       "    feedback_type   (mouse, session_date) float64 ...\n",
       "    feedback_time   (mouse, session_date) float64 ...\n",
       "    ...              ...\n",
       "    spks            (mouse, session_date, time) int8 ...\n",
       "    trough_to_peak  (mouse, session_date) int8 ...\n",
       "    ccf_ap          (mouse, session_date) float64 ...\n",
       "    ccf_dv          (mouse, session_date) float64 ...\n",
       "    ccf_lr          (mouse, session_date) float64 ...\n",
       "    brain_area      (mouse, session_date) object ...\n",
       "Attributes:\n",
       "    bin_size:    0.01\n",
       "    stim_onset:  0.5"
      ]
     },
     "execution_count": 3,
     "metadata": {},
     "output_type": "execute_result"
    }
   ],
   "source": [
    "dset.sel(time=slice(0.2, 0.5), cell=1, trial=2)"
   ]
  },
  {
   "cell_type": "markdown",
   "metadata": {},
   "source": [
    "### Selecting Data Variables is Dict-Like"
   ]
  },
  {
   "cell_type": "code",
   "execution_count": 4,
   "metadata": {},
   "outputs": [
    {
     "data": {
      "text/plain": [
       "Data variables:\n",
       "    contrast_left   (mouse, session_date, trial) int8 ...\n",
       "    contrast_right  (mouse, session_date, trial) int8 ...\n",
       "    gocue           (mouse, session_date, trial) float64 ...\n",
       "    stim_onset      (mouse, session_date, trial) float64 ...\n",
       "    feedback_type   (mouse, session_date, trial) float64 ...\n",
       "    feedback_time   (mouse, session_date, trial) float64 ...\n",
       "    response_type   (mouse, session_date, trial) float64 ...\n",
       "    response_time   (mouse, session_date, trial) float64 ...\n",
       "    reaction_type   (mouse, session_date, trial) float64 ...\n",
       "    reaction_time   (mouse, session_date, trial) float64 ...\n",
       "    prev_reward     (mouse, session_date, trial) float64 ...\n",
       "    active_trials   (mouse, session_date, trial) bool ...\n",
       "    wheel           (mouse, session_date, trial, time) int8 ...\n",
       "    licks           (mouse, session_date, trial, time) int8 ...\n",
       "    pupil_x         (mouse, session_date, trial, time) float64 ...\n",
       "    pupil_y         (mouse, session_date, trial, time) float64 ...\n",
       "    pupil_area      (mouse, session_date, trial, time) float64 ...\n",
       "    face            (mouse, session_date, trial, time) float64 ...\n",
       "    spks            (mouse, session_date, cell, trial, time) int8 ...\n",
       "    trough_to_peak  (mouse, session_date, cell) int8 ...\n",
       "    ccf_ap          (mouse, session_date, cell) float64 ...\n",
       "    ccf_dv          (mouse, session_date, cell) float64 ...\n",
       "    ccf_lr          (mouse, session_date, cell) float64 ...\n",
       "    brain_area      (mouse, session_date, cell) object ..."
      ]
     },
     "execution_count": 4,
     "metadata": {},
     "output_type": "execute_result"
    }
   ],
   "source": [
    "dset.data_vars"
   ]
  },
  {
   "cell_type": "code",
   "execution_count": 5,
   "metadata": {},
   "outputs": [
    {
     "data": {
      "text/html": [
       "<div><svg style=\"position: absolute; width: 0; height: 0; overflow: hidden\">\n",
       "<defs>\n",
       "<symbol id=\"icon-database\" viewBox=\"0 0 32 32\">\n",
       "<path d=\"M16 0c-8.837 0-16 2.239-16 5v4c0 2.761 7.163 5 16 5s16-2.239 16-5v-4c0-2.761-7.163-5-16-5z\"></path>\n",
       "<path d=\"M16 17c-8.837 0-16-2.239-16-5v6c0 2.761 7.163 5 16 5s16-2.239 16-5v-6c0 2.761-7.163 5-16 5z\"></path>\n",
       "<path d=\"M16 26c-8.837 0-16-2.239-16-5v6c0 2.761 7.163 5 16 5s16-2.239 16-5v-6c0 2.761-7.163 5-16 5z\"></path>\n",
       "</symbol>\n",
       "<symbol id=\"icon-file-text2\" viewBox=\"0 0 32 32\">\n",
       "<path d=\"M28.681 7.159c-0.694-0.947-1.662-2.053-2.724-3.116s-2.169-2.030-3.116-2.724c-1.612-1.182-2.393-1.319-2.841-1.319h-15.5c-1.378 0-2.5 1.121-2.5 2.5v27c0 1.378 1.122 2.5 2.5 2.5h23c1.378 0 2.5-1.122 2.5-2.5v-19.5c0-0.448-0.137-1.23-1.319-2.841zM24.543 5.457c0.959 0.959 1.712 1.825 2.268 2.543h-4.811v-4.811c0.718 0.556 1.584 1.309 2.543 2.268zM28 29.5c0 0.271-0.229 0.5-0.5 0.5h-23c-0.271 0-0.5-0.229-0.5-0.5v-27c0-0.271 0.229-0.5 0.5-0.5 0 0 15.499-0 15.5 0v7c0 0.552 0.448 1 1 1h7v19.5z\"></path>\n",
       "<path d=\"M23 26h-14c-0.552 0-1-0.448-1-1s0.448-1 1-1h14c0.552 0 1 0.448 1 1s-0.448 1-1 1z\"></path>\n",
       "<path d=\"M23 22h-14c-0.552 0-1-0.448-1-1s0.448-1 1-1h14c0.552 0 1 0.448 1 1s-0.448 1-1 1z\"></path>\n",
       "<path d=\"M23 18h-14c-0.552 0-1-0.448-1-1s0.448-1 1-1h14c0.552 0 1 0.448 1 1s-0.448 1-1 1z\"></path>\n",
       "</symbol>\n",
       "</defs>\n",
       "</svg>\n",
       "<style>/* CSS stylesheet for displaying xarray objects in jupyterlab.\n",
       " *\n",
       " */\n",
       "\n",
       ":root {\n",
       "  --xr-font-color0: var(--jp-content-font-color0, rgba(0, 0, 0, 1));\n",
       "  --xr-font-color2: var(--jp-content-font-color2, rgba(0, 0, 0, 0.54));\n",
       "  --xr-font-color3: var(--jp-content-font-color3, rgba(0, 0, 0, 0.38));\n",
       "  --xr-border-color: var(--jp-border-color2, #e0e0e0);\n",
       "  --xr-disabled-color: var(--jp-layout-color3, #bdbdbd);\n",
       "  --xr-background-color: var(--jp-layout-color0, white);\n",
       "  --xr-background-color-row-even: var(--jp-layout-color1, white);\n",
       "  --xr-background-color-row-odd: var(--jp-layout-color2, #eeeeee);\n",
       "}\n",
       "\n",
       "html[theme=dark],\n",
       "body[data-theme=dark],\n",
       "body.vscode-dark {\n",
       "  --xr-font-color0: rgba(255, 255, 255, 1);\n",
       "  --xr-font-color2: rgba(255, 255, 255, 0.54);\n",
       "  --xr-font-color3: rgba(255, 255, 255, 0.38);\n",
       "  --xr-border-color: #1F1F1F;\n",
       "  --xr-disabled-color: #515151;\n",
       "  --xr-background-color: #111111;\n",
       "  --xr-background-color-row-even: #111111;\n",
       "  --xr-background-color-row-odd: #313131;\n",
       "}\n",
       "\n",
       ".xr-wrap {\n",
       "  display: block !important;\n",
       "  min-width: 300px;\n",
       "  max-width: 700px;\n",
       "}\n",
       "\n",
       ".xr-text-repr-fallback {\n",
       "  /* fallback to plain text repr when CSS is not injected (untrusted notebook) */\n",
       "  display: none;\n",
       "}\n",
       "\n",
       ".xr-header {\n",
       "  padding-top: 6px;\n",
       "  padding-bottom: 6px;\n",
       "  margin-bottom: 4px;\n",
       "  border-bottom: solid 1px var(--xr-border-color);\n",
       "}\n",
       "\n",
       ".xr-header > div,\n",
       ".xr-header > ul {\n",
       "  display: inline;\n",
       "  margin-top: 0;\n",
       "  margin-bottom: 0;\n",
       "}\n",
       "\n",
       ".xr-obj-type,\n",
       ".xr-array-name {\n",
       "  margin-left: 2px;\n",
       "  margin-right: 10px;\n",
       "}\n",
       "\n",
       ".xr-obj-type {\n",
       "  color: var(--xr-font-color2);\n",
       "}\n",
       "\n",
       ".xr-sections {\n",
       "  padding-left: 0 !important;\n",
       "  display: grid;\n",
       "  grid-template-columns: 150px auto auto 1fr 20px 20px;\n",
       "}\n",
       "\n",
       ".xr-section-item {\n",
       "  display: contents;\n",
       "}\n",
       "\n",
       ".xr-section-item input {\n",
       "  display: none;\n",
       "}\n",
       "\n",
       ".xr-section-item input + label {\n",
       "  color: var(--xr-disabled-color);\n",
       "}\n",
       "\n",
       ".xr-section-item input:enabled + label {\n",
       "  cursor: pointer;\n",
       "  color: var(--xr-font-color2);\n",
       "}\n",
       "\n",
       ".xr-section-item input:enabled + label:hover {\n",
       "  color: var(--xr-font-color0);\n",
       "}\n",
       "\n",
       ".xr-section-summary {\n",
       "  grid-column: 1;\n",
       "  color: var(--xr-font-color2);\n",
       "  font-weight: 500;\n",
       "}\n",
       "\n",
       ".xr-section-summary > span {\n",
       "  display: inline-block;\n",
       "  padding-left: 0.5em;\n",
       "}\n",
       "\n",
       ".xr-section-summary-in:disabled + label {\n",
       "  color: var(--xr-font-color2);\n",
       "}\n",
       "\n",
       ".xr-section-summary-in + label:before {\n",
       "  display: inline-block;\n",
       "  content: '►';\n",
       "  font-size: 11px;\n",
       "  width: 15px;\n",
       "  text-align: center;\n",
       "}\n",
       "\n",
       ".xr-section-summary-in:disabled + label:before {\n",
       "  color: var(--xr-disabled-color);\n",
       "}\n",
       "\n",
       ".xr-section-summary-in:checked + label:before {\n",
       "  content: '▼';\n",
       "}\n",
       "\n",
       ".xr-section-summary-in:checked + label > span {\n",
       "  display: none;\n",
       "}\n",
       "\n",
       ".xr-section-summary,\n",
       ".xr-section-inline-details {\n",
       "  padding-top: 4px;\n",
       "  padding-bottom: 4px;\n",
       "}\n",
       "\n",
       ".xr-section-inline-details {\n",
       "  grid-column: 2 / -1;\n",
       "}\n",
       "\n",
       ".xr-section-details {\n",
       "  display: none;\n",
       "  grid-column: 1 / -1;\n",
       "  margin-bottom: 5px;\n",
       "}\n",
       "\n",
       ".xr-section-summary-in:checked ~ .xr-section-details {\n",
       "  display: contents;\n",
       "}\n",
       "\n",
       ".xr-array-wrap {\n",
       "  grid-column: 1 / -1;\n",
       "  display: grid;\n",
       "  grid-template-columns: 20px auto;\n",
       "}\n",
       "\n",
       ".xr-array-wrap > label {\n",
       "  grid-column: 1;\n",
       "  vertical-align: top;\n",
       "}\n",
       "\n",
       ".xr-preview {\n",
       "  color: var(--xr-font-color3);\n",
       "}\n",
       "\n",
       ".xr-array-preview,\n",
       ".xr-array-data {\n",
       "  padding: 0 5px !important;\n",
       "  grid-column: 2;\n",
       "}\n",
       "\n",
       ".xr-array-data,\n",
       ".xr-array-in:checked ~ .xr-array-preview {\n",
       "  display: none;\n",
       "}\n",
       "\n",
       ".xr-array-in:checked ~ .xr-array-data,\n",
       ".xr-array-preview {\n",
       "  display: inline-block;\n",
       "}\n",
       "\n",
       ".xr-dim-list {\n",
       "  display: inline-block !important;\n",
       "  list-style: none;\n",
       "  padding: 0 !important;\n",
       "  margin: 0;\n",
       "}\n",
       "\n",
       ".xr-dim-list li {\n",
       "  display: inline-block;\n",
       "  padding: 0;\n",
       "  margin: 0;\n",
       "}\n",
       "\n",
       ".xr-dim-list:before {\n",
       "  content: '(';\n",
       "}\n",
       "\n",
       ".xr-dim-list:after {\n",
       "  content: ')';\n",
       "}\n",
       "\n",
       ".xr-dim-list li:not(:last-child):after {\n",
       "  content: ',';\n",
       "  padding-right: 5px;\n",
       "}\n",
       "\n",
       ".xr-has-index {\n",
       "  font-weight: bold;\n",
       "}\n",
       "\n",
       ".xr-var-list,\n",
       ".xr-var-item {\n",
       "  display: contents;\n",
       "}\n",
       "\n",
       ".xr-var-item > div,\n",
       ".xr-var-item label,\n",
       ".xr-var-item > .xr-var-name span {\n",
       "  background-color: var(--xr-background-color-row-even);\n",
       "  margin-bottom: 0;\n",
       "}\n",
       "\n",
       ".xr-var-item > .xr-var-name:hover span {\n",
       "  padding-right: 5px;\n",
       "}\n",
       "\n",
       ".xr-var-list > li:nth-child(odd) > div,\n",
       ".xr-var-list > li:nth-child(odd) > label,\n",
       ".xr-var-list > li:nth-child(odd) > .xr-var-name span {\n",
       "  background-color: var(--xr-background-color-row-odd);\n",
       "}\n",
       "\n",
       ".xr-var-name {\n",
       "  grid-column: 1;\n",
       "}\n",
       "\n",
       ".xr-var-dims {\n",
       "  grid-column: 2;\n",
       "}\n",
       "\n",
       ".xr-var-dtype {\n",
       "  grid-column: 3;\n",
       "  text-align: right;\n",
       "  color: var(--xr-font-color2);\n",
       "}\n",
       "\n",
       ".xr-var-preview {\n",
       "  grid-column: 4;\n",
       "}\n",
       "\n",
       ".xr-index-preview {\n",
       "  grid-column: 2 / 5;\n",
       "  color: var(--xr-font-color2);\n",
       "}\n",
       "\n",
       ".xr-var-name,\n",
       ".xr-var-dims,\n",
       ".xr-var-dtype,\n",
       ".xr-preview,\n",
       ".xr-attrs dt {\n",
       "  white-space: nowrap;\n",
       "  overflow: hidden;\n",
       "  text-overflow: ellipsis;\n",
       "  padding-right: 10px;\n",
       "}\n",
       "\n",
       ".xr-var-name:hover,\n",
       ".xr-var-dims:hover,\n",
       ".xr-var-dtype:hover,\n",
       ".xr-attrs dt:hover {\n",
       "  overflow: visible;\n",
       "  width: auto;\n",
       "  z-index: 1;\n",
       "}\n",
       "\n",
       ".xr-var-attrs,\n",
       ".xr-var-data,\n",
       ".xr-index-data {\n",
       "  display: none;\n",
       "  background-color: var(--xr-background-color) !important;\n",
       "  padding-bottom: 5px !important;\n",
       "}\n",
       "\n",
       ".xr-var-attrs-in:checked ~ .xr-var-attrs,\n",
       ".xr-var-data-in:checked ~ .xr-var-data,\n",
       ".xr-index-data-in:checked ~ .xr-index-data {\n",
       "  display: block;\n",
       "}\n",
       "\n",
       ".xr-var-data > table {\n",
       "  float: right;\n",
       "}\n",
       "\n",
       ".xr-var-name span,\n",
       ".xr-var-data,\n",
       ".xr-index-name div,\n",
       ".xr-index-data,\n",
       ".xr-attrs {\n",
       "  padding-left: 25px !important;\n",
       "}\n",
       "\n",
       ".xr-attrs,\n",
       ".xr-var-attrs,\n",
       ".xr-var-data,\n",
       ".xr-index-data {\n",
       "  grid-column: 1 / -1;\n",
       "}\n",
       "\n",
       "dl.xr-attrs {\n",
       "  padding: 0;\n",
       "  margin: 0;\n",
       "  display: grid;\n",
       "  grid-template-columns: 125px auto;\n",
       "}\n",
       "\n",
       ".xr-attrs dt,\n",
       ".xr-attrs dd {\n",
       "  padding: 0;\n",
       "  margin: 0;\n",
       "  float: left;\n",
       "  padding-right: 10px;\n",
       "  width: auto;\n",
       "}\n",
       "\n",
       ".xr-attrs dt {\n",
       "  font-weight: normal;\n",
       "  grid-column: 1;\n",
       "}\n",
       "\n",
       ".xr-attrs dt:hover span {\n",
       "  display: inline-block;\n",
       "  background: var(--xr-background-color);\n",
       "  padding-right: 10px;\n",
       "}\n",
       "\n",
       ".xr-attrs dd {\n",
       "  grid-column: 2;\n",
       "  white-space: pre-wrap;\n",
       "  word-break: break-all;\n",
       "}\n",
       "\n",
       ".xr-icon-database,\n",
       ".xr-icon-file-text2,\n",
       ".xr-no-icon {\n",
       "  display: inline-block;\n",
       "  vertical-align: middle;\n",
       "  width: 1em;\n",
       "  height: 1.5em !important;\n",
       "  stroke-width: 0;\n",
       "  stroke: currentColor;\n",
       "  fill: currentColor;\n",
       "}\n",
       "</style><pre class='xr-text-repr-fallback'>&lt;xarray.DataArray &#x27;spks&#x27; (mouse: 1, session_date: 1, cell: 734, trial: 364,\n",
       "                          time: 250)&gt;\n",
       "array([[[[[0, 0, 0, ..., 0, 0, 0],\n",
       "          [0, 0, 0, ..., 0, 0, 0],\n",
       "          [0, 0, 0, ..., 0, 0, 0],\n",
       "          ...,\n",
       "          [0, 1, 0, ..., 0, 0, 0],\n",
       "          [0, 0, 0, ..., 0, 0, 0],\n",
       "          [0, 0, 0, ..., 0, 0, 0]],\n",
       "\n",
       "         [[0, 0, 0, ..., 0, 0, 0],\n",
       "          [0, 0, 0, ..., 0, 0, 0],\n",
       "          [0, 0, 0, ..., 0, 0, 0],\n",
       "          ...,\n",
       "          [0, 0, 0, ..., 0, 0, 0],\n",
       "          [0, 0, 0, ..., 0, 0, 0],\n",
       "          [0, 0, 0, ..., 0, 0, 0]],\n",
       "\n",
       "         [[0, 0, 0, ..., 0, 0, 0],\n",
       "          [0, 0, 0, ..., 0, 0, 0],\n",
       "          [0, 0, 0, ..., 0, 0, 0],\n",
       "          ...,\n",
       "...\n",
       "          ...,\n",
       "          [0, 0, 0, ..., 0, 0, 0],\n",
       "          [0, 0, 0, ..., 0, 0, 0],\n",
       "          [0, 1, 0, ..., 0, 0, 0]],\n",
       "\n",
       "         [[0, 0, 0, ..., 0, 0, 0],\n",
       "          [0, 0, 0, ..., 0, 0, 0],\n",
       "          [0, 0, 0, ..., 0, 0, 0],\n",
       "          ...,\n",
       "          [0, 0, 0, ..., 0, 0, 0],\n",
       "          [0, 0, 0, ..., 0, 0, 0],\n",
       "          [0, 0, 0, ..., 0, 0, 0]],\n",
       "\n",
       "         [[0, 0, 0, ..., 0, 0, 0],\n",
       "          [0, 0, 0, ..., 0, 0, 0],\n",
       "          [0, 0, 0, ..., 0, 0, 0],\n",
       "          ...,\n",
       "          [0, 0, 0, ..., 0, 0, 0],\n",
       "          [0, 0, 0, ..., 0, 0, 0],\n",
       "          [0, 0, 0, ..., 0, 0, 0]]]]], dtype=int8)\n",
       "Coordinates:\n",
       "  * mouse         (mouse) object &#x27;Cori&#x27;\n",
       "  * session_date  (session_date) object &#x27;2016-12-14&#x27;\n",
       "  * trial         (trial) int64 1 2 3 4 5 6 7 8 ... 358 359 360 361 362 363 364\n",
       "  * time          (time) float64 0.01 0.02 0.03 0.04 0.05 ... 2.47 2.48 2.49 2.5\n",
       "  * cell          (cell) int64 1 2 3 4 5 6 7 8 ... 728 729 730 731 732 733 734</pre><div class='xr-wrap' style='display:none'><div class='xr-header'><div class='xr-obj-type'>xarray.DataArray</div><div class='xr-array-name'>'spks'</div><ul class='xr-dim-list'><li><span class='xr-has-index'>mouse</span>: 1</li><li><span class='xr-has-index'>session_date</span>: 1</li><li><span class='xr-has-index'>cell</span>: 734</li><li><span class='xr-has-index'>trial</span>: 364</li><li><span class='xr-has-index'>time</span>: 250</li></ul></div><ul class='xr-sections'><li class='xr-section-item'><div class='xr-array-wrap'><input id='section-dcb2ef58-388e-48f4-9dd0-8ee215d67daf' class='xr-array-in' type='checkbox' checked><label for='section-dcb2ef58-388e-48f4-9dd0-8ee215d67daf' title='Show/hide data repr'><svg class='icon xr-icon-database'><use xlink:href='#icon-database'></use></svg></label><div class='xr-array-preview xr-preview'><span>0 0 0 0 0 0 0 0 0 0 0 0 0 0 0 0 0 ... 0 0 0 0 0 1 0 0 0 0 0 0 0 0 0 0</span></div><div class='xr-array-data'><pre>array([[[[[0, 0, 0, ..., 0, 0, 0],\n",
       "          [0, 0, 0, ..., 0, 0, 0],\n",
       "          [0, 0, 0, ..., 0, 0, 0],\n",
       "          ...,\n",
       "          [0, 1, 0, ..., 0, 0, 0],\n",
       "          [0, 0, 0, ..., 0, 0, 0],\n",
       "          [0, 0, 0, ..., 0, 0, 0]],\n",
       "\n",
       "         [[0, 0, 0, ..., 0, 0, 0],\n",
       "          [0, 0, 0, ..., 0, 0, 0],\n",
       "          [0, 0, 0, ..., 0, 0, 0],\n",
       "          ...,\n",
       "          [0, 0, 0, ..., 0, 0, 0],\n",
       "          [0, 0, 0, ..., 0, 0, 0],\n",
       "          [0, 0, 0, ..., 0, 0, 0]],\n",
       "\n",
       "         [[0, 0, 0, ..., 0, 0, 0],\n",
       "          [0, 0, 0, ..., 0, 0, 0],\n",
       "          [0, 0, 0, ..., 0, 0, 0],\n",
       "          ...,\n",
       "...\n",
       "          ...,\n",
       "          [0, 0, 0, ..., 0, 0, 0],\n",
       "          [0, 0, 0, ..., 0, 0, 0],\n",
       "          [0, 1, 0, ..., 0, 0, 0]],\n",
       "\n",
       "         [[0, 0, 0, ..., 0, 0, 0],\n",
       "          [0, 0, 0, ..., 0, 0, 0],\n",
       "          [0, 0, 0, ..., 0, 0, 0],\n",
       "          ...,\n",
       "          [0, 0, 0, ..., 0, 0, 0],\n",
       "          [0, 0, 0, ..., 0, 0, 0],\n",
       "          [0, 0, 0, ..., 0, 0, 0]],\n",
       "\n",
       "         [[0, 0, 0, ..., 0, 0, 0],\n",
       "          [0, 0, 0, ..., 0, 0, 0],\n",
       "          [0, 0, 0, ..., 0, 0, 0],\n",
       "          ...,\n",
       "          [0, 0, 0, ..., 0, 0, 0],\n",
       "          [0, 0, 0, ..., 0, 0, 0],\n",
       "          [0, 0, 0, ..., 0, 0, 0]]]]], dtype=int8)</pre></div></div></li><li class='xr-section-item'><input id='section-e494731f-7b0c-4307-8daa-b87ed4de8eb5' class='xr-section-summary-in' type='checkbox'  checked><label for='section-e494731f-7b0c-4307-8daa-b87ed4de8eb5' class='xr-section-summary' >Coordinates: <span>(5)</span></label><div class='xr-section-inline-details'></div><div class='xr-section-details'><ul class='xr-var-list'><li class='xr-var-item'><div class='xr-var-name'><span class='xr-has-index'>mouse</span></div><div class='xr-var-dims'>(mouse)</div><div class='xr-var-dtype'>object</div><div class='xr-var-preview xr-preview'>&#x27;Cori&#x27;</div><input id='attrs-fed2bfd4-bca1-4f70-ac76-522fb8160a55' class='xr-var-attrs-in' type='checkbox' disabled><label for='attrs-fed2bfd4-bca1-4f70-ac76-522fb8160a55' title='Show/Hide attributes'><svg class='icon xr-icon-file-text2'><use xlink:href='#icon-file-text2'></use></svg></label><input id='data-997d97da-17e9-4d67-88bc-408ca06d461c' class='xr-var-data-in' type='checkbox'><label for='data-997d97da-17e9-4d67-88bc-408ca06d461c' title='Show/Hide data repr'><svg class='icon xr-icon-database'><use xlink:href='#icon-database'></use></svg></label><div class='xr-var-attrs'><dl class='xr-attrs'></dl></div><div class='xr-var-data'><pre>array([&#x27;Cori&#x27;], dtype=object)</pre></div></li><li class='xr-var-item'><div class='xr-var-name'><span class='xr-has-index'>session_date</span></div><div class='xr-var-dims'>(session_date)</div><div class='xr-var-dtype'>object</div><div class='xr-var-preview xr-preview'>&#x27;2016-12-14&#x27;</div><input id='attrs-c89a50ae-41e7-4980-b5f3-8c9df874a696' class='xr-var-attrs-in' type='checkbox' disabled><label for='attrs-c89a50ae-41e7-4980-b5f3-8c9df874a696' title='Show/Hide attributes'><svg class='icon xr-icon-file-text2'><use xlink:href='#icon-file-text2'></use></svg></label><input id='data-8f344e86-ea5b-4225-bd39-7a73730b0896' class='xr-var-data-in' type='checkbox'><label for='data-8f344e86-ea5b-4225-bd39-7a73730b0896' title='Show/Hide data repr'><svg class='icon xr-icon-database'><use xlink:href='#icon-database'></use></svg></label><div class='xr-var-attrs'><dl class='xr-attrs'></dl></div><div class='xr-var-data'><pre>array([&#x27;2016-12-14&#x27;], dtype=object)</pre></div></li><li class='xr-var-item'><div class='xr-var-name'><span class='xr-has-index'>trial</span></div><div class='xr-var-dims'>(trial)</div><div class='xr-var-dtype'>int64</div><div class='xr-var-preview xr-preview'>1 2 3 4 5 6 ... 360 361 362 363 364</div><input id='attrs-2dea2b9b-2393-45cc-a2b3-5a97a070050a' class='xr-var-attrs-in' type='checkbox' disabled><label for='attrs-2dea2b9b-2393-45cc-a2b3-5a97a070050a' title='Show/Hide attributes'><svg class='icon xr-icon-file-text2'><use xlink:href='#icon-file-text2'></use></svg></label><input id='data-aaf53bf0-359f-446e-9666-4e61ece8bbab' class='xr-var-data-in' type='checkbox'><label for='data-aaf53bf0-359f-446e-9666-4e61ece8bbab' title='Show/Hide data repr'><svg class='icon xr-icon-database'><use xlink:href='#icon-database'></use></svg></label><div class='xr-var-attrs'><dl class='xr-attrs'></dl></div><div class='xr-var-data'><pre>array([  1,   2,   3, ..., 362, 363, 364])</pre></div></li><li class='xr-var-item'><div class='xr-var-name'><span class='xr-has-index'>time</span></div><div class='xr-var-dims'>(time)</div><div class='xr-var-dtype'>float64</div><div class='xr-var-preview xr-preview'>0.01 0.02 0.03 ... 2.48 2.49 2.5</div><input id='attrs-fcfa409a-6095-48e7-af34-27981e409822' class='xr-var-attrs-in' type='checkbox' disabled><label for='attrs-fcfa409a-6095-48e7-af34-27981e409822' title='Show/Hide attributes'><svg class='icon xr-icon-file-text2'><use xlink:href='#icon-file-text2'></use></svg></label><input id='data-c1f7a074-bc23-43b4-9cf8-6bb8f1ab8d23' class='xr-var-data-in' type='checkbox'><label for='data-c1f7a074-bc23-43b4-9cf8-6bb8f1ab8d23' title='Show/Hide data repr'><svg class='icon xr-icon-database'><use xlink:href='#icon-database'></use></svg></label><div class='xr-var-attrs'><dl class='xr-attrs'></dl></div><div class='xr-var-data'><pre>array([0.01, 0.02, 0.03, ..., 2.48, 2.49, 2.5 ])</pre></div></li><li class='xr-var-item'><div class='xr-var-name'><span class='xr-has-index'>cell</span></div><div class='xr-var-dims'>(cell)</div><div class='xr-var-dtype'>int64</div><div class='xr-var-preview xr-preview'>1 2 3 4 5 6 ... 730 731 732 733 734</div><input id='attrs-540d9939-9c72-4421-9cdb-e04bb93565c3' class='xr-var-attrs-in' type='checkbox' disabled><label for='attrs-540d9939-9c72-4421-9cdb-e04bb93565c3' title='Show/Hide attributes'><svg class='icon xr-icon-file-text2'><use xlink:href='#icon-file-text2'></use></svg></label><input id='data-f5eb5fab-65ac-474a-9f27-cfcf7ea29194' class='xr-var-data-in' type='checkbox'><label for='data-f5eb5fab-65ac-474a-9f27-cfcf7ea29194' title='Show/Hide data repr'><svg class='icon xr-icon-database'><use xlink:href='#icon-database'></use></svg></label><div class='xr-var-attrs'><dl class='xr-attrs'></dl></div><div class='xr-var-data'><pre>array([  1,   2,   3, ..., 732, 733, 734])</pre></div></li></ul></div></li><li class='xr-section-item'><input id='section-19141553-d41d-4d26-9380-020574928093' class='xr-section-summary-in' type='checkbox'  ><label for='section-19141553-d41d-4d26-9380-020574928093' class='xr-section-summary' >Indexes: <span>(5)</span></label><div class='xr-section-inline-details'></div><div class='xr-section-details'><ul class='xr-var-list'><li class='xr-var-item'><div class='xr-index-name'><div>mouse</div></div><div class='xr-index-preview'>PandasIndex</div><div></div><input id='index-6ac080d6-5b24-4799-9115-b5df955a1385' class='xr-index-data-in' type='checkbox'/><label for='index-6ac080d6-5b24-4799-9115-b5df955a1385' title='Show/Hide index repr'><svg class='icon xr-icon-database'><use xlink:href='#icon-database'></use></svg></label><div class='xr-index-data'><pre>PandasIndex(Index([&#x27;Cori&#x27;], dtype=&#x27;object&#x27;, name=&#x27;mouse&#x27;))</pre></div></li><li class='xr-var-item'><div class='xr-index-name'><div>session_date</div></div><div class='xr-index-preview'>PandasIndex</div><div></div><input id='index-632bfb5a-b861-4fc9-9c94-b8bd9a45206a' class='xr-index-data-in' type='checkbox'/><label for='index-632bfb5a-b861-4fc9-9c94-b8bd9a45206a' title='Show/Hide index repr'><svg class='icon xr-icon-database'><use xlink:href='#icon-database'></use></svg></label><div class='xr-index-data'><pre>PandasIndex(Index([&#x27;2016-12-14&#x27;], dtype=&#x27;object&#x27;, name=&#x27;session_date&#x27;))</pre></div></li><li class='xr-var-item'><div class='xr-index-name'><div>trial</div></div><div class='xr-index-preview'>PandasIndex</div><div></div><input id='index-1461e044-1b57-44cd-9587-d58fd4e5d62e' class='xr-index-data-in' type='checkbox'/><label for='index-1461e044-1b57-44cd-9587-d58fd4e5d62e' title='Show/Hide index repr'><svg class='icon xr-icon-database'><use xlink:href='#icon-database'></use></svg></label><div class='xr-index-data'><pre>PandasIndex(Int64Index([  1,   2,   3,   4,   5,   6,   7,   8,   9,  10,\n",
       "            ...\n",
       "            355, 356, 357, 358, 359, 360, 361, 362, 363, 364],\n",
       "           dtype=&#x27;int64&#x27;, name=&#x27;trial&#x27;, length=364))</pre></div></li><li class='xr-var-item'><div class='xr-index-name'><div>time</div></div><div class='xr-index-preview'>PandasIndex</div><div></div><input id='index-9cb8844e-78ca-4d89-8514-e3d0cb0f8523' class='xr-index-data-in' type='checkbox'/><label for='index-9cb8844e-78ca-4d89-8514-e3d0cb0f8523' title='Show/Hide index repr'><svg class='icon xr-icon-database'><use xlink:href='#icon-database'></use></svg></label><div class='xr-index-data'><pre>PandasIndex(Float64Index([0.01, 0.02, 0.03, 0.04, 0.05, 0.06, 0.07, 0.08, 0.09,  0.1,\n",
       "              ...\n",
       "              2.41, 2.42, 2.43, 2.44, 2.45, 2.46, 2.47, 2.48, 2.49,  2.5],\n",
       "             dtype=&#x27;float64&#x27;, name=&#x27;time&#x27;, length=250))</pre></div></li><li class='xr-var-item'><div class='xr-index-name'><div>cell</div></div><div class='xr-index-preview'>PandasIndex</div><div></div><input id='index-8434165c-bea8-4a9e-92d3-a14ed7e8ec0d' class='xr-index-data-in' type='checkbox'/><label for='index-8434165c-bea8-4a9e-92d3-a14ed7e8ec0d' title='Show/Hide index repr'><svg class='icon xr-icon-database'><use xlink:href='#icon-database'></use></svg></label><div class='xr-index-data'><pre>PandasIndex(Int64Index([  1,   2,   3,   4,   5,   6,   7,   8,   9,  10,\n",
       "            ...\n",
       "            725, 726, 727, 728, 729, 730, 731, 732, 733, 734],\n",
       "           dtype=&#x27;int64&#x27;, name=&#x27;cell&#x27;, length=734))</pre></div></li></ul></div></li><li class='xr-section-item'><input id='section-05616007-b339-4f65-931b-43ea3824d2e7' class='xr-section-summary-in' type='checkbox' disabled ><label for='section-05616007-b339-4f65-931b-43ea3824d2e7' class='xr-section-summary'  title='Expand/collapse section'>Attributes: <span>(0)</span></label><div class='xr-section-inline-details'></div><div class='xr-section-details'><dl class='xr-attrs'></dl></div></li></ul></div></div>"
      ],
      "text/plain": [
       "<xarray.DataArray 'spks' (mouse: 1, session_date: 1, cell: 734, trial: 364,\n",
       "                          time: 250)>\n",
       "array([[[[[0, 0, 0, ..., 0, 0, 0],\n",
       "          [0, 0, 0, ..., 0, 0, 0],\n",
       "          [0, 0, 0, ..., 0, 0, 0],\n",
       "          ...,\n",
       "          [0, 1, 0, ..., 0, 0, 0],\n",
       "          [0, 0, 0, ..., 0, 0, 0],\n",
       "          [0, 0, 0, ..., 0, 0, 0]],\n",
       "\n",
       "         [[0, 0, 0, ..., 0, 0, 0],\n",
       "          [0, 0, 0, ..., 0, 0, 0],\n",
       "          [0, 0, 0, ..., 0, 0, 0],\n",
       "          ...,\n",
       "          [0, 0, 0, ..., 0, 0, 0],\n",
       "          [0, 0, 0, ..., 0, 0, 0],\n",
       "          [0, 0, 0, ..., 0, 0, 0]],\n",
       "\n",
       "         [[0, 0, 0, ..., 0, 0, 0],\n",
       "          [0, 0, 0, ..., 0, 0, 0],\n",
       "          [0, 0, 0, ..., 0, 0, 0],\n",
       "          ...,\n",
       "...\n",
       "          ...,\n",
       "          [0, 0, 0, ..., 0, 0, 0],\n",
       "          [0, 0, 0, ..., 0, 0, 0],\n",
       "          [0, 1, 0, ..., 0, 0, 0]],\n",
       "\n",
       "         [[0, 0, 0, ..., 0, 0, 0],\n",
       "          [0, 0, 0, ..., 0, 0, 0],\n",
       "          [0, 0, 0, ..., 0, 0, 0],\n",
       "          ...,\n",
       "          [0, 0, 0, ..., 0, 0, 0],\n",
       "          [0, 0, 0, ..., 0, 0, 0],\n",
       "          [0, 0, 0, ..., 0, 0, 0]],\n",
       "\n",
       "         [[0, 0, 0, ..., 0, 0, 0],\n",
       "          [0, 0, 0, ..., 0, 0, 0],\n",
       "          [0, 0, 0, ..., 0, 0, 0],\n",
       "          ...,\n",
       "          [0, 0, 0, ..., 0, 0, 0],\n",
       "          [0, 0, 0, ..., 0, 0, 0],\n",
       "          [0, 0, 0, ..., 0, 0, 0]]]]], dtype=int8)\n",
       "Coordinates:\n",
       "  * mouse         (mouse) object 'Cori'\n",
       "  * session_date  (session_date) object '2016-12-14'\n",
       "  * trial         (trial) int64 1 2 3 4 5 6 7 8 ... 358 359 360 361 362 363 364\n",
       "  * time          (time) float64 0.01 0.02 0.03 0.04 0.05 ... 2.47 2.48 2.49 2.5\n",
       "  * cell          (cell) int64 1 2 3 4 5 6 7 8 ... 728 729 730 731 732 733 734"
      ]
     },
     "execution_count": 5,
     "metadata": {},
     "output_type": "execute_result"
    }
   ],
   "source": [
    "dset['spks'].as_numpy()"
   ]
  },
  {
   "cell_type": "code",
   "execution_count": 6,
   "metadata": {},
   "outputs": [
    {
     "data": {
      "text/html": [
       "<div>\n",
       "<style scoped>\n",
       "    .dataframe tbody tr th:only-of-type {\n",
       "        vertical-align: middle;\n",
       "    }\n",
       "\n",
       "    .dataframe tbody tr th {\n",
       "        vertical-align: top;\n",
       "    }\n",
       "\n",
       "    .dataframe thead th {\n",
       "        text-align: right;\n",
       "    }\n",
       "</style>\n",
       "<table border=\"1\" class=\"dataframe\">\n",
       "  <thead>\n",
       "    <tr style=\"text-align: right;\">\n",
       "      <th></th>\n",
       "      <th>mouse</th>\n",
       "      <th>session_date</th>\n",
       "      <th>trial</th>\n",
       "      <th>response_type</th>\n",
       "      <th>response_time</th>\n",
       "      <th>active_trials</th>\n",
       "      <th>gocue</th>\n",
       "      <th>stim_onset</th>\n",
       "      <th>feedback_type</th>\n",
       "      <th>feedback_time</th>\n",
       "    </tr>\n",
       "  </thead>\n",
       "  <tbody>\n",
       "    <tr>\n",
       "      <th>0</th>\n",
       "      <td>Cori</td>\n",
       "      <td>2016-12-14</td>\n",
       "      <td>1</td>\n",
       "      <td>1.0</td>\n",
       "      <td>1.150204</td>\n",
       "      <td>True</td>\n",
       "      <td>1.027216</td>\n",
       "      <td>0.5</td>\n",
       "      <td>1.0</td>\n",
       "      <td>1.186819</td>\n",
       "    </tr>\n",
       "    <tr>\n",
       "      <th>1</th>\n",
       "      <td>Cori</td>\n",
       "      <td>2016-12-14</td>\n",
       "      <td>2</td>\n",
       "      <td>-1.0</td>\n",
       "      <td>1.399503</td>\n",
       "      <td>True</td>\n",
       "      <td>0.874414</td>\n",
       "      <td>0.5</td>\n",
       "      <td>1.0</td>\n",
       "      <td>1.437623</td>\n",
       "    </tr>\n",
       "    <tr>\n",
       "      <th>2</th>\n",
       "      <td>Cori</td>\n",
       "      <td>2016-12-14</td>\n",
       "      <td>3</td>\n",
       "      <td>1.0</td>\n",
       "      <td>0.949291</td>\n",
       "      <td>True</td>\n",
       "      <td>0.825213</td>\n",
       "      <td>0.5</td>\n",
       "      <td>1.0</td>\n",
       "      <td>0.986016</td>\n",
       "    </tr>\n",
       "    <tr>\n",
       "      <th>3</th>\n",
       "      <td>Cori</td>\n",
       "      <td>2016-12-14</td>\n",
       "      <td>4</td>\n",
       "      <td>0.0</td>\n",
       "      <td>2.266802</td>\n",
       "      <td>True</td>\n",
       "      <td>0.761612</td>\n",
       "      <td>0.5</td>\n",
       "      <td>1.0</td>\n",
       "      <td>2.296436</td>\n",
       "    </tr>\n",
       "    <tr>\n",
       "      <th>4</th>\n",
       "      <td>Cori</td>\n",
       "      <td>2016-12-14</td>\n",
       "      <td>5</td>\n",
       "      <td>1.0</td>\n",
       "      <td>0.816776</td>\n",
       "      <td>True</td>\n",
       "      <td>0.662010</td>\n",
       "      <td>0.5</td>\n",
       "      <td>-1.0</td>\n",
       "      <td>0.827613</td>\n",
       "    </tr>\n",
       "    <tr>\n",
       "      <th>...</th>\n",
       "      <td>...</td>\n",
       "      <td>...</td>\n",
       "      <td>...</td>\n",
       "      <td>...</td>\n",
       "      <td>...</td>\n",
       "      <td>...</td>\n",
       "      <td>...</td>\n",
       "      <td>...</td>\n",
       "      <td>...</td>\n",
       "      <td>...</td>\n",
       "    </tr>\n",
       "    <tr>\n",
       "      <th>359</th>\n",
       "      <td>Cori</td>\n",
       "      <td>2016-12-14</td>\n",
       "      <td>360</td>\n",
       "      <td>NaN</td>\n",
       "      <td>NaN</td>\n",
       "      <td>False</td>\n",
       "      <td>NaN</td>\n",
       "      <td>0.5</td>\n",
       "      <td>NaN</td>\n",
       "      <td>NaN</td>\n",
       "    </tr>\n",
       "    <tr>\n",
       "      <th>360</th>\n",
       "      <td>Cori</td>\n",
       "      <td>2016-12-14</td>\n",
       "      <td>361</td>\n",
       "      <td>NaN</td>\n",
       "      <td>NaN</td>\n",
       "      <td>False</td>\n",
       "      <td>NaN</td>\n",
       "      <td>0.5</td>\n",
       "      <td>NaN</td>\n",
       "      <td>NaN</td>\n",
       "    </tr>\n",
       "    <tr>\n",
       "      <th>361</th>\n",
       "      <td>Cori</td>\n",
       "      <td>2016-12-14</td>\n",
       "      <td>362</td>\n",
       "      <td>NaN</td>\n",
       "      <td>NaN</td>\n",
       "      <td>False</td>\n",
       "      <td>NaN</td>\n",
       "      <td>0.5</td>\n",
       "      <td>NaN</td>\n",
       "      <td>NaN</td>\n",
       "    </tr>\n",
       "    <tr>\n",
       "      <th>362</th>\n",
       "      <td>Cori</td>\n",
       "      <td>2016-12-14</td>\n",
       "      <td>363</td>\n",
       "      <td>NaN</td>\n",
       "      <td>NaN</td>\n",
       "      <td>False</td>\n",
       "      <td>NaN</td>\n",
       "      <td>0.5</td>\n",
       "      <td>NaN</td>\n",
       "      <td>NaN</td>\n",
       "    </tr>\n",
       "    <tr>\n",
       "      <th>363</th>\n",
       "      <td>Cori</td>\n",
       "      <td>2016-12-14</td>\n",
       "      <td>364</td>\n",
       "      <td>NaN</td>\n",
       "      <td>NaN</td>\n",
       "      <td>False</td>\n",
       "      <td>NaN</td>\n",
       "      <td>0.5</td>\n",
       "      <td>NaN</td>\n",
       "      <td>NaN</td>\n",
       "    </tr>\n",
       "  </tbody>\n",
       "</table>\n",
       "<p>364 rows × 10 columns</p>\n",
       "</div>"
      ],
      "text/plain": [
       "    mouse session_date  trial  response_type  response_time  active_trials  \\\n",
       "0    Cori   2016-12-14      1            1.0       1.150204           True   \n",
       "1    Cori   2016-12-14      2           -1.0       1.399503           True   \n",
       "2    Cori   2016-12-14      3            1.0       0.949291           True   \n",
       "3    Cori   2016-12-14      4            0.0       2.266802           True   \n",
       "4    Cori   2016-12-14      5            1.0       0.816776           True   \n",
       "..    ...          ...    ...            ...            ...            ...   \n",
       "359  Cori   2016-12-14    360            NaN            NaN          False   \n",
       "360  Cori   2016-12-14    361            NaN            NaN          False   \n",
       "361  Cori   2016-12-14    362            NaN            NaN          False   \n",
       "362  Cori   2016-12-14    363            NaN            NaN          False   \n",
       "363  Cori   2016-12-14    364            NaN            NaN          False   \n",
       "\n",
       "        gocue  stim_onset  feedback_type  feedback_time  \n",
       "0    1.027216         0.5            1.0       1.186819  \n",
       "1    0.874414         0.5            1.0       1.437623  \n",
       "2    0.825213         0.5            1.0       0.986016  \n",
       "3    0.761612         0.5            1.0       2.296436  \n",
       "4    0.662010         0.5           -1.0       0.827613  \n",
       "..        ...         ...            ...            ...  \n",
       "359       NaN         0.5            NaN            NaN  \n",
       "360       NaN         0.5            NaN            NaN  \n",
       "361       NaN         0.5            NaN            NaN  \n",
       "362       NaN         0.5            NaN            NaN  \n",
       "363       NaN         0.5            NaN            NaN  \n",
       "\n",
       "[364 rows x 10 columns]"
      ]
     },
     "execution_count": 6,
     "metadata": {},
     "output_type": "execute_result"
    }
   ],
   "source": [
    "dset[['response_type', 'response_time', 'active_trials', 'gocue', 'stim_onset', 'feedback_type', 'feedback_time']].to_dataframe().reset_index()"
   ]
  },
  {
   "cell_type": "markdown",
   "metadata": {},
   "source": [
    "# Loading and merging datasets from all mice"
   ]
  },
  {
   "cell_type": "code",
   "execution_count": 93,
   "metadata": {},
   "outputs": [],
   "source": [
    "import glob\n",
    "import os\n",
    "import pandas as pd\n",
    "import matplotlib.pylab as plt\n",
    "import seaborn as sns"
   ]
  },
  {
   "cell_type": "code",
   "execution_count": 8,
   "metadata": {},
   "outputs": [],
   "source": [
    "files = '../data/processed/*.nc'"
   ]
  },
  {
   "cell_type": "code",
   "execution_count": 9,
   "metadata": {},
   "outputs": [],
   "source": [
    "mice_sessions = glob.glob(files)"
   ]
  },
  {
   "cell_type": "code",
   "execution_count": 10,
   "metadata": {},
   "outputs": [
    {
     "name": "stdout",
     "output_type": "stream",
     "text": [
      "../data/processed/steinmetz_2017-11-02_Forssmann.nc\n",
      "../data/processed/steinmetz_2017-12-07_Lederberg.nc\n",
      "../data/processed/steinmetz_2017-12-09_Tatum.nc\n",
      "../data/processed/steinmetz_2016-12-14_Cori.nc\n",
      "../data/processed/steinmetz_2017-06-17_Hench.nc\n",
      "../data/processed/steinmetz_2017-12-11_Lederberg.nc\n",
      "../data/processed/steinmetz_2017-12-09_Lederberg.nc\n",
      "../data/processed/steinmetz_2017-05-16_Moniz.nc\n",
      "../data/processed/steinmetz_2017-06-15_Hench.nc\n",
      "../data/processed/steinmetz_2017-11-01_Forssmann.nc\n",
      "../data/processed/steinmetz_2017-12-06_Tatum.nc\n",
      "../data/processed/steinmetz_2016-12-17_Cori.nc\n",
      "../data/processed/steinmetz_2017-01-10_Radnitz.nc\n",
      "../data/processed/steinmetz_2017-10-30_Richards.nc\n",
      "../data/processed/steinmetz_2017-11-01_Richards.nc\n",
      "../data/processed/steinmetz_2017-11-04_Forssmann.nc\n",
      "../data/processed/steinmetz_2017-01-09_Muller.nc\n",
      "../data/processed/steinmetz_2017-05-15_Moniz.nc\n",
      "../data/processed/steinmetz_2016-12-18_Cori.nc\n",
      "../data/processed/steinmetz_2017-12-07_Tatum.nc\n",
      "../data/processed/steinmetz_2017-01-08_Muller.nc\n",
      "../data/processed/steinmetz_2017-01-09_Radnitz.nc\n",
      "../data/processed/steinmetz_2017-11-05_Forssmann.nc\n",
      "../data/processed/steinmetz_2017-12-08_Tatum.nc\n",
      "../data/processed/steinmetz_2017-06-18_Hench.nc\n",
      "../data/processed/steinmetz_2017-06-16_Hench.nc\n",
      "../data/processed/steinmetz_2017-01-12_Radnitz.nc\n",
      "../data/processed/steinmetz_2017-05-18_Moniz.nc\n",
      "../data/processed/steinmetz_2017-01-08_Radnitz.nc\n",
      "../data/processed/steinmetz_2017-12-05_Lederberg.nc\n",
      "../data/processed/steinmetz_2017-12-08_Lederberg.nc\n",
      "../data/processed/steinmetz_2017-12-06_Lederberg.nc\n",
      "../data/processed/steinmetz_2017-01-07_Muller.nc\n",
      "../data/processed/steinmetz_2017-11-02_Richards.nc\n",
      "../data/processed/steinmetz_2017-01-11_Radnitz.nc\n",
      "../data/processed/steinmetz_2017-10-11_Theiler.nc\n",
      "../data/processed/steinmetz_2017-10-29_Richards.nc\n",
      "../data/processed/steinmetz_2017-12-10_Lederberg.nc\n",
      "../data/processed/steinmetz_2017-10-31_Richards.nc\n"
     ]
    }
   ],
   "source": [
    "dlist = []\n",
    "for mice_session in mice_sessions:\n",
    "    print(mice_session)\n",
    "    dset = xr.open_dataset(mice_session)\n",
    "    dlist.append(dset[['response_type', 'response_time', 'active_trials', 'gocue', 'stim_onset', 'feedback_type', 'feedback_time']].to_dataframe().reset_index()\n",
    ")"
   ]
  },
  {
   "cell_type": "code",
   "execution_count": 11,
   "metadata": {},
   "outputs": [],
   "source": [
    "    \n",
    "df = pd.concat(dlist, axis=0, ignore_index=True)"
   ]
  },
  {
   "cell_type": "code",
   "execution_count": 12,
   "metadata": {},
   "outputs": [
    {
     "data": {
      "text/html": [
       "<div>\n",
       "<style scoped>\n",
       "    .dataframe tbody tr th:only-of-type {\n",
       "        vertical-align: middle;\n",
       "    }\n",
       "\n",
       "    .dataframe tbody tr th {\n",
       "        vertical-align: top;\n",
       "    }\n",
       "\n",
       "    .dataframe thead th {\n",
       "        text-align: right;\n",
       "    }\n",
       "</style>\n",
       "<table border=\"1\" class=\"dataframe\">\n",
       "  <thead>\n",
       "    <tr style=\"text-align: right;\">\n",
       "      <th></th>\n",
       "      <th>mouse</th>\n",
       "      <th>session_date</th>\n",
       "      <th>trial</th>\n",
       "      <th>response_type</th>\n",
       "      <th>response_time</th>\n",
       "      <th>active_trials</th>\n",
       "      <th>gocue</th>\n",
       "      <th>stim_onset</th>\n",
       "      <th>feedback_type</th>\n",
       "      <th>feedback_time</th>\n",
       "    </tr>\n",
       "  </thead>\n",
       "  <tbody>\n",
       "    <tr>\n",
       "      <th>0</th>\n",
       "      <td>Forssmann</td>\n",
       "      <td>2017-11-02</td>\n",
       "      <td>1</td>\n",
       "      <td>-1.0</td>\n",
       "      <td>0.784573</td>\n",
       "      <td>True</td>\n",
       "      <td>0.582163</td>\n",
       "      <td>0.5</td>\n",
       "      <td>1.0</td>\n",
       "      <td>0.827766</td>\n",
       "    </tr>\n",
       "    <tr>\n",
       "      <th>1</th>\n",
       "      <td>Forssmann</td>\n",
       "      <td>2017-11-02</td>\n",
       "      <td>2</td>\n",
       "      <td>0.0</td>\n",
       "      <td>2.288648</td>\n",
       "      <td>True</td>\n",
       "      <td>0.484221</td>\n",
       "      <td>0.5</td>\n",
       "      <td>1.0</td>\n",
       "      <td>2.320245</td>\n",
       "    </tr>\n",
       "    <tr>\n",
       "      <th>2</th>\n",
       "      <td>Forssmann</td>\n",
       "      <td>2017-11-02</td>\n",
       "      <td>3</td>\n",
       "      <td>-1.0</td>\n",
       "      <td>1.358262</td>\n",
       "      <td>True</td>\n",
       "      <td>0.688418</td>\n",
       "      <td>0.5</td>\n",
       "      <td>-1.0</td>\n",
       "      <td>1.358262</td>\n",
       "    </tr>\n",
       "    <tr>\n",
       "      <th>3</th>\n",
       "      <td>Forssmann</td>\n",
       "      <td>2017-11-02</td>\n",
       "      <td>4</td>\n",
       "      <td>1.0</td>\n",
       "      <td>0.862720</td>\n",
       "      <td>True</td>\n",
       "      <td>0.628084</td>\n",
       "      <td>0.5</td>\n",
       "      <td>-1.0</td>\n",
       "      <td>0.862720</td>\n",
       "    </tr>\n",
       "    <tr>\n",
       "      <th>4</th>\n",
       "      <td>Forssmann</td>\n",
       "      <td>2017-11-02</td>\n",
       "      <td>5</td>\n",
       "      <td>0.0</td>\n",
       "      <td>2.554045</td>\n",
       "      <td>True</td>\n",
       "      <td>0.748259</td>\n",
       "      <td>0.5</td>\n",
       "      <td>1.0</td>\n",
       "      <td>2.587083</td>\n",
       "    </tr>\n",
       "    <tr>\n",
       "      <th>...</th>\n",
       "      <td>...</td>\n",
       "      <td>...</td>\n",
       "      <td>...</td>\n",
       "      <td>...</td>\n",
       "      <td>...</td>\n",
       "      <td>...</td>\n",
       "      <td>...</td>\n",
       "      <td>...</td>\n",
       "      <td>...</td>\n",
       "      <td>...</td>\n",
       "    </tr>\n",
       "    <tr>\n",
       "      <th>14415</th>\n",
       "      <td>Richards</td>\n",
       "      <td>2017-10-31</td>\n",
       "      <td>366</td>\n",
       "      <td>NaN</td>\n",
       "      <td>NaN</td>\n",
       "      <td>False</td>\n",
       "      <td>NaN</td>\n",
       "      <td>0.5</td>\n",
       "      <td>NaN</td>\n",
       "      <td>NaN</td>\n",
       "    </tr>\n",
       "    <tr>\n",
       "      <th>14416</th>\n",
       "      <td>Richards</td>\n",
       "      <td>2017-10-31</td>\n",
       "      <td>367</td>\n",
       "      <td>NaN</td>\n",
       "      <td>NaN</td>\n",
       "      <td>False</td>\n",
       "      <td>NaN</td>\n",
       "      <td>0.5</td>\n",
       "      <td>NaN</td>\n",
       "      <td>NaN</td>\n",
       "    </tr>\n",
       "    <tr>\n",
       "      <th>14417</th>\n",
       "      <td>Richards</td>\n",
       "      <td>2017-10-31</td>\n",
       "      <td>368</td>\n",
       "      <td>NaN</td>\n",
       "      <td>NaN</td>\n",
       "      <td>False</td>\n",
       "      <td>NaN</td>\n",
       "      <td>0.5</td>\n",
       "      <td>NaN</td>\n",
       "      <td>NaN</td>\n",
       "    </tr>\n",
       "    <tr>\n",
       "      <th>14418</th>\n",
       "      <td>Richards</td>\n",
       "      <td>2017-10-31</td>\n",
       "      <td>369</td>\n",
       "      <td>NaN</td>\n",
       "      <td>NaN</td>\n",
       "      <td>False</td>\n",
       "      <td>NaN</td>\n",
       "      <td>0.5</td>\n",
       "      <td>NaN</td>\n",
       "      <td>NaN</td>\n",
       "    </tr>\n",
       "    <tr>\n",
       "      <th>14419</th>\n",
       "      <td>Richards</td>\n",
       "      <td>2017-10-31</td>\n",
       "      <td>370</td>\n",
       "      <td>NaN</td>\n",
       "      <td>NaN</td>\n",
       "      <td>False</td>\n",
       "      <td>NaN</td>\n",
       "      <td>0.5</td>\n",
       "      <td>NaN</td>\n",
       "      <td>NaN</td>\n",
       "    </tr>\n",
       "  </tbody>\n",
       "</table>\n",
       "<p>14420 rows × 10 columns</p>\n",
       "</div>"
      ],
      "text/plain": [
       "           mouse session_date  trial  response_type  response_time  \\\n",
       "0      Forssmann   2017-11-02      1           -1.0       0.784573   \n",
       "1      Forssmann   2017-11-02      2            0.0       2.288648   \n",
       "2      Forssmann   2017-11-02      3           -1.0       1.358262   \n",
       "3      Forssmann   2017-11-02      4            1.0       0.862720   \n",
       "4      Forssmann   2017-11-02      5            0.0       2.554045   \n",
       "...          ...          ...    ...            ...            ...   \n",
       "14415   Richards   2017-10-31    366            NaN            NaN   \n",
       "14416   Richards   2017-10-31    367            NaN            NaN   \n",
       "14417   Richards   2017-10-31    368            NaN            NaN   \n",
       "14418   Richards   2017-10-31    369            NaN            NaN   \n",
       "14419   Richards   2017-10-31    370            NaN            NaN   \n",
       "\n",
       "       active_trials     gocue  stim_onset  feedback_type  feedback_time  \n",
       "0               True  0.582163         0.5            1.0       0.827766  \n",
       "1               True  0.484221         0.5            1.0       2.320245  \n",
       "2               True  0.688418         0.5           -1.0       1.358262  \n",
       "3               True  0.628084         0.5           -1.0       0.862720  \n",
       "4               True  0.748259         0.5            1.0       2.587083  \n",
       "...              ...       ...         ...            ...            ...  \n",
       "14415          False       NaN         0.5            NaN            NaN  \n",
       "14416          False       NaN         0.5            NaN            NaN  \n",
       "14417          False       NaN         0.5            NaN            NaN  \n",
       "14418          False       NaN         0.5            NaN            NaN  \n",
       "14419          False       NaN         0.5            NaN            NaN  \n",
       "\n",
       "[14420 rows x 10 columns]"
      ]
     },
     "execution_count": 12,
     "metadata": {},
     "output_type": "execute_result"
    }
   ],
   "source": [
    "df"
   ]
  },
  {
   "cell_type": "code",
   "execution_count": 13,
   "metadata": {},
   "outputs": [],
   "source": [
    "# is the stim_onset always same?"
   ]
  },
  {
   "cell_type": "code",
   "execution_count": 14,
   "metadata": {},
   "outputs": [
    {
     "data": {
      "text/plain": [
       "array([0.5])"
      ]
     },
     "execution_count": 14,
     "metadata": {},
     "output_type": "execute_result"
    }
   ],
   "source": [
    "df.stim_onset.unique()"
   ]
  },
  {
   "cell_type": "code",
   "execution_count": 15,
   "metadata": {},
   "outputs": [],
   "source": [
    "## Yes!"
   ]
  },
  {
   "cell_type": "code",
   "execution_count": 16,
   "metadata": {},
   "outputs": [
    {
     "data": {
      "text/plain": [
       "True     10050\n",
       "False     4370\n",
       "Name: active_trials, dtype: int64"
      ]
     },
     "execution_count": 16,
     "metadata": {},
     "output_type": "execute_result"
    }
   ],
   "source": [
    "# number of active trials and number of passive trials\n",
    "\n",
    "df['active_trials'].value_counts()"
   ]
  },
  {
   "cell_type": "code",
   "execution_count": 17,
   "metadata": {},
   "outputs": [],
   "source": [
    "## Number of active trials: 10050\n",
    "## Number of passive trials: 4370"
   ]
  },
  {
   "cell_type": "code",
   "execution_count": 18,
   "metadata": {},
   "outputs": [],
   "source": [
    "# Examine only passive trials"
   ]
  },
  {
   "cell_type": "code",
   "execution_count": 19,
   "metadata": {},
   "outputs": [
    {
     "data": {
      "text/html": [
       "<div>\n",
       "<style scoped>\n",
       "    .dataframe tbody tr th:only-of-type {\n",
       "        vertical-align: middle;\n",
       "    }\n",
       "\n",
       "    .dataframe tbody tr th {\n",
       "        vertical-align: top;\n",
       "    }\n",
       "\n",
       "    .dataframe thead th {\n",
       "        text-align: right;\n",
       "    }\n",
       "</style>\n",
       "<table border=\"1\" class=\"dataframe\">\n",
       "  <thead>\n",
       "    <tr style=\"text-align: right;\">\n",
       "      <th></th>\n",
       "      <th>mouse</th>\n",
       "      <th>session_date</th>\n",
       "      <th>trial</th>\n",
       "      <th>response_type</th>\n",
       "      <th>response_time</th>\n",
       "      <th>active_trials</th>\n",
       "      <th>gocue</th>\n",
       "      <th>stim_onset</th>\n",
       "      <th>feedback_type</th>\n",
       "      <th>feedback_time</th>\n",
       "    </tr>\n",
       "  </thead>\n",
       "  <tbody>\n",
       "    <tr>\n",
       "      <th>254</th>\n",
       "      <td>Forssmann</td>\n",
       "      <td>2017-11-02</td>\n",
       "      <td>255</td>\n",
       "      <td>NaN</td>\n",
       "      <td>NaN</td>\n",
       "      <td>False</td>\n",
       "      <td>NaN</td>\n",
       "      <td>0.5</td>\n",
       "      <td>NaN</td>\n",
       "      <td>NaN</td>\n",
       "    </tr>\n",
       "    <tr>\n",
       "      <th>255</th>\n",
       "      <td>Forssmann</td>\n",
       "      <td>2017-11-02</td>\n",
       "      <td>256</td>\n",
       "      <td>NaN</td>\n",
       "      <td>NaN</td>\n",
       "      <td>False</td>\n",
       "      <td>NaN</td>\n",
       "      <td>0.5</td>\n",
       "      <td>NaN</td>\n",
       "      <td>NaN</td>\n",
       "    </tr>\n",
       "    <tr>\n",
       "      <th>256</th>\n",
       "      <td>Forssmann</td>\n",
       "      <td>2017-11-02</td>\n",
       "      <td>257</td>\n",
       "      <td>NaN</td>\n",
       "      <td>NaN</td>\n",
       "      <td>False</td>\n",
       "      <td>NaN</td>\n",
       "      <td>0.5</td>\n",
       "      <td>NaN</td>\n",
       "      <td>NaN</td>\n",
       "    </tr>\n",
       "    <tr>\n",
       "      <th>257</th>\n",
       "      <td>Forssmann</td>\n",
       "      <td>2017-11-02</td>\n",
       "      <td>258</td>\n",
       "      <td>NaN</td>\n",
       "      <td>NaN</td>\n",
       "      <td>False</td>\n",
       "      <td>NaN</td>\n",
       "      <td>0.5</td>\n",
       "      <td>NaN</td>\n",
       "      <td>NaN</td>\n",
       "    </tr>\n",
       "    <tr>\n",
       "      <th>258</th>\n",
       "      <td>Forssmann</td>\n",
       "      <td>2017-11-02</td>\n",
       "      <td>259</td>\n",
       "      <td>NaN</td>\n",
       "      <td>NaN</td>\n",
       "      <td>False</td>\n",
       "      <td>NaN</td>\n",
       "      <td>0.5</td>\n",
       "      <td>NaN</td>\n",
       "      <td>NaN</td>\n",
       "    </tr>\n",
       "    <tr>\n",
       "      <th>...</th>\n",
       "      <td>...</td>\n",
       "      <td>...</td>\n",
       "      <td>...</td>\n",
       "      <td>...</td>\n",
       "      <td>...</td>\n",
       "      <td>...</td>\n",
       "      <td>...</td>\n",
       "      <td>...</td>\n",
       "      <td>...</td>\n",
       "      <td>...</td>\n",
       "    </tr>\n",
       "    <tr>\n",
       "      <th>14415</th>\n",
       "      <td>Richards</td>\n",
       "      <td>2017-10-31</td>\n",
       "      <td>366</td>\n",
       "      <td>NaN</td>\n",
       "      <td>NaN</td>\n",
       "      <td>False</td>\n",
       "      <td>NaN</td>\n",
       "      <td>0.5</td>\n",
       "      <td>NaN</td>\n",
       "      <td>NaN</td>\n",
       "    </tr>\n",
       "    <tr>\n",
       "      <th>14416</th>\n",
       "      <td>Richards</td>\n",
       "      <td>2017-10-31</td>\n",
       "      <td>367</td>\n",
       "      <td>NaN</td>\n",
       "      <td>NaN</td>\n",
       "      <td>False</td>\n",
       "      <td>NaN</td>\n",
       "      <td>0.5</td>\n",
       "      <td>NaN</td>\n",
       "      <td>NaN</td>\n",
       "    </tr>\n",
       "    <tr>\n",
       "      <th>14417</th>\n",
       "      <td>Richards</td>\n",
       "      <td>2017-10-31</td>\n",
       "      <td>368</td>\n",
       "      <td>NaN</td>\n",
       "      <td>NaN</td>\n",
       "      <td>False</td>\n",
       "      <td>NaN</td>\n",
       "      <td>0.5</td>\n",
       "      <td>NaN</td>\n",
       "      <td>NaN</td>\n",
       "    </tr>\n",
       "    <tr>\n",
       "      <th>14418</th>\n",
       "      <td>Richards</td>\n",
       "      <td>2017-10-31</td>\n",
       "      <td>369</td>\n",
       "      <td>NaN</td>\n",
       "      <td>NaN</td>\n",
       "      <td>False</td>\n",
       "      <td>NaN</td>\n",
       "      <td>0.5</td>\n",
       "      <td>NaN</td>\n",
       "      <td>NaN</td>\n",
       "    </tr>\n",
       "    <tr>\n",
       "      <th>14419</th>\n",
       "      <td>Richards</td>\n",
       "      <td>2017-10-31</td>\n",
       "      <td>370</td>\n",
       "      <td>NaN</td>\n",
       "      <td>NaN</td>\n",
       "      <td>False</td>\n",
       "      <td>NaN</td>\n",
       "      <td>0.5</td>\n",
       "      <td>NaN</td>\n",
       "      <td>NaN</td>\n",
       "    </tr>\n",
       "  </tbody>\n",
       "</table>\n",
       "<p>4370 rows × 10 columns</p>\n",
       "</div>"
      ],
      "text/plain": [
       "           mouse session_date  trial  response_type  response_time  \\\n",
       "254    Forssmann   2017-11-02    255            NaN            NaN   \n",
       "255    Forssmann   2017-11-02    256            NaN            NaN   \n",
       "256    Forssmann   2017-11-02    257            NaN            NaN   \n",
       "257    Forssmann   2017-11-02    258            NaN            NaN   \n",
       "258    Forssmann   2017-11-02    259            NaN            NaN   \n",
       "...          ...          ...    ...            ...            ...   \n",
       "14415   Richards   2017-10-31    366            NaN            NaN   \n",
       "14416   Richards   2017-10-31    367            NaN            NaN   \n",
       "14417   Richards   2017-10-31    368            NaN            NaN   \n",
       "14418   Richards   2017-10-31    369            NaN            NaN   \n",
       "14419   Richards   2017-10-31    370            NaN            NaN   \n",
       "\n",
       "       active_trials  gocue  stim_onset  feedback_type  feedback_time  \n",
       "254            False    NaN         0.5            NaN            NaN  \n",
       "255            False    NaN         0.5            NaN            NaN  \n",
       "256            False    NaN         0.5            NaN            NaN  \n",
       "257            False    NaN         0.5            NaN            NaN  \n",
       "258            False    NaN         0.5            NaN            NaN  \n",
       "...              ...    ...         ...            ...            ...  \n",
       "14415          False    NaN         0.5            NaN            NaN  \n",
       "14416          False    NaN         0.5            NaN            NaN  \n",
       "14417          False    NaN         0.5            NaN            NaN  \n",
       "14418          False    NaN         0.5            NaN            NaN  \n",
       "14419          False    NaN         0.5            NaN            NaN  \n",
       "\n",
       "[4370 rows x 10 columns]"
      ]
     },
     "execution_count": 19,
     "metadata": {},
     "output_type": "execute_result"
    }
   ],
   "source": [
    "df[df['active_trials'] == False]"
   ]
  },
  {
   "cell_type": "code",
   "execution_count": 20,
   "metadata": {},
   "outputs": [
    {
     "data": {
      "text/plain": [
       "mouse               0\n",
       "session_date        0\n",
       "trial               0\n",
       "response_type    4370\n",
       "response_time    4370\n",
       "active_trials       0\n",
       "gocue            4370\n",
       "stim_onset          0\n",
       "feedback_type    4370\n",
       "feedback_time    4370\n",
       "dtype: int64"
      ]
     },
     "execution_count": 20,
     "metadata": {},
     "output_type": "execute_result"
    }
   ],
   "source": [
    "df[df['active_trials'] == False].isna().sum()"
   ]
  },
  {
   "cell_type": "code",
   "execution_count": 21,
   "metadata": {},
   "outputs": [],
   "source": [
    "## Only meta data columns are filled. Might be worth it to only analyze active trials instead of passive trials"
   ]
  },
  {
   "cell_type": "code",
   "execution_count": 22,
   "metadata": {},
   "outputs": [],
   "source": [
    "df_active = df[df['active_trials'] == True]"
   ]
  },
  {
   "cell_type": "code",
   "execution_count": 23,
   "metadata": {},
   "outputs": [
    {
     "data": {
      "text/html": [
       "<div>\n",
       "<style scoped>\n",
       "    .dataframe tbody tr th:only-of-type {\n",
       "        vertical-align: middle;\n",
       "    }\n",
       "\n",
       "    .dataframe tbody tr th {\n",
       "        vertical-align: top;\n",
       "    }\n",
       "\n",
       "    .dataframe thead th {\n",
       "        text-align: right;\n",
       "    }\n",
       "</style>\n",
       "<table border=\"1\" class=\"dataframe\">\n",
       "  <thead>\n",
       "    <tr style=\"text-align: right;\">\n",
       "      <th></th>\n",
       "      <th>mouse</th>\n",
       "      <th>session_date</th>\n",
       "      <th>trial</th>\n",
       "      <th>response_type</th>\n",
       "      <th>response_time</th>\n",
       "      <th>active_trials</th>\n",
       "      <th>gocue</th>\n",
       "      <th>stim_onset</th>\n",
       "      <th>feedback_type</th>\n",
       "      <th>feedback_time</th>\n",
       "    </tr>\n",
       "  </thead>\n",
       "  <tbody>\n",
       "    <tr>\n",
       "      <th>0</th>\n",
       "      <td>Forssmann</td>\n",
       "      <td>2017-11-02</td>\n",
       "      <td>1</td>\n",
       "      <td>-1.0</td>\n",
       "      <td>0.784573</td>\n",
       "      <td>True</td>\n",
       "      <td>0.582163</td>\n",
       "      <td>0.5</td>\n",
       "      <td>1.0</td>\n",
       "      <td>0.827766</td>\n",
       "    </tr>\n",
       "    <tr>\n",
       "      <th>1</th>\n",
       "      <td>Forssmann</td>\n",
       "      <td>2017-11-02</td>\n",
       "      <td>2</td>\n",
       "      <td>0.0</td>\n",
       "      <td>2.288648</td>\n",
       "      <td>True</td>\n",
       "      <td>0.484221</td>\n",
       "      <td>0.5</td>\n",
       "      <td>1.0</td>\n",
       "      <td>2.320245</td>\n",
       "    </tr>\n",
       "    <tr>\n",
       "      <th>2</th>\n",
       "      <td>Forssmann</td>\n",
       "      <td>2017-11-02</td>\n",
       "      <td>3</td>\n",
       "      <td>-1.0</td>\n",
       "      <td>1.358262</td>\n",
       "      <td>True</td>\n",
       "      <td>0.688418</td>\n",
       "      <td>0.5</td>\n",
       "      <td>-1.0</td>\n",
       "      <td>1.358262</td>\n",
       "    </tr>\n",
       "    <tr>\n",
       "      <th>3</th>\n",
       "      <td>Forssmann</td>\n",
       "      <td>2017-11-02</td>\n",
       "      <td>4</td>\n",
       "      <td>1.0</td>\n",
       "      <td>0.862720</td>\n",
       "      <td>True</td>\n",
       "      <td>0.628084</td>\n",
       "      <td>0.5</td>\n",
       "      <td>-1.0</td>\n",
       "      <td>0.862720</td>\n",
       "    </tr>\n",
       "    <tr>\n",
       "      <th>4</th>\n",
       "      <td>Forssmann</td>\n",
       "      <td>2017-11-02</td>\n",
       "      <td>5</td>\n",
       "      <td>0.0</td>\n",
       "      <td>2.554045</td>\n",
       "      <td>True</td>\n",
       "      <td>0.748259</td>\n",
       "      <td>0.5</td>\n",
       "      <td>1.0</td>\n",
       "      <td>2.587083</td>\n",
       "    </tr>\n",
       "    <tr>\n",
       "      <th>...</th>\n",
       "      <td>...</td>\n",
       "      <td>...</td>\n",
       "      <td>...</td>\n",
       "      <td>...</td>\n",
       "      <td>...</td>\n",
       "      <td>...</td>\n",
       "      <td>...</td>\n",
       "      <td>...</td>\n",
       "      <td>...</td>\n",
       "      <td>...</td>\n",
       "    </tr>\n",
       "    <tr>\n",
       "      <th>14305</th>\n",
       "      <td>Richards</td>\n",
       "      <td>2017-10-31</td>\n",
       "      <td>256</td>\n",
       "      <td>0.0</td>\n",
       "      <td>2.025137</td>\n",
       "      <td>True</td>\n",
       "      <td>0.520233</td>\n",
       "      <td>0.5</td>\n",
       "      <td>-1.0</td>\n",
       "      <td>2.025137</td>\n",
       "    </tr>\n",
       "    <tr>\n",
       "      <th>14306</th>\n",
       "      <td>Richards</td>\n",
       "      <td>2017-10-31</td>\n",
       "      <td>257</td>\n",
       "      <td>0.0</td>\n",
       "      <td>1.912372</td>\n",
       "      <td>True</td>\n",
       "      <td>0.410969</td>\n",
       "      <td>0.5</td>\n",
       "      <td>-1.0</td>\n",
       "      <td>1.912372</td>\n",
       "    </tr>\n",
       "    <tr>\n",
       "      <th>14307</th>\n",
       "      <td>Richards</td>\n",
       "      <td>2017-10-31</td>\n",
       "      <td>258</td>\n",
       "      <td>0.0</td>\n",
       "      <td>1.942127</td>\n",
       "      <td>True</td>\n",
       "      <td>0.440441</td>\n",
       "      <td>0.5</td>\n",
       "      <td>-1.0</td>\n",
       "      <td>1.942127</td>\n",
       "    </tr>\n",
       "    <tr>\n",
       "      <th>14308</th>\n",
       "      <td>Richards</td>\n",
       "      <td>2017-10-31</td>\n",
       "      <td>259</td>\n",
       "      <td>0.0</td>\n",
       "      <td>1.930988</td>\n",
       "      <td>True</td>\n",
       "      <td>0.425803</td>\n",
       "      <td>0.5</td>\n",
       "      <td>-1.0</td>\n",
       "      <td>1.930988</td>\n",
       "    </tr>\n",
       "    <tr>\n",
       "      <th>14309</th>\n",
       "      <td>Richards</td>\n",
       "      <td>2017-10-31</td>\n",
       "      <td>260</td>\n",
       "      <td>0.0</td>\n",
       "      <td>2.122097</td>\n",
       "      <td>True</td>\n",
       "      <td>0.619897</td>\n",
       "      <td>0.5</td>\n",
       "      <td>-1.0</td>\n",
       "      <td>2.122097</td>\n",
       "    </tr>\n",
       "  </tbody>\n",
       "</table>\n",
       "<p>10050 rows × 10 columns</p>\n",
       "</div>"
      ],
      "text/plain": [
       "           mouse session_date  trial  response_type  response_time  \\\n",
       "0      Forssmann   2017-11-02      1           -1.0       0.784573   \n",
       "1      Forssmann   2017-11-02      2            0.0       2.288648   \n",
       "2      Forssmann   2017-11-02      3           -1.0       1.358262   \n",
       "3      Forssmann   2017-11-02      4            1.0       0.862720   \n",
       "4      Forssmann   2017-11-02      5            0.0       2.554045   \n",
       "...          ...          ...    ...            ...            ...   \n",
       "14305   Richards   2017-10-31    256            0.0       2.025137   \n",
       "14306   Richards   2017-10-31    257            0.0       1.912372   \n",
       "14307   Richards   2017-10-31    258            0.0       1.942127   \n",
       "14308   Richards   2017-10-31    259            0.0       1.930988   \n",
       "14309   Richards   2017-10-31    260            0.0       2.122097   \n",
       "\n",
       "       active_trials     gocue  stim_onset  feedback_type  feedback_time  \n",
       "0               True  0.582163         0.5            1.0       0.827766  \n",
       "1               True  0.484221         0.5            1.0       2.320245  \n",
       "2               True  0.688418         0.5           -1.0       1.358262  \n",
       "3               True  0.628084         0.5           -1.0       0.862720  \n",
       "4               True  0.748259         0.5            1.0       2.587083  \n",
       "...              ...       ...         ...            ...            ...  \n",
       "14305           True  0.520233         0.5           -1.0       2.025137  \n",
       "14306           True  0.410969         0.5           -1.0       1.912372  \n",
       "14307           True  0.440441         0.5           -1.0       1.942127  \n",
       "14308           True  0.425803         0.5           -1.0       1.930988  \n",
       "14309           True  0.619897         0.5           -1.0       2.122097  \n",
       "\n",
       "[10050 rows x 10 columns]"
      ]
     },
     "execution_count": 23,
     "metadata": {},
     "output_type": "execute_result"
    }
   ],
   "source": [
    "df_active"
   ]
  },
  {
   "cell_type": "code",
   "execution_count": 24,
   "metadata": {},
   "outputs": [],
   "source": [
    "# Are there any nan values in active trials?"
   ]
  },
  {
   "cell_type": "code",
   "execution_count": 25,
   "metadata": {},
   "outputs": [
    {
     "data": {
      "text/plain": [
       "mouse            0\n",
       "session_date     0\n",
       "trial            0\n",
       "response_type    0\n",
       "response_time    0\n",
       "active_trials    0\n",
       "gocue            0\n",
       "stim_onset       0\n",
       "feedback_type    0\n",
       "feedback_time    0\n",
       "dtype: int64"
      ]
     },
     "execution_count": 25,
     "metadata": {},
     "output_type": "execute_result"
    }
   ],
   "source": [
    "df_active.isna().sum()"
   ]
  },
  {
   "cell_type": "code",
   "execution_count": 26,
   "metadata": {},
   "outputs": [],
   "source": [
    "# No nan values! "
   ]
  },
  {
   "cell_type": "code",
   "execution_count": 27,
   "metadata": {},
   "outputs": [],
   "source": [
    "# How many trials including all mice?"
   ]
  },
  {
   "cell_type": "code",
   "execution_count": 28,
   "metadata": {},
   "outputs": [
    {
     "data": {
      "text/plain": [
       "(1, 447)"
      ]
     },
     "execution_count": 28,
     "metadata": {},
     "output_type": "execute_result"
    }
   ],
   "source": [
    "df_active['trial'].min(),df_active['trial'].max()"
   ]
  },
  {
   "cell_type": "code",
   "execution_count": 29,
   "metadata": {},
   "outputs": [],
   "source": [
    "## 10050 rows but trial numbers between 1 and 447??? Are there repeating trial numbers?"
   ]
  },
  {
   "cell_type": "code",
   "execution_count": 30,
   "metadata": {},
   "outputs": [
    {
     "data": {
      "text/plain": [
       "array([  1,   2,   3,   4,   5,   6,   7,   8,   9,  10,  11,  12,  13,\n",
       "        14,  15,  16,  17,  18,  19,  20,  21,  22,  23,  24,  25,  26,\n",
       "        27,  28,  29,  30,  31,  32,  33,  34,  35,  36,  37,  38,  39,\n",
       "        40,  41,  42,  43,  44,  45,  46,  47,  48,  49,  50,  51,  52,\n",
       "        53,  54,  55,  56,  57,  58,  59,  60,  61,  62,  63,  64,  65,\n",
       "        66,  67,  68,  69,  70,  71,  72,  73,  74,  75,  76,  77,  78,\n",
       "        79,  80,  81,  82,  83,  84,  85,  86,  87,  88,  89,  90,  91,\n",
       "        92,  93,  94,  95,  96,  97,  98,  99, 100, 101, 102, 103, 104,\n",
       "       105, 106, 107, 108, 109, 110, 111, 112, 113, 114, 115, 116, 117,\n",
       "       118, 119, 120, 121, 122, 123, 124, 125, 126, 127, 128, 129, 130,\n",
       "       131, 132, 133, 134, 135, 136, 137, 138, 139, 140, 141, 142, 143,\n",
       "       144, 145, 146, 147, 148, 149, 150, 151, 152, 153, 154, 155, 156,\n",
       "       157, 158, 159, 160, 161, 162, 163, 164, 165, 166, 167, 168, 169,\n",
       "       170, 171, 172, 173, 174, 175, 176, 177, 178, 179, 180, 181, 182,\n",
       "       183, 184, 185, 186, 187, 188, 189, 190, 191, 192, 193, 194, 195,\n",
       "       196, 197, 198, 199, 200, 201, 202, 203, 204, 205, 206, 207, 208,\n",
       "       209, 210, 211, 212, 213, 214, 215, 216, 217, 218, 219, 220, 221,\n",
       "       222, 223, 224, 225, 226, 227, 228, 229, 230, 231, 232, 233, 234,\n",
       "       235, 236, 237, 238, 239, 240, 241, 242, 243, 244, 245, 246, 247,\n",
       "       248, 249, 250, 251, 252, 253, 254, 255, 256, 257, 258, 259, 260,\n",
       "       261, 262, 263, 264, 265, 266, 267, 268, 269, 270, 271, 272, 273,\n",
       "       274, 275, 276, 277, 278, 279, 280, 281, 282, 283, 284, 285, 286,\n",
       "       287, 288, 289, 290, 291, 292, 293, 294, 295, 296, 297, 298, 299,\n",
       "       300, 301, 302, 303, 304, 305, 306, 307, 308, 309, 310, 311, 312,\n",
       "       313, 314, 315, 316, 317, 318, 319, 320, 321, 322, 323, 324, 325,\n",
       "       326, 327, 328, 329, 330, 331, 332, 333, 334, 335, 336, 337, 338,\n",
       "       339, 340, 341, 342, 343, 344, 345, 346, 347, 348, 349, 350, 351,\n",
       "       352, 353, 354, 355, 356, 357, 358, 359, 360, 361, 362, 363, 364,\n",
       "       365, 366, 367, 368, 369, 370, 371, 372, 373, 374, 375, 376, 377,\n",
       "       378, 379, 380, 381, 382, 383, 384, 385, 386, 387, 388, 389, 390,\n",
       "       391, 392, 393, 394, 395, 396, 397, 398, 399, 400, 401, 402, 403,\n",
       "       404, 405, 406, 407, 408, 409, 410, 411, 412, 413, 414, 415, 416,\n",
       "       417, 418, 419, 420, 421, 422, 423, 424, 425, 426, 427, 428, 429,\n",
       "       430, 431, 432, 433, 434, 435, 436, 437, 438, 439, 440, 441, 442,\n",
       "       443, 444, 445, 446, 447])"
      ]
     },
     "execution_count": 30,
     "metadata": {},
     "output_type": "execute_result"
    }
   ],
   "source": [
    "df_active['trial'].unique()"
   ]
  },
  {
   "cell_type": "code",
   "execution_count": 31,
   "metadata": {},
   "outputs": [
    {
     "data": {
      "text/plain": [
       "1      39\n",
       "80     39\n",
       "93     39\n",
       "92     39\n",
       "91     39\n",
       "       ..\n",
       "421     2\n",
       "422     2\n",
       "445     1\n",
       "446     1\n",
       "447     1\n",
       "Name: trial, Length: 447, dtype: int64"
      ]
     },
     "execution_count": 31,
     "metadata": {},
     "output_type": "execute_result"
    }
   ],
   "source": [
    "df_active['trial'].value_counts()"
   ]
  },
  {
   "cell_type": "code",
   "execution_count": 32,
   "metadata": {},
   "outputs": [],
   "source": [
    "## The clue here is that there are 39 repetitions of trial number 1 and there are 39 files.So each file can have trial number starting from 1. Therefore, a different strategy has to be employed to find out total number of trials "
   ]
  },
  {
   "cell_type": "code",
   "execution_count": 33,
   "metadata": {},
   "outputs": [
    {
     "data": {
      "text/plain": [
       "10050"
      ]
     },
     "execution_count": 33,
     "metadata": {},
     "output_type": "execute_result"
    }
   ],
   "source": [
    "# simplest solution\n",
    "len(df_active) # could have done this before!"
   ]
  },
  {
   "cell_type": "code",
   "execution_count": 34,
   "metadata": {},
   "outputs": [],
   "source": [
    "# Let's look at all the columns to see which to explore next"
   ]
  },
  {
   "cell_type": "code",
   "execution_count": 35,
   "metadata": {},
   "outputs": [
    {
     "data": {
      "text/plain": [
       "Index(['mouse', 'session_date', 'trial', 'response_type', 'response_time',\n",
       "       'active_trials', 'gocue', 'stim_onset', 'feedback_type',\n",
       "       'feedback_time'],\n",
       "      dtype='object')"
      ]
     },
     "execution_count": 35,
     "metadata": {},
     "output_type": "execute_result"
    }
   ],
   "source": [
    "df_active.columns"
   ]
  },
  {
   "cell_type": "code",
   "execution_count": 36,
   "metadata": {},
   "outputs": [],
   "source": [
    "# mouse column seems interesting"
   ]
  },
  {
   "cell_type": "code",
   "execution_count": 37,
   "metadata": {},
   "outputs": [],
   "source": [
    "# How many mice were used in this experiment?"
   ]
  },
  {
   "cell_type": "code",
   "execution_count": 38,
   "metadata": {},
   "outputs": [
    {
     "data": {
      "text/plain": [
       "10"
      ]
     },
     "execution_count": 38,
     "metadata": {},
     "output_type": "execute_result"
    }
   ],
   "source": [
    "len(df_active.mouse.unique())"
   ]
  },
  {
   "cell_type": "code",
   "execution_count": 39,
   "metadata": {},
   "outputs": [],
   "source": [
    "## 10 mice were used in this experment"
   ]
  },
  {
   "cell_type": "code",
   "execution_count": 40,
   "metadata": {},
   "outputs": [],
   "source": [
    "# What are their names?"
   ]
  },
  {
   "cell_type": "code",
   "execution_count": 41,
   "metadata": {},
   "outputs": [
    {
     "data": {
      "text/plain": [
       "array(['Forssmann', 'Lederberg', 'Tatum', 'Cori', 'Hench', 'Moniz',\n",
       "       'Radnitz', 'Richards', 'Muller', 'Theiler'], dtype=object)"
      ]
     },
     "execution_count": 41,
     "metadata": {},
     "output_type": "execute_result"
    }
   ],
   "source": [
    "df_active.mouse.unique()"
   ]
  },
  {
   "cell_type": "code",
   "execution_count": 42,
   "metadata": {},
   "outputs": [],
   "source": [
    "# How many trials did each of them take part in?"
   ]
  },
  {
   "cell_type": "code",
   "execution_count": 43,
   "metadata": {},
   "outputs": [
    {
     "data": {
      "text/plain": [
       "Lederberg    2132\n",
       "Hench        1411\n",
       "Richards     1127\n",
       "Forssmann    1045\n",
       "Radnitz       962\n",
       "Tatum         949\n",
       "Muller        782\n",
       "Cori          693\n",
       "Moniz         606\n",
       "Theiler       343\n",
       "Name: mouse, dtype: int64"
      ]
     },
     "execution_count": 43,
     "metadata": {},
     "output_type": "execute_result"
    }
   ],
   "source": [
    "df_active.mouse.value_counts()"
   ]
  },
  {
   "cell_type": "code",
   "execution_count": 44,
   "metadata": {},
   "outputs": [
    {
     "data": {
      "text/plain": [
       "10050"
      ]
     },
     "execution_count": 44,
     "metadata": {},
     "output_type": "execute_result"
    }
   ],
   "source": [
    "# Sanity check: The sum of all these trials should equal to 10050\n",
    "df_active.mouse.value_counts().sum()"
   ]
  },
  {
   "cell_type": "code",
   "execution_count": 45,
   "metadata": {},
   "outputs": [],
   "source": [
    "# Between which two dates did the experiment occur?"
   ]
  },
  {
   "cell_type": "code",
   "execution_count": 46,
   "metadata": {},
   "outputs": [
    {
     "data": {
      "text/plain": [
       "('2016-12-14', '2017-12-11')"
      ]
     },
     "execution_count": 46,
     "metadata": {},
     "output_type": "execute_result"
    }
   ],
   "source": [
    "df_active.session_date.min(), df_active.session_date.max()"
   ]
  },
  {
   "cell_type": "code",
   "execution_count": 47,
   "metadata": {},
   "outputs": [],
   "source": [
    "# Is this right?"
   ]
  },
  {
   "cell_type": "code",
   "execution_count": 48,
   "metadata": {},
   "outputs": [
    {
     "data": {
      "text/plain": [
       "2017-12-06    611\n",
       "2017-12-08    585\n",
       "2017-11-02    550\n",
       "2017-12-07    526\n",
       "2017-12-09    479\n",
       "2017-06-17    447\n",
       "2017-01-07    444\n",
       "2017-11-01    440\n",
       "2017-01-08    412\n",
       "2017-06-16    372\n",
       "2017-01-09    365\n",
       "2017-10-11    343\n",
       "2017-06-18    342\n",
       "2017-12-05    340\n",
       "2017-12-11    316\n",
       "2017-11-04    290\n",
       "2017-10-31    260\n",
       "2017-01-10    253\n",
       "2017-11-05    252\n",
       "2016-12-17    251\n",
       "2017-06-15    250\n",
       "2017-05-15    247\n",
       "2017-10-30    237\n",
       "2017-05-16    235\n",
       "2016-12-18    228\n",
       "2017-12-10    224\n",
       "2016-12-14    214\n",
       "2017-10-29    143\n",
       "2017-01-11    142\n",
       "2017-01-12    128\n",
       "2017-05-18    124\n",
       "Name: session_date, dtype: int64"
      ]
     },
     "execution_count": 48,
     "metadata": {},
     "output_type": "execute_result"
    }
   ],
   "source": [
    "df_active.session_date.value_counts(sort=True) # This does not sort dates. It sorts the value counts"
   ]
  },
  {
   "cell_type": "code",
   "execution_count": 49,
   "metadata": {},
   "outputs": [
    {
     "name": "stderr",
     "output_type": "stream",
     "text": [
      "<ipython-input-49-4392e7c18383>:1: SettingWithCopyWarning: \n",
      "A value is trying to be set on a copy of a slice from a DataFrame.\n",
      "Try using .loc[row_indexer,col_indexer] = value instead\n",
      "\n",
      "See the caveats in the documentation: https://pandas.pydata.org/pandas-docs/stable/user_guide/indexing.html#returning-a-view-versus-a-copy\n",
      "  df_active['session_date'] = pd.to_datetime(df_active['session_date'])\n"
     ]
    }
   ],
   "source": [
    "df_active['session_date'] = pd.to_datetime(df_active['session_date'])"
   ]
  },
  {
   "cell_type": "code",
   "execution_count": 50,
   "metadata": {},
   "outputs": [],
   "source": [
    "# Suppress the warning\n",
    "# df_active.loc[:, 'session_date'] = pd.to_datetime(df_active['session_date'])"
   ]
  },
  {
   "cell_type": "code",
   "execution_count": 51,
   "metadata": {},
   "outputs": [
    {
     "data": {
      "text/plain": [
       "2016-12-14    214\n",
       "2016-12-17    251\n",
       "2016-12-18    228\n",
       "2017-01-07    444\n",
       "2017-01-08    412\n",
       "2017-01-09    365\n",
       "2017-01-10    253\n",
       "2017-01-11    142\n",
       "2017-01-12    128\n",
       "2017-05-15    247\n",
       "2017-05-16    235\n",
       "2017-05-18    124\n",
       "2017-06-15    250\n",
       "2017-06-16    372\n",
       "2017-06-17    447\n",
       "2017-06-18    342\n",
       "2017-10-11    343\n",
       "2017-10-29    143\n",
       "2017-10-30    237\n",
       "2017-10-31    260\n",
       "2017-11-01    440\n",
       "2017-11-02    550\n",
       "2017-11-04    290\n",
       "2017-11-05    252\n",
       "2017-12-05    340\n",
       "2017-12-06    611\n",
       "2017-12-07    526\n",
       "2017-12-08    585\n",
       "2017-12-09    479\n",
       "2017-12-10    224\n",
       "2017-12-11    316\n",
       "Name: session_date, dtype: int64"
      ]
     },
     "execution_count": 51,
     "metadata": {},
     "output_type": "execute_result"
    }
   ],
   "source": [
    "df_active['session_date'].value_counts().sort_index(ascending=True)"
   ]
  },
  {
   "cell_type": "code",
   "execution_count": 52,
   "metadata": {},
   "outputs": [],
   "source": [
    "## The answer was right! Almost a year of experiment"
   ]
  },
  {
   "cell_type": "code",
   "execution_count": 53,
   "metadata": {},
   "outputs": [],
   "source": [
    "# Let's look into response_type"
   ]
  },
  {
   "cell_type": "code",
   "execution_count": 54,
   "metadata": {},
   "outputs": [
    {
     "data": {
      "text/plain": [
       "-1.0    3373\n",
       " 1.0    3372\n",
       " 0.0    3305\n",
       "Name: response_type, dtype: int64"
      ]
     },
     "execution_count": 54,
     "metadata": {},
     "output_type": "execute_result"
    }
   ],
   "source": [
    "df_active.response_type.value_counts()"
   ]
  },
  {
   "cell_type": "code",
   "execution_count": 55,
   "metadata": {},
   "outputs": [],
   "source": [
    "## Three values \n",
    "## -1 is turn left\n",
    "## 1 is turn right\n",
    "## 0 is nogo"
   ]
  },
  {
   "cell_type": "code",
   "execution_count": 56,
   "metadata": {},
   "outputs": [],
   "source": [
    "# What about response_time?"
   ]
  },
  {
   "cell_type": "code",
   "execution_count": 57,
   "metadata": {},
   "outputs": [
    {
     "data": {
      "text/plain": [
       "0.784573    1\n",
       "1.151295    1\n",
       "0.784323    1\n",
       "2.344826    1\n",
       "2.455403    1\n",
       "           ..\n",
       "0.850915    1\n",
       "2.152968    1\n",
       "1.051811    1\n",
       "0.784827    1\n",
       "2.122097    1\n",
       "Name: response_time, Length: 10050, dtype: int64"
      ]
     },
     "execution_count": 57,
     "metadata": {},
     "output_type": "execute_result"
    }
   ],
   "source": [
    "df_active.response_time.value_counts()"
   ]
  },
  {
   "cell_type": "code",
   "execution_count": 58,
   "metadata": {},
   "outputs": [],
   "source": [
    "## Seems like it can be different for every trial. Continuous variable"
   ]
  },
  {
   "cell_type": "code",
   "execution_count": 59,
   "metadata": {},
   "outputs": [],
   "source": [
    "# What are some of the statistics of this feature?"
   ]
  },
  {
   "cell_type": "code",
   "execution_count": 60,
   "metadata": {},
   "outputs": [
    {
     "data": {
      "text/plain": [
       "count    10050.000000\n",
       "mean         1.422832\n",
       "std          0.661416\n",
       "min          0.479414\n",
       "25%          0.842289\n",
       "50%          1.183334\n",
       "75%          2.102538\n",
       "max          2.713576\n",
       "Name: response_time, dtype: float64"
      ]
     },
     "execution_count": 60,
     "metadata": {},
     "output_type": "execute_result"
    }
   ],
   "source": [
    "df_active['response_time'].describe()"
   ]
  },
  {
   "cell_type": "code",
   "execution_count": 61,
   "metadata": {},
   "outputs": [],
   "source": [
    "# Too many decimal places. Let's round it to two decimal places"
   ]
  },
  {
   "cell_type": "code",
   "execution_count": 62,
   "metadata": {},
   "outputs": [
    {
     "data": {
      "text/plain": [
       "count    10050.00\n",
       "mean         1.42\n",
       "std          0.66\n",
       "min          0.48\n",
       "25%          0.84\n",
       "50%          1.18\n",
       "75%          2.10\n",
       "max          2.71\n",
       "Name: response_time, dtype: float64"
      ]
     },
     "execution_count": 62,
     "metadata": {},
     "output_type": "execute_result"
    }
   ],
   "source": [
    "df_active['response_time'].describe().round(2)"
   ]
  },
  {
   "cell_type": "code",
   "execution_count": 63,
   "metadata": {},
   "outputs": [],
   "source": [
    "# How are the response_time values distributed?"
   ]
  },
  {
   "cell_type": "code",
   "execution_count": 64,
   "metadata": {},
   "outputs": [
    {
     "data": {
      "text/plain": [
       "Text(0.5, 0, 'Response time [s]')"
      ]
     },
     "execution_count": 64,
     "metadata": {},
     "output_type": "execute_result"
    },
    {
     "data": {
      "image/png": "[encoded data removed]",
      "text/plain": [
       "<Figure size 432x288 with 1 Axes>"
      ]
     },
     "metadata": {
      "needs_background": "light"
     },
     "output_type": "display_data"
    }
   ],
   "source": [
    "df_active['response_time'].plot.hist()\n",
    "plt.xlabel('Response time [s]')"
   ]
  },
  {
   "cell_type": "code",
   "execution_count": 65,
   "metadata": {},
   "outputs": [],
   "source": [
    "## response_time values follow a bimodal distribution where one peak is around 1.0s and the other peak is around 2.0s"
   ]
  },
  {
   "cell_type": "code",
   "execution_count": 66,
   "metadata": {},
   "outputs": [],
   "source": [
    "# What about the gocue values?"
   ]
  },
  {
   "cell_type": "code",
   "execution_count": 67,
   "metadata": {},
   "outputs": [
    {
     "data": {
      "text/plain": [
       "0.885614    3\n",
       "0.654408    3\n",
       "0.959217    3\n",
       "0.697608    2\n",
       "0.766009    2\n",
       "           ..\n",
       "1.082412    1\n",
       "0.664407    1\n",
       "0.734408    1\n",
       "0.833609    1\n",
       "0.619897    1\n",
       "Name: gocue, Length: 9941, dtype: int64"
      ]
     },
     "execution_count": 67,
     "metadata": {},
     "output_type": "execute_result"
    }
   ],
   "source": [
    "df_active.gocue.value_counts()"
   ]
  },
  {
   "cell_type": "code",
   "execution_count": 68,
   "metadata": {},
   "outputs": [],
   "source": [
    "## Seems like continuous variable too"
   ]
  },
  {
   "cell_type": "code",
   "execution_count": 69,
   "metadata": {},
   "outputs": [],
   "source": [
    "# What are some of the statistics of this feature?"
   ]
  },
  {
   "cell_type": "code",
   "execution_count": 70,
   "metadata": {},
   "outputs": [
    {
     "data": {
      "text/plain": [
       "count    10050.00\n",
       "mean         0.71\n",
       "std          0.20\n",
       "min          0.40\n",
       "25%          0.55\n",
       "50%          0.68\n",
       "75%          0.80\n",
       "max          1.20\n",
       "Name: gocue, dtype: float64"
      ]
     },
     "execution_count": 70,
     "metadata": {},
     "output_type": "execute_result"
    }
   ],
   "source": [
    "df_active['gocue'].describe().round(2)"
   ]
  },
  {
   "cell_type": "code",
   "execution_count": 71,
   "metadata": {},
   "outputs": [],
   "source": [
    "## Gocue times can range between 0.4s to 1.2s! Sometimes, before the stimulus onset which is 0.5s"
   ]
  },
  {
   "cell_type": "code",
   "execution_count": 72,
   "metadata": {},
   "outputs": [],
   "source": [
    "# How many trials was the gocue time before stimulus onset?"
   ]
  },
  {
   "cell_type": "code",
   "execution_count": 73,
   "metadata": {},
   "outputs": [
    {
     "data": {
      "text/plain": [
       "1526"
      ]
     },
     "execution_count": 73,
     "metadata": {},
     "output_type": "execute_result"
    }
   ],
   "source": [
    "len(df_active[df_active.gocue < 0.5])"
   ]
  },
  {
   "cell_type": "code",
   "execution_count": 74,
   "metadata": {},
   "outputs": [],
   "source": [
    "## There were 1526 trials where the gocue time was prior to the stimulus onset! 15% of the trials"
   ]
  },
  {
   "cell_type": "code",
   "execution_count": 75,
   "metadata": {},
   "outputs": [],
   "source": [
    "# How are the gocue values distributed?"
   ]
  },
  {
   "cell_type": "code",
   "execution_count": 76,
   "metadata": {},
   "outputs": [
    {
     "data": {
      "text/plain": [
       "Text(0.5, 0, 'Gocue time [s]')"
      ]
     },
     "execution_count": 76,
     "metadata": {},
     "output_type": "execute_result"
    },
    {
     "data": {
      "image/png": "[encoded data removed]",
      "text/plain": [
       "<Figure size 432x288 with 1 Axes>"
      ]
     },
     "metadata": {
      "needs_background": "light"
     },
     "output_type": "display_data"
    }
   ],
   "source": [
    "df_active['gocue'].plot.hist()\n",
    "plt.xlabel('Gocue time [s]')"
   ]
  },
  {
   "cell_type": "code",
   "execution_count": 77,
   "metadata": {},
   "outputs": [],
   "source": [
    "## This is definitely a skewed distribution. Specifically, positively skewed distribution."
   ]
  },
  {
   "cell_type": "code",
   "execution_count": 78,
   "metadata": {},
   "outputs": [],
   "source": [
    "# Let's look at feedbacks"
   ]
  },
  {
   "cell_type": "code",
   "execution_count": 79,
   "metadata": {},
   "outputs": [],
   "source": [
    "# How many positive and negative feedbacks in all the trials?"
   ]
  },
  {
   "cell_type": "code",
   "execution_count": 80,
   "metadata": {},
   "outputs": [
    {
     "data": {
      "text/plain": [
       " 1.0    6923\n",
       "-1.0    3127\n",
       "Name: feedback_type, dtype: int64"
      ]
     },
     "execution_count": 80,
     "metadata": {},
     "output_type": "execute_result"
    }
   ],
   "source": [
    "df_active.feedback_type.value_counts()"
   ]
  },
  {
   "cell_type": "code",
   "execution_count": 81,
   "metadata": {},
   "outputs": [],
   "source": [
    "# Plot them as bat plot"
   ]
  },
  {
   "cell_type": "code",
   "execution_count": 84,
   "metadata": {},
   "outputs": [
    {
     "data": {
      "text/plain": [
       "Text(0, 0.5, 'Counts')"
      ]
     },
     "execution_count": 84,
     "metadata": {},
     "output_type": "execute_result"
    },
    {
     "data": {
      "image/png": "[encoded data removed]",
      "text/plain": [
       "<Figure size 432x288 with 1 Axes>"
      ]
     },
     "metadata": {
      "needs_background": "light"
     },
     "output_type": "display_data"
    }
   ],
   "source": [
    "df_active.feedback_type.value_counts().plot.bar()\n",
    "plt.xlabel('Feedback')\n",
    "plt.ylabel('Counts')"
   ]
  },
  {
   "cell_type": "code",
   "execution_count": 85,
   "metadata": {},
   "outputs": [],
   "source": [
    "# What about the feedback time?"
   ]
  },
  {
   "cell_type": "code",
   "execution_count": 86,
   "metadata": {},
   "outputs": [
    {
     "data": {
      "text/plain": [
       "0.854810    3\n",
       "1.187614    3\n",
       "1.322423    3\n",
       "0.871615    2\n",
       "0.955615    2\n",
       "           ..\n",
       "0.970811    1\n",
       "1.289215    1\n",
       "1.221214    1\n",
       "1.476017    1\n",
       "2.122097    1\n",
       "Name: feedback_time, Length: 9982, dtype: int64"
      ]
     },
     "execution_count": 86,
     "metadata": {},
     "output_type": "execute_result"
    }
   ],
   "source": [
    "df_active.feedback_time.value_counts()"
   ]
  },
  {
   "cell_type": "code",
   "execution_count": 87,
   "metadata": {},
   "outputs": [],
   "source": [
    "## Continuous variable"
   ]
  },
  {
   "cell_type": "code",
   "execution_count": 88,
   "metadata": {},
   "outputs": [
    {
     "data": {
      "text/plain": [
       "count    10050.000000\n",
       "mean         1.449457\n",
       "std          0.656565\n",
       "min          0.494678\n",
       "25%          0.873802\n",
       "50%          1.205223\n",
       "75%          2.124845\n",
       "max          2.738448\n",
       "Name: feedback_time, dtype: float64"
      ]
     },
     "execution_count": 88,
     "metadata": {},
     "output_type": "execute_result"
    }
   ],
   "source": [
    "df_active.feedback_time.describe()"
   ]
  },
  {
   "cell_type": "code",
   "execution_count": 92,
   "metadata": {},
   "outputs": [
    {
     "data": {
      "text/plain": [
       "<AxesSubplot:ylabel='Frequency'>"
      ]
     },
     "execution_count": 92,
     "metadata": {},
     "output_type": "execute_result"
    },
    {
     "data": {
      "image/png": "[encoded data removed]",
      "text/plain": [
       "<Figure size 432x288 with 1 Axes>"
      ]
     },
     "metadata": {
      "needs_background": "light"
     },
     "output_type": "display_data"
    }
   ],
   "source": [
    "df_active.feedback_time.plot.hist()"
   ]
  },
  {
   "cell_type": "code",
   "execution_count": 95,
   "metadata": {},
   "outputs": [],
   "source": [
    "## Hmm, why bimodal distribution?"
   ]
  },
  {
   "cell_type": "code",
   "execution_count": 193,
   "metadata": {},
   "outputs": [
    {
     "data": {
      "text/plain": [
       "<seaborn.axisgrid.FacetGrid at 0x7fa0806559a0>"
      ]
     },
     "execution_count": 193,
     "metadata": {},
     "output_type": "execute_result"
    },
    {
     "data": {
      "image/png": "[encoded data removed]",
      "text/plain": [
       "<Figure size 432x216 with 2 Axes>"
      ]
     },
     "metadata": {
      "needs_background": "light"
     },
     "output_type": "display_data"
    }
   ],
   "source": [
    "g = sns.FacetGrid(df_active, col=\"feedback_type\", height=3)\n",
    "g.map(sns.histplot, \"feedback_time\", kde=True)"
   ]
  },
  {
   "cell_type": "code",
   "execution_count": 96,
   "metadata": {},
   "outputs": [],
   "source": [
    "## No change in the shape of the distribution. Could it be due to response_type?"
   ]
  },
  {
   "cell_type": "code",
   "execution_count": 97,
   "metadata": {},
   "outputs": [
    {
     "data": {
      "text/plain": [
       "<seaborn.axisgrid.FacetGrid at 0x7fa0896ebb20>"
      ]
     },
     "execution_count": 97,
     "metadata": {},
     "output_type": "execute_result"
    },
    {
     "data": {
      "image/png": "[encoded data removed]",
      "text/plain": [
       "<Figure size 864x216 with 3 Axes>"
      ]
     },
     "metadata": {
      "needs_background": "light"
     },
     "output_type": "display_data"
    }
   ],
   "source": [
    "g = sns.FacetGrid(df_active, col=\"response_type\", col_wrap=4, height=3)\n",
    "g.map(sns.histplot, \"feedback_time\", kde=True)"
   ]
  },
  {
   "cell_type": "code",
   "execution_count": 98,
   "metadata": {},
   "outputs": [],
   "source": [
    "## Nogo responses were the culprit!"
   ]
  },
  {
   "cell_type": "code",
   "execution_count": 103,
   "metadata": {},
   "outputs": [
    {
     "data": {
      "text/plain": [
       "count    3373.00\n",
       "mean        1.04\n",
       "std         0.36\n",
       "min         0.51\n",
       "25%         0.77\n",
       "50%         0.95\n",
       "75%         1.23\n",
       "max         2.64\n",
       "Name: feedback_time, dtype: float64"
      ]
     },
     "execution_count": 103,
     "metadata": {},
     "output_type": "execute_result"
    }
   ],
   "source": [
    "df_active[df_active.response_type == -1]['feedback_time'].describe().round(2)"
   ]
  },
  {
   "cell_type": "code",
   "execution_count": 104,
   "metadata": {},
   "outputs": [
    {
     "data": {
      "text/plain": [
       "count    3372.00\n",
       "mean        1.04\n",
       "std         0.33\n",
       "min         0.49\n",
       "25%         0.82\n",
       "50%         0.98\n",
       "75%         1.20\n",
       "max         2.64\n",
       "Name: feedback_time, dtype: float64"
      ]
     },
     "execution_count": 104,
     "metadata": {},
     "output_type": "execute_result"
    }
   ],
   "source": [
    "df_active[df_active.response_type == 1]['feedback_time'].describe().round(2)"
   ]
  },
  {
   "cell_type": "code",
   "execution_count": 105,
   "metadata": {},
   "outputs": [
    {
     "data": {
      "text/plain": [
       "count    3305.00\n",
       "mean        2.28\n",
       "std         0.20\n",
       "min         1.90\n",
       "25%         2.12\n",
       "50%         2.26\n",
       "75%         2.44\n",
       "max         2.74\n",
       "Name: feedback_time, dtype: float64"
      ]
     },
     "execution_count": 105,
     "metadata": {},
     "output_type": "execute_result"
    }
   ],
   "source": [
    "df_active[df_active.response_type == 0]['feedback_time'].describe().round(2)"
   ]
  },
  {
   "cell_type": "code",
   "execution_count": 106,
   "metadata": {},
   "outputs": [],
   "source": [
    "# Is this same for response_times too?"
   ]
  },
  {
   "cell_type": "code",
   "execution_count": 107,
   "metadata": {},
   "outputs": [
    {
     "data": {
      "text/plain": [
       "<seaborn.axisgrid.FacetGrid at 0x7fa089721670>"
      ]
     },
     "execution_count": 107,
     "metadata": {},
     "output_type": "execute_result"
    },
    {
     "data": {
      "image/png": "[encoded data removed]",
      "text/plain": [
       "<Figure size 864x216 with 3 Axes>"
      ]
     },
     "metadata": {
      "needs_background": "light"
     },
     "output_type": "display_data"
    }
   ],
   "source": [
    "g = sns.FacetGrid(df_active, col=\"response_type\", col_wrap=4, height=3)\n",
    "g.map(sns.histplot, \"response_time\", kde=True)"
   ]
  },
  {
   "cell_type": "code",
   "execution_count": 108,
   "metadata": {},
   "outputs": [],
   "source": [
    "## Yep"
   ]
  },
  {
   "cell_type": "code",
   "execution_count": 109,
   "metadata": {},
   "outputs": [],
   "source": [
    "# Could the gocue times explain the skewed nature of the response_time?"
   ]
  },
  {
   "cell_type": "code",
   "execution_count": 141,
   "metadata": {},
   "outputs": [],
   "source": [
    "def plot_y_equals_x(x, **kwargs):\n",
    "    plt.plot(x, x, color='g', linestyle='--')"
   ]
  },
  {
   "cell_type": "code",
   "execution_count": 149,
   "metadata": {},
   "outputs": [
    {
     "data": {
      "text/plain": [
       "<seaborn.axisgrid.FacetGrid at 0x7fa081b85f10>"
      ]
     },
     "execution_count": 149,
     "metadata": {},
     "output_type": "execute_result"
    },
    {
     "data": {
      "image/png": "[encoded data removed]",
      "text/plain": [
       "<Figure size 864x216 with 3 Axes>"
      ]
     },
     "metadata": {
      "needs_background": "light"
     },
     "output_type": "display_data"
    }
   ],
   "source": [
    "g = sns.FacetGrid(df_active, col=\"response_type\", col_wrap=4, height=3)\n",
    "g.map(lambda x, **kwargs: plt.axhline(y=0.5, color='r', linestyle='--'), \"response_time\")\n",
    "g.map(plot_y_equals_x, \"gocue\")\n",
    "g.map(sns.scatterplot, \"gocue\", \"response_time\")"
   ]
  },
  {
   "cell_type": "code",
   "execution_count": 189,
   "metadata": {},
   "outputs": [
    {
     "data": {
      "image/png": "[encoded data removed]",
      "text/plain": [
       "<Figure size 648x432 with 6 Axes>"
      ]
     },
     "metadata": {
      "needs_background": "light"
     },
     "output_type": "display_data"
    }
   ],
   "source": [
    "g = sns.FacetGrid(df_active, col=\"response_type\", row=\"feedback_type\", height=3, legend_out=False)\n",
    "\n",
    "g.map(lambda x, **kwargs: plt.axhline(y=0.5, color='r', linestyle='--'), \"response_time\")\n",
    "g.map(plot_y_equals_x, \"gocue\")\n",
    "\n",
    "g.map(sns.scatterplot, \"gocue\", \"response_time\")\n",
    "plt.ylabel('response_time')\n",
    "for i, axes_row in enumerate(g.axes):\n",
    "    for j, axes_col in enumerate(axes_row):\n",
    "        row, col = axes_col.get_title().split('|')\n",
    "        if i == 0:\n",
    "            axes_col.set_title(col)\n",
    "        else:\n",
    "            axes_col.set_title('')\n",
    "\n",
    "        if j == 0:\n",
    "            axes_col.set_ylabel(row)\n"
   ]
  },
  {
   "cell_type": "code",
   "execution_count": 190,
   "metadata": {},
   "outputs": [],
   "source": [
    "# df_active[['response_time','gocue','feedback_type','response_type']].to_csv('densityplot.csv')"
   ]
  },
  {
   "cell_type": "markdown",
   "metadata": {},
   "source": [
    "### Conclusions"
   ]
  },
  {
   "cell_type": "markdown",
   "metadata": {},
   "source": [
    "1. 10050 active trials were conducted on 10 mice between 2016-12-14 and 2017-12-11. \n",
    "2. Stimulus onset was always the same, 0.5 second from the beginning of the experiment. \n",
    "3. Gocue times ranged from before the stimulus onset (0.4 second) upto 1.2 second."
   ]
  }
 ],
 "metadata": {
  "kernelspec": {
   "display_name": "Python 3",
   "language": "python",
   "name": "python3"
  },
  "language_info": {
   "codemirror_mode": {
    "name": "ipython",
    "version": 3
   },
   "file_extension": ".py",
   "mimetype": "text/x-python",
   "name": "python",
   "nbconvert_exporter": "python",
   "pygments_lexer": "ipython3",
   "version": "3.8.10"
  }
 },
 "nbformat": 4,
 "nbformat_minor": 2
}
