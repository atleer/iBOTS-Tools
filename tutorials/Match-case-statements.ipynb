{
 "cells": [
  {
   "cell_type": "markdown",
   "id": "ced42e3c",
   "metadata": {},
   "source": [
    "# Match-case Statements in Python\n",
    "\n",
    "match-case statements are a more concise alternative to writing large blocks of if statements. \n",
    "\n",
    "They work like so\n",
    "\n",
    "```\n",
    "match parameter:\n",
    "    case condition_A: \n",
    "        do_something()\n",
    "    case condition_B:\n",
    "        do_somethingelse()\n",
    "    case _ :\n",
    "        nothing()\n",
    "```\n",
    "\n",
    "\n",
    "Code indented under each case statement will be executed when that case is matched. \n",
    "\n",
    "The case ```_``` is run when no other cases are matched.\n",
    "\n",
    "Multiple paramters may be given, and they can be checked against separate conditions (see example below)\n"
   ]
  },
  {
   "cell_type": "markdown",
   "id": "ada4bd4c",
   "metadata": {},
   "source": [
    "## Warning\n",
    "Match-case statements were introduced in Python 3.10. To check that your Python version is later than 3.10 run"
   ]
  },
  {
   "cell_type": "code",
   "execution_count": 2,
   "id": "c0461a6b",
   "metadata": {},
   "outputs": [
    {
     "name": "stdout",
     "output_type": "stream",
     "text": [
      "Python 3.10.12\r\n"
     ]
    }
   ],
   "source": [
    "! python --version"
   ]
  },
  {
   "cell_type": "markdown",
   "id": "a8d1152f",
   "metadata": {},
   "source": [
    "# Example\n",
    "\n",
    "The family Price has 4 members:\n",
    "\n",
    "* John, 39 years old\n",
    "* Betty, 37 years old\n",
    "* Elisa, 8 years old\n",
    "* John the dog, 3 years old\n",
    "\n",
    "The match-case statement below gets the details of a family member, given their name and whether they are human or not.\n",
    "\n",
    "The values of ```name``` and ```is_human``` are checked whether they are equal to the values given in each case statement"
   ]
  },
  {
   "cell_type": "code",
   "execution_count": 26,
   "id": "5367f9cd",
   "metadata": {},
   "outputs": [],
   "source": [
    "name = 'John'\n",
    "is_human = False\n",
    "\n",
    "match name, is_human:\n",
    "    case 'John', True:\n",
    "        age = 39\n",
    "        role = 'Father'\n",
    "    case 'Betty', True:\n",
    "        age = 37\n",
    "        role = 'Mother'\n",
    "    case 'Elisa', True:\n",
    "        age = 8\n",
    "        role = 'Daughter'\n",
    "    case 'John', False:\n",
    "        age = 3 \n",
    "        role = 'Dog'"
   ]
  },
  {
   "cell_type": "markdown",
   "id": "f0b54589",
   "metadata": {},
   "source": [
    "The match-case statement is much more concise and readable that the equivalent block of if statements:"
   ]
  },
  {
   "cell_type": "code",
   "execution_count": 22,
   "id": "21dc2038",
   "metadata": {},
   "outputs": [],
   "source": [
    "if name == 'John':\n",
    "    if is_human:\n",
    "        age = 39\n",
    "        role = 'Father'\n",
    "    else:\n",
    "        age = 3 \n",
    "        role = 'Dog'\n",
    "elif name == 'Betty Price':\n",
    "    age = 37\n",
    "    role = 'Mother'\n",
    "elif name ==  'Elisa Price':\n",
    "    age = 8\n",
    "    role = 'Daughter'"
   ]
  },
  {
   "cell_type": "code",
   "execution_count": null,
   "id": "f0eab6d5",
   "metadata": {},
   "outputs": [],
   "source": []
  }
 ],
 "metadata": {
  "kernelspec": {
   "display_name": "Python 3",
   "language": "python",
   "name": "python3"
  },
  "language_info": {
   "codemirror_mode": {
    "name": "ipython",
    "version": 3
   },
   "file_extension": ".py",
   "mimetype": "text/x-python",
   "name": "python",
   "nbconvert_exporter": "python",
   "pygments_lexer": "ipython3",
   "version": "3.8.8"
  }
 },
 "nbformat": 4,
 "nbformat_minor": 5
}
