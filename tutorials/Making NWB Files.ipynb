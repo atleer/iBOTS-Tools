{
 "cells": [
  {
   "cell_type": "markdown",
   "id": "df9c464d-4686-471c-adca-ed5f8658199c",
   "metadata": {},
   "source": [
    "# Working with the NWB Format (\"Neuroscience Without Borders\")\n",
    "\n",
    "Ref: https://pynwb.readthedocs.io/en/stable/index.html"
   ]
  },
  {
   "cell_type": "code",
   "execution_count": 1,
   "id": "bc841cdd-fe44-423d-99f3-f5e768e41295",
   "metadata": {},
   "outputs": [
    {
     "name": "stdout",
     "output_type": "stream",
     "text": [
      "Collecting pynwb\n",
      "  Obtaining dependency information for pynwb from https://files.pythonhosted.org/packages/ce/3c/f2e265900fa86aadd5c111382149543c112e12c8caa4361de55db90dda37/pynwb-2.5.0-py3-none-any.whl.metadata\n",
      "  Using cached pynwb-2.5.0-py3-none-any.whl.metadata (9.2 kB)\n",
      "Requirement already satisfied: h5py>=2.10 in c:\\users\\delgr\\anaconda3\\envs\\datascience1\\lib\\site-packages (from pynwb) (3.10.0)\n",
      "Collecting hdmf>=3.9.0 (from pynwb)\n",
      "  Obtaining dependency information for hdmf>=3.9.0 from https://files.pythonhosted.org/packages/81/45/39e731f25936fb922b800bb5eb8871f8a59beea35b43de8cda951bf7099a/hdmf-3.11.0-py3-none-any.whl.metadata\n",
      "  Downloading hdmf-3.11.0-py3-none-any.whl.metadata (8.8 kB)\n",
      "Requirement already satisfied: numpy>=1.16 in c:\\users\\delgr\\anaconda3\\envs\\datascience1\\lib\\site-packages (from pynwb) (1.26.1)\n",
      "Requirement already satisfied: pandas>=1.1.5 in c:\\users\\delgr\\anaconda3\\envs\\datascience1\\lib\\site-packages (from pynwb) (2.1.2)\n",
      "Requirement already satisfied: python-dateutil>=2.7.3 in c:\\users\\delgr\\anaconda3\\envs\\datascience1\\lib\\site-packages (from pynwb) (2.8.2)\n",
      "Requirement already satisfied: setuptools in c:\\users\\delgr\\anaconda3\\envs\\datascience1\\lib\\site-packages (from pynwb) (68.0.0)\n",
      "Requirement already satisfied: jsonschema>=2.6.0 in c:\\users\\delgr\\anaconda3\\envs\\datascience1\\lib\\site-packages (from hdmf>=3.9.0->pynwb) (4.19.0)\n",
      "Collecting ruamel-yaml>=0.16 (from hdmf>=3.9.0->pynwb)\n",
      "  Obtaining dependency information for ruamel-yaml>=0.16 from https://files.pythonhosted.org/packages/57/db/4b74a29f5fd175aea3ff0d95f8230d9bb8a54e38d963c6f96065b9e2eef3/ruamel.yaml-0.18.5-py3-none-any.whl.metadata\n",
      "  Downloading ruamel.yaml-0.18.5-py3-none-any.whl.metadata (23 kB)\n",
      "Requirement already satisfied: scipy>=1.4 in c:\\users\\delgr\\anaconda3\\envs\\datascience1\\lib\\site-packages (from hdmf>=3.9.0->pynwb) (1.11.1)\n",
      "Requirement already satisfied: pytz>=2020.1 in c:\\users\\delgr\\anaconda3\\envs\\datascience1\\lib\\site-packages (from pandas>=1.1.5->pynwb) (2023.3)\n",
      "Requirement already satisfied: tzdata>=2022.1 in c:\\users\\delgr\\anaconda3\\envs\\datascience1\\lib\\site-packages (from pandas>=1.1.5->pynwb) (2023.3)\n",
      "Requirement already satisfied: six>=1.5 in c:\\users\\delgr\\anaconda3\\envs\\datascience1\\lib\\site-packages (from python-dateutil>=2.7.3->pynwb) (1.16.0)\n",
      "Requirement already satisfied: attrs>=22.2.0 in c:\\users\\delgr\\anaconda3\\envs\\datascience1\\lib\\site-packages (from jsonschema>=2.6.0->hdmf>=3.9.0->pynwb) (23.1.0)\n",
      "Requirement already satisfied: jsonschema-specifications>=2023.03.6 in c:\\users\\delgr\\anaconda3\\envs\\datascience1\\lib\\site-packages (from jsonschema>=2.6.0->hdmf>=3.9.0->pynwb) (2023.7.1)\n",
      "Requirement already satisfied: referencing>=0.28.4 in c:\\users\\delgr\\anaconda3\\envs\\datascience1\\lib\\site-packages (from jsonschema>=2.6.0->hdmf>=3.9.0->pynwb) (0.30.2)\n",
      "Requirement already satisfied: rpds-py>=0.7.1 in c:\\users\\delgr\\anaconda3\\envs\\datascience1\\lib\\site-packages (from jsonschema>=2.6.0->hdmf>=3.9.0->pynwb) (0.9.2)\n",
      "Collecting ruamel.yaml.clib>=0.2.7 (from ruamel-yaml>=0.16->hdmf>=3.9.0->pynwb)\n",
      "  Obtaining dependency information for ruamel.yaml.clib>=0.2.7 from https://files.pythonhosted.org/packages/ec/54/d8a795997921d87224c65d44499ca595a833093fb215b133f920c1062956/ruamel.yaml.clib-0.2.8-cp311-cp311-win_amd64.whl.metadata\n",
      "  Downloading ruamel.yaml.clib-0.2.8-cp311-cp311-win_amd64.whl.metadata (2.3 kB)\n",
      "Using cached pynwb-2.5.0-py3-none-any.whl (133 kB)\n",
      "Downloading hdmf-3.11.0-py3-none-any.whl (331 kB)\n",
      "   ---------------------------------------- 0.0/332.0 kB ? eta -:--:--\n",
      "   ----------- ---------------------------- 92.2/332.0 kB 1.7 MB/s eta 0:00:01\n",
      "   ---------------------------------------- 332.0/332.0 kB 4.1 MB/s eta 0:00:00\n",
      "Downloading ruamel.yaml-0.18.5-py3-none-any.whl (116 kB)\n",
      "   ---------------------------------------- 0.0/116.4 kB ? eta -:--:--\n",
      "   ---------------------------------------- 116.4/116.4 kB ? eta 0:00:00\n",
      "Downloading ruamel.yaml.clib-0.2.8-cp311-cp311-win_amd64.whl (118 kB)\n",
      "   ---------------------------------------- 0.0/118.0 kB ? eta -:--:--\n",
      "   ---------------------------------------- 118.0/118.0 kB 7.2 MB/s eta 0:00:00\n",
      "Installing collected packages: ruamel.yaml.clib, ruamel-yaml, hdmf, pynwb\n",
      "Successfully installed hdmf-3.11.0 pynwb-2.5.0 ruamel-yaml-0.18.5 ruamel.yaml.clib-0.2.8\n"
     ]
    }
   ],
   "source": [
    "#!conda install -c -y conda-forge pynwb\n",
    "# %pip install pynwb"
   ]
  },
  {
   "cell_type": "code",
   "execution_count": 10,
   "id": "a4f91e8f-32b8-4014-a5e2-155dc9cee78e",
   "metadata": {},
   "outputs": [],
   "source": [
    "from datetime import datetime\n",
    "from uuid import uuid4\n",
    "from dateutil import tz\n",
    "\n",
    "import numpy as np\n",
    "\n",
    "from pynwb import NWBHDF5IO, NWBFile, TimeSeries\n",
    "from pynwb.file import Subject"
   ]
  },
  {
   "cell_type": "markdown",
   "id": "a1419ea5",
   "metadata": {},
   "source": [
    "## Creating the `NWBFile` object"
   ]
  },
  {
   "cell_type": "code",
   "execution_count": 4,
   "id": "b6f7d45e-e0cb-45d5-8bf1-755e9f53c8fd",
   "metadata": {},
   "outputs": [
    {
     "data": {
      "text/html": [
       "\n",
       "        <style>\n",
       "            .container-fields {\n",
       "                font-family: \"Open Sans\", Arial, sans-serif;\n",
       "            }\n",
       "            .container-fields .field-value {\n",
       "                color: #00788E;\n",
       "            }\n",
       "            .container-fields details > summary {\n",
       "                cursor: pointer;\n",
       "                display: list-item;\n",
       "            }\n",
       "            .container-fields details > summary:hover {\n",
       "                color: #0A6EAA;\n",
       "            }\n",
       "        </style>\n",
       "        \n",
       "        <script>\n",
       "            function copyToClipboard(text) {\n",
       "                navigator.clipboard.writeText(text).then(function() {\n",
       "                    console.log('Copied to clipboard: ' + text);\n",
       "                }, function(err) {\n",
       "                    console.error('Could not copy text: ', err);\n",
       "                });\n",
       "            }\n",
       "\n",
       "            document.addEventListener('DOMContentLoaded', function() {\n",
       "                let fieldKeys = document.querySelectorAll('.container-fields .field-key');\n",
       "                fieldKeys.forEach(function(fieldKey) {\n",
       "                    fieldKey.addEventListener('click', function() {\n",
       "                        let accessCode = fieldKey.getAttribute('title').replace('Access code: ', '');\n",
       "                        copyToClipboard(accessCode);\n",
       "                    });\n",
       "                });\n",
       "            });\n",
       "        </script>\n",
       "        <div class='container-wrap'><div class='container-header'><div class='xr-obj-type'><h3>root (NWBFile)</h3></div></div><div style=\"margin-left: 0px;\" class=\"container-fields\"><span class=\"field-key\" title=\".fields['session_description']\">session_description:</span> <span class=\"field-value\">Mouse exploring an open field</span></div><div style=\"margin-left: 0px;\" class=\"container-fields\"><span class=\"field-key\" title=\".fields['identifier']\">identifier:</span> <span class=\"field-value\">e83f547a-c693-487c-a4a2-8493d63bcdb2</span></div><div style=\"margin-left: 0px;\" class=\"container-fields\"><span class=\"field-key\" title=\".fields['session_start_time']\">session_start_time:</span> <span class=\"field-value\">2018-04-25 02:30:03-07:00</span></div><div style=\"margin-left: 0px;\" class=\"container-fields\"><span class=\"field-key\" title=\".fields['timestamps_reference_time']\">timestamps_reference_time:</span> <span class=\"field-value\">2018-04-25 02:30:03-07:00</span></div><details><summary style=\"display: list-item; margin-left: 0px;\" class=\"container-fields field-key\" title=\".fields['file_create_date']\"><b>file_create_date</b></summary><div style=\"margin-left: 20px;\" class=\"container-fields\"><span class=\"field-value\" title=\".fields['file_create_date'][0]\">2023-12-12 14:21:33.989254+01:00</span></div></details><details><summary style=\"display: list-item; margin-left: 0px;\" class=\"container-fields field-key\" title=\".fields['experimenter']\"><b>experimenter</b></summary><div style=\"margin-left: 20px;\" class=\"container-fields\"><span class=\"field-value\" title=\".fields['experimenter'][0]\">Baggins, Bilbo</span></div></details><div style=\"margin-left: 0px;\" class=\"container-fields\"><span class=\"field-key\" title=\".fields['related_publications']\">related_publications:</span> <span class=\"field-value\">('DOI:10.1016/j.neuron.2016.12.011',)</span></div><div style=\"margin-left: 0px;\" class=\"container-fields\"><span class=\"field-key\" title=\".fields['epoch_tags']\">epoch_tags:</span> <span class=\"field-value\">set()</span></div><div style=\"margin-left: 0px;\" class=\"container-fields\"><span class=\"field-key\" title=\".fields['experiment_description']\">experiment_description:</span> <span class=\"field-value\">I went on an adventure to reclaim vast treasures.</span></div><div style=\"margin-left: 0px;\" class=\"container-fields\"><span class=\"field-key\" title=\".fields['session_id']\">session_id:</span> <span class=\"field-value\">session_1234</span></div><div style=\"margin-left: 0px;\" class=\"container-fields\"><span class=\"field-key\" title=\".fields['lab']\">lab:</span> <span class=\"field-value\">Bag End Laboratory</span></div><div style=\"margin-left: 0px;\" class=\"container-fields\"><span class=\"field-key\" title=\".fields['institution']\">institution:</span> <span class=\"field-value\">University of My Institution</span></div></div>"
      ],
      "text/plain": [
       "root pynwb.file.NWBFile at 0x1987790799888\n",
       "Fields:\n",
       "  experiment_description: I went on an adventure to reclaim vast treasures.\n",
       "  experimenter: ['Baggins, Bilbo']\n",
       "  file_create_date: [datetime.datetime(2023, 12, 12, 14, 21, 33, 989254, tzinfo=tzlocal())]\n",
       "  identifier: e83f547a-c693-487c-a4a2-8493d63bcdb2\n",
       "  institution: University of My Institution\n",
       "  lab: Bag End Laboratory\n",
       "  related_publications: ['DOI:10.1016/j.neuron.2016.12.011']\n",
       "  session_description: Mouse exploring an open field\n",
       "  session_id: session_1234\n",
       "  session_start_time: 2018-04-25 02:30:03-07:00\n",
       "  timestamps_reference_time: 2018-04-25 02:30:03-07:00"
      ]
     },
     "execution_count": 4,
     "metadata": {},
     "output_type": "execute_result"
    }
   ],
   "source": [
    "nwbfile = NWBFile(\n",
    "    \n",
    "    # Required Inputs\n",
    "    session_description=\"Mouse exploring an open field\",\n",
    "    identifier=str(uuid4()), \n",
    "    session_start_time=datetime(2018, 4, 25, 2, 30, 3, tzinfo=tz.gettz(\"US/Pacific\")), \n",
    "\n",
    "    # Optional Inputs\n",
    "    session_id=\"session_1234\", \n",
    "    experimenter=[\"Baggins, Bilbo\"],\n",
    "    lab=\"Bag End Laboratory\",  \n",
    "    institution=\"University of My Institution\",  \n",
    "    experiment_description=\"I went on an adventure to reclaim vast treasures.\",  \n",
    "    related_publications=\"DOI:10.1016/j.neuron.2016.12.011\",  \n",
    ")\n",
    "nwbfile"
   ]
  },
  {
   "cell_type": "markdown",
   "id": "5a16a714-0069-4490-b310-bfce95f6a310",
   "metadata": {},
   "source": [
    "## Add a `Subject` to a File"
   ]
  },
  {
   "cell_type": "code",
   "execution_count": 3,
   "id": "59167816-7814-4067-a1e6-4b6f4d9ce991",
   "metadata": {},
   "outputs": [
    {
     "data": {
      "text/html": [
       "\n",
       "        <style>\n",
       "            .container-fields {\n",
       "                font-family: \"Open Sans\", Arial, sans-serif;\n",
       "            }\n",
       "            .container-fields .field-value {\n",
       "                color: #00788E;\n",
       "            }\n",
       "            .container-fields details > summary {\n",
       "                cursor: pointer;\n",
       "                display: list-item;\n",
       "            }\n",
       "            .container-fields details > summary:hover {\n",
       "                color: #0A6EAA;\n",
       "            }\n",
       "        </style>\n",
       "        \n",
       "        <script>\n",
       "            function copyToClipboard(text) {\n",
       "                navigator.clipboard.writeText(text).then(function() {\n",
       "                    console.log('Copied to clipboard: ' + text);\n",
       "                }, function(err) {\n",
       "                    console.error('Could not copy text: ', err);\n",
       "                });\n",
       "            }\n",
       "\n",
       "            document.addEventListener('DOMContentLoaded', function() {\n",
       "                let fieldKeys = document.querySelectorAll('.container-fields .field-key');\n",
       "                fieldKeys.forEach(function(fieldKey) {\n",
       "                    fieldKey.addEventListener('click', function() {\n",
       "                        let accessCode = fieldKey.getAttribute('title').replace('Access code: ', '');\n",
       "                        copyToClipboard(accessCode);\n",
       "                    });\n",
       "                });\n",
       "            });\n",
       "        </script>\n",
       "        <div class='container-wrap'><div class='container-header'><div class='xr-obj-type'><h3>subject (Subject)</h3></div></div><div style=\"margin-left: 0px;\" class=\"container-fields\"><span class=\"field-key\" title=\".fields['age']\">age:</span> <span class=\"field-value\">P90D</span></div><div style=\"margin-left: 0px;\" class=\"container-fields\"><span class=\"field-key\" title=\".fields['age__reference']\">age__reference:</span> <span class=\"field-value\">birth</span></div><div style=\"margin-left: 0px;\" class=\"container-fields\"><span class=\"field-key\" title=\".fields['description']\">description:</span> <span class=\"field-value\">mouse 5</span></div><div style=\"margin-left: 0px;\" class=\"container-fields\"><span class=\"field-key\" title=\".fields['sex']\">sex:</span> <span class=\"field-value\">M</span></div><div style=\"margin-left: 0px;\" class=\"container-fields\"><span class=\"field-key\" title=\".fields['species']\">species:</span> <span class=\"field-value\">Mus musculus</span></div><div style=\"margin-left: 0px;\" class=\"container-fields\"><span class=\"field-key\" title=\".fields['subject_id']\">subject_id:</span> <span class=\"field-value\">001</span></div></div>"
      ],
      "text/plain": [
       "subject pynwb.file.Subject at 0x140679058853696\n",
       "Fields:\n",
       "  age: P90D\n",
       "  age__reference: birth\n",
       "  description: mouse 5\n",
       "  sex: M\n",
       "  species: Mus musculus\n",
       "  subject_id: 001"
      ]
     },
     "execution_count": 3,
     "metadata": {},
     "output_type": "execute_result"
    }
   ],
   "source": [
    "subject = Subject(\n",
    "    subject_id=\"001\",\n",
    "    age=\"P90D\",\n",
    "    description=\"mouse 5\",\n",
    "    species=\"Mus musculus\",\n",
    "    sex=\"M\",\n",
    ")\n",
    "\n",
    "nwbfile.subject = subject\n",
    "subject"
   ]
  },
  {
   "cell_type": "markdown",
   "id": "95e53106-43dc-491f-ad55-1aede1610dbe",
   "metadata": {},
   "source": [
    "## Add trials\n",
    "\n",
    "For each trial, you can have a column, complete with metadata about the variable. Trial-level data can be made into a Pandas DataFrame with the `to_dataframe()` method."
   ]
  },
  {
   "cell_type": "code",
   "execution_count": 8,
   "id": "39914ea9-95bc-4dc8-832c-db613e2f9722",
   "metadata": {},
   "outputs": [
    {
     "data": {
      "text/html": [
       "<div>\n",
       "<style scoped>\n",
       "    .dataframe tbody tr th:only-of-type {\n",
       "        vertical-align: middle;\n",
       "    }\n",
       "\n",
       "    .dataframe tbody tr th {\n",
       "        vertical-align: top;\n",
       "    }\n",
       "\n",
       "    .dataframe thead th {\n",
       "        text-align: right;\n",
       "    }\n",
       "</style>\n",
       "<table border=\"1\" class=\"dataframe\">\n",
       "  <thead>\n",
       "    <tr style=\"text-align: right;\">\n",
       "      <th></th>\n",
       "      <th>start_time</th>\n",
       "      <th>stop_time</th>\n",
       "      <th>correct</th>\n",
       "    </tr>\n",
       "    <tr>\n",
       "      <th>id</th>\n",
       "      <th></th>\n",
       "      <th></th>\n",
       "      <th></th>\n",
       "    </tr>\n",
       "  </thead>\n",
       "  <tbody>\n",
       "    <tr>\n",
       "      <th>0</th>\n",
       "      <td>1.0</td>\n",
       "      <td>5.0</td>\n",
       "      <td>True</td>\n",
       "    </tr>\n",
       "    <tr>\n",
       "      <th>1</th>\n",
       "      <td>6.0</td>\n",
       "      <td>10.0</td>\n",
       "      <td>False</td>\n",
       "    </tr>\n",
       "    <tr>\n",
       "      <th>2</th>\n",
       "      <td>1.0</td>\n",
       "      <td>5.0</td>\n",
       "      <td>True</td>\n",
       "    </tr>\n",
       "    <tr>\n",
       "      <th>3</th>\n",
       "      <td>6.0</td>\n",
       "      <td>10.0</td>\n",
       "      <td>False</td>\n",
       "    </tr>\n",
       "  </tbody>\n",
       "</table>\n",
       "</div>"
      ],
      "text/plain": [
       "    start_time  stop_time  correct\n",
       "id                                \n",
       "0          1.0        5.0     True\n",
       "1          6.0       10.0    False\n",
       "2          1.0        5.0     True\n",
       "3          6.0       10.0    False"
      ]
     },
     "execution_count": 8,
     "metadata": {},
     "output_type": "execute_result"
    }
   ],
   "source": [
    "nwbfile.add_trial_column(\n",
    "    name=\"correct\",\n",
    "    description=\"whether the trial was correct\",\n",
    ")\n",
    "nwbfile.add_trial(start_time=1.0, stop_time=5.0, correct=True)\n",
    "nwbfile.add_trial(start_time=6.0, stop_time=10.0, correct=False)\n",
    "nwbfile.trials.to_dataframe()"
   ]
  },
  {
   "cell_type": "markdown",
   "id": "a9fab5b0-a001-4b7d-be20-f5411e36d1e7",
   "metadata": {},
   "source": [
    "## Save"
   ]
  },
  {
   "cell_type": "code",
   "execution_count": 11,
   "id": "1adf7951-c6dc-4742-836c-a5630202f17f",
   "metadata": {},
   "outputs": [],
   "source": [
    "with NWBHDF5IO(\"basics_tutorial.nwb\", \"w\") as io:\n",
    "    io.write(nwbfile)"
   ]
  },
  {
   "cell_type": "markdown",
   "id": "813c6333-4049-4a05-b2c3-bbfe4c1fc0ac",
   "metadata": {},
   "source": [
    "## Load"
   ]
  },
  {
   "cell_type": "code",
   "execution_count": 12,
   "id": "b4e83fce-7254-4e60-936b-f90c26f1bdfc",
   "metadata": {},
   "outputs": [],
   "source": [
    "with NWBHDF5IO(\"basics_tutorial.nwb\", \"r\") as io:\n",
    "    read_nwbfile = io.read()"
   ]
  }
 ],
 "metadata": {
  "kernelspec": {
   "display_name": "Python 3 (ipykernel)",
   "language": "python",
   "name": "python3"
  },
  "language_info": {
   "codemirror_mode": {
    "name": "ipython",
    "version": 3
   },
   "file_extension": ".py",
   "mimetype": "text/x-python",
   "name": "python",
   "nbconvert_exporter": "python",
   "pygments_lexer": "ipython3",
   "version": "3.11.4"
  }
 },
 "nbformat": 4,
 "nbformat_minor": 5
}
