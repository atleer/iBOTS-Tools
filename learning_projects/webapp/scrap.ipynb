{
 "cells": [
  {
   "cell_type": "markdown",
   "metadata": {},
   "source": [
    "## Streamlit"
   ]
  },
  {
   "cell_type": "markdown",
   "metadata": {},
   "source": [
    "Key points to remember\n",
    "\n",
    "1. Callbacks can be passed to widgets\n",
    "2. ```st.cache_data``` decorator for caching\n",
    "3. `Magic commands` to write in markdown, data, charts without explicitly writing commands\n",
    "4. ```st.write()``` can automatically figure out type (text, data, matplotlib, etc) and render output\n",
    "5. Widgets: can also be accessed by specifying ```key='name'```\n",
    "6. Checkboxes\n",
    "7. Selectboxes for multiple options\n",
    "8. Several methods for customizing UI layout\n",
    "   1. organize widget in a sidebar\n",
    "   2. column arrangement\n",
    "   3. hide large content\n",
    "9. show time progress\n",
    "10. Dark and light theme\n",
    "11. Organize into pages by creating folder named `pages`"
   ]
  },
  {
   "cell_type": "markdown",
   "metadata": {},
   "source": [
    "Cache data\n",
    "1. Check function names and input params (eg p1,p2)\n",
    "2. If it is the first time the funciton is called with p1 and p2, then run the function and cache the value\n",
    "3. If same function is called again with same params, then don't run the function. Return cache value      \n",
    "\n",
    "```st.cache_data```\n",
    "1. recommended for functions that return data\n",
    "2. UNSURE? use this\n",
    "3. for things that can be stored in database\n",
    "\n",
    "```st.cache_resource```\n",
    "1. for global resources (ML models, database connections)\n",
    "2. for things that cannot be stored in a database\n",
    "\n"
   ]
  },
  {
   "cell_type": "code",
   "execution_count": 1,
   "metadata": {},
   "outputs": [],
   "source": [
    "import streamlit as st"
   ]
  }
 ],
 "metadata": {
  "kernelspec": {
   "display_name": "Python 3",
   "language": "python",
   "name": "python3"
  },
  "language_info": {
   "codemirror_mode": {
    "name": "ipython",
    "version": 3
   },
   "file_extension": ".py",
   "mimetype": "text/x-python",
   "name": "python",
   "nbconvert_exporter": "python",
   "pygments_lexer": "ipython3",
   "version": "3.8.10"
  },
  "orig_nbformat": 4
 },
 "nbformat": 4,
 "nbformat_minor": 2
}
