{
 "cells": [
  {
   "cell_type": "markdown",
   "metadata": {},
   "source": [
    "Text encoding for uuid"
   ]
  },
  {
   "cell_type": "code",
   "execution_count": 1,
   "metadata": {},
   "outputs": [],
   "source": [
    "import urllib.parse\n",
    "import api\n",
    "import zoom_integration"
   ]
  },
  {
   "cell_type": "code",
   "execution_count": 2,
   "metadata": {},
   "outputs": [
    {
     "data": {
      "text/plain": [
       "b'iJmk+imDQmugWQGtDIyRvg=='"
      ]
     },
     "execution_count": 2,
     "metadata": {},
     "output_type": "execute_result"
    }
   ],
   "source": [
    "uuid = \"iJmk+imDQmugWQGtDIyRvg==\"\n",
    "uuid.encode()\n",
    "# NOT CORRECT"
   ]
  },
  {
   "cell_type": "code",
   "execution_count": 3,
   "metadata": {},
   "outputs": [
    {
     "data": {
      "text/plain": [
       "'iJmk%2BimDQmugWQGtDIyRvg%3D%3D'"
      ]
     },
     "execution_count": 3,
     "metadata": {},
     "output_type": "execute_result"
    }
   ],
   "source": [
    "uuid_single_encode = urllib.parse.quote_plus(uuid)\n",
    "uuid_single_encode"
   ]
  },
  {
   "cell_type": "code",
   "execution_count": 4,
   "metadata": {},
   "outputs": [
    {
     "data": {
      "text/plain": [
       "'iJmk%252BimDQmugWQGtDIyRvg%253D%253D'"
      ]
     },
     "execution_count": 4,
     "metadata": {},
     "output_type": "execute_result"
    }
   ],
   "source": [
    "urllib.parse.quote_plus(uuid_single_encode)\n"
   ]
  },
  {
   "cell_type": "code",
   "execution_count": 5,
   "metadata": {},
   "outputs": [
    {
     "data": {
      "text/plain": [
       "AttendanceReport(names=['Sangeetha Nandakumar', 'Nicholas Del Grosso', 'Oliver Barnstedt'], durations_min=[191.0, 182.0, 156.0])"
      ]
     },
     "execution_count": 5,
     "metadata": {},
     "output_type": "execute_result"
    }
   ],
   "source": [
    "meeting_id = \"iJmk+imDQmugWQGtDIyRvg==\"\n",
    "token_data = zoom_integration.create_access_token()['access_token']\n",
    "    # WHEN\n",
    "report = api.get_attendance_report(token=token_data, meeting_id=meeting_id)\n",
    "report"
   ]
  },
  {
   "cell_type": "code",
   "execution_count": 7,
   "metadata": {},
   "outputs": [
    {
     "data": {
      "text/plain": [
       "{'page_count': 1,\n",
       " 'page_size': 30,\n",
       " 'total_records': 4,\n",
       " 'next_page_token': '',\n",
       " 'participants': [{'id': 'ir7224fHQ26jH0KEIYfy6w',\n",
       "   'user_id': '16778240',\n",
       "   'name': 'Sangeetha Nandakumar',\n",
       "   'user_email': 'sangeethanandakumar0694@gmail.com',\n",
       "   'join_time': '2023-07-03T07:26:51Z',\n",
       "   'leave_time': '2023-07-03T10:37:31Z',\n",
       "   'duration': 11440,\n",
       "   'attentiveness_score': '',\n",
       "   'failover': False,\n",
       "   'status': 'in_meeting',\n",
       "   'customer_key': '',\n",
       "   'participant_user_id': 'ir7224fHQ26jH0KEIYfy6w'},\n",
       "  {'id': 'yJky_gcpRXqrN5Ut-KAxZg',\n",
       "   'user_id': '16779264',\n",
       "   'name': 'Nicholas Del Grosso',\n",
       "   'user_email': 'delgrosso.nick@gmail.com',\n",
       "   'join_time': '2023-07-03T07:35:03Z',\n",
       "   'leave_time': '2023-07-03T10:37:31Z',\n",
       "   'duration': 10948,\n",
       "   'attentiveness_score': '',\n",
       "   'failover': False,\n",
       "   'status': 'in_meeting',\n",
       "   'customer_key': '',\n",
       "   'participant_user_id': 'yJky_gcpRXqrN5Ut-KAxZg'},\n",
       "  {'id': '',\n",
       "   'user_id': '16780288',\n",
       "   'name': 'Oliver Barnstedt',\n",
       "   'user_email': '',\n",
       "   'join_time': '2023-07-03T07:42:49Z',\n",
       "   'leave_time': '2023-07-03T10:18:20Z',\n",
       "   'duration': 9331,\n",
       "   'attentiveness_score': '',\n",
       "   'failover': False,\n",
       "   'status': 'in_meeting',\n",
       "   'customer_key': ''},\n",
       "  {'id': '',\n",
       "   'user_id': '33555456',\n",
       "   'name': 'Oliver Barnstedt',\n",
       "   'user_email': '',\n",
       "   'join_time': '2023-07-03T07:40:01Z',\n",
       "   'leave_time': '2023-07-03T07:42:49Z',\n",
       "   'duration': 168,\n",
       "   'attentiveness_score': '',\n",
       "   'failover': False,\n",
       "   'status': 'in_waiting_room',\n",
       "   'customer_key': ''}]}"
      ]
     },
     "execution_count": 7,
     "metadata": {},
     "output_type": "execute_result"
    }
   ],
   "source": [
    "token_data = zoom_integration.create_access_token()['access_token']\n",
    "\n",
    "zoom_integration.get_participant_report(token_data, 87870712552)"
   ]
  },
  {
   "cell_type": "code",
   "execution_count": 6,
   "metadata": {},
   "outputs": [
    {
     "data": {
      "text/plain": [
       "{'uuid': 'iJmk+imDQmugWQGtDIyRvg==',\n",
       " 'id': 87870712552,\n",
       " 'host_id': 'yJky_gcpRXqrN5Ut-KAxZg',\n",
       " 'type': 2,\n",
       " 'topic': 'MouseFlow Refactoring',\n",
       " 'user_name': 'Nicholas Del Grosso',\n",
       " 'user_email': 'delgrosso.nick@gmail.com',\n",
       " 'start_time': '2023-07-03T07:26:51Z',\n",
       " 'end_time': '2023-07-03T10:37:31Z',\n",
       " 'duration': 191,\n",
       " 'total_minutes': 532,\n",
       " 'participants_count': 3,\n",
       " 'tracking_fields': [],\n",
       " 'dept': ''}"
      ]
     },
     "execution_count": 6,
     "metadata": {},
     "output_type": "execute_result"
    }
   ],
   "source": [
    "# token_data = zoom_integration.create_access_token()['access_token']\n",
    "\n",
    "# zoom_integration.get_meeting_details(token_data, 87870712552)"
   ]
  }
 ],
 "metadata": {
  "kernelspec": {
   "display_name": "Python 3",
   "language": "python",
   "name": "python3"
  },
  "language_info": {
   "codemirror_mode": {
    "name": "ipython",
    "version": 3
   },
   "file_extension": ".py",
   "mimetype": "text/x-python",
   "name": "python",
   "nbconvert_exporter": "python",
   "pygments_lexer": "ipython3",
   "version": "3.8.10"
  },
  "orig_nbformat": 4
 },
 "nbformat": 4,
 "nbformat_minor": 2
}
